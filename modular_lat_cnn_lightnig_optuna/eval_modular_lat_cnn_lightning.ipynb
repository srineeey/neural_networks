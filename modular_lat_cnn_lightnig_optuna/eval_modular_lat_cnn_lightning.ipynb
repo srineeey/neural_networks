{
 "cells": [
  {
   "cell_type": "code",
   "execution_count": 1,
   "metadata": {},
   "outputs": [],
   "source": [
    "import numpy as np\n",
    "import pandas as pd\n",
    "import matplotlib.pyplot as plt\n",
    "import seaborn as sns\n",
    "\n",
    "import os\n",
    "import glob\n",
    "import time\n",
    "\n",
    "import pickle\n",
    "\n",
    "import torch\n",
    "import torch.nn as nn\n",
    "import torch.nn.functional as F\n",
    "import torch.optim as optim\n",
    "\n",
    "import torchvision\n",
    "\n",
    "import pytorch_lightning as pl\n",
    "\n",
    "import sklearn\n",
    "import functools\n",
    "import operator\n",
    "\n",
    "import sys\n",
    "\n",
    "import optuna\n",
    "\n",
    "sys.path.insert(1,\"/home/sbulusu/qcd_ml/neural_networks/libs/\")\n",
    "\n",
    "import lat_dataset_load_new_lightning\n",
    "#import struct_torch_net_class_lightning\n",
    "import custom_torch_net_class_lightning\n",
    "\n",
    "import utils\n",
    "\n",
    "from tqdm.notebook import tqdm"
   ]
  },
  {
   "cell_type": "code",
   "execution_count": 2,
   "metadata": {},
   "outputs": [
    {
     "name": "stdout",
     "output_type": "stream",
     "text": [
      "Utilizing CUDA\n"
     ]
    }
   ],
   "source": [
    "if torch.cuda.is_available():\n",
    "    device = torch.device(\"cuda:0\")\n",
    "    print(\"Utilizing CUDA\")\n",
    "else:\n",
    "    device = torch.device(\"cpu\")\n",
    "    print(\"Utilizing CPU\")"
   ]
  },
  {
   "cell_type": "code",
   "execution_count": 3,
   "metadata": {},
   "outputs": [],
   "source": [
    "random_seed = 42\n",
    "np.random.seed(random_seed)\n",
    "torch.manual_seed(random_seed)\n",
    "torch.cuda.manual_seed(random_seed)\n",
    "torch.backends.cudnn.enabled = False\n",
    "torch.backends.cudnn.deterministic = True"
   ]
  },
  {
   "cell_type": "code",
   "execution_count": 4,
   "metadata": {},
   "outputs": [
    {
     "data": {
      "text/plain": [
       "{'lr': 8.26508087293339e-05, 'bs': 16}"
      ]
     },
     "execution_count": 4,
     "metadata": {},
     "output_type": "execute_result"
    }
   ],
   "source": [
    "pickle_file = open(\"study.pickle\", \"rb\")\n",
    "study = pickle.load(pickle_file)\n",
    "study.best_params"
   ]
  },
  {
   "cell_type": "code",
   "execution_count": 5,
   "metadata": {},
   "outputs": [
    {
     "data": {
      "text/plain": [
       "FrozenTrial(number=13, value=5.618940690510499e-07, datetime_start=datetime.datetime(2020, 6, 1, 0, 39, 57, 816978), datetime_complete=datetime.datetime(2020, 6, 1, 1, 3, 0, 881130), params={'lr': 8.26508087293339e-05, 'bs': 16}, distributions={'lr': LogUniformDistribution(high=0.0001, low=1e-07), 'bs': CategoricalDistribution(choices=(16, 32, 64, 128))}, user_attrs={}, system_attrs={}, intermediate_values={0: 0.040456730872392654, 1: 0.02319682575762272, 2: 0.011280376464128494, 3: 0.004097307566553354, 4: 0.001124523812904954, 5: 0.000464783952338621, 6: 0.00031903485069051385, 7: 0.0002300420601386577, 8: 0.00017536774976179004, 9: 0.0001359724410576746, 10: 0.00012116153084207326, 11: 0.00010295883839717135, 12: 8.287100354209542e-05, 13: 7.70455299061723e-05, 14: 5.8144007198279724e-05, 15: 5.0760048907250166e-05, 16: 4.2363200918771327e-05, 17: 3.769999966607429e-05, 18: 3.4139618946937844e-05, 19: 3.175929668941535e-05, 20: 2.8828817448811606e-05, 21: 2.795845466607716e-05, 22: 2.408630280115176e-05, 23: 2.3455660993931815e-05, 24: 2.1015617676312104e-05, 25: 2.0337505702627823e-05, 26: 1.8284246834809892e-05, 27: 1.7469395970692858e-05, 28: 1.590110878169071e-05, 29: 1.6020601833588444e-05, 30: 1.5858810002100654e-05, 31: 1.4391375771083403e-05, 32: 1.3413187843980268e-05, 33: 1.217775479744887e-05, 34: 1.1596587683015969e-05, 35: 1.0886535164900124e-05, 36: 1.0384301276644692e-05, 37: 9.996122571465094e-06, 38: 1.0970210496452637e-05, 39: 9.70693236013176e-06, 40: 9.401202078151982e-06, 41: 8.465324754070025e-06, 42: 8.02029808255611e-06, 43: 8.277717824967112e-06, 44: 7.57408406570903e-06, 45: 7.776076927257236e-06, 46: 7.111202194209909e-06, 47: 7.383909633063013e-06, 48: 7.404290045087691e-06, 49: 6.408800800272729e-06, 50: 6.904318070155568e-06, 51: 8.142291335389018e-06, 52: 6.908032446517609e-06, 53: 5.6805447457008995e-06, 54: 5.721681191062089e-06, 55: 5.9673893701983616e-06, 56: 5.3195094551483635e-06, 57: 5.348961167328525e-06, 58: 5.209537448536139e-06, 59: 6.60696923659998e-06, 60: 5.047105787525652e-06, 61: 5.125574716657866e-06, 62: 4.803415777132614e-06, 63: 5.482036613102537e-06, 64: 4.611231361195678e-06, 65: 4.713592261396116e-06, 66: 4.432974037626991e-06, 67: 5.183864232094493e-06, 68: 4.506972800299991e-06, 69: 4.8642486945027485e-06, 70: 4.045254627271788e-06, 71: 3.951190137740923e-06, 72: 4.116556738154031e-06, 73: 3.867623036057921e-06, 74: 4.097522378287977e-06, 75: 4.851793619309319e-06, 76: 4.0150771383196115e-06, 77: 3.4873514778155368e-06, 78: 4.573571459332015e-06, 79: 3.4798181332007516e-06, 80: 3.4192853490822017e-06, 81: 3.6649093999585602e-06, 82: 3.2824475511006312e-06, 83: 3.234460791645688e-06, 84: 3.2783057122287573e-06, 85: 3.5354200917936396e-06, 86: 3.1353190479421755e-06, 87: 5.193384367885301e-06, 88: 3.02387161355e-06, 89: 3.2153368465515086e-06, 90: 3.013895593539928e-06, 91: 2.8136910259490833e-06, 92: 4.220147729938617e-06, 93: 3.82079178962158e-06, 94: 2.832986410794547e-06, 95: 2.8330564418865833e-06, 96: 3.724551561390399e-06, 97: 2.4849966848705662e-06, 98: 2.467437525410787e-06, 99: 2.724489604588598e-06, 100: 2.797125944198342e-06, 101: 3.204795575584285e-06, 102: 2.244058350697742e-06, 103: 2.5645035748311784e-06, 104: 2.417024234091514e-06, 105: 3.3645799248915864e-06, 106: 3.1367990231956355e-06, 107: 2.2594349502469413e-06, 108: 2.2058779904909898e-06, 109: 2.5651818305050256e-06, 110: 2.724718797253445e-06, 111: 2.0096292701055063e-06, 112: 2.4218072667281376e-06, 113: 2.6670052193367155e-06, 114: 1.792738430594909e-06, 115: 1.8590067156765144e-06, 116: 1.740379047987517e-06, 117: 1.5880326600381522e-06, 118: 2.6844047624763334e-06, 119: 2.1007210762036266e-06, 120: 2.3414042971126037e-06, 121: 2.2175684080139035e-06, 122: 1.6103239204312558e-06, 123: 1.616578629182186e-06, 124: 1.6775286439951742e-06, 125: 1.6388377162002143e-06, 126: 1.7363530560032814e-06, 127: 1.441915969735419e-06, 128: 1.332591409664019e-06, 129: 1.3515751788872876e-06, 130: 1.5608135299771675e-06, 131: 1.2546854577522026e-06, 132: 1.251831122317526e-06, 133: 1.2144918173362385e-06, 134: 1.1731334552678163e-06, 135: 1.3904628985983436e-06, 136: 1.5323101933972794e-06, 137: 1.4106886965237209e-06, 138: 1.2796519968105713e-06, 139: 1.3781548204860883e-06, 140: 1.3085500540910289e-06, 141: 1.2472031585275545e-06, 142: 1.2837972462875769e-06, 143: 1.0600028872431722e-06, 144: 1.035016907735553e-06, 145: 1.0029630175267812e-06, 146: 1.44746707064769e-06, 147: 1.0123912943527102e-06, 148: 1.157689439423848e-06, 149: 9.227026112057501e-07, 150: 1.0127261020898004e-06, 151: 9.460438832320506e-07, 152: 1.2294910902710399e-06, 153: 9.912431551128975e-07, 154: 1.022330138766847e-06, 155: 9.517526677882415e-07, 156: 1.18357593237306e-06, 157: 1.4226708344722283e-06, 158: 8.990427886601537e-07, 159: 8.058386811171658e-07, 160: 7.814261380190146e-07, 161: 8.286698403026094e-07, 162: 8.161712230503326e-07, 163: 9.66551397141302e-07, 164: 1.8268790427100612e-06, 165: 7.682174327783287e-07, 166: 9.182367648463696e-07, 167: 9.36348328650638e-07, 168: 9.139430972027185e-07, 169: 7.445652272508596e-07, 170: 7.045565553198685e-07, 171: 1.0301932888978627e-06, 172: 7.075626626829035e-07, 173: 7.329724098781298e-07, 174: 7.144722076191101e-07, 175: 8.631648142909398e-07, 176: 1.1873605672008125e-06, 177: 9.887593250823556e-07, 178: 7.016067229415057e-07, 179: 6.757501296306145e-07, 180: 6.272084078773332e-07, 181: 6.681686954834731e-07, 182: 7.127471803869412e-07, 183: 6.970607842049503e-07, 184: 9.406621757079847e-07, 185: 5.970051120129938e-07, 186: 6.968298862375377e-07, 187: 6.28463851626293e-07, 188: 6.438583568524336e-07, 189: 8.418121524300659e-07, 190: 6.632778308812703e-07, 191: 7.391154213109985e-07, 192: 5.907430136176117e-07, 193: 5.805497949040728e-07, 194: 7.476799623873376e-07, 195: 8.375552624784177e-07, 196: 6.184970402500767e-07, 197: 7.528238938903087e-07, 198: 5.492576065080357e-07, 199: 5.618940690510499e-07}, trial_id=13, state=TrialState.COMPLETE)"
      ]
     },
     "execution_count": 5,
     "metadata": {},
     "output_type": "execute_result"
    }
   ],
   "source": [
    "study.best_trial"
   ]
  },
  {
   "cell_type": "code",
   "execution_count": 6,
   "metadata": {},
   "outputs": [
    {
     "data": {
      "text/plain": [
       "<matplotlib.collections.PathCollection at 0x7fa04710f690>"
      ]
     },
     "execution_count": 6,
     "metadata": {},
     "output_type": "execute_result"
    },
    {
     "data": {
      "image/png": "[encoded data removed]",
      "text/plain": [
       "<Figure size 432x288 with 1 Axes>"
      ]
     },
     "metadata": {
      "needs_background": "light"
     },
     "output_type": "display_data"
    }
   ],
   "source": [
    "trial_coords = np.zeros((len(study.trials),2))\n",
    "\n",
    "trial_metrics = np.zeros((len(study.trials)))\n",
    "\n",
    "for trial_i, trial in enumerate(study.trials):\n",
    "    par_i = 0\n",
    "    for par_name in trial.params:\n",
    "        trial_coords[trial_i, par_i] = trial.params[par_name]\n",
    "        trial_metrics[trial_i] = trial.value\n",
    "        par_i +=1\n",
    "\n",
    "#fig, ax = plt.figure()\n",
    "#ax.scatter(trial_coords[:,0], trial_coords[:,1], c=trial_metrics, cmap=\"RdBu\")\n",
    "\n",
    "#ax.set_scale(\"log\")\n",
    "plt.xscale(\"log\")\n",
    "plt.yscale(\"log\")\n",
    "plt.scatter(trial_coords[:,0], trial_coords[:,1], c=trial_metrics, cmap=\"RdBu\")"
   ]
  },
  {
   "cell_type": "code",
   "execution_count": 7,
   "metadata": {},
   "outputs": [],
   "source": [
    "checkpoint_path = \"pl_checkpoints/CustomNet-013-epoch=198-val_loss=5.49258E-07.ckpt\""
   ]
  },
  {
   "cell_type": "code",
   "execution_count": 8,
   "metadata": {},
   "outputs": [
    {
     "name": "stdout",
     "output_type": "stream",
     "text": [
      "custom layer operation not defined, assuming previous layer_size for\n",
      "<class 'torch.nn.modules.activation.ReLU'>\n",
      "custom layer operation not defined, assuming previous layer_size for\n",
      "<class 'torch.nn.modules.activation.ReLU'>\n",
      "custom layer operation not defined, assuming previous layer_size for\n",
      "<class 'torch.nn.modules.activation.ReLU'>\n",
      "custom layer operation not defined, assuming previous layer_size for\n",
      "<class 'torch.nn.modules.activation.ReLU'>\n",
      "custom layer operation not defined, assuming previous layer_size for\n",
      "<class 'misc_modules.Mean'>\n"
     ]
    },
    {
     "data": {
      "text/plain": [
       "CustomNet(\n",
       "  (cnn): Net(\n",
       "    (layers): ModuleList(\n",
       "      (0): AsymmetricCircularPadding()\n",
       "      (1): Conv2d(4, 8, kernel_size=[2, 2], stride=[1, 1])\n",
       "      (2): ReLU()\n",
       "      (3): AsymmetricCircularPadding()\n",
       "      (4): Conv2d(8, 8, kernel_size=[1, 1], stride=[1, 1])\n",
       "      (5): ReLU()\n",
       "      (6): AsymmetricCircularPadding()\n",
       "      (7): Conv2d(8, 16, kernel_size=[2, 2], stride=[1, 1])\n",
       "      (8): ReLU()\n",
       "      (9): AsymmetricCircularPadding()\n",
       "      (10): Conv2d(16, 16, kernel_size=[1, 1], stride=[1, 1])\n",
       "      (11): ReLU()\n",
       "      (12): AdaptiveAvgPool2d(output_size=[1, 1])\n",
       "    )\n",
       "  )\n",
       "  (dense1): Net(\n",
       "    (layers): ModuleList(\n",
       "      (0): Reshape()\n",
       "      (1): Mean()\n",
       "    )\n",
       "  )\n",
       "  (loss): MSELoss()\n",
       ")"
      ]
     },
     "execution_count": 8,
     "metadata": {},
     "output_type": "execute_result"
    }
   ],
   "source": [
    "#best_model = custom_torch_net_class_lightning.CustomNet.load_from_checkpoint(checkpoint_path,hyper_parameters)\n",
    "best_model = custom_torch_net_class_lightning.CustomNet.load_from_checkpoint(checkpoint_path)\n",
    "\n",
    "best_model.to(device)\n",
    "\n",
    "best_model.configure_loss()\n",
    "\n",
    "best_model.eval()"
   ]
  },
  {
   "cell_type": "code",
   "execution_count": null,
   "metadata": {},
   "outputs": [],
   "source": []
  },
  {
   "cell_type": "code",
   "execution_count": 9,
   "metadata": {},
   "outputs": [
    {
     "name": "stdout",
     "output_type": "stream",
     "text": [
      "[  2   2  10 200]\n",
      "[  4  10 200]\n",
      "[ -1   2   2  10 200]\n"
     ]
    },
    {
     "data": {
      "application/vnd.jupyter.widget-view+json": {
       "model_id": "c9d38857c5634dfd806bbb3b7d73e3be",
       "version_major": 2,
       "version_minor": 0
      },
      "text/plain": [
       "HBox(children=(FloatProgress(value=0.0, max=29.0), HTML(value='')))"
      ]
     },
     "metadata": {},
     "output_type": "display_data"
    },
    {
     "name": "stdout",
     "output_type": "stream",
     "text": [
      "Read conf file /media/data/sbulusu/datasets/complexworm/Results for CNN/configs-200-10-4.010-1.000-0.945.dat with size :torch.Size([5000, 2, 2, 10, 200])\n",
      "skipping 0.3 of configurations (warm up)\n"
     ]
    },
    {
     "data": {
      "application/vnd.jupyter.widget-view+json": {
       "model_id": "6a506be549b7465f946dd89b366a4d2d",
       "version_major": 2,
       "version_minor": 0
      },
      "text/plain": [
       "HBox(children=(FloatProgress(value=0.0, max=3500.0), HTML(value='')))"
      ]
     },
     "metadata": {},
     "output_type": "display_data"
    },
    {
     "name": "stdout",
     "output_type": "stream",
     "text": [
      "first example loaded:\n",
      "{'conf': tensor([[[[ 0,  0,  0,  ...,  0,  0,  0],\n",
      "          [ 1,  0,  0,  ...,  0,  1,  1],\n",
      "          [ 0,  0,  1,  ...,  0,  0,  0],\n",
      "          ...,\n",
      "          [ 0,  0,  0,  ...,  0,  0,  0],\n",
      "          [ 0,  0,  0,  ...,  0,  0,  0],\n",
      "          [ 0,  0,  0,  ...,  0,  0,  0]],\n",
      "\n",
      "         [[ 0,  0,  0,  ...,  0,  0,  0],\n",
      "          [ 0,  1,  0,  ...,  0, -1,  0],\n",
      "          [ 0,  1, -1,  ...,  0, -1,  0],\n",
      "          ...,\n",
      "          [ 0,  0,  0,  ...,  0,  0,  0],\n",
      "          [ 0,  0,  0,  ...,  0,  0,  0],\n",
      "          [ 0,  0,  0,  ...,  0,  0,  0]]],\n",
      "\n",
      "\n",
      "        [[[ 0,  0,  1,  ...,  0,  0,  1],\n",
      "          [ 0,  0,  0,  ...,  0,  1,  0],\n",
      "          [ 0,  0,  0,  ...,  0,  0,  0],\n",
      "          ...,\n",
      "          [ 0,  0,  0,  ...,  1,  0,  0],\n",
      "          [ 0,  0,  0,  ...,  0,  0,  0],\n",
      "          [ 0,  0,  0,  ...,  0,  0,  1]],\n",
      "\n",
      "         [[ 0,  0,  0,  ...,  0,  0,  0],\n",
      "          [ 0,  0,  0,  ...,  0,  0,  0],\n",
      "          [ 0,  0,  0,  ...,  0,  0,  0],\n",
      "          ...,\n",
      "          [ 0,  1,  1,  ...,  0,  0,  0],\n",
      "          [ 0,  0,  1,  ...,  0,  0,  0],\n",
      "          [ 0,  0,  0,  ...,  0,  1,  0]]]]), 'mu': tensor(0.9450), 'phase': tensor(1.), 'n': tensor(0.1000, dtype=torch.float64), 'phi2': tensor(0.2919, dtype=torch.float64), 'id': 0}\n",
      "\n",
      "Read conf file /media/data/sbulusu/datasets/complexworm/Results for CNN/configs-200-10-4.010-1.000-0.925.dat with size :torch.Size([5000, 2, 2, 10, 200])\n",
      "skipping 0.3 of configurations (warm up)\n"
     ]
    },
    {
     "data": {
      "application/vnd.jupyter.widget-view+json": {
       "model_id": "a8bb0a740639413fa49f2e0adf70b7fd",
       "version_major": 2,
       "version_minor": 0
      },
      "text/plain": [
       "HBox(children=(FloatProgress(value=0.0, max=3500.0), HTML(value='')))"
      ]
     },
     "metadata": {},
     "output_type": "display_data"
    },
    {
     "name": "stdout",
     "output_type": "stream",
     "text": [
      "\n",
      "Read conf file /media/data/sbulusu/datasets/complexworm/Results for CNN/configs-200-10-4.010-1.000-0.970.dat with size :torch.Size([5000, 2, 2, 10, 200])\n",
      "skipping 0.3 of configurations (warm up)\n"
     ]
    },
    {
     "data": {
      "application/vnd.jupyter.widget-view+json": {
       "model_id": "3ad5b71129b14bdc8de926db978647e6",
       "version_major": 2,
       "version_minor": 0
      },
      "text/plain": [
       "HBox(children=(FloatProgress(value=0.0, max=3500.0), HTML(value='')))"
      ]
     },
     "metadata": {},
     "output_type": "display_data"
    },
    {
     "name": "stdout",
     "output_type": "stream",
     "text": [
      "\n",
      "Read conf file /media/data/sbulusu/datasets/complexworm/Results for CNN/configs-200-10-4.010-1.000-0.975.dat with size :torch.Size([5000, 2, 2, 10, 200])\n",
      "skipping 0.3 of configurations (warm up)\n"
     ]
    },
    {
     "data": {
      "application/vnd.jupyter.widget-view+json": {
       "model_id": "aab57201f21a497aa659544e6776c633",
       "version_major": 2,
       "version_minor": 0
      },
      "text/plain": [
       "HBox(children=(FloatProgress(value=0.0, max=3500.0), HTML(value='')))"
      ]
     },
     "metadata": {},
     "output_type": "display_data"
    },
    {
     "name": "stdout",
     "output_type": "stream",
     "text": [
      "\n",
      "Read conf file /media/data/sbulusu/datasets/complexworm/Results for CNN/configs-200-10-4.010-1.000-0.950.dat with size :torch.Size([5000, 2, 2, 10, 200])\n",
      "skipping 0.3 of configurations (warm up)\n"
     ]
    },
    {
     "data": {
      "application/vnd.jupyter.widget-view+json": {
       "model_id": "ab8a8632a9764e37aecd1b3069b315f1",
       "version_major": 2,
       "version_minor": 0
      },
      "text/plain": [
       "HBox(children=(FloatProgress(value=0.0, max=3500.0), HTML(value='')))"
      ]
     },
     "metadata": {},
     "output_type": "display_data"
    },
    {
     "name": "stdout",
     "output_type": "stream",
     "text": [
      "\n",
      "Read conf file /media/data/sbulusu/datasets/complexworm/Results for CNN/configs-200-10-4.010-1.000-0.915.dat with size :torch.Size([5000, 2, 2, 10, 200])\n",
      "skipping 0.3 of configurations (warm up)\n"
     ]
    },
    {
     "data": {
      "application/vnd.jupyter.widget-view+json": {
       "model_id": "8a9f3f9b478c48058f8fd0a976e5b23a",
       "version_major": 2,
       "version_minor": 0
      },
      "text/plain": [
       "HBox(children=(FloatProgress(value=0.0, max=3500.0), HTML(value='')))"
      ]
     },
     "metadata": {},
     "output_type": "display_data"
    },
    {
     "name": "stdout",
     "output_type": "stream",
     "text": [
      "\n",
      "Read conf file /media/data/sbulusu/datasets/complexworm/Results for CNN/configs-200-10-4.010-1.000-0.995.dat with size :torch.Size([5000, 2, 2, 10, 200])\n",
      "skipping 0.3 of configurations (warm up)\n"
     ]
    },
    {
     "data": {
      "application/vnd.jupyter.widget-view+json": {
       "model_id": "ecfd6b0b7e184938b2072601f89a9f9d",
       "version_major": 2,
       "version_minor": 0
      },
      "text/plain": [
       "HBox(children=(FloatProgress(value=0.0, max=3500.0), HTML(value='')))"
      ]
     },
     "metadata": {},
     "output_type": "display_data"
    },
    {
     "name": "stdout",
     "output_type": "stream",
     "text": [
      "\n",
      "Read conf file /media/data/sbulusu/datasets/complexworm/Results for CNN/configs-200-10-4.010-1.000-1.010.dat with size :torch.Size([5000, 2, 2, 10, 200])\n",
      "skipping 0.3 of configurations (warm up)\n"
     ]
    },
    {
     "data": {
      "application/vnd.jupyter.widget-view+json": {
       "model_id": "a7597c3d7e8f4eeaadb8204ecc5f0e3b",
       "version_major": 2,
       "version_minor": 0
      },
      "text/plain": [
       "HBox(children=(FloatProgress(value=0.0, max=3500.0), HTML(value='')))"
      ]
     },
     "metadata": {},
     "output_type": "display_data"
    },
    {
     "name": "stdout",
     "output_type": "stream",
     "text": [
      "\n",
      "Read conf file /media/data/sbulusu/datasets/complexworm/Results for CNN/configs-200-10-4.010-1.000-0.935.dat with size :torch.Size([5000, 2, 2, 10, 200])\n",
      "skipping 0.3 of configurations (warm up)\n"
     ]
    },
    {
     "data": {
      "application/vnd.jupyter.widget-view+json": {
       "model_id": "bc866ea642cf46e9ad554d1b3fe0eb3b",
       "version_major": 2,
       "version_minor": 0
      },
      "text/plain": [
       "HBox(children=(FloatProgress(value=0.0, max=3500.0), HTML(value='')))"
      ]
     },
     "metadata": {},
     "output_type": "display_data"
    },
    {
     "name": "stdout",
     "output_type": "stream",
     "text": [
      "\n",
      "Read conf file /media/data/sbulusu/datasets/complexworm/Results for CNN/configs-200-10-4.010-1.000-0.930.dat with size :torch.Size([5000, 2, 2, 10, 200])\n",
      "skipping 0.3 of configurations (warm up)\n"
     ]
    },
    {
     "data": {
      "application/vnd.jupyter.widget-view+json": {
       "model_id": "2da50b0254a84f90b88508b6ea5ffd65",
       "version_major": 2,
       "version_minor": 0
      },
      "text/plain": [
       "HBox(children=(FloatProgress(value=0.0, max=3500.0), HTML(value='')))"
      ]
     },
     "metadata": {},
     "output_type": "display_data"
    },
    {
     "name": "stdout",
     "output_type": "stream",
     "text": [
      "\n",
      "Read conf file /media/data/sbulusu/datasets/complexworm/Results for CNN/configs-200-10-4.010-1.000-1.015.dat with size :torch.Size([5000, 2, 2, 10, 200])\n",
      "skipping 0.3 of configurations (warm up)\n"
     ]
    },
    {
     "data": {
      "application/vnd.jupyter.widget-view+json": {
       "model_id": "4c7bb624420843efa2d64faa843ff289",
       "version_major": 2,
       "version_minor": 0
      },
      "text/plain": [
       "HBox(children=(FloatProgress(value=0.0, max=3500.0), HTML(value='')))"
      ]
     },
     "metadata": {},
     "output_type": "display_data"
    },
    {
     "name": "stdout",
     "output_type": "stream",
     "text": [
      "\n",
      "Read conf file /media/data/sbulusu/datasets/complexworm/Results for CNN/configs-200-10-4.010-1.000-1.045.dat with size :torch.Size([5000, 2, 2, 10, 200])\n",
      "skipping 0.3 of configurations (warm up)\n"
     ]
    },
    {
     "data": {
      "application/vnd.jupyter.widget-view+json": {
       "model_id": "3e7288ae486345ffadf2f0be96120cb2",
       "version_major": 2,
       "version_minor": 0
      },
      "text/plain": [
       "HBox(children=(FloatProgress(value=0.0, max=3500.0), HTML(value='')))"
      ]
     },
     "metadata": {},
     "output_type": "display_data"
    },
    {
     "name": "stdout",
     "output_type": "stream",
     "text": [
      "\n",
      "Read conf file /media/data/sbulusu/datasets/complexworm/Results for CNN/configs-200-10-4.010-1.000-1.035.dat with size :torch.Size([5000, 2, 2, 10, 200])\n",
      "skipping 0.3 of configurations (warm up)\n"
     ]
    },
    {
     "data": {
      "application/vnd.jupyter.widget-view+json": {
       "model_id": "7e39d963c4c44b1285332678a1bf3009",
       "version_major": 2,
       "version_minor": 0
      },
      "text/plain": [
       "HBox(children=(FloatProgress(value=0.0, max=3500.0), HTML(value='')))"
      ]
     },
     "metadata": {},
     "output_type": "display_data"
    },
    {
     "name": "stdout",
     "output_type": "stream",
     "text": [
      "\n",
      "Read conf file /media/data/sbulusu/datasets/complexworm/Results for CNN/configs-200-10-4.010-1.000-0.965.dat with size :torch.Size([5000, 2, 2, 10, 200])\n",
      "skipping 0.3 of configurations (warm up)\n"
     ]
    },
    {
     "data": {
      "application/vnd.jupyter.widget-view+json": {
       "model_id": "1857cd3fbb2c40109c3293f083f770d2",
       "version_major": 2,
       "version_minor": 0
      },
      "text/plain": [
       "HBox(children=(FloatProgress(value=0.0, max=3500.0), HTML(value='')))"
      ]
     },
     "metadata": {},
     "output_type": "display_data"
    },
    {
     "name": "stdout",
     "output_type": "stream",
     "text": [
      "\n",
      "Read conf file /media/data/sbulusu/datasets/complexworm/Results for CNN/configs-200-10-4.010-1.000-1.005.dat with size :torch.Size([5000, 2, 2, 10, 200])\n",
      "skipping 0.3 of configurations (warm up)\n"
     ]
    },
    {
     "data": {
      "application/vnd.jupyter.widget-view+json": {
       "model_id": "8bd547889c884fcaa330474ba565d669",
       "version_major": 2,
       "version_minor": 0
      },
      "text/plain": [
       "HBox(children=(FloatProgress(value=0.0, max=3500.0), HTML(value='')))"
      ]
     },
     "metadata": {},
     "output_type": "display_data"
    },
    {
     "name": "stdout",
     "output_type": "stream",
     "text": [
      "\n",
      "Read conf file /media/data/sbulusu/datasets/complexworm/Results for CNN/configs-200-10-4.010-1.000-0.985.dat with size :torch.Size([5000, 2, 2, 10, 200])\n",
      "skipping 0.3 of configurations (warm up)\n"
     ]
    },
    {
     "data": {
      "application/vnd.jupyter.widget-view+json": {
       "model_id": "3301e708a02e45a1960172a13cd5408a",
       "version_major": 2,
       "version_minor": 0
      },
      "text/plain": [
       "HBox(children=(FloatProgress(value=0.0, max=3500.0), HTML(value='')))"
      ]
     },
     "metadata": {},
     "output_type": "display_data"
    },
    {
     "name": "stdout",
     "output_type": "stream",
     "text": [
      "\n",
      "Read conf file /media/data/sbulusu/datasets/complexworm/Results for CNN/configs-200-10-4.010-1.000-0.955.dat with size :torch.Size([5000, 2, 2, 10, 200])\n",
      "skipping 0.3 of configurations (warm up)\n"
     ]
    },
    {
     "data": {
      "application/vnd.jupyter.widget-view+json": {
       "model_id": "168931fac977433f927a1a49eb2ead86",
       "version_major": 2,
       "version_minor": 0
      },
      "text/plain": [
       "HBox(children=(FloatProgress(value=0.0, max=3500.0), HTML(value='')))"
      ]
     },
     "metadata": {},
     "output_type": "display_data"
    },
    {
     "name": "stdout",
     "output_type": "stream",
     "text": [
      "\n",
      "Read conf file /media/data/sbulusu/datasets/complexworm/Results for CNN/configs-200-10-4.010-1.000-1.030.dat with size :torch.Size([5000, 2, 2, 10, 200])\n",
      "skipping 0.3 of configurations (warm up)\n"
     ]
    },
    {
     "data": {
      "application/vnd.jupyter.widget-view+json": {
       "model_id": "878b7ecbb04b4b4ab58010946f145684",
       "version_major": 2,
       "version_minor": 0
      },
      "text/plain": [
       "HBox(children=(FloatProgress(value=0.0, max=3500.0), HTML(value='')))"
      ]
     },
     "metadata": {},
     "output_type": "display_data"
    },
    {
     "name": "stdout",
     "output_type": "stream",
     "text": [
      "\n",
      "Read conf file /media/data/sbulusu/datasets/complexworm/Results for CNN/configs-200-10-4.010-1.000-0.940.dat with size :torch.Size([5000, 2, 2, 10, 200])\n",
      "skipping 0.3 of configurations (warm up)\n"
     ]
    },
    {
     "data": {
      "application/vnd.jupyter.widget-view+json": {
       "model_id": "3d00e75166084b0caf922bfd9c2cc05b",
       "version_major": 2,
       "version_minor": 0
      },
      "text/plain": [
       "HBox(children=(FloatProgress(value=0.0, max=3500.0), HTML(value='')))"
      ]
     },
     "metadata": {},
     "output_type": "display_data"
    },
    {
     "name": "stdout",
     "output_type": "stream",
     "text": [
      "\n",
      "Read conf file /media/data/sbulusu/datasets/complexworm/Results for CNN/configs-200-10-4.010-1.000-0.960.dat with size :torch.Size([5000, 2, 2, 10, 200])\n",
      "skipping 0.3 of configurations (warm up)\n"
     ]
    },
    {
     "data": {
      "application/vnd.jupyter.widget-view+json": {
       "model_id": "b0eef018d2b64ee3a3ea8780761d00c0",
       "version_major": 2,
       "version_minor": 0
      },
      "text/plain": [
       "HBox(children=(FloatProgress(value=0.0, max=3500.0), HTML(value='')))"
      ]
     },
     "metadata": {},
     "output_type": "display_data"
    },
    {
     "name": "stdout",
     "output_type": "stream",
     "text": [
      "\n",
      "Read conf file /media/data/sbulusu/datasets/complexworm/Results for CNN/configs-200-10-4.010-1.000-1.025.dat with size :torch.Size([5000, 2, 2, 10, 200])\n",
      "skipping 0.3 of configurations (warm up)\n"
     ]
    },
    {
     "data": {
      "application/vnd.jupyter.widget-view+json": {
       "model_id": "66f8734f52034042a2bd5ad53da06480",
       "version_major": 2,
       "version_minor": 0
      },
      "text/plain": [
       "HBox(children=(FloatProgress(value=0.0, max=3500.0), HTML(value='')))"
      ]
     },
     "metadata": {},
     "output_type": "display_data"
    },
    {
     "name": "stdout",
     "output_type": "stream",
     "text": [
      "\n",
      "Read conf file /media/data/sbulusu/datasets/complexworm/Results for CNN/configs-200-10-4.010-1.000-1.040.dat with size :torch.Size([5000, 2, 2, 10, 200])\n",
      "skipping 0.3 of configurations (warm up)\n"
     ]
    },
    {
     "data": {
      "application/vnd.jupyter.widget-view+json": {
       "model_id": "187713faadce40b5a5578985c31a47dd",
       "version_major": 2,
       "version_minor": 0
      },
      "text/plain": [
       "HBox(children=(FloatProgress(value=0.0, max=3500.0), HTML(value='')))"
      ]
     },
     "metadata": {},
     "output_type": "display_data"
    },
    {
     "name": "stdout",
     "output_type": "stream",
     "text": [
      "\n",
      "Read conf file /media/data/sbulusu/datasets/complexworm/Results for CNN/configs-200-10-4.010-1.000-0.980.dat with size :torch.Size([5000, 2, 2, 10, 200])\n",
      "skipping 0.3 of configurations (warm up)\n"
     ]
    },
    {
     "data": {
      "application/vnd.jupyter.widget-view+json": {
       "model_id": "6532420a0143466d9229a4cbcb907c82",
       "version_major": 2,
       "version_minor": 0
      },
      "text/plain": [
       "HBox(children=(FloatProgress(value=0.0, max=3500.0), HTML(value='')))"
      ]
     },
     "metadata": {},
     "output_type": "display_data"
    },
    {
     "name": "stdout",
     "output_type": "stream",
     "text": [
      "\n",
      "Read conf file /media/data/sbulusu/datasets/complexworm/Results for CNN/configs-200-10-4.010-1.000-0.910.dat with size :torch.Size([5000, 2, 2, 10, 200])\n",
      "skipping 0.3 of configurations (warm up)\n"
     ]
    },
    {
     "data": {
      "application/vnd.jupyter.widget-view+json": {
       "model_id": "cad306659b6e4246b5017457e80a2b59",
       "version_major": 2,
       "version_minor": 0
      },
      "text/plain": [
       "HBox(children=(FloatProgress(value=0.0, max=3500.0), HTML(value='')))"
      ]
     },
     "metadata": {},
     "output_type": "display_data"
    },
    {
     "name": "stdout",
     "output_type": "stream",
     "text": [
      "\n",
      "Read conf file /media/data/sbulusu/datasets/complexworm/Results for CNN/configs-200-10-4.010-1.000-0.990.dat with size :torch.Size([5000, 2, 2, 10, 200])\n",
      "skipping 0.3 of configurations (warm up)\n"
     ]
    },
    {
     "data": {
      "application/vnd.jupyter.widget-view+json": {
       "model_id": "33c75618d238445a9132ac8897da4bfd",
       "version_major": 2,
       "version_minor": 0
      },
      "text/plain": [
       "HBox(children=(FloatProgress(value=0.0, max=3500.0), HTML(value='')))"
      ]
     },
     "metadata": {},
     "output_type": "display_data"
    },
    {
     "name": "stdout",
     "output_type": "stream",
     "text": [
      "\n",
      "Read conf file /media/data/sbulusu/datasets/complexworm/Results for CNN/configs-200-10-4.010-1.000-0.920.dat with size :torch.Size([5000, 2, 2, 10, 200])\n",
      "skipping 0.3 of configurations (warm up)\n"
     ]
    },
    {
     "data": {
      "application/vnd.jupyter.widget-view+json": {
       "model_id": "28ebb5aee3dc47e58a2d42314303223e",
       "version_major": 2,
       "version_minor": 0
      },
      "text/plain": [
       "HBox(children=(FloatProgress(value=0.0, max=3500.0), HTML(value='')))"
      ]
     },
     "metadata": {},
     "output_type": "display_data"
    },
    {
     "name": "stdout",
     "output_type": "stream",
     "text": [
      "\n",
      "Read conf file /media/data/sbulusu/datasets/complexworm/Results for CNN/configs-200-10-4.010-1.000-1.050.dat with size :torch.Size([5000, 2, 2, 10, 200])\n",
      "skipping 0.3 of configurations (warm up)\n"
     ]
    },
    {
     "data": {
      "application/vnd.jupyter.widget-view+json": {
       "model_id": "0481d6c1517e4d018ae3075f761d36db",
       "version_major": 2,
       "version_minor": 0
      },
      "text/plain": [
       "HBox(children=(FloatProgress(value=0.0, max=3500.0), HTML(value='')))"
      ]
     },
     "metadata": {},
     "output_type": "display_data"
    },
    {
     "name": "stdout",
     "output_type": "stream",
     "text": [
      "\n",
      "Read conf file /media/data/sbulusu/datasets/complexworm/Results for CNN/configs-200-10-4.010-1.000-1.020.dat with size :torch.Size([5000, 2, 2, 10, 200])\n",
      "skipping 0.3 of configurations (warm up)\n"
     ]
    },
    {
     "data": {
      "application/vnd.jupyter.widget-view+json": {
       "model_id": "032a731536a74635b2b74ea43698f333",
       "version_major": 2,
       "version_minor": 0
      },
      "text/plain": [
       "HBox(children=(FloatProgress(value=0.0, max=3500.0), HTML(value='')))"
      ]
     },
     "metadata": {},
     "output_type": "display_data"
    },
    {
     "name": "stdout",
     "output_type": "stream",
     "text": [
      "\n",
      "Read conf file /media/data/sbulusu/datasets/complexworm/Results for CNN/configs-200-10-4.010-1.000-1.000.dat with size :torch.Size([5000, 2, 2, 10, 200])\n",
      "skipping 0.3 of configurations (warm up)\n"
     ]
    },
    {
     "data": {
      "application/vnd.jupyter.widget-view+json": {
       "model_id": "515685e5d5674827b4b1d2453106391a",
       "version_major": 2,
       "version_minor": 0
      },
      "text/plain": [
       "HBox(children=(FloatProgress(value=0.0, max=3500.0), HTML(value='')))"
      ]
     },
     "metadata": {},
     "output_type": "display_data"
    },
    {
     "name": "stdout",
     "output_type": "stream",
     "text": [
      "\n",
      "\n",
      "last example loaded:\n",
      "{'conf': tensor([[[[ 0,  0,  0,  ...,  0,  0,  0],\n",
      "          [ 0,  0,  0,  ...,  0,  0,  0],\n",
      "          [ 0,  0,  0,  ...,  1,  1,  1],\n",
      "          ...,\n",
      "          [ 0,  1,  1,  ...,  0,  0,  0],\n",
      "          [ 1,  0,  0,  ...,  1,  1,  1],\n",
      "          [ 1,  1,  1,  ...,  0,  0,  0]],\n",
      "\n",
      "         [[-1,  0,  0,  ...,  0,  0,  0],\n",
      "          [-1,  0,  0,  ...,  0,  0,  0],\n",
      "          [ 0,  0,  0,  ...,  0,  0,  0],\n",
      "          ...,\n",
      "          [ 0, -1,  0,  ...,  0,  0,  0],\n",
      "          [ 0,  0,  0,  ..., -1,  0,  0],\n",
      "          [-1,  0,  0,  ...,  0,  0,  0]]],\n",
      "\n",
      "\n",
      "        [[[ 0,  0,  0,  ...,  0,  0,  1],\n",
      "          [ 0,  0,  0,  ...,  0,  0,  0],\n",
      "          [ 0,  0,  0,  ...,  0,  0,  0],\n",
      "          ...,\n",
      "          [ 0,  0,  0,  ...,  0,  0,  0],\n",
      "          [ 0,  0,  0,  ...,  0,  0,  0],\n",
      "          [ 0,  0,  0,  ...,  0,  0,  0]],\n",
      "\n",
      "         [[ 0,  0,  0,  ...,  0,  0,  0],\n",
      "          [ 0,  0,  0,  ...,  0,  0,  0],\n",
      "          [ 0,  0,  0,  ...,  0,  0,  0],\n",
      "          ...,\n",
      "          [ 0,  0,  0,  ...,  0,  1,  0],\n",
      "          [ 0,  0,  0,  ...,  0,  0,  0],\n",
      "          [ 0,  0,  0,  ...,  0,  0,  0]]]]), 'mu': tensor(1.), 'phase': tensor(1.), 'n': tensor(0.3000, dtype=torch.float64), 'phi2': tensor(0.3628, dtype=torch.float64), 'id': 101499}\n"
     ]
    }
   ],
   "source": [
    "\"\"\"\n",
    "Load different lattice size\n",
    "\"\"\"\n",
    "#conf_file_dir = \"/media/data/sbulusu/datasets/kl_config/\"\n",
    "conf_file_dir = \"/media/data/sbulusu/datasets/complexworm/Results for CNN/\"\n",
    "#file_format = \"*.dat\"\n",
    "#file_format_list = [\"*1.170*.dat\", \"*0.910*.dat\"]\n",
    "file_format_list = [\"configs-200-10*.dat\"]\n",
    "#file_format_list = [\"configs-100-5*.dat\"]\n",
    "#file_format_list = [\"configs*0.dat\"]\n",
    "#lat_size = [5,100]\n",
    "lat_size = [10,200]\n",
    "dim = len(lat_size)\n",
    "conf_size = np.concatenate(([2],[dim],lat_size))\n",
    "print(conf_size)\n",
    "output_size = np.concatenate(([np.prod(conf_size[0:2])],conf_size[2:]))\n",
    "print(output_size)\n",
    "\n",
    "label_names = [\"n\", \"phi2\"]\n",
    "labels_in_file_name = [\"mu\", \"phase\"]\n",
    "\n",
    "new_dataset = lat_dataset_load_new_lightning.kl_dataset(conf_file_dir, file_format_list, conf_size, output_size, label_names, labels_in_file_name, transform=None, device=device)"
   ]
  },
  {
   "cell_type": "code",
   "execution_count": 10,
   "metadata": {},
   "outputs": [],
   "source": [
    "target_attributes = [\"phi2\", \"n\"]\n",
    "output_attributes = target_attributes\n",
    "\n",
    "new_dataset.train_label_names = target_attributes"
   ]
  },
  {
   "cell_type": "code",
   "execution_count": 11,
   "metadata": {},
   "outputs": [],
   "source": [
    "net = best_model"
   ]
  },
  {
   "cell_type": "code",
   "execution_count": 12,
   "metadata": {},
   "outputs": [
    {
     "name": "stdout",
     "output_type": "stream",
     "text": [
      "(-1, 4, 10, 200)\n"
     ]
    },
    {
     "data": {
      "application/vnd.jupyter.widget-view+json": {
       "model_id": "1cb8de5683334100984e4d75e44b098a",
       "version_major": 2,
       "version_minor": 0
      },
      "text/plain": [
       "HBox(children=(FloatProgress(value=0.0, max=101500.0), HTML(value='')))"
      ]
     },
     "metadata": {},
     "output_type": "display_data"
    },
    {
     "name": "stdout",
     "output_type": "stream",
     "text": [
      "\n"
     ]
    }
   ],
   "source": [
    "\n",
    "new_data_len = len(new_dataset)\n",
    "test_indices = list(range(new_data_len))\n",
    "\n",
    "mus = np.zeros(new_data_len)\n",
    "\n",
    "#input_size = net.input_size\n",
    "input_size = new_dataset.output_size\n",
    "output_size = net.output_size\n",
    "model_input_shape = tuple(np.concatenate(([-1],input_size)))\n",
    "print(model_input_shape)\n",
    "\n",
    "#net_outputs = np.zeros( (len(test_indices)) )\n",
    "net_outputs = np.zeros( (len(test_indices), len(output_attributes)) )\n",
    "#labels = np.zeros( (len(test_indices)) )\n",
    "labels = np.zeros( (len(test_indices), len(output_attributes)) )\n",
    "mus = np.zeros( (len(test_indices)) )\n",
    "\n",
    "for i in tqdm(range(new_data_len)):\n",
    "#for i in tqdm(range(len(val_indices))):\n",
    "    test_index = i\n",
    "    conf_lat_links, label = new_dataset.get_conf(test_index)\n",
    "    mus[i] = new_dataset.data[test_index][\"mu\"].detach().cpu().numpy()\n",
    "    net_outputs[i] = net(conf_lat_links.view(model_input_shape).to(device).float()).detach().cpu().numpy()\n",
    "    #net_outputs[i] = net(conf_lat_links.to(device).float()).detach().cpu().numpy()\n",
    "    #output = net(conf_lat_links.view(model_input_shape).float())\n",
    "    #labels[i] = label.detach().cpu().numpy()\n",
    "    labels[i] = np.array(label)"
   ]
  },
  {
   "cell_type": "code",
   "execution_count": 13,
   "metadata": {},
   "outputs": [
    {
     "name": "stdout",
     "output_type": "stream",
     "text": [
      "lat_size [10, 200]\n",
      "MSE phi2\n",
      "1.1019778055492897e-05\n",
      "MSE n\n",
      "0.0006063485662877765\n"
     ]
    }
   ],
   "source": [
    "print(f\"lat_size {lat_size}\")\n",
    "for i in range(len(target_attributes)):\n",
    "    print(f\"MSE {target_attributes[i]}\")\n",
    "    print(np.mean( abs((labels[:,i]-net_outputs[:,i])**2) ))"
   ]
  },
  {
   "cell_type": "code",
   "execution_count": 14,
   "metadata": {},
   "outputs": [],
   "source": [
    "unique_mus = np.unique(mus)\n",
    "num_mus = len(unique_mus)"
   ]
  },
  {
   "cell_type": "code",
   "execution_count": 15,
   "metadata": {},
   "outputs": [],
   "source": [
    "##save the observable values in a dictionary\n",
    "obs_mu_dict = {}\n",
    "for target_name in target_attributes:\n",
    "    obs_mu_dict[target_name] = {\"label\" : [],\"pred\" : []}"
   ]
  },
  {
   "cell_type": "code",
   "execution_count": 16,
   "metadata": {},
   "outputs": [],
   "source": [
    "\n",
    "obs_label = []\n",
    "obs_pred = []\n",
    "for mu_val in unique_mus:\n",
    "    mu_loc = np.where(mus == mu_val)[0]\n",
    "    obs_label_mu = np.array(labels[mu_loc,0])\n",
    "    obs_pred_mu = np.array(net_outputs[mu_loc,0])\n",
    "    \n",
    "    obs_label.append(obs_label_mu)    \n",
    "    obs_pred.append(obs_pred_mu)\n",
    "\n",
    "    "
   ]
  },
  {
   "cell_type": "code",
   "execution_count": 17,
   "metadata": {},
   "outputs": [],
   "source": [
    "##to be able to plot the observables against mu, they have to be sorted with respect to it\n",
    "for mu_val in unique_mus:\n",
    "    ##find which examples have a particular mu value (mu_val)\n",
    "    mu_loc = np.where(mus == mu_val)[0]\n",
    "    ##find the labels and prediction of observables which correspond to these examples\n",
    "    obs_label_mu_val = labels[mu_loc]\n",
    "    obs_pred_mu_val = net_outputs[mu_loc]\n",
    "    for target_i, target_name in enumerate(target_attributes):\n",
    "        \n",
    "        obs_label_mu = np.array(labels[mu_loc,target_i])\n",
    "        obs_pred_mu = np.array(net_outputs[mu_loc,target_i])\n",
    "        \n",
    "        obs_mu_dict[target_name][\"label\"].append(obs_label_mu)\n",
    "        obs_mu_dict[target_name][\"pred\"].append(obs_pred_mu)\n",
    "\n",
    "        \n",
    "        \n",
    "        \n",
    "for target_i, target_name in enumerate(target_attributes):\n",
    "    obs_mu_dict[target_name][\"label\"] = np.array(obs_mu_dict[target_name][\"label\"])\n",
    "    obs_mu_dict[target_name][\"pred\"] = np.array(obs_mu_dict[target_name][\"pred\"])"
   ]
  },
  {
   "cell_type": "code",
   "execution_count": 18,
   "metadata": {},
   "outputs": [
    {
     "data": {
      "image/png": "[encoded data removed]",
      "text/plain": [
       "<Figure size 720x720 with 1 Axes>"
      ]
     },
     "metadata": {
      "needs_background": "light"
     },
     "output_type": "display_data"
    }
   ],
   "source": [
    "plt.rcParams['figure.figsize'] = [10, 10]\n",
    "\n",
    "plot_target = \"phi2\"\n",
    "\n",
    "obs_label = np.array(obs_mu_dict[plot_target][\"label\"])\n",
    "obs_pred = np.array(obs_mu_dict[plot_target][\"pred\"])\n",
    "\n",
    "mean_obs_label = np.zeros(len(obs_label))\n",
    "std_obs_label = np.zeros(len(obs_label))\n",
    "\n",
    "mean_obs_pred = np.zeros(len(obs_pred))\n",
    "std_obs_pred = np.zeros(len(obs_pred)) \n",
    "\n",
    "for i in range(len(obs_label)):\n",
    "    mean_obs_label[i] = np.mean(obs_label[i])\n",
    "    std_obs_label[i] = np.std(obs_label[i])\n",
    "    \n",
    "    mean_obs_pred[i] = np.mean(obs_pred[i])\n",
    "    std_obs_pred[i] = np.std(obs_pred[i])\n",
    "    \n",
    "#plt.scatter(unique_mus, mean_obs_label, c=\"g\")\n",
    "#plt.scatter(unique_mus, mean_obs_pred, c=\"r\")\n",
    "    \n",
    "plt.errorbar(unique_mus, mean_obs_label, yerr=std_obs_label, color=\"g\", label=\"ϕ² label\")\n",
    "plt.errorbar(unique_mus, mean_obs_pred, yerr=std_obs_pred, color=\"r\", label=\"ϕ² prediction\")\n",
    "plt.legend(loc=\"upper left\")\n",
    "plt.savefig(\"phi2_mu_mod\" + str(lat_size))"
   ]
  },
  {
   "cell_type": "code",
   "execution_count": 19,
   "metadata": {},
   "outputs": [
    {
     "data": {
      "image/png": "[encoded data removed]",
      "text/plain": [
       "<Figure size 720x720 with 1 Axes>"
      ]
     },
     "metadata": {
      "needs_background": "light"
     },
     "output_type": "display_data"
    }
   ],
   "source": [
    "plt.rcParams['figure.figsize'] = [10, 10]\n",
    "\n",
    "plot_target = \"n\"\n",
    "\n",
    "obs_label = np.array(obs_mu_dict[plot_target][\"label\"])\n",
    "obs_pred = np.array(obs_mu_dict[plot_target][\"pred\"])\n",
    "\n",
    "mean_obs_label = np.zeros(len(obs_label))\n",
    "std_obs_label = np.zeros(len(obs_label))\n",
    "\n",
    "mean_obs_pred = np.zeros(len(obs_pred))\n",
    "std_obs_pred = np.zeros(len(obs_pred)) \n",
    "\n",
    "for i in range(len(obs_label)):\n",
    "    mean_obs_label[i] = np.mean(obs_label[i])\n",
    "    std_obs_label[i] = np.std(obs_label[i])\n",
    "    \n",
    "    mean_obs_pred[i] = np.mean(obs_pred[i])\n",
    "    std_obs_pred[i] = np.std(obs_pred[i])\n",
    "    \n",
    "#plt.scatter(unique_mus, mean_obs_label, c=\"g\")\n",
    "#plt.scatter(unique_mus, mean_obs_pred, c=\"r\")\n",
    "    \n",
    "plt.errorbar(unique_mus, mean_obs_label, yerr=std_obs_label, color=\"g\", label=\"n label\")\n",
    "plt.errorbar(unique_mus, mean_obs_pred, yerr=std_obs_pred, color=\"r\", label=\"n prediction\")\n",
    "plt.legend(loc=\"upper left\")\n",
    "plt.savefig(\"n_mu_mod\" + str(lat_size))"
   ]
  },
  {
   "cell_type": "code",
   "execution_count": 20,
   "metadata": {
    "scrolled": true
   },
   "outputs": [
    {
     "data": {
      "image/png": "[encoded data removed]",
      "text/plain": [
       "<Figure size 720x720 with 1 Axes>"
      ]
     },
     "metadata": {
      "needs_background": "light"
     },
     "output_type": "display_data"
    }
   ],
   "source": [
    "plt.rcParams['figure.figsize'] = [10, 10]\n",
    "\n",
    "target_i = 0\n",
    "\n",
    "x_max = np.max(labels[:,target_i])\n",
    "x_min = np.min(labels[:,target_i])\n",
    "\n",
    "\n",
    "#plt.scatter(labels[:,target_i], net_outputs[:,target_i], c=\"r\", label=\"model\")\n",
    "plt.scatter(labels[:,target_i], net_outputs[:,target_i], c=mus, label=\"model\")\n",
    "plt.plot([x_min, x_max], [x_min, x_max], linestyle=\"--\", color=\"b\", label=\"(ideal)\")\n",
    "plt.xlabel(\"ϕ² label\")\n",
    "plt.ylabel(\"ϕ² predicted\")\n",
    "plt.legend(loc=\"upper left\")\n",
    "#plt.show()\n",
    "plt.savefig(\"phi2_label_pred_mod\" + str(lat_size)) "
   ]
  },
  {
   "cell_type": "code",
   "execution_count": 21,
   "metadata": {},
   "outputs": [
    {
     "data": {
      "text/plain": [
       "29"
      ]
     },
     "execution_count": 21,
     "metadata": {},
     "output_type": "execute_result"
    }
   ],
   "source": [
    "len(unique_mus)"
   ]
  },
  {
   "cell_type": "code",
   "execution_count": 22,
   "metadata": {},
   "outputs": [
    {
     "data": {
      "text/plain": [
       "'\\nplt.rcParams[\\'figure.figsize\\'] = [30, 5]\\n\\ntarget_i = 0\\n\\nplot_unique_mus = unique_mus[::3]\\n\\nfig, ax = plt.subplots(ncols=len(plot_unique_mus))\\n\\ntarget_labels = labels[:,target_i]\\ntarget_net_outputs = net_outputs[:,target_i]\\n\\n\\n\\n#for mu_i, mu_val in enumerate(unique_mus[::10]):\\nfor mu_i, mu_val in enumerate(plot_unique_mus):\\n    \\n    plot_indices = np.argwhere(unique_mus == mu_val)\\n\\n    plot_target_labels = target_labels[plot_indices]\\n    plot_target_net_outputs = target_net_outputs[plot_indices]\\n    \\n    ax[mu_i].scatter(plot_target_labels, plot_target_net_outputs)\\n    ax[mu_i].plot([x_min, x_max], [x_min, x_max], linestyle=\"--\", color=\"b\", label=\"(ideal)\")\\n'"
      ]
     },
     "execution_count": 22,
     "metadata": {},
     "output_type": "execute_result"
    }
   ],
   "source": [
    "\"\"\"\n",
    "plt.rcParams['figure.figsize'] = [30, 5]\n",
    "\n",
    "target_i = 0\n",
    "\n",
    "plot_unique_mus = unique_mus[::3]\n",
    "\n",
    "fig, ax = plt.subplots(ncols=len(plot_unique_mus))\n",
    "\n",
    "target_labels = labels[:,target_i]\n",
    "target_net_outputs = net_outputs[:,target_i]\n",
    "\n",
    "\n",
    "\n",
    "#for mu_i, mu_val in enumerate(unique_mus[::10]):\n",
    "for mu_i, mu_val in enumerate(plot_unique_mus):\n",
    "    \n",
    "    plot_indices = np.argwhere(unique_mus == mu_val)\n",
    "\n",
    "    plot_target_labels = target_labels[plot_indices]\n",
    "    plot_target_net_outputs = target_net_outputs[plot_indices]\n",
    "    \n",
    "    ax[mu_i].scatter(plot_target_labels, plot_target_net_outputs)\n",
    "    ax[mu_i].plot([x_min, x_max], [x_min, x_max], linestyle=\"--\", color=\"b\", label=\"(ideal)\")\n",
    "\"\"\""
   ]
  },
  {
   "cell_type": "code",
   "execution_count": 23,
   "metadata": {
    "scrolled": true
   },
   "outputs": [
    {
     "data": {
      "image/png": "[encoded data removed]",
      "text/plain": [
       "<Figure size 720x720 with 1 Axes>"
      ]
     },
     "metadata": {
      "needs_background": "light"
     },
     "output_type": "display_data"
    }
   ],
   "source": [
    "plt.rcParams['figure.figsize'] = [10, 10]\n",
    "\n",
    "target_i = 1\n",
    "\n",
    "x_max = np.max(labels[:,target_i])\n",
    "x_min = np.min(labels[:,target_i])\n",
    "\n",
    "\n",
    "#plt.scatter(labels[:,target_i], net_outputs[:,target_i], c=\"r\", label=\"model\")\n",
    "plt.scatter(labels[:,target_i], net_outputs[:,target_i], c=mus, label=\"model\")\n",
    "plt.plot([x_min, x_max], [x_min, x_max], linestyle=\"--\", color=\"b\", label=\"(ideal)\")\n",
    "plt.xlabel(\"n label\")\n",
    "plt.ylabel(\"n predicted\")\n",
    "plt.legend(loc=\"upper left\")\n",
    "#plt.show()\n",
    "plt.savefig(\"n_label_pred_mod\" + str(lat_size)) "
   ]
  },
  {
   "cell_type": "code",
   "execution_count": 24,
   "metadata": {},
   "outputs": [
    {
     "name": "stdout",
     "output_type": "stream",
     "text": [
      "[  2   2   5 100]\n",
      "[  4   5 100]\n",
      "[ -1   2   2   5 100]\n"
     ]
    },
    {
     "data": {
      "application/vnd.jupyter.widget-view+json": {
       "model_id": "5b4d499786c9404381cb847a3e6e624f",
       "version_major": 2,
       "version_minor": 0
      },
      "text/plain": [
       "HBox(children=(FloatProgress(value=0.0, max=29.0), HTML(value='')))"
      ]
     },
     "metadata": {},
     "output_type": "display_data"
    },
    {
     "name": "stdout",
     "output_type": "stream",
     "text": [
      "Read conf file /media/data/sbulusu/datasets/complexworm/Results for CNN/configs-100-5-4.010-1.000-1.050.dat with size :torch.Size([5000, 2, 2, 5, 100])\n",
      "skipping 0.3 of configurations (warm up)\n"
     ]
    },
    {
     "data": {
      "application/vnd.jupyter.widget-view+json": {
       "model_id": "fa9a5573ddbc4bd0bf5025cf853a1d12",
       "version_major": 2,
       "version_minor": 0
      },
      "text/plain": [
       "HBox(children=(FloatProgress(value=0.0, max=3500.0), HTML(value='')))"
      ]
     },
     "metadata": {},
     "output_type": "display_data"
    },
    {
     "name": "stdout",
     "output_type": "stream",
     "text": [
      "first example loaded:\n",
      "{'conf': tensor([[[[ 1,  0,  0,  ...,  0,  2,  1],\n",
      "          [ 0,  1,  0,  ...,  2,  0,  0],\n",
      "          [ 2,  1,  3,  ...,  1,  1,  2],\n",
      "          [ 0,  0, -1,  ...,  1,  0,  1],\n",
      "          [ 1,  2,  2,  ...,  0,  1,  0]],\n",
      "\n",
      "         [[ 0,  0,  0,  ...,  1, -2,  1],\n",
      "          [ 0, -1,  1,  ...,  0,  0,  1],\n",
      "          [ 0,  0, -1,  ...,  0,  0,  0],\n",
      "          [ 1,  0,  0,  ...,  0,  1, -1],\n",
      "          [ 0, -1,  0,  ...,  0,  0,  0]]],\n",
      "\n",
      "\n",
      "        [[[ 0,  1,  0,  ...,  0,  0,  0],\n",
      "          [ 0,  0,  1,  ...,  0,  1,  1],\n",
      "          [ 0,  0,  0,  ...,  0,  0,  0],\n",
      "          [ 0,  0,  0,  ...,  0,  0,  0],\n",
      "          [ 0,  0,  0,  ...,  0,  0,  0]],\n",
      "\n",
      "         [[ 0,  0,  0,  ...,  0,  0,  0],\n",
      "          [ 1,  0,  1,  ...,  0,  0,  0],\n",
      "          [ 0,  0,  0,  ...,  0,  0,  0],\n",
      "          [ 0,  0,  0,  ...,  0,  0,  0],\n",
      "          [ 0,  0,  0,  ...,  0,  0,  0]]]]), 'mu': tensor(1.0500), 'phase': tensor(1.), 'n': tensor(0.8000, dtype=torch.float64), 'phi2': tensor(0.4983, dtype=torch.float64), 'id': 0}\n",
      "\n",
      "Read conf file /media/data/sbulusu/datasets/complexworm/Results for CNN/configs-100-5-4.010-1.000-0.975.dat with size :torch.Size([5000, 2, 2, 5, 100])\n",
      "skipping 0.3 of configurations (warm up)\n"
     ]
    },
    {
     "data": {
      "application/vnd.jupyter.widget-view+json": {
       "model_id": "afea0bd52b1d448ab6d70e37d85822bc",
       "version_major": 2,
       "version_minor": 0
      },
      "text/plain": [
       "HBox(children=(FloatProgress(value=0.0, max=3500.0), HTML(value='')))"
      ]
     },
     "metadata": {},
     "output_type": "display_data"
    },
    {
     "name": "stdout",
     "output_type": "stream",
     "text": [
      "\n",
      "Read conf file /media/data/sbulusu/datasets/complexworm/Results for CNN/configs-100-5-4.010-1.000-0.955.dat with size :torch.Size([5000, 2, 2, 5, 100])\n",
      "skipping 0.3 of configurations (warm up)\n"
     ]
    },
    {
     "data": {
      "application/vnd.jupyter.widget-view+json": {
       "model_id": "e7cf4d9900a747eb8aeac650734de352",
       "version_major": 2,
       "version_minor": 0
      },
      "text/plain": [
       "HBox(children=(FloatProgress(value=0.0, max=3500.0), HTML(value='')))"
      ]
     },
     "metadata": {},
     "output_type": "display_data"
    },
    {
     "name": "stdout",
     "output_type": "stream",
     "text": [
      "\n",
      "Read conf file /media/data/sbulusu/datasets/complexworm/Results for CNN/configs-100-5-4.010-1.000-0.990.dat with size :torch.Size([5000, 2, 2, 5, 100])\n",
      "skipping 0.3 of configurations (warm up)\n"
     ]
    },
    {
     "data": {
      "application/vnd.jupyter.widget-view+json": {
       "model_id": "a00123e039cd4b18b51a8f79bdef4e58",
       "version_major": 2,
       "version_minor": 0
      },
      "text/plain": [
       "HBox(children=(FloatProgress(value=0.0, max=3500.0), HTML(value='')))"
      ]
     },
     "metadata": {},
     "output_type": "display_data"
    },
    {
     "name": "stdout",
     "output_type": "stream",
     "text": [
      "\n",
      "Read conf file /media/data/sbulusu/datasets/complexworm/Results for CNN/configs-100-5-4.010-1.000-0.970.dat with size :torch.Size([5000, 2, 2, 5, 100])\n",
      "skipping 0.3 of configurations (warm up)\n"
     ]
    },
    {
     "data": {
      "application/vnd.jupyter.widget-view+json": {
       "model_id": "cc48ef42069e4603a201e04e5cd3c9e6",
       "version_major": 2,
       "version_minor": 0
      },
      "text/plain": [
       "HBox(children=(FloatProgress(value=0.0, max=3500.0), HTML(value='')))"
      ]
     },
     "metadata": {},
     "output_type": "display_data"
    },
    {
     "name": "stdout",
     "output_type": "stream",
     "text": [
      "\n",
      "Read conf file /media/data/sbulusu/datasets/complexworm/Results for CNN/configs-100-5-4.010-1.000-1.045.dat with size :torch.Size([5000, 2, 2, 5, 100])\n",
      "skipping 0.3 of configurations (warm up)\n"
     ]
    },
    {
     "data": {
      "application/vnd.jupyter.widget-view+json": {
       "model_id": "b102e6cb2cc1432a9b9815509ef468e4",
       "version_major": 2,
       "version_minor": 0
      },
      "text/plain": [
       "HBox(children=(FloatProgress(value=0.0, max=3500.0), HTML(value='')))"
      ]
     },
     "metadata": {},
     "output_type": "display_data"
    },
    {
     "name": "stdout",
     "output_type": "stream",
     "text": [
      "\n",
      "Read conf file /media/data/sbulusu/datasets/complexworm/Results for CNN/configs-100-5-4.010-1.000-1.005.dat with size :torch.Size([5000, 2, 2, 5, 100])\n",
      "skipping 0.3 of configurations (warm up)\n"
     ]
    },
    {
     "data": {
      "application/vnd.jupyter.widget-view+json": {
       "model_id": "0f0ca9050899429990fe283603641fd2",
       "version_major": 2,
       "version_minor": 0
      },
      "text/plain": [
       "HBox(children=(FloatProgress(value=0.0, max=3500.0), HTML(value='')))"
      ]
     },
     "metadata": {},
     "output_type": "display_data"
    },
    {
     "name": "stdout",
     "output_type": "stream",
     "text": [
      "\n",
      "Read conf file /media/data/sbulusu/datasets/complexworm/Results for CNN/configs-100-5-4.010-1.000-0.980.dat with size :torch.Size([5000, 2, 2, 5, 100])\n",
      "skipping 0.3 of configurations (warm up)\n"
     ]
    },
    {
     "data": {
      "application/vnd.jupyter.widget-view+json": {
       "model_id": "41bb5689aeac42ebb53870336ff677ce",
       "version_major": 2,
       "version_minor": 0
      },
      "text/plain": [
       "HBox(children=(FloatProgress(value=0.0, max=3500.0), HTML(value='')))"
      ]
     },
     "metadata": {},
     "output_type": "display_data"
    },
    {
     "name": "stdout",
     "output_type": "stream",
     "text": [
      "\n",
      "Read conf file /media/data/sbulusu/datasets/complexworm/Results for CNN/configs-100-5-4.010-1.000-1.040.dat with size :torch.Size([5000, 2, 2, 5, 100])\n",
      "skipping 0.3 of configurations (warm up)\n"
     ]
    },
    {
     "data": {
      "application/vnd.jupyter.widget-view+json": {
       "model_id": "a84055bb718741a6bcf54116a34712b1",
       "version_major": 2,
       "version_minor": 0
      },
      "text/plain": [
       "HBox(children=(FloatProgress(value=0.0, max=3500.0), HTML(value='')))"
      ]
     },
     "metadata": {},
     "output_type": "display_data"
    },
    {
     "name": "stdout",
     "output_type": "stream",
     "text": [
      "\n",
      "Read conf file /media/data/sbulusu/datasets/complexworm/Results for CNN/configs-100-5-4.010-1.000-1.030.dat with size :torch.Size([5000, 2, 2, 5, 100])\n",
      "skipping 0.3 of configurations (warm up)\n"
     ]
    },
    {
     "data": {
      "application/vnd.jupyter.widget-view+json": {
       "model_id": "69f6db4e5c8d4be8a849d97e5ee4bfdd",
       "version_major": 2,
       "version_minor": 0
      },
      "text/plain": [
       "HBox(children=(FloatProgress(value=0.0, max=3500.0), HTML(value='')))"
      ]
     },
     "metadata": {},
     "output_type": "display_data"
    },
    {
     "name": "stdout",
     "output_type": "stream",
     "text": [
      "\n",
      "Read conf file /media/data/sbulusu/datasets/complexworm/Results for CNN/configs-100-5-4.010-1.000-1.015.dat with size :torch.Size([5000, 2, 2, 5, 100])\n",
      "skipping 0.3 of configurations (warm up)\n"
     ]
    },
    {
     "data": {
      "application/vnd.jupyter.widget-view+json": {
       "model_id": "984f02b3a3de435c81b2f9fc682f6ed2",
       "version_major": 2,
       "version_minor": 0
      },
      "text/plain": [
       "HBox(children=(FloatProgress(value=0.0, max=3500.0), HTML(value='')))"
      ]
     },
     "metadata": {},
     "output_type": "display_data"
    },
    {
     "name": "stdout",
     "output_type": "stream",
     "text": [
      "\n",
      "Read conf file /media/data/sbulusu/datasets/complexworm/Results for CNN/configs-100-5-4.010-1.000-0.940.dat with size :torch.Size([5000, 2, 2, 5, 100])\n",
      "skipping 0.3 of configurations (warm up)\n"
     ]
    },
    {
     "data": {
      "application/vnd.jupyter.widget-view+json": {
       "model_id": "460589b95d064779a5590024b82d6a8f",
       "version_major": 2,
       "version_minor": 0
      },
      "text/plain": [
       "HBox(children=(FloatProgress(value=0.0, max=3500.0), HTML(value='')))"
      ]
     },
     "metadata": {},
     "output_type": "display_data"
    },
    {
     "name": "stdout",
     "output_type": "stream",
     "text": [
      "\n",
      "Read conf file /media/data/sbulusu/datasets/complexworm/Results for CNN/configs-100-5-4.010-1.000-1.010.dat with size :torch.Size([5000, 2, 2, 5, 100])\n",
      "skipping 0.3 of configurations (warm up)\n"
     ]
    },
    {
     "data": {
      "application/vnd.jupyter.widget-view+json": {
       "model_id": "c8c2354e48b94bfc8f443c4587bd47dd",
       "version_major": 2,
       "version_minor": 0
      },
      "text/plain": [
       "HBox(children=(FloatProgress(value=0.0, max=3500.0), HTML(value='')))"
      ]
     },
     "metadata": {},
     "output_type": "display_data"
    },
    {
     "name": "stdout",
     "output_type": "stream",
     "text": [
      "\n",
      "Read conf file /media/data/sbulusu/datasets/complexworm/Results for CNN/configs-100-5-4.010-1.000-1.000.dat with size :torch.Size([5000, 2, 2, 5, 100])\n",
      "skipping 0.3 of configurations (warm up)\n"
     ]
    },
    {
     "data": {
      "application/vnd.jupyter.widget-view+json": {
       "model_id": "37ed58cb3b7d4f13b59d6d22bbe460b5",
       "version_major": 2,
       "version_minor": 0
      },
      "text/plain": [
       "HBox(children=(FloatProgress(value=0.0, max=3500.0), HTML(value='')))"
      ]
     },
     "metadata": {},
     "output_type": "display_data"
    },
    {
     "name": "stdout",
     "output_type": "stream",
     "text": [
      "\n",
      "Read conf file /media/data/sbulusu/datasets/complexworm/Results for CNN/configs-100-5-4.010-1.000-0.915.dat with size :torch.Size([5000, 2, 2, 5, 100])\n",
      "skipping 0.3 of configurations (warm up)\n"
     ]
    },
    {
     "data": {
      "application/vnd.jupyter.widget-view+json": {
       "model_id": "bb7d48068c7e47ee800400fc575039f5",
       "version_major": 2,
       "version_minor": 0
      },
      "text/plain": [
       "HBox(children=(FloatProgress(value=0.0, max=3500.0), HTML(value='')))"
      ]
     },
     "metadata": {},
     "output_type": "display_data"
    },
    {
     "name": "stdout",
     "output_type": "stream",
     "text": [
      "\n",
      "Read conf file /media/data/sbulusu/datasets/complexworm/Results for CNN/configs-100-5-4.010-1.000-1.025.dat with size :torch.Size([5000, 2, 2, 5, 100])\n",
      "skipping 0.3 of configurations (warm up)\n"
     ]
    },
    {
     "data": {
      "application/vnd.jupyter.widget-view+json": {
       "model_id": "aad2ce1e3f284effb3b222c4d16a9d98",
       "version_major": 2,
       "version_minor": 0
      },
      "text/plain": [
       "HBox(children=(FloatProgress(value=0.0, max=3500.0), HTML(value='')))"
      ]
     },
     "metadata": {},
     "output_type": "display_data"
    },
    {
     "name": "stdout",
     "output_type": "stream",
     "text": [
      "\n",
      "Read conf file /media/data/sbulusu/datasets/complexworm/Results for CNN/configs-100-5-4.010-1.000-0.950.dat with size :torch.Size([5000, 2, 2, 5, 100])\n",
      "skipping 0.3 of configurations (warm up)\n"
     ]
    },
    {
     "data": {
      "application/vnd.jupyter.widget-view+json": {
       "model_id": "470dc13fb9914a9a8321208428824bea",
       "version_major": 2,
       "version_minor": 0
      },
      "text/plain": [
       "HBox(children=(FloatProgress(value=0.0, max=3500.0), HTML(value='')))"
      ]
     },
     "metadata": {},
     "output_type": "display_data"
    },
    {
     "name": "stdout",
     "output_type": "stream",
     "text": [
      "\n",
      "Read conf file /media/data/sbulusu/datasets/complexworm/Results for CNN/configs-100-5-4.010-1.000-0.930.dat with size :torch.Size([5000, 2, 2, 5, 100])\n",
      "skipping 0.3 of configurations (warm up)\n"
     ]
    },
    {
     "data": {
      "application/vnd.jupyter.widget-view+json": {
       "model_id": "10d3a2188edf4eb48ee7590d8611ae9f",
       "version_major": 2,
       "version_minor": 0
      },
      "text/plain": [
       "HBox(children=(FloatProgress(value=0.0, max=3500.0), HTML(value='')))"
      ]
     },
     "metadata": {},
     "output_type": "display_data"
    },
    {
     "name": "stdout",
     "output_type": "stream",
     "text": [
      "\n",
      "Read conf file /media/data/sbulusu/datasets/complexworm/Results for CNN/configs-100-5-4.010-1.000-0.960.dat with size :torch.Size([5000, 2, 2, 5, 100])\n",
      "skipping 0.3 of configurations (warm up)\n"
     ]
    },
    {
     "data": {
      "application/vnd.jupyter.widget-view+json": {
       "model_id": "7bfeb59412504ebab8376b17f79d9bfb",
       "version_major": 2,
       "version_minor": 0
      },
      "text/plain": [
       "HBox(children=(FloatProgress(value=0.0, max=3500.0), HTML(value='')))"
      ]
     },
     "metadata": {},
     "output_type": "display_data"
    },
    {
     "name": "stdout",
     "output_type": "stream",
     "text": [
      "\n",
      "Read conf file /media/data/sbulusu/datasets/complexworm/Results for CNN/configs-100-5-4.010-1.000-0.925.dat with size :torch.Size([5000, 2, 2, 5, 100])\n",
      "skipping 0.3 of configurations (warm up)\n"
     ]
    },
    {
     "data": {
      "application/vnd.jupyter.widget-view+json": {
       "model_id": "547d0e51eede4b0280cba671d614a6c6",
       "version_major": 2,
       "version_minor": 0
      },
      "text/plain": [
       "HBox(children=(FloatProgress(value=0.0, max=3500.0), HTML(value='')))"
      ]
     },
     "metadata": {},
     "output_type": "display_data"
    },
    {
     "name": "stdout",
     "output_type": "stream",
     "text": [
      "\n",
      "Read conf file /media/data/sbulusu/datasets/complexworm/Results for CNN/configs-100-5-4.010-1.000-0.995.dat with size :torch.Size([5000, 2, 2, 5, 100])\n",
      "skipping 0.3 of configurations (warm up)\n"
     ]
    },
    {
     "data": {
      "application/vnd.jupyter.widget-view+json": {
       "model_id": "36cb8af6c8664e21b65154896b9a2fd2",
       "version_major": 2,
       "version_minor": 0
      },
      "text/plain": [
       "HBox(children=(FloatProgress(value=0.0, max=3500.0), HTML(value='')))"
      ]
     },
     "metadata": {},
     "output_type": "display_data"
    },
    {
     "name": "stdout",
     "output_type": "stream",
     "text": [
      "\n",
      "Read conf file /media/data/sbulusu/datasets/complexworm/Results for CNN/configs-100-5-4.010-1.000-1.020.dat with size :torch.Size([5000, 2, 2, 5, 100])\n",
      "skipping 0.3 of configurations (warm up)\n"
     ]
    },
    {
     "data": {
      "application/vnd.jupyter.widget-view+json": {
       "model_id": "91a28cdf8c8c48538cc23e03728264fc",
       "version_major": 2,
       "version_minor": 0
      },
      "text/plain": [
       "HBox(children=(FloatProgress(value=0.0, max=3500.0), HTML(value='')))"
      ]
     },
     "metadata": {},
     "output_type": "display_data"
    },
    {
     "name": "stdout",
     "output_type": "stream",
     "text": [
      "\n",
      "Read conf file /media/data/sbulusu/datasets/complexworm/Results for CNN/configs-100-5-4.010-1.000-0.985.dat with size :torch.Size([5000, 2, 2, 5, 100])\n",
      "skipping 0.3 of configurations (warm up)\n"
     ]
    },
    {
     "data": {
      "application/vnd.jupyter.widget-view+json": {
       "model_id": "035fb93ecd8f43bbbe1a154b634ef782",
       "version_major": 2,
       "version_minor": 0
      },
      "text/plain": [
       "HBox(children=(FloatProgress(value=0.0, max=3500.0), HTML(value='')))"
      ]
     },
     "metadata": {},
     "output_type": "display_data"
    },
    {
     "name": "stdout",
     "output_type": "stream",
     "text": [
      "\n",
      "Read conf file /media/data/sbulusu/datasets/complexworm/Results for CNN/configs-100-5-4.010-1.000-0.910.dat with size :torch.Size([5000, 2, 2, 5, 100])\n",
      "skipping 0.3 of configurations (warm up)\n"
     ]
    },
    {
     "data": {
      "application/vnd.jupyter.widget-view+json": {
       "model_id": "4f3f6a9ae8524f689763e4cf9c738c4f",
       "version_major": 2,
       "version_minor": 0
      },
      "text/plain": [
       "HBox(children=(FloatProgress(value=0.0, max=3500.0), HTML(value='')))"
      ]
     },
     "metadata": {},
     "output_type": "display_data"
    },
    {
     "name": "stdout",
     "output_type": "stream",
     "text": [
      "\n",
      "Read conf file /media/data/sbulusu/datasets/complexworm/Results for CNN/configs-100-5-4.010-1.000-1.035.dat with size :torch.Size([5000, 2, 2, 5, 100])\n",
      "skipping 0.3 of configurations (warm up)\n"
     ]
    },
    {
     "data": {
      "application/vnd.jupyter.widget-view+json": {
       "model_id": "13d52ed284cf40ee926f8b6ab6edf92e",
       "version_major": 2,
       "version_minor": 0
      },
      "text/plain": [
       "HBox(children=(FloatProgress(value=0.0, max=3500.0), HTML(value='')))"
      ]
     },
     "metadata": {},
     "output_type": "display_data"
    },
    {
     "name": "stdout",
     "output_type": "stream",
     "text": [
      "\n",
      "Read conf file /media/data/sbulusu/datasets/complexworm/Results for CNN/configs-100-5-4.010-1.000-0.945.dat with size :torch.Size([5000, 2, 2, 5, 100])\n",
      "skipping 0.3 of configurations (warm up)\n"
     ]
    },
    {
     "data": {
      "application/vnd.jupyter.widget-view+json": {
       "model_id": "371ee851952c4cb38436c9e76b1c2e85",
       "version_major": 2,
       "version_minor": 0
      },
      "text/plain": [
       "HBox(children=(FloatProgress(value=0.0, max=3500.0), HTML(value='')))"
      ]
     },
     "metadata": {},
     "output_type": "display_data"
    },
    {
     "name": "stdout",
     "output_type": "stream",
     "text": [
      "\n",
      "Read conf file /media/data/sbulusu/datasets/complexworm/Results for CNN/configs-100-5-4.010-1.000-0.965.dat with size :torch.Size([5000, 2, 2, 5, 100])\n",
      "skipping 0.3 of configurations (warm up)\n"
     ]
    },
    {
     "data": {
      "application/vnd.jupyter.widget-view+json": {
       "model_id": "e4ac92a6d2e244e0b8ab61f626d7fc0a",
       "version_major": 2,
       "version_minor": 0
      },
      "text/plain": [
       "HBox(children=(FloatProgress(value=0.0, max=3500.0), HTML(value='')))"
      ]
     },
     "metadata": {},
     "output_type": "display_data"
    },
    {
     "name": "stdout",
     "output_type": "stream",
     "text": [
      "\n",
      "Read conf file /media/data/sbulusu/datasets/complexworm/Results for CNN/configs-100-5-4.010-1.000-0.935.dat with size :torch.Size([5000, 2, 2, 5, 100])\n",
      "skipping 0.3 of configurations (warm up)\n"
     ]
    },
    {
     "data": {
      "application/vnd.jupyter.widget-view+json": {
       "model_id": "a0c1e96067b14369b77d022a079a1a56",
       "version_major": 2,
       "version_minor": 0
      },
      "text/plain": [
       "HBox(children=(FloatProgress(value=0.0, max=3500.0), HTML(value='')))"
      ]
     },
     "metadata": {},
     "output_type": "display_data"
    },
    {
     "name": "stdout",
     "output_type": "stream",
     "text": [
      "\n",
      "Read conf file /media/data/sbulusu/datasets/complexworm/Results for CNN/configs-100-5-4.010-1.000-0.920.dat with size :torch.Size([5000, 2, 2, 5, 100])\n",
      "skipping 0.3 of configurations (warm up)\n"
     ]
    },
    {
     "data": {
      "application/vnd.jupyter.widget-view+json": {
       "model_id": "ce34a9f3c1af46708e9fdae19099538d",
       "version_major": 2,
       "version_minor": 0
      },
      "text/plain": [
       "HBox(children=(FloatProgress(value=0.0, max=3500.0), HTML(value='')))"
      ]
     },
     "metadata": {},
     "output_type": "display_data"
    },
    {
     "name": "stdout",
     "output_type": "stream",
     "text": [
      "\n",
      "\n",
      "last example loaded:\n",
      "{'conf': tensor([[[[0, 0, 0,  ..., 0, 0, 0],\n",
      "          [0, 0, 0,  ..., 0, 0, 0],\n",
      "          [0, 0, 0,  ..., 0, 0, 0],\n",
      "          [0, 0, 0,  ..., 0, 0, 0],\n",
      "          [0, 0, 0,  ..., 0, 0, 0]],\n",
      "\n",
      "         [[0, 0, 0,  ..., 0, 0, 0],\n",
      "          [0, 0, 0,  ..., 0, 0, 0],\n",
      "          [0, 0, 0,  ..., 0, 0, 0],\n",
      "          [0, 0, 0,  ..., 0, 0, 0],\n",
      "          [0, 0, 0,  ..., 0, 0, 0]]],\n",
      "\n",
      "\n",
      "        [[[0, 0, 0,  ..., 1, 0, 0],\n",
      "          [0, 0, 0,  ..., 0, 0, 0],\n",
      "          [0, 0, 0,  ..., 0, 0, 0],\n",
      "          [0, 0, 0,  ..., 0, 0, 0],\n",
      "          [0, 0, 0,  ..., 0, 0, 0]],\n",
      "\n",
      "         [[0, 0, 0,  ..., 0, 0, 0],\n",
      "          [0, 0, 0,  ..., 0, 0, 0],\n",
      "          [0, 0, 0,  ..., 0, 0, 0],\n",
      "          [0, 0, 0,  ..., 0, 1, 0],\n",
      "          [0, 0, 0,  ..., 0, 0, 0]]]]), 'mu': tensor(0.9200), 'phase': tensor(0.), 'n': tensor(0., dtype=torch.float64), 'phi2': tensor(0.2521, dtype=torch.float64), 'id': 101499}\n"
     ]
    }
   ],
   "source": [
    "\"\"\"\n",
    "Load different lattice size\n",
    "\"\"\"\n",
    "#conf_file_dir = \"/media/data/sbulusu/datasets/kl_config/\"\n",
    "conf_file_dir = \"/media/data/sbulusu/datasets/complexworm/Results for CNN/\"\n",
    "#file_format = \"*.dat\"\n",
    "#file_format_list = [\"*1.170*.dat\", \"*0.910*.dat\"]\n",
    "#file_format_list = [\"configs-200-10*.dat\"]\n",
    "file_format_list = [\"configs-100-5*.dat\"]\n",
    "#file_format_list = [\"configs-50-2*.dat\"]\n",
    "#file_format_list = [\"configs*0.dat\"]\n",
    "#lat_size = [10,200]\n",
    "lat_size = [5,100]\n",
    "#lat_size = [2,50]\n",
    "dim = len(lat_size)\n",
    "conf_size = np.concatenate(([2],[dim],lat_size))\n",
    "print(conf_size)\n",
    "output_size = np.concatenate(([np.prod(conf_size[0:2])],conf_size[2:]))\n",
    "print(output_size)\n",
    "\n",
    "label_names = [\"n\", \"phi2\"]\n",
    "labels_in_file_name = [\"mu\", \"phase\"]\n",
    "\n",
    "new_dataset = lat_dataset_load_new_lightning.kl_dataset(conf_file_dir, file_format_list, conf_size, output_size, label_names, labels_in_file_name, transform=None, device=device)"
   ]
  },
  {
   "cell_type": "code",
   "execution_count": 25,
   "metadata": {},
   "outputs": [],
   "source": [
    "target_attributes = [\"phi2\", \"n\"]\n",
    "output_attributes = target_attributes\n",
    "\n",
    "new_dataset.train_label_names = target_attributes"
   ]
  },
  {
   "cell_type": "code",
   "execution_count": 26,
   "metadata": {},
   "outputs": [],
   "source": [
    "net = best_model"
   ]
  },
  {
   "cell_type": "code",
   "execution_count": 27,
   "metadata": {},
   "outputs": [
    {
     "name": "stdout",
     "output_type": "stream",
     "text": [
      "(-1, 4, 5, 100)\n"
     ]
    },
    {
     "data": {
      "application/vnd.jupyter.widget-view+json": {
       "model_id": "f478bec84be4427a9e370c5ccb2d4a8f",
       "version_major": 2,
       "version_minor": 0
      },
      "text/plain": [
       "HBox(children=(FloatProgress(value=0.0, max=101500.0), HTML(value='')))"
      ]
     },
     "metadata": {},
     "output_type": "display_data"
    },
    {
     "name": "stdout",
     "output_type": "stream",
     "text": [
      "\n"
     ]
    }
   ],
   "source": [
    "\n",
    "new_data_len = len(new_dataset)\n",
    "test_indices = list(range(new_data_len))\n",
    "\n",
    "mus = np.zeros(new_data_len)\n",
    "\n",
    "#input_size = net.input_size\n",
    "input_size = new_dataset.output_size\n",
    "output_size = net.output_size\n",
    "model_input_shape = tuple(np.concatenate(([-1],input_size)))\n",
    "print(model_input_shape)\n",
    "\n",
    "#net_outputs = np.zeros( (len(test_indices)) )\n",
    "net_outputs = np.zeros( (len(test_indices), len(output_attributes)) )\n",
    "#labels = np.zeros( (len(test_indices)) )\n",
    "labels = np.zeros( (len(test_indices), len(output_attributes)) )\n",
    "mus = np.zeros( (len(test_indices)) )\n",
    "\n",
    "for i in tqdm(range(new_data_len)):\n",
    "#for i in tqdm(range(len(val_indices))):\n",
    "    test_index = i\n",
    "    conf_lat_links, label = new_dataset.get_conf(test_index)\n",
    "    mus[i] = new_dataset.data[test_index][\"mu\"].detach().cpu().numpy()\n",
    "    net_outputs[i] = net(conf_lat_links.view(model_input_shape).to(device).float()).detach().cpu().numpy()\n",
    "    #net_outputs[i] = net(conf_lat_links.to(device).float()).detach().cpu().numpy()\n",
    "    #output = net(conf_lat_links.view(model_input_shape).float())\n",
    "    #labels[i] = label.detach().cpu().numpy()\n",
    "    labels[i] = np.array(label)"
   ]
  },
  {
   "cell_type": "code",
   "execution_count": 28,
   "metadata": {},
   "outputs": [
    {
     "name": "stdout",
     "output_type": "stream",
     "text": [
      "lat_size [5, 100]\n",
      "MSE phi2\n",
      "1.545544002629478e-05\n",
      "MSE n\n",
      "0.0009964265284393206\n"
     ]
    }
   ],
   "source": [
    "print(f\"lat_size {lat_size}\")\n",
    "for i in range(len(target_attributes)):\n",
    "    print(f\"MSE {target_attributes[i]}\")\n",
    "    print(np.mean( abs((labels[:,i]-net_outputs[:,i])**2) ))"
   ]
  },
  {
   "cell_type": "code",
   "execution_count": 29,
   "metadata": {},
   "outputs": [],
   "source": [
    "unique_mus = np.unique(mus)\n",
    "num_mus = len(unique_mus)"
   ]
  },
  {
   "cell_type": "code",
   "execution_count": 30,
   "metadata": {},
   "outputs": [],
   "source": [
    "##save the observable values in a dictionary\n",
    "obs_mu_dict = {}\n",
    "for target_name in target_attributes:\n",
    "    obs_mu_dict[target_name] = {\"label\" : [],\"pred\" : []}"
   ]
  },
  {
   "cell_type": "code",
   "execution_count": 31,
   "metadata": {},
   "outputs": [],
   "source": [
    "\n",
    "obs_label = []\n",
    "obs_pred = []\n",
    "for mu_val in unique_mus:\n",
    "    mu_loc = np.where(mus == mu_val)[0]\n",
    "    obs_label_mu = np.array(labels[mu_loc,0])\n",
    "    obs_pred_mu = np.array(net_outputs[mu_loc,0])\n",
    "    \n",
    "    obs_label.append(obs_label_mu)    \n",
    "    obs_pred.append(obs_pred_mu)\n",
    "\n",
    "    "
   ]
  },
  {
   "cell_type": "code",
   "execution_count": 32,
   "metadata": {},
   "outputs": [],
   "source": [
    "##to be able to plot the observables against mu, they have to be sorted with respect to it\n",
    "for mu_val in unique_mus:\n",
    "    ##find which examples have a particular mu value (mu_val)\n",
    "    mu_loc = np.where(mus == mu_val)[0]\n",
    "    ##find the labels and prediction of observables which correspond to these examples\n",
    "    obs_label_mu_val = labels[mu_loc]\n",
    "    obs_pred_mu_val = net_outputs[mu_loc]\n",
    "    for target_i, target_name in enumerate(target_attributes):\n",
    "        \n",
    "        obs_label_mu = np.array(labels[mu_loc,target_i])\n",
    "        obs_pred_mu = np.array(net_outputs[mu_loc,target_i])\n",
    "        \n",
    "        obs_mu_dict[target_name][\"label\"].append(obs_label_mu)\n",
    "        obs_mu_dict[target_name][\"pred\"].append(obs_pred_mu)\n",
    "\n",
    "        \n",
    "        \n",
    "        \n",
    "for target_i, target_name in enumerate(target_attributes):\n",
    "    obs_mu_dict[target_name][\"label\"] = np.array(obs_mu_dict[target_name][\"label\"])\n",
    "    obs_mu_dict[target_name][\"pred\"] = np.array(obs_mu_dict[target_name][\"pred\"])"
   ]
  },
  {
   "cell_type": "code",
   "execution_count": 33,
   "metadata": {},
   "outputs": [
    {
     "data": {
      "image/png": "[encoded data removed]",
      "text/plain": [
       "<Figure size 720x720 with 1 Axes>"
      ]
     },
     "metadata": {
      "needs_background": "light"
     },
     "output_type": "display_data"
    }
   ],
   "source": [
    "plt.rcParams['figure.figsize'] = [10, 10]\n",
    "\n",
    "plot_target = \"phi2\"\n",
    "\n",
    "obs_label = np.array(obs_mu_dict[plot_target][\"label\"])\n",
    "obs_pred = np.array(obs_mu_dict[plot_target][\"pred\"])\n",
    "\n",
    "mean_obs_label = np.zeros(len(obs_label))\n",
    "std_obs_label = np.zeros(len(obs_label))\n",
    "\n",
    "mean_obs_pred = np.zeros(len(obs_pred))\n",
    "std_obs_pred = np.zeros(len(obs_pred)) \n",
    "\n",
    "for i in range(len(obs_label)):\n",
    "    mean_obs_label[i] = np.mean(obs_label[i])\n",
    "    std_obs_label[i] = np.std(obs_label[i])\n",
    "    \n",
    "    mean_obs_pred[i] = np.mean(obs_pred[i])\n",
    "    std_obs_pred[i] = np.std(obs_pred[i])\n",
    "    \n",
    "#plt.scatter(unique_mus, mean_obs_label, c=\"g\")\n",
    "#plt.scatter(unique_mus, mean_obs_pred, c=\"r\")\n",
    "    \n",
    "plt.errorbar(unique_mus, mean_obs_label, yerr=std_obs_label, color=\"g\", label=\"ϕ² label\")\n",
    "plt.errorbar(unique_mus, mean_obs_pred, yerr=std_obs_pred, color=\"r\", label=\"ϕ² prediction\")\n",
    "plt.legend(loc=\"upper left\")\n",
    "plt.savefig(\"phi2_mu_mod\" + str(lat_size))"
   ]
  },
  {
   "cell_type": "code",
   "execution_count": 34,
   "metadata": {},
   "outputs": [
    {
     "data": {
      "image/png": "[encoded data removed]",
      "text/plain": [
       "<Figure size 720x720 with 1 Axes>"
      ]
     },
     "metadata": {
      "needs_background": "light"
     },
     "output_type": "display_data"
    }
   ],
   "source": [
    "plt.rcParams['figure.figsize'] = [10, 10]\n",
    "\n",
    "plot_target = \"n\"\n",
    "\n",
    "obs_label = np.array(obs_mu_dict[plot_target][\"label\"])\n",
    "obs_pred = np.array(obs_mu_dict[plot_target][\"pred\"])\n",
    "\n",
    "mean_obs_label = np.zeros(len(obs_label))\n",
    "std_obs_label = np.zeros(len(obs_label))\n",
    "\n",
    "mean_obs_pred = np.zeros(len(obs_pred))\n",
    "std_obs_pred = np.zeros(len(obs_pred)) \n",
    "\n",
    "for i in range(len(obs_label)):\n",
    "    mean_obs_label[i] = np.mean(obs_label[i])\n",
    "    std_obs_label[i] = np.std(obs_label[i])\n",
    "    \n",
    "    mean_obs_pred[i] = np.mean(obs_pred[i])\n",
    "    std_obs_pred[i] = np.std(obs_pred[i])\n",
    "    \n",
    "#plt.scatter(unique_mus, mean_obs_label, c=\"g\")\n",
    "#plt.scatter(unique_mus, mean_obs_pred, c=\"r\")\n",
    "    \n",
    "plt.errorbar(unique_mus, mean_obs_label, yerr=std_obs_label, color=\"g\", label=\"n label\")\n",
    "plt.errorbar(unique_mus, mean_obs_pred, yerr=std_obs_pred, color=\"r\", label=\"n prediction\")\n",
    "plt.legend(loc=\"upper left\")\n",
    "plt.savefig(\"n_mu_mod\" + str(lat_size))"
   ]
  },
  {
   "cell_type": "code",
   "execution_count": 35,
   "metadata": {},
   "outputs": [
    {
     "data": {
      "image/png": "[encoded data removed]",
      "text/plain": [
       "<Figure size 720x720 with 1 Axes>"
      ]
     },
     "metadata": {
      "needs_background": "light"
     },
     "output_type": "display_data"
    }
   ],
   "source": [
    "plt.rcParams['figure.figsize'] = [10, 10]\n",
    "\n",
    "target_i = 0\n",
    "\n",
    "x_max = np.max(labels[:,target_i])\n",
    "x_min = np.min(labels[:,target_i])\n",
    "\n",
    "\n",
    "#plt.scatter(labels[:,target_i], net_outputs[:,target_i], c=\"r\", label=\"model\")\n",
    "plt.scatter(labels[:,target_i], net_outputs[:,target_i], c=mus, label=\"model\")\n",
    "plt.plot([x_min, x_max], [x_min, x_max], linestyle=\"--\", color=\"b\", label=\"(ideal)\")\n",
    "plt.xlabel(\"ϕ² label\")\n",
    "plt.ylabel(\"ϕ² predicted\")\n",
    "plt.legend(loc=\"upper left\")\n",
    "#plt.show()\n",
    "plt.savefig(\"phi2_label_pred_mod\" + str(lat_size)) "
   ]
  },
  {
   "cell_type": "code",
   "execution_count": 36,
   "metadata": {},
   "outputs": [
    {
     "data": {
      "text/plain": [
       "29"
      ]
     },
     "execution_count": 36,
     "metadata": {},
     "output_type": "execute_result"
    }
   ],
   "source": [
    "len(unique_mus)"
   ]
  },
  {
   "cell_type": "code",
   "execution_count": 37,
   "metadata": {
    "scrolled": true
   },
   "outputs": [
    {
     "data": {
      "image/png": "[encoded data removed]",
      "text/plain": [
       "<Figure size 720x720 with 1 Axes>"
      ]
     },
     "metadata": {
      "needs_background": "light"
     },
     "output_type": "display_data"
    }
   ],
   "source": [
    "plt.rcParams['figure.figsize'] = [10, 10]\n",
    "\n",
    "target_i = 1\n",
    "\n",
    "x_max = np.max(labels[:,target_i])\n",
    "x_min = np.min(labels[:,target_i])\n",
    "\n",
    "\n",
    "#plt.scatter(labels[:,target_i], net_outputs[:,target_i], c=\"r\", label=\"model\")\n",
    "plt.scatter(labels[:,target_i], net_outputs[:,target_i], c=mus, label=\"model\")\n",
    "plt.plot([x_min, x_max], [x_min, x_max], linestyle=\"--\", color=\"b\", label=\"(ideal)\")\n",
    "plt.xlabel(\"n label\")\n",
    "plt.ylabel(\"n predicted\")\n",
    "plt.legend(loc=\"upper left\")\n",
    "#plt.show()\n",
    "plt.savefig(\"n_label_pred_mod\" + str(lat_size)) "
   ]
  },
  {
   "cell_type": "code",
   "execution_count": null,
   "metadata": {},
   "outputs": [],
   "source": []
  },
  {
   "cell_type": "code",
   "execution_count": null,
   "metadata": {},
   "outputs": [],
   "source": []
  },
  {
   "cell_type": "code",
   "execution_count": 38,
   "metadata": {},
   "outputs": [
    {
     "name": "stdout",
     "output_type": "stream",
     "text": [
      "[  2   2   8 125]\n",
      "[  4   8 125]\n",
      "[ -1   2   2   8 125]\n"
     ]
    },
    {
     "data": {
      "application/vnd.jupyter.widget-view+json": {
       "model_id": "bb1e7b05be144b5da1a1dc35acecca9f",
       "version_major": 2,
       "version_minor": 0
      },
      "text/plain": [
       "HBox(children=(FloatProgress(value=0.0, max=29.0), HTML(value='')))"
      ]
     },
     "metadata": {},
     "output_type": "display_data"
    },
    {
     "name": "stdout",
     "output_type": "stream",
     "text": [
      "Read conf file /media/data/sbulusu/datasets/complexworm/Results for CNN/configs-125-8-4.010-1.000-1.025.dat with size :torch.Size([5000, 2, 2, 8, 125])\n",
      "skipping 0.3 of configurations (warm up)\n"
     ]
    },
    {
     "data": {
      "application/vnd.jupyter.widget-view+json": {
       "model_id": "7c662e8a89a64498a414f3513081de14",
       "version_major": 2,
       "version_minor": 0
      },
      "text/plain": [
       "HBox(children=(FloatProgress(value=0.0, max=3500.0), HTML(value='')))"
      ]
     },
     "metadata": {},
     "output_type": "display_data"
    },
    {
     "name": "stdout",
     "output_type": "stream",
     "text": [
      "first example loaded:\n",
      "{'conf': tensor([[[[ 0,  1,  2,  ...,  0,  1,  1],\n",
      "          [ 0,  2,  1,  ...,  1,  0,  0],\n",
      "          [ 1,  0,  1,  ...,  1,  1,  1],\n",
      "          ...,\n",
      "          [ 0,  0,  0,  ...,  0,  1,  1],\n",
      "          [ 1,  1,  0,  ...,  0,  1,  1],\n",
      "          [ 2,  0,  0,  ...,  1,  0,  0]],\n",
      "\n",
      "         [[ 0,  1,  0,  ...,  1, -1,  0],\n",
      "          [ 0, -1,  1,  ...,  0,  0,  0],\n",
      "          [ 0,  0,  0,  ...,  0,  0,  0],\n",
      "          ...,\n",
      "          [ 1,  0,  0,  ...,  0,  0,  0],\n",
      "          [ 1,  0,  1,  ...,  1, -1,  0],\n",
      "          [-1,  2,  1,  ...,  1,  0,  0]]],\n",
      "\n",
      "\n",
      "        [[[ 1,  0,  0,  ...,  0,  0,  0],\n",
      "          [ 0,  0,  0,  ...,  0,  0,  0],\n",
      "          [ 0,  0,  0,  ...,  0,  0,  0],\n",
      "          ...,\n",
      "          [ 0,  0,  0,  ...,  0,  1,  0],\n",
      "          [ 0,  0,  0,  ...,  0,  0,  0],\n",
      "          [ 0,  1,  2,  ...,  0,  0,  0]],\n",
      "\n",
      "         [[ 0,  0,  0,  ...,  0,  0,  1],\n",
      "          [ 0,  0,  0,  ...,  0,  1,  0],\n",
      "          [ 0,  0,  0,  ...,  0,  0,  0],\n",
      "          ...,\n",
      "          [ 0,  0,  0,  ...,  0,  0,  3],\n",
      "          [ 0,  0,  0,  ...,  0,  0,  0],\n",
      "          [ 0,  0,  0,  ...,  0,  1,  0]]]]), 'mu': tensor(1.0250), 'phase': tensor(1.), 'n': tensor(0.5000, dtype=torch.float64), 'phi2': tensor(0.4197, dtype=torch.float64), 'id': 0}\n",
      "\n",
      "Read conf file /media/data/sbulusu/datasets/complexworm/Results for CNN/configs-125-8-4.010-1.000-1.015.dat with size :torch.Size([5000, 2, 2, 8, 125])\n",
      "skipping 0.3 of configurations (warm up)\n"
     ]
    },
    {
     "data": {
      "application/vnd.jupyter.widget-view+json": {
       "model_id": "ba81ca7045564536b6511d8c1d7bdd44",
       "version_major": 2,
       "version_minor": 0
      },
      "text/plain": [
       "HBox(children=(FloatProgress(value=0.0, max=3500.0), HTML(value='')))"
      ]
     },
     "metadata": {},
     "output_type": "display_data"
    },
    {
     "name": "stdout",
     "output_type": "stream",
     "text": [
      "\n",
      "Read conf file /media/data/sbulusu/datasets/complexworm/Results for CNN/configs-125-8-4.010-1.000-0.935.dat with size :torch.Size([5000, 2, 2, 8, 125])\n",
      "skipping 0.3 of configurations (warm up)\n"
     ]
    },
    {
     "data": {
      "application/vnd.jupyter.widget-view+json": {
       "model_id": "79ccbf2c89f14247a99ca0ce54d6acf7",
       "version_major": 2,
       "version_minor": 0
      },
      "text/plain": [
       "HBox(children=(FloatProgress(value=0.0, max=3500.0), HTML(value='')))"
      ]
     },
     "metadata": {},
     "output_type": "display_data"
    },
    {
     "name": "stdout",
     "output_type": "stream",
     "text": [
      "\n",
      "Read conf file /media/data/sbulusu/datasets/complexworm/Results for CNN/configs-125-8-4.010-1.000-0.950.dat with size :torch.Size([5000, 2, 2, 8, 125])\n",
      "skipping 0.3 of configurations (warm up)\n"
     ]
    },
    {
     "data": {
      "application/vnd.jupyter.widget-view+json": {
       "model_id": "2b82939c519d40789681ff9ba169e948",
       "version_major": 2,
       "version_minor": 0
      },
      "text/plain": [
       "HBox(children=(FloatProgress(value=0.0, max=3500.0), HTML(value='')))"
      ]
     },
     "metadata": {},
     "output_type": "display_data"
    },
    {
     "name": "stdout",
     "output_type": "stream",
     "text": [
      "\n",
      "Read conf file /media/data/sbulusu/datasets/complexworm/Results for CNN/configs-125-8-4.010-1.000-0.965.dat with size :torch.Size([5000, 2, 2, 8, 125])\n",
      "skipping 0.3 of configurations (warm up)\n"
     ]
    },
    {
     "data": {
      "application/vnd.jupyter.widget-view+json": {
       "model_id": "57bee06255e04a1bba96c783b59bbd04",
       "version_major": 2,
       "version_minor": 0
      },
      "text/plain": [
       "HBox(children=(FloatProgress(value=0.0, max=3500.0), HTML(value='')))"
      ]
     },
     "metadata": {},
     "output_type": "display_data"
    },
    {
     "name": "stdout",
     "output_type": "stream",
     "text": [
      "\n",
      "Read conf file /media/data/sbulusu/datasets/complexworm/Results for CNN/configs-125-8-4.010-1.000-0.940.dat with size :torch.Size([5000, 2, 2, 8, 125])\n",
      "skipping 0.3 of configurations (warm up)\n"
     ]
    },
    {
     "data": {
      "application/vnd.jupyter.widget-view+json": {
       "model_id": "0b10e651b7b747c49f14bd4656b4c8fd",
       "version_major": 2,
       "version_minor": 0
      },
      "text/plain": [
       "HBox(children=(FloatProgress(value=0.0, max=3500.0), HTML(value='')))"
      ]
     },
     "metadata": {},
     "output_type": "display_data"
    },
    {
     "name": "stdout",
     "output_type": "stream",
     "text": [
      "\n",
      "Read conf file /media/data/sbulusu/datasets/complexworm/Results for CNN/configs-125-8-4.010-1.000-0.970.dat with size :torch.Size([5000, 2, 2, 8, 125])\n",
      "skipping 0.3 of configurations (warm up)\n"
     ]
    },
    {
     "data": {
      "application/vnd.jupyter.widget-view+json": {
       "model_id": "e33bc5da96c94df6a031e825aaabe9ec",
       "version_major": 2,
       "version_minor": 0
      },
      "text/plain": [
       "HBox(children=(FloatProgress(value=0.0, max=3500.0), HTML(value='')))"
      ]
     },
     "metadata": {},
     "output_type": "display_data"
    },
    {
     "name": "stdout",
     "output_type": "stream",
     "text": [
      "\n",
      "Read conf file /media/data/sbulusu/datasets/complexworm/Results for CNN/configs-125-8-4.010-1.000-0.995.dat with size :torch.Size([5000, 2, 2, 8, 125])\n",
      "skipping 0.3 of configurations (warm up)\n"
     ]
    },
    {
     "data": {
      "application/vnd.jupyter.widget-view+json": {
       "model_id": "5abd663093534995b9c5821c3986621a",
       "version_major": 2,
       "version_minor": 0
      },
      "text/plain": [
       "HBox(children=(FloatProgress(value=0.0, max=3500.0), HTML(value='')))"
      ]
     },
     "metadata": {},
     "output_type": "display_data"
    },
    {
     "name": "stdout",
     "output_type": "stream",
     "text": [
      "\n",
      "Read conf file /media/data/sbulusu/datasets/complexworm/Results for CNN/configs-125-8-4.010-1.000-1.010.dat with size :torch.Size([5000, 2, 2, 8, 125])\n",
      "skipping 0.3 of configurations (warm up)\n"
     ]
    },
    {
     "data": {
      "application/vnd.jupyter.widget-view+json": {
       "model_id": "0e82738844d94853935636abfa19b348",
       "version_major": 2,
       "version_minor": 0
      },
      "text/plain": [
       "HBox(children=(FloatProgress(value=0.0, max=3500.0), HTML(value='')))"
      ]
     },
     "metadata": {},
     "output_type": "display_data"
    },
    {
     "name": "stdout",
     "output_type": "stream",
     "text": [
      "\n",
      "Read conf file /media/data/sbulusu/datasets/complexworm/Results for CNN/configs-125-8-4.010-1.000-1.040.dat with size :torch.Size([5000, 2, 2, 8, 125])\n",
      "skipping 0.3 of configurations (warm up)\n"
     ]
    },
    {
     "data": {
      "application/vnd.jupyter.widget-view+json": {
       "model_id": "7ed405eea8b3431688589dfe0b3daad0",
       "version_major": 2,
       "version_minor": 0
      },
      "text/plain": [
       "HBox(children=(FloatProgress(value=0.0, max=3500.0), HTML(value='')))"
      ]
     },
     "metadata": {},
     "output_type": "display_data"
    },
    {
     "name": "stdout",
     "output_type": "stream",
     "text": [
      "\n",
      "Read conf file /media/data/sbulusu/datasets/complexworm/Results for CNN/configs-125-8-4.010-1.000-0.960.dat with size :torch.Size([5000, 2, 2, 8, 125])\n",
      "skipping 0.3 of configurations (warm up)\n"
     ]
    },
    {
     "data": {
      "application/vnd.jupyter.widget-view+json": {
       "model_id": "c2261dc7020442e59f900972bfab8ee8",
       "version_major": 2,
       "version_minor": 0
      },
      "text/plain": [
       "HBox(children=(FloatProgress(value=0.0, max=3500.0), HTML(value='')))"
      ]
     },
     "metadata": {},
     "output_type": "display_data"
    },
    {
     "name": "stdout",
     "output_type": "stream",
     "text": [
      "\n",
      "Read conf file /media/data/sbulusu/datasets/complexworm/Results for CNN/configs-125-8-4.010-1.000-0.915.dat with size :torch.Size([5000, 2, 2, 8, 125])\n",
      "skipping 0.3 of configurations (warm up)\n"
     ]
    },
    {
     "data": {
      "application/vnd.jupyter.widget-view+json": {
       "model_id": "c036c8d3e39e4a10bc192033ae5d5037",
       "version_major": 2,
       "version_minor": 0
      },
      "text/plain": [
       "HBox(children=(FloatProgress(value=0.0, max=3500.0), HTML(value='')))"
      ]
     },
     "metadata": {},
     "output_type": "display_data"
    },
    {
     "name": "stdout",
     "output_type": "stream",
     "text": [
      "\n",
      "Read conf file /media/data/sbulusu/datasets/complexworm/Results for CNN/configs-125-8-4.010-1.000-0.990.dat with size :torch.Size([5000, 2, 2, 8, 125])\n",
      "skipping 0.3 of configurations (warm up)\n"
     ]
    },
    {
     "data": {
      "application/vnd.jupyter.widget-view+json": {
       "model_id": "5c205effb1584e3b909b9e9917246181",
       "version_major": 2,
       "version_minor": 0
      },
      "text/plain": [
       "HBox(children=(FloatProgress(value=0.0, max=3500.0), HTML(value='')))"
      ]
     },
     "metadata": {},
     "output_type": "display_data"
    },
    {
     "name": "stdout",
     "output_type": "stream",
     "text": [
      "\n",
      "Read conf file /media/data/sbulusu/datasets/complexworm/Results for CNN/configs-125-8-4.010-1.000-1.030.dat with size :torch.Size([5000, 2, 2, 8, 125])\n",
      "skipping 0.3 of configurations (warm up)\n"
     ]
    },
    {
     "data": {
      "application/vnd.jupyter.widget-view+json": {
       "model_id": "9d313edfe65e4078b577e4eb09f9a7b9",
       "version_major": 2,
       "version_minor": 0
      },
      "text/plain": [
       "HBox(children=(FloatProgress(value=0.0, max=3500.0), HTML(value='')))"
      ]
     },
     "metadata": {},
     "output_type": "display_data"
    },
    {
     "name": "stdout",
     "output_type": "stream",
     "text": [
      "\n",
      "Read conf file /media/data/sbulusu/datasets/complexworm/Results for CNN/configs-125-8-4.010-1.000-1.005.dat with size :torch.Size([5000, 2, 2, 8, 125])\n",
      "skipping 0.3 of configurations (warm up)\n"
     ]
    },
    {
     "data": {
      "application/vnd.jupyter.widget-view+json": {
       "model_id": "bfd55d7671fa4d4da88d04caaa8c07f8",
       "version_major": 2,
       "version_minor": 0
      },
      "text/plain": [
       "HBox(children=(FloatProgress(value=0.0, max=3500.0), HTML(value='')))"
      ]
     },
     "metadata": {},
     "output_type": "display_data"
    },
    {
     "name": "stdout",
     "output_type": "stream",
     "text": [
      "\n",
      "Read conf file /media/data/sbulusu/datasets/complexworm/Results for CNN/configs-125-8-4.010-1.000-0.975.dat with size :torch.Size([5000, 2, 2, 8, 125])\n",
      "skipping 0.3 of configurations (warm up)\n"
     ]
    },
    {
     "data": {
      "application/vnd.jupyter.widget-view+json": {
       "model_id": "f660e0a062cf41a7a5f51ad1795c3afd",
       "version_major": 2,
       "version_minor": 0
      },
      "text/plain": [
       "HBox(children=(FloatProgress(value=0.0, max=3500.0), HTML(value='')))"
      ]
     },
     "metadata": {},
     "output_type": "display_data"
    },
    {
     "name": "stdout",
     "output_type": "stream",
     "text": [
      "\n",
      "Read conf file /media/data/sbulusu/datasets/complexworm/Results for CNN/configs-125-8-4.010-1.000-1.000.dat with size :torch.Size([5000, 2, 2, 8, 125])\n",
      "skipping 0.3 of configurations (warm up)\n"
     ]
    },
    {
     "data": {
      "application/vnd.jupyter.widget-view+json": {
       "model_id": "357209116f754536a76be9b7fe84ff10",
       "version_major": 2,
       "version_minor": 0
      },
      "text/plain": [
       "HBox(children=(FloatProgress(value=0.0, max=3500.0), HTML(value='')))"
      ]
     },
     "metadata": {},
     "output_type": "display_data"
    },
    {
     "name": "stdout",
     "output_type": "stream",
     "text": [
      "\n",
      "Read conf file /media/data/sbulusu/datasets/complexworm/Results for CNN/configs-125-8-4.010-1.000-0.910.dat with size :torch.Size([5000, 2, 2, 8, 125])\n",
      "skipping 0.3 of configurations (warm up)\n"
     ]
    },
    {
     "data": {
      "application/vnd.jupyter.widget-view+json": {
       "model_id": "eca1cf68a1e84a859f1b622f21103939",
       "version_major": 2,
       "version_minor": 0
      },
      "text/plain": [
       "HBox(children=(FloatProgress(value=0.0, max=3500.0), HTML(value='')))"
      ]
     },
     "metadata": {},
     "output_type": "display_data"
    },
    {
     "name": "stdout",
     "output_type": "stream",
     "text": [
      "\n",
      "Read conf file /media/data/sbulusu/datasets/complexworm/Results for CNN/configs-125-8-4.010-1.000-1.045.dat with size :torch.Size([5000, 2, 2, 8, 125])\n",
      "skipping 0.3 of configurations (warm up)\n"
     ]
    },
    {
     "data": {
      "application/vnd.jupyter.widget-view+json": {
       "model_id": "7959dc9f022048f9a7e47628580c858c",
       "version_major": 2,
       "version_minor": 0
      },
      "text/plain": [
       "HBox(children=(FloatProgress(value=0.0, max=3500.0), HTML(value='')))"
      ]
     },
     "metadata": {},
     "output_type": "display_data"
    },
    {
     "name": "stdout",
     "output_type": "stream",
     "text": [
      "\n",
      "Read conf file /media/data/sbulusu/datasets/complexworm/Results for CNN/configs-125-8-4.010-1.000-1.020.dat with size :torch.Size([5000, 2, 2, 8, 125])\n",
      "skipping 0.3 of configurations (warm up)\n"
     ]
    },
    {
     "data": {
      "application/vnd.jupyter.widget-view+json": {
       "model_id": "e084d0324b8542cba8730c68e629357b",
       "version_major": 2,
       "version_minor": 0
      },
      "text/plain": [
       "HBox(children=(FloatProgress(value=0.0, max=3500.0), HTML(value='')))"
      ]
     },
     "metadata": {},
     "output_type": "display_data"
    },
    {
     "name": "stdout",
     "output_type": "stream",
     "text": [
      "\n",
      "Read conf file /media/data/sbulusu/datasets/complexworm/Results for CNN/configs-125-8-4.010-1.000-0.980.dat with size :torch.Size([5000, 2, 2, 8, 125])\n",
      "skipping 0.3 of configurations (warm up)\n"
     ]
    },
    {
     "data": {
      "application/vnd.jupyter.widget-view+json": {
       "model_id": "a58f350df6134872b1722505fec37a40",
       "version_major": 2,
       "version_minor": 0
      },
      "text/plain": [
       "HBox(children=(FloatProgress(value=0.0, max=3500.0), HTML(value='')))"
      ]
     },
     "metadata": {},
     "output_type": "display_data"
    },
    {
     "name": "stdout",
     "output_type": "stream",
     "text": [
      "\n",
      "Read conf file /media/data/sbulusu/datasets/complexworm/Results for CNN/configs-125-8-4.010-1.000-0.985.dat with size :torch.Size([5000, 2, 2, 8, 125])\n",
      "skipping 0.3 of configurations (warm up)\n"
     ]
    },
    {
     "data": {
      "application/vnd.jupyter.widget-view+json": {
       "model_id": "2864fe1c6ec84ab88ed1d73fa2aaf02d",
       "version_major": 2,
       "version_minor": 0
      },
      "text/plain": [
       "HBox(children=(FloatProgress(value=0.0, max=3500.0), HTML(value='')))"
      ]
     },
     "metadata": {},
     "output_type": "display_data"
    },
    {
     "name": "stdout",
     "output_type": "stream",
     "text": [
      "\n",
      "Read conf file /media/data/sbulusu/datasets/complexworm/Results for CNN/configs-125-8-4.010-1.000-0.955.dat with size :torch.Size([5000, 2, 2, 8, 125])\n",
      "skipping 0.3 of configurations (warm up)\n"
     ]
    },
    {
     "data": {
      "application/vnd.jupyter.widget-view+json": {
       "model_id": "ab79919a2b39428facace1427c982c2a",
       "version_major": 2,
       "version_minor": 0
      },
      "text/plain": [
       "HBox(children=(FloatProgress(value=0.0, max=3500.0), HTML(value='')))"
      ]
     },
     "metadata": {},
     "output_type": "display_data"
    },
    {
     "name": "stdout",
     "output_type": "stream",
     "text": [
      "\n",
      "Read conf file /media/data/sbulusu/datasets/complexworm/Results for CNN/configs-125-8-4.010-1.000-0.930.dat with size :torch.Size([5000, 2, 2, 8, 125])\n",
      "skipping 0.3 of configurations (warm up)\n"
     ]
    },
    {
     "data": {
      "application/vnd.jupyter.widget-view+json": {
       "model_id": "4efac6669f0047e491cf43af94692241",
       "version_major": 2,
       "version_minor": 0
      },
      "text/plain": [
       "HBox(children=(FloatProgress(value=0.0, max=3500.0), HTML(value='')))"
      ]
     },
     "metadata": {},
     "output_type": "display_data"
    },
    {
     "name": "stdout",
     "output_type": "stream",
     "text": [
      "\n",
      "Read conf file /media/data/sbulusu/datasets/complexworm/Results for CNN/configs-125-8-4.010-1.000-0.920.dat with size :torch.Size([5000, 2, 2, 8, 125])\n",
      "skipping 0.3 of configurations (warm up)\n"
     ]
    },
    {
     "data": {
      "application/vnd.jupyter.widget-view+json": {
       "model_id": "80643e98a4294c7ea55579e127b07f41",
       "version_major": 2,
       "version_minor": 0
      },
      "text/plain": [
       "HBox(children=(FloatProgress(value=0.0, max=3500.0), HTML(value='')))"
      ]
     },
     "metadata": {},
     "output_type": "display_data"
    },
    {
     "name": "stdout",
     "output_type": "stream",
     "text": [
      "\n",
      "Read conf file /media/data/sbulusu/datasets/complexworm/Results for CNN/configs-125-8-4.010-1.000-0.945.dat with size :torch.Size([5000, 2, 2, 8, 125])\n",
      "skipping 0.3 of configurations (warm up)\n"
     ]
    },
    {
     "data": {
      "application/vnd.jupyter.widget-view+json": {
       "model_id": "51b5321ebeb945ef9fff529915bfc9a5",
       "version_major": 2,
       "version_minor": 0
      },
      "text/plain": [
       "HBox(children=(FloatProgress(value=0.0, max=3500.0), HTML(value='')))"
      ]
     },
     "metadata": {},
     "output_type": "display_data"
    },
    {
     "name": "stdout",
     "output_type": "stream",
     "text": [
      "\n",
      "Read conf file /media/data/sbulusu/datasets/complexworm/Results for CNN/configs-125-8-4.010-1.000-0.925.dat with size :torch.Size([5000, 2, 2, 8, 125])\n",
      "skipping 0.3 of configurations (warm up)\n"
     ]
    },
    {
     "data": {
      "application/vnd.jupyter.widget-view+json": {
       "model_id": "d7bedd28dc904c4daeb10aef560069a1",
       "version_major": 2,
       "version_minor": 0
      },
      "text/plain": [
       "HBox(children=(FloatProgress(value=0.0, max=3500.0), HTML(value='')))"
      ]
     },
     "metadata": {},
     "output_type": "display_data"
    },
    {
     "name": "stdout",
     "output_type": "stream",
     "text": [
      "\n",
      "Read conf file /media/data/sbulusu/datasets/complexworm/Results for CNN/configs-125-8-4.010-1.000-1.050.dat with size :torch.Size([5000, 2, 2, 8, 125])\n",
      "skipping 0.3 of configurations (warm up)\n"
     ]
    },
    {
     "data": {
      "application/vnd.jupyter.widget-view+json": {
       "model_id": "96c8278808be4358b7bdd244431387c0",
       "version_major": 2,
       "version_minor": 0
      },
      "text/plain": [
       "HBox(children=(FloatProgress(value=0.0, max=3500.0), HTML(value='')))"
      ]
     },
     "metadata": {},
     "output_type": "display_data"
    },
    {
     "name": "stdout",
     "output_type": "stream",
     "text": [
      "\n",
      "Read conf file /media/data/sbulusu/datasets/complexworm/Results for CNN/configs-125-8-4.010-1.000-1.035.dat with size :torch.Size([5000, 2, 2, 8, 125])\n",
      "skipping 0.3 of configurations (warm up)\n"
     ]
    },
    {
     "data": {
      "application/vnd.jupyter.widget-view+json": {
       "model_id": "d58bff6df30845d8a8b26e732f6f5bf3",
       "version_major": 2,
       "version_minor": 0
      },
      "text/plain": [
       "HBox(children=(FloatProgress(value=0.0, max=3500.0), HTML(value='')))"
      ]
     },
     "metadata": {},
     "output_type": "display_data"
    },
    {
     "name": "stdout",
     "output_type": "stream",
     "text": [
      "\n",
      "\n",
      "last example loaded:\n",
      "{'conf': tensor([[[[ 0,  0,  1,  ...,  0,  0,  1],\n",
      "          [ 1,  1,  0,  ...,  0,  0,  1],\n",
      "          [ 0,  0,  0,  ...,  1,  1,  0],\n",
      "          ...,\n",
      "          [ 1,  2,  1,  ...,  0,  1,  1],\n",
      "          [ 1,  1,  0,  ...,  2,  1,  0],\n",
      "          [ 0,  0,  0,  ...,  0,  0,  0]],\n",
      "\n",
      "         [[ 0,  0, -1,  ...,  0,  0,  0],\n",
      "          [ 0,  0,  0,  ...,  0,  0, -1],\n",
      "          [ 0,  0,  0,  ...,  0,  0,  0],\n",
      "          ...,\n",
      "          [ 0,  0, -1,  ...,  0, -1,  0],\n",
      "          [-1,  0,  0,  ...,  0,  0,  1],\n",
      "          [-1,  0,  0,  ...,  0,  0,  1]]],\n",
      "\n",
      "\n",
      "        [[[ 0,  1,  0,  ...,  1,  0,  0],\n",
      "          [ 0,  0,  1,  ...,  0,  0,  0],\n",
      "          [ 0,  0,  0,  ...,  0,  1,  0],\n",
      "          ...,\n",
      "          [ 0,  1,  0,  ...,  0,  0,  0],\n",
      "          [ 0,  0,  0,  ...,  1,  0,  0],\n",
      "          [ 0,  0,  0,  ...,  0,  0,  0]],\n",
      "\n",
      "         [[ 0,  0,  0,  ...,  0,  1,  0],\n",
      "          [ 0,  0,  0,  ...,  0,  0,  0],\n",
      "          [ 0,  0,  0,  ...,  1,  0,  0],\n",
      "          ...,\n",
      "          [ 1,  0,  1,  ...,  0,  0,  0],\n",
      "          [ 0,  0,  1,  ...,  1,  0,  0],\n",
      "          [ 0,  0,  0,  ...,  1,  0,  0]]]]), 'mu': tensor(1.0350), 'phase': tensor(1.), 'n': tensor(0.5000, dtype=torch.float64), 'phi2': tensor(0.4089, dtype=torch.float64), 'id': 101499}\n"
     ]
    }
   ],
   "source": [
    "\"\"\"\n",
    "Load different lattice size\n",
    "\"\"\"\n",
    "#conf_file_dir = \"/media/data/sbulusu/datasets/kl_config/\"\n",
    "conf_file_dir = \"/media/data/sbulusu/datasets/complexworm/Results for CNN/\"\n",
    "#file_format = \"*.dat\"\n",
    "#file_format_list = [\"*1.170*.dat\", \"*0.910*.dat\"]\n",
    "#file_format_list = [\"configs-200-10*.dat\"]\n",
    "#file_format_list = [\"configs-100-5*.dat\"]\n",
    "#file_format_list = [\"configs-50-2*.dat\"]\n",
    "file_format_list = [\"configs-125-8*.dat\"]\n",
    "#file_format_list = [\"configs*0.dat\"]\n",
    "#lat_size = [10,200]\n",
    "#lat_size = [2,50]\n",
    "lat_size = [8,125]\n",
    "dim = len(lat_size)\n",
    "conf_size = np.concatenate(([2],[dim],lat_size))\n",
    "print(conf_size)\n",
    "output_size = np.concatenate(([np.prod(conf_size[0:2])],conf_size[2:]))\n",
    "print(output_size)\n",
    "\n",
    "label_names = [\"n\", \"phi2\"]\n",
    "labels_in_file_name = [\"mu\", \"phase\"]\n",
    "\n",
    "new_dataset = lat_dataset_load_new_lightning.kl_dataset(conf_file_dir, file_format_list, conf_size, output_size, label_names, labels_in_file_name, transform=None, device=device)"
   ]
  },
  {
   "cell_type": "code",
   "execution_count": 39,
   "metadata": {},
   "outputs": [],
   "source": [
    "target_attributes = [\"phi2\", \"n\"]\n",
    "output_attributes = target_attributes\n",
    "\n",
    "new_dataset.train_label_names = target_attributes"
   ]
  },
  {
   "cell_type": "code",
   "execution_count": 40,
   "metadata": {},
   "outputs": [],
   "source": [
    "net = best_model"
   ]
  },
  {
   "cell_type": "code",
   "execution_count": 41,
   "metadata": {},
   "outputs": [
    {
     "name": "stdout",
     "output_type": "stream",
     "text": [
      "(-1, 4, 8, 125)\n"
     ]
    },
    {
     "data": {
      "application/vnd.jupyter.widget-view+json": {
       "model_id": "d318a1cc13fa491eb656fb0b913235d9",
       "version_major": 2,
       "version_minor": 0
      },
      "text/plain": [
       "HBox(children=(FloatProgress(value=0.0, max=101500.0), HTML(value='')))"
      ]
     },
     "metadata": {},
     "output_type": "display_data"
    },
    {
     "name": "stdout",
     "output_type": "stream",
     "text": [
      "\n"
     ]
    }
   ],
   "source": [
    "\n",
    "new_data_len = len(new_dataset)\n",
    "test_indices = list(range(new_data_len))\n",
    "\n",
    "mus = np.zeros(new_data_len)\n",
    "\n",
    "#input_size = net.input_size\n",
    "input_size = new_dataset.output_size\n",
    "output_size = net.output_size\n",
    "model_input_shape = tuple(np.concatenate(([-1],input_size)))\n",
    "print(model_input_shape)\n",
    "\n",
    "#net_outputs = np.zeros( (len(test_indices)) )\n",
    "net_outputs = np.zeros( (len(test_indices), len(output_attributes)) )\n",
    "#labels = np.zeros( (len(test_indices)) )\n",
    "labels = np.zeros( (len(test_indices), len(output_attributes)) )\n",
    "mus = np.zeros( (len(test_indices)) )\n",
    "\n",
    "for i in tqdm(range(new_data_len)):\n",
    "#for i in tqdm(range(len(val_indices))):\n",
    "    test_index = i\n",
    "    conf_lat_links, label = new_dataset.get_conf(test_index)\n",
    "    mus[i] = new_dataset.data[test_index][\"mu\"].detach().cpu().numpy()\n",
    "    net_outputs[i] = net(conf_lat_links.view(model_input_shape).to(device).float()).detach().cpu().numpy()\n",
    "    #net_outputs[i] = net(conf_lat_links.to(device).float()).detach().cpu().numpy()\n",
    "    #output = net(conf_lat_links.view(model_input_shape).float())\n",
    "    #labels[i] = label.detach().cpu().numpy()\n",
    "    labels[i] = np.array(label)"
   ]
  },
  {
   "cell_type": "code",
   "execution_count": 42,
   "metadata": {},
   "outputs": [
    {
     "name": "stdout",
     "output_type": "stream",
     "text": [
      "lat_size [8, 125]\n",
      "MSE phi2\n",
      "1.1932064498784872e-05\n",
      "MSE n\n",
      "0.0006717790127903367\n"
     ]
    }
   ],
   "source": [
    "print(f\"lat_size {lat_size}\")\n",
    "for i in range(len(target_attributes)):\n",
    "    print(f\"MSE {target_attributes[i]}\")\n",
    "    print(np.mean( abs((labels[:,i]-net_outputs[:,i])**2) ))"
   ]
  },
  {
   "cell_type": "code",
   "execution_count": 43,
   "metadata": {},
   "outputs": [],
   "source": [
    "unique_mus = np.unique(mus)\n",
    "num_mus = len(unique_mus)"
   ]
  },
  {
   "cell_type": "code",
   "execution_count": 44,
   "metadata": {},
   "outputs": [],
   "source": [
    "##save the observable values in a dictionary\n",
    "obs_mu_dict = {}\n",
    "for target_name in target_attributes:\n",
    "    obs_mu_dict[target_name] = {\"label\" : [],\"pred\" : []}"
   ]
  },
  {
   "cell_type": "code",
   "execution_count": 45,
   "metadata": {},
   "outputs": [],
   "source": [
    "\n",
    "obs_label = []\n",
    "obs_pred = []\n",
    "for mu_val in unique_mus:\n",
    "    mu_loc = np.where(mus == mu_val)[0]\n",
    "    obs_label_mu = np.array(labels[mu_loc,0])\n",
    "    obs_pred_mu = np.array(net_outputs[mu_loc,0])\n",
    "    \n",
    "    obs_label.append(obs_label_mu)    \n",
    "    obs_pred.append(obs_pred_mu)\n",
    "\n",
    "    "
   ]
  },
  {
   "cell_type": "code",
   "execution_count": 46,
   "metadata": {},
   "outputs": [],
   "source": [
    "##to be able to plot the observables against mu, they have to be sorted with respect to it\n",
    "for mu_val in unique_mus:\n",
    "    ##find which examples have a particular mu value (mu_val)\n",
    "    mu_loc = np.where(mus == mu_val)[0]\n",
    "    ##find the labels and prediction of observables which correspond to these examples\n",
    "    obs_label_mu_val = labels[mu_loc]\n",
    "    obs_pred_mu_val = net_outputs[mu_loc]\n",
    "    for target_i, target_name in enumerate(target_attributes):\n",
    "        \n",
    "        obs_label_mu = np.array(labels[mu_loc,target_i])\n",
    "        obs_pred_mu = np.array(net_outputs[mu_loc,target_i])\n",
    "        \n",
    "        obs_mu_dict[target_name][\"label\"].append(obs_label_mu)\n",
    "        obs_mu_dict[target_name][\"pred\"].append(obs_pred_mu)\n",
    "\n",
    "        \n",
    "        \n",
    "        \n",
    "for target_i, target_name in enumerate(target_attributes):\n",
    "    obs_mu_dict[target_name][\"label\"] = np.array(obs_mu_dict[target_name][\"label\"])\n",
    "    obs_mu_dict[target_name][\"pred\"] = np.array(obs_mu_dict[target_name][\"pred\"])"
   ]
  },
  {
   "cell_type": "code",
   "execution_count": 47,
   "metadata": {},
   "outputs": [
    {
     "data": {
      "image/png": "[encoded data removed]",
      "text/plain": [
       "<Figure size 720x720 with 1 Axes>"
      ]
     },
     "metadata": {
      "needs_background": "light"
     },
     "output_type": "display_data"
    }
   ],
   "source": [
    "plt.rcParams['figure.figsize'] = [10, 10]\n",
    "\n",
    "plot_target = \"phi2\"\n",
    "\n",
    "obs_label = np.array(obs_mu_dict[plot_target][\"label\"])\n",
    "obs_pred = np.array(obs_mu_dict[plot_target][\"pred\"])\n",
    "\n",
    "mean_obs_label = np.zeros(len(obs_label))\n",
    "std_obs_label = np.zeros(len(obs_label))\n",
    "\n",
    "mean_obs_pred = np.zeros(len(obs_pred))\n",
    "std_obs_pred = np.zeros(len(obs_pred)) \n",
    "\n",
    "for i in range(len(obs_label)):\n",
    "    mean_obs_label[i] = np.mean(obs_label[i])\n",
    "    std_obs_label[i] = np.std(obs_label[i])\n",
    "    \n",
    "    mean_obs_pred[i] = np.mean(obs_pred[i])\n",
    "    std_obs_pred[i] = np.std(obs_pred[i])\n",
    "    \n",
    "#plt.scatter(unique_mus, mean_obs_label, c=\"g\")\n",
    "#plt.scatter(unique_mus, mean_obs_pred, c=\"r\")\n",
    "    \n",
    "plt.errorbar(unique_mus, mean_obs_label, yerr=std_obs_label, color=\"g\", label=\"ϕ² label\")\n",
    "plt.errorbar(unique_mus, mean_obs_pred, yerr=std_obs_pred, color=\"r\", label=\"ϕ² prediction\")\n",
    "plt.legend(loc=\"upper left\")\n",
    "plt.savefig(\"phi2_mu_mod\" + str(lat_size))"
   ]
  },
  {
   "cell_type": "code",
   "execution_count": 48,
   "metadata": {},
   "outputs": [
    {
     "data": {
      "image/png": "[encoded data removed]",
      "text/plain": [
       "<Figure size 720x720 with 1 Axes>"
      ]
     },
     "metadata": {
      "needs_background": "light"
     },
     "output_type": "display_data"
    }
   ],
   "source": [
    "plt.rcParams['figure.figsize'] = [10, 10]\n",
    "\n",
    "plot_target = \"n\"\n",
    "\n",
    "obs_label = np.array(obs_mu_dict[plot_target][\"label\"])\n",
    "obs_pred = np.array(obs_mu_dict[plot_target][\"pred\"])\n",
    "\n",
    "mean_obs_label = np.zeros(len(obs_label))\n",
    "std_obs_label = np.zeros(len(obs_label))\n",
    "\n",
    "mean_obs_pred = np.zeros(len(obs_pred))\n",
    "std_obs_pred = np.zeros(len(obs_pred)) \n",
    "\n",
    "for i in range(len(obs_label)):\n",
    "    mean_obs_label[i] = np.mean(obs_label[i])\n",
    "    std_obs_label[i] = np.std(obs_label[i])\n",
    "    \n",
    "    mean_obs_pred[i] = np.mean(obs_pred[i])\n",
    "    std_obs_pred[i] = np.std(obs_pred[i])\n",
    "    \n",
    "#plt.scatter(unique_mus, mean_obs_label, c=\"g\")\n",
    "#plt.scatter(unique_mus, mean_obs_pred, c=\"r\")\n",
    "    \n",
    "plt.errorbar(unique_mus, mean_obs_label, yerr=std_obs_label, color=\"g\", label=\"n label\")\n",
    "plt.errorbar(unique_mus, mean_obs_pred, yerr=std_obs_pred, color=\"r\", label=\"n prediction\")\n",
    "plt.legend(loc=\"upper left\")\n",
    "plt.savefig(\"n_mu_mod\" + str(lat_size))"
   ]
  },
  {
   "cell_type": "code",
   "execution_count": 49,
   "metadata": {},
   "outputs": [
    {
     "data": {
      "image/png": "[encoded data removed]",
      "text/plain": [
       "<Figure size 720x720 with 1 Axes>"
      ]
     },
     "metadata": {
      "needs_background": "light"
     },
     "output_type": "display_data"
    }
   ],
   "source": [
    "plt.rcParams['figure.figsize'] = [10, 10]\n",
    "\n",
    "target_i = 0\n",
    "\n",
    "x_max = np.max(labels[:,target_i])\n",
    "x_min = np.min(labels[:,target_i])\n",
    "\n",
    "\n",
    "#plt.scatter(labels[:,target_i], net_outputs[:,target_i], c=\"r\", label=\"model\")\n",
    "plt.scatter(labels[:,target_i], net_outputs[:,target_i], c=mus, label=\"model\")\n",
    "plt.plot([x_min, x_max], [x_min, x_max], linestyle=\"--\", color=\"b\", label=\"(ideal)\")\n",
    "plt.xlabel(\"ϕ² label\")\n",
    "plt.ylabel(\"ϕ² predicted\")\n",
    "plt.legend(loc=\"upper left\")\n",
    "#plt.show()\n",
    "plt.savefig(\"phi2_label_pred_mod\" + str(lat_size)) "
   ]
  },
  {
   "cell_type": "code",
   "execution_count": 50,
   "metadata": {},
   "outputs": [
    {
     "data": {
      "text/plain": [
       "29"
      ]
     },
     "execution_count": 50,
     "metadata": {},
     "output_type": "execute_result"
    }
   ],
   "source": [
    "len(unique_mus)"
   ]
  },
  {
   "cell_type": "code",
   "execution_count": 51,
   "metadata": {
    "scrolled": true
   },
   "outputs": [
    {
     "data": {
      "image/png": "[encoded data removed]",
      "text/plain": [
       "<Figure size 720x720 with 1 Axes>"
      ]
     },
     "metadata": {
      "needs_background": "light"
     },
     "output_type": "display_data"
    }
   ],
   "source": [
    "plt.rcParams['figure.figsize'] = [10, 10]\n",
    "\n",
    "target_i = 1\n",
    "\n",
    "x_max = np.max(labels[:,target_i])\n",
    "x_min = np.min(labels[:,target_i])\n",
    "\n",
    "\n",
    "#plt.scatter(labels[:,target_i], net_outputs[:,target_i], c=\"r\", label=\"model\")\n",
    "plt.scatter(labels[:,target_i], net_outputs[:,target_i], c=mus, label=\"model\")\n",
    "plt.plot([x_min, x_max], [x_min, x_max], linestyle=\"--\", color=\"b\", label=\"(ideal)\")\n",
    "plt.xlabel(\"n label\")\n",
    "plt.ylabel(\"n predicted\")\n",
    "plt.legend(loc=\"upper left\")\n",
    "#plt.show()\n",
    "plt.savefig(\"n_label_pred_mod\" + str(lat_size)) "
   ]
  },
  {
   "cell_type": "code",
   "execution_count": 52,
   "metadata": {},
   "outputs": [],
   "source": [
    "#conv = best_model.cnn.layers[1]\n",
    "#conv.weight"
   ]
  },
  {
   "cell_type": "code",
   "execution_count": 53,
   "metadata": {},
   "outputs": [],
   "source": [
    "#mlpconv = best_model.cnn.layers[4]\n",
    "#mlpconv.weight"
   ]
  },
  {
   "cell_type": "code",
   "execution_count": 54,
   "metadata": {},
   "outputs": [
    {
     "data": {
      "text/plain": [
       "tensor([[0.2082, 0.0000]], device='cuda:0', grad_fn=<MeanBackward1>)"
      ]
     },
     "execution_count": 54,
     "metadata": {},
     "output_type": "execute_result"
    }
   ],
   "source": [
    "#[phi2, n]\n",
    "test_lat_size = [2,2]\n",
    "\n",
    "#kl_conf = torch.ones([1,2,2,3,3]).to(\"cuda:0\")\n",
    "kl_conf = torch.zeros(1,2,2,*test_lat_size).to(\"cuda:0\")\n",
    "#kl_conf[:,1,0,:,:] = 0\n",
    "kl_conf[:,0,0,:,:] = 0\n",
    "input_conf = kl_conf.reshape(1,4,*test_lat_size)\n",
    "best_model(input_conf)"
   ]
  },
  {
   "cell_type": "code",
   "execution_count": 55,
   "metadata": {},
   "outputs": [
    {
     "data": {
      "application/vnd.jupyter.widget-view+json": {
       "model_id": "c1e274dfbd0e4b95b24963ba90193efd",
       "version_major": 2,
       "version_minor": 0
      },
      "text/plain": [
       "HBox(children=(FloatProgress(value=0.0, max=101.0), HTML(value='')))"
      ]
     },
     "metadata": {},
     "output_type": "display_data"
    },
    {
     "name": "stdout",
     "output_type": "stream",
     "text": [
      "\n"
     ]
    }
   ],
   "source": [
    "W_obs_ratio = np.loadtxt(\"W_obs_ratio.txt\")\n",
    "\n",
    "output_phis = np.zeros(len(W_obs_ratio))\n",
    "output_ns = np.zeros(len(W_obs_ratio))\n",
    "\n",
    "for i in tqdm(range(len(W_obs_ratio))):\n",
    "    \n",
    "    #kl_conf = torch.ones([1,2,2,3,3]).to(\"cuda:0\")\n",
    "    kl_conf = torch.zeros(1,2,2,*test_lat_size).to(\"cuda:0\")\n",
    "    #kl_conf[:,1,0,:,:] = 0\n",
    "    kl_conf[:,0,0,:,:] = i\n",
    "    input_conf = kl_conf.reshape(1,4,*test_lat_size)\n",
    "    output = best_model(input_conf)\n",
    "    #print(output)\n",
    "    output_phis[i] = float(output[0][0])\n",
    "    output_ns[i] = float(output[0][1])\n",
    "    "
   ]
  },
  {
   "cell_type": "code",
   "execution_count": 56,
   "metadata": {},
   "outputs": [
    {
     "data": {
      "text/plain": [
       "<matplotlib.legend.Legend at 0x7fa0082fffd0>"
      ]
     },
     "execution_count": 56,
     "metadata": {},
     "output_type": "execute_result"
    },
    {
     "data": {
      "image/png": "[encoded data removed]",
      "text/plain": [
       "<Figure size 720x720 with 1 Axes>"
      ]
     },
     "metadata": {
      "needs_background": "light"
     },
     "output_type": "display_data"
    }
   ],
   "source": [
    "plt.scatter(range(len(W_obs_ratio)), output_phis, label=\"output\")\n",
    "plt.scatter(range(len(W_obs_ratio)), W_obs_ratio, label=\"label\")\n",
    "plt.legend(loc=\"upper left\")"
   ]
  },
  {
   "cell_type": "code",
   "execution_count": 57,
   "metadata": {},
   "outputs": [
    {
     "data": {
      "text/plain": [
       "<matplotlib.legend.Legend at 0x7fa00ed1b7d0>"
      ]
     },
     "execution_count": 57,
     "metadata": {},
     "output_type": "execute_result"
    },
    {
     "data": {
      "image/png": "[encoded data removed]",
      "text/plain": [
       "<Figure size 720x720 with 1 Axes>"
      ]
     },
     "metadata": {
      "needs_background": "light"
     },
     "output_type": "display_data"
    }
   ],
   "source": [
    "plt.scatter(range(len(W_obs_ratio)), output_ns, label=\"output\")\n",
    "plt.scatter(range(len(W_obs_ratio)), range(len(W_obs_ratio)), label=\"label\")\n",
    "plt.legend(loc=\"upper left\")"
   ]
  },
  {
   "cell_type": "code",
   "execution_count": 58,
   "metadata": {},
   "outputs": [],
   "source": [
    "def link_per_lat_point(links, lat_size, dims):\n",
    "\n",
    "    #empty channels where the linsk on other directions should be saved\n",
    "    empty_link_channels = np.zeros(links.shape)\n",
    "    for d in range(dims):\n",
    "        #print(d)\n",
    "        #print(links)\n",
    "        d_links = links[d]\n",
    "        #print(d_links)\n",
    "        perm_links = np.roll(d_links, shift=1, axis=d)\n",
    "        #print(perm_links)\n",
    "        \n",
    "        #print(d_slices)\n",
    "        #empty_link_channels[d] = links[zip(d_slices)]\n",
    "        empty_link_channels[d] = perm_links\n",
    "        \n",
    "        \n",
    "        complete_links = np.concatenate((links,empty_link_channels), axis=0)\n",
    "            \n",
    "            \n",
    "    return complete_links"
   ]
  },
  {
   "cell_type": "code",
   "execution_count": 59,
   "metadata": {},
   "outputs": [
    {
     "name": "stdout",
     "output_type": "stream",
     "text": [
      "(2, 4, 5)\n",
      "(4, 4, 5)\n"
     ]
    }
   ],
   "source": [
    "lat_size = [4,5]\n",
    "conf_size = np.concatenate(([2],lat_size))\n",
    "links = np.arange(0,2*np.prod(lat_size)).reshape(conf_size)\n",
    "#print(links)\n",
    "print(links.shape)\n",
    "new_links = link_per_lat_point(links, lat_size, len(lat_size))\n",
    "print(new_links.shape)"
   ]
  },
  {
   "cell_type": "code",
   "execution_count": 60,
   "metadata": {},
   "outputs": [
    {
     "name": "stdout",
     "output_type": "stream",
     "text": [
      "[[[ 0.  1.  2.  3.  4.]\n",
      "  [ 5.  6.  7.  8.  9.]\n",
      "  [10. 11. 12. 13. 14.]\n",
      "  [15. 16. 17. 18. 19.]]\n",
      "\n",
      " [[20. 21. 22. 23. 24.]\n",
      "  [25. 26. 27. 28. 29.]\n",
      "  [30. 31. 32. 33. 34.]\n",
      "  [35. 36. 37. 38. 39.]]\n",
      "\n",
      " [[15. 16. 17. 18. 19.]\n",
      "  [ 0.  1.  2.  3.  4.]\n",
      "  [ 5.  6.  7.  8.  9.]\n",
      "  [10. 11. 12. 13. 14.]]\n",
      "\n",
      " [[24. 20. 21. 22. 23.]\n",
      "  [29. 25. 26. 27. 28.]\n",
      "  [34. 30. 31. 32. 33.]\n",
      "  [39. 35. 36. 37. 38.]]]\n"
     ]
    }
   ],
   "source": [
    "print(new_links)"
   ]
  },
  {
   "cell_type": "code",
   "execution_count": 61,
   "metadata": {},
   "outputs": [
    {
     "name": "stdout",
     "output_type": "stream",
     "text": [
      "[[ 0.  1.  2.  3.  4.]\n",
      " [ 5.  6.  7.  8.  9.]\n",
      " [10. 11. 12. 13. 14.]\n",
      " [15. 16. 17. 18. 19.]]\n"
     ]
    }
   ],
   "source": [
    "print(new_links[0,:,:])"
   ]
  },
  {
   "cell_type": "code",
   "execution_count": 62,
   "metadata": {},
   "outputs": [
    {
     "name": "stdout",
     "output_type": "stream",
     "text": [
      "[[ 0.  1.  2.  3.  4.]\n",
      " [ 5.  6.  7.  8.  9.]\n",
      " [10. 11. 12. 13. 14.]\n",
      " [15. 16. 17. 18. 19.]]\n"
     ]
    }
   ],
   "source": [
    "print(new_links[0,:,:])"
   ]
  },
  {
   "cell_type": "code",
   "execution_count": 63,
   "metadata": {},
   "outputs": [],
   "source": [
    "def f_calc(k_links, l_links, lat_size, dims):\n",
    "    full_k_links = link_per_lat_point(k_links, lat_size, dims)\n",
    "    full_l_links = link_per_lat_point(l_links, lat_size, dims)\n",
    "    #print(full_k_links.shape)\n",
    "    #print(full_l_links.shape)\n",
    "    \n",
    "    abs_full_k_links = np.abs(full_k_links)\n",
    "    \n",
    "    calc_f = (abs_full_k_links + 2*full_l_links).sum(axis=0).astype(int)\n",
    "\n",
    "    return calc_f.astype(int)\n",
    "\n"
   ]
  },
  {
   "cell_type": "code",
   "execution_count": 64,
   "metadata": {},
   "outputs": [],
   "source": [
    "test_lat_size = [2,2]\n",
    "dims = len(lat_size)\n",
    "link_max = 5\n",
    "conf_size = np.concatenate(([2],lat_size))\n",
    "num_conf = 100\n",
    "k_links = np.random.randint(-link_max, link_max, size=num_conf*np.prod(conf_size)).reshape(num_conf, *conf_size)\n",
    "l_links = np.random.randint(0, link_max, size=num_conf*np.prod(conf_size)).reshape(num_conf, *conf_size)\n",
    "\n",
    "\n",
    "f = np.zeros(shape=np.concatenate(([num_conf], lat_size)))\n",
    "phi2_labels = np.zeros(shape=num_conf)\n",
    "n_labels = np.zeros(shape=num_conf)\n",
    "\n",
    "\n",
    "\n",
    "for conf_i in range(num_conf):\n",
    "    f[conf_i] = f_calc(k_links[conf_i], l_links[conf_i], lat_size, dims)\n",
    "    #print(f[conf_i].astype(int))\n",
    "    phi2_labels[conf_i] = np.mean(W_obs_ratio[f[conf_i].astype(int).flatten()])\n",
    "    n_labels[conf_i] = np.mean(k_links[conf_i][0])\n",
    "    \n",
    "\n",
    "    \n",
    "#labels = np.stack((phi2_labels,n_labels), axis=1)\n",
    "labels = np.zeros(shape=[num_conf,2])\n",
    "labels[:,0] = phi2_labels\n",
    "labels[:,1] = n_labels\n",
    "\n",
    "#print(labels)"
   ]
  },
  {
   "cell_type": "code",
   "execution_count": 65,
   "metadata": {},
   "outputs": [],
   "source": [
    "\n",
    "confs = np.concatenate((k_links, l_links), axis=1)\n",
    "torch_confs = torch.tensor(confs, device=\"cuda:0\")\n",
    "\n",
    "outputs = best_model(torch_confs.float()).detach().cpu().numpy()\n",
    "#print(outputs)\n",
    "#print(phi2_labels)\n",
    "#print(n_labels)\n",
    "#print(labels)"
   ]
  },
  {
   "cell_type": "code",
   "execution_count": 66,
   "metadata": {},
   "outputs": [
    {
     "data": {
      "text/plain": [
       "[<matplotlib.lines.Line2D at 0x7fa01069ea10>]"
      ]
     },
     "execution_count": 66,
     "metadata": {},
     "output_type": "execute_result"
    },
    {
     "data": {
      "image/png": "[encoded data removed]",
      "text/plain": [
       "<Figure size 720x720 with 1 Axes>"
      ]
     },
     "metadata": {
      "needs_background": "light"
     },
     "output_type": "display_data"
    }
   ],
   "source": [
    "x_min = np.min(outputs[:,0])\n",
    "x_max = np.max(outputs[:,0])\n",
    "\n",
    "plt.scatter(outputs[:,0],labels[:,0])\n",
    "plt.plot([x_min, x_max], [x_min, x_max], linestyle=\"--\", color=\"b\", label=\"(ideal)\")"
   ]
  },
  {
   "cell_type": "code",
   "execution_count": 67,
   "metadata": {},
   "outputs": [
    {
     "data": {
      "text/plain": [
       "[<matplotlib.lines.Line2D at 0x7fa00f9d3d10>]"
      ]
     },
     "execution_count": 67,
     "metadata": {},
     "output_type": "execute_result"
    },
    {
     "data": {
      "image/png": "[encoded data removed]",
      "text/plain": [
       "<Figure size 720x720 with 1 Axes>"
      ]
     },
     "metadata": {
      "needs_background": "light"
     },
     "output_type": "display_data"
    }
   ],
   "source": [
    "x_min = np.min(outputs[:,1])\n",
    "x_max = np.max(outputs[:,1])\n",
    "\n",
    "plt.scatter(outputs[:,1],labels[:,1])\n",
    "plt.plot([x_min, x_max], [x_min, x_max], linestyle=\"--\", color=\"b\", label=\"(ideal)\")"
   ]
  },
  {
   "cell_type": "code",
   "execution_count": null,
   "metadata": {},
   "outputs": [],
   "source": []
  },
  {
   "cell_type": "code",
   "execution_count": null,
   "metadata": {},
   "outputs": [],
   "source": []
  },
  {
   "cell_type": "code",
   "execution_count": null,
   "metadata": {},
   "outputs": [],
   "source": []
  },
  {
   "cell_type": "code",
   "execution_count": null,
   "metadata": {},
   "outputs": [],
   "source": []
  }
 ],
 "metadata": {
  "kernelspec": {
   "display_name": "Python 3",
   "language": "python",
   "name": "python3"
  },
  "language_info": {
   "codemirror_mode": {
    "name": "ipython",
    "version": 3
   },
   "file_extension": ".py",
   "mimetype": "text/x-python",
   "name": "python",
   "nbconvert_exporter": "python",
   "pygments_lexer": "ipython3",
   "version": "3.7.4"
  }
 },
 "nbformat": 4,
 "nbformat_minor": 2
}
