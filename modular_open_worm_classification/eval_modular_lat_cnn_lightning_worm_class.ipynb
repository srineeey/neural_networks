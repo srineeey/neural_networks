{
 "cells": [
  {
   "cell_type": "code",
   "execution_count": 1,
   "metadata": {},
   "outputs": [],
   "source": [
    "import numpy as np\n",
    "import pandas as pd\n",
    "import matplotlib.pyplot as plt\n",
    "import seaborn as sns\n",
    "\n",
    "import os\n",
    "import glob\n",
    "import time\n",
    "\n",
    "import pickle\n",
    "\n",
    "import torch\n",
    "import torch.nn as nn\n",
    "import torch.nn.functional as F\n",
    "import torch.optim as optim\n",
    "\n",
    "import torchvision\n",
    "\n",
    "import pytorch_lightning as pl\n",
    "\n",
    "import sklearn\n",
    "import functools\n",
    "import operator\n",
    "\n",
    "import sys\n",
    "\n",
    "import optuna\n",
    "\n",
    "sys.path.insert(1,\"/home/sbulusu/qcd_ml/neural_networks/libs/\")\n",
    "\n",
    "#import lat_dataset_load_new_lightning\n",
    "import open_worm_lat_dataset_load_new_lightning_dat\n",
    "#import struct_torch_net_class_lightning\n",
    "import custom_torch_net_class_lightning\n",
    "\n",
    "import utils\n",
    "\n",
    "from tqdm.notebook import tqdm"
   ]
  },
  {
   "cell_type": "code",
   "execution_count": 2,
   "metadata": {},
   "outputs": [
    {
     "name": "stdout",
     "output_type": "stream",
     "text": [
      "Utilizing CUDA\n"
     ]
    }
   ],
   "source": [
    "if torch.cuda.is_available():\n",
    "    device = torch.device(\"cuda:0\")\n",
    "    print(\"Utilizing CUDA\")\n",
    "else:\n",
    "    device = torch.device(\"cpu\")\n",
    "    print(\"Utilizing CPU\")"
   ]
  },
  {
   "cell_type": "code",
   "execution_count": 3,
   "metadata": {},
   "outputs": [],
   "source": [
    "random_seed = 42\n",
    "np.random.seed(random_seed)\n",
    "torch.manual_seed(random_seed)\n",
    "torch.cuda.manual_seed(random_seed)\n",
    "torch.backends.cudnn.enabled = False\n",
    "torch.backends.cudnn.deterministic = True"
   ]
  },
  {
   "cell_type": "code",
   "execution_count": 4,
   "metadata": {},
   "outputs": [
    {
     "data": {
      "text/plain": [
       "{'lr': 7.997160135530374e-05, 'bs': 16}"
      ]
     },
     "execution_count": 4,
     "metadata": {},
     "output_type": "execute_result"
    }
   ],
   "source": [
    "pickle_file = open(\"study.pickle\", \"rb\")\n",
    "study = pickle.load(pickle_file)\n",
    "study.best_params"
   ]
  },
  {
   "cell_type": "code",
   "execution_count": 5,
   "metadata": {},
   "outputs": [
    {
     "data": {
      "text/plain": [
       "FrozenTrial(number=3, value=0.03698612377047539, datetime_start=datetime.datetime(2020, 6, 11, 18, 56, 39, 945901), datetime_complete=datetime.datetime(2020, 6, 11, 19, 49, 15, 266537), params={'lr': 7.997160135530374e-05, 'bs': 16}, distributions={'lr': LogUniformDistribution(high=0.0001, low=1e-07), 'bs': CategoricalDistribution(choices=(16, 32, 64, 128))}, user_attrs={}, system_attrs={}, intermediate_values={0: 0.90497887134552, 1: 1.2433934211730957, 2: 1.173068881034851, 3: 1.2811923027038574, 4: 1.2866417169570923, 5: 1.2391749620437622, 6: 1.0721021890640259, 7: 1.0520248413085938, 8: 1.0401575565338135, 9: 1.0229144096374512, 10: 0.5568913221359253, 11: 0.7357636094093323, 12: 0.02683534286916256, 13: 0.5797433257102966, 14: 0.7524706721305847, 15: 0.02300507202744484, 16: 0.051136452704668045, 17: 0.6087241768836975, 18: 0.08087282627820969, 19: 0.014240356162190437, 20: 0.01453562080860138, 21: 0.00867779552936554, 22: 0.006722892168909311, 23: 0.0045278118923306465, 24: 0.0039923954755067825, 25: 0.6150102019309998, 26: 0.3682379424571991, 27: 0.0017291989643126726, 28: 0.001117832725867629, 29: 0.0024301365483552217, 30: 0.004886220209300518, 31: 0.0012566380901262164, 32: 0.026246678084135056, 33: 0.000817608495708555, 34: 0.0008733089198358357, 35: 0.00044127419823780656, 36: 0.001259725890122354, 37: 0.0005802834057249129, 38: 0.6154949069023132, 39: 0.7838687300682068, 40: 0.7312923669815063, 41: 0.852508008480072, 42: 0.5885021686553955, 43: 0.0004157549992669374, 44: 0.5450686812400818, 45: 0.5534376502037048, 46: 0.9626318216323853, 47: 0.7648587226867676, 48: 0.8961971402168274, 49: 0.714984655380249, 50: 0.8651130199432373, 51: 0.0001514001633040607, 52: 0.20358654856681824, 53: 0.0017519387183710933, 54: 0.6018852591514587, 55: 0.00024994296836666763, 56: 1.0066947937011719, 57: 0.9736641645431519, 58: 0.9359976649284363, 59: 1.0090621709823608, 60: 0.9186007976531982, 61: 0.9913284778594971, 62: 0.6960517168045044, 63: 0.9736154675483704, 64: 0.7877592444419861, 65: 0.8141742944717407, 66: 0.9358199834823608, 67: 0.6876574158668518, 68: 0.6992418766021729, 69: 0.7902828454971313, 70: 0.9303988218307495, 71: 0.9478025436401367, 72: 0.7211744785308838, 73: 0.5372792482376099, 74: 0.6934764385223389, 75: 0.6729264259338379, 76: 0.7031357288360596, 77: 0.08525242656469345, 78: 0.6910796761512756, 79: 0.0006977714947424829, 80: 0.0005709450924769044, 81: 0.018702872097492218, 82: 0.08616034686565399, 83: 0.15931598842144012, 84: 0.11917218565940857, 85: 0.048061370849609375, 86: 0.2863653898239136, 87: 0.000570726057048887, 88: 0.0004544808471109718, 89: 0.00031354508246295154, 90: 0.06260308623313904, 91: 0.00014719257887918502, 92: 0.00014616521366406232, 93: 6.131110421847552e-05, 94: 9.505757043370977e-05, 95: 5.618870636681095e-05, 96: 1.1813289347628597e-05, 97: 6.251980812521651e-05, 98: 4.491789877647534e-05, 99: 0.015983153134584427, 100: 3.47570312442258e-05, 101: 0.7444461584091187, 102: 0.5226286053657532, 103: 0.4968065917491913, 104: 0.1775396764278412, 105: 0.6739655137062073, 106: 8.834463187668007e-06, 107: 9.268518624594435e-06, 108: 0.5995643734931946, 109: 0.06625978648662567, 110: 7.06504897607374e-06, 111: 9.845794920693152e-06, 112: 1.2120183782826643e-05, 113: 1.494182288297452e-05, 114: 9.585321095073596e-06, 115: 1.2348774362180848e-05, 116: 6.616526661673561e-06, 117: 6.305535407591378e-06, 118: 1.017768317979062e-05, 119: 7.731603545835242e-06, 120: 3.764367875191965e-06, 121: 9.579892321198713e-06, 122: 0.0029317685402929783, 123: 0.10168454796075821, 124: 0.07774204015731812, 125: 0.49453258514404297, 126: 0.5874047875404358, 127: 0.4948152005672455, 128: 0.4976070821285248, 129: 0.0021418011747300625, 130: 0.0306349229067564, 131: 0.23995482921600342, 132: 4.085219643457094e-06, 133: 4.4512024032883346e-05, 134: 0.14723534882068634, 135: 0.3006680905818939, 136: 0.5398213267326355, 137: 0.46629926562309265, 138: 0.7551552653312683, 139: 1.1247912880207878e-05, 140: 0.5769725441932678, 141: 0.4958258867263794, 142: 0.494600385427475, 143: 0.49313145875930786, 144: 0.48960164189338684, 145: 0.3505868911743164, 146: 0.155262753367424, 147: 0.03708352893590927, 148: 0.4315287470817566, 149: 0.02928677201271057, 150: 0.10084088891744614, 151: 0.027009356766939163, 152: 0.4417617619037628, 153: 0.5217036604881287, 154: 0.48055681586265564, 155: 0.48338669538497925, 156: 0.95700603723526, 157: 0.49377208948135376, 158: 0.4937715232372284, 159: 0.49226871132850647, 160: 0.37196749448776245, 161: 0.502424418926239, 162: 0.49431708455085754, 163: 0.4842830002307892, 164: 0.5085462331771851, 165: 0.49397626519203186, 166: 1.0047838687896729, 167: 1.0054959058761597, 168: 1.0073612928390503, 169: 0.9948184490203857, 170: 4.797355757091282e-08, 171: 0.9752410054206848, 172: 1.0047640800476074, 173: 0.9521030783653259, 174: 0.9902884364128113, 175: 0.49908044934272766, 176: 0.5307320356369019, 177: 0.5436877608299255, 178: 1.5167900713208837e-08, 179: 1.9666275719032456e-08, 180: 2.2024064350034678e-08, 181: 0.49640873074531555, 182: 0.255630761384964, 183: 1.0039446353912354, 184: 0.6114857792854309, 185: 0.6977183818817139, 186: 0.9606279730796814, 187: 0.6521024107933044, 188: 0.49582231044769287, 189: 0.14279457926750183, 190: 0.8325746059417725, 191: 0.502533495426178, 192: 0.7912740707397461, 193: 0.5800024271011353, 194: 0.9478471279144287, 195: 0.5284148454666138, 196: 0.41060593724250793, 197: 0.5078138709068298, 198: 0.4368211627006531, 199: 0.03698612377047539}, trial_id=3, state=TrialState.COMPLETE)"
      ]
     },
     "execution_count": 5,
     "metadata": {},
     "output_type": "execute_result"
    }
   ],
   "source": [
    "study.best_trial"
   ]
  },
  {
   "cell_type": "code",
   "execution_count": 6,
   "metadata": {},
   "outputs": [
    {
     "data": {
      "text/plain": [
       "<matplotlib.collections.PathCollection at 0x7f672153eb50>"
      ]
     },
     "execution_count": 6,
     "metadata": {},
     "output_type": "execute_result"
    },
    {
     "data": {
      "image/png": "[encoded data removed]",
      "text/plain": [
       "<Figure size 432x288 with 1 Axes>"
      ]
     },
     "metadata": {
      "needs_background": "light"
     },
     "output_type": "display_data"
    }
   ],
   "source": [
    "trial_coords = np.zeros((len(study.trials),2))\n",
    "\n",
    "trial_metrics = np.zeros((len(study.trials)))\n",
    "\n",
    "for trial_i, trial in enumerate(study.trials):\n",
    "    par_i = 0\n",
    "    for par_name in trial.params:\n",
    "        trial_coords[trial_i, par_i] = trial.params[par_name]\n",
    "        trial_metrics[trial_i] = trial.value\n",
    "        par_i +=1\n",
    "\n",
    "#fig, ax = plt.figure()\n",
    "#ax.scatter(trial_coords[:,0], trial_coords[:,1], c=trial_metrics, cmap=\"RdBu\")\n",
    "\n",
    "#ax.set_scale(\"log\")\n",
    "plt.xscale(\"log\")\n",
    "plt.yscale(\"log\")\n",
    "plt.scatter(trial_coords[:,0], trial_coords[:,1], c=trial_metrics, cmap=\"RdBu\")"
   ]
  },
  {
   "cell_type": "code",
   "execution_count": 7,
   "metadata": {},
   "outputs": [],
   "source": [
    "checkpoint_path = \"pl_checkpoints/CustomNet-003-epoch=178-val_loss=1.51679E-08.ckpt\""
   ]
  },
  {
   "cell_type": "code",
   "execution_count": 8,
   "metadata": {},
   "outputs": [
    {
     "data": {
      "text/plain": [
       "CustomNet(\n",
       "  (cnn): Net(\n",
       "    (layers): ModuleList(\n",
       "      (0): AsymmetricCircularPadding()\n",
       "      (1): Conv2d(4, 64, kernel_size=[2, 2], stride=[1, 1])\n",
       "      (2): ReLU()\n",
       "      (3): AsymmetricCircularPadding()\n",
       "      (4): Conv2d(64, 64, kernel_size=[2, 2], stride=[1, 1])\n",
       "      (5): ReLU()\n",
       "      (6): AsymmetricCircularPadding()\n",
       "      (7): Conv2d(64, 64, kernel_size=[2, 2], stride=[1, 1])\n",
       "      (8): ReLU()\n",
       "      (9): AdaptiveAvgPool2d(output_size=[1, 1])\n",
       "      (10): ReLU()\n",
       "    )\n",
       "  )\n",
       "  (dense1): Net(\n",
       "    (layers): ModuleList(\n",
       "      (0): Reshape()\n",
       "      (1): Linear(in_features=64, out_features=64, bias=True)\n",
       "      (2): Linear(in_features=64, out_features=1, bias=True)\n",
       "      (3): Sigmoid()\n",
       "    )\n",
       "  )\n",
       "  (loss): BCELoss()\n",
       ")"
      ]
     },
     "execution_count": 8,
     "metadata": {},
     "output_type": "execute_result"
    }
   ],
   "source": [
    "#best_model = custom_torch_net_class_lightning.CustomNet.load_from_checkpoint(checkpoint_path,hyper_parameters)\n",
    "best_model = custom_torch_net_class_lightning.CustomNet.load_from_checkpoint(checkpoint_path)\n",
    "\n",
    "best_model.to(device)\n",
    "\n",
    "best_model.configure_loss()\n",
    "\n",
    "best_model.eval()"
   ]
  },
  {
   "cell_type": "code",
   "execution_count": null,
   "metadata": {},
   "outputs": [],
   "source": []
  },
  {
   "cell_type": "code",
   "execution_count": 9,
   "metadata": {},
   "outputs": [
    {
     "name": "stdout",
     "output_type": "stream",
     "text": [
      "found file 58 paths:\n",
      "['/media/data/sbulusu/datasets/complexworm/dat_files/Multi_lattice_open_worms/open_configs-100-5-4.010-1.000-0.995.dat', '/media/data/sbulusu/datasets/complexworm/dat_files/Multi_lattice_open_worms/open_configs-100-5-4.010-1.000-1.030.dat', '/media/data/sbulusu/datasets/complexworm/dat_files/Multi_lattice_open_worms/open_configs-100-5-4.010-1.000-0.990.dat', '/media/data/sbulusu/datasets/complexworm/dat_files/Multi_lattice_open_worms/open_configs-100-5-4.010-1.000-1.040.dat', '/media/data/sbulusu/datasets/complexworm/dat_files/Multi_lattice_open_worms/open_configs-100-5-4.010-1.000-1.000.dat', '/media/data/sbulusu/datasets/complexworm/dat_files/Multi_lattice_open_worms/open_configs-100-5-4.010-1.000-1.015.dat', '/media/data/sbulusu/datasets/complexworm/dat_files/Multi_lattice_open_worms/open_configs-100-5-4.010-1.000-1.005.dat', '/media/data/sbulusu/datasets/complexworm/dat_files/Multi_lattice_open_worms/open_configs-100-5-4.010-1.000-0.940.dat', '/media/data/sbulusu/datasets/complexworm/dat_files/Multi_lattice_open_worms/open_configs-100-5-4.010-1.000-1.035.dat', '/media/data/sbulusu/datasets/complexworm/dat_files/Multi_lattice_open_worms/open_configs-100-5-4.010-1.000-0.935.dat', '/media/data/sbulusu/datasets/complexworm/dat_files/Multi_lattice_open_worms/open_configs-100-5-4.010-1.000-0.975.dat', '/media/data/sbulusu/datasets/complexworm/dat_files/Multi_lattice_open_worms/open_configs-100-5-4.010-1.000-0.950.dat', '/media/data/sbulusu/datasets/complexworm/dat_files/Multi_lattice_open_worms/open_configs-100-5-4.010-1.000-1.045.dat', '/media/data/sbulusu/datasets/complexworm/dat_files/Multi_lattice_open_worms/open_configs-100-5-4.010-1.000-1.050.dat', '/media/data/sbulusu/datasets/complexworm/dat_files/Multi_lattice_open_worms/open_configs-100-5-4.010-1.000-1.010.dat', '/media/data/sbulusu/datasets/complexworm/dat_files/Multi_lattice_open_worms/open_configs-100-5-4.010-1.000-0.910.dat', '/media/data/sbulusu/datasets/complexworm/dat_files/Multi_lattice_open_worms/open_configs-100-5-4.010-1.000-0.955.dat', '/media/data/sbulusu/datasets/complexworm/dat_files/Multi_lattice_open_worms/open_configs-100-5-4.010-1.000-0.920.dat', '/media/data/sbulusu/datasets/complexworm/dat_files/Multi_lattice_open_worms/open_configs-100-5-4.010-1.000-0.930.dat', '/media/data/sbulusu/datasets/complexworm/dat_files/Multi_lattice_open_worms/open_configs-100-5-4.010-1.000-0.985.dat', '/media/data/sbulusu/datasets/complexworm/dat_files/Multi_lattice_open_worms/open_configs-100-5-4.010-1.000-0.965.dat', '/media/data/sbulusu/datasets/complexworm/dat_files/Multi_lattice_open_worms/open_configs-100-5-4.010-1.000-1.020.dat', '/media/data/sbulusu/datasets/complexworm/dat_files/Multi_lattice_open_worms/open_configs-100-5-4.010-1.000-0.915.dat', '/media/data/sbulusu/datasets/complexworm/dat_files/Multi_lattice_open_worms/open_configs-100-5-4.010-1.000-0.925.dat', '/media/data/sbulusu/datasets/complexworm/dat_files/Multi_lattice_open_worms/open_configs-100-5-4.010-1.000-0.960.dat', '/media/data/sbulusu/datasets/complexworm/dat_files/Multi_lattice_open_worms/open_configs-100-5-4.010-1.000-0.980.dat', '/media/data/sbulusu/datasets/complexworm/dat_files/Multi_lattice_open_worms/open_configs-100-5-4.010-1.000-0.970.dat', '/media/data/sbulusu/datasets/complexworm/dat_files/Multi_lattice_open_worms/open_configs-100-5-4.010-1.000-1.025.dat', '/media/data/sbulusu/datasets/complexworm/dat_files/Multi_lattice_open_worms/open_configs-100-5-4.010-1.000-0.945.dat', '/media/data/sbulusu/datasets/complexworm/dat_files/Multi_lattice_closed_worms/configs-100-5-4.010-1.000-1.050.dat', '/media/data/sbulusu/datasets/complexworm/dat_files/Multi_lattice_closed_worms/configs-100-5-4.010-1.000-0.975.dat', '/media/data/sbulusu/datasets/complexworm/dat_files/Multi_lattice_closed_worms/configs-100-5-4.010-1.000-0.955.dat', '/media/data/sbulusu/datasets/complexworm/dat_files/Multi_lattice_closed_worms/configs-100-5-4.010-1.000-0.990.dat', '/media/data/sbulusu/datasets/complexworm/dat_files/Multi_lattice_closed_worms/configs-100-5-4.010-1.000-0.970.dat', '/media/data/sbulusu/datasets/complexworm/dat_files/Multi_lattice_closed_worms/configs-100-5-4.010-1.000-1.045.dat', '/media/data/sbulusu/datasets/complexworm/dat_files/Multi_lattice_closed_worms/configs-100-5-4.010-1.000-1.005.dat', '/media/data/sbulusu/datasets/complexworm/dat_files/Multi_lattice_closed_worms/configs-100-5-4.010-1.000-0.980.dat', '/media/data/sbulusu/datasets/complexworm/dat_files/Multi_lattice_closed_worms/configs-100-5-4.010-1.000-1.040.dat', '/media/data/sbulusu/datasets/complexworm/dat_files/Multi_lattice_closed_worms/configs-100-5-4.010-1.000-1.030.dat', '/media/data/sbulusu/datasets/complexworm/dat_files/Multi_lattice_closed_worms/configs-100-5-4.010-1.000-1.015.dat', '/media/data/sbulusu/datasets/complexworm/dat_files/Multi_lattice_closed_worms/configs-100-5-4.010-1.000-0.940.dat', '/media/data/sbulusu/datasets/complexworm/dat_files/Multi_lattice_closed_worms/configs-100-5-4.010-1.000-1.010.dat', '/media/data/sbulusu/datasets/complexworm/dat_files/Multi_lattice_closed_worms/configs-100-5-4.010-1.000-1.000.dat', '/media/data/sbulusu/datasets/complexworm/dat_files/Multi_lattice_closed_worms/configs-100-5-4.010-1.000-0.915.dat', '/media/data/sbulusu/datasets/complexworm/dat_files/Multi_lattice_closed_worms/configs-100-5-4.010-1.000-1.025.dat', '/media/data/sbulusu/datasets/complexworm/dat_files/Multi_lattice_closed_worms/configs-100-5-4.010-1.000-0.950.dat', '/media/data/sbulusu/datasets/complexworm/dat_files/Multi_lattice_closed_worms/configs-100-5-4.010-1.000-0.930.dat', '/media/data/sbulusu/datasets/complexworm/dat_files/Multi_lattice_closed_worms/configs-100-5-4.010-1.000-0.960.dat', '/media/data/sbulusu/datasets/complexworm/dat_files/Multi_lattice_closed_worms/configs-100-5-4.010-1.000-0.925.dat', '/media/data/sbulusu/datasets/complexworm/dat_files/Multi_lattice_closed_worms/configs-100-5-4.010-1.000-0.995.dat', '/media/data/sbulusu/datasets/complexworm/dat_files/Multi_lattice_closed_worms/configs-100-5-4.010-1.000-1.020.dat', '/media/data/sbulusu/datasets/complexworm/dat_files/Multi_lattice_closed_worms/configs-100-5-4.010-1.000-0.985.dat', '/media/data/sbulusu/datasets/complexworm/dat_files/Multi_lattice_closed_worms/configs-100-5-4.010-1.000-0.910.dat', '/media/data/sbulusu/datasets/complexworm/dat_files/Multi_lattice_closed_worms/configs-100-5-4.010-1.000-1.035.dat', '/media/data/sbulusu/datasets/complexworm/dat_files/Multi_lattice_closed_worms/configs-100-5-4.010-1.000-0.945.dat', '/media/data/sbulusu/datasets/complexworm/dat_files/Multi_lattice_closed_worms/configs-100-5-4.010-1.000-0.965.dat', '/media/data/sbulusu/datasets/complexworm/dat_files/Multi_lattice_closed_worms/configs-100-5-4.010-1.000-0.935.dat', '/media/data/sbulusu/datasets/complexworm/dat_files/Multi_lattice_closed_worms/configs-100-5-4.010-1.000-0.920.dat']\n"
     ]
    },
    {
     "data": {
      "application/vnd.jupyter.widget-view+json": {
       "model_id": "7f57dd20ae084a31b6394e6121c06b9c",
       "version_major": 2,
       "version_minor": 0
      },
      "text/plain": [
       "HBox(children=(FloatProgress(value=0.0, max=58.0), HTML(value='')))"
      ]
     },
     "metadata": {},
     "output_type": "display_data"
    },
    {
     "name": "stdout",
     "output_type": "stream",
     "text": [
      "Processing conf file /media/data/sbulusu/datasets/complexworm/dat_files/Multi_lattice_open_worms/open_configs-100-5-4.010-1.000-0.995.dat\n",
      "['open_configs', '100', '5', '4.010', '1.000', '0.995']\n",
      "loaded file name labels ['nt', 'nx', 'eta', 'lambda', 'mu']\n",
      "First read conf file /media/data/sbulusu/datasets/complexworm/dat_files/Multi_lattice_open_worms/open_configs-100-5-4.010-1.000-0.995.dat with size :torch.Size([4000, 4, 5, 100])\n",
      "Read conf file /media/data/sbulusu/datasets/complexworm/dat_files/Multi_lattice_open_worms/open_configs-100-5-4.010-1.000-0.995.dat with size :torch.Size([4000, 4, 5, 100])\n",
      "Loading 4000 confs\n"
     ]
    },
    {
     "data": {
      "application/vnd.jupyter.widget-view+json": {
       "model_id": "0a69f2d2aef84fa0b48d0a0b2009593f",
       "version_major": 2,
       "version_minor": 0
      },
      "text/plain": [
       "HBox(children=(FloatProgress(value=0.0, max=4000.0), HTML(value='')))"
      ]
     },
     "metadata": {},
     "output_type": "display_data"
    },
    {
     "name": "stdout",
     "output_type": "stream",
     "text": [
      "first example loaded:\n",
      "{'conf': tensor([[[ 1,  1,  1,  ...,  2,  2,  1],\n",
      "         [ 0,  0,  0,  ...,  0, -1,  0],\n",
      "         [ 0,  0,  0,  ...,  0,  0,  0],\n",
      "         [ 0,  0,  0,  ...,  0,  0,  0],\n",
      "         [ 0,  0,  0,  ...,  0,  0,  0]],\n",
      "\n",
      "        [[ 0,  0,  0,  ..., -1, -1,  1],\n",
      "         [ 0,  0,  0,  ...,  0,  0,  0],\n",
      "         [ 0,  0,  0,  ...,  0,  0,  0],\n",
      "         [ 0,  0,  0,  ...,  0,  0,  0],\n",
      "         [ 0,  0,  0,  ...,  0,  0,  0]],\n",
      "\n",
      "        [[ 0,  0,  0,  ...,  0,  0,  0],\n",
      "         [ 0,  0,  0,  ...,  2,  2,  0],\n",
      "         [ 0,  0,  0,  ...,  0,  0,  0],\n",
      "         [ 0,  0,  0,  ...,  0,  0,  0],\n",
      "         [ 0,  0,  0,  ...,  0,  1,  0]],\n",
      "\n",
      "        [[ 0,  0,  1,  ...,  0,  1,  1],\n",
      "         [ 0,  0,  0,  ...,  0,  0,  0],\n",
      "         [ 0,  0,  1,  ...,  0,  0,  1],\n",
      "         [ 0,  0,  0,  ...,  0,  0,  0],\n",
      "         [ 0,  0,  0,  ...,  0,  0,  0]]]), 'mu': 0.995, 'open': True, 'nt': 100.0, 'nx': 5.0, 'eta': 4.01, 'lambda': 1.0, 'phase': tensor(1.), 'id': 0}\n",
      "\n",
      "Processing conf file /media/data/sbulusu/datasets/complexworm/dat_files/Multi_lattice_open_worms/open_configs-100-5-4.010-1.000-1.030.dat\n",
      "['open_configs', '100', '5', '4.010', '1.000', '1.030']\n",
      "loaded file name labels ['nt', 'nx', 'eta', 'lambda', 'mu']\n",
      "First read conf file /media/data/sbulusu/datasets/complexworm/dat_files/Multi_lattice_open_worms/open_configs-100-5-4.010-1.000-1.030.dat with size :torch.Size([4000, 4, 5, 100])\n",
      "Read conf file /media/data/sbulusu/datasets/complexworm/dat_files/Multi_lattice_open_worms/open_configs-100-5-4.010-1.000-1.030.dat with size :torch.Size([4000, 4, 5, 100])\n",
      "Loading 4000 confs\n"
     ]
    },
    {
     "data": {
      "application/vnd.jupyter.widget-view+json": {
       "model_id": "540d335344c745cf94714d19a0f3e15c",
       "version_major": 2,
       "version_minor": 0
      },
      "text/plain": [
       "HBox(children=(FloatProgress(value=0.0, max=4000.0), HTML(value='')))"
      ]
     },
     "metadata": {},
     "output_type": "display_data"
    },
    {
     "name": "stdout",
     "output_type": "stream",
     "text": [
      "\n",
      "Processing conf file /media/data/sbulusu/datasets/complexworm/dat_files/Multi_lattice_open_worms/open_configs-100-5-4.010-1.000-0.990.dat\n",
      "['open_configs', '100', '5', '4.010', '1.000', '0.990']\n",
      "loaded file name labels ['nt', 'nx', 'eta', 'lambda', 'mu']\n",
      "First read conf file /media/data/sbulusu/datasets/complexworm/dat_files/Multi_lattice_open_worms/open_configs-100-5-4.010-1.000-0.990.dat with size :torch.Size([4000, 4, 5, 100])\n",
      "Read conf file /media/data/sbulusu/datasets/complexworm/dat_files/Multi_lattice_open_worms/open_configs-100-5-4.010-1.000-0.990.dat with size :torch.Size([4000, 4, 5, 100])\n",
      "Loading 4000 confs\n"
     ]
    },
    {
     "data": {
      "application/vnd.jupyter.widget-view+json": {
       "model_id": "1f5bf3902b954b3e885819a9da28a9b6",
       "version_major": 2,
       "version_minor": 0
      },
      "text/plain": [
       "HBox(children=(FloatProgress(value=0.0, max=4000.0), HTML(value='')))"
      ]
     },
     "metadata": {},
     "output_type": "display_data"
    },
    {
     "name": "stdout",
     "output_type": "stream",
     "text": [
      "\n",
      "Processing conf file /media/data/sbulusu/datasets/complexworm/dat_files/Multi_lattice_open_worms/open_configs-100-5-4.010-1.000-1.040.dat\n",
      "['open_configs', '100', '5', '4.010', '1.000', '1.040']\n",
      "loaded file name labels ['nt', 'nx', 'eta', 'lambda', 'mu']\n",
      "First read conf file /media/data/sbulusu/datasets/complexworm/dat_files/Multi_lattice_open_worms/open_configs-100-5-4.010-1.000-1.040.dat with size :torch.Size([4000, 4, 5, 100])\n",
      "Read conf file /media/data/sbulusu/datasets/complexworm/dat_files/Multi_lattice_open_worms/open_configs-100-5-4.010-1.000-1.040.dat with size :torch.Size([4000, 4, 5, 100])\n",
      "Loading 4000 confs\n"
     ]
    },
    {
     "data": {
      "application/vnd.jupyter.widget-view+json": {
       "model_id": "32673166698e41418dda4dea34ec3fbb",
       "version_major": 2,
       "version_minor": 0
      },
      "text/plain": [
       "HBox(children=(FloatProgress(value=0.0, max=4000.0), HTML(value='')))"
      ]
     },
     "metadata": {},
     "output_type": "display_data"
    },
    {
     "name": "stdout",
     "output_type": "stream",
     "text": [
      "\n",
      "Processing conf file /media/data/sbulusu/datasets/complexworm/dat_files/Multi_lattice_open_worms/open_configs-100-5-4.010-1.000-1.000.dat\n",
      "['open_configs', '100', '5', '4.010', '1.000', '1.000']\n",
      "loaded file name labels ['nt', 'nx', 'eta', 'lambda', 'mu']\n",
      "First read conf file /media/data/sbulusu/datasets/complexworm/dat_files/Multi_lattice_open_worms/open_configs-100-5-4.010-1.000-1.000.dat with size :torch.Size([4000, 4, 5, 100])\n",
      "Read conf file /media/data/sbulusu/datasets/complexworm/dat_files/Multi_lattice_open_worms/open_configs-100-5-4.010-1.000-1.000.dat with size :torch.Size([4000, 4, 5, 100])\n",
      "Loading 4000 confs\n"
     ]
    },
    {
     "data": {
      "application/vnd.jupyter.widget-view+json": {
       "model_id": "c99c7eef09a445449f484fe9bbeec087",
       "version_major": 2,
       "version_minor": 0
      },
      "text/plain": [
       "HBox(children=(FloatProgress(value=0.0, max=4000.0), HTML(value='')))"
      ]
     },
     "metadata": {},
     "output_type": "display_data"
    },
    {
     "name": "stdout",
     "output_type": "stream",
     "text": [
      "\n",
      "Processing conf file /media/data/sbulusu/datasets/complexworm/dat_files/Multi_lattice_open_worms/open_configs-100-5-4.010-1.000-1.015.dat\n",
      "['open_configs', '100', '5', '4.010', '1.000', '1.015']\n",
      "loaded file name labels ['nt', 'nx', 'eta', 'lambda', 'mu']\n",
      "First read conf file /media/data/sbulusu/datasets/complexworm/dat_files/Multi_lattice_open_worms/open_configs-100-5-4.010-1.000-1.015.dat with size :torch.Size([4000, 4, 5, 100])\n",
      "Read conf file /media/data/sbulusu/datasets/complexworm/dat_files/Multi_lattice_open_worms/open_configs-100-5-4.010-1.000-1.015.dat with size :torch.Size([4000, 4, 5, 100])\n",
      "Loading 4000 confs\n"
     ]
    },
    {
     "data": {
      "application/vnd.jupyter.widget-view+json": {
       "model_id": "f59aa1d0dc7c480192a40a4bf2e23c7c",
       "version_major": 2,
       "version_minor": 0
      },
      "text/plain": [
       "HBox(children=(FloatProgress(value=0.0, max=4000.0), HTML(value='')))"
      ]
     },
     "metadata": {},
     "output_type": "display_data"
    },
    {
     "name": "stdout",
     "output_type": "stream",
     "text": [
      "\n",
      "Processing conf file /media/data/sbulusu/datasets/complexworm/dat_files/Multi_lattice_open_worms/open_configs-100-5-4.010-1.000-1.005.dat\n",
      "['open_configs', '100', '5', '4.010', '1.000', '1.005']\n",
      "loaded file name labels ['nt', 'nx', 'eta', 'lambda', 'mu']\n",
      "First read conf file /media/data/sbulusu/datasets/complexworm/dat_files/Multi_lattice_open_worms/open_configs-100-5-4.010-1.000-1.005.dat with size :torch.Size([4000, 4, 5, 100])\n",
      "Read conf file /media/data/sbulusu/datasets/complexworm/dat_files/Multi_lattice_open_worms/open_configs-100-5-4.010-1.000-1.005.dat with size :torch.Size([4000, 4, 5, 100])\n",
      "Loading 4000 confs\n"
     ]
    },
    {
     "data": {
      "application/vnd.jupyter.widget-view+json": {
       "model_id": "ddea2b6ce9e547aba5a355f309496155",
       "version_major": 2,
       "version_minor": 0
      },
      "text/plain": [
       "HBox(children=(FloatProgress(value=0.0, max=4000.0), HTML(value='')))"
      ]
     },
     "metadata": {},
     "output_type": "display_data"
    },
    {
     "name": "stdout",
     "output_type": "stream",
     "text": [
      "\n",
      "Processing conf file /media/data/sbulusu/datasets/complexworm/dat_files/Multi_lattice_open_worms/open_configs-100-5-4.010-1.000-0.940.dat\n",
      "['open_configs', '100', '5', '4.010', '1.000', '0.940']\n",
      "loaded file name labels ['nt', 'nx', 'eta', 'lambda', 'mu']\n",
      "First read conf file /media/data/sbulusu/datasets/complexworm/dat_files/Multi_lattice_open_worms/open_configs-100-5-4.010-1.000-0.940.dat with size :torch.Size([4000, 4, 5, 100])\n",
      "Read conf file /media/data/sbulusu/datasets/complexworm/dat_files/Multi_lattice_open_worms/open_configs-100-5-4.010-1.000-0.940.dat with size :torch.Size([4000, 4, 5, 100])\n",
      "Loading 4000 confs\n"
     ]
    },
    {
     "data": {
      "application/vnd.jupyter.widget-view+json": {
       "model_id": "aafa1c1b60d64e05b964f7de9d9ecd83",
       "version_major": 2,
       "version_minor": 0
      },
      "text/plain": [
       "HBox(children=(FloatProgress(value=0.0, max=4000.0), HTML(value='')))"
      ]
     },
     "metadata": {},
     "output_type": "display_data"
    },
    {
     "name": "stdout",
     "output_type": "stream",
     "text": [
      "\n",
      "Processing conf file /media/data/sbulusu/datasets/complexworm/dat_files/Multi_lattice_open_worms/open_configs-100-5-4.010-1.000-1.035.dat\n",
      "['open_configs', '100', '5', '4.010', '1.000', '1.035']\n",
      "loaded file name labels ['nt', 'nx', 'eta', 'lambda', 'mu']\n",
      "First read conf file /media/data/sbulusu/datasets/complexworm/dat_files/Multi_lattice_open_worms/open_configs-100-5-4.010-1.000-1.035.dat with size :torch.Size([4000, 4, 5, 100])\n",
      "Read conf file /media/data/sbulusu/datasets/complexworm/dat_files/Multi_lattice_open_worms/open_configs-100-5-4.010-1.000-1.035.dat with size :torch.Size([4000, 4, 5, 100])\n",
      "Loading 4000 confs\n"
     ]
    },
    {
     "data": {
      "application/vnd.jupyter.widget-view+json": {
       "model_id": "5e5f90d644a54bfdba5d564c53e17cde",
       "version_major": 2,
       "version_minor": 0
      },
      "text/plain": [
       "HBox(children=(FloatProgress(value=0.0, max=4000.0), HTML(value='')))"
      ]
     },
     "metadata": {},
     "output_type": "display_data"
    },
    {
     "name": "stdout",
     "output_type": "stream",
     "text": [
      "\n",
      "Processing conf file /media/data/sbulusu/datasets/complexworm/dat_files/Multi_lattice_open_worms/open_configs-100-5-4.010-1.000-0.935.dat\n",
      "['open_configs', '100', '5', '4.010', '1.000', '0.935']\n",
      "loaded file name labels ['nt', 'nx', 'eta', 'lambda', 'mu']\n",
      "First read conf file /media/data/sbulusu/datasets/complexworm/dat_files/Multi_lattice_open_worms/open_configs-100-5-4.010-1.000-0.935.dat with size :torch.Size([4000, 4, 5, 100])\n",
      "Read conf file /media/data/sbulusu/datasets/complexworm/dat_files/Multi_lattice_open_worms/open_configs-100-5-4.010-1.000-0.935.dat with size :torch.Size([4000, 4, 5, 100])\n",
      "Loading 4000 confs\n"
     ]
    },
    {
     "data": {
      "application/vnd.jupyter.widget-view+json": {
       "model_id": "dda609e1472147428d51d57933b5eb0c",
       "version_major": 2,
       "version_minor": 0
      },
      "text/plain": [
       "HBox(children=(FloatProgress(value=0.0, max=4000.0), HTML(value='')))"
      ]
     },
     "metadata": {},
     "output_type": "display_data"
    },
    {
     "name": "stdout",
     "output_type": "stream",
     "text": [
      "\n",
      "Processing conf file /media/data/sbulusu/datasets/complexworm/dat_files/Multi_lattice_open_worms/open_configs-100-5-4.010-1.000-0.975.dat\n",
      "['open_configs', '100', '5', '4.010', '1.000', '0.975']\n",
      "loaded file name labels ['nt', 'nx', 'eta', 'lambda', 'mu']\n",
      "First read conf file /media/data/sbulusu/datasets/complexworm/dat_files/Multi_lattice_open_worms/open_configs-100-5-4.010-1.000-0.975.dat with size :torch.Size([4000, 4, 5, 100])\n",
      "Read conf file /media/data/sbulusu/datasets/complexworm/dat_files/Multi_lattice_open_worms/open_configs-100-5-4.010-1.000-0.975.dat with size :torch.Size([4000, 4, 5, 100])\n",
      "Loading 4000 confs\n"
     ]
    },
    {
     "data": {
      "application/vnd.jupyter.widget-view+json": {
       "model_id": "58d6155bd0fb4a3a8d88e7dae7ff2441",
       "version_major": 2,
       "version_minor": 0
      },
      "text/plain": [
       "HBox(children=(FloatProgress(value=0.0, max=4000.0), HTML(value='')))"
      ]
     },
     "metadata": {},
     "output_type": "display_data"
    },
    {
     "name": "stdout",
     "output_type": "stream",
     "text": [
      "\n",
      "Processing conf file /media/data/sbulusu/datasets/complexworm/dat_files/Multi_lattice_open_worms/open_configs-100-5-4.010-1.000-0.950.dat\n",
      "['open_configs', '100', '5', '4.010', '1.000', '0.950']\n",
      "loaded file name labels ['nt', 'nx', 'eta', 'lambda', 'mu']\n",
      "First read conf file /media/data/sbulusu/datasets/complexworm/dat_files/Multi_lattice_open_worms/open_configs-100-5-4.010-1.000-0.950.dat with size :torch.Size([4000, 4, 5, 100])\n",
      "Read conf file /media/data/sbulusu/datasets/complexworm/dat_files/Multi_lattice_open_worms/open_configs-100-5-4.010-1.000-0.950.dat with size :torch.Size([4000, 4, 5, 100])\n",
      "Loading 4000 confs\n"
     ]
    },
    {
     "data": {
      "application/vnd.jupyter.widget-view+json": {
       "model_id": "6dbc2be3664e41a59950964610d488eb",
       "version_major": 2,
       "version_minor": 0
      },
      "text/plain": [
       "HBox(children=(FloatProgress(value=0.0, max=4000.0), HTML(value='')))"
      ]
     },
     "metadata": {},
     "output_type": "display_data"
    },
    {
     "name": "stdout",
     "output_type": "stream",
     "text": [
      "\n",
      "Processing conf file /media/data/sbulusu/datasets/complexworm/dat_files/Multi_lattice_open_worms/open_configs-100-5-4.010-1.000-1.045.dat\n",
      "['open_configs', '100', '5', '4.010', '1.000', '1.045']\n",
      "loaded file name labels ['nt', 'nx', 'eta', 'lambda', 'mu']\n",
      "First read conf file /media/data/sbulusu/datasets/complexworm/dat_files/Multi_lattice_open_worms/open_configs-100-5-4.010-1.000-1.045.dat with size :torch.Size([4000, 4, 5, 100])\n",
      "Read conf file /media/data/sbulusu/datasets/complexworm/dat_files/Multi_lattice_open_worms/open_configs-100-5-4.010-1.000-1.045.dat with size :torch.Size([4000, 4, 5, 100])\n",
      "Loading 4000 confs\n"
     ]
    },
    {
     "data": {
      "application/vnd.jupyter.widget-view+json": {
       "model_id": "cb456012f5574507b24f96fe0b6e0b3d",
       "version_major": 2,
       "version_minor": 0
      },
      "text/plain": [
       "HBox(children=(FloatProgress(value=0.0, max=4000.0), HTML(value='')))"
      ]
     },
     "metadata": {},
     "output_type": "display_data"
    },
    {
     "name": "stdout",
     "output_type": "stream",
     "text": [
      "\n",
      "Processing conf file /media/data/sbulusu/datasets/complexworm/dat_files/Multi_lattice_open_worms/open_configs-100-5-4.010-1.000-1.050.dat\n",
      "['open_configs', '100', '5', '4.010', '1.000', '1.050']\n",
      "loaded file name labels ['nt', 'nx', 'eta', 'lambda', 'mu']\n",
      "First read conf file /media/data/sbulusu/datasets/complexworm/dat_files/Multi_lattice_open_worms/open_configs-100-5-4.010-1.000-1.050.dat with size :torch.Size([4000, 4, 5, 100])\n",
      "Read conf file /media/data/sbulusu/datasets/complexworm/dat_files/Multi_lattice_open_worms/open_configs-100-5-4.010-1.000-1.050.dat with size :torch.Size([4000, 4, 5, 100])\n",
      "Loading 4000 confs\n"
     ]
    },
    {
     "data": {
      "application/vnd.jupyter.widget-view+json": {
       "model_id": "201dca4d4a914582b8f9e60a997edb2b",
       "version_major": 2,
       "version_minor": 0
      },
      "text/plain": [
       "HBox(children=(FloatProgress(value=0.0, max=4000.0), HTML(value='')))"
      ]
     },
     "metadata": {},
     "output_type": "display_data"
    },
    {
     "name": "stdout",
     "output_type": "stream",
     "text": [
      "\n",
      "Processing conf file /media/data/sbulusu/datasets/complexworm/dat_files/Multi_lattice_open_worms/open_configs-100-5-4.010-1.000-1.010.dat\n",
      "['open_configs', '100', '5', '4.010', '1.000', '1.010']\n",
      "loaded file name labels ['nt', 'nx', 'eta', 'lambda', 'mu']\n",
      "First read conf file /media/data/sbulusu/datasets/complexworm/dat_files/Multi_lattice_open_worms/open_configs-100-5-4.010-1.000-1.010.dat with size :torch.Size([4000, 4, 5, 100])\n",
      "Read conf file /media/data/sbulusu/datasets/complexworm/dat_files/Multi_lattice_open_worms/open_configs-100-5-4.010-1.000-1.010.dat with size :torch.Size([4000, 4, 5, 100])\n",
      "Loading 4000 confs\n"
     ]
    },
    {
     "data": {
      "application/vnd.jupyter.widget-view+json": {
       "model_id": "ebc111b58b9949a2996050af31560da0",
       "version_major": 2,
       "version_minor": 0
      },
      "text/plain": [
       "HBox(children=(FloatProgress(value=0.0, max=4000.0), HTML(value='')))"
      ]
     },
     "metadata": {},
     "output_type": "display_data"
    },
    {
     "name": "stdout",
     "output_type": "stream",
     "text": [
      "\n",
      "Processing conf file /media/data/sbulusu/datasets/complexworm/dat_files/Multi_lattice_open_worms/open_configs-100-5-4.010-1.000-0.910.dat\n",
      "['open_configs', '100', '5', '4.010', '1.000', '0.910']\n",
      "loaded file name labels ['nt', 'nx', 'eta', 'lambda', 'mu']\n",
      "First read conf file /media/data/sbulusu/datasets/complexworm/dat_files/Multi_lattice_open_worms/open_configs-100-5-4.010-1.000-0.910.dat with size :torch.Size([4000, 4, 5, 100])\n",
      "Read conf file /media/data/sbulusu/datasets/complexworm/dat_files/Multi_lattice_open_worms/open_configs-100-5-4.010-1.000-0.910.dat with size :torch.Size([4000, 4, 5, 100])\n",
      "Loading 4000 confs\n"
     ]
    },
    {
     "data": {
      "application/vnd.jupyter.widget-view+json": {
       "model_id": "039f9c8415794955b72fb679307b3c1a",
       "version_major": 2,
       "version_minor": 0
      },
      "text/plain": [
       "HBox(children=(FloatProgress(value=0.0, max=4000.0), HTML(value='')))"
      ]
     },
     "metadata": {},
     "output_type": "display_data"
    },
    {
     "name": "stdout",
     "output_type": "stream",
     "text": [
      "\n",
      "Processing conf file /media/data/sbulusu/datasets/complexworm/dat_files/Multi_lattice_open_worms/open_configs-100-5-4.010-1.000-0.955.dat\n",
      "['open_configs', '100', '5', '4.010', '1.000', '0.955']\n",
      "loaded file name labels ['nt', 'nx', 'eta', 'lambda', 'mu']\n",
      "First read conf file /media/data/sbulusu/datasets/complexworm/dat_files/Multi_lattice_open_worms/open_configs-100-5-4.010-1.000-0.955.dat with size :torch.Size([4000, 4, 5, 100])\n",
      "Read conf file /media/data/sbulusu/datasets/complexworm/dat_files/Multi_lattice_open_worms/open_configs-100-5-4.010-1.000-0.955.dat with size :torch.Size([4000, 4, 5, 100])\n",
      "Loading 4000 confs\n"
     ]
    },
    {
     "data": {
      "application/vnd.jupyter.widget-view+json": {
       "model_id": "bdd9e274a5c1473881bf2dd2fbb56161",
       "version_major": 2,
       "version_minor": 0
      },
      "text/plain": [
       "HBox(children=(FloatProgress(value=0.0, max=4000.0), HTML(value='')))"
      ]
     },
     "metadata": {},
     "output_type": "display_data"
    },
    {
     "name": "stdout",
     "output_type": "stream",
     "text": [
      "\n",
      "Processing conf file /media/data/sbulusu/datasets/complexworm/dat_files/Multi_lattice_open_worms/open_configs-100-5-4.010-1.000-0.920.dat\n",
      "['open_configs', '100', '5', '4.010', '1.000', '0.920']\n",
      "loaded file name labels ['nt', 'nx', 'eta', 'lambda', 'mu']\n",
      "First read conf file /media/data/sbulusu/datasets/complexworm/dat_files/Multi_lattice_open_worms/open_configs-100-5-4.010-1.000-0.920.dat with size :torch.Size([4000, 4, 5, 100])\n",
      "Read conf file /media/data/sbulusu/datasets/complexworm/dat_files/Multi_lattice_open_worms/open_configs-100-5-4.010-1.000-0.920.dat with size :torch.Size([4000, 4, 5, 100])\n",
      "Loading 4000 confs\n"
     ]
    },
    {
     "data": {
      "application/vnd.jupyter.widget-view+json": {
       "model_id": "52bf7dababa045afa14bf883f611a41e",
       "version_major": 2,
       "version_minor": 0
      },
      "text/plain": [
       "HBox(children=(FloatProgress(value=0.0, max=4000.0), HTML(value='')))"
      ]
     },
     "metadata": {},
     "output_type": "display_data"
    },
    {
     "name": "stdout",
     "output_type": "stream",
     "text": [
      "\n",
      "Processing conf file /media/data/sbulusu/datasets/complexworm/dat_files/Multi_lattice_open_worms/open_configs-100-5-4.010-1.000-0.930.dat\n",
      "['open_configs', '100', '5', '4.010', '1.000', '0.930']\n",
      "loaded file name labels ['nt', 'nx', 'eta', 'lambda', 'mu']\n",
      "First read conf file /media/data/sbulusu/datasets/complexworm/dat_files/Multi_lattice_open_worms/open_configs-100-5-4.010-1.000-0.930.dat with size :torch.Size([4000, 4, 5, 100])\n",
      "Read conf file /media/data/sbulusu/datasets/complexworm/dat_files/Multi_lattice_open_worms/open_configs-100-5-4.010-1.000-0.930.dat with size :torch.Size([4000, 4, 5, 100])\n",
      "Loading 4000 confs\n"
     ]
    },
    {
     "data": {
      "application/vnd.jupyter.widget-view+json": {
       "model_id": "d612d758a4a8498ca5d2f9bca9ba68dc",
       "version_major": 2,
       "version_minor": 0
      },
      "text/plain": [
       "HBox(children=(FloatProgress(value=0.0, max=4000.0), HTML(value='')))"
      ]
     },
     "metadata": {},
     "output_type": "display_data"
    },
    {
     "name": "stdout",
     "output_type": "stream",
     "text": [
      "\n",
      "Processing conf file /media/data/sbulusu/datasets/complexworm/dat_files/Multi_lattice_open_worms/open_configs-100-5-4.010-1.000-0.985.dat\n",
      "['open_configs', '100', '5', '4.010', '1.000', '0.985']\n",
      "loaded file name labels ['nt', 'nx', 'eta', 'lambda', 'mu']\n",
      "First read conf file /media/data/sbulusu/datasets/complexworm/dat_files/Multi_lattice_open_worms/open_configs-100-5-4.010-1.000-0.985.dat with size :torch.Size([4000, 4, 5, 100])\n",
      "Read conf file /media/data/sbulusu/datasets/complexworm/dat_files/Multi_lattice_open_worms/open_configs-100-5-4.010-1.000-0.985.dat with size :torch.Size([4000, 4, 5, 100])\n",
      "Loading 4000 confs\n"
     ]
    },
    {
     "data": {
      "application/vnd.jupyter.widget-view+json": {
       "model_id": "7a8feb48ad0c4d2d9ab720874c40d6b0",
       "version_major": 2,
       "version_minor": 0
      },
      "text/plain": [
       "HBox(children=(FloatProgress(value=0.0, max=4000.0), HTML(value='')))"
      ]
     },
     "metadata": {},
     "output_type": "display_data"
    },
    {
     "name": "stdout",
     "output_type": "stream",
     "text": [
      "\n",
      "Processing conf file /media/data/sbulusu/datasets/complexworm/dat_files/Multi_lattice_open_worms/open_configs-100-5-4.010-1.000-0.965.dat\n",
      "['open_configs', '100', '5', '4.010', '1.000', '0.965']\n",
      "loaded file name labels ['nt', 'nx', 'eta', 'lambda', 'mu']\n",
      "First read conf file /media/data/sbulusu/datasets/complexworm/dat_files/Multi_lattice_open_worms/open_configs-100-5-4.010-1.000-0.965.dat with size :torch.Size([4000, 4, 5, 100])\n",
      "Read conf file /media/data/sbulusu/datasets/complexworm/dat_files/Multi_lattice_open_worms/open_configs-100-5-4.010-1.000-0.965.dat with size :torch.Size([4000, 4, 5, 100])\n",
      "Loading 4000 confs\n"
     ]
    },
    {
     "data": {
      "application/vnd.jupyter.widget-view+json": {
       "model_id": "2abb82ab9d0b46bb88635e4bcfe2af51",
       "version_major": 2,
       "version_minor": 0
      },
      "text/plain": [
       "HBox(children=(FloatProgress(value=0.0, max=4000.0), HTML(value='')))"
      ]
     },
     "metadata": {},
     "output_type": "display_data"
    },
    {
     "name": "stdout",
     "output_type": "stream",
     "text": [
      "\n",
      "Processing conf file /media/data/sbulusu/datasets/complexworm/dat_files/Multi_lattice_open_worms/open_configs-100-5-4.010-1.000-1.020.dat\n",
      "['open_configs', '100', '5', '4.010', '1.000', '1.020']\n",
      "loaded file name labels ['nt', 'nx', 'eta', 'lambda', 'mu']\n",
      "First read conf file /media/data/sbulusu/datasets/complexworm/dat_files/Multi_lattice_open_worms/open_configs-100-5-4.010-1.000-1.020.dat with size :torch.Size([4000, 4, 5, 100])\n",
      "Read conf file /media/data/sbulusu/datasets/complexworm/dat_files/Multi_lattice_open_worms/open_configs-100-5-4.010-1.000-1.020.dat with size :torch.Size([4000, 4, 5, 100])\n",
      "Loading 4000 confs\n"
     ]
    },
    {
     "data": {
      "application/vnd.jupyter.widget-view+json": {
       "model_id": "0e169e72c4324cef9e29f37cb72ee5dc",
       "version_major": 2,
       "version_minor": 0
      },
      "text/plain": [
       "HBox(children=(FloatProgress(value=0.0, max=4000.0), HTML(value='')))"
      ]
     },
     "metadata": {},
     "output_type": "display_data"
    },
    {
     "name": "stdout",
     "output_type": "stream",
     "text": [
      "\n",
      "Processing conf file /media/data/sbulusu/datasets/complexworm/dat_files/Multi_lattice_open_worms/open_configs-100-5-4.010-1.000-0.915.dat\n",
      "['open_configs', '100', '5', '4.010', '1.000', '0.915']\n",
      "loaded file name labels ['nt', 'nx', 'eta', 'lambda', 'mu']\n",
      "First read conf file /media/data/sbulusu/datasets/complexworm/dat_files/Multi_lattice_open_worms/open_configs-100-5-4.010-1.000-0.915.dat with size :torch.Size([4000, 4, 5, 100])\n",
      "Read conf file /media/data/sbulusu/datasets/complexworm/dat_files/Multi_lattice_open_worms/open_configs-100-5-4.010-1.000-0.915.dat with size :torch.Size([4000, 4, 5, 100])\n",
      "Loading 4000 confs\n"
     ]
    },
    {
     "data": {
      "application/vnd.jupyter.widget-view+json": {
       "model_id": "7bb0bcd9452449a4a8da27e73124eccc",
       "version_major": 2,
       "version_minor": 0
      },
      "text/plain": [
       "HBox(children=(FloatProgress(value=0.0, max=4000.0), HTML(value='')))"
      ]
     },
     "metadata": {},
     "output_type": "display_data"
    },
    {
     "name": "stdout",
     "output_type": "stream",
     "text": [
      "\n",
      "Processing conf file /media/data/sbulusu/datasets/complexworm/dat_files/Multi_lattice_open_worms/open_configs-100-5-4.010-1.000-0.925.dat\n",
      "['open_configs', '100', '5', '4.010', '1.000', '0.925']\n",
      "loaded file name labels ['nt', 'nx', 'eta', 'lambda', 'mu']\n",
      "First read conf file /media/data/sbulusu/datasets/complexworm/dat_files/Multi_lattice_open_worms/open_configs-100-5-4.010-1.000-0.925.dat with size :torch.Size([4000, 4, 5, 100])\n",
      "Read conf file /media/data/sbulusu/datasets/complexworm/dat_files/Multi_lattice_open_worms/open_configs-100-5-4.010-1.000-0.925.dat with size :torch.Size([4000, 4, 5, 100])\n",
      "Loading 4000 confs\n"
     ]
    },
    {
     "data": {
      "application/vnd.jupyter.widget-view+json": {
       "model_id": "b13b72184fb04c029ccb90ef65967a7b",
       "version_major": 2,
       "version_minor": 0
      },
      "text/plain": [
       "HBox(children=(FloatProgress(value=0.0, max=4000.0), HTML(value='')))"
      ]
     },
     "metadata": {},
     "output_type": "display_data"
    },
    {
     "name": "stdout",
     "output_type": "stream",
     "text": [
      "\n",
      "Processing conf file /media/data/sbulusu/datasets/complexworm/dat_files/Multi_lattice_open_worms/open_configs-100-5-4.010-1.000-0.960.dat\n",
      "['open_configs', '100', '5', '4.010', '1.000', '0.960']\n",
      "loaded file name labels ['nt', 'nx', 'eta', 'lambda', 'mu']\n",
      "First read conf file /media/data/sbulusu/datasets/complexworm/dat_files/Multi_lattice_open_worms/open_configs-100-5-4.010-1.000-0.960.dat with size :torch.Size([4000, 4, 5, 100])\n",
      "Read conf file /media/data/sbulusu/datasets/complexworm/dat_files/Multi_lattice_open_worms/open_configs-100-5-4.010-1.000-0.960.dat with size :torch.Size([4000, 4, 5, 100])\n",
      "Loading 4000 confs\n"
     ]
    },
    {
     "data": {
      "application/vnd.jupyter.widget-view+json": {
       "model_id": "850e3f15570d4734863fde2ae287fb98",
       "version_major": 2,
       "version_minor": 0
      },
      "text/plain": [
       "HBox(children=(FloatProgress(value=0.0, max=4000.0), HTML(value='')))"
      ]
     },
     "metadata": {},
     "output_type": "display_data"
    },
    {
     "name": "stdout",
     "output_type": "stream",
     "text": [
      "\n",
      "Processing conf file /media/data/sbulusu/datasets/complexworm/dat_files/Multi_lattice_open_worms/open_configs-100-5-4.010-1.000-0.980.dat\n",
      "['open_configs', '100', '5', '4.010', '1.000', '0.980']\n",
      "loaded file name labels ['nt', 'nx', 'eta', 'lambda', 'mu']\n",
      "First read conf file /media/data/sbulusu/datasets/complexworm/dat_files/Multi_lattice_open_worms/open_configs-100-5-4.010-1.000-0.980.dat with size :torch.Size([4000, 4, 5, 100])\n",
      "Read conf file /media/data/sbulusu/datasets/complexworm/dat_files/Multi_lattice_open_worms/open_configs-100-5-4.010-1.000-0.980.dat with size :torch.Size([4000, 4, 5, 100])\n",
      "Loading 4000 confs\n"
     ]
    },
    {
     "data": {
      "application/vnd.jupyter.widget-view+json": {
       "model_id": "9298b0fb81a74e56a7260359e2bd2ce5",
       "version_major": 2,
       "version_minor": 0
      },
      "text/plain": [
       "HBox(children=(FloatProgress(value=0.0, max=4000.0), HTML(value='')))"
      ]
     },
     "metadata": {},
     "output_type": "display_data"
    },
    {
     "name": "stdout",
     "output_type": "stream",
     "text": [
      "\n",
      "Processing conf file /media/data/sbulusu/datasets/complexworm/dat_files/Multi_lattice_open_worms/open_configs-100-5-4.010-1.000-0.970.dat\n",
      "['open_configs', '100', '5', '4.010', '1.000', '0.970']\n",
      "loaded file name labels ['nt', 'nx', 'eta', 'lambda', 'mu']\n",
      "First read conf file /media/data/sbulusu/datasets/complexworm/dat_files/Multi_lattice_open_worms/open_configs-100-5-4.010-1.000-0.970.dat with size :torch.Size([4000, 4, 5, 100])\n",
      "Read conf file /media/data/sbulusu/datasets/complexworm/dat_files/Multi_lattice_open_worms/open_configs-100-5-4.010-1.000-0.970.dat with size :torch.Size([4000, 4, 5, 100])\n",
      "Loading 4000 confs\n"
     ]
    },
    {
     "data": {
      "application/vnd.jupyter.widget-view+json": {
       "model_id": "1f74d0bdb71d404dbee04944127d1ddc",
       "version_major": 2,
       "version_minor": 0
      },
      "text/plain": [
       "HBox(children=(FloatProgress(value=0.0, max=4000.0), HTML(value='')))"
      ]
     },
     "metadata": {},
     "output_type": "display_data"
    },
    {
     "name": "stdout",
     "output_type": "stream",
     "text": [
      "\n",
      "Processing conf file /media/data/sbulusu/datasets/complexworm/dat_files/Multi_lattice_open_worms/open_configs-100-5-4.010-1.000-1.025.dat\n",
      "['open_configs', '100', '5', '4.010', '1.000', '1.025']\n",
      "loaded file name labels ['nt', 'nx', 'eta', 'lambda', 'mu']\n",
      "First read conf file /media/data/sbulusu/datasets/complexworm/dat_files/Multi_lattice_open_worms/open_configs-100-5-4.010-1.000-1.025.dat with size :torch.Size([4000, 4, 5, 100])\n",
      "Read conf file /media/data/sbulusu/datasets/complexworm/dat_files/Multi_lattice_open_worms/open_configs-100-5-4.010-1.000-1.025.dat with size :torch.Size([4000, 4, 5, 100])\n",
      "Loading 4000 confs\n"
     ]
    },
    {
     "data": {
      "application/vnd.jupyter.widget-view+json": {
       "model_id": "080aa03065f7493f913f961e71c1fd5e",
       "version_major": 2,
       "version_minor": 0
      },
      "text/plain": [
       "HBox(children=(FloatProgress(value=0.0, max=4000.0), HTML(value='')))"
      ]
     },
     "metadata": {},
     "output_type": "display_data"
    },
    {
     "name": "stdout",
     "output_type": "stream",
     "text": [
      "\n",
      "Processing conf file /media/data/sbulusu/datasets/complexworm/dat_files/Multi_lattice_open_worms/open_configs-100-5-4.010-1.000-0.945.dat\n",
      "['open_configs', '100', '5', '4.010', '1.000', '0.945']\n",
      "loaded file name labels ['nt', 'nx', 'eta', 'lambda', 'mu']\n",
      "First read conf file /media/data/sbulusu/datasets/complexworm/dat_files/Multi_lattice_open_worms/open_configs-100-5-4.010-1.000-0.945.dat with size :torch.Size([4000, 4, 5, 100])\n",
      "Read conf file /media/data/sbulusu/datasets/complexworm/dat_files/Multi_lattice_open_worms/open_configs-100-5-4.010-1.000-0.945.dat with size :torch.Size([4000, 4, 5, 100])\n",
      "Loading 4000 confs\n"
     ]
    },
    {
     "data": {
      "application/vnd.jupyter.widget-view+json": {
       "model_id": "445e6b6d2d5743df897d328b9da36dd6",
       "version_major": 2,
       "version_minor": 0
      },
      "text/plain": [
       "HBox(children=(FloatProgress(value=0.0, max=4000.0), HTML(value='')))"
      ]
     },
     "metadata": {},
     "output_type": "display_data"
    },
    {
     "name": "stdout",
     "output_type": "stream",
     "text": [
      "\n",
      "Processing conf file /media/data/sbulusu/datasets/complexworm/dat_files/Multi_lattice_closed_worms/configs-100-5-4.010-1.000-1.050.dat\n",
      "['configs', '100', '5', '4.010', '1.000', '1.050']\n",
      "loaded file name labels ['nt', 'nx', 'eta', 'lambda', 'mu']\n",
      "First read conf file /media/data/sbulusu/datasets/complexworm/dat_files/Multi_lattice_closed_worms/configs-100-5-4.010-1.000-1.050.dat with size :torch.Size([4000, 4, 5, 100])\n",
      "Read conf file /media/data/sbulusu/datasets/complexworm/dat_files/Multi_lattice_closed_worms/configs-100-5-4.010-1.000-1.050.dat with size :torch.Size([4000, 4, 5, 100])\n",
      "Loading 4000 confs\n"
     ]
    },
    {
     "data": {
      "application/vnd.jupyter.widget-view+json": {
       "model_id": "1e41904d5f3246f49e8279f882376130",
       "version_major": 2,
       "version_minor": 0
      },
      "text/plain": [
       "HBox(children=(FloatProgress(value=0.0, max=4000.0), HTML(value='')))"
      ]
     },
     "metadata": {},
     "output_type": "display_data"
    },
    {
     "name": "stdout",
     "output_type": "stream",
     "text": [
      "\n",
      "Processing conf file /media/data/sbulusu/datasets/complexworm/dat_files/Multi_lattice_closed_worms/configs-100-5-4.010-1.000-0.975.dat\n",
      "['configs', '100', '5', '4.010', '1.000', '0.975']\n",
      "loaded file name labels ['nt', 'nx', 'eta', 'lambda', 'mu']\n",
      "First read conf file /media/data/sbulusu/datasets/complexworm/dat_files/Multi_lattice_closed_worms/configs-100-5-4.010-1.000-0.975.dat with size :torch.Size([4000, 4, 5, 100])\n",
      "Read conf file /media/data/sbulusu/datasets/complexworm/dat_files/Multi_lattice_closed_worms/configs-100-5-4.010-1.000-0.975.dat with size :torch.Size([4000, 4, 5, 100])\n",
      "Loading 4000 confs\n"
     ]
    },
    {
     "data": {
      "application/vnd.jupyter.widget-view+json": {
       "model_id": "05a63ab680fa43e6b908b2d691ce1ac1",
       "version_major": 2,
       "version_minor": 0
      },
      "text/plain": [
       "HBox(children=(FloatProgress(value=0.0, max=4000.0), HTML(value='')))"
      ]
     },
     "metadata": {},
     "output_type": "display_data"
    },
    {
     "name": "stdout",
     "output_type": "stream",
     "text": [
      "\n",
      "Processing conf file /media/data/sbulusu/datasets/complexworm/dat_files/Multi_lattice_closed_worms/configs-100-5-4.010-1.000-0.955.dat\n",
      "['configs', '100', '5', '4.010', '1.000', '0.955']\n",
      "loaded file name labels ['nt', 'nx', 'eta', 'lambda', 'mu']\n",
      "First read conf file /media/data/sbulusu/datasets/complexworm/dat_files/Multi_lattice_closed_worms/configs-100-5-4.010-1.000-0.955.dat with size :torch.Size([4000, 4, 5, 100])\n",
      "Read conf file /media/data/sbulusu/datasets/complexworm/dat_files/Multi_lattice_closed_worms/configs-100-5-4.010-1.000-0.955.dat with size :torch.Size([4000, 4, 5, 100])\n",
      "Loading 4000 confs\n"
     ]
    },
    {
     "data": {
      "application/vnd.jupyter.widget-view+json": {
       "model_id": "80fb5c85ea134dbb89eee6fa0eb07811",
       "version_major": 2,
       "version_minor": 0
      },
      "text/plain": [
       "HBox(children=(FloatProgress(value=0.0, max=4000.0), HTML(value='')))"
      ]
     },
     "metadata": {},
     "output_type": "display_data"
    },
    {
     "name": "stdout",
     "output_type": "stream",
     "text": [
      "\n",
      "Processing conf file /media/data/sbulusu/datasets/complexworm/dat_files/Multi_lattice_closed_worms/configs-100-5-4.010-1.000-0.990.dat\n",
      "['configs', '100', '5', '4.010', '1.000', '0.990']\n",
      "loaded file name labels ['nt', 'nx', 'eta', 'lambda', 'mu']\n",
      "First read conf file /media/data/sbulusu/datasets/complexworm/dat_files/Multi_lattice_closed_worms/configs-100-5-4.010-1.000-0.990.dat with size :torch.Size([4000, 4, 5, 100])\n",
      "Read conf file /media/data/sbulusu/datasets/complexworm/dat_files/Multi_lattice_closed_worms/configs-100-5-4.010-1.000-0.990.dat with size :torch.Size([4000, 4, 5, 100])\n",
      "Loading 4000 confs\n"
     ]
    },
    {
     "data": {
      "application/vnd.jupyter.widget-view+json": {
       "model_id": "8eee92ad34854a949c8498335e7645ca",
       "version_major": 2,
       "version_minor": 0
      },
      "text/plain": [
       "HBox(children=(FloatProgress(value=0.0, max=4000.0), HTML(value='')))"
      ]
     },
     "metadata": {},
     "output_type": "display_data"
    },
    {
     "name": "stdout",
     "output_type": "stream",
     "text": [
      "\n",
      "Processing conf file /media/data/sbulusu/datasets/complexworm/dat_files/Multi_lattice_closed_worms/configs-100-5-4.010-1.000-0.970.dat\n",
      "['configs', '100', '5', '4.010', '1.000', '0.970']\n",
      "loaded file name labels ['nt', 'nx', 'eta', 'lambda', 'mu']\n",
      "First read conf file /media/data/sbulusu/datasets/complexworm/dat_files/Multi_lattice_closed_worms/configs-100-5-4.010-1.000-0.970.dat with size :torch.Size([4000, 4, 5, 100])\n",
      "Read conf file /media/data/sbulusu/datasets/complexworm/dat_files/Multi_lattice_closed_worms/configs-100-5-4.010-1.000-0.970.dat with size :torch.Size([4000, 4, 5, 100])\n",
      "Loading 4000 confs\n"
     ]
    },
    {
     "data": {
      "application/vnd.jupyter.widget-view+json": {
       "model_id": "9eae9caa1ad840a29bf7e74aabcf9d23",
       "version_major": 2,
       "version_minor": 0
      },
      "text/plain": [
       "HBox(children=(FloatProgress(value=0.0, max=4000.0), HTML(value='')))"
      ]
     },
     "metadata": {},
     "output_type": "display_data"
    },
    {
     "name": "stdout",
     "output_type": "stream",
     "text": [
      "\n",
      "Processing conf file /media/data/sbulusu/datasets/complexworm/dat_files/Multi_lattice_closed_worms/configs-100-5-4.010-1.000-1.045.dat\n",
      "['configs', '100', '5', '4.010', '1.000', '1.045']\n",
      "loaded file name labels ['nt', 'nx', 'eta', 'lambda', 'mu']\n",
      "First read conf file /media/data/sbulusu/datasets/complexworm/dat_files/Multi_lattice_closed_worms/configs-100-5-4.010-1.000-1.045.dat with size :torch.Size([4000, 4, 5, 100])\n",
      "Read conf file /media/data/sbulusu/datasets/complexworm/dat_files/Multi_lattice_closed_worms/configs-100-5-4.010-1.000-1.045.dat with size :torch.Size([4000, 4, 5, 100])\n",
      "Loading 4000 confs\n"
     ]
    },
    {
     "data": {
      "application/vnd.jupyter.widget-view+json": {
       "model_id": "509cffff42ab4aa8907b54c283717dc4",
       "version_major": 2,
       "version_minor": 0
      },
      "text/plain": [
       "HBox(children=(FloatProgress(value=0.0, max=4000.0), HTML(value='')))"
      ]
     },
     "metadata": {},
     "output_type": "display_data"
    },
    {
     "name": "stdout",
     "output_type": "stream",
     "text": [
      "\n",
      "Processing conf file /media/data/sbulusu/datasets/complexworm/dat_files/Multi_lattice_closed_worms/configs-100-5-4.010-1.000-1.005.dat\n",
      "['configs', '100', '5', '4.010', '1.000', '1.005']\n",
      "loaded file name labels ['nt', 'nx', 'eta', 'lambda', 'mu']\n",
      "First read conf file /media/data/sbulusu/datasets/complexworm/dat_files/Multi_lattice_closed_worms/configs-100-5-4.010-1.000-1.005.dat with size :torch.Size([4000, 4, 5, 100])\n",
      "Read conf file /media/data/sbulusu/datasets/complexworm/dat_files/Multi_lattice_closed_worms/configs-100-5-4.010-1.000-1.005.dat with size :torch.Size([4000, 4, 5, 100])\n",
      "Loading 4000 confs\n"
     ]
    },
    {
     "data": {
      "application/vnd.jupyter.widget-view+json": {
       "model_id": "3eddbda7f71344269027fcc79553e366",
       "version_major": 2,
       "version_minor": 0
      },
      "text/plain": [
       "HBox(children=(FloatProgress(value=0.0, max=4000.0), HTML(value='')))"
      ]
     },
     "metadata": {},
     "output_type": "display_data"
    },
    {
     "name": "stdout",
     "output_type": "stream",
     "text": [
      "\n",
      "Processing conf file /media/data/sbulusu/datasets/complexworm/dat_files/Multi_lattice_closed_worms/configs-100-5-4.010-1.000-0.980.dat\n",
      "['configs', '100', '5', '4.010', '1.000', '0.980']\n",
      "loaded file name labels ['nt', 'nx', 'eta', 'lambda', 'mu']\n",
      "First read conf file /media/data/sbulusu/datasets/complexworm/dat_files/Multi_lattice_closed_worms/configs-100-5-4.010-1.000-0.980.dat with size :torch.Size([4000, 4, 5, 100])\n",
      "Read conf file /media/data/sbulusu/datasets/complexworm/dat_files/Multi_lattice_closed_worms/configs-100-5-4.010-1.000-0.980.dat with size :torch.Size([4000, 4, 5, 100])\n",
      "Loading 4000 confs\n"
     ]
    },
    {
     "data": {
      "application/vnd.jupyter.widget-view+json": {
       "model_id": "614fe61c4f504b01b9075afadcefd16e",
       "version_major": 2,
       "version_minor": 0
      },
      "text/plain": [
       "HBox(children=(FloatProgress(value=0.0, max=4000.0), HTML(value='')))"
      ]
     },
     "metadata": {},
     "output_type": "display_data"
    },
    {
     "name": "stdout",
     "output_type": "stream",
     "text": [
      "\n",
      "Processing conf file /media/data/sbulusu/datasets/complexworm/dat_files/Multi_lattice_closed_worms/configs-100-5-4.010-1.000-1.040.dat\n",
      "['configs', '100', '5', '4.010', '1.000', '1.040']\n",
      "loaded file name labels ['nt', 'nx', 'eta', 'lambda', 'mu']\n",
      "First read conf file /media/data/sbulusu/datasets/complexworm/dat_files/Multi_lattice_closed_worms/configs-100-5-4.010-1.000-1.040.dat with size :torch.Size([4000, 4, 5, 100])\n",
      "Read conf file /media/data/sbulusu/datasets/complexworm/dat_files/Multi_lattice_closed_worms/configs-100-5-4.010-1.000-1.040.dat with size :torch.Size([4000, 4, 5, 100])\n",
      "Loading 4000 confs\n"
     ]
    },
    {
     "data": {
      "application/vnd.jupyter.widget-view+json": {
       "model_id": "a34327d0fc2e48ffa68519690441f351",
       "version_major": 2,
       "version_minor": 0
      },
      "text/plain": [
       "HBox(children=(FloatProgress(value=0.0, max=4000.0), HTML(value='')))"
      ]
     },
     "metadata": {},
     "output_type": "display_data"
    },
    {
     "name": "stdout",
     "output_type": "stream",
     "text": [
      "\n",
      "Processing conf file /media/data/sbulusu/datasets/complexworm/dat_files/Multi_lattice_closed_worms/configs-100-5-4.010-1.000-1.030.dat\n",
      "['configs', '100', '5', '4.010', '1.000', '1.030']\n",
      "loaded file name labels ['nt', 'nx', 'eta', 'lambda', 'mu']\n",
      "First read conf file /media/data/sbulusu/datasets/complexworm/dat_files/Multi_lattice_closed_worms/configs-100-5-4.010-1.000-1.030.dat with size :torch.Size([4000, 4, 5, 100])\n",
      "Read conf file /media/data/sbulusu/datasets/complexworm/dat_files/Multi_lattice_closed_worms/configs-100-5-4.010-1.000-1.030.dat with size :torch.Size([4000, 4, 5, 100])\n",
      "Loading 4000 confs\n"
     ]
    },
    {
     "data": {
      "application/vnd.jupyter.widget-view+json": {
       "model_id": "8f828233ee144dfbbb682236145fa6b8",
       "version_major": 2,
       "version_minor": 0
      },
      "text/plain": [
       "HBox(children=(FloatProgress(value=0.0, max=4000.0), HTML(value='')))"
      ]
     },
     "metadata": {},
     "output_type": "display_data"
    },
    {
     "name": "stdout",
     "output_type": "stream",
     "text": [
      "\n",
      "Processing conf file /media/data/sbulusu/datasets/complexworm/dat_files/Multi_lattice_closed_worms/configs-100-5-4.010-1.000-1.015.dat\n",
      "['configs', '100', '5', '4.010', '1.000', '1.015']\n",
      "loaded file name labels ['nt', 'nx', 'eta', 'lambda', 'mu']\n",
      "First read conf file /media/data/sbulusu/datasets/complexworm/dat_files/Multi_lattice_closed_worms/configs-100-5-4.010-1.000-1.015.dat with size :torch.Size([4000, 4, 5, 100])\n",
      "Read conf file /media/data/sbulusu/datasets/complexworm/dat_files/Multi_lattice_closed_worms/configs-100-5-4.010-1.000-1.015.dat with size :torch.Size([4000, 4, 5, 100])\n",
      "Loading 4000 confs\n"
     ]
    },
    {
     "data": {
      "application/vnd.jupyter.widget-view+json": {
       "model_id": "3622fa51204142c3a5129f8b118275a4",
       "version_major": 2,
       "version_minor": 0
      },
      "text/plain": [
       "HBox(children=(FloatProgress(value=0.0, max=4000.0), HTML(value='')))"
      ]
     },
     "metadata": {},
     "output_type": "display_data"
    },
    {
     "name": "stdout",
     "output_type": "stream",
     "text": [
      "\n",
      "Processing conf file /media/data/sbulusu/datasets/complexworm/dat_files/Multi_lattice_closed_worms/configs-100-5-4.010-1.000-0.940.dat\n",
      "['configs', '100', '5', '4.010', '1.000', '0.940']\n",
      "loaded file name labels ['nt', 'nx', 'eta', 'lambda', 'mu']\n",
      "First read conf file /media/data/sbulusu/datasets/complexworm/dat_files/Multi_lattice_closed_worms/configs-100-5-4.010-1.000-0.940.dat with size :torch.Size([4000, 4, 5, 100])\n",
      "Read conf file /media/data/sbulusu/datasets/complexworm/dat_files/Multi_lattice_closed_worms/configs-100-5-4.010-1.000-0.940.dat with size :torch.Size([4000, 4, 5, 100])\n",
      "Loading 4000 confs\n"
     ]
    },
    {
     "data": {
      "application/vnd.jupyter.widget-view+json": {
       "model_id": "94a4de00abb747b5a5614558664defb8",
       "version_major": 2,
       "version_minor": 0
      },
      "text/plain": [
       "HBox(children=(FloatProgress(value=0.0, max=4000.0), HTML(value='')))"
      ]
     },
     "metadata": {},
     "output_type": "display_data"
    },
    {
     "name": "stdout",
     "output_type": "stream",
     "text": [
      "\n",
      "Processing conf file /media/data/sbulusu/datasets/complexworm/dat_files/Multi_lattice_closed_worms/configs-100-5-4.010-1.000-1.010.dat\n",
      "['configs', '100', '5', '4.010', '1.000', '1.010']\n",
      "loaded file name labels ['nt', 'nx', 'eta', 'lambda', 'mu']\n",
      "First read conf file /media/data/sbulusu/datasets/complexworm/dat_files/Multi_lattice_closed_worms/configs-100-5-4.010-1.000-1.010.dat with size :torch.Size([4000, 4, 5, 100])\n",
      "Read conf file /media/data/sbulusu/datasets/complexworm/dat_files/Multi_lattice_closed_worms/configs-100-5-4.010-1.000-1.010.dat with size :torch.Size([4000, 4, 5, 100])\n",
      "Loading 4000 confs\n"
     ]
    },
    {
     "data": {
      "application/vnd.jupyter.widget-view+json": {
       "model_id": "6345c3b3ad8041bab5b8b2d0b2b0cf95",
       "version_major": 2,
       "version_minor": 0
      },
      "text/plain": [
       "HBox(children=(FloatProgress(value=0.0, max=4000.0), HTML(value='')))"
      ]
     },
     "metadata": {},
     "output_type": "display_data"
    },
    {
     "name": "stdout",
     "output_type": "stream",
     "text": [
      "\n",
      "Processing conf file /media/data/sbulusu/datasets/complexworm/dat_files/Multi_lattice_closed_worms/configs-100-5-4.010-1.000-1.000.dat\n",
      "['configs', '100', '5', '4.010', '1.000', '1.000']\n",
      "loaded file name labels ['nt', 'nx', 'eta', 'lambda', 'mu']\n",
      "First read conf file /media/data/sbulusu/datasets/complexworm/dat_files/Multi_lattice_closed_worms/configs-100-5-4.010-1.000-1.000.dat with size :torch.Size([4000, 4, 5, 100])\n",
      "Read conf file /media/data/sbulusu/datasets/complexworm/dat_files/Multi_lattice_closed_worms/configs-100-5-4.010-1.000-1.000.dat with size :torch.Size([4000, 4, 5, 100])\n",
      "Loading 4000 confs\n"
     ]
    },
    {
     "data": {
      "application/vnd.jupyter.widget-view+json": {
       "model_id": "3a85dfff6317402eb50975074e851b8b",
       "version_major": 2,
       "version_minor": 0
      },
      "text/plain": [
       "HBox(children=(FloatProgress(value=0.0, max=4000.0), HTML(value='')))"
      ]
     },
     "metadata": {},
     "output_type": "display_data"
    },
    {
     "name": "stdout",
     "output_type": "stream",
     "text": [
      "\n",
      "Processing conf file /media/data/sbulusu/datasets/complexworm/dat_files/Multi_lattice_closed_worms/configs-100-5-4.010-1.000-0.915.dat\n",
      "['configs', '100', '5', '4.010', '1.000', '0.915']\n",
      "loaded file name labels ['nt', 'nx', 'eta', 'lambda', 'mu']\n",
      "First read conf file /media/data/sbulusu/datasets/complexworm/dat_files/Multi_lattice_closed_worms/configs-100-5-4.010-1.000-0.915.dat with size :torch.Size([4000, 4, 5, 100])\n",
      "Read conf file /media/data/sbulusu/datasets/complexworm/dat_files/Multi_lattice_closed_worms/configs-100-5-4.010-1.000-0.915.dat with size :torch.Size([4000, 4, 5, 100])\n",
      "Loading 4000 confs\n"
     ]
    },
    {
     "data": {
      "application/vnd.jupyter.widget-view+json": {
       "model_id": "44b227aa621e4be0a41301f08ba8b5fe",
       "version_major": 2,
       "version_minor": 0
      },
      "text/plain": [
       "HBox(children=(FloatProgress(value=0.0, max=4000.0), HTML(value='')))"
      ]
     },
     "metadata": {},
     "output_type": "display_data"
    },
    {
     "name": "stdout",
     "output_type": "stream",
     "text": [
      "\n",
      "Processing conf file /media/data/sbulusu/datasets/complexworm/dat_files/Multi_lattice_closed_worms/configs-100-5-4.010-1.000-1.025.dat\n",
      "['configs', '100', '5', '4.010', '1.000', '1.025']\n",
      "loaded file name labels ['nt', 'nx', 'eta', 'lambda', 'mu']\n",
      "First read conf file /media/data/sbulusu/datasets/complexworm/dat_files/Multi_lattice_closed_worms/configs-100-5-4.010-1.000-1.025.dat with size :torch.Size([4000, 4, 5, 100])\n",
      "Read conf file /media/data/sbulusu/datasets/complexworm/dat_files/Multi_lattice_closed_worms/configs-100-5-4.010-1.000-1.025.dat with size :torch.Size([4000, 4, 5, 100])\n",
      "Loading 4000 confs\n"
     ]
    },
    {
     "data": {
      "application/vnd.jupyter.widget-view+json": {
       "model_id": "f7f9992c8f9c4a28a35cf77c2f1afa7c",
       "version_major": 2,
       "version_minor": 0
      },
      "text/plain": [
       "HBox(children=(FloatProgress(value=0.0, max=4000.0), HTML(value='')))"
      ]
     },
     "metadata": {},
     "output_type": "display_data"
    },
    {
     "name": "stdout",
     "output_type": "stream",
     "text": [
      "\n",
      "Processing conf file /media/data/sbulusu/datasets/complexworm/dat_files/Multi_lattice_closed_worms/configs-100-5-4.010-1.000-0.950.dat\n",
      "['configs', '100', '5', '4.010', '1.000', '0.950']\n",
      "loaded file name labels ['nt', 'nx', 'eta', 'lambda', 'mu']\n",
      "First read conf file /media/data/sbulusu/datasets/complexworm/dat_files/Multi_lattice_closed_worms/configs-100-5-4.010-1.000-0.950.dat with size :torch.Size([4000, 4, 5, 100])\n",
      "Read conf file /media/data/sbulusu/datasets/complexworm/dat_files/Multi_lattice_closed_worms/configs-100-5-4.010-1.000-0.950.dat with size :torch.Size([4000, 4, 5, 100])\n",
      "Loading 4000 confs\n"
     ]
    },
    {
     "data": {
      "application/vnd.jupyter.widget-view+json": {
       "model_id": "6872e8fddf1143d7bb37527562eb6336",
       "version_major": 2,
       "version_minor": 0
      },
      "text/plain": [
       "HBox(children=(FloatProgress(value=0.0, max=4000.0), HTML(value='')))"
      ]
     },
     "metadata": {},
     "output_type": "display_data"
    },
    {
     "name": "stdout",
     "output_type": "stream",
     "text": [
      "\n",
      "Processing conf file /media/data/sbulusu/datasets/complexworm/dat_files/Multi_lattice_closed_worms/configs-100-5-4.010-1.000-0.930.dat\n",
      "['configs', '100', '5', '4.010', '1.000', '0.930']\n",
      "loaded file name labels ['nt', 'nx', 'eta', 'lambda', 'mu']\n",
      "First read conf file /media/data/sbulusu/datasets/complexworm/dat_files/Multi_lattice_closed_worms/configs-100-5-4.010-1.000-0.930.dat with size :torch.Size([4000, 4, 5, 100])\n",
      "Read conf file /media/data/sbulusu/datasets/complexworm/dat_files/Multi_lattice_closed_worms/configs-100-5-4.010-1.000-0.930.dat with size :torch.Size([4000, 4, 5, 100])\n",
      "Loading 4000 confs\n"
     ]
    },
    {
     "data": {
      "application/vnd.jupyter.widget-view+json": {
       "model_id": "25ea81bc7d8844edb48740fd65bca2e1",
       "version_major": 2,
       "version_minor": 0
      },
      "text/plain": [
       "HBox(children=(FloatProgress(value=0.0, max=4000.0), HTML(value='')))"
      ]
     },
     "metadata": {},
     "output_type": "display_data"
    },
    {
     "name": "stdout",
     "output_type": "stream",
     "text": [
      "\n",
      "Processing conf file /media/data/sbulusu/datasets/complexworm/dat_files/Multi_lattice_closed_worms/configs-100-5-4.010-1.000-0.960.dat\n",
      "['configs', '100', '5', '4.010', '1.000', '0.960']\n",
      "loaded file name labels ['nt', 'nx', 'eta', 'lambda', 'mu']\n",
      "First read conf file /media/data/sbulusu/datasets/complexworm/dat_files/Multi_lattice_closed_worms/configs-100-5-4.010-1.000-0.960.dat with size :torch.Size([4000, 4, 5, 100])\n",
      "Read conf file /media/data/sbulusu/datasets/complexworm/dat_files/Multi_lattice_closed_worms/configs-100-5-4.010-1.000-0.960.dat with size :torch.Size([4000, 4, 5, 100])\n",
      "Loading 4000 confs\n"
     ]
    },
    {
     "data": {
      "application/vnd.jupyter.widget-view+json": {
       "model_id": "9ac2a43f18fb4987be5b42c4c3a64d4a",
       "version_major": 2,
       "version_minor": 0
      },
      "text/plain": [
       "HBox(children=(FloatProgress(value=0.0, max=4000.0), HTML(value='')))"
      ]
     },
     "metadata": {},
     "output_type": "display_data"
    },
    {
     "name": "stdout",
     "output_type": "stream",
     "text": [
      "\n",
      "Processing conf file /media/data/sbulusu/datasets/complexworm/dat_files/Multi_lattice_closed_worms/configs-100-5-4.010-1.000-0.925.dat\n",
      "['configs', '100', '5', '4.010', '1.000', '0.925']\n",
      "loaded file name labels ['nt', 'nx', 'eta', 'lambda', 'mu']\n",
      "First read conf file /media/data/sbulusu/datasets/complexworm/dat_files/Multi_lattice_closed_worms/configs-100-5-4.010-1.000-0.925.dat with size :torch.Size([4000, 4, 5, 100])\n",
      "Read conf file /media/data/sbulusu/datasets/complexworm/dat_files/Multi_lattice_closed_worms/configs-100-5-4.010-1.000-0.925.dat with size :torch.Size([4000, 4, 5, 100])\n",
      "Loading 4000 confs\n"
     ]
    },
    {
     "data": {
      "application/vnd.jupyter.widget-view+json": {
       "model_id": "2fd033230fb34d48bf54d2c066e34c79",
       "version_major": 2,
       "version_minor": 0
      },
      "text/plain": [
       "HBox(children=(FloatProgress(value=0.0, max=4000.0), HTML(value='')))"
      ]
     },
     "metadata": {},
     "output_type": "display_data"
    },
    {
     "name": "stdout",
     "output_type": "stream",
     "text": [
      "\n",
      "Processing conf file /media/data/sbulusu/datasets/complexworm/dat_files/Multi_lattice_closed_worms/configs-100-5-4.010-1.000-0.995.dat\n",
      "['configs', '100', '5', '4.010', '1.000', '0.995']\n",
      "loaded file name labels ['nt', 'nx', 'eta', 'lambda', 'mu']\n",
      "First read conf file /media/data/sbulusu/datasets/complexworm/dat_files/Multi_lattice_closed_worms/configs-100-5-4.010-1.000-0.995.dat with size :torch.Size([4000, 4, 5, 100])\n",
      "Read conf file /media/data/sbulusu/datasets/complexworm/dat_files/Multi_lattice_closed_worms/configs-100-5-4.010-1.000-0.995.dat with size :torch.Size([4000, 4, 5, 100])\n",
      "Loading 4000 confs\n"
     ]
    },
    {
     "data": {
      "application/vnd.jupyter.widget-view+json": {
       "model_id": "4014a82221914ad8a8a03a5de9d3afe3",
       "version_major": 2,
       "version_minor": 0
      },
      "text/plain": [
       "HBox(children=(FloatProgress(value=0.0, max=4000.0), HTML(value='')))"
      ]
     },
     "metadata": {},
     "output_type": "display_data"
    },
    {
     "name": "stdout",
     "output_type": "stream",
     "text": [
      "\n",
      "Processing conf file /media/data/sbulusu/datasets/complexworm/dat_files/Multi_lattice_closed_worms/configs-100-5-4.010-1.000-1.020.dat\n",
      "['configs', '100', '5', '4.010', '1.000', '1.020']\n",
      "loaded file name labels ['nt', 'nx', 'eta', 'lambda', 'mu']\n",
      "First read conf file /media/data/sbulusu/datasets/complexworm/dat_files/Multi_lattice_closed_worms/configs-100-5-4.010-1.000-1.020.dat with size :torch.Size([4000, 4, 5, 100])\n",
      "Read conf file /media/data/sbulusu/datasets/complexworm/dat_files/Multi_lattice_closed_worms/configs-100-5-4.010-1.000-1.020.dat with size :torch.Size([4000, 4, 5, 100])\n",
      "Loading 4000 confs\n"
     ]
    },
    {
     "data": {
      "application/vnd.jupyter.widget-view+json": {
       "model_id": "22b70acebb6d465182134b1f88b45ca5",
       "version_major": 2,
       "version_minor": 0
      },
      "text/plain": [
       "HBox(children=(FloatProgress(value=0.0, max=4000.0), HTML(value='')))"
      ]
     },
     "metadata": {},
     "output_type": "display_data"
    },
    {
     "name": "stdout",
     "output_type": "stream",
     "text": [
      "\n",
      "Processing conf file /media/data/sbulusu/datasets/complexworm/dat_files/Multi_lattice_closed_worms/configs-100-5-4.010-1.000-0.985.dat\n",
      "['configs', '100', '5', '4.010', '1.000', '0.985']\n",
      "loaded file name labels ['nt', 'nx', 'eta', 'lambda', 'mu']\n",
      "First read conf file /media/data/sbulusu/datasets/complexworm/dat_files/Multi_lattice_closed_worms/configs-100-5-4.010-1.000-0.985.dat with size :torch.Size([4000, 4, 5, 100])\n",
      "Read conf file /media/data/sbulusu/datasets/complexworm/dat_files/Multi_lattice_closed_worms/configs-100-5-4.010-1.000-0.985.dat with size :torch.Size([4000, 4, 5, 100])\n",
      "Loading 4000 confs\n"
     ]
    },
    {
     "data": {
      "application/vnd.jupyter.widget-view+json": {
       "model_id": "f3c2f70fd46444ec8a86c92cff02e70e",
       "version_major": 2,
       "version_minor": 0
      },
      "text/plain": [
       "HBox(children=(FloatProgress(value=0.0, max=4000.0), HTML(value='')))"
      ]
     },
     "metadata": {},
     "output_type": "display_data"
    },
    {
     "name": "stdout",
     "output_type": "stream",
     "text": [
      "\n",
      "Processing conf file /media/data/sbulusu/datasets/complexworm/dat_files/Multi_lattice_closed_worms/configs-100-5-4.010-1.000-0.910.dat\n",
      "['configs', '100', '5', '4.010', '1.000', '0.910']\n",
      "loaded file name labels ['nt', 'nx', 'eta', 'lambda', 'mu']\n",
      "First read conf file /media/data/sbulusu/datasets/complexworm/dat_files/Multi_lattice_closed_worms/configs-100-5-4.010-1.000-0.910.dat with size :torch.Size([4000, 4, 5, 100])\n",
      "Read conf file /media/data/sbulusu/datasets/complexworm/dat_files/Multi_lattice_closed_worms/configs-100-5-4.010-1.000-0.910.dat with size :torch.Size([4000, 4, 5, 100])\n",
      "Loading 4000 confs\n"
     ]
    },
    {
     "data": {
      "application/vnd.jupyter.widget-view+json": {
       "model_id": "314bad369f5f4e35957032602aabd00e",
       "version_major": 2,
       "version_minor": 0
      },
      "text/plain": [
       "HBox(children=(FloatProgress(value=0.0, max=4000.0), HTML(value='')))"
      ]
     },
     "metadata": {},
     "output_type": "display_data"
    },
    {
     "name": "stdout",
     "output_type": "stream",
     "text": [
      "\n",
      "Processing conf file /media/data/sbulusu/datasets/complexworm/dat_files/Multi_lattice_closed_worms/configs-100-5-4.010-1.000-1.035.dat\n",
      "['configs', '100', '5', '4.010', '1.000', '1.035']\n",
      "loaded file name labels ['nt', 'nx', 'eta', 'lambda', 'mu']\n",
      "First read conf file /media/data/sbulusu/datasets/complexworm/dat_files/Multi_lattice_closed_worms/configs-100-5-4.010-1.000-1.035.dat with size :torch.Size([4000, 4, 5, 100])\n",
      "Read conf file /media/data/sbulusu/datasets/complexworm/dat_files/Multi_lattice_closed_worms/configs-100-5-4.010-1.000-1.035.dat with size :torch.Size([4000, 4, 5, 100])\n",
      "Loading 4000 confs\n"
     ]
    },
    {
     "data": {
      "application/vnd.jupyter.widget-view+json": {
       "model_id": "a404a84d350742d1a979d42c2d8e974f",
       "version_major": 2,
       "version_minor": 0
      },
      "text/plain": [
       "HBox(children=(FloatProgress(value=0.0, max=4000.0), HTML(value='')))"
      ]
     },
     "metadata": {},
     "output_type": "display_data"
    },
    {
     "name": "stdout",
     "output_type": "stream",
     "text": [
      "\n",
      "Processing conf file /media/data/sbulusu/datasets/complexworm/dat_files/Multi_lattice_closed_worms/configs-100-5-4.010-1.000-0.945.dat\n",
      "['configs', '100', '5', '4.010', '1.000', '0.945']\n",
      "loaded file name labels ['nt', 'nx', 'eta', 'lambda', 'mu']\n",
      "First read conf file /media/data/sbulusu/datasets/complexworm/dat_files/Multi_lattice_closed_worms/configs-100-5-4.010-1.000-0.945.dat with size :torch.Size([4000, 4, 5, 100])\n",
      "Read conf file /media/data/sbulusu/datasets/complexworm/dat_files/Multi_lattice_closed_worms/configs-100-5-4.010-1.000-0.945.dat with size :torch.Size([4000, 4, 5, 100])\n",
      "Loading 4000 confs\n"
     ]
    },
    {
     "data": {
      "application/vnd.jupyter.widget-view+json": {
       "model_id": "5905af9b40e84b67b8f6ed7eb5ea0fb3",
       "version_major": 2,
       "version_minor": 0
      },
      "text/plain": [
       "HBox(children=(FloatProgress(value=0.0, max=4000.0), HTML(value='')))"
      ]
     },
     "metadata": {},
     "output_type": "display_data"
    },
    {
     "name": "stdout",
     "output_type": "stream",
     "text": [
      "\n",
      "Processing conf file /media/data/sbulusu/datasets/complexworm/dat_files/Multi_lattice_closed_worms/configs-100-5-4.010-1.000-0.965.dat\n",
      "['configs', '100', '5', '4.010', '1.000', '0.965']\n",
      "loaded file name labels ['nt', 'nx', 'eta', 'lambda', 'mu']\n",
      "First read conf file /media/data/sbulusu/datasets/complexworm/dat_files/Multi_lattice_closed_worms/configs-100-5-4.010-1.000-0.965.dat with size :torch.Size([4000, 4, 5, 100])\n",
      "Read conf file /media/data/sbulusu/datasets/complexworm/dat_files/Multi_lattice_closed_worms/configs-100-5-4.010-1.000-0.965.dat with size :torch.Size([4000, 4, 5, 100])\n",
      "Loading 4000 confs\n"
     ]
    },
    {
     "data": {
      "application/vnd.jupyter.widget-view+json": {
       "model_id": "8d4d156dccec405580658ca1b5d00a15",
       "version_major": 2,
       "version_minor": 0
      },
      "text/plain": [
       "HBox(children=(FloatProgress(value=0.0, max=4000.0), HTML(value='')))"
      ]
     },
     "metadata": {},
     "output_type": "display_data"
    },
    {
     "name": "stdout",
     "output_type": "stream",
     "text": [
      "\n",
      "Processing conf file /media/data/sbulusu/datasets/complexworm/dat_files/Multi_lattice_closed_worms/configs-100-5-4.010-1.000-0.935.dat\n",
      "['configs', '100', '5', '4.010', '1.000', '0.935']\n",
      "loaded file name labels ['nt', 'nx', 'eta', 'lambda', 'mu']\n",
      "First read conf file /media/data/sbulusu/datasets/complexworm/dat_files/Multi_lattice_closed_worms/configs-100-5-4.010-1.000-0.935.dat with size :torch.Size([4000, 4, 5, 100])\n",
      "Read conf file /media/data/sbulusu/datasets/complexworm/dat_files/Multi_lattice_closed_worms/configs-100-5-4.010-1.000-0.935.dat with size :torch.Size([4000, 4, 5, 100])\n",
      "Loading 4000 confs\n"
     ]
    },
    {
     "data": {
      "application/vnd.jupyter.widget-view+json": {
       "model_id": "258fd5c924954ee48cef1ec6174ef8fe",
       "version_major": 2,
       "version_minor": 0
      },
      "text/plain": [
       "HBox(children=(FloatProgress(value=0.0, max=4000.0), HTML(value='')))"
      ]
     },
     "metadata": {},
     "output_type": "display_data"
    },
    {
     "name": "stdout",
     "output_type": "stream",
     "text": [
      "\n",
      "Processing conf file /media/data/sbulusu/datasets/complexworm/dat_files/Multi_lattice_closed_worms/configs-100-5-4.010-1.000-0.920.dat\n",
      "['configs', '100', '5', '4.010', '1.000', '0.920']\n",
      "loaded file name labels ['nt', 'nx', 'eta', 'lambda', 'mu']\n",
      "First read conf file /media/data/sbulusu/datasets/complexworm/dat_files/Multi_lattice_closed_worms/configs-100-5-4.010-1.000-0.920.dat with size :torch.Size([4000, 4, 5, 100])\n",
      "Read conf file /media/data/sbulusu/datasets/complexworm/dat_files/Multi_lattice_closed_worms/configs-100-5-4.010-1.000-0.920.dat with size :torch.Size([4000, 4, 5, 100])\n",
      "Loading 4000 confs\n"
     ]
    },
    {
     "data": {
      "application/vnd.jupyter.widget-view+json": {
       "model_id": "40bf9a615ab948408d36a35e8fec465d",
       "version_major": 2,
       "version_minor": 0
      },
      "text/plain": [
       "HBox(children=(FloatProgress(value=0.0, max=4000.0), HTML(value='')))"
      ]
     },
     "metadata": {},
     "output_type": "display_data"
    },
    {
     "name": "stdout",
     "output_type": "stream",
     "text": [
      "\n",
      "\n",
      "last example loaded:\n",
      "{'conf': tensor([[[0, 0, 0,  ..., 0, 0, 0],\n",
      "         [0, 0, 0,  ..., 0, 0, 0],\n",
      "         [0, 0, 0,  ..., 0, 0, 0],\n",
      "         [0, 0, 0,  ..., 0, 0, 0],\n",
      "         [0, 0, 0,  ..., 0, 0, 0]],\n",
      "\n",
      "        [[0, 0, 0,  ..., 0, 0, 0],\n",
      "         [0, 0, 0,  ..., 0, 0, 0],\n",
      "         [0, 0, 0,  ..., 0, 0, 0],\n",
      "         [0, 0, 0,  ..., 0, 0, 0],\n",
      "         [0, 0, 0,  ..., 0, 0, 0]],\n",
      "\n",
      "        [[0, 0, 0,  ..., 0, 0, 0],\n",
      "         [0, 0, 0,  ..., 0, 0, 0],\n",
      "         [0, 0, 0,  ..., 0, 0, 0],\n",
      "         [0, 0, 0,  ..., 0, 0, 0],\n",
      "         [0, 0, 0,  ..., 0, 0, 0]],\n",
      "\n",
      "        [[0, 0, 0,  ..., 0, 0, 0],\n",
      "         [0, 0, 0,  ..., 0, 0, 0],\n",
      "         [0, 1, 0,  ..., 0, 0, 0],\n",
      "         [1, 0, 0,  ..., 0, 1, 0],\n",
      "         [0, 0, 0,  ..., 0, 0, 0]]]), 'mu': 0.92, 'open': False, 'nt': 100.0, 'nx': 5.0, 'eta': 4.01, 'lambda': 1.0, 'phase': tensor(0.), 'id': 231999}\n"
     ]
    }
   ],
   "source": [
    "\"\"\"\n",
    "Load Data\n",
    "\"\"\"\n",
    "#conf_file_dir = \"/media/data/sbulusu/datasets/complexworm/dat_files/\"\n",
    "conf_file_dir = \"/media/data/sbulusu/datasets/complexworm/dat_files/\"\n",
    "file_format_list = [\"Multi_lattice_open_worms/open_configs-100-5*.dat\",\n",
    "                    \"Multi_lattice_closed_worms/configs-100-5*.dat\"\n",
    "                   ]\n",
    "\n",
    "#label_names = [\"n\", \"phi2\"]\n",
    "label_names = []\n",
    "labels_in_file_name = [\"nt\", \"nx\", \"eta\", \"lambda\", \"mu\"]\n",
    "\n",
    "dataset = open_worm_lat_dataset_load_new_lightning_dat.kl_dataset(conf_file_dir, file_format_list,\n",
    "                                                              label_names, labels_in_file_name,\n",
    "                                                              transform=None)"
   ]
  },
  {
   "cell_type": "code",
   "execution_count": 10,
   "metadata": {},
   "outputs": [],
   "source": [
    "target_attributes = [\"open\"]\n",
    "output_attributes = target_attributes\n",
    "\n",
    "dataset.train_label_names = target_attributes"
   ]
  },
  {
   "cell_type": "code",
   "execution_count": 11,
   "metadata": {},
   "outputs": [],
   "source": [
    "net = best_model"
   ]
  },
  {
   "cell_type": "code",
   "execution_count": 12,
   "metadata": {},
   "outputs": [],
   "source": [
    "lat_size = dataset[0][0].size()[1:]"
   ]
  },
  {
   "cell_type": "code",
   "execution_count": 13,
   "metadata": {},
   "outputs": [
    {
     "name": "stdout",
     "output_type": "stream",
     "text": [
      "test dataset size: 232000\n",
      "(-1, 1)\n"
     ]
    },
    {
     "data": {
      "application/vnd.jupyter.widget-view+json": {
       "model_id": "b2a8602c9bd947b29ed9fc875a111a00",
       "version_major": 2,
       "version_minor": 0
      },
      "text/plain": [
       "HBox(children=(FloatProgress(value=0.0, max=232000.0), HTML(value='')))"
      ]
     },
     "metadata": {},
     "output_type": "display_data"
    },
    {
     "name": "stdout",
     "output_type": "stream",
     "text": [
      "\n"
     ]
    }
   ],
   "source": [
    "new_data_len = len(dataset)\n",
    "test_indices = list(range(new_data_len))\n",
    "\n",
    "lat_size = dataset[0][0].size()[1:]\n",
    "\n",
    "\"\"\"\n",
    "Load Test Data\n",
    "\"\"\"\n",
    "net = best_model\n",
    "net.eval()\n",
    "print(f\"test dataset size: {len(test_indices)}\")\n",
    "#lat_size = [10,200]\n",
    "input_size = net.input_size\n",
    "output_size = net.output_size\n",
    "model_input_shape = tuple(np.concatenate(([-1],input_size)))\n",
    "print(model_input_shape)\n",
    "\n",
    "#net_outputs = np.zeros( (len(test_indices)) )\n",
    "net_outputs = np.zeros( (len(test_indices), len(output_attributes)) )\n",
    "#labels = np.zeros( (len(test_indices)) )\n",
    "labels = np.zeros( (len(test_indices), len(output_attributes)) )\n",
    "mus = np.zeros( (len(test_indices)) )\n",
    "\n",
    "with torch.no_grad():\n",
    "    for i in tqdm(range(len(test_indices))):\n",
    "    #for i in tqdm(range(len(val_indices))):\n",
    "\n",
    "        test_index = test_indices[i]\n",
    "        conf_lat_links, label = dataset[test_index]\n",
    "        batch_conf_lat_links = torch.zeros(1, *conf_lat_links.size())\n",
    "        batch_conf_lat_links[0] = conf_lat_links\n",
    "        mus[i] = dataset.data[test_index][\"mu\"]\n",
    "        #net_outputs[i] = net(conf_lat_links.view(model_input_shape).to(device).float()).detach().cpu().numpy()\n",
    "        #net_outputs[i] = net(conf_lat_links.to(device).float()).detach().cpu().numpy()\n",
    "        net_outputs[i] = net(batch_conf_lat_links.to(device).float()).detach().cpu().numpy()\n",
    "        #output = net(conf_lat_links.view(model_input_shape).float())\n",
    "        #labels[i] = label.detach().cpu().numpy()\n",
    "        labels[i] = np.array(label)\n",
    " "
   ]
  },
  {
   "cell_type": "code",
   "execution_count": 14,
   "metadata": {},
   "outputs": [],
   "source": [
    "labels = labels.flatten()\n",
    "net_outputs = net_outputs.flatten()"
   ]
  },
  {
   "cell_type": "code",
   "execution_count": 15,
   "metadata": {},
   "outputs": [
    {
     "name": "stdout",
     "output_type": "stream",
     "text": [
      "110055.02699001516\n"
     ]
    }
   ],
   "source": [
    "dev = np.abs(net_outputs - labels)\n",
    "print(dev.sum())"
   ]
  },
  {
   "cell_type": "code",
   "execution_count": 16,
   "metadata": {},
   "outputs": [],
   "source": [
    "int_net_outputs = np.rint(net_outputs)\n",
    "int_dev = np.abs(int_net_outputs - labels.astype(int))\n",
    "#print(int_dev.sum())"
   ]
  },
  {
   "cell_type": "code",
   "execution_count": 17,
   "metadata": {},
   "outputs": [
    {
     "data": {
      "text/plain": [
       "(232000,)"
      ]
     },
     "execution_count": 17,
     "metadata": {},
     "output_type": "execute_result"
    }
   ],
   "source": [
    "labels.shape"
   ]
  },
  {
   "cell_type": "code",
   "execution_count": 18,
   "metadata": {},
   "outputs": [],
   "source": [
    "results = pd.DataFrame(np.transpose([labels.flatten(), int_net_outputs.flatten()]))"
   ]
  },
  {
   "cell_type": "code",
   "execution_count": 19,
   "metadata": {},
   "outputs": [
    {
     "data": {
      "text/html": [
       "<div>\n",
       "<style scoped>\n",
       "    .dataframe tbody tr th:only-of-type {\n",
       "        vertical-align: middle;\n",
       "    }\n",
       "\n",
       "    .dataframe tbody tr th {\n",
       "        vertical-align: top;\n",
       "    }\n",
       "\n",
       "    .dataframe thead th {\n",
       "        text-align: right;\n",
       "    }\n",
       "</style>\n",
       "<table border=\"1\" class=\"dataframe\">\n",
       "  <thead>\n",
       "    <tr style=\"text-align: right;\">\n",
       "      <th></th>\n",
       "      <th>0</th>\n",
       "      <th>1</th>\n",
       "    </tr>\n",
       "  </thead>\n",
       "  <tbody>\n",
       "    <tr>\n",
       "      <th>0</th>\n",
       "      <td>1.0</td>\n",
       "      <td>1.0</td>\n",
       "    </tr>\n",
       "    <tr>\n",
       "      <th>1</th>\n",
       "      <td>1.0</td>\n",
       "      <td>1.0</td>\n",
       "    </tr>\n",
       "    <tr>\n",
       "      <th>2</th>\n",
       "      <td>1.0</td>\n",
       "      <td>1.0</td>\n",
       "    </tr>\n",
       "    <tr>\n",
       "      <th>3</th>\n",
       "      <td>1.0</td>\n",
       "      <td>1.0</td>\n",
       "    </tr>\n",
       "    <tr>\n",
       "      <th>4</th>\n",
       "      <td>1.0</td>\n",
       "      <td>1.0</td>\n",
       "    </tr>\n",
       "    <tr>\n",
       "      <th>...</th>\n",
       "      <td>...</td>\n",
       "      <td>...</td>\n",
       "    </tr>\n",
       "    <tr>\n",
       "      <th>231995</th>\n",
       "      <td>0.0</td>\n",
       "      <td>1.0</td>\n",
       "    </tr>\n",
       "    <tr>\n",
       "      <th>231996</th>\n",
       "      <td>0.0</td>\n",
       "      <td>1.0</td>\n",
       "    </tr>\n",
       "    <tr>\n",
       "      <th>231997</th>\n",
       "      <td>0.0</td>\n",
       "      <td>1.0</td>\n",
       "    </tr>\n",
       "    <tr>\n",
       "      <th>231998</th>\n",
       "      <td>0.0</td>\n",
       "      <td>1.0</td>\n",
       "    </tr>\n",
       "    <tr>\n",
       "      <th>231999</th>\n",
       "      <td>0.0</td>\n",
       "      <td>1.0</td>\n",
       "    </tr>\n",
       "  </tbody>\n",
       "</table>\n",
       "<p>232000 rows × 2 columns</p>\n",
       "</div>"
      ],
      "text/plain": [
       "          0    1\n",
       "0       1.0  1.0\n",
       "1       1.0  1.0\n",
       "2       1.0  1.0\n",
       "3       1.0  1.0\n",
       "4       1.0  1.0\n",
       "...     ...  ...\n",
       "231995  0.0  1.0\n",
       "231996  0.0  1.0\n",
       "231997  0.0  1.0\n",
       "231998  0.0  1.0\n",
       "231999  0.0  1.0\n",
       "\n",
       "[232000 rows x 2 columns]"
      ]
     },
     "execution_count": 19,
     "metadata": {},
     "output_type": "execute_result"
    }
   ],
   "source": [
    "results"
   ]
  },
  {
   "cell_type": "code",
   "execution_count": 20,
   "metadata": {},
   "outputs": [
    {
     "data": {
      "text/html": [
       "<div>\n",
       "<style scoped>\n",
       "    .dataframe tbody tr th:only-of-type {\n",
       "        vertical-align: middle;\n",
       "    }\n",
       "\n",
       "    .dataframe tbody tr th {\n",
       "        vertical-align: top;\n",
       "    }\n",
       "\n",
       "    .dataframe thead th {\n",
       "        text-align: right;\n",
       "    }\n",
       "</style>\n",
       "<table border=\"1\" class=\"dataframe\">\n",
       "  <thead>\n",
       "    <tr style=\"text-align: right;\">\n",
       "      <th></th>\n",
       "      <th>0</th>\n",
       "      <th>1</th>\n",
       "    </tr>\n",
       "  </thead>\n",
       "  <tbody>\n",
       "    <tr>\n",
       "      <th>count</th>\n",
       "      <td>232000.000000</td>\n",
       "      <td>232000.000000</td>\n",
       "    </tr>\n",
       "    <tr>\n",
       "      <th>mean</th>\n",
       "      <td>0.500000</td>\n",
       "      <td>0.975276</td>\n",
       "    </tr>\n",
       "    <tr>\n",
       "      <th>std</th>\n",
       "      <td>0.500001</td>\n",
       "      <td>0.155283</td>\n",
       "    </tr>\n",
       "    <tr>\n",
       "      <th>min</th>\n",
       "      <td>0.000000</td>\n",
       "      <td>0.000000</td>\n",
       "    </tr>\n",
       "    <tr>\n",
       "      <th>25%</th>\n",
       "      <td>0.000000</td>\n",
       "      <td>1.000000</td>\n",
       "    </tr>\n",
       "    <tr>\n",
       "      <th>50%</th>\n",
       "      <td>0.500000</td>\n",
       "      <td>1.000000</td>\n",
       "    </tr>\n",
       "    <tr>\n",
       "      <th>75%</th>\n",
       "      <td>1.000000</td>\n",
       "      <td>1.000000</td>\n",
       "    </tr>\n",
       "    <tr>\n",
       "      <th>max</th>\n",
       "      <td>1.000000</td>\n",
       "      <td>1.000000</td>\n",
       "    </tr>\n",
       "  </tbody>\n",
       "</table>\n",
       "</div>"
      ],
      "text/plain": [
       "                   0              1\n",
       "count  232000.000000  232000.000000\n",
       "mean        0.500000       0.975276\n",
       "std         0.500001       0.155283\n",
       "min         0.000000       0.000000\n",
       "25%         0.000000       1.000000\n",
       "50%         0.500000       1.000000\n",
       "75%         1.000000       1.000000\n",
       "max         1.000000       1.000000"
      ]
     },
     "execution_count": 20,
     "metadata": {},
     "output_type": "execute_result"
    }
   ],
   "source": [
    "results.describe()"
   ]
  },
  {
   "cell_type": "code",
   "execution_count": 21,
   "metadata": {},
   "outputs": [
    {
     "data": {
      "text/html": [
       "<div>\n",
       "<style scoped>\n",
       "    .dataframe tbody tr th:only-of-type {\n",
       "        vertical-align: middle;\n",
       "    }\n",
       "\n",
       "    .dataframe tbody tr th {\n",
       "        vertical-align: top;\n",
       "    }\n",
       "\n",
       "    .dataframe thead th {\n",
       "        text-align: right;\n",
       "    }\n",
       "</style>\n",
       "<table border=\"1\" class=\"dataframe\">\n",
       "  <thead>\n",
       "    <tr style=\"text-align: right;\">\n",
       "      <th>Pred</th>\n",
       "      <th>0.0</th>\n",
       "      <th>1.0</th>\n",
       "    </tr>\n",
       "    <tr>\n",
       "      <th>Label</th>\n",
       "      <th></th>\n",
       "      <th></th>\n",
       "    </tr>\n",
       "  </thead>\n",
       "  <tbody>\n",
       "    <tr>\n",
       "      <th>0.0</th>\n",
       "      <td>5697</td>\n",
       "      <td>110303</td>\n",
       "    </tr>\n",
       "    <tr>\n",
       "      <th>1.0</th>\n",
       "      <td>39</td>\n",
       "      <td>115961</td>\n",
       "    </tr>\n",
       "  </tbody>\n",
       "</table>\n",
       "</div>"
      ],
      "text/plain": [
       "Pred    0.0     1.0\n",
       "Label              \n",
       "0.0    5697  110303\n",
       "1.0      39  115961"
      ]
     },
     "execution_count": 21,
     "metadata": {},
     "output_type": "execute_result"
    }
   ],
   "source": [
    "pd_labels = pd.Series(labels.flatten(), name=\"Label\")\n",
    "pd_int_net_outputs = pd.Series(int_net_outputs.flatten(), name=\"Pred\")\n",
    "pd.crosstab(pd_labels, pd_int_net_outputs)"
   ]
  },
  {
   "cell_type": "code",
   "execution_count": 22,
   "metadata": {},
   "outputs": [
    {
     "name": "stdout",
     "output_type": "stream",
     "text": [
      "lat_size torch.Size([5, 100])\n",
      "misclassifications\n",
      "110342.0\n"
     ]
    }
   ],
   "source": [
    "print(f\"lat_size {lat_size}\")\n",
    "for i in range(len(target_attributes)):\n",
    "    print(f\"misclassifications\")\n",
    "    print(np.sum(int_dev))"
   ]
  },
  {
   "cell_type": "code",
   "execution_count": 23,
   "metadata": {},
   "outputs": [
    {
     "name": "stdout",
     "output_type": "stream",
     "text": [
      "[[  5697 110303]\n",
      " [    39 115961]]\n"
     ]
    },
    {
     "data": {
      "text/plain": [
       "<matplotlib.image.AxesImage at 0x7f66c45d4f10>"
      ]
     },
     "execution_count": 23,
     "metadata": {},
     "output_type": "execute_result"
    },
    {
     "data": {
      "image/png": "[encoded data removed]",
      "text/plain": [
       "<Figure size 432x288 with 1 Axes>"
      ]
     },
     "metadata": {
      "needs_background": "light"
     },
     "output_type": "display_data"
    }
   ],
   "source": [
    " \"\"\"confmat\"\"\"\n",
    "import sklearn as sk\n",
    "\n",
    "conf_mat = sk.metrics.confusion_matrix(labels, int_net_outputs)\n",
    "#conf_mat = conf_mat/len(labels)\n",
    "print(conf_mat)\n",
    "plt.imshow(conf_mat, cmap=\"BuGn\")"
   ]
  },
  {
   "cell_type": "code",
   "execution_count": 24,
   "metadata": {},
   "outputs": [
    {
     "data": {
      "text/plain": [
       "'confmat per mu'"
      ]
     },
     "execution_count": 24,
     "metadata": {},
     "output_type": "execute_result"
    }
   ],
   "source": [
    " \"\"\"confmat per mu\"\"\""
   ]
  },
  {
   "cell_type": "code",
   "execution_count": 25,
   "metadata": {},
   "outputs": [
    {
     "name": "stdout",
     "output_type": "stream",
     "text": [
      "29\n"
     ]
    }
   ],
   "source": [
    "unique_mus = np.unique(mus)\n",
    "num_mus = len(unique_mus)\n",
    "print(num_mus)"
   ]
  },
  {
   "cell_type": "code",
   "execution_count": 26,
   "metadata": {},
   "outputs": [],
   "source": [
    "mu_labels = []\n",
    "mu_int_net_outputs = []\n",
    "mu_conf_mats = []"
   ]
  },
  {
   "cell_type": "code",
   "execution_count": 27,
   "metadata": {},
   "outputs": [
    {
     "name": "stdout",
     "output_type": "stream",
     "text": [
      "[[ 815 3185]\n",
      " [   5 3995]]\n",
      "\n",
      "\n",
      "[[ 849 3151]\n",
      " [   3 3997]]\n",
      "\n",
      "\n",
      "[[ 785 3215]\n",
      " [  12 3988]]\n",
      "\n",
      "\n",
      "[[ 689 3311]\n",
      " [   1 3999]]\n",
      "\n",
      "\n",
      "[[ 617 3383]\n",
      " [   6 3994]]\n",
      "\n",
      "\n",
      "[[ 580 3420]\n",
      " [   6 3994]]\n",
      "\n",
      "\n",
      "[[ 373 3627]\n",
      " [   1 3999]]\n",
      "\n",
      "\n",
      "[[ 321 3679]\n",
      " [   0 4000]]\n",
      "\n",
      "\n",
      "[[ 240 3760]\n",
      " [   4 3996]]\n",
      "\n",
      "\n",
      "[[ 154 3846]\n",
      " [   0 4000]]\n",
      "\n",
      "\n",
      "[[ 101 3899]\n",
      " [   0 4000]]\n",
      "\n",
      "\n",
      "[[  87 3913]\n",
      " [   1 3999]]\n",
      "\n",
      "\n",
      "[[  40 3960]\n",
      " [   0 4000]]\n",
      "\n",
      "\n",
      "[[  12 3988]\n",
      " [   0 4000]]\n",
      "\n",
      "\n",
      "[[  10 3990]\n",
      " [   0 4000]]\n",
      "\n",
      "\n",
      "[[  14 3986]\n",
      " [   0 4000]]\n",
      "\n",
      "\n",
      "[[   3 3997]\n",
      " [   0 4000]]\n",
      "\n",
      "\n",
      "[[   0 4000]\n",
      " [   0 4000]]\n",
      "\n",
      "\n",
      "[[   0 4000]\n",
      " [   0 4000]]\n",
      "\n",
      "\n",
      "[[   0 4000]\n",
      " [   0 4000]]\n",
      "\n",
      "\n",
      "[[   1 3999]\n",
      " [   0 4000]]\n",
      "\n",
      "\n",
      "[[   1 3999]\n",
      " [   0 4000]]\n",
      "\n",
      "\n",
      "[[   1 3999]\n",
      " [   0 4000]]\n",
      "\n",
      "\n",
      "[[   1 3999]\n",
      " [   0 4000]]\n",
      "\n",
      "\n",
      "[[   1 3999]\n",
      " [   0 4000]]\n",
      "\n",
      "\n",
      "[[   0 4000]\n",
      " [   0 4000]]\n",
      "\n",
      "\n",
      "[[   0 4000]\n",
      " [   0 4000]]\n",
      "\n",
      "\n",
      "[[   2 3998]\n",
      " [   0 4000]]\n",
      "\n",
      "\n",
      "[[   0 4000]\n",
      " [   0 4000]]\n",
      "\n",
      "\n"
     ]
    }
   ],
   "source": [
    "for mu_val in unique_mus:\n",
    "    mu_loc = np.where(mus == mu_val)[0]\n",
    "    \n",
    "    mu_label = labels[mu_loc]\n",
    "    mu_int_net_output = int_net_outputs[mu_loc]\n",
    "    \n",
    "    mu_labels.append(mu_label)\n",
    "    mu_int_net_outputs.append(mu_int_net_output)\n",
    "    mu_conf_mat = sk.metrics.confusion_matrix(mu_label, mu_int_net_output)\n",
    "    mu_conf_mats.append(mu_conf_mat)\n",
    "    \n",
    "for mu_i in range(num_mus):\n",
    "    print(mu_conf_mats[mu_i])\n",
    "    print(\"\\n\")"
   ]
  },
  {
   "cell_type": "code",
   "execution_count": 28,
   "metadata": {},
   "outputs": [
    {
     "data": {
      "text/plain": [
       "<matplotlib.image.AxesImage at 0x7f66c4564090>"
      ]
     },
     "execution_count": 28,
     "metadata": {},
     "output_type": "execute_result"
    },
    {
     "data": {
      "image/png": "[encoded data removed]",
      "text/plain": [
       "<Figure size 432x288 with 1 Axes>"
      ]
     },
     "metadata": {
      "needs_background": "light"
     },
     "output_type": "display_data"
    }
   ],
   "source": [
    "plt.imshow(mu_conf_mats[1], cmap=\"BuGn\")"
   ]
  },
  {
   "cell_type": "code",
   "execution_count": 29,
   "metadata": {},
   "outputs": [
    {
     "data": {
      "image/png": "[encoded data removed]",
      "text/plain": [
       "<Figure size 2160x1440 with 29 Axes>"
      ]
     },
     "metadata": {
      "needs_background": "light"
     },
     "output_type": "display_data"
    }
   ],
   "source": [
    "plt.rcParams['figure.figsize'] = [30, 20]\n",
    "fig, ax = plt.subplots(nrows=1, ncols=num_mus)\n",
    "\n",
    "for i in range(len(ax)):\n",
    "    ax[i].imshow(mu_conf_mats[i], cmap=\"BuGn\")\n",
    "    "
   ]
  },
  {
   "cell_type": "code",
   "execution_count": null,
   "metadata": {},
   "outputs": [],
   "source": []
  },
  {
   "cell_type": "code",
   "execution_count": 30,
   "metadata": {},
   "outputs": [
    {
     "name": "stdout",
     "output_type": "stream",
     "text": [
      "found file 58 paths:\n",
      "['/media/data/sbulusu/datasets/complexworm/dat_files/Multi_lattice_open_worms/open_configs-125-8-4.010-1.000-1.035.dat', '/media/data/sbulusu/datasets/complexworm/dat_files/Multi_lattice_open_worms/open_configs-125-8-4.010-1.000-0.970.dat', '/media/data/sbulusu/datasets/complexworm/dat_files/Multi_lattice_open_worms/open_configs-125-8-4.010-1.000-0.930.dat', '/media/data/sbulusu/datasets/complexworm/dat_files/Multi_lattice_open_worms/open_configs-125-8-4.010-1.000-0.975.dat', '/media/data/sbulusu/datasets/complexworm/dat_files/Multi_lattice_open_worms/open_configs-125-8-4.010-1.000-0.950.dat', '/media/data/sbulusu/datasets/complexworm/dat_files/Multi_lattice_open_worms/open_configs-125-8-4.010-1.000-0.945.dat', '/media/data/sbulusu/datasets/complexworm/dat_files/Multi_lattice_open_worms/open_configs-125-8-4.010-1.000-1.040.dat', '/media/data/sbulusu/datasets/complexworm/dat_files/Multi_lattice_open_worms/open_configs-125-8-4.010-1.000-0.990.dat', '/media/data/sbulusu/datasets/complexworm/dat_files/Multi_lattice_open_worms/open_configs-125-8-4.010-1.000-1.045.dat', '/media/data/sbulusu/datasets/complexworm/dat_files/Multi_lattice_open_worms/open_configs-125-8-4.010-1.000-0.960.dat', '/media/data/sbulusu/datasets/complexworm/dat_files/Multi_lattice_open_worms/open_configs-125-8-4.010-1.000-0.995.dat', '/media/data/sbulusu/datasets/complexworm/dat_files/Multi_lattice_open_worms/open_configs-125-8-4.010-1.000-1.005.dat', '/media/data/sbulusu/datasets/complexworm/dat_files/Multi_lattice_open_worms/open_configs-125-8-4.010-1.000-1.020.dat', '/media/data/sbulusu/datasets/complexworm/dat_files/Multi_lattice_open_worms/open_configs-125-8-4.010-1.000-1.000.dat', '/media/data/sbulusu/datasets/complexworm/dat_files/Multi_lattice_open_worms/open_configs-125-8-4.010-1.000-1.015.dat', '/media/data/sbulusu/datasets/complexworm/dat_files/Multi_lattice_open_worms/open_configs-125-8-4.010-1.000-0.910.dat', '/media/data/sbulusu/datasets/complexworm/dat_files/Multi_lattice_open_worms/open_configs-125-8-4.010-1.000-0.955.dat', '/media/data/sbulusu/datasets/complexworm/dat_files/Multi_lattice_open_worms/open_configs-125-8-4.010-1.000-1.010.dat', '/media/data/sbulusu/datasets/complexworm/dat_files/Multi_lattice_open_worms/open_configs-125-8-4.010-1.000-1.025.dat', '/media/data/sbulusu/datasets/complexworm/dat_files/Multi_lattice_open_worms/open_configs-125-8-4.010-1.000-0.920.dat', '/media/data/sbulusu/datasets/complexworm/dat_files/Multi_lattice_open_worms/open_configs-125-8-4.010-1.000-0.940.dat', '/media/data/sbulusu/datasets/complexworm/dat_files/Multi_lattice_open_worms/open_configs-125-8-4.010-1.000-0.925.dat', '/media/data/sbulusu/datasets/complexworm/dat_files/Multi_lattice_open_worms/open_configs-125-8-4.010-1.000-0.985.dat', '/media/data/sbulusu/datasets/complexworm/dat_files/Multi_lattice_open_worms/open_configs-125-8-4.010-1.000-0.935.dat', '/media/data/sbulusu/datasets/complexworm/dat_files/Multi_lattice_open_worms/open_configs-125-8-4.010-1.000-1.050.dat', '/media/data/sbulusu/datasets/complexworm/dat_files/Multi_lattice_open_worms/open_configs-125-8-4.010-1.000-0.980.dat', '/media/data/sbulusu/datasets/complexworm/dat_files/Multi_lattice_open_worms/open_configs-125-8-4.010-1.000-1.030.dat', '/media/data/sbulusu/datasets/complexworm/dat_files/Multi_lattice_open_worms/open_configs-125-8-4.010-1.000-0.915.dat', '/media/data/sbulusu/datasets/complexworm/dat_files/Multi_lattice_open_worms/open_configs-125-8-4.010-1.000-0.965.dat', '/media/data/sbulusu/datasets/complexworm/dat_files/Multi_lattice_closed_worms/configs-125-8-4.010-1.000-1.025.dat', '/media/data/sbulusu/datasets/complexworm/dat_files/Multi_lattice_closed_worms/configs-125-8-4.010-1.000-1.015.dat', '/media/data/sbulusu/datasets/complexworm/dat_files/Multi_lattice_closed_worms/configs-125-8-4.010-1.000-0.935.dat', '/media/data/sbulusu/datasets/complexworm/dat_files/Multi_lattice_closed_worms/configs-125-8-4.010-1.000-0.950.dat', '/media/data/sbulusu/datasets/complexworm/dat_files/Multi_lattice_closed_worms/configs-125-8-4.010-1.000-0.965.dat', '/media/data/sbulusu/datasets/complexworm/dat_files/Multi_lattice_closed_worms/configs-125-8-4.010-1.000-0.940.dat', '/media/data/sbulusu/datasets/complexworm/dat_files/Multi_lattice_closed_worms/configs-125-8-4.010-1.000-0.970.dat', '/media/data/sbulusu/datasets/complexworm/dat_files/Multi_lattice_closed_worms/configs-125-8-4.010-1.000-0.995.dat', '/media/data/sbulusu/datasets/complexworm/dat_files/Multi_lattice_closed_worms/configs-125-8-4.010-1.000-1.010.dat', '/media/data/sbulusu/datasets/complexworm/dat_files/Multi_lattice_closed_worms/configs-125-8-4.010-1.000-1.040.dat', '/media/data/sbulusu/datasets/complexworm/dat_files/Multi_lattice_closed_worms/configs-125-8-4.010-1.000-0.960.dat', '/media/data/sbulusu/datasets/complexworm/dat_files/Multi_lattice_closed_worms/configs-125-8-4.010-1.000-0.915.dat', '/media/data/sbulusu/datasets/complexworm/dat_files/Multi_lattice_closed_worms/configs-125-8-4.010-1.000-0.990.dat', '/media/data/sbulusu/datasets/complexworm/dat_files/Multi_lattice_closed_worms/configs-125-8-4.010-1.000-1.030.dat', '/media/data/sbulusu/datasets/complexworm/dat_files/Multi_lattice_closed_worms/configs-125-8-4.010-1.000-1.005.dat', '/media/data/sbulusu/datasets/complexworm/dat_files/Multi_lattice_closed_worms/configs-125-8-4.010-1.000-0.975.dat', '/media/data/sbulusu/datasets/complexworm/dat_files/Multi_lattice_closed_worms/configs-125-8-4.010-1.000-1.000.dat', '/media/data/sbulusu/datasets/complexworm/dat_files/Multi_lattice_closed_worms/configs-125-8-4.010-1.000-0.910.dat', '/media/data/sbulusu/datasets/complexworm/dat_files/Multi_lattice_closed_worms/configs-125-8-4.010-1.000-1.045.dat', '/media/data/sbulusu/datasets/complexworm/dat_files/Multi_lattice_closed_worms/configs-125-8-4.010-1.000-1.020.dat', '/media/data/sbulusu/datasets/complexworm/dat_files/Multi_lattice_closed_worms/configs-125-8-4.010-1.000-0.980.dat', '/media/data/sbulusu/datasets/complexworm/dat_files/Multi_lattice_closed_worms/configs-125-8-4.010-1.000-0.985.dat', '/media/data/sbulusu/datasets/complexworm/dat_files/Multi_lattice_closed_worms/configs-125-8-4.010-1.000-0.955.dat', '/media/data/sbulusu/datasets/complexworm/dat_files/Multi_lattice_closed_worms/configs-125-8-4.010-1.000-0.930.dat', '/media/data/sbulusu/datasets/complexworm/dat_files/Multi_lattice_closed_worms/configs-125-8-4.010-1.000-0.920.dat', '/media/data/sbulusu/datasets/complexworm/dat_files/Multi_lattice_closed_worms/configs-125-8-4.010-1.000-0.945.dat', '/media/data/sbulusu/datasets/complexworm/dat_files/Multi_lattice_closed_worms/configs-125-8-4.010-1.000-0.925.dat', '/media/data/sbulusu/datasets/complexworm/dat_files/Multi_lattice_closed_worms/configs-125-8-4.010-1.000-1.050.dat', '/media/data/sbulusu/datasets/complexworm/dat_files/Multi_lattice_closed_worms/configs-125-8-4.010-1.000-1.035.dat']\n"
     ]
    },
    {
     "data": {
      "application/vnd.jupyter.widget-view+json": {
       "model_id": "8b382aad0fbe42d5b2c197de21cfa8c4",
       "version_major": 2,
       "version_minor": 0
      },
      "text/plain": [
       "HBox(children=(FloatProgress(value=0.0, max=58.0), HTML(value='')))"
      ]
     },
     "metadata": {},
     "output_type": "display_data"
    },
    {
     "name": "stdout",
     "output_type": "stream",
     "text": [
      "Processing conf file /media/data/sbulusu/datasets/complexworm/dat_files/Multi_lattice_open_worms/open_configs-125-8-4.010-1.000-1.035.dat\n",
      "['open_configs', '125', '8', '4.010', '1.000', '1.035']\n",
      "loaded file name labels ['nt', 'nx', 'eta', 'lambda', 'mu']\n",
      "First read conf file /media/data/sbulusu/datasets/complexworm/dat_files/Multi_lattice_open_worms/open_configs-125-8-4.010-1.000-1.035.dat with size :torch.Size([4000, 4, 8, 125])\n",
      "Read conf file /media/data/sbulusu/datasets/complexworm/dat_files/Multi_lattice_open_worms/open_configs-125-8-4.010-1.000-1.035.dat with size :torch.Size([4000, 4, 8, 125])\n",
      "Loading 4000 confs\n"
     ]
    },
    {
     "data": {
      "application/vnd.jupyter.widget-view+json": {
       "model_id": "7916a72dcd92474299042919ed00e4d6",
       "version_major": 2,
       "version_minor": 0
      },
      "text/plain": [
       "HBox(children=(FloatProgress(value=0.0, max=4000.0), HTML(value='')))"
      ]
     },
     "metadata": {},
     "output_type": "display_data"
    },
    {
     "name": "stdout",
     "output_type": "stream",
     "text": [
      "first example loaded:\n",
      "{'conf': tensor([[[ 0,  0,  0,  ...,  2,  0,  0],\n",
      "         [ 0,  0,  0,  ...,  0,  1,  1],\n",
      "         [ 1,  1,  2,  ...,  0,  1,  1],\n",
      "         ...,\n",
      "         [ 2,  1,  1,  ...,  0,  0,  0],\n",
      "         [ 0,  0,  0,  ...,  0,  0,  0],\n",
      "         [ 0,  0,  0,  ...,  1,  1,  0]],\n",
      "\n",
      "        [[ 0,  0,  0,  ..., -1,  2,  0],\n",
      "         [ 1,  0,  0,  ..., -1,  1,  0],\n",
      "         [ 1,  0, -1,  ..., -1,  0,  0],\n",
      "         ...,\n",
      "         [ 0,  0,  0,  ...,  0,  0, -1],\n",
      "         [ 0,  0,  0,  ...,  0,  0, -1],\n",
      "         [ 0,  0,  0,  ...,  0,  0,  0]],\n",
      "\n",
      "        [[ 0,  0,  0,  ...,  0,  0,  0],\n",
      "         [ 0,  0,  0,  ...,  0,  0,  0],\n",
      "         [ 0,  0,  0,  ...,  0,  0,  0],\n",
      "         ...,\n",
      "         [ 0,  1,  1,  ...,  0,  0,  1],\n",
      "         [ 0,  0,  0,  ...,  0,  0,  0],\n",
      "         [ 0,  0,  0,  ...,  0,  0,  0]],\n",
      "\n",
      "        [[ 0,  0,  0,  ...,  0,  0,  0],\n",
      "         [ 0,  0,  0,  ...,  0,  0,  0],\n",
      "         [ 0,  0,  0,  ...,  0,  0,  0],\n",
      "         ...,\n",
      "         [ 0,  0,  0,  ...,  0,  0,  0],\n",
      "         [ 0,  1,  0,  ...,  0,  0,  0],\n",
      "         [ 0,  0,  0,  ...,  0,  0,  0]]]), 'mu': 1.035, 'open': True, 'nt': 125.0, 'nx': 8.0, 'eta': 4.01, 'lambda': 1.0, 'phase': tensor(1.), 'id': 0}\n",
      "\n",
      "Processing conf file /media/data/sbulusu/datasets/complexworm/dat_files/Multi_lattice_open_worms/open_configs-125-8-4.010-1.000-0.970.dat\n",
      "['open_configs', '125', '8', '4.010', '1.000', '0.970']\n",
      "loaded file name labels ['nt', 'nx', 'eta', 'lambda', 'mu']\n",
      "First read conf file /media/data/sbulusu/datasets/complexworm/dat_files/Multi_lattice_open_worms/open_configs-125-8-4.010-1.000-0.970.dat with size :torch.Size([4000, 4, 8, 125])\n",
      "Read conf file /media/data/sbulusu/datasets/complexworm/dat_files/Multi_lattice_open_worms/open_configs-125-8-4.010-1.000-0.970.dat with size :torch.Size([4000, 4, 8, 125])\n",
      "Loading 4000 confs\n"
     ]
    },
    {
     "data": {
      "application/vnd.jupyter.widget-view+json": {
       "model_id": "b3da793377e1473f8b23bd80929fd89f",
       "version_major": 2,
       "version_minor": 0
      },
      "text/plain": [
       "HBox(children=(FloatProgress(value=0.0, max=4000.0), HTML(value='')))"
      ]
     },
     "metadata": {},
     "output_type": "display_data"
    },
    {
     "name": "stdout",
     "output_type": "stream",
     "text": [
      "\n",
      "Processing conf file /media/data/sbulusu/datasets/complexworm/dat_files/Multi_lattice_open_worms/open_configs-125-8-4.010-1.000-0.930.dat\n",
      "['open_configs', '125', '8', '4.010', '1.000', '0.930']\n",
      "loaded file name labels ['nt', 'nx', 'eta', 'lambda', 'mu']\n",
      "First read conf file /media/data/sbulusu/datasets/complexworm/dat_files/Multi_lattice_open_worms/open_configs-125-8-4.010-1.000-0.930.dat with size :torch.Size([4000, 4, 8, 125])\n",
      "Read conf file /media/data/sbulusu/datasets/complexworm/dat_files/Multi_lattice_open_worms/open_configs-125-8-4.010-1.000-0.930.dat with size :torch.Size([4000, 4, 8, 125])\n",
      "Loading 4000 confs\n"
     ]
    },
    {
     "data": {
      "application/vnd.jupyter.widget-view+json": {
       "model_id": "90bf3160215043eda2d17cf3a59b38ef",
       "version_major": 2,
       "version_minor": 0
      },
      "text/plain": [
       "HBox(children=(FloatProgress(value=0.0, max=4000.0), HTML(value='')))"
      ]
     },
     "metadata": {},
     "output_type": "display_data"
    },
    {
     "name": "stdout",
     "output_type": "stream",
     "text": [
      "\n",
      "Processing conf file /media/data/sbulusu/datasets/complexworm/dat_files/Multi_lattice_open_worms/open_configs-125-8-4.010-1.000-0.975.dat\n",
      "['open_configs', '125', '8', '4.010', '1.000', '0.975']\n",
      "loaded file name labels ['nt', 'nx', 'eta', 'lambda', 'mu']\n",
      "First read conf file /media/data/sbulusu/datasets/complexworm/dat_files/Multi_lattice_open_worms/open_configs-125-8-4.010-1.000-0.975.dat with size :torch.Size([4000, 4, 8, 125])\n",
      "Read conf file /media/data/sbulusu/datasets/complexworm/dat_files/Multi_lattice_open_worms/open_configs-125-8-4.010-1.000-0.975.dat with size :torch.Size([4000, 4, 8, 125])\n",
      "Loading 4000 confs\n"
     ]
    },
    {
     "data": {
      "application/vnd.jupyter.widget-view+json": {
       "model_id": "d9d68c9732be427795f7b57b89d1915c",
       "version_major": 2,
       "version_minor": 0
      },
      "text/plain": [
       "HBox(children=(FloatProgress(value=0.0, max=4000.0), HTML(value='')))"
      ]
     },
     "metadata": {},
     "output_type": "display_data"
    },
    {
     "name": "stdout",
     "output_type": "stream",
     "text": [
      "\n",
      "Processing conf file /media/data/sbulusu/datasets/complexworm/dat_files/Multi_lattice_open_worms/open_configs-125-8-4.010-1.000-0.950.dat\n",
      "['open_configs', '125', '8', '4.010', '1.000', '0.950']\n",
      "loaded file name labels ['nt', 'nx', 'eta', 'lambda', 'mu']\n",
      "First read conf file /media/data/sbulusu/datasets/complexworm/dat_files/Multi_lattice_open_worms/open_configs-125-8-4.010-1.000-0.950.dat with size :torch.Size([4000, 4, 8, 125])\n",
      "Read conf file /media/data/sbulusu/datasets/complexworm/dat_files/Multi_lattice_open_worms/open_configs-125-8-4.010-1.000-0.950.dat with size :torch.Size([4000, 4, 8, 125])\n",
      "Loading 4000 confs\n"
     ]
    },
    {
     "data": {
      "application/vnd.jupyter.widget-view+json": {
       "model_id": "b6a5807e02f748ffa2a08b16a20ea33a",
       "version_major": 2,
       "version_minor": 0
      },
      "text/plain": [
       "HBox(children=(FloatProgress(value=0.0, max=4000.0), HTML(value='')))"
      ]
     },
     "metadata": {},
     "output_type": "display_data"
    },
    {
     "name": "stdout",
     "output_type": "stream",
     "text": [
      "\n",
      "Processing conf file /media/data/sbulusu/datasets/complexworm/dat_files/Multi_lattice_open_worms/open_configs-125-8-4.010-1.000-0.945.dat\n",
      "['open_configs', '125', '8', '4.010', '1.000', '0.945']\n",
      "loaded file name labels ['nt', 'nx', 'eta', 'lambda', 'mu']\n",
      "First read conf file /media/data/sbulusu/datasets/complexworm/dat_files/Multi_lattice_open_worms/open_configs-125-8-4.010-1.000-0.945.dat with size :torch.Size([4000, 4, 8, 125])\n",
      "Read conf file /media/data/sbulusu/datasets/complexworm/dat_files/Multi_lattice_open_worms/open_configs-125-8-4.010-1.000-0.945.dat with size :torch.Size([4000, 4, 8, 125])\n",
      "Loading 4000 confs\n"
     ]
    },
    {
     "data": {
      "application/vnd.jupyter.widget-view+json": {
       "model_id": "61f9545edea149ef933a8d5e1d68118f",
       "version_major": 2,
       "version_minor": 0
      },
      "text/plain": [
       "HBox(children=(FloatProgress(value=0.0, max=4000.0), HTML(value='')))"
      ]
     },
     "metadata": {},
     "output_type": "display_data"
    },
    {
     "name": "stdout",
     "output_type": "stream",
     "text": [
      "\n",
      "Processing conf file /media/data/sbulusu/datasets/complexworm/dat_files/Multi_lattice_open_worms/open_configs-125-8-4.010-1.000-1.040.dat\n",
      "['open_configs', '125', '8', '4.010', '1.000', '1.040']\n",
      "loaded file name labels ['nt', 'nx', 'eta', 'lambda', 'mu']\n",
      "First read conf file /media/data/sbulusu/datasets/complexworm/dat_files/Multi_lattice_open_worms/open_configs-125-8-4.010-1.000-1.040.dat with size :torch.Size([4000, 4, 8, 125])\n",
      "Read conf file /media/data/sbulusu/datasets/complexworm/dat_files/Multi_lattice_open_worms/open_configs-125-8-4.010-1.000-1.040.dat with size :torch.Size([4000, 4, 8, 125])\n",
      "Loading 4000 confs\n"
     ]
    },
    {
     "data": {
      "application/vnd.jupyter.widget-view+json": {
       "model_id": "e70d0f7b7b50483abe7b08c08aeef2c9",
       "version_major": 2,
       "version_minor": 0
      },
      "text/plain": [
       "HBox(children=(FloatProgress(value=0.0, max=4000.0), HTML(value='')))"
      ]
     },
     "metadata": {},
     "output_type": "display_data"
    },
    {
     "name": "stdout",
     "output_type": "stream",
     "text": [
      "\n",
      "Processing conf file /media/data/sbulusu/datasets/complexworm/dat_files/Multi_lattice_open_worms/open_configs-125-8-4.010-1.000-0.990.dat\n",
      "['open_configs', '125', '8', '4.010', '1.000', '0.990']\n",
      "loaded file name labels ['nt', 'nx', 'eta', 'lambda', 'mu']\n",
      "First read conf file /media/data/sbulusu/datasets/complexworm/dat_files/Multi_lattice_open_worms/open_configs-125-8-4.010-1.000-0.990.dat with size :torch.Size([4000, 4, 8, 125])\n",
      "Read conf file /media/data/sbulusu/datasets/complexworm/dat_files/Multi_lattice_open_worms/open_configs-125-8-4.010-1.000-0.990.dat with size :torch.Size([4000, 4, 8, 125])\n",
      "Loading 4000 confs\n"
     ]
    },
    {
     "data": {
      "application/vnd.jupyter.widget-view+json": {
       "model_id": "4eb86fdd6724434696ddb19b4a87f169",
       "version_major": 2,
       "version_minor": 0
      },
      "text/plain": [
       "HBox(children=(FloatProgress(value=0.0, max=4000.0), HTML(value='')))"
      ]
     },
     "metadata": {},
     "output_type": "display_data"
    },
    {
     "name": "stdout",
     "output_type": "stream",
     "text": [
      "\n",
      "Processing conf file /media/data/sbulusu/datasets/complexworm/dat_files/Multi_lattice_open_worms/open_configs-125-8-4.010-1.000-1.045.dat\n",
      "['open_configs', '125', '8', '4.010', '1.000', '1.045']\n",
      "loaded file name labels ['nt', 'nx', 'eta', 'lambda', 'mu']\n",
      "First read conf file /media/data/sbulusu/datasets/complexworm/dat_files/Multi_lattice_open_worms/open_configs-125-8-4.010-1.000-1.045.dat with size :torch.Size([4000, 4, 8, 125])\n",
      "Read conf file /media/data/sbulusu/datasets/complexworm/dat_files/Multi_lattice_open_worms/open_configs-125-8-4.010-1.000-1.045.dat with size :torch.Size([4000, 4, 8, 125])\n",
      "Loading 4000 confs\n"
     ]
    },
    {
     "data": {
      "application/vnd.jupyter.widget-view+json": {
       "model_id": "6b82199e1cc847ea9e645d07d8c9cb01",
       "version_major": 2,
       "version_minor": 0
      },
      "text/plain": [
       "HBox(children=(FloatProgress(value=0.0, max=4000.0), HTML(value='')))"
      ]
     },
     "metadata": {},
     "output_type": "display_data"
    },
    {
     "name": "stdout",
     "output_type": "stream",
     "text": [
      "\n",
      "Processing conf file /media/data/sbulusu/datasets/complexworm/dat_files/Multi_lattice_open_worms/open_configs-125-8-4.010-1.000-0.960.dat\n",
      "['open_configs', '125', '8', '4.010', '1.000', '0.960']\n",
      "loaded file name labels ['nt', 'nx', 'eta', 'lambda', 'mu']\n",
      "First read conf file /media/data/sbulusu/datasets/complexworm/dat_files/Multi_lattice_open_worms/open_configs-125-8-4.010-1.000-0.960.dat with size :torch.Size([4000, 4, 8, 125])\n",
      "Read conf file /media/data/sbulusu/datasets/complexworm/dat_files/Multi_lattice_open_worms/open_configs-125-8-4.010-1.000-0.960.dat with size :torch.Size([4000, 4, 8, 125])\n",
      "Loading 4000 confs\n"
     ]
    },
    {
     "data": {
      "application/vnd.jupyter.widget-view+json": {
       "model_id": "68bb826bbf614cc2bdf25ff815c1c828",
       "version_major": 2,
       "version_minor": 0
      },
      "text/plain": [
       "HBox(children=(FloatProgress(value=0.0, max=4000.0), HTML(value='')))"
      ]
     },
     "metadata": {},
     "output_type": "display_data"
    },
    {
     "name": "stdout",
     "output_type": "stream",
     "text": [
      "\n",
      "Processing conf file /media/data/sbulusu/datasets/complexworm/dat_files/Multi_lattice_open_worms/open_configs-125-8-4.010-1.000-0.995.dat\n",
      "['open_configs', '125', '8', '4.010', '1.000', '0.995']\n",
      "loaded file name labels ['nt', 'nx', 'eta', 'lambda', 'mu']\n",
      "First read conf file /media/data/sbulusu/datasets/complexworm/dat_files/Multi_lattice_open_worms/open_configs-125-8-4.010-1.000-0.995.dat with size :torch.Size([4000, 4, 8, 125])\n",
      "Read conf file /media/data/sbulusu/datasets/complexworm/dat_files/Multi_lattice_open_worms/open_configs-125-8-4.010-1.000-0.995.dat with size :torch.Size([4000, 4, 8, 125])\n",
      "Loading 4000 confs\n"
     ]
    },
    {
     "data": {
      "application/vnd.jupyter.widget-view+json": {
       "model_id": "dfcbb61729e9471e9928dee5a2b69530",
       "version_major": 2,
       "version_minor": 0
      },
      "text/plain": [
       "HBox(children=(FloatProgress(value=0.0, max=4000.0), HTML(value='')))"
      ]
     },
     "metadata": {},
     "output_type": "display_data"
    },
    {
     "name": "stdout",
     "output_type": "stream",
     "text": [
      "\n",
      "Processing conf file /media/data/sbulusu/datasets/complexworm/dat_files/Multi_lattice_open_worms/open_configs-125-8-4.010-1.000-1.005.dat\n",
      "['open_configs', '125', '8', '4.010', '1.000', '1.005']\n",
      "loaded file name labels ['nt', 'nx', 'eta', 'lambda', 'mu']\n",
      "First read conf file /media/data/sbulusu/datasets/complexworm/dat_files/Multi_lattice_open_worms/open_configs-125-8-4.010-1.000-1.005.dat with size :torch.Size([4000, 4, 8, 125])\n",
      "Read conf file /media/data/sbulusu/datasets/complexworm/dat_files/Multi_lattice_open_worms/open_configs-125-8-4.010-1.000-1.005.dat with size :torch.Size([4000, 4, 8, 125])\n",
      "Loading 4000 confs\n"
     ]
    },
    {
     "data": {
      "application/vnd.jupyter.widget-view+json": {
       "model_id": "085b9df55a0d4c12b70a390ecb1c5ac3",
       "version_major": 2,
       "version_minor": 0
      },
      "text/plain": [
       "HBox(children=(FloatProgress(value=0.0, max=4000.0), HTML(value='')))"
      ]
     },
     "metadata": {},
     "output_type": "display_data"
    },
    {
     "name": "stdout",
     "output_type": "stream",
     "text": [
      "\n",
      "Processing conf file /media/data/sbulusu/datasets/complexworm/dat_files/Multi_lattice_open_worms/open_configs-125-8-4.010-1.000-1.020.dat\n",
      "['open_configs', '125', '8', '4.010', '1.000', '1.020']\n",
      "loaded file name labels ['nt', 'nx', 'eta', 'lambda', 'mu']\n",
      "First read conf file /media/data/sbulusu/datasets/complexworm/dat_files/Multi_lattice_open_worms/open_configs-125-8-4.010-1.000-1.020.dat with size :torch.Size([4000, 4, 8, 125])\n",
      "Read conf file /media/data/sbulusu/datasets/complexworm/dat_files/Multi_lattice_open_worms/open_configs-125-8-4.010-1.000-1.020.dat with size :torch.Size([4000, 4, 8, 125])\n",
      "Loading 4000 confs\n"
     ]
    },
    {
     "data": {
      "application/vnd.jupyter.widget-view+json": {
       "model_id": "1be3060cb47241efa51f0779b9e1bfdf",
       "version_major": 2,
       "version_minor": 0
      },
      "text/plain": [
       "HBox(children=(FloatProgress(value=0.0, max=4000.0), HTML(value='')))"
      ]
     },
     "metadata": {},
     "output_type": "display_data"
    },
    {
     "name": "stdout",
     "output_type": "stream",
     "text": [
      "\n",
      "Processing conf file /media/data/sbulusu/datasets/complexworm/dat_files/Multi_lattice_open_worms/open_configs-125-8-4.010-1.000-1.000.dat\n",
      "['open_configs', '125', '8', '4.010', '1.000', '1.000']\n",
      "loaded file name labels ['nt', 'nx', 'eta', 'lambda', 'mu']\n",
      "First read conf file /media/data/sbulusu/datasets/complexworm/dat_files/Multi_lattice_open_worms/open_configs-125-8-4.010-1.000-1.000.dat with size :torch.Size([4000, 4, 8, 125])\n",
      "Read conf file /media/data/sbulusu/datasets/complexworm/dat_files/Multi_lattice_open_worms/open_configs-125-8-4.010-1.000-1.000.dat with size :torch.Size([4000, 4, 8, 125])\n",
      "Loading 4000 confs\n"
     ]
    },
    {
     "data": {
      "application/vnd.jupyter.widget-view+json": {
       "model_id": "9a163e6caacc42399247eb5e3c3b39e2",
       "version_major": 2,
       "version_minor": 0
      },
      "text/plain": [
       "HBox(children=(FloatProgress(value=0.0, max=4000.0), HTML(value='')))"
      ]
     },
     "metadata": {},
     "output_type": "display_data"
    },
    {
     "name": "stdout",
     "output_type": "stream",
     "text": [
      "\n",
      "Processing conf file /media/data/sbulusu/datasets/complexworm/dat_files/Multi_lattice_open_worms/open_configs-125-8-4.010-1.000-1.015.dat\n",
      "['open_configs', '125', '8', '4.010', '1.000', '1.015']\n",
      "loaded file name labels ['nt', 'nx', 'eta', 'lambda', 'mu']\n",
      "First read conf file /media/data/sbulusu/datasets/complexworm/dat_files/Multi_lattice_open_worms/open_configs-125-8-4.010-1.000-1.015.dat with size :torch.Size([4000, 4, 8, 125])\n",
      "Read conf file /media/data/sbulusu/datasets/complexworm/dat_files/Multi_lattice_open_worms/open_configs-125-8-4.010-1.000-1.015.dat with size :torch.Size([4000, 4, 8, 125])\n",
      "Loading 4000 confs\n"
     ]
    },
    {
     "data": {
      "application/vnd.jupyter.widget-view+json": {
       "model_id": "b58b90cbc4c147499b15a8440a9b3418",
       "version_major": 2,
       "version_minor": 0
      },
      "text/plain": [
       "HBox(children=(FloatProgress(value=0.0, max=4000.0), HTML(value='')))"
      ]
     },
     "metadata": {},
     "output_type": "display_data"
    },
    {
     "name": "stdout",
     "output_type": "stream",
     "text": [
      "\n",
      "Processing conf file /media/data/sbulusu/datasets/complexworm/dat_files/Multi_lattice_open_worms/open_configs-125-8-4.010-1.000-0.910.dat\n",
      "['open_configs', '125', '8', '4.010', '1.000', '0.910']\n",
      "loaded file name labels ['nt', 'nx', 'eta', 'lambda', 'mu']\n",
      "First read conf file /media/data/sbulusu/datasets/complexworm/dat_files/Multi_lattice_open_worms/open_configs-125-8-4.010-1.000-0.910.dat with size :torch.Size([4000, 4, 8, 125])\n",
      "Read conf file /media/data/sbulusu/datasets/complexworm/dat_files/Multi_lattice_open_worms/open_configs-125-8-4.010-1.000-0.910.dat with size :torch.Size([4000, 4, 8, 125])\n",
      "Loading 4000 confs\n"
     ]
    },
    {
     "data": {
      "application/vnd.jupyter.widget-view+json": {
       "model_id": "67ca56e564bb4a2aa806167281f6d88a",
       "version_major": 2,
       "version_minor": 0
      },
      "text/plain": [
       "HBox(children=(FloatProgress(value=0.0, max=4000.0), HTML(value='')))"
      ]
     },
     "metadata": {},
     "output_type": "display_data"
    },
    {
     "name": "stdout",
     "output_type": "stream",
     "text": [
      "\n",
      "Processing conf file /media/data/sbulusu/datasets/complexworm/dat_files/Multi_lattice_open_worms/open_configs-125-8-4.010-1.000-0.955.dat\n",
      "['open_configs', '125', '8', '4.010', '1.000', '0.955']\n",
      "loaded file name labels ['nt', 'nx', 'eta', 'lambda', 'mu']\n",
      "First read conf file /media/data/sbulusu/datasets/complexworm/dat_files/Multi_lattice_open_worms/open_configs-125-8-4.010-1.000-0.955.dat with size :torch.Size([4000, 4, 8, 125])\n",
      "Read conf file /media/data/sbulusu/datasets/complexworm/dat_files/Multi_lattice_open_worms/open_configs-125-8-4.010-1.000-0.955.dat with size :torch.Size([4000, 4, 8, 125])\n",
      "Loading 4000 confs\n"
     ]
    },
    {
     "data": {
      "application/vnd.jupyter.widget-view+json": {
       "model_id": "e0e7a4a17c0a43a7843272a009b47ce0",
       "version_major": 2,
       "version_minor": 0
      },
      "text/plain": [
       "HBox(children=(FloatProgress(value=0.0, max=4000.0), HTML(value='')))"
      ]
     },
     "metadata": {},
     "output_type": "display_data"
    },
    {
     "name": "stdout",
     "output_type": "stream",
     "text": [
      "\n",
      "Processing conf file /media/data/sbulusu/datasets/complexworm/dat_files/Multi_lattice_open_worms/open_configs-125-8-4.010-1.000-1.010.dat\n",
      "['open_configs', '125', '8', '4.010', '1.000', '1.010']\n",
      "loaded file name labels ['nt', 'nx', 'eta', 'lambda', 'mu']\n",
      "First read conf file /media/data/sbulusu/datasets/complexworm/dat_files/Multi_lattice_open_worms/open_configs-125-8-4.010-1.000-1.010.dat with size :torch.Size([4000, 4, 8, 125])\n",
      "Read conf file /media/data/sbulusu/datasets/complexworm/dat_files/Multi_lattice_open_worms/open_configs-125-8-4.010-1.000-1.010.dat with size :torch.Size([4000, 4, 8, 125])\n",
      "Loading 4000 confs\n"
     ]
    },
    {
     "data": {
      "application/vnd.jupyter.widget-view+json": {
       "model_id": "d0236feda8904bc3b24eabc376805bef",
       "version_major": 2,
       "version_minor": 0
      },
      "text/plain": [
       "HBox(children=(FloatProgress(value=0.0, max=4000.0), HTML(value='')))"
      ]
     },
     "metadata": {},
     "output_type": "display_data"
    },
    {
     "name": "stdout",
     "output_type": "stream",
     "text": [
      "\n",
      "Processing conf file /media/data/sbulusu/datasets/complexworm/dat_files/Multi_lattice_open_worms/open_configs-125-8-4.010-1.000-1.025.dat\n",
      "['open_configs', '125', '8', '4.010', '1.000', '1.025']\n",
      "loaded file name labels ['nt', 'nx', 'eta', 'lambda', 'mu']\n",
      "First read conf file /media/data/sbulusu/datasets/complexworm/dat_files/Multi_lattice_open_worms/open_configs-125-8-4.010-1.000-1.025.dat with size :torch.Size([4000, 4, 8, 125])\n",
      "Read conf file /media/data/sbulusu/datasets/complexworm/dat_files/Multi_lattice_open_worms/open_configs-125-8-4.010-1.000-1.025.dat with size :torch.Size([4000, 4, 8, 125])\n",
      "Loading 4000 confs\n"
     ]
    },
    {
     "data": {
      "application/vnd.jupyter.widget-view+json": {
       "model_id": "5d3ed528de824d0298dbe5ccc444d2c3",
       "version_major": 2,
       "version_minor": 0
      },
      "text/plain": [
       "HBox(children=(FloatProgress(value=0.0, max=4000.0), HTML(value='')))"
      ]
     },
     "metadata": {},
     "output_type": "display_data"
    },
    {
     "name": "stdout",
     "output_type": "stream",
     "text": [
      "\n",
      "Processing conf file /media/data/sbulusu/datasets/complexworm/dat_files/Multi_lattice_open_worms/open_configs-125-8-4.010-1.000-0.920.dat\n",
      "['open_configs', '125', '8', '4.010', '1.000', '0.920']\n",
      "loaded file name labels ['nt', 'nx', 'eta', 'lambda', 'mu']\n",
      "First read conf file /media/data/sbulusu/datasets/complexworm/dat_files/Multi_lattice_open_worms/open_configs-125-8-4.010-1.000-0.920.dat with size :torch.Size([4000, 4, 8, 125])\n",
      "Read conf file /media/data/sbulusu/datasets/complexworm/dat_files/Multi_lattice_open_worms/open_configs-125-8-4.010-1.000-0.920.dat with size :torch.Size([4000, 4, 8, 125])\n",
      "Loading 4000 confs\n"
     ]
    },
    {
     "data": {
      "application/vnd.jupyter.widget-view+json": {
       "model_id": "2e8b83b228694667bc6bdedb8c1f92e3",
       "version_major": 2,
       "version_minor": 0
      },
      "text/plain": [
       "HBox(children=(FloatProgress(value=0.0, max=4000.0), HTML(value='')))"
      ]
     },
     "metadata": {},
     "output_type": "display_data"
    },
    {
     "name": "stdout",
     "output_type": "stream",
     "text": [
      "\n",
      "Processing conf file /media/data/sbulusu/datasets/complexworm/dat_files/Multi_lattice_open_worms/open_configs-125-8-4.010-1.000-0.940.dat\n",
      "['open_configs', '125', '8', '4.010', '1.000', '0.940']\n",
      "loaded file name labels ['nt', 'nx', 'eta', 'lambda', 'mu']\n",
      "First read conf file /media/data/sbulusu/datasets/complexworm/dat_files/Multi_lattice_open_worms/open_configs-125-8-4.010-1.000-0.940.dat with size :torch.Size([4000, 4, 8, 125])\n",
      "Read conf file /media/data/sbulusu/datasets/complexworm/dat_files/Multi_lattice_open_worms/open_configs-125-8-4.010-1.000-0.940.dat with size :torch.Size([4000, 4, 8, 125])\n",
      "Loading 4000 confs\n"
     ]
    },
    {
     "data": {
      "application/vnd.jupyter.widget-view+json": {
       "model_id": "76a021f6ffa447358d068fc45b6d1a56",
       "version_major": 2,
       "version_minor": 0
      },
      "text/plain": [
       "HBox(children=(FloatProgress(value=0.0, max=4000.0), HTML(value='')))"
      ]
     },
     "metadata": {},
     "output_type": "display_data"
    },
    {
     "name": "stdout",
     "output_type": "stream",
     "text": [
      "\n",
      "Processing conf file /media/data/sbulusu/datasets/complexworm/dat_files/Multi_lattice_open_worms/open_configs-125-8-4.010-1.000-0.925.dat\n",
      "['open_configs', '125', '8', '4.010', '1.000', '0.925']\n",
      "loaded file name labels ['nt', 'nx', 'eta', 'lambda', 'mu']\n",
      "First read conf file /media/data/sbulusu/datasets/complexworm/dat_files/Multi_lattice_open_worms/open_configs-125-8-4.010-1.000-0.925.dat with size :torch.Size([4000, 4, 8, 125])\n",
      "Read conf file /media/data/sbulusu/datasets/complexworm/dat_files/Multi_lattice_open_worms/open_configs-125-8-4.010-1.000-0.925.dat with size :torch.Size([4000, 4, 8, 125])\n",
      "Loading 4000 confs\n"
     ]
    },
    {
     "data": {
      "application/vnd.jupyter.widget-view+json": {
       "model_id": "5c7357e2d63540d59fc1cedb52bd3d76",
       "version_major": 2,
       "version_minor": 0
      },
      "text/plain": [
       "HBox(children=(FloatProgress(value=0.0, max=4000.0), HTML(value='')))"
      ]
     },
     "metadata": {},
     "output_type": "display_data"
    },
    {
     "name": "stdout",
     "output_type": "stream",
     "text": [
      "\n",
      "Processing conf file /media/data/sbulusu/datasets/complexworm/dat_files/Multi_lattice_open_worms/open_configs-125-8-4.010-1.000-0.985.dat\n",
      "['open_configs', '125', '8', '4.010', '1.000', '0.985']\n",
      "loaded file name labels ['nt', 'nx', 'eta', 'lambda', 'mu']\n",
      "First read conf file /media/data/sbulusu/datasets/complexworm/dat_files/Multi_lattice_open_worms/open_configs-125-8-4.010-1.000-0.985.dat with size :torch.Size([4000, 4, 8, 125])\n",
      "Read conf file /media/data/sbulusu/datasets/complexworm/dat_files/Multi_lattice_open_worms/open_configs-125-8-4.010-1.000-0.985.dat with size :torch.Size([4000, 4, 8, 125])\n",
      "Loading 4000 confs\n"
     ]
    },
    {
     "data": {
      "application/vnd.jupyter.widget-view+json": {
       "model_id": "37dea0603a9b4212a85d05bcd4f1e25e",
       "version_major": 2,
       "version_minor": 0
      },
      "text/plain": [
       "HBox(children=(FloatProgress(value=0.0, max=4000.0), HTML(value='')))"
      ]
     },
     "metadata": {},
     "output_type": "display_data"
    },
    {
     "name": "stdout",
     "output_type": "stream",
     "text": [
      "\n",
      "Processing conf file /media/data/sbulusu/datasets/complexworm/dat_files/Multi_lattice_open_worms/open_configs-125-8-4.010-1.000-0.935.dat\n",
      "['open_configs', '125', '8', '4.010', '1.000', '0.935']\n",
      "loaded file name labels ['nt', 'nx', 'eta', 'lambda', 'mu']\n",
      "First read conf file /media/data/sbulusu/datasets/complexworm/dat_files/Multi_lattice_open_worms/open_configs-125-8-4.010-1.000-0.935.dat with size :torch.Size([4000, 4, 8, 125])\n",
      "Read conf file /media/data/sbulusu/datasets/complexworm/dat_files/Multi_lattice_open_worms/open_configs-125-8-4.010-1.000-0.935.dat with size :torch.Size([4000, 4, 8, 125])\n",
      "Loading 4000 confs\n"
     ]
    },
    {
     "data": {
      "application/vnd.jupyter.widget-view+json": {
       "model_id": "83de2af5a1894715addf01b78607327c",
       "version_major": 2,
       "version_minor": 0
      },
      "text/plain": [
       "HBox(children=(FloatProgress(value=0.0, max=4000.0), HTML(value='')))"
      ]
     },
     "metadata": {},
     "output_type": "display_data"
    },
    {
     "name": "stdout",
     "output_type": "stream",
     "text": [
      "\n",
      "Processing conf file /media/data/sbulusu/datasets/complexworm/dat_files/Multi_lattice_open_worms/open_configs-125-8-4.010-1.000-1.050.dat\n",
      "['open_configs', '125', '8', '4.010', '1.000', '1.050']\n",
      "loaded file name labels ['nt', 'nx', 'eta', 'lambda', 'mu']\n",
      "First read conf file /media/data/sbulusu/datasets/complexworm/dat_files/Multi_lattice_open_worms/open_configs-125-8-4.010-1.000-1.050.dat with size :torch.Size([4000, 4, 8, 125])\n",
      "Read conf file /media/data/sbulusu/datasets/complexworm/dat_files/Multi_lattice_open_worms/open_configs-125-8-4.010-1.000-1.050.dat with size :torch.Size([4000, 4, 8, 125])\n",
      "Loading 4000 confs\n"
     ]
    },
    {
     "data": {
      "application/vnd.jupyter.widget-view+json": {
       "model_id": "4781be0b711648f98fc35e73f697eb67",
       "version_major": 2,
       "version_minor": 0
      },
      "text/plain": [
       "HBox(children=(FloatProgress(value=0.0, max=4000.0), HTML(value='')))"
      ]
     },
     "metadata": {},
     "output_type": "display_data"
    },
    {
     "name": "stdout",
     "output_type": "stream",
     "text": [
      "\n",
      "Processing conf file /media/data/sbulusu/datasets/complexworm/dat_files/Multi_lattice_open_worms/open_configs-125-8-4.010-1.000-0.980.dat\n",
      "['open_configs', '125', '8', '4.010', '1.000', '0.980']\n",
      "loaded file name labels ['nt', 'nx', 'eta', 'lambda', 'mu']\n",
      "First read conf file /media/data/sbulusu/datasets/complexworm/dat_files/Multi_lattice_open_worms/open_configs-125-8-4.010-1.000-0.980.dat with size :torch.Size([4000, 4, 8, 125])\n",
      "Read conf file /media/data/sbulusu/datasets/complexworm/dat_files/Multi_lattice_open_worms/open_configs-125-8-4.010-1.000-0.980.dat with size :torch.Size([4000, 4, 8, 125])\n",
      "Loading 4000 confs\n"
     ]
    },
    {
     "data": {
      "application/vnd.jupyter.widget-view+json": {
       "model_id": "90e1bca6f679464b8132fd2682eba7cb",
       "version_major": 2,
       "version_minor": 0
      },
      "text/plain": [
       "HBox(children=(FloatProgress(value=0.0, max=4000.0), HTML(value='')))"
      ]
     },
     "metadata": {},
     "output_type": "display_data"
    },
    {
     "name": "stdout",
     "output_type": "stream",
     "text": [
      "\n",
      "Processing conf file /media/data/sbulusu/datasets/complexworm/dat_files/Multi_lattice_open_worms/open_configs-125-8-4.010-1.000-1.030.dat\n",
      "['open_configs', '125', '8', '4.010', '1.000', '1.030']\n",
      "loaded file name labels ['nt', 'nx', 'eta', 'lambda', 'mu']\n",
      "First read conf file /media/data/sbulusu/datasets/complexworm/dat_files/Multi_lattice_open_worms/open_configs-125-8-4.010-1.000-1.030.dat with size :torch.Size([4000, 4, 8, 125])\n",
      "Read conf file /media/data/sbulusu/datasets/complexworm/dat_files/Multi_lattice_open_worms/open_configs-125-8-4.010-1.000-1.030.dat with size :torch.Size([4000, 4, 8, 125])\n",
      "Loading 4000 confs\n"
     ]
    },
    {
     "data": {
      "application/vnd.jupyter.widget-view+json": {
       "model_id": "9e62426ed01f4d039a884d846aad662e",
       "version_major": 2,
       "version_minor": 0
      },
      "text/plain": [
       "HBox(children=(FloatProgress(value=0.0, max=4000.0), HTML(value='')))"
      ]
     },
     "metadata": {},
     "output_type": "display_data"
    },
    {
     "name": "stdout",
     "output_type": "stream",
     "text": [
      "\n",
      "Processing conf file /media/data/sbulusu/datasets/complexworm/dat_files/Multi_lattice_open_worms/open_configs-125-8-4.010-1.000-0.915.dat\n",
      "['open_configs', '125', '8', '4.010', '1.000', '0.915']\n",
      "loaded file name labels ['nt', 'nx', 'eta', 'lambda', 'mu']\n",
      "First read conf file /media/data/sbulusu/datasets/complexworm/dat_files/Multi_lattice_open_worms/open_configs-125-8-4.010-1.000-0.915.dat with size :torch.Size([4000, 4, 8, 125])\n",
      "Read conf file /media/data/sbulusu/datasets/complexworm/dat_files/Multi_lattice_open_worms/open_configs-125-8-4.010-1.000-0.915.dat with size :torch.Size([4000, 4, 8, 125])\n",
      "Loading 4000 confs\n"
     ]
    },
    {
     "data": {
      "application/vnd.jupyter.widget-view+json": {
       "model_id": "28de440d9a344bc88018ddde5b6ca43e",
       "version_major": 2,
       "version_minor": 0
      },
      "text/plain": [
       "HBox(children=(FloatProgress(value=0.0, max=4000.0), HTML(value='')))"
      ]
     },
     "metadata": {},
     "output_type": "display_data"
    },
    {
     "name": "stdout",
     "output_type": "stream",
     "text": [
      "\n",
      "Processing conf file /media/data/sbulusu/datasets/complexworm/dat_files/Multi_lattice_open_worms/open_configs-125-8-4.010-1.000-0.965.dat\n",
      "['open_configs', '125', '8', '4.010', '1.000', '0.965']\n",
      "loaded file name labels ['nt', 'nx', 'eta', 'lambda', 'mu']\n",
      "First read conf file /media/data/sbulusu/datasets/complexworm/dat_files/Multi_lattice_open_worms/open_configs-125-8-4.010-1.000-0.965.dat with size :torch.Size([4000, 4, 8, 125])\n",
      "Read conf file /media/data/sbulusu/datasets/complexworm/dat_files/Multi_lattice_open_worms/open_configs-125-8-4.010-1.000-0.965.dat with size :torch.Size([4000, 4, 8, 125])\n",
      "Loading 4000 confs\n"
     ]
    },
    {
     "data": {
      "application/vnd.jupyter.widget-view+json": {
       "model_id": "70def9eda20a4610977114d8b4a49451",
       "version_major": 2,
       "version_minor": 0
      },
      "text/plain": [
       "HBox(children=(FloatProgress(value=0.0, max=4000.0), HTML(value='')))"
      ]
     },
     "metadata": {},
     "output_type": "display_data"
    },
    {
     "name": "stdout",
     "output_type": "stream",
     "text": [
      "\n",
      "Processing conf file /media/data/sbulusu/datasets/complexworm/dat_files/Multi_lattice_closed_worms/configs-125-8-4.010-1.000-1.025.dat\n",
      "['configs', '125', '8', '4.010', '1.000', '1.025']\n",
      "loaded file name labels ['nt', 'nx', 'eta', 'lambda', 'mu']\n",
      "First read conf file /media/data/sbulusu/datasets/complexworm/dat_files/Multi_lattice_closed_worms/configs-125-8-4.010-1.000-1.025.dat with size :torch.Size([4000, 4, 8, 125])\n",
      "Read conf file /media/data/sbulusu/datasets/complexworm/dat_files/Multi_lattice_closed_worms/configs-125-8-4.010-1.000-1.025.dat with size :torch.Size([4000, 4, 8, 125])\n",
      "Loading 4000 confs\n"
     ]
    },
    {
     "data": {
      "application/vnd.jupyter.widget-view+json": {
       "model_id": "01ce8f95454542fb809ae644e641e217",
       "version_major": 2,
       "version_minor": 0
      },
      "text/plain": [
       "HBox(children=(FloatProgress(value=0.0, max=4000.0), HTML(value='')))"
      ]
     },
     "metadata": {},
     "output_type": "display_data"
    },
    {
     "name": "stdout",
     "output_type": "stream",
     "text": [
      "\n",
      "Processing conf file /media/data/sbulusu/datasets/complexworm/dat_files/Multi_lattice_closed_worms/configs-125-8-4.010-1.000-1.015.dat\n",
      "['configs', '125', '8', '4.010', '1.000', '1.015']\n",
      "loaded file name labels ['nt', 'nx', 'eta', 'lambda', 'mu']\n",
      "First read conf file /media/data/sbulusu/datasets/complexworm/dat_files/Multi_lattice_closed_worms/configs-125-8-4.010-1.000-1.015.dat with size :torch.Size([4000, 4, 8, 125])\n",
      "Read conf file /media/data/sbulusu/datasets/complexworm/dat_files/Multi_lattice_closed_worms/configs-125-8-4.010-1.000-1.015.dat with size :torch.Size([4000, 4, 8, 125])\n",
      "Loading 4000 confs\n"
     ]
    },
    {
     "data": {
      "application/vnd.jupyter.widget-view+json": {
       "model_id": "5127202bb852438ead5e042e422caa0a",
       "version_major": 2,
       "version_minor": 0
      },
      "text/plain": [
       "HBox(children=(FloatProgress(value=0.0, max=4000.0), HTML(value='')))"
      ]
     },
     "metadata": {},
     "output_type": "display_data"
    },
    {
     "name": "stdout",
     "output_type": "stream",
     "text": [
      "\n",
      "Processing conf file /media/data/sbulusu/datasets/complexworm/dat_files/Multi_lattice_closed_worms/configs-125-8-4.010-1.000-0.935.dat\n",
      "['configs', '125', '8', '4.010', '1.000', '0.935']\n",
      "loaded file name labels ['nt', 'nx', 'eta', 'lambda', 'mu']\n",
      "First read conf file /media/data/sbulusu/datasets/complexworm/dat_files/Multi_lattice_closed_worms/configs-125-8-4.010-1.000-0.935.dat with size :torch.Size([4000, 4, 8, 125])\n",
      "Read conf file /media/data/sbulusu/datasets/complexworm/dat_files/Multi_lattice_closed_worms/configs-125-8-4.010-1.000-0.935.dat with size :torch.Size([4000, 4, 8, 125])\n",
      "Loading 4000 confs\n"
     ]
    },
    {
     "data": {
      "application/vnd.jupyter.widget-view+json": {
       "model_id": "d44ce86d2b2e4b8ab41e887b682d4560",
       "version_major": 2,
       "version_minor": 0
      },
      "text/plain": [
       "HBox(children=(FloatProgress(value=0.0, max=4000.0), HTML(value='')))"
      ]
     },
     "metadata": {},
     "output_type": "display_data"
    },
    {
     "name": "stdout",
     "output_type": "stream",
     "text": [
      "\n",
      "Processing conf file /media/data/sbulusu/datasets/complexworm/dat_files/Multi_lattice_closed_worms/configs-125-8-4.010-1.000-0.950.dat\n",
      "['configs', '125', '8', '4.010', '1.000', '0.950']\n",
      "loaded file name labels ['nt', 'nx', 'eta', 'lambda', 'mu']\n",
      "First read conf file /media/data/sbulusu/datasets/complexworm/dat_files/Multi_lattice_closed_worms/configs-125-8-4.010-1.000-0.950.dat with size :torch.Size([4000, 4, 8, 125])\n",
      "Read conf file /media/data/sbulusu/datasets/complexworm/dat_files/Multi_lattice_closed_worms/configs-125-8-4.010-1.000-0.950.dat with size :torch.Size([4000, 4, 8, 125])\n",
      "Loading 4000 confs\n"
     ]
    },
    {
     "data": {
      "application/vnd.jupyter.widget-view+json": {
       "model_id": "b176bbf957134a60ba82d3f8868783c3",
       "version_major": 2,
       "version_minor": 0
      },
      "text/plain": [
       "HBox(children=(FloatProgress(value=0.0, max=4000.0), HTML(value='')))"
      ]
     },
     "metadata": {},
     "output_type": "display_data"
    },
    {
     "name": "stdout",
     "output_type": "stream",
     "text": [
      "\n",
      "Processing conf file /media/data/sbulusu/datasets/complexworm/dat_files/Multi_lattice_closed_worms/configs-125-8-4.010-1.000-0.965.dat\n",
      "['configs', '125', '8', '4.010', '1.000', '0.965']\n",
      "loaded file name labels ['nt', 'nx', 'eta', 'lambda', 'mu']\n",
      "First read conf file /media/data/sbulusu/datasets/complexworm/dat_files/Multi_lattice_closed_worms/configs-125-8-4.010-1.000-0.965.dat with size :torch.Size([4000, 4, 8, 125])\n",
      "Read conf file /media/data/sbulusu/datasets/complexworm/dat_files/Multi_lattice_closed_worms/configs-125-8-4.010-1.000-0.965.dat with size :torch.Size([4000, 4, 8, 125])\n",
      "Loading 4000 confs\n"
     ]
    },
    {
     "data": {
      "application/vnd.jupyter.widget-view+json": {
       "model_id": "68e09d5655e945ec8c4a7bca948f895d",
       "version_major": 2,
       "version_minor": 0
      },
      "text/plain": [
       "HBox(children=(FloatProgress(value=0.0, max=4000.0), HTML(value='')))"
      ]
     },
     "metadata": {},
     "output_type": "display_data"
    },
    {
     "name": "stdout",
     "output_type": "stream",
     "text": [
      "\n",
      "Processing conf file /media/data/sbulusu/datasets/complexworm/dat_files/Multi_lattice_closed_worms/configs-125-8-4.010-1.000-0.940.dat\n",
      "['configs', '125', '8', '4.010', '1.000', '0.940']\n",
      "loaded file name labels ['nt', 'nx', 'eta', 'lambda', 'mu']\n",
      "First read conf file /media/data/sbulusu/datasets/complexworm/dat_files/Multi_lattice_closed_worms/configs-125-8-4.010-1.000-0.940.dat with size :torch.Size([4000, 4, 8, 125])\n",
      "Read conf file /media/data/sbulusu/datasets/complexworm/dat_files/Multi_lattice_closed_worms/configs-125-8-4.010-1.000-0.940.dat with size :torch.Size([4000, 4, 8, 125])\n",
      "Loading 4000 confs\n"
     ]
    },
    {
     "data": {
      "application/vnd.jupyter.widget-view+json": {
       "model_id": "a93cc2c1b4a8443eb1a1f12aedfd6450",
       "version_major": 2,
       "version_minor": 0
      },
      "text/plain": [
       "HBox(children=(FloatProgress(value=0.0, max=4000.0), HTML(value='')))"
      ]
     },
     "metadata": {},
     "output_type": "display_data"
    },
    {
     "name": "stdout",
     "output_type": "stream",
     "text": [
      "\n",
      "Processing conf file /media/data/sbulusu/datasets/complexworm/dat_files/Multi_lattice_closed_worms/configs-125-8-4.010-1.000-0.970.dat\n",
      "['configs', '125', '8', '4.010', '1.000', '0.970']\n",
      "loaded file name labels ['nt', 'nx', 'eta', 'lambda', 'mu']\n",
      "First read conf file /media/data/sbulusu/datasets/complexworm/dat_files/Multi_lattice_closed_worms/configs-125-8-4.010-1.000-0.970.dat with size :torch.Size([4000, 4, 8, 125])\n",
      "Read conf file /media/data/sbulusu/datasets/complexworm/dat_files/Multi_lattice_closed_worms/configs-125-8-4.010-1.000-0.970.dat with size :torch.Size([4000, 4, 8, 125])\n",
      "Loading 4000 confs\n"
     ]
    },
    {
     "data": {
      "application/vnd.jupyter.widget-view+json": {
       "model_id": "8c88c7a666cb40ec9467bbe67a88154a",
       "version_major": 2,
       "version_minor": 0
      },
      "text/plain": [
       "HBox(children=(FloatProgress(value=0.0, max=4000.0), HTML(value='')))"
      ]
     },
     "metadata": {},
     "output_type": "display_data"
    },
    {
     "name": "stdout",
     "output_type": "stream",
     "text": [
      "\n",
      "Processing conf file /media/data/sbulusu/datasets/complexworm/dat_files/Multi_lattice_closed_worms/configs-125-8-4.010-1.000-0.995.dat\n",
      "['configs', '125', '8', '4.010', '1.000', '0.995']\n",
      "loaded file name labels ['nt', 'nx', 'eta', 'lambda', 'mu']\n",
      "First read conf file /media/data/sbulusu/datasets/complexworm/dat_files/Multi_lattice_closed_worms/configs-125-8-4.010-1.000-0.995.dat with size :torch.Size([4000, 4, 8, 125])\n",
      "Read conf file /media/data/sbulusu/datasets/complexworm/dat_files/Multi_lattice_closed_worms/configs-125-8-4.010-1.000-0.995.dat with size :torch.Size([4000, 4, 8, 125])\n",
      "Loading 4000 confs\n"
     ]
    },
    {
     "data": {
      "application/vnd.jupyter.widget-view+json": {
       "model_id": "f20f066145b54976afd0cc63b8c3da3c",
       "version_major": 2,
       "version_minor": 0
      },
      "text/plain": [
       "HBox(children=(FloatProgress(value=0.0, max=4000.0), HTML(value='')))"
      ]
     },
     "metadata": {},
     "output_type": "display_data"
    },
    {
     "name": "stdout",
     "output_type": "stream",
     "text": [
      "\n",
      "Processing conf file /media/data/sbulusu/datasets/complexworm/dat_files/Multi_lattice_closed_worms/configs-125-8-4.010-1.000-1.010.dat\n",
      "['configs', '125', '8', '4.010', '1.000', '1.010']\n",
      "loaded file name labels ['nt', 'nx', 'eta', 'lambda', 'mu']\n",
      "First read conf file /media/data/sbulusu/datasets/complexworm/dat_files/Multi_lattice_closed_worms/configs-125-8-4.010-1.000-1.010.dat with size :torch.Size([4000, 4, 8, 125])\n",
      "Read conf file /media/data/sbulusu/datasets/complexworm/dat_files/Multi_lattice_closed_worms/configs-125-8-4.010-1.000-1.010.dat with size :torch.Size([4000, 4, 8, 125])\n",
      "Loading 4000 confs\n"
     ]
    },
    {
     "data": {
      "application/vnd.jupyter.widget-view+json": {
       "model_id": "1ffb1ff8dce3467b8c23d07943d3288f",
       "version_major": 2,
       "version_minor": 0
      },
      "text/plain": [
       "HBox(children=(FloatProgress(value=0.0, max=4000.0), HTML(value='')))"
      ]
     },
     "metadata": {},
     "output_type": "display_data"
    },
    {
     "name": "stdout",
     "output_type": "stream",
     "text": [
      "\n",
      "Processing conf file /media/data/sbulusu/datasets/complexworm/dat_files/Multi_lattice_closed_worms/configs-125-8-4.010-1.000-1.040.dat\n",
      "['configs', '125', '8', '4.010', '1.000', '1.040']\n",
      "loaded file name labels ['nt', 'nx', 'eta', 'lambda', 'mu']\n",
      "First read conf file /media/data/sbulusu/datasets/complexworm/dat_files/Multi_lattice_closed_worms/configs-125-8-4.010-1.000-1.040.dat with size :torch.Size([4000, 4, 8, 125])\n",
      "Read conf file /media/data/sbulusu/datasets/complexworm/dat_files/Multi_lattice_closed_worms/configs-125-8-4.010-1.000-1.040.dat with size :torch.Size([4000, 4, 8, 125])\n",
      "Loading 4000 confs\n"
     ]
    },
    {
     "data": {
      "application/vnd.jupyter.widget-view+json": {
       "model_id": "add3a13f313f425695bebef2bd19f573",
       "version_major": 2,
       "version_minor": 0
      },
      "text/plain": [
       "HBox(children=(FloatProgress(value=0.0, max=4000.0), HTML(value='')))"
      ]
     },
     "metadata": {},
     "output_type": "display_data"
    },
    {
     "name": "stdout",
     "output_type": "stream",
     "text": [
      "\n",
      "Processing conf file /media/data/sbulusu/datasets/complexworm/dat_files/Multi_lattice_closed_worms/configs-125-8-4.010-1.000-0.960.dat\n",
      "['configs', '125', '8', '4.010', '1.000', '0.960']\n",
      "loaded file name labels ['nt', 'nx', 'eta', 'lambda', 'mu']\n",
      "First read conf file /media/data/sbulusu/datasets/complexworm/dat_files/Multi_lattice_closed_worms/configs-125-8-4.010-1.000-0.960.dat with size :torch.Size([4000, 4, 8, 125])\n",
      "Read conf file /media/data/sbulusu/datasets/complexworm/dat_files/Multi_lattice_closed_worms/configs-125-8-4.010-1.000-0.960.dat with size :torch.Size([4000, 4, 8, 125])\n",
      "Loading 4000 confs\n"
     ]
    },
    {
     "data": {
      "application/vnd.jupyter.widget-view+json": {
       "model_id": "6916cfdeb13344f58d8646497fb9c9b6",
       "version_major": 2,
       "version_minor": 0
      },
      "text/plain": [
       "HBox(children=(FloatProgress(value=0.0, max=4000.0), HTML(value='')))"
      ]
     },
     "metadata": {},
     "output_type": "display_data"
    },
    {
     "name": "stdout",
     "output_type": "stream",
     "text": [
      "\n",
      "Processing conf file /media/data/sbulusu/datasets/complexworm/dat_files/Multi_lattice_closed_worms/configs-125-8-4.010-1.000-0.915.dat\n",
      "['configs', '125', '8', '4.010', '1.000', '0.915']\n",
      "loaded file name labels ['nt', 'nx', 'eta', 'lambda', 'mu']\n",
      "First read conf file /media/data/sbulusu/datasets/complexworm/dat_files/Multi_lattice_closed_worms/configs-125-8-4.010-1.000-0.915.dat with size :torch.Size([4000, 4, 8, 125])\n",
      "Read conf file /media/data/sbulusu/datasets/complexworm/dat_files/Multi_lattice_closed_worms/configs-125-8-4.010-1.000-0.915.dat with size :torch.Size([4000, 4, 8, 125])\n",
      "Loading 4000 confs\n"
     ]
    },
    {
     "data": {
      "application/vnd.jupyter.widget-view+json": {
       "model_id": "603b37efed594d159d665ff593e06f14",
       "version_major": 2,
       "version_minor": 0
      },
      "text/plain": [
       "HBox(children=(FloatProgress(value=0.0, max=4000.0), HTML(value='')))"
      ]
     },
     "metadata": {},
     "output_type": "display_data"
    },
    {
     "name": "stdout",
     "output_type": "stream",
     "text": [
      "\n",
      "Processing conf file /media/data/sbulusu/datasets/complexworm/dat_files/Multi_lattice_closed_worms/configs-125-8-4.010-1.000-0.990.dat\n",
      "['configs', '125', '8', '4.010', '1.000', '0.990']\n",
      "loaded file name labels ['nt', 'nx', 'eta', 'lambda', 'mu']\n",
      "First read conf file /media/data/sbulusu/datasets/complexworm/dat_files/Multi_lattice_closed_worms/configs-125-8-4.010-1.000-0.990.dat with size :torch.Size([4000, 4, 8, 125])\n",
      "Read conf file /media/data/sbulusu/datasets/complexworm/dat_files/Multi_lattice_closed_worms/configs-125-8-4.010-1.000-0.990.dat with size :torch.Size([4000, 4, 8, 125])\n",
      "Loading 4000 confs\n"
     ]
    },
    {
     "data": {
      "application/vnd.jupyter.widget-view+json": {
       "model_id": "b1e7ece6e5e348f1b170025fbae6f310",
       "version_major": 2,
       "version_minor": 0
      },
      "text/plain": [
       "HBox(children=(FloatProgress(value=0.0, max=4000.0), HTML(value='')))"
      ]
     },
     "metadata": {},
     "output_type": "display_data"
    },
    {
     "name": "stdout",
     "output_type": "stream",
     "text": [
      "\n",
      "Processing conf file /media/data/sbulusu/datasets/complexworm/dat_files/Multi_lattice_closed_worms/configs-125-8-4.010-1.000-1.030.dat\n",
      "['configs', '125', '8', '4.010', '1.000', '1.030']\n",
      "loaded file name labels ['nt', 'nx', 'eta', 'lambda', 'mu']\n",
      "First read conf file /media/data/sbulusu/datasets/complexworm/dat_files/Multi_lattice_closed_worms/configs-125-8-4.010-1.000-1.030.dat with size :torch.Size([4000, 4, 8, 125])\n",
      "Read conf file /media/data/sbulusu/datasets/complexworm/dat_files/Multi_lattice_closed_worms/configs-125-8-4.010-1.000-1.030.dat with size :torch.Size([4000, 4, 8, 125])\n",
      "Loading 4000 confs\n"
     ]
    },
    {
     "data": {
      "application/vnd.jupyter.widget-view+json": {
       "model_id": "378071feb25b4ce8a5098a278e8c571a",
       "version_major": 2,
       "version_minor": 0
      },
      "text/plain": [
       "HBox(children=(FloatProgress(value=0.0, max=4000.0), HTML(value='')))"
      ]
     },
     "metadata": {},
     "output_type": "display_data"
    },
    {
     "name": "stdout",
     "output_type": "stream",
     "text": [
      "\n",
      "Processing conf file /media/data/sbulusu/datasets/complexworm/dat_files/Multi_lattice_closed_worms/configs-125-8-4.010-1.000-1.005.dat\n",
      "['configs', '125', '8', '4.010', '1.000', '1.005']\n",
      "loaded file name labels ['nt', 'nx', 'eta', 'lambda', 'mu']\n",
      "First read conf file /media/data/sbulusu/datasets/complexworm/dat_files/Multi_lattice_closed_worms/configs-125-8-4.010-1.000-1.005.dat with size :torch.Size([4000, 4, 8, 125])\n",
      "Read conf file /media/data/sbulusu/datasets/complexworm/dat_files/Multi_lattice_closed_worms/configs-125-8-4.010-1.000-1.005.dat with size :torch.Size([4000, 4, 8, 125])\n",
      "Loading 4000 confs\n"
     ]
    },
    {
     "data": {
      "application/vnd.jupyter.widget-view+json": {
       "model_id": "ff156d758e514730b8ed09050e9d9181",
       "version_major": 2,
       "version_minor": 0
      },
      "text/plain": [
       "HBox(children=(FloatProgress(value=0.0, max=4000.0), HTML(value='')))"
      ]
     },
     "metadata": {},
     "output_type": "display_data"
    },
    {
     "name": "stdout",
     "output_type": "stream",
     "text": [
      "\n",
      "Processing conf file /media/data/sbulusu/datasets/complexworm/dat_files/Multi_lattice_closed_worms/configs-125-8-4.010-1.000-0.975.dat\n",
      "['configs', '125', '8', '4.010', '1.000', '0.975']\n",
      "loaded file name labels ['nt', 'nx', 'eta', 'lambda', 'mu']\n",
      "First read conf file /media/data/sbulusu/datasets/complexworm/dat_files/Multi_lattice_closed_worms/configs-125-8-4.010-1.000-0.975.dat with size :torch.Size([4000, 4, 8, 125])\n",
      "Read conf file /media/data/sbulusu/datasets/complexworm/dat_files/Multi_lattice_closed_worms/configs-125-8-4.010-1.000-0.975.dat with size :torch.Size([4000, 4, 8, 125])\n",
      "Loading 4000 confs\n"
     ]
    },
    {
     "data": {
      "application/vnd.jupyter.widget-view+json": {
       "model_id": "30891f4f147047feb6d7ab112748d941",
       "version_major": 2,
       "version_minor": 0
      },
      "text/plain": [
       "HBox(children=(FloatProgress(value=0.0, max=4000.0), HTML(value='')))"
      ]
     },
     "metadata": {},
     "output_type": "display_data"
    },
    {
     "name": "stdout",
     "output_type": "stream",
     "text": [
      "\n",
      "Processing conf file /media/data/sbulusu/datasets/complexworm/dat_files/Multi_lattice_closed_worms/configs-125-8-4.010-1.000-1.000.dat\n",
      "['configs', '125', '8', '4.010', '1.000', '1.000']\n",
      "loaded file name labels ['nt', 'nx', 'eta', 'lambda', 'mu']\n",
      "First read conf file /media/data/sbulusu/datasets/complexworm/dat_files/Multi_lattice_closed_worms/configs-125-8-4.010-1.000-1.000.dat with size :torch.Size([4000, 4, 8, 125])\n",
      "Read conf file /media/data/sbulusu/datasets/complexworm/dat_files/Multi_lattice_closed_worms/configs-125-8-4.010-1.000-1.000.dat with size :torch.Size([4000, 4, 8, 125])\n",
      "Loading 4000 confs\n"
     ]
    },
    {
     "data": {
      "application/vnd.jupyter.widget-view+json": {
       "model_id": "3b7284dbf0f64fafadfb5b2cb62460d6",
       "version_major": 2,
       "version_minor": 0
      },
      "text/plain": [
       "HBox(children=(FloatProgress(value=0.0, max=4000.0), HTML(value='')))"
      ]
     },
     "metadata": {},
     "output_type": "display_data"
    },
    {
     "name": "stdout",
     "output_type": "stream",
     "text": [
      "\n",
      "Processing conf file /media/data/sbulusu/datasets/complexworm/dat_files/Multi_lattice_closed_worms/configs-125-8-4.010-1.000-0.910.dat\n",
      "['configs', '125', '8', '4.010', '1.000', '0.910']\n",
      "loaded file name labels ['nt', 'nx', 'eta', 'lambda', 'mu']\n",
      "First read conf file /media/data/sbulusu/datasets/complexworm/dat_files/Multi_lattice_closed_worms/configs-125-8-4.010-1.000-0.910.dat with size :torch.Size([4000, 4, 8, 125])\n",
      "Read conf file /media/data/sbulusu/datasets/complexworm/dat_files/Multi_lattice_closed_worms/configs-125-8-4.010-1.000-0.910.dat with size :torch.Size([4000, 4, 8, 125])\n",
      "Loading 4000 confs\n"
     ]
    },
    {
     "data": {
      "application/vnd.jupyter.widget-view+json": {
       "model_id": "043c9ac2d6a340419125b50e019fc80b",
       "version_major": 2,
       "version_minor": 0
      },
      "text/plain": [
       "HBox(children=(FloatProgress(value=0.0, max=4000.0), HTML(value='')))"
      ]
     },
     "metadata": {},
     "output_type": "display_data"
    },
    {
     "name": "stdout",
     "output_type": "stream",
     "text": [
      "\n",
      "Processing conf file /media/data/sbulusu/datasets/complexworm/dat_files/Multi_lattice_closed_worms/configs-125-8-4.010-1.000-1.045.dat\n",
      "['configs', '125', '8', '4.010', '1.000', '1.045']\n",
      "loaded file name labels ['nt', 'nx', 'eta', 'lambda', 'mu']\n",
      "First read conf file /media/data/sbulusu/datasets/complexworm/dat_files/Multi_lattice_closed_worms/configs-125-8-4.010-1.000-1.045.dat with size :torch.Size([4000, 4, 8, 125])\n",
      "Read conf file /media/data/sbulusu/datasets/complexworm/dat_files/Multi_lattice_closed_worms/configs-125-8-4.010-1.000-1.045.dat with size :torch.Size([4000, 4, 8, 125])\n",
      "Loading 4000 confs\n"
     ]
    },
    {
     "data": {
      "application/vnd.jupyter.widget-view+json": {
       "model_id": "81fcacb43d124a988d75a2a90396b5cd",
       "version_major": 2,
       "version_minor": 0
      },
      "text/plain": [
       "HBox(children=(FloatProgress(value=0.0, max=4000.0), HTML(value='')))"
      ]
     },
     "metadata": {},
     "output_type": "display_data"
    },
    {
     "name": "stdout",
     "output_type": "stream",
     "text": [
      "\n",
      "Processing conf file /media/data/sbulusu/datasets/complexworm/dat_files/Multi_lattice_closed_worms/configs-125-8-4.010-1.000-1.020.dat\n",
      "['configs', '125', '8', '4.010', '1.000', '1.020']\n",
      "loaded file name labels ['nt', 'nx', 'eta', 'lambda', 'mu']\n",
      "First read conf file /media/data/sbulusu/datasets/complexworm/dat_files/Multi_lattice_closed_worms/configs-125-8-4.010-1.000-1.020.dat with size :torch.Size([4000, 4, 8, 125])\n",
      "Read conf file /media/data/sbulusu/datasets/complexworm/dat_files/Multi_lattice_closed_worms/configs-125-8-4.010-1.000-1.020.dat with size :torch.Size([4000, 4, 8, 125])\n",
      "Loading 4000 confs\n"
     ]
    },
    {
     "data": {
      "application/vnd.jupyter.widget-view+json": {
       "model_id": "218256e95c204fab9543d906063395e0",
       "version_major": 2,
       "version_minor": 0
      },
      "text/plain": [
       "HBox(children=(FloatProgress(value=0.0, max=4000.0), HTML(value='')))"
      ]
     },
     "metadata": {},
     "output_type": "display_data"
    },
    {
     "name": "stdout",
     "output_type": "stream",
     "text": [
      "\n",
      "Processing conf file /media/data/sbulusu/datasets/complexworm/dat_files/Multi_lattice_closed_worms/configs-125-8-4.010-1.000-0.980.dat\n",
      "['configs', '125', '8', '4.010', '1.000', '0.980']\n",
      "loaded file name labels ['nt', 'nx', 'eta', 'lambda', 'mu']\n",
      "First read conf file /media/data/sbulusu/datasets/complexworm/dat_files/Multi_lattice_closed_worms/configs-125-8-4.010-1.000-0.980.dat with size :torch.Size([4000, 4, 8, 125])\n",
      "Read conf file /media/data/sbulusu/datasets/complexworm/dat_files/Multi_lattice_closed_worms/configs-125-8-4.010-1.000-0.980.dat with size :torch.Size([4000, 4, 8, 125])\n",
      "Loading 4000 confs\n"
     ]
    },
    {
     "data": {
      "application/vnd.jupyter.widget-view+json": {
       "model_id": "abc3c60b32cb462780a527c6a899f989",
       "version_major": 2,
       "version_minor": 0
      },
      "text/plain": [
       "HBox(children=(FloatProgress(value=0.0, max=4000.0), HTML(value='')))"
      ]
     },
     "metadata": {},
     "output_type": "display_data"
    },
    {
     "name": "stdout",
     "output_type": "stream",
     "text": [
      "\n",
      "Processing conf file /media/data/sbulusu/datasets/complexworm/dat_files/Multi_lattice_closed_worms/configs-125-8-4.010-1.000-0.985.dat\n",
      "['configs', '125', '8', '4.010', '1.000', '0.985']\n",
      "loaded file name labels ['nt', 'nx', 'eta', 'lambda', 'mu']\n",
      "First read conf file /media/data/sbulusu/datasets/complexworm/dat_files/Multi_lattice_closed_worms/configs-125-8-4.010-1.000-0.985.dat with size :torch.Size([4000, 4, 8, 125])\n",
      "Read conf file /media/data/sbulusu/datasets/complexworm/dat_files/Multi_lattice_closed_worms/configs-125-8-4.010-1.000-0.985.dat with size :torch.Size([4000, 4, 8, 125])\n",
      "Loading 4000 confs\n"
     ]
    },
    {
     "data": {
      "application/vnd.jupyter.widget-view+json": {
       "model_id": "80d745e99ebd407ead3a40c608964e4c",
       "version_major": 2,
       "version_minor": 0
      },
      "text/plain": [
       "HBox(children=(FloatProgress(value=0.0, max=4000.0), HTML(value='')))"
      ]
     },
     "metadata": {},
     "output_type": "display_data"
    },
    {
     "name": "stdout",
     "output_type": "stream",
     "text": [
      "\n",
      "Processing conf file /media/data/sbulusu/datasets/complexworm/dat_files/Multi_lattice_closed_worms/configs-125-8-4.010-1.000-0.955.dat\n",
      "['configs', '125', '8', '4.010', '1.000', '0.955']\n",
      "loaded file name labels ['nt', 'nx', 'eta', 'lambda', 'mu']\n",
      "First read conf file /media/data/sbulusu/datasets/complexworm/dat_files/Multi_lattice_closed_worms/configs-125-8-4.010-1.000-0.955.dat with size :torch.Size([4000, 4, 8, 125])\n",
      "Read conf file /media/data/sbulusu/datasets/complexworm/dat_files/Multi_lattice_closed_worms/configs-125-8-4.010-1.000-0.955.dat with size :torch.Size([4000, 4, 8, 125])\n",
      "Loading 4000 confs\n"
     ]
    },
    {
     "data": {
      "application/vnd.jupyter.widget-view+json": {
       "model_id": "e6d0ea9e0de04ae7b032aac82598fc5f",
       "version_major": 2,
       "version_minor": 0
      },
      "text/plain": [
       "HBox(children=(FloatProgress(value=0.0, max=4000.0), HTML(value='')))"
      ]
     },
     "metadata": {},
     "output_type": "display_data"
    },
    {
     "name": "stdout",
     "output_type": "stream",
     "text": [
      "\n",
      "Processing conf file /media/data/sbulusu/datasets/complexworm/dat_files/Multi_lattice_closed_worms/configs-125-8-4.010-1.000-0.930.dat\n",
      "['configs', '125', '8', '4.010', '1.000', '0.930']\n",
      "loaded file name labels ['nt', 'nx', 'eta', 'lambda', 'mu']\n",
      "First read conf file /media/data/sbulusu/datasets/complexworm/dat_files/Multi_lattice_closed_worms/configs-125-8-4.010-1.000-0.930.dat with size :torch.Size([4000, 4, 8, 125])\n",
      "Read conf file /media/data/sbulusu/datasets/complexworm/dat_files/Multi_lattice_closed_worms/configs-125-8-4.010-1.000-0.930.dat with size :torch.Size([4000, 4, 8, 125])\n",
      "Loading 4000 confs\n"
     ]
    },
    {
     "data": {
      "application/vnd.jupyter.widget-view+json": {
       "model_id": "a34f7a40d4a646c78756810245821e6e",
       "version_major": 2,
       "version_minor": 0
      },
      "text/plain": [
       "HBox(children=(FloatProgress(value=0.0, max=4000.0), HTML(value='')))"
      ]
     },
     "metadata": {},
     "output_type": "display_data"
    },
    {
     "name": "stdout",
     "output_type": "stream",
     "text": [
      "\n",
      "Processing conf file /media/data/sbulusu/datasets/complexworm/dat_files/Multi_lattice_closed_worms/configs-125-8-4.010-1.000-0.920.dat\n",
      "['configs', '125', '8', '4.010', '1.000', '0.920']\n",
      "loaded file name labels ['nt', 'nx', 'eta', 'lambda', 'mu']\n",
      "First read conf file /media/data/sbulusu/datasets/complexworm/dat_files/Multi_lattice_closed_worms/configs-125-8-4.010-1.000-0.920.dat with size :torch.Size([4000, 4, 8, 125])\n",
      "Read conf file /media/data/sbulusu/datasets/complexworm/dat_files/Multi_lattice_closed_worms/configs-125-8-4.010-1.000-0.920.dat with size :torch.Size([4000, 4, 8, 125])\n",
      "Loading 4000 confs\n"
     ]
    },
    {
     "data": {
      "application/vnd.jupyter.widget-view+json": {
       "model_id": "380d4380c1714a5a93adc527d2367a63",
       "version_major": 2,
       "version_minor": 0
      },
      "text/plain": [
       "HBox(children=(FloatProgress(value=0.0, max=4000.0), HTML(value='')))"
      ]
     },
     "metadata": {},
     "output_type": "display_data"
    },
    {
     "name": "stdout",
     "output_type": "stream",
     "text": [
      "\n",
      "Processing conf file /media/data/sbulusu/datasets/complexworm/dat_files/Multi_lattice_closed_worms/configs-125-8-4.010-1.000-0.945.dat\n",
      "['configs', '125', '8', '4.010', '1.000', '0.945']\n",
      "loaded file name labels ['nt', 'nx', 'eta', 'lambda', 'mu']\n",
      "First read conf file /media/data/sbulusu/datasets/complexworm/dat_files/Multi_lattice_closed_worms/configs-125-8-4.010-1.000-0.945.dat with size :torch.Size([4000, 4, 8, 125])\n",
      "Read conf file /media/data/sbulusu/datasets/complexworm/dat_files/Multi_lattice_closed_worms/configs-125-8-4.010-1.000-0.945.dat with size :torch.Size([4000, 4, 8, 125])\n",
      "Loading 4000 confs\n"
     ]
    },
    {
     "data": {
      "application/vnd.jupyter.widget-view+json": {
       "model_id": "d7efdc27c0e0494d82e1dd0621ed066f",
       "version_major": 2,
       "version_minor": 0
      },
      "text/plain": [
       "HBox(children=(FloatProgress(value=0.0, max=4000.0), HTML(value='')))"
      ]
     },
     "metadata": {},
     "output_type": "display_data"
    },
    {
     "name": "stdout",
     "output_type": "stream",
     "text": [
      "\n",
      "Processing conf file /media/data/sbulusu/datasets/complexworm/dat_files/Multi_lattice_closed_worms/configs-125-8-4.010-1.000-0.925.dat\n",
      "['configs', '125', '8', '4.010', '1.000', '0.925']\n",
      "loaded file name labels ['nt', 'nx', 'eta', 'lambda', 'mu']\n",
      "First read conf file /media/data/sbulusu/datasets/complexworm/dat_files/Multi_lattice_closed_worms/configs-125-8-4.010-1.000-0.925.dat with size :torch.Size([4000, 4, 8, 125])\n",
      "Read conf file /media/data/sbulusu/datasets/complexworm/dat_files/Multi_lattice_closed_worms/configs-125-8-4.010-1.000-0.925.dat with size :torch.Size([4000, 4, 8, 125])\n",
      "Loading 4000 confs\n"
     ]
    },
    {
     "data": {
      "application/vnd.jupyter.widget-view+json": {
       "model_id": "1af590bd40b843e788a1b3ac84818477",
       "version_major": 2,
       "version_minor": 0
      },
      "text/plain": [
       "HBox(children=(FloatProgress(value=0.0, max=4000.0), HTML(value='')))"
      ]
     },
     "metadata": {},
     "output_type": "display_data"
    },
    {
     "name": "stdout",
     "output_type": "stream",
     "text": [
      "\n",
      "Processing conf file /media/data/sbulusu/datasets/complexworm/dat_files/Multi_lattice_closed_worms/configs-125-8-4.010-1.000-1.050.dat\n",
      "['configs', '125', '8', '4.010', '1.000', '1.050']\n",
      "loaded file name labels ['nt', 'nx', 'eta', 'lambda', 'mu']\n",
      "First read conf file /media/data/sbulusu/datasets/complexworm/dat_files/Multi_lattice_closed_worms/configs-125-8-4.010-1.000-1.050.dat with size :torch.Size([4000, 4, 8, 125])\n",
      "Read conf file /media/data/sbulusu/datasets/complexworm/dat_files/Multi_lattice_closed_worms/configs-125-8-4.010-1.000-1.050.dat with size :torch.Size([4000, 4, 8, 125])\n",
      "Loading 4000 confs\n"
     ]
    },
    {
     "data": {
      "application/vnd.jupyter.widget-view+json": {
       "model_id": "f7f26569bdea4b95bb4616d50c7b83c2",
       "version_major": 2,
       "version_minor": 0
      },
      "text/plain": [
       "HBox(children=(FloatProgress(value=0.0, max=4000.0), HTML(value='')))"
      ]
     },
     "metadata": {},
     "output_type": "display_data"
    },
    {
     "name": "stdout",
     "output_type": "stream",
     "text": [
      "\n",
      "Processing conf file /media/data/sbulusu/datasets/complexworm/dat_files/Multi_lattice_closed_worms/configs-125-8-4.010-1.000-1.035.dat\n",
      "['configs', '125', '8', '4.010', '1.000', '1.035']\n",
      "loaded file name labels ['nt', 'nx', 'eta', 'lambda', 'mu']\n",
      "First read conf file /media/data/sbulusu/datasets/complexworm/dat_files/Multi_lattice_closed_worms/configs-125-8-4.010-1.000-1.035.dat with size :torch.Size([4000, 4, 8, 125])\n",
      "Read conf file /media/data/sbulusu/datasets/complexworm/dat_files/Multi_lattice_closed_worms/configs-125-8-4.010-1.000-1.035.dat with size :torch.Size([4000, 4, 8, 125])\n",
      "Loading 4000 confs\n"
     ]
    },
    {
     "data": {
      "application/vnd.jupyter.widget-view+json": {
       "model_id": "cc8e08763c1040f8ab77c496734c3dcc",
       "version_major": 2,
       "version_minor": 0
      },
      "text/plain": [
       "HBox(children=(FloatProgress(value=0.0, max=4000.0), HTML(value='')))"
      ]
     },
     "metadata": {},
     "output_type": "display_data"
    },
    {
     "name": "stdout",
     "output_type": "stream",
     "text": [
      "\n",
      "\n",
      "last example loaded:\n",
      "{'conf': tensor([[[ 1,  2,  1,  ...,  0,  0,  0],\n",
      "         [ 0,  0,  0,  ...,  0,  0,  0],\n",
      "         [ 0,  1,  1,  ...,  1,  0,  1],\n",
      "         ...,\n",
      "         [ 1,  0,  0,  ...,  1,  2,  1],\n",
      "         [ 1,  1,  0,  ...,  1,  1,  1],\n",
      "         [ 0, -1,  0,  ...,  0,  0,  1]],\n",
      "\n",
      "        [[ 0,  0,  0,  ...,  0,  0,  0],\n",
      "         [ 0,  0,  0,  ...,  0,  0,  0],\n",
      "         [ 1, -1,  0,  ...,  0,  1, -1],\n",
      "         ...,\n",
      "         [ 0,  0, -1,  ...,  0,  0,  1],\n",
      "         [ 0,  0,  0,  ...,  0,  0,  1],\n",
      "         [ 1,  1, -1,  ...,  0,  0,  0]],\n",
      "\n",
      "        [[ 0,  1,  0,  ...,  0,  1,  0],\n",
      "         [ 0,  0,  1,  ...,  0,  0,  0],\n",
      "         [ 0,  0,  0,  ...,  0,  0,  0],\n",
      "         ...,\n",
      "         [ 1,  0,  1,  ...,  2,  0,  1],\n",
      "         [ 0,  0,  0,  ...,  1,  0,  0],\n",
      "         [ 1,  0,  0,  ...,  0,  0,  0]],\n",
      "\n",
      "        [[ 0,  0,  0,  ...,  0,  0,  1],\n",
      "         [ 0,  0,  0,  ...,  0,  0,  1],\n",
      "         [ 1,  0,  0,  ...,  0,  0,  0],\n",
      "         ...,\n",
      "         [ 0,  0,  0,  ...,  0,  0,  0],\n",
      "         [ 0,  1,  1,  ...,  1,  0,  0],\n",
      "         [ 0,  1,  0,  ...,  0,  0,  0]]]), 'mu': 1.035, 'open': False, 'nt': 125.0, 'nx': 8.0, 'eta': 4.01, 'lambda': 1.0, 'phase': tensor(1.), 'id': 231999}\n"
     ]
    }
   ],
   "source": [
    "\"\"\"\n",
    "Load Data\n",
    "\"\"\"\n",
    "#conf_file_dir = \"/media/data/sbulusu/datasets/complexworm/dat_files/\"\n",
    "conf_file_dir = \"/media/data/sbulusu/datasets/complexworm/dat_files/\"\n",
    "file_format_list = [\"Multi_lattice_open_worms/open_configs-125-8*.dat\",\n",
    "                    \"Multi_lattice_closed_worms/configs-125-8*.dat\"\n",
    "                   ]\n",
    "\n",
    "#label_names = [\"n\", \"phi2\"]\n",
    "label_names = []\n",
    "labels_in_file_name = [\"nt\", \"nx\", \"eta\", \"lambda\", \"mu\"]\n",
    "\n",
    "dataset = open_worm_lat_dataset_load_new_lightning_dat.kl_dataset(conf_file_dir, file_format_list,\n",
    "                                                              label_names, labels_in_file_name,\n",
    "                                                              transform=None)"
   ]
  },
  {
   "cell_type": "code",
   "execution_count": 31,
   "metadata": {},
   "outputs": [],
   "source": [
    "target_attributes = [\"open\"]\n",
    "output_attributes = target_attributes\n",
    "\n",
    "dataset.train_label_names = target_attributes"
   ]
  },
  {
   "cell_type": "code",
   "execution_count": 32,
   "metadata": {},
   "outputs": [],
   "source": [
    "net = best_model"
   ]
  },
  {
   "cell_type": "code",
   "execution_count": 33,
   "metadata": {},
   "outputs": [],
   "source": [
    "lat_size = dataset[0][0].size()[1:]"
   ]
  },
  {
   "cell_type": "code",
   "execution_count": 34,
   "metadata": {},
   "outputs": [
    {
     "name": "stdout",
     "output_type": "stream",
     "text": [
      "test dataset size: 232000\n",
      "(-1, 1)\n"
     ]
    },
    {
     "data": {
      "application/vnd.jupyter.widget-view+json": {
       "model_id": "5b0bf81ea5574ecc8f52c01161b97e70",
       "version_major": 2,
       "version_minor": 0
      },
      "text/plain": [
       "HBox(children=(FloatProgress(value=0.0, max=232000.0), HTML(value='')))"
      ]
     },
     "metadata": {},
     "output_type": "display_data"
    },
    {
     "name": "stdout",
     "output_type": "stream",
     "text": [
      "\n"
     ]
    }
   ],
   "source": [
    "new_data_len = len(dataset)\n",
    "test_indices = list(range(new_data_len))\n",
    "\n",
    "lat_size = dataset[0][0].size()[1:]\n",
    "\n",
    "\"\"\"\n",
    "Load Test Data\n",
    "\"\"\"\n",
    "net = best_model\n",
    "net.eval()\n",
    "print(f\"test dataset size: {len(test_indices)}\")\n",
    "#lat_size = [10,200]\n",
    "input_size = net.input_size\n",
    "output_size = net.output_size\n",
    "model_input_shape = tuple(np.concatenate(([-1],input_size)))\n",
    "print(model_input_shape)\n",
    "\n",
    "#net_outputs = np.zeros( (len(test_indices)) )\n",
    "net_outputs = np.zeros( (len(test_indices), len(output_attributes)) )\n",
    "#labels = np.zeros( (len(test_indices)) )\n",
    "labels = np.zeros( (len(test_indices), len(output_attributes)) )\n",
    "mus = np.zeros( (len(test_indices)) )\n",
    "\n",
    "with torch.no_grad():\n",
    "    for i in tqdm(range(len(test_indices))):\n",
    "    #for i in tqdm(range(len(val_indices))):\n",
    "\n",
    "        test_index = test_indices[i]\n",
    "        conf_lat_links, label = dataset[test_index]\n",
    "        batch_conf_lat_links = torch.zeros(1, *conf_lat_links.size())\n",
    "        batch_conf_lat_links[0] = conf_lat_links\n",
    "        mus[i] = dataset.data[test_index][\"mu\"]\n",
    "        #net_outputs[i] = net(conf_lat_links.view(model_input_shape).to(device).float()).detach().cpu().numpy()\n",
    "        #net_outputs[i] = net(conf_lat_links.to(device).float()).detach().cpu().numpy()\n",
    "        net_outputs[i] = net(batch_conf_lat_links.to(device).float()).detach().cpu().numpy()\n",
    "        #output = net(conf_lat_links.view(model_input_shape).float())\n",
    "        #labels[i] = label.detach().cpu().numpy()\n",
    "        labels[i] = np.array(label)\n",
    " "
   ]
  },
  {
   "cell_type": "code",
   "execution_count": 35,
   "metadata": {},
   "outputs": [],
   "source": [
    "labels = labels.flatten()\n",
    "net_outputs = net_outputs.flatten()"
   ]
  },
  {
   "cell_type": "code",
   "execution_count": 36,
   "metadata": {},
   "outputs": [
    {
     "name": "stdout",
     "output_type": "stream",
     "text": [
      "111331.41527277185\n"
     ]
    }
   ],
   "source": [
    "dev = np.abs(net_outputs - labels)\n",
    "print(dev.sum())"
   ]
  },
  {
   "cell_type": "code",
   "execution_count": 37,
   "metadata": {},
   "outputs": [],
   "source": [
    "int_net_outputs = np.rint(net_outputs)\n",
    "int_dev = np.abs(int_net_outputs - labels.astype(int))\n",
    "#print(int_dev.sum())"
   ]
  },
  {
   "cell_type": "code",
   "execution_count": 38,
   "metadata": {},
   "outputs": [
    {
     "data": {
      "text/plain": [
       "(232000,)"
      ]
     },
     "execution_count": 38,
     "metadata": {},
     "output_type": "execute_result"
    }
   ],
   "source": [
    "labels.shape"
   ]
  },
  {
   "cell_type": "code",
   "execution_count": 39,
   "metadata": {},
   "outputs": [],
   "source": [
    "results = pd.DataFrame(np.transpose([labels.flatten(), int_net_outputs.flatten()]))"
   ]
  },
  {
   "cell_type": "code",
   "execution_count": 40,
   "metadata": {},
   "outputs": [
    {
     "data": {
      "text/html": [
       "<div>\n",
       "<style scoped>\n",
       "    .dataframe tbody tr th:only-of-type {\n",
       "        vertical-align: middle;\n",
       "    }\n",
       "\n",
       "    .dataframe tbody tr th {\n",
       "        vertical-align: top;\n",
       "    }\n",
       "\n",
       "    .dataframe thead th {\n",
       "        text-align: right;\n",
       "    }\n",
       "</style>\n",
       "<table border=\"1\" class=\"dataframe\">\n",
       "  <thead>\n",
       "    <tr style=\"text-align: right;\">\n",
       "      <th></th>\n",
       "      <th>0</th>\n",
       "      <th>1</th>\n",
       "    </tr>\n",
       "  </thead>\n",
       "  <tbody>\n",
       "    <tr>\n",
       "      <th>0</th>\n",
       "      <td>1.0</td>\n",
       "      <td>1.0</td>\n",
       "    </tr>\n",
       "    <tr>\n",
       "      <th>1</th>\n",
       "      <td>1.0</td>\n",
       "      <td>1.0</td>\n",
       "    </tr>\n",
       "    <tr>\n",
       "      <th>2</th>\n",
       "      <td>1.0</td>\n",
       "      <td>1.0</td>\n",
       "    </tr>\n",
       "    <tr>\n",
       "      <th>3</th>\n",
       "      <td>1.0</td>\n",
       "      <td>1.0</td>\n",
       "    </tr>\n",
       "    <tr>\n",
       "      <th>4</th>\n",
       "      <td>1.0</td>\n",
       "      <td>1.0</td>\n",
       "    </tr>\n",
       "    <tr>\n",
       "      <th>...</th>\n",
       "      <td>...</td>\n",
       "      <td>...</td>\n",
       "    </tr>\n",
       "    <tr>\n",
       "      <th>231995</th>\n",
       "      <td>0.0</td>\n",
       "      <td>1.0</td>\n",
       "    </tr>\n",
       "    <tr>\n",
       "      <th>231996</th>\n",
       "      <td>0.0</td>\n",
       "      <td>1.0</td>\n",
       "    </tr>\n",
       "    <tr>\n",
       "      <th>231997</th>\n",
       "      <td>0.0</td>\n",
       "      <td>1.0</td>\n",
       "    </tr>\n",
       "    <tr>\n",
       "      <th>231998</th>\n",
       "      <td>0.0</td>\n",
       "      <td>1.0</td>\n",
       "    </tr>\n",
       "    <tr>\n",
       "      <th>231999</th>\n",
       "      <td>0.0</td>\n",
       "      <td>1.0</td>\n",
       "    </tr>\n",
       "  </tbody>\n",
       "</table>\n",
       "<p>232000 rows × 2 columns</p>\n",
       "</div>"
      ],
      "text/plain": [
       "          0    1\n",
       "0       1.0  1.0\n",
       "1       1.0  1.0\n",
       "2       1.0  1.0\n",
       "3       1.0  1.0\n",
       "4       1.0  1.0\n",
       "...     ...  ...\n",
       "231995  0.0  1.0\n",
       "231996  0.0  1.0\n",
       "231997  0.0  1.0\n",
       "231998  0.0  1.0\n",
       "231999  0.0  1.0\n",
       "\n",
       "[232000 rows x 2 columns]"
      ]
     },
     "execution_count": 40,
     "metadata": {},
     "output_type": "execute_result"
    }
   ],
   "source": [
    "results"
   ]
  },
  {
   "cell_type": "code",
   "execution_count": 41,
   "metadata": {},
   "outputs": [
    {
     "data": {
      "text/html": [
       "<div>\n",
       "<style scoped>\n",
       "    .dataframe tbody tr th:only-of-type {\n",
       "        vertical-align: middle;\n",
       "    }\n",
       "\n",
       "    .dataframe tbody tr th {\n",
       "        vertical-align: top;\n",
       "    }\n",
       "\n",
       "    .dataframe thead th {\n",
       "        text-align: right;\n",
       "    }\n",
       "</style>\n",
       "<table border=\"1\" class=\"dataframe\">\n",
       "  <thead>\n",
       "    <tr style=\"text-align: right;\">\n",
       "      <th></th>\n",
       "      <th>0</th>\n",
       "      <th>1</th>\n",
       "    </tr>\n",
       "  </thead>\n",
       "  <tbody>\n",
       "    <tr>\n",
       "      <th>count</th>\n",
       "      <td>232000.000000</td>\n",
       "      <td>232000.000000</td>\n",
       "    </tr>\n",
       "    <tr>\n",
       "      <th>mean</th>\n",
       "      <td>0.500000</td>\n",
       "      <td>0.979207</td>\n",
       "    </tr>\n",
       "    <tr>\n",
       "      <th>std</th>\n",
       "      <td>0.500001</td>\n",
       "      <td>0.142691</td>\n",
       "    </tr>\n",
       "    <tr>\n",
       "      <th>min</th>\n",
       "      <td>0.000000</td>\n",
       "      <td>0.000000</td>\n",
       "    </tr>\n",
       "    <tr>\n",
       "      <th>25%</th>\n",
       "      <td>0.000000</td>\n",
       "      <td>1.000000</td>\n",
       "    </tr>\n",
       "    <tr>\n",
       "      <th>50%</th>\n",
       "      <td>0.500000</td>\n",
       "      <td>1.000000</td>\n",
       "    </tr>\n",
       "    <tr>\n",
       "      <th>75%</th>\n",
       "      <td>1.000000</td>\n",
       "      <td>1.000000</td>\n",
       "    </tr>\n",
       "    <tr>\n",
       "      <th>max</th>\n",
       "      <td>1.000000</td>\n",
       "      <td>1.000000</td>\n",
       "    </tr>\n",
       "  </tbody>\n",
       "</table>\n",
       "</div>"
      ],
      "text/plain": [
       "                   0              1\n",
       "count  232000.000000  232000.000000\n",
       "mean        0.500000       0.979207\n",
       "std         0.500001       0.142691\n",
       "min         0.000000       0.000000\n",
       "25%         0.000000       1.000000\n",
       "50%         0.500000       1.000000\n",
       "75%         1.000000       1.000000\n",
       "max         1.000000       1.000000"
      ]
     },
     "execution_count": 41,
     "metadata": {},
     "output_type": "execute_result"
    }
   ],
   "source": [
    "results.describe()"
   ]
  },
  {
   "cell_type": "code",
   "execution_count": 42,
   "metadata": {},
   "outputs": [
    {
     "data": {
      "text/html": [
       "<div>\n",
       "<style scoped>\n",
       "    .dataframe tbody tr th:only-of-type {\n",
       "        vertical-align: middle;\n",
       "    }\n",
       "\n",
       "    .dataframe tbody tr th {\n",
       "        vertical-align: top;\n",
       "    }\n",
       "\n",
       "    .dataframe thead th {\n",
       "        text-align: right;\n",
       "    }\n",
       "</style>\n",
       "<table border=\"1\" class=\"dataframe\">\n",
       "  <thead>\n",
       "    <tr style=\"text-align: right;\">\n",
       "      <th>Pred</th>\n",
       "      <th>0.0</th>\n",
       "      <th>1.0</th>\n",
       "    </tr>\n",
       "    <tr>\n",
       "      <th>Label</th>\n",
       "      <th></th>\n",
       "      <th></th>\n",
       "    </tr>\n",
       "  </thead>\n",
       "  <tbody>\n",
       "    <tr>\n",
       "      <th>0.0</th>\n",
       "      <td>4750</td>\n",
       "      <td>111250</td>\n",
       "    </tr>\n",
       "    <tr>\n",
       "      <th>1.0</th>\n",
       "      <td>74</td>\n",
       "      <td>115926</td>\n",
       "    </tr>\n",
       "  </tbody>\n",
       "</table>\n",
       "</div>"
      ],
      "text/plain": [
       "Pred    0.0     1.0\n",
       "Label              \n",
       "0.0    4750  111250\n",
       "1.0      74  115926"
      ]
     },
     "execution_count": 42,
     "metadata": {},
     "output_type": "execute_result"
    }
   ],
   "source": [
    "pd_labels = pd.Series(labels.flatten(), name=\"Label\")\n",
    "pd_int_net_outputs = pd.Series(int_net_outputs.flatten(), name=\"Pred\")\n",
    "pd.crosstab(pd_labels, pd_int_net_outputs)"
   ]
  },
  {
   "cell_type": "code",
   "execution_count": 43,
   "metadata": {},
   "outputs": [
    {
     "name": "stdout",
     "output_type": "stream",
     "text": [
      "lat_size torch.Size([8, 125])\n",
      "misclassifications\n",
      "111324.0\n"
     ]
    }
   ],
   "source": [
    "print(f\"lat_size {lat_size}\")\n",
    "for i in range(len(target_attributes)):\n",
    "    print(f\"misclassifications\")\n",
    "    print(np.sum(int_dev))"
   ]
  },
  {
   "cell_type": "code",
   "execution_count": 44,
   "metadata": {},
   "outputs": [
    {
     "name": "stdout",
     "output_type": "stream",
     "text": [
      "[[  4750 111250]\n",
      " [    74 115926]]\n"
     ]
    },
    {
     "data": {
      "text/plain": [
       "<matplotlib.image.AxesImage at 0x7f66c4885650>"
      ]
     },
     "execution_count": 44,
     "metadata": {},
     "output_type": "execute_result"
    },
    {
     "data": {
      "image/png": "[encoded data removed]",
      "text/plain": [
       "<Figure size 2160x1440 with 1 Axes>"
      ]
     },
     "metadata": {
      "needs_background": "light"
     },
     "output_type": "display_data"
    }
   ],
   "source": [
    " \"\"\"confmat\"\"\"\n",
    "import sklearn as sk\n",
    "\n",
    "conf_mat = sk.metrics.confusion_matrix(labels, int_net_outputs)\n",
    "#conf_mat = conf_mat/len(labels)\n",
    "print(conf_mat)\n",
    "plt.imshow(conf_mat, cmap=\"BuGn\")"
   ]
  },
  {
   "cell_type": "code",
   "execution_count": 45,
   "metadata": {},
   "outputs": [
    {
     "data": {
      "text/plain": [
       "'confmat per mu'"
      ]
     },
     "execution_count": 45,
     "metadata": {},
     "output_type": "execute_result"
    }
   ],
   "source": [
    " \"\"\"confmat per mu\"\"\""
   ]
  },
  {
   "cell_type": "code",
   "execution_count": 46,
   "metadata": {},
   "outputs": [
    {
     "name": "stdout",
     "output_type": "stream",
     "text": [
      "29\n"
     ]
    }
   ],
   "source": [
    "unique_mus = np.unique(mus)\n",
    "num_mus = len(unique_mus)\n",
    "print(num_mus)"
   ]
  },
  {
   "cell_type": "code",
   "execution_count": 47,
   "metadata": {},
   "outputs": [],
   "source": [
    "mu_labels = []\n",
    "mu_int_net_outputs = []\n",
    "mu_conf_mats = []"
   ]
  },
  {
   "cell_type": "code",
   "execution_count": 48,
   "metadata": {},
   "outputs": [
    {
     "name": "stdout",
     "output_type": "stream",
     "text": [
      "[[ 764 3236]\n",
      " [  18 3982]]\n",
      "\n",
      "\n",
      "[[ 756 3244]\n",
      " [  10 3990]]\n",
      "\n",
      "\n",
      "[[ 680 3320]\n",
      " [  20 3980]]\n",
      "\n",
      "\n",
      "[[ 701 3299]\n",
      " [   8 3992]]\n",
      "\n",
      "\n",
      "[[ 594 3406]\n",
      " [   1 3999]]\n",
      "\n",
      "\n",
      "[[ 449 3551]\n",
      " [   5 3995]]\n",
      "\n",
      "\n",
      "[[ 292 3708]\n",
      " [   8 3992]]\n",
      "\n",
      "\n",
      "[[ 233 3767]\n",
      " [   1 3999]]\n",
      "\n",
      "\n",
      "[[ 129 3871]\n",
      " [   0 4000]]\n",
      "\n",
      "\n",
      "[[  72 3928]\n",
      " [   3 3997]]\n",
      "\n",
      "\n",
      "[[  42 3958]\n",
      " [   0 4000]]\n",
      "\n",
      "\n",
      "[[   9 3991]\n",
      " [   0 4000]]\n",
      "\n",
      "\n",
      "[[   8 3992]\n",
      " [   0 4000]]\n",
      "\n",
      "\n",
      "[[   3 3997]\n",
      " [   0 4000]]\n",
      "\n",
      "\n",
      "[[   2 3998]\n",
      " [   0 4000]]\n",
      "\n",
      "\n",
      "[[   3 3997]\n",
      " [   0 4000]]\n",
      "\n",
      "\n",
      "[[   2 3998]\n",
      " [   0 4000]]\n",
      "\n",
      "\n",
      "[[   0 4000]\n",
      " [   0 4000]]\n",
      "\n",
      "\n",
      "[[   1 3999]\n",
      " [   0 4000]]\n",
      "\n",
      "\n",
      "[[   1 3999]\n",
      " [   0 4000]]\n",
      "\n",
      "\n",
      "[[   1 3999]\n",
      " [   0 4000]]\n",
      "\n",
      "\n",
      "[[   2 3998]\n",
      " [   0 4000]]\n",
      "\n",
      "\n",
      "[[   2 3998]\n",
      " [   0 4000]]\n",
      "\n",
      "\n",
      "[[   1 3999]\n",
      " [   0 4000]]\n",
      "\n",
      "\n",
      "[[   1 3999]\n",
      " [   0 4000]]\n",
      "\n",
      "\n",
      "[[   1 3999]\n",
      " [   0 4000]]\n",
      "\n",
      "\n",
      "[[   0 4000]\n",
      " [   0 4000]]\n",
      "\n",
      "\n",
      "[[   1 3999]\n",
      " [   0 4000]]\n",
      "\n",
      "\n",
      "[[   0 4000]\n",
      " [   0 4000]]\n",
      "\n",
      "\n"
     ]
    }
   ],
   "source": [
    "for mu_val in unique_mus:\n",
    "    mu_loc = np.where(mus == mu_val)[0]\n",
    "    \n",
    "    mu_label = labels[mu_loc]\n",
    "    mu_int_net_output = int_net_outputs[mu_loc]\n",
    "    \n",
    "    mu_labels.append(mu_label)\n",
    "    mu_int_net_outputs.append(mu_int_net_output)\n",
    "    mu_conf_mat = sk.metrics.confusion_matrix(mu_label, mu_int_net_output)\n",
    "    mu_conf_mats.append(mu_conf_mat)\n",
    "    \n",
    "for mu_i in range(num_mus):\n",
    "    print(mu_conf_mats[mu_i])\n",
    "    print(\"\\n\")"
   ]
  },
  {
   "cell_type": "code",
   "execution_count": 49,
   "metadata": {},
   "outputs": [
    {
     "data": {
      "text/plain": [
       "<matplotlib.image.AxesImage at 0x7f66d4377b50>"
      ]
     },
     "execution_count": 49,
     "metadata": {},
     "output_type": "execute_result"
    },
    {
     "data": {
      "image/png": "[encoded data removed]",
      "text/plain": [
       "<Figure size 2160x1440 with 1 Axes>"
      ]
     },
     "metadata": {
      "needs_background": "light"
     },
     "output_type": "display_data"
    }
   ],
   "source": [
    "plt.imshow(mu_conf_mats[1], cmap=\"BuGn\")"
   ]
  },
  {
   "cell_type": "code",
   "execution_count": 50,
   "metadata": {},
   "outputs": [
    {
     "data": {
      "image/png": "[encoded data removed]",
      "text/plain": [
       "<Figure size 2160x1440 with 29 Axes>"
      ]
     },
     "metadata": {
      "needs_background": "light"
     },
     "output_type": "display_data"
    }
   ],
   "source": [
    "plt.rcParams['figure.figsize'] = [30, 20]\n",
    "fig, ax = plt.subplots(nrows=1, ncols=num_mus)\n",
    "\n",
    "for i in range(len(ax)):\n",
    "    ax[i].imshow(mu_conf_mats[i], cmap=\"BuGn\")\n",
    "    "
   ]
  },
  {
   "cell_type": "code",
   "execution_count": null,
   "metadata": {},
   "outputs": [],
   "source": []
  },
  {
   "cell_type": "code",
   "execution_count": 51,
   "metadata": {},
   "outputs": [
    {
     "name": "stdout",
     "output_type": "stream",
     "text": [
      "found file 58 paths:\n",
      "['/media/data/sbulusu/datasets/complexworm/dat_files/Multi_lattice_open_worms/open_configs-200-10-4.010-1.000-0.965.dat', '/media/data/sbulusu/datasets/complexworm/dat_files/Multi_lattice_open_worms/open_configs-200-10-4.010-1.000-0.975.dat', '/media/data/sbulusu/datasets/complexworm/dat_files/Multi_lattice_open_worms/open_configs-200-10-4.010-1.000-0.910.dat', '/media/data/sbulusu/datasets/complexworm/dat_files/Multi_lattice_open_worms/open_configs-200-10-4.010-1.000-0.915.dat', '/media/data/sbulusu/datasets/complexworm/dat_files/Multi_lattice_open_worms/open_configs-200-10-4.010-1.000-1.025.dat', '/media/data/sbulusu/datasets/complexworm/dat_files/Multi_lattice_open_worms/open_configs-200-10-4.010-1.000-0.980.dat', '/media/data/sbulusu/datasets/complexworm/dat_files/Multi_lattice_open_worms/open_configs-200-10-4.010-1.000-0.925.dat', '/media/data/sbulusu/datasets/complexworm/dat_files/Multi_lattice_open_worms/open_configs-200-10-4.010-1.000-1.050.dat', '/media/data/sbulusu/datasets/complexworm/dat_files/Multi_lattice_open_worms/open_configs-200-10-4.010-1.000-1.045.dat', '/media/data/sbulusu/datasets/complexworm/dat_files/Multi_lattice_open_worms/open_configs-200-10-4.010-1.000-0.990.dat', '/media/data/sbulusu/datasets/complexworm/dat_files/Multi_lattice_open_worms/open_configs-200-10-4.010-1.000-1.030.dat', '/media/data/sbulusu/datasets/complexworm/dat_files/Multi_lattice_open_worms/open_configs-200-10-4.010-1.000-0.955.dat', '/media/data/sbulusu/datasets/complexworm/dat_files/Multi_lattice_open_worms/open_configs-200-10-4.010-1.000-0.950.dat', '/media/data/sbulusu/datasets/complexworm/dat_files/Multi_lattice_open_worms/open_configs-200-10-4.010-1.000-0.920.dat', '/media/data/sbulusu/datasets/complexworm/dat_files/Multi_lattice_open_worms/open_configs-200-10-4.010-1.000-0.945.dat', '/media/data/sbulusu/datasets/complexworm/dat_files/Multi_lattice_open_worms/open_configs-200-10-4.010-1.000-0.930.dat', '/media/data/sbulusu/datasets/complexworm/dat_files/Multi_lattice_open_worms/open_configs-200-10-4.010-1.000-0.960.dat', '/media/data/sbulusu/datasets/complexworm/dat_files/Multi_lattice_open_worms/open_configs-200-10-4.010-1.000-0.995.dat', '/media/data/sbulusu/datasets/complexworm/dat_files/Multi_lattice_open_worms/open_configs-200-10-4.010-1.000-1.040.dat', '/media/data/sbulusu/datasets/complexworm/dat_files/Multi_lattice_open_worms/open_configs-200-10-4.010-1.000-0.935.dat', '/media/data/sbulusu/datasets/complexworm/dat_files/Multi_lattice_open_worms/open_configs-200-10-4.010-1.000-1.020.dat', '/media/data/sbulusu/datasets/complexworm/dat_files/Multi_lattice_open_worms/open_configs-200-10-4.010-1.000-1.035.dat', '/media/data/sbulusu/datasets/complexworm/dat_files/Multi_lattice_open_worms/open_configs-200-10-4.010-1.000-0.970.dat', '/media/data/sbulusu/datasets/complexworm/dat_files/Multi_lattice_open_worms/open_configs-200-10-4.010-1.000-1.000.dat', '/media/data/sbulusu/datasets/complexworm/dat_files/Multi_lattice_open_worms/open_configs-200-10-4.010-1.000-1.005.dat', '/media/data/sbulusu/datasets/complexworm/dat_files/Multi_lattice_open_worms/open_configs-200-10-4.010-1.000-0.985.dat', '/media/data/sbulusu/datasets/complexworm/dat_files/Multi_lattice_open_worms/open_configs-200-10-4.010-1.000-0.940.dat', '/media/data/sbulusu/datasets/complexworm/dat_files/Multi_lattice_open_worms/open_configs-200-10-4.010-1.000-1.010.dat', '/media/data/sbulusu/datasets/complexworm/dat_files/Multi_lattice_open_worms/open_configs-200-10-4.010-1.000-1.015.dat', '/media/data/sbulusu/datasets/complexworm/dat_files/Multi_lattice_closed_worms/configs-200-10-4.010-1.000-0.945.dat', '/media/data/sbulusu/datasets/complexworm/dat_files/Multi_lattice_closed_worms/configs-200-10-4.010-1.000-0.925.dat', '/media/data/sbulusu/datasets/complexworm/dat_files/Multi_lattice_closed_worms/configs-200-10-4.010-1.000-0.970.dat', '/media/data/sbulusu/datasets/complexworm/dat_files/Multi_lattice_closed_worms/configs-200-10-4.010-1.000-0.975.dat', '/media/data/sbulusu/datasets/complexworm/dat_files/Multi_lattice_closed_worms/configs-200-10-4.010-1.000-0.950.dat', '/media/data/sbulusu/datasets/complexworm/dat_files/Multi_lattice_closed_worms/configs-200-10-4.010-1.000-0.915.dat', '/media/data/sbulusu/datasets/complexworm/dat_files/Multi_lattice_closed_worms/configs-200-10-4.010-1.000-0.995.dat', '/media/data/sbulusu/datasets/complexworm/dat_files/Multi_lattice_closed_worms/configs-200-10-4.010-1.000-1.010.dat', '/media/data/sbulusu/datasets/complexworm/dat_files/Multi_lattice_closed_worms/configs-200-10-4.010-1.000-0.935.dat', '/media/data/sbulusu/datasets/complexworm/dat_files/Multi_lattice_closed_worms/configs-200-10-4.010-1.000-0.930.dat', '/media/data/sbulusu/datasets/complexworm/dat_files/Multi_lattice_closed_worms/configs-200-10-4.010-1.000-1.015.dat', '/media/data/sbulusu/datasets/complexworm/dat_files/Multi_lattice_closed_worms/configs-200-10-4.010-1.000-1.045.dat', '/media/data/sbulusu/datasets/complexworm/dat_files/Multi_lattice_closed_worms/configs-200-10-4.010-1.000-1.035.dat', '/media/data/sbulusu/datasets/complexworm/dat_files/Multi_lattice_closed_worms/configs-200-10-4.010-1.000-0.965.dat', '/media/data/sbulusu/datasets/complexworm/dat_files/Multi_lattice_closed_worms/configs-200-10-4.010-1.000-1.005.dat', '/media/data/sbulusu/datasets/complexworm/dat_files/Multi_lattice_closed_worms/configs-200-10-4.010-1.000-0.985.dat', '/media/data/sbulusu/datasets/complexworm/dat_files/Multi_lattice_closed_worms/configs-200-10-4.010-1.000-0.955.dat', '/media/data/sbulusu/datasets/complexworm/dat_files/Multi_lattice_closed_worms/configs-200-10-4.010-1.000-1.030.dat', '/media/data/sbulusu/datasets/complexworm/dat_files/Multi_lattice_closed_worms/configs-200-10-4.010-1.000-0.940.dat', '/media/data/sbulusu/datasets/complexworm/dat_files/Multi_lattice_closed_worms/configs-200-10-4.010-1.000-0.960.dat', '/media/data/sbulusu/datasets/complexworm/dat_files/Multi_lattice_closed_worms/configs-200-10-4.010-1.000-1.025.dat', '/media/data/sbulusu/datasets/complexworm/dat_files/Multi_lattice_closed_worms/configs-200-10-4.010-1.000-1.040.dat', '/media/data/sbulusu/datasets/complexworm/dat_files/Multi_lattice_closed_worms/configs-200-10-4.010-1.000-0.980.dat', '/media/data/sbulusu/datasets/complexworm/dat_files/Multi_lattice_closed_worms/configs-200-10-4.010-1.000-0.910.dat', '/media/data/sbulusu/datasets/complexworm/dat_files/Multi_lattice_closed_worms/configs-200-10-4.010-1.000-0.990.dat', '/media/data/sbulusu/datasets/complexworm/dat_files/Multi_lattice_closed_worms/configs-200-10-4.010-1.000-0.920.dat', '/media/data/sbulusu/datasets/complexworm/dat_files/Multi_lattice_closed_worms/configs-200-10-4.010-1.000-1.050.dat', '/media/data/sbulusu/datasets/complexworm/dat_files/Multi_lattice_closed_worms/configs-200-10-4.010-1.000-1.020.dat', '/media/data/sbulusu/datasets/complexworm/dat_files/Multi_lattice_closed_worms/configs-200-10-4.010-1.000-1.000.dat']\n"
     ]
    },
    {
     "data": {
      "application/vnd.jupyter.widget-view+json": {
       "model_id": "3913c587f66f438fbd548f401783e151",
       "version_major": 2,
       "version_minor": 0
      },
      "text/plain": [
       "HBox(children=(FloatProgress(value=0.0, max=58.0), HTML(value='')))"
      ]
     },
     "metadata": {},
     "output_type": "display_data"
    },
    {
     "name": "stdout",
     "output_type": "stream",
     "text": [
      "Processing conf file /media/data/sbulusu/datasets/complexworm/dat_files/Multi_lattice_open_worms/open_configs-200-10-4.010-1.000-0.965.dat\n",
      "['open_configs', '200', '10', '4.010', '1.000', '0.965']\n",
      "loaded file name labels ['nt', 'nx', 'eta', 'lambda', 'mu']\n",
      "First read conf file /media/data/sbulusu/datasets/complexworm/dat_files/Multi_lattice_open_worms/open_configs-200-10-4.010-1.000-0.965.dat with size :torch.Size([4000, 4, 10, 200])\n",
      "Read conf file /media/data/sbulusu/datasets/complexworm/dat_files/Multi_lattice_open_worms/open_configs-200-10-4.010-1.000-0.965.dat with size :torch.Size([4000, 4, 10, 200])\n",
      "Loading 4000 confs\n"
     ]
    },
    {
     "data": {
      "application/vnd.jupyter.widget-view+json": {
       "model_id": "64b072412dd149f7a39b850d490c0964",
       "version_major": 2,
       "version_minor": 0
      },
      "text/plain": [
       "HBox(children=(FloatProgress(value=0.0, max=4000.0), HTML(value='')))"
      ]
     },
     "metadata": {},
     "output_type": "display_data"
    },
    {
     "name": "stdout",
     "output_type": "stream",
     "text": [
      "first example loaded:\n",
      "{'conf': tensor([[[ 1,  1,  0,  ...,  0,  0,  0],\n",
      "         [ 0,  0,  0,  ...,  0,  0,  1],\n",
      "         [ 0,  0,  0,  ...,  0,  0,  0],\n",
      "         ...,\n",
      "         [ 0,  0,  0,  ...,  0,  0,  0],\n",
      "         [ 0,  0,  1,  ...,  0,  0,  0],\n",
      "         [ 0,  0,  0,  ...,  0,  0,  0]],\n",
      "\n",
      "        [[-1,  0,  0,  ...,  0,  0,  0],\n",
      "         [ 0,  0,  0,  ...,  0,  0, -1],\n",
      "         [ 0,  0,  0,  ...,  0,  0, -1],\n",
      "         ...,\n",
      "         [ 0,  0,  0,  ...,  0,  0,  0],\n",
      "         [ 0,  0, -1,  ...,  0,  0,  0],\n",
      "         [ 0,  0, -1,  ...,  0,  0,  0]],\n",
      "\n",
      "        [[ 0,  0,  0,  ...,  0,  0,  0],\n",
      "         [ 0,  0,  0,  ...,  0,  0,  0],\n",
      "         [ 0,  0,  0,  ...,  0,  0,  0],\n",
      "         ...,\n",
      "         [ 0,  0,  0,  ...,  0,  0,  0],\n",
      "         [ 0,  0,  0,  ...,  1,  0,  0],\n",
      "         [ 0,  1,  0,  ...,  0,  0,  0]],\n",
      "\n",
      "        [[ 1,  0,  0,  ...,  0,  0,  0],\n",
      "         [ 0,  0,  0,  ...,  0,  1,  0],\n",
      "         [ 0,  0,  0,  ...,  0,  0,  0],\n",
      "         ...,\n",
      "         [ 0,  0,  0,  ...,  0,  0,  0],\n",
      "         [ 0,  0,  0,  ...,  1,  1,  0],\n",
      "         [ 0,  0,  1,  ...,  1,  0,  0]]]), 'mu': 0.965, 'open': True, 'nt': 200.0, 'nx': 10.0, 'eta': 4.01, 'lambda': 1.0, 'phase': tensor(1.), 'id': 0}\n",
      "\n",
      "Processing conf file /media/data/sbulusu/datasets/complexworm/dat_files/Multi_lattice_open_worms/open_configs-200-10-4.010-1.000-0.975.dat\n",
      "['open_configs', '200', '10', '4.010', '1.000', '0.975']\n",
      "loaded file name labels ['nt', 'nx', 'eta', 'lambda', 'mu']\n",
      "First read conf file /media/data/sbulusu/datasets/complexworm/dat_files/Multi_lattice_open_worms/open_configs-200-10-4.010-1.000-0.975.dat with size :torch.Size([4000, 4, 10, 200])\n",
      "Read conf file /media/data/sbulusu/datasets/complexworm/dat_files/Multi_lattice_open_worms/open_configs-200-10-4.010-1.000-0.975.dat with size :torch.Size([4000, 4, 10, 200])\n",
      "Loading 4000 confs\n"
     ]
    },
    {
     "data": {
      "application/vnd.jupyter.widget-view+json": {
       "model_id": "a7d276e31b254e50834a19abba729a40",
       "version_major": 2,
       "version_minor": 0
      },
      "text/plain": [
       "HBox(children=(FloatProgress(value=0.0, max=4000.0), HTML(value='')))"
      ]
     },
     "metadata": {},
     "output_type": "display_data"
    },
    {
     "name": "stdout",
     "output_type": "stream",
     "text": [
      "\n",
      "Processing conf file /media/data/sbulusu/datasets/complexworm/dat_files/Multi_lattice_open_worms/open_configs-200-10-4.010-1.000-0.910.dat\n",
      "['open_configs', '200', '10', '4.010', '1.000', '0.910']\n",
      "loaded file name labels ['nt', 'nx', 'eta', 'lambda', 'mu']\n",
      "First read conf file /media/data/sbulusu/datasets/complexworm/dat_files/Multi_lattice_open_worms/open_configs-200-10-4.010-1.000-0.910.dat with size :torch.Size([4000, 4, 10, 200])\n",
      "Read conf file /media/data/sbulusu/datasets/complexworm/dat_files/Multi_lattice_open_worms/open_configs-200-10-4.010-1.000-0.910.dat with size :torch.Size([4000, 4, 10, 200])\n",
      "Loading 4000 confs\n"
     ]
    },
    {
     "data": {
      "application/vnd.jupyter.widget-view+json": {
       "model_id": "3124a89a92e540fc8d949336b46cdba2",
       "version_major": 2,
       "version_minor": 0
      },
      "text/plain": [
       "HBox(children=(FloatProgress(value=0.0, max=4000.0), HTML(value='')))"
      ]
     },
     "metadata": {},
     "output_type": "display_data"
    },
    {
     "name": "stdout",
     "output_type": "stream",
     "text": [
      "\n",
      "Processing conf file /media/data/sbulusu/datasets/complexworm/dat_files/Multi_lattice_open_worms/open_configs-200-10-4.010-1.000-0.915.dat\n",
      "['open_configs', '200', '10', '4.010', '1.000', '0.915']\n",
      "loaded file name labels ['nt', 'nx', 'eta', 'lambda', 'mu']\n",
      "First read conf file /media/data/sbulusu/datasets/complexworm/dat_files/Multi_lattice_open_worms/open_configs-200-10-4.010-1.000-0.915.dat with size :torch.Size([4000, 4, 10, 200])\n",
      "Read conf file /media/data/sbulusu/datasets/complexworm/dat_files/Multi_lattice_open_worms/open_configs-200-10-4.010-1.000-0.915.dat with size :torch.Size([4000, 4, 10, 200])\n",
      "Loading 4000 confs\n"
     ]
    },
    {
     "data": {
      "application/vnd.jupyter.widget-view+json": {
       "model_id": "1df2624366b54cdf8875c1080ccc3b97",
       "version_major": 2,
       "version_minor": 0
      },
      "text/plain": [
       "HBox(children=(FloatProgress(value=0.0, max=4000.0), HTML(value='')))"
      ]
     },
     "metadata": {},
     "output_type": "display_data"
    },
    {
     "name": "stdout",
     "output_type": "stream",
     "text": [
      "\n",
      "Processing conf file /media/data/sbulusu/datasets/complexworm/dat_files/Multi_lattice_open_worms/open_configs-200-10-4.010-1.000-1.025.dat\n",
      "['open_configs', '200', '10', '4.010', '1.000', '1.025']\n",
      "loaded file name labels ['nt', 'nx', 'eta', 'lambda', 'mu']\n",
      "First read conf file /media/data/sbulusu/datasets/complexworm/dat_files/Multi_lattice_open_worms/open_configs-200-10-4.010-1.000-1.025.dat with size :torch.Size([4000, 4, 10, 200])\n",
      "Read conf file /media/data/sbulusu/datasets/complexworm/dat_files/Multi_lattice_open_worms/open_configs-200-10-4.010-1.000-1.025.dat with size :torch.Size([4000, 4, 10, 200])\n",
      "Loading 4000 confs\n"
     ]
    },
    {
     "data": {
      "application/vnd.jupyter.widget-view+json": {
       "model_id": "e79356de7bd7497da7567d498f389eae",
       "version_major": 2,
       "version_minor": 0
      },
      "text/plain": [
       "HBox(children=(FloatProgress(value=0.0, max=4000.0), HTML(value='')))"
      ]
     },
     "metadata": {},
     "output_type": "display_data"
    },
    {
     "name": "stdout",
     "output_type": "stream",
     "text": [
      "\n",
      "Processing conf file /media/data/sbulusu/datasets/complexworm/dat_files/Multi_lattice_open_worms/open_configs-200-10-4.010-1.000-0.980.dat\n",
      "['open_configs', '200', '10', '4.010', '1.000', '0.980']\n",
      "loaded file name labels ['nt', 'nx', 'eta', 'lambda', 'mu']\n",
      "First read conf file /media/data/sbulusu/datasets/complexworm/dat_files/Multi_lattice_open_worms/open_configs-200-10-4.010-1.000-0.980.dat with size :torch.Size([4000, 4, 10, 200])\n",
      "Read conf file /media/data/sbulusu/datasets/complexworm/dat_files/Multi_lattice_open_worms/open_configs-200-10-4.010-1.000-0.980.dat with size :torch.Size([4000, 4, 10, 200])\n",
      "Loading 4000 confs\n"
     ]
    },
    {
     "data": {
      "application/vnd.jupyter.widget-view+json": {
       "model_id": "ddd38888044c4cd2a7146106358224c8",
       "version_major": 2,
       "version_minor": 0
      },
      "text/plain": [
       "HBox(children=(FloatProgress(value=0.0, max=4000.0), HTML(value='')))"
      ]
     },
     "metadata": {},
     "output_type": "display_data"
    },
    {
     "name": "stdout",
     "output_type": "stream",
     "text": [
      "\n",
      "Processing conf file /media/data/sbulusu/datasets/complexworm/dat_files/Multi_lattice_open_worms/open_configs-200-10-4.010-1.000-0.925.dat\n",
      "['open_configs', '200', '10', '4.010', '1.000', '0.925']\n",
      "loaded file name labels ['nt', 'nx', 'eta', 'lambda', 'mu']\n",
      "First read conf file /media/data/sbulusu/datasets/complexworm/dat_files/Multi_lattice_open_worms/open_configs-200-10-4.010-1.000-0.925.dat with size :torch.Size([4000, 4, 10, 200])\n",
      "Read conf file /media/data/sbulusu/datasets/complexworm/dat_files/Multi_lattice_open_worms/open_configs-200-10-4.010-1.000-0.925.dat with size :torch.Size([4000, 4, 10, 200])\n",
      "Loading 4000 confs\n"
     ]
    },
    {
     "data": {
      "application/vnd.jupyter.widget-view+json": {
       "model_id": "9d69c74b7f53461b9ff531dac7b10dd1",
       "version_major": 2,
       "version_minor": 0
      },
      "text/plain": [
       "HBox(children=(FloatProgress(value=0.0, max=4000.0), HTML(value='')))"
      ]
     },
     "metadata": {},
     "output_type": "display_data"
    },
    {
     "name": "stdout",
     "output_type": "stream",
     "text": [
      "\n",
      "Processing conf file /media/data/sbulusu/datasets/complexworm/dat_files/Multi_lattice_open_worms/open_configs-200-10-4.010-1.000-1.050.dat\n",
      "['open_configs', '200', '10', '4.010', '1.000', '1.050']\n",
      "loaded file name labels ['nt', 'nx', 'eta', 'lambda', 'mu']\n",
      "First read conf file /media/data/sbulusu/datasets/complexworm/dat_files/Multi_lattice_open_worms/open_configs-200-10-4.010-1.000-1.050.dat with size :torch.Size([4000, 4, 10, 200])\n",
      "Read conf file /media/data/sbulusu/datasets/complexworm/dat_files/Multi_lattice_open_worms/open_configs-200-10-4.010-1.000-1.050.dat with size :torch.Size([4000, 4, 10, 200])\n",
      "Loading 4000 confs\n"
     ]
    },
    {
     "data": {
      "application/vnd.jupyter.widget-view+json": {
       "model_id": "2512ab810a874688ba6b90869c0f8bc7",
       "version_major": 2,
       "version_minor": 0
      },
      "text/plain": [
       "HBox(children=(FloatProgress(value=0.0, max=4000.0), HTML(value='')))"
      ]
     },
     "metadata": {},
     "output_type": "display_data"
    },
    {
     "name": "stdout",
     "output_type": "stream",
     "text": [
      "\n",
      "Processing conf file /media/data/sbulusu/datasets/complexworm/dat_files/Multi_lattice_open_worms/open_configs-200-10-4.010-1.000-1.045.dat\n",
      "['open_configs', '200', '10', '4.010', '1.000', '1.045']\n",
      "loaded file name labels ['nt', 'nx', 'eta', 'lambda', 'mu']\n",
      "First read conf file /media/data/sbulusu/datasets/complexworm/dat_files/Multi_lattice_open_worms/open_configs-200-10-4.010-1.000-1.045.dat with size :torch.Size([4000, 4, 10, 200])\n",
      "Read conf file /media/data/sbulusu/datasets/complexworm/dat_files/Multi_lattice_open_worms/open_configs-200-10-4.010-1.000-1.045.dat with size :torch.Size([4000, 4, 10, 200])\n",
      "Loading 4000 confs\n"
     ]
    },
    {
     "data": {
      "application/vnd.jupyter.widget-view+json": {
       "model_id": "1ab37911559e446db2376c520c20689d",
       "version_major": 2,
       "version_minor": 0
      },
      "text/plain": [
       "HBox(children=(FloatProgress(value=0.0, max=4000.0), HTML(value='')))"
      ]
     },
     "metadata": {},
     "output_type": "display_data"
    },
    {
     "name": "stdout",
     "output_type": "stream",
     "text": [
      "\n",
      "Processing conf file /media/data/sbulusu/datasets/complexworm/dat_files/Multi_lattice_open_worms/open_configs-200-10-4.010-1.000-0.990.dat\n",
      "['open_configs', '200', '10', '4.010', '1.000', '0.990']\n",
      "loaded file name labels ['nt', 'nx', 'eta', 'lambda', 'mu']\n",
      "First read conf file /media/data/sbulusu/datasets/complexworm/dat_files/Multi_lattice_open_worms/open_configs-200-10-4.010-1.000-0.990.dat with size :torch.Size([4000, 4, 10, 200])\n",
      "Read conf file /media/data/sbulusu/datasets/complexworm/dat_files/Multi_lattice_open_worms/open_configs-200-10-4.010-1.000-0.990.dat with size :torch.Size([4000, 4, 10, 200])\n",
      "Loading 4000 confs\n"
     ]
    },
    {
     "data": {
      "application/vnd.jupyter.widget-view+json": {
       "model_id": "c622a93cc60e44c1be99629077a09044",
       "version_major": 2,
       "version_minor": 0
      },
      "text/plain": [
       "HBox(children=(FloatProgress(value=0.0, max=4000.0), HTML(value='')))"
      ]
     },
     "metadata": {},
     "output_type": "display_data"
    },
    {
     "name": "stdout",
     "output_type": "stream",
     "text": [
      "\n",
      "Processing conf file /media/data/sbulusu/datasets/complexworm/dat_files/Multi_lattice_open_worms/open_configs-200-10-4.010-1.000-1.030.dat\n",
      "['open_configs', '200', '10', '4.010', '1.000', '1.030']\n",
      "loaded file name labels ['nt', 'nx', 'eta', 'lambda', 'mu']\n",
      "First read conf file /media/data/sbulusu/datasets/complexworm/dat_files/Multi_lattice_open_worms/open_configs-200-10-4.010-1.000-1.030.dat with size :torch.Size([4000, 4, 10, 200])\n",
      "Read conf file /media/data/sbulusu/datasets/complexworm/dat_files/Multi_lattice_open_worms/open_configs-200-10-4.010-1.000-1.030.dat with size :torch.Size([4000, 4, 10, 200])\n",
      "Loading 4000 confs\n"
     ]
    },
    {
     "data": {
      "application/vnd.jupyter.widget-view+json": {
       "model_id": "44ba754152314ababa85d213940505bb",
       "version_major": 2,
       "version_minor": 0
      },
      "text/plain": [
       "HBox(children=(FloatProgress(value=0.0, max=4000.0), HTML(value='')))"
      ]
     },
     "metadata": {},
     "output_type": "display_data"
    },
    {
     "name": "stdout",
     "output_type": "stream",
     "text": [
      "\n",
      "Processing conf file /media/data/sbulusu/datasets/complexworm/dat_files/Multi_lattice_open_worms/open_configs-200-10-4.010-1.000-0.955.dat\n",
      "['open_configs', '200', '10', '4.010', '1.000', '0.955']\n",
      "loaded file name labels ['nt', 'nx', 'eta', 'lambda', 'mu']\n",
      "First read conf file /media/data/sbulusu/datasets/complexworm/dat_files/Multi_lattice_open_worms/open_configs-200-10-4.010-1.000-0.955.dat with size :torch.Size([4000, 4, 10, 200])\n",
      "Read conf file /media/data/sbulusu/datasets/complexworm/dat_files/Multi_lattice_open_worms/open_configs-200-10-4.010-1.000-0.955.dat with size :torch.Size([4000, 4, 10, 200])\n",
      "Loading 4000 confs\n"
     ]
    },
    {
     "data": {
      "application/vnd.jupyter.widget-view+json": {
       "model_id": "fd7d9cf4a0864530bf42d74badf6fb02",
       "version_major": 2,
       "version_minor": 0
      },
      "text/plain": [
       "HBox(children=(FloatProgress(value=0.0, max=4000.0), HTML(value='')))"
      ]
     },
     "metadata": {},
     "output_type": "display_data"
    },
    {
     "name": "stdout",
     "output_type": "stream",
     "text": [
      "\n",
      "Processing conf file /media/data/sbulusu/datasets/complexworm/dat_files/Multi_lattice_open_worms/open_configs-200-10-4.010-1.000-0.950.dat\n",
      "['open_configs', '200', '10', '4.010', '1.000', '0.950']\n",
      "loaded file name labels ['nt', 'nx', 'eta', 'lambda', 'mu']\n",
      "First read conf file /media/data/sbulusu/datasets/complexworm/dat_files/Multi_lattice_open_worms/open_configs-200-10-4.010-1.000-0.950.dat with size :torch.Size([4000, 4, 10, 200])\n",
      "Read conf file /media/data/sbulusu/datasets/complexworm/dat_files/Multi_lattice_open_worms/open_configs-200-10-4.010-1.000-0.950.dat with size :torch.Size([4000, 4, 10, 200])\n",
      "Loading 4000 confs\n"
     ]
    },
    {
     "data": {
      "application/vnd.jupyter.widget-view+json": {
       "model_id": "bd6338f1243e4461a52fce2bb15cee88",
       "version_major": 2,
       "version_minor": 0
      },
      "text/plain": [
       "HBox(children=(FloatProgress(value=0.0, max=4000.0), HTML(value='')))"
      ]
     },
     "metadata": {},
     "output_type": "display_data"
    },
    {
     "name": "stdout",
     "output_type": "stream",
     "text": [
      "\n",
      "Processing conf file /media/data/sbulusu/datasets/complexworm/dat_files/Multi_lattice_open_worms/open_configs-200-10-4.010-1.000-0.920.dat\n",
      "['open_configs', '200', '10', '4.010', '1.000', '0.920']\n",
      "loaded file name labels ['nt', 'nx', 'eta', 'lambda', 'mu']\n",
      "First read conf file /media/data/sbulusu/datasets/complexworm/dat_files/Multi_lattice_open_worms/open_configs-200-10-4.010-1.000-0.920.dat with size :torch.Size([4000, 4, 10, 200])\n",
      "Read conf file /media/data/sbulusu/datasets/complexworm/dat_files/Multi_lattice_open_worms/open_configs-200-10-4.010-1.000-0.920.dat with size :torch.Size([4000, 4, 10, 200])\n",
      "Loading 4000 confs\n"
     ]
    },
    {
     "data": {
      "application/vnd.jupyter.widget-view+json": {
       "model_id": "fbd3fa23cfd1403a83d9d2d022023e6e",
       "version_major": 2,
       "version_minor": 0
      },
      "text/plain": [
       "HBox(children=(FloatProgress(value=0.0, max=4000.0), HTML(value='')))"
      ]
     },
     "metadata": {},
     "output_type": "display_data"
    },
    {
     "name": "stdout",
     "output_type": "stream",
     "text": [
      "\n",
      "Processing conf file /media/data/sbulusu/datasets/complexworm/dat_files/Multi_lattice_open_worms/open_configs-200-10-4.010-1.000-0.945.dat\n",
      "['open_configs', '200', '10', '4.010', '1.000', '0.945']\n",
      "loaded file name labels ['nt', 'nx', 'eta', 'lambda', 'mu']\n",
      "First read conf file /media/data/sbulusu/datasets/complexworm/dat_files/Multi_lattice_open_worms/open_configs-200-10-4.010-1.000-0.945.dat with size :torch.Size([4000, 4, 10, 200])\n",
      "Read conf file /media/data/sbulusu/datasets/complexworm/dat_files/Multi_lattice_open_worms/open_configs-200-10-4.010-1.000-0.945.dat with size :torch.Size([4000, 4, 10, 200])\n",
      "Loading 4000 confs\n"
     ]
    },
    {
     "data": {
      "application/vnd.jupyter.widget-view+json": {
       "model_id": "d11a64c2a4514aeaa1229b545b11636d",
       "version_major": 2,
       "version_minor": 0
      },
      "text/plain": [
       "HBox(children=(FloatProgress(value=0.0, max=4000.0), HTML(value='')))"
      ]
     },
     "metadata": {},
     "output_type": "display_data"
    },
    {
     "name": "stdout",
     "output_type": "stream",
     "text": [
      "\n",
      "Processing conf file /media/data/sbulusu/datasets/complexworm/dat_files/Multi_lattice_open_worms/open_configs-200-10-4.010-1.000-0.930.dat\n",
      "['open_configs', '200', '10', '4.010', '1.000', '0.930']\n",
      "loaded file name labels ['nt', 'nx', 'eta', 'lambda', 'mu']\n",
      "First read conf file /media/data/sbulusu/datasets/complexworm/dat_files/Multi_lattice_open_worms/open_configs-200-10-4.010-1.000-0.930.dat with size :torch.Size([4000, 4, 10, 200])\n",
      "Read conf file /media/data/sbulusu/datasets/complexworm/dat_files/Multi_lattice_open_worms/open_configs-200-10-4.010-1.000-0.930.dat with size :torch.Size([4000, 4, 10, 200])\n",
      "Loading 4000 confs\n"
     ]
    },
    {
     "data": {
      "application/vnd.jupyter.widget-view+json": {
       "model_id": "6904e6e5f2e748f3a05b396314d09fb3",
       "version_major": 2,
       "version_minor": 0
      },
      "text/plain": [
       "HBox(children=(FloatProgress(value=0.0, max=4000.0), HTML(value='')))"
      ]
     },
     "metadata": {},
     "output_type": "display_data"
    },
    {
     "name": "stdout",
     "output_type": "stream",
     "text": [
      "\n",
      "Processing conf file /media/data/sbulusu/datasets/complexworm/dat_files/Multi_lattice_open_worms/open_configs-200-10-4.010-1.000-0.960.dat\n",
      "['open_configs', '200', '10', '4.010', '1.000', '0.960']\n",
      "loaded file name labels ['nt', 'nx', 'eta', 'lambda', 'mu']\n",
      "First read conf file /media/data/sbulusu/datasets/complexworm/dat_files/Multi_lattice_open_worms/open_configs-200-10-4.010-1.000-0.960.dat with size :torch.Size([4000, 4, 10, 200])\n",
      "Read conf file /media/data/sbulusu/datasets/complexworm/dat_files/Multi_lattice_open_worms/open_configs-200-10-4.010-1.000-0.960.dat with size :torch.Size([4000, 4, 10, 200])\n",
      "Loading 4000 confs\n"
     ]
    },
    {
     "data": {
      "application/vnd.jupyter.widget-view+json": {
       "model_id": "0c97dd6157f242d2968dd8848f2319a4",
       "version_major": 2,
       "version_minor": 0
      },
      "text/plain": [
       "HBox(children=(FloatProgress(value=0.0, max=4000.0), HTML(value='')))"
      ]
     },
     "metadata": {},
     "output_type": "display_data"
    },
    {
     "name": "stdout",
     "output_type": "stream",
     "text": [
      "\n",
      "Processing conf file /media/data/sbulusu/datasets/complexworm/dat_files/Multi_lattice_open_worms/open_configs-200-10-4.010-1.000-0.995.dat\n",
      "['open_configs', '200', '10', '4.010', '1.000', '0.995']\n",
      "loaded file name labels ['nt', 'nx', 'eta', 'lambda', 'mu']\n",
      "First read conf file /media/data/sbulusu/datasets/complexworm/dat_files/Multi_lattice_open_worms/open_configs-200-10-4.010-1.000-0.995.dat with size :torch.Size([4000, 4, 10, 200])\n",
      "Read conf file /media/data/sbulusu/datasets/complexworm/dat_files/Multi_lattice_open_worms/open_configs-200-10-4.010-1.000-0.995.dat with size :torch.Size([4000, 4, 10, 200])\n",
      "Loading 4000 confs\n"
     ]
    },
    {
     "data": {
      "application/vnd.jupyter.widget-view+json": {
       "model_id": "652963267fbb4193a3dd095722144adc",
       "version_major": 2,
       "version_minor": 0
      },
      "text/plain": [
       "HBox(children=(FloatProgress(value=0.0, max=4000.0), HTML(value='')))"
      ]
     },
     "metadata": {},
     "output_type": "display_data"
    },
    {
     "name": "stdout",
     "output_type": "stream",
     "text": [
      "\n",
      "Processing conf file /media/data/sbulusu/datasets/complexworm/dat_files/Multi_lattice_open_worms/open_configs-200-10-4.010-1.000-1.040.dat\n",
      "['open_configs', '200', '10', '4.010', '1.000', '1.040']\n",
      "loaded file name labels ['nt', 'nx', 'eta', 'lambda', 'mu']\n",
      "First read conf file /media/data/sbulusu/datasets/complexworm/dat_files/Multi_lattice_open_worms/open_configs-200-10-4.010-1.000-1.040.dat with size :torch.Size([4000, 4, 10, 200])\n",
      "Read conf file /media/data/sbulusu/datasets/complexworm/dat_files/Multi_lattice_open_worms/open_configs-200-10-4.010-1.000-1.040.dat with size :torch.Size([4000, 4, 10, 200])\n",
      "Loading 4000 confs\n"
     ]
    },
    {
     "data": {
      "application/vnd.jupyter.widget-view+json": {
       "model_id": "625125d7e2d44812923e6984244794c0",
       "version_major": 2,
       "version_minor": 0
      },
      "text/plain": [
       "HBox(children=(FloatProgress(value=0.0, max=4000.0), HTML(value='')))"
      ]
     },
     "metadata": {},
     "output_type": "display_data"
    },
    {
     "name": "stdout",
     "output_type": "stream",
     "text": [
      "\n",
      "Processing conf file /media/data/sbulusu/datasets/complexworm/dat_files/Multi_lattice_open_worms/open_configs-200-10-4.010-1.000-0.935.dat\n",
      "['open_configs', '200', '10', '4.010', '1.000', '0.935']\n",
      "loaded file name labels ['nt', 'nx', 'eta', 'lambda', 'mu']\n",
      "First read conf file /media/data/sbulusu/datasets/complexworm/dat_files/Multi_lattice_open_worms/open_configs-200-10-4.010-1.000-0.935.dat with size :torch.Size([4000, 4, 10, 200])\n",
      "Read conf file /media/data/sbulusu/datasets/complexworm/dat_files/Multi_lattice_open_worms/open_configs-200-10-4.010-1.000-0.935.dat with size :torch.Size([4000, 4, 10, 200])\n",
      "Loading 4000 confs\n"
     ]
    },
    {
     "data": {
      "application/vnd.jupyter.widget-view+json": {
       "model_id": "80f65b91e3a146e7b3927ce8202c48f1",
       "version_major": 2,
       "version_minor": 0
      },
      "text/plain": [
       "HBox(children=(FloatProgress(value=0.0, max=4000.0), HTML(value='')))"
      ]
     },
     "metadata": {},
     "output_type": "display_data"
    },
    {
     "name": "stdout",
     "output_type": "stream",
     "text": [
      "\n",
      "Processing conf file /media/data/sbulusu/datasets/complexworm/dat_files/Multi_lattice_open_worms/open_configs-200-10-4.010-1.000-1.020.dat\n",
      "['open_configs', '200', '10', '4.010', '1.000', '1.020']\n",
      "loaded file name labels ['nt', 'nx', 'eta', 'lambda', 'mu']\n",
      "First read conf file /media/data/sbulusu/datasets/complexworm/dat_files/Multi_lattice_open_worms/open_configs-200-10-4.010-1.000-1.020.dat with size :torch.Size([4000, 4, 10, 200])\n",
      "Read conf file /media/data/sbulusu/datasets/complexworm/dat_files/Multi_lattice_open_worms/open_configs-200-10-4.010-1.000-1.020.dat with size :torch.Size([4000, 4, 10, 200])\n",
      "Loading 4000 confs\n"
     ]
    },
    {
     "data": {
      "application/vnd.jupyter.widget-view+json": {
       "model_id": "986f19cb1e334c4c843a0b81ce15d620",
       "version_major": 2,
       "version_minor": 0
      },
      "text/plain": [
       "HBox(children=(FloatProgress(value=0.0, max=4000.0), HTML(value='')))"
      ]
     },
     "metadata": {},
     "output_type": "display_data"
    },
    {
     "name": "stdout",
     "output_type": "stream",
     "text": [
      "\n",
      "Processing conf file /media/data/sbulusu/datasets/complexworm/dat_files/Multi_lattice_open_worms/open_configs-200-10-4.010-1.000-1.035.dat\n",
      "['open_configs', '200', '10', '4.010', '1.000', '1.035']\n",
      "loaded file name labels ['nt', 'nx', 'eta', 'lambda', 'mu']\n",
      "First read conf file /media/data/sbulusu/datasets/complexworm/dat_files/Multi_lattice_open_worms/open_configs-200-10-4.010-1.000-1.035.dat with size :torch.Size([4000, 4, 10, 200])\n",
      "Read conf file /media/data/sbulusu/datasets/complexworm/dat_files/Multi_lattice_open_worms/open_configs-200-10-4.010-1.000-1.035.dat with size :torch.Size([4000, 4, 10, 200])\n",
      "Loading 4000 confs\n"
     ]
    },
    {
     "data": {
      "application/vnd.jupyter.widget-view+json": {
       "model_id": "3f2b31ceab4546258cd8af0e1e4f48a7",
       "version_major": 2,
       "version_minor": 0
      },
      "text/plain": [
       "HBox(children=(FloatProgress(value=0.0, max=4000.0), HTML(value='')))"
      ]
     },
     "metadata": {},
     "output_type": "display_data"
    },
    {
     "name": "stdout",
     "output_type": "stream",
     "text": [
      "\n",
      "Processing conf file /media/data/sbulusu/datasets/complexworm/dat_files/Multi_lattice_open_worms/open_configs-200-10-4.010-1.000-0.970.dat\n",
      "['open_configs', '200', '10', '4.010', '1.000', '0.970']\n",
      "loaded file name labels ['nt', 'nx', 'eta', 'lambda', 'mu']\n",
      "First read conf file /media/data/sbulusu/datasets/complexworm/dat_files/Multi_lattice_open_worms/open_configs-200-10-4.010-1.000-0.970.dat with size :torch.Size([4000, 4, 10, 200])\n",
      "Read conf file /media/data/sbulusu/datasets/complexworm/dat_files/Multi_lattice_open_worms/open_configs-200-10-4.010-1.000-0.970.dat with size :torch.Size([4000, 4, 10, 200])\n",
      "Loading 4000 confs\n"
     ]
    },
    {
     "data": {
      "application/vnd.jupyter.widget-view+json": {
       "model_id": "9b765f38c3b14914992a4fc27c3dda19",
       "version_major": 2,
       "version_minor": 0
      },
      "text/plain": [
       "HBox(children=(FloatProgress(value=0.0, max=4000.0), HTML(value='')))"
      ]
     },
     "metadata": {},
     "output_type": "display_data"
    },
    {
     "name": "stdout",
     "output_type": "stream",
     "text": [
      "\n",
      "Processing conf file /media/data/sbulusu/datasets/complexworm/dat_files/Multi_lattice_open_worms/open_configs-200-10-4.010-1.000-1.000.dat\n",
      "['open_configs', '200', '10', '4.010', '1.000', '1.000']\n",
      "loaded file name labels ['nt', 'nx', 'eta', 'lambda', 'mu']\n",
      "First read conf file /media/data/sbulusu/datasets/complexworm/dat_files/Multi_lattice_open_worms/open_configs-200-10-4.010-1.000-1.000.dat with size :torch.Size([4000, 4, 10, 200])\n",
      "Read conf file /media/data/sbulusu/datasets/complexworm/dat_files/Multi_lattice_open_worms/open_configs-200-10-4.010-1.000-1.000.dat with size :torch.Size([4000, 4, 10, 200])\n",
      "Loading 4000 confs\n"
     ]
    },
    {
     "data": {
      "application/vnd.jupyter.widget-view+json": {
       "model_id": "5c1b2f5cb86c423cb9dc74afb0f7800a",
       "version_major": 2,
       "version_minor": 0
      },
      "text/plain": [
       "HBox(children=(FloatProgress(value=0.0, max=4000.0), HTML(value='')))"
      ]
     },
     "metadata": {},
     "output_type": "display_data"
    },
    {
     "name": "stdout",
     "output_type": "stream",
     "text": [
      "\n",
      "Processing conf file /media/data/sbulusu/datasets/complexworm/dat_files/Multi_lattice_open_worms/open_configs-200-10-4.010-1.000-1.005.dat\n",
      "['open_configs', '200', '10', '4.010', '1.000', '1.005']\n",
      "loaded file name labels ['nt', 'nx', 'eta', 'lambda', 'mu']\n",
      "First read conf file /media/data/sbulusu/datasets/complexworm/dat_files/Multi_lattice_open_worms/open_configs-200-10-4.010-1.000-1.005.dat with size :torch.Size([4000, 4, 10, 200])\n",
      "Read conf file /media/data/sbulusu/datasets/complexworm/dat_files/Multi_lattice_open_worms/open_configs-200-10-4.010-1.000-1.005.dat with size :torch.Size([4000, 4, 10, 200])\n",
      "Loading 4000 confs\n"
     ]
    },
    {
     "data": {
      "application/vnd.jupyter.widget-view+json": {
       "model_id": "dc367333593640469825745a32013914",
       "version_major": 2,
       "version_minor": 0
      },
      "text/plain": [
       "HBox(children=(FloatProgress(value=0.0, max=4000.0), HTML(value='')))"
      ]
     },
     "metadata": {},
     "output_type": "display_data"
    },
    {
     "name": "stdout",
     "output_type": "stream",
     "text": [
      "\n",
      "Processing conf file /media/data/sbulusu/datasets/complexworm/dat_files/Multi_lattice_open_worms/open_configs-200-10-4.010-1.000-0.985.dat\n",
      "['open_configs', '200', '10', '4.010', '1.000', '0.985']\n",
      "loaded file name labels ['nt', 'nx', 'eta', 'lambda', 'mu']\n",
      "First read conf file /media/data/sbulusu/datasets/complexworm/dat_files/Multi_lattice_open_worms/open_configs-200-10-4.010-1.000-0.985.dat with size :torch.Size([4000, 4, 10, 200])\n",
      "Read conf file /media/data/sbulusu/datasets/complexworm/dat_files/Multi_lattice_open_worms/open_configs-200-10-4.010-1.000-0.985.dat with size :torch.Size([4000, 4, 10, 200])\n",
      "Loading 4000 confs\n"
     ]
    },
    {
     "data": {
      "application/vnd.jupyter.widget-view+json": {
       "model_id": "000915edcb54494996ff56ca83100e61",
       "version_major": 2,
       "version_minor": 0
      },
      "text/plain": [
       "HBox(children=(FloatProgress(value=0.0, max=4000.0), HTML(value='')))"
      ]
     },
     "metadata": {},
     "output_type": "display_data"
    },
    {
     "name": "stdout",
     "output_type": "stream",
     "text": [
      "\n",
      "Processing conf file /media/data/sbulusu/datasets/complexworm/dat_files/Multi_lattice_open_worms/open_configs-200-10-4.010-1.000-0.940.dat\n",
      "['open_configs', '200', '10', '4.010', '1.000', '0.940']\n",
      "loaded file name labels ['nt', 'nx', 'eta', 'lambda', 'mu']\n",
      "First read conf file /media/data/sbulusu/datasets/complexworm/dat_files/Multi_lattice_open_worms/open_configs-200-10-4.010-1.000-0.940.dat with size :torch.Size([4000, 4, 10, 200])\n",
      "Read conf file /media/data/sbulusu/datasets/complexworm/dat_files/Multi_lattice_open_worms/open_configs-200-10-4.010-1.000-0.940.dat with size :torch.Size([4000, 4, 10, 200])\n",
      "Loading 4000 confs\n"
     ]
    },
    {
     "data": {
      "application/vnd.jupyter.widget-view+json": {
       "model_id": "ddc94f93e3804cd2b0d27be2752bac14",
       "version_major": 2,
       "version_minor": 0
      },
      "text/plain": [
       "HBox(children=(FloatProgress(value=0.0, max=4000.0), HTML(value='')))"
      ]
     },
     "metadata": {},
     "output_type": "display_data"
    },
    {
     "name": "stdout",
     "output_type": "stream",
     "text": [
      "\n",
      "Processing conf file /media/data/sbulusu/datasets/complexworm/dat_files/Multi_lattice_open_worms/open_configs-200-10-4.010-1.000-1.010.dat\n",
      "['open_configs', '200', '10', '4.010', '1.000', '1.010']\n",
      "loaded file name labels ['nt', 'nx', 'eta', 'lambda', 'mu']\n",
      "First read conf file /media/data/sbulusu/datasets/complexworm/dat_files/Multi_lattice_open_worms/open_configs-200-10-4.010-1.000-1.010.dat with size :torch.Size([4000, 4, 10, 200])\n",
      "Read conf file /media/data/sbulusu/datasets/complexworm/dat_files/Multi_lattice_open_worms/open_configs-200-10-4.010-1.000-1.010.dat with size :torch.Size([4000, 4, 10, 200])\n",
      "Loading 4000 confs\n"
     ]
    },
    {
     "data": {
      "application/vnd.jupyter.widget-view+json": {
       "model_id": "1a0a62711ea04908b020bda1de0b22ad",
       "version_major": 2,
       "version_minor": 0
      },
      "text/plain": [
       "HBox(children=(FloatProgress(value=0.0, max=4000.0), HTML(value='')))"
      ]
     },
     "metadata": {},
     "output_type": "display_data"
    },
    {
     "name": "stdout",
     "output_type": "stream",
     "text": [
      "\n",
      "Processing conf file /media/data/sbulusu/datasets/complexworm/dat_files/Multi_lattice_open_worms/open_configs-200-10-4.010-1.000-1.015.dat\n",
      "['open_configs', '200', '10', '4.010', '1.000', '1.015']\n",
      "loaded file name labels ['nt', 'nx', 'eta', 'lambda', 'mu']\n",
      "First read conf file /media/data/sbulusu/datasets/complexworm/dat_files/Multi_lattice_open_worms/open_configs-200-10-4.010-1.000-1.015.dat with size :torch.Size([4000, 4, 10, 200])\n",
      "Read conf file /media/data/sbulusu/datasets/complexworm/dat_files/Multi_lattice_open_worms/open_configs-200-10-4.010-1.000-1.015.dat with size :torch.Size([4000, 4, 10, 200])\n",
      "Loading 4000 confs\n"
     ]
    },
    {
     "data": {
      "application/vnd.jupyter.widget-view+json": {
       "model_id": "fe7932c4a7264d32a2ffae0c2af7732e",
       "version_major": 2,
       "version_minor": 0
      },
      "text/plain": [
       "HBox(children=(FloatProgress(value=0.0, max=4000.0), HTML(value='')))"
      ]
     },
     "metadata": {},
     "output_type": "display_data"
    },
    {
     "name": "stdout",
     "output_type": "stream",
     "text": [
      "\n",
      "Processing conf file /media/data/sbulusu/datasets/complexworm/dat_files/Multi_lattice_closed_worms/configs-200-10-4.010-1.000-0.945.dat\n",
      "['configs', '200', '10', '4.010', '1.000', '0.945']\n",
      "loaded file name labels ['nt', 'nx', 'eta', 'lambda', 'mu']\n",
      "First read conf file /media/data/sbulusu/datasets/complexworm/dat_files/Multi_lattice_closed_worms/configs-200-10-4.010-1.000-0.945.dat with size :torch.Size([4000, 4, 10, 200])\n",
      "Read conf file /media/data/sbulusu/datasets/complexworm/dat_files/Multi_lattice_closed_worms/configs-200-10-4.010-1.000-0.945.dat with size :torch.Size([4000, 4, 10, 200])\n",
      "Loading 4000 confs\n"
     ]
    },
    {
     "data": {
      "application/vnd.jupyter.widget-view+json": {
       "model_id": "d19a1d5dbb5940028b7caf3fe0423229",
       "version_major": 2,
       "version_minor": 0
      },
      "text/plain": [
       "HBox(children=(FloatProgress(value=0.0, max=4000.0), HTML(value='')))"
      ]
     },
     "metadata": {},
     "output_type": "display_data"
    },
    {
     "name": "stdout",
     "output_type": "stream",
     "text": [
      "\n",
      "Processing conf file /media/data/sbulusu/datasets/complexworm/dat_files/Multi_lattice_closed_worms/configs-200-10-4.010-1.000-0.925.dat\n",
      "['configs', '200', '10', '4.010', '1.000', '0.925']\n",
      "loaded file name labels ['nt', 'nx', 'eta', 'lambda', 'mu']\n",
      "First read conf file /media/data/sbulusu/datasets/complexworm/dat_files/Multi_lattice_closed_worms/configs-200-10-4.010-1.000-0.925.dat with size :torch.Size([4000, 4, 10, 200])\n",
      "Read conf file /media/data/sbulusu/datasets/complexworm/dat_files/Multi_lattice_closed_worms/configs-200-10-4.010-1.000-0.925.dat with size :torch.Size([4000, 4, 10, 200])\n",
      "Loading 4000 confs\n"
     ]
    },
    {
     "data": {
      "application/vnd.jupyter.widget-view+json": {
       "model_id": "111e9f675d754a40b3a0593a9c4688d2",
       "version_major": 2,
       "version_minor": 0
      },
      "text/plain": [
       "HBox(children=(FloatProgress(value=0.0, max=4000.0), HTML(value='')))"
      ]
     },
     "metadata": {},
     "output_type": "display_data"
    },
    {
     "name": "stdout",
     "output_type": "stream",
     "text": [
      "\n",
      "Processing conf file /media/data/sbulusu/datasets/complexworm/dat_files/Multi_lattice_closed_worms/configs-200-10-4.010-1.000-0.970.dat\n",
      "['configs', '200', '10', '4.010', '1.000', '0.970']\n",
      "loaded file name labels ['nt', 'nx', 'eta', 'lambda', 'mu']\n",
      "First read conf file /media/data/sbulusu/datasets/complexworm/dat_files/Multi_lattice_closed_worms/configs-200-10-4.010-1.000-0.970.dat with size :torch.Size([4000, 4, 10, 200])\n",
      "Read conf file /media/data/sbulusu/datasets/complexworm/dat_files/Multi_lattice_closed_worms/configs-200-10-4.010-1.000-0.970.dat with size :torch.Size([4000, 4, 10, 200])\n",
      "Loading 4000 confs\n"
     ]
    },
    {
     "data": {
      "application/vnd.jupyter.widget-view+json": {
       "model_id": "d3f029a9d43d451e98e6ad681f9237a4",
       "version_major": 2,
       "version_minor": 0
      },
      "text/plain": [
       "HBox(children=(FloatProgress(value=0.0, max=4000.0), HTML(value='')))"
      ]
     },
     "metadata": {},
     "output_type": "display_data"
    },
    {
     "name": "stdout",
     "output_type": "stream",
     "text": [
      "\n",
      "Processing conf file /media/data/sbulusu/datasets/complexworm/dat_files/Multi_lattice_closed_worms/configs-200-10-4.010-1.000-0.975.dat\n",
      "['configs', '200', '10', '4.010', '1.000', '0.975']\n",
      "loaded file name labels ['nt', 'nx', 'eta', 'lambda', 'mu']\n",
      "First read conf file /media/data/sbulusu/datasets/complexworm/dat_files/Multi_lattice_closed_worms/configs-200-10-4.010-1.000-0.975.dat with size :torch.Size([4000, 4, 10, 200])\n",
      "Read conf file /media/data/sbulusu/datasets/complexworm/dat_files/Multi_lattice_closed_worms/configs-200-10-4.010-1.000-0.975.dat with size :torch.Size([4000, 4, 10, 200])\n",
      "Loading 4000 confs\n"
     ]
    },
    {
     "data": {
      "application/vnd.jupyter.widget-view+json": {
       "model_id": "d2665e89f8dc426c88221c5c14e219ef",
       "version_major": 2,
       "version_minor": 0
      },
      "text/plain": [
       "HBox(children=(FloatProgress(value=0.0, max=4000.0), HTML(value='')))"
      ]
     },
     "metadata": {},
     "output_type": "display_data"
    },
    {
     "name": "stdout",
     "output_type": "stream",
     "text": [
      "\n",
      "Processing conf file /media/data/sbulusu/datasets/complexworm/dat_files/Multi_lattice_closed_worms/configs-200-10-4.010-1.000-0.950.dat\n",
      "['configs', '200', '10', '4.010', '1.000', '0.950']\n",
      "loaded file name labels ['nt', 'nx', 'eta', 'lambda', 'mu']\n",
      "\n"
     ]
    },
    {
     "ename": "RuntimeError",
     "evalue": "[enforce fail at CPUAllocator.cpp:64] . DefaultCPUAllocator: can't allocate memory: you tried to allocate 256000000 bytes. Error code 12 (Cannot allocate memory)\n",
     "output_type": "error",
     "traceback": [
      "\u001b[0;31m---------------------------------------------------------------------------\u001b[0m",
      "\u001b[0;31mRuntimeError\u001b[0m                              Traceback (most recent call last)",
      "\u001b[0;32m<ipython-input-51-c2c0ce6308e0>\u001b[0m in \u001b[0;36m<module>\u001b[0;34m\u001b[0m\n\u001b[1;32m     14\u001b[0m dataset = open_worm_lat_dataset_load_new_lightning_dat.kl_dataset(conf_file_dir, file_format_list,\n\u001b[1;32m     15\u001b[0m                                                               \u001b[0mlabel_names\u001b[0m\u001b[0;34m,\u001b[0m \u001b[0mlabels_in_file_name\u001b[0m\u001b[0;34m,\u001b[0m\u001b[0;34m\u001b[0m\u001b[0;34m\u001b[0m\u001b[0m\n\u001b[0;32m---> 16\u001b[0;31m                                                               transform=None)\n\u001b[0m",
      "\u001b[0;32m~/qcd_ml/neural_networks/libs/open_worm_lat_dataset_load_new_lightning_dat.py\u001b[0m in \u001b[0;36m__init__\u001b[0;34m(self, conf_file_dir, file_format_list, label_names, labels_in_file_name, transform, device)\u001b[0m\n\u001b[1;32m    131\u001b[0m \u001b[0;34m\u001b[0m\u001b[0m\n\u001b[1;32m    132\u001b[0m             \u001b[0mself\u001b[0m\u001b[0;34m.\u001b[0m\u001b[0mfile_confs\u001b[0m\u001b[0;34m.\u001b[0m\u001b[0mappend\u001b[0m\u001b[0;34m(\u001b[0m \u001b[0mnp\u001b[0m\u001b[0;34m.\u001b[0m\u001b[0mfromfile\u001b[0m\u001b[0;34m(\u001b[0m\u001b[0mconf_file_path\u001b[0m\u001b[0;34m,\u001b[0m \u001b[0msep\u001b[0m\u001b[0;34m=\u001b[0m\u001b[0;34m\" \"\u001b[0m\u001b[0;34m,\u001b[0m \u001b[0mdtype\u001b[0m\u001b[0;34m=\u001b[0m\u001b[0mint\u001b[0m\u001b[0;34m)\u001b[0m \u001b[0;34m)\u001b[0m\u001b[0;34m\u001b[0m\u001b[0;34m\u001b[0m\u001b[0m\n\u001b[0;32m--> 133\u001b[0;31m             \u001b[0mself\u001b[0m\u001b[0;34m.\u001b[0m\u001b[0mfile_confs\u001b[0m\u001b[0;34m[\u001b[0m\u001b[0;34m-\u001b[0m\u001b[0;36m1\u001b[0m\u001b[0;34m]\u001b[0m \u001b[0;34m=\u001b[0m \u001b[0mtorch\u001b[0m\u001b[0;34m.\u001b[0m\u001b[0mtensor\u001b[0m\u001b[0;34m(\u001b[0m\u001b[0mself\u001b[0m\u001b[0;34m.\u001b[0m\u001b[0mfile_confs\u001b[0m\u001b[0;34m[\u001b[0m\u001b[0;34m-\u001b[0m\u001b[0;36m1\u001b[0m\u001b[0;34m]\u001b[0m\u001b[0;34m)\u001b[0m\u001b[0;34m\u001b[0m\u001b[0;34m\u001b[0m\u001b[0m\n\u001b[0m\u001b[1;32m    134\u001b[0m             \u001b[0mself\u001b[0m\u001b[0;34m.\u001b[0m\u001b[0mfile_confs\u001b[0m\u001b[0;34m[\u001b[0m\u001b[0;34m-\u001b[0m\u001b[0;36m1\u001b[0m\u001b[0;34m]\u001b[0m \u001b[0;34m=\u001b[0m \u001b[0mself\u001b[0m\u001b[0;34m.\u001b[0m\u001b[0mfile_confs\u001b[0m\u001b[0;34m[\u001b[0m\u001b[0;34m-\u001b[0m\u001b[0;36m1\u001b[0m\u001b[0;34m]\u001b[0m\u001b[0;34m.\u001b[0m\u001b[0mreshape\u001b[0m\u001b[0;34m(\u001b[0m\u001b[0;34m-\u001b[0m\u001b[0;36m1\u001b[0m\u001b[0;34m,\u001b[0m \u001b[0;36m2\u001b[0m\u001b[0;34m,\u001b[0m \u001b[0;36m2\u001b[0m\u001b[0;34m,\u001b[0m \u001b[0;34m*\u001b[0m\u001b[0mlat_size\u001b[0m\u001b[0;34m)\u001b[0m\u001b[0;34m\u001b[0m\u001b[0;34m\u001b[0m\u001b[0m\n\u001b[1;32m    135\u001b[0m             \u001b[0mconfs\u001b[0m \u001b[0;34m=\u001b[0m \u001b[0mself\u001b[0m\u001b[0;34m.\u001b[0m\u001b[0mfile_confs\u001b[0m\u001b[0;34m[\u001b[0m\u001b[0;34m-\u001b[0m\u001b[0;36m1\u001b[0m\u001b[0;34m]\u001b[0m\u001b[0;34m\u001b[0m\u001b[0;34m\u001b[0m\u001b[0m\n",
      "\u001b[0;31mRuntimeError\u001b[0m: [enforce fail at CPUAllocator.cpp:64] . DefaultCPUAllocator: can't allocate memory: you tried to allocate 256000000 bytes. Error code 12 (Cannot allocate memory)\n"
     ]
    }
   ],
   "source": [
    "\"\"\"\n",
    "Load Data\n",
    "\"\"\"\n",
    "#conf_file_dir = \"/media/data/sbulusu/datasets/complexworm/dat_files/\"\n",
    "conf_file_dir = \"/media/data/sbulusu/datasets/complexworm/dat_files/\"\n",
    "file_format_list = [\"Multi_lattice_open_worms/open_configs-200-10*.dat\",\n",
    "                    \"Multi_lattice_closed_worms/configs-200-10*.dat\"\n",
    "                   ]\n",
    "\n",
    "#label_names = [\"n\", \"phi2\"]\n",
    "label_names = []\n",
    "labels_in_file_name = [\"nt\", \"nx\", \"eta\", \"lambda\", \"mu\"]\n",
    "\n",
    "dataset = open_worm_lat_dataset_load_new_lightning_dat.kl_dataset(conf_file_dir, file_format_list,\n",
    "                                                              label_names, labels_in_file_name,\n",
    "                                                              transform=None)"
   ]
  },
  {
   "cell_type": "code",
   "execution_count": null,
   "metadata": {},
   "outputs": [],
   "source": [
    "target_attributes = [\"open\"]\n",
    "output_attributes = target_attributes\n",
    "\n",
    "dataset.train_label_names = target_attributes"
   ]
  },
  {
   "cell_type": "code",
   "execution_count": null,
   "metadata": {},
   "outputs": [],
   "source": [
    "net = best_model"
   ]
  },
  {
   "cell_type": "code",
   "execution_count": null,
   "metadata": {},
   "outputs": [],
   "source": [
    "lat_size = dataset[0][0].size()[1:]"
   ]
  },
  {
   "cell_type": "code",
   "execution_count": null,
   "metadata": {},
   "outputs": [],
   "source": [
    "new_data_len = len(dataset)\n",
    "test_indices = list(range(new_data_len))\n",
    "\n",
    "lat_size = dataset[0][0].size()[1:]\n",
    "\n",
    "\"\"\"\n",
    "Load Test Data\n",
    "\"\"\"\n",
    "net = best_model\n",
    "net.eval()\n",
    "print(f\"test dataset size: {len(test_indices)}\")\n",
    "#lat_size = [10,200]\n",
    "input_size = net.input_size\n",
    "output_size = net.output_size\n",
    "model_input_shape = tuple(np.concatenate(([-1],input_size)))\n",
    "print(model_input_shape)\n",
    "\n",
    "#net_outputs = np.zeros( (len(test_indices)) )\n",
    "net_outputs = np.zeros( (len(test_indices), len(output_attributes)) )\n",
    "#labels = np.zeros( (len(test_indices)) )\n",
    "labels = np.zeros( (len(test_indices), len(output_attributes)) )\n",
    "mus = np.zeros( (len(test_indices)) )\n",
    "\n",
    "with torch.no_grad():\n",
    "    for i in tqdm(range(len(test_indices))):\n",
    "    #for i in tqdm(range(len(val_indices))):\n",
    "\n",
    "        test_index = test_indices[i]\n",
    "        conf_lat_links, label = dataset[test_index]\n",
    "        batch_conf_lat_links = torch.zeros(1, *conf_lat_links.size())\n",
    "        batch_conf_lat_links[0] = conf_lat_links\n",
    "        mus[i] = dataset.data[test_index][\"mu\"]\n",
    "        #net_outputs[i] = net(conf_lat_links.view(model_input_shape).to(device).float()).detach().cpu().numpy()\n",
    "        #net_outputs[i] = net(conf_lat_links.to(device).float()).detach().cpu().numpy()\n",
    "        net_outputs[i] = net(batch_conf_lat_links.to(device).float()).detach().cpu().numpy()\n",
    "        #output = net(conf_lat_links.view(model_input_shape).float())\n",
    "        #labels[i] = label.detach().cpu().numpy()\n",
    "        labels[i] = np.array(label)\n",
    " "
   ]
  },
  {
   "cell_type": "code",
   "execution_count": null,
   "metadata": {},
   "outputs": [],
   "source": [
    "labels = labels.flatten()\n",
    "net_outputs = net_outputs.flatten()"
   ]
  },
  {
   "cell_type": "code",
   "execution_count": null,
   "metadata": {},
   "outputs": [],
   "source": [
    "dev = np.abs(net_outputs - labels)\n",
    "print(dev.sum())"
   ]
  },
  {
   "cell_type": "code",
   "execution_count": null,
   "metadata": {},
   "outputs": [],
   "source": [
    "int_net_outputs = np.rint(net_outputs)\n",
    "int_dev = np.abs(int_net_outputs - labels.astype(int))"
   ]
  },
  {
   "cell_type": "code",
   "execution_count": null,
   "metadata": {},
   "outputs": [],
   "source": [
    "results = pd.DataFrame(np.transpose([labels.flatten(), int_net_outputs.flatten()]))"
   ]
  },
  {
   "cell_type": "code",
   "execution_count": null,
   "metadata": {},
   "outputs": [],
   "source": [
    "results"
   ]
  },
  {
   "cell_type": "code",
   "execution_count": null,
   "metadata": {},
   "outputs": [],
   "source": [
    "results.describe()"
   ]
  },
  {
   "cell_type": "code",
   "execution_count": null,
   "metadata": {},
   "outputs": [],
   "source": [
    "pd_labels = pd.Series(labels.flatten(), name=\"Label\")\n",
    "pd_int_net_outputs = pd.Series(int_net_outputs.flatten(), name=\"Pred\")\n",
    "pd.crosstab(pd_labels, pd_int_net_outputs)"
   ]
  },
  {
   "cell_type": "code",
   "execution_count": null,
   "metadata": {},
   "outputs": [],
   "source": [
    "print(f\"lat_size {lat_size}\")\n",
    "for i in range(len(target_attributes)):\n",
    "    print(f\"misclassifications\")\n",
    "    print(np.sum(int_dev))"
   ]
  },
  {
   "cell_type": "code",
   "execution_count": null,
   "metadata": {},
   "outputs": [],
   "source": [
    " \"\"\"confmat\"\"\"\n",
    "import sklearn as sk\n",
    "\n",
    "conf_mat = sk.metrics.confusion_matrix(labels, int_net_outputs)\n",
    "#conf_mat = conf_mat/len(labels)\n",
    "print(conf_mat)\n",
    "plt.imshow(conf_mat, cmap=\"BuGn\")"
   ]
  },
  {
   "cell_type": "code",
   "execution_count": null,
   "metadata": {},
   "outputs": [],
   "source": [
    " \"\"\"confmat per mu\"\"\""
   ]
  },
  {
   "cell_type": "code",
   "execution_count": null,
   "metadata": {},
   "outputs": [],
   "source": [
    "unique_mus = np.unique(mus)\n",
    "num_mus = len(unique_mus)\n",
    "print(num_mus)"
   ]
  },
  {
   "cell_type": "code",
   "execution_count": null,
   "metadata": {},
   "outputs": [],
   "source": [
    "mu_labels = []\n",
    "mu_int_net_outputs = []\n",
    "mu_conf_mats = []"
   ]
  },
  {
   "cell_type": "code",
   "execution_count": null,
   "metadata": {},
   "outputs": [],
   "source": [
    "for mu_val in unique_mus:\n",
    "    mu_loc = np.where(mus == mu_val)[0]\n",
    "    \n",
    "    mu_label = labels[mu_loc]\n",
    "    mu_int_net_output = int_net_outputs[mu_loc]\n",
    "    \n",
    "    mu_labels.append(mu_label)\n",
    "    mu_int_net_outputs.append(mu_int_net_output)\n",
    "    mu_conf_mat = sk.metrics.confusion_matrix(mu_label, mu_int_net_output)\n",
    "    mu_conf_mats.append(mu_conf_mat)\n",
    "    \n",
    "for mu_i in range(num_mus):\n",
    "    print(mu_conf_mats[mu_i])\n",
    "    print(\"\\n\")"
   ]
  },
  {
   "cell_type": "code",
   "execution_count": null,
   "metadata": {},
   "outputs": [],
   "source": [
    "plt.imshow(mu_conf_mats[1], cmap=\"BuGn\")"
   ]
  },
  {
   "cell_type": "code",
   "execution_count": null,
   "metadata": {},
   "outputs": [],
   "source": [
    "plt.rcParams['figure.figsize'] = [30, 20]\n",
    "fig, ax = plt.subplots(nrows=1, ncols=num_mus)\n",
    "\n",
    "for i in range(len(ax)):\n",
    "    ax[i].imshow(mu_conf_mats[i], cmap=\"BuGn\")\n",
    "    "
   ]
  }
 ],
 "metadata": {
  "kernelspec": {
   "display_name": "Python 3",
   "language": "python",
   "name": "python3"
  },
  "language_info": {
   "codemirror_mode": {
    "name": "ipython",
    "version": 3
   },
   "file_extension": ".py",
   "mimetype": "text/x-python",
   "name": "python",
   "nbconvert_exporter": "python",
   "pygments_lexer": "ipython3",
   "version": "3.7.4"
  }
 },
 "nbformat": 4,
 "nbformat_minor": 2
}
