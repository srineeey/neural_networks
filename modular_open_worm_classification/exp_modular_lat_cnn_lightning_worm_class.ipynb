{
 "cells": [
  {
   "cell_type": "code",
   "execution_count": 3,
   "metadata": {},
   "outputs": [],
   "source": [
    "import numpy as np\n",
    "import pandas as pd\n",
    "import matplotlib.pyplot as plt\n",
    "import seaborn as sns\n",
    "\n",
    "import os\n",
    "import glob\n",
    "import time\n",
    "\n",
    "import pickle\n",
    "\n",
    "import torch\n",
    "import torch.nn as nn\n",
    "import torch.nn.functional as F\n",
    "import torch.optim as optim\n",
    "\n",
    "import torchvision\n",
    "\n",
    "import pytorch_lightning as pl\n",
    "\n",
    "import sklearn\n",
    "import functools\n",
    "import operator\n",
    "\n",
    "import sys\n",
    "\n",
    "import optuna\n",
    "\n",
    "sys.path.insert(1,\"/home/sbulusu/qcd_ml/neural_networks/libs/\")\n",
    "\n",
    "import lat_dataset_load_new_lightning\n",
    "#import struct_torch_net_class_lightning\n",
    "import custom_torch_net_class_lightning\n",
    "\n",
    "import utils\n",
    "\n",
    "from tqdm.notebook import tqdm"
   ]
  },
  {
   "cell_type": "code",
   "execution_count": 4,
   "metadata": {},
   "outputs": [
    {
     "name": "stdout",
     "output_type": "stream",
     "text": [
      "Utilizing CUDA\n"
     ]
    }
   ],
   "source": [
    "if torch.cuda.is_available():\n",
    "    device = torch.device(\"cuda:0\")\n",
    "    print(\"Utilizing CUDA\")\n",
    "else:\n",
    "    device = torch.device(\"cpu\")\n",
    "    print(\"Utilizing CPU\")"
   ]
  },
  {
   "cell_type": "code",
   "execution_count": 5,
   "metadata": {},
   "outputs": [],
   "source": [
    "random_seed = 42\n",
    "np.random.seed(random_seed)\n",
    "torch.manual_seed(random_seed)\n",
    "torch.cuda.manual_seed(random_seed)\n",
    "torch.backends.cudnn.enabled = False\n",
    "torch.backends.cudnn.deterministic = True"
   ]
  },
  {
   "cell_type": "code",
   "execution_count": 6,
   "metadata": {},
   "outputs": [],
   "source": [
    "checkpoint_path = \"mlpconv1_2x2_64chan_midlat_nolin_ascircpadding_trial43/pl_checkpoints/CustomNet-043-epoch=199-val_loss=2.71943E-07.ckpt\""
   ]
  },
  {
   "cell_type": "code",
   "execution_count": 146,
   "metadata": {},
   "outputs": [],
   "source": [
    "checkpoint_path = \"pl_checkpoints/CustomNet-010-epoch=199-val_loss=3.08887E-07.ckpt\""
   ]
  },
  {
   "cell_type": "code",
   "execution_count": 147,
   "metadata": {},
   "outputs": [
    {
     "name": "stdout",
     "output_type": "stream",
     "text": [
      "custom layer operation not defined, assuming previous layer_size for\n",
      "<class 'torch.nn.modules.activation.ReLU'>\n",
      "custom layer operation not defined, assuming previous layer_size for\n",
      "<class 'torch.nn.modules.activation.ReLU'>\n",
      "custom layer operation not defined, assuming previous layer_size for\n",
      "<class 'misc_modules.Mean'>\n"
     ]
    },
    {
     "data": {
      "text/plain": [
       "CustomNet(\n",
       "  (cnn): Net(\n",
       "    (layers): ModuleList(\n",
       "      (0): AsymmetricCircularPadding()\n",
       "      (1): Conv2d(4, 64, kernel_size=[2, 2], stride=[1, 1])\n",
       "      (2): ReLU()\n",
       "      (3): AsymmetricCircularPadding()\n",
       "      (4): Conv2d(64, 64, kernel_size=[2, 2], stride=[1, 1])\n",
       "      (5): ReLU()\n",
       "      (6): AdaptiveAvgPool2d(output_size=[1, 1])\n",
       "    )\n",
       "  )\n",
       "  (dense1): Net(\n",
       "    (layers): ModuleList(\n",
       "      (0): Reshape()\n",
       "      (1): Mean()\n",
       "    )\n",
       "  )\n",
       "  (loss): MSELoss()\n",
       ")"
      ]
     },
     "execution_count": 147,
     "metadata": {},
     "output_type": "execute_result"
    }
   ],
   "source": [
    "#best_model = custom_torch_net_class_lightning.CustomNet.load_from_checkpoint(checkpoint_path,hyper_parameters)\n",
    "model = custom_torch_net_class_lightning.CustomNet.load_from_checkpoint(checkpoint_path)\n",
    "\n",
    "model.to(device)\n",
    "\n",
    "model.configure_loss()\n",
    "\n",
    "model.eval()"
   ]
  },
  {
   "cell_type": "code",
   "execution_count": null,
   "metadata": {},
   "outputs": [],
   "source": []
  },
  {
   "cell_type": "code",
   "execution_count": 148,
   "metadata": {},
   "outputs": [],
   "source": [
    "#conv = best_model.cnn.layers[1]\n",
    "#conv.weight"
   ]
  },
  {
   "cell_type": "code",
   "execution_count": 149,
   "metadata": {},
   "outputs": [],
   "source": [
    "#mlpconv = best_model.cnn.layers[4]\n",
    "#mlpconv.weight"
   ]
  },
  {
   "cell_type": "code",
   "execution_count": 170,
   "metadata": {},
   "outputs": [
    {
     "data": {
      "text/plain": [
       "tensor([[0.2088, 0.0000]], device='cuda:0', grad_fn=<MeanBackward1>)"
      ]
     },
     "execution_count": 170,
     "metadata": {},
     "output_type": "execute_result"
    }
   ],
   "source": [
    "#[phi2, n]\n",
    "test_lat_size = [2,2]\n",
    "#test_lat_size = [5,5]\n",
    "\n",
    "#kl_conf = torch.ones([1,2,2,3,3]).to(\"cuda:0\")\n",
    "kl_conf = torch.zeros(1,2,2,*test_lat_size).to(\"cuda:0\")\n",
    "#kl_conf[:,1,0,:,:] = 0\n",
    "kl_conf[:,0,0,:,:] = 0\n",
    "input_conf = kl_conf.reshape(1,4,*test_lat_size)\n",
    "model(input_conf)"
   ]
  },
  {
   "cell_type": "code",
   "execution_count": 171,
   "metadata": {},
   "outputs": [],
   "source": [
    "\"\"\"calculate f\"\"\"\n",
    "def link_per_lat_point(links, lat_size, dims):\n",
    "\n",
    "    #empty channels where the linsk on other directions should be saved\n",
    "    #empty_link_channels = np.zeros(links.shape)\n",
    "    #empty_link_channels = torch.zeros(*links.shape, dtype=int)\n",
    "    empty_link_channels = links.clone()\n",
    "    for d in range(dims):\n",
    "        #print(d)\n",
    "        #print(links)\n",
    "        d_links = links[d]\n",
    "        #print(d_links)\n",
    "        #perm_links = np.roll(d_links, shift=1, axis=d)\n",
    "        perm_links = torch.roll(d_links, shifts=1, dims=d)\n",
    "        #print(perm_links)\n",
    "        \n",
    "        #print(d_slices)\n",
    "        #empty_link_channels[d] = links[zip(d_slices)]\n",
    "        empty_link_channels[d] = perm_links\n",
    "        \n",
    "    #not supported\n",
    "    #empty_link_channels = empty_link_channels[::-1]\n",
    "    #torch.flip(input=empty_link_channels, dims=[0])\n",
    "    \n",
    "    #complete_links = np.concatenate((links,empty_link_channels), axis=0)\n",
    "    complete_links = torch.cat((links,empty_link_channels), dim=0)\n",
    "            \n",
    "            \n",
    "    return complete_links\n",
    "\n",
    "def f_calc(k_links, l_links, lat_size, dims):\n",
    "    full_k_links = link_per_lat_point(k_links, lat_size, dims)\n",
    "    full_l_links = link_per_lat_point(l_links, lat_size, dims)\n",
    "    #print(full_k_links.shape)\n",
    "    #print(full_l_links.shape)\n",
    "    \n",
    "    #abs_full_k_links = np.abs(full_k_links)\n",
    "    abs_full_k_links = torch.abs(full_k_links)\n",
    "    \n",
    "    #calc_f = (abs_full_k_links + 2*full_l_links).sum(axis=0).astype(int)\n",
    "    calc_f = (abs_full_k_links + 2*full_l_links).sum(axis=0)\n",
    "\n",
    "    #return calc_f.astype(int)\n",
    "    return calc_f"
   ]
  },
  {
   "cell_type": "code",
   "execution_count": 391,
   "metadata": {},
   "outputs": [
    {
     "data": {
      "application/vnd.jupyter.widget-view+json": {
       "model_id": "cd9619305b294df1865b5896baf77e63",
       "version_major": 2,
       "version_minor": 0
      },
      "text/plain": [
       "HBox(children=(FloatProgress(value=0.0, max=40.0), HTML(value='')))"
      ]
     },
     "metadata": {},
     "output_type": "display_data"
    },
    {
     "name": "stdout",
     "output_type": "stream",
     "text": [
      "\n"
     ]
    }
   ],
   "source": [
    "W_obs_ratio = np.loadtxt(\"W_obs_ratio.txt\")\n",
    "\n",
    "k_max = 40\n",
    "output_phis = torch.zeros(k_max)\n",
    "output_ns = torch.zeros(k_max)\n",
    "\n",
    "phis = torch.zeros(k_max)\n",
    "ns = torch.zeros(k_max)\n",
    "\n",
    "\n",
    "for i in tqdm(range(k_max)):\n",
    "    \n",
    "    #kl_conf = torch.ones([1,2,2,3,3]).to(\"cuda:0\")\n",
    "    #kl_conf = torch.zeros(1,2,2,*test_lat_size).to(\"cuda:0\")\n",
    "    kl_conf = torch.zeros(1,2,2,*test_lat_size)\n",
    "    #kl_conf[:,1,0,:,:] = 0\n",
    "    kl_conf[:,0,0,:,:] = i\n",
    "    #kl_conf[:,0,1,:,:] = i\n",
    "    input_conf = kl_conf.reshape(1,4,*test_lat_size)\n",
    "    \n",
    "    ns[i] = torch.mean(kl_conf[0,0,0])\n",
    "    \n",
    "    f = f_calc(kl_conf[0,0], kl_conf[0,1], test_lat_size, len(test_lat_size))\n",
    "    np_f_flat = np.array(f.flatten(), dtype=int)\n",
    "    np_f_flat2 = (np_f_flat/2).astype(int)\n",
    "    #print(np_f_flat)\n",
    "    #print(np_f_flat2)\n",
    "    \n",
    "    #print(np.all(np_f_flat % 2 == 0))\n",
    "    \n",
    "    #W_conf = torch.tensor(W_obs_ratio[np_f_flat])\n",
    "    W_conf = torch.tensor(W_obs_ratio[np_f_flat2])\n",
    "    phis[i] = torch.mean(W_conf)\n",
    "    \n",
    "    \n",
    "    output = model(input_conf.to(\"cuda:0\"))\n",
    "    #print(output)\n",
    "    output_phis[i] = float(output[0][0])\n",
    "    output_ns[i] = float(output[0][1])"
   ]
  },
  {
   "cell_type": "code",
   "execution_count": 390,
   "metadata": {},
   "outputs": [
    {
     "data": {
      "application/vnd.jupyter.widget-view+json": {
       "model_id": "901ede10ac7442b0b28bfa86927b766c",
       "version_major": 2,
       "version_minor": 0
      },
      "text/plain": [
       "HBox(children=(FloatProgress(value=0.0, max=4000.0), HTML(value='')))"
      ]
     },
     "metadata": {},
     "output_type": "display_data"
    },
    {
     "name": "stdout",
     "output_type": "stream",
     "text": [
      "\n"
     ]
    }
   ],
   "source": [
    "cont_k_stop = 40\n",
    "delta = 0.01\n",
    "cont_k_range = torch.arange(start=0, end=cont_k_stop, step=delta, dtype=float)\n",
    "cont_output_phis = torch.zeros(cont_k_range.size())\n",
    "cont_output_ns = torch.zeros(cont_k_range.size())\n",
    "for k_val_i in tqdm(range(len(cont_k_range))):\n",
    "    \n",
    "    #kl_conf = torch.ones([1,2,2,3,3]).to(\"cuda:0\")\n",
    "    #kl_conf = torch.zeros(1,2,2,*test_lat_size).to(\"cuda:0\")\n",
    "    kl_conf = torch.zeros(1,2,2,*test_lat_size)\n",
    "    #kl_conf[:,1,0,:,:] = 0\n",
    "    kl_conf[:,0,0,:,:] = cont_k_range[k_val_i]\n",
    "    #kl_conf[:,0,1,:,:] = i\n",
    "    input_conf = kl_conf.reshape(1,4,*test_lat_size)\n",
    "    \n",
    "    #ns[i] = torch.mean(kl_conf[0,0,0])\n",
    "    \n",
    "    #f = f_calc(kl_conf[0,0], kl_conf[0,1], test_lat_size, len(test_lat_size))\n",
    "    #np_f_flat = np.array(f.flatten(), dtype=int)\n",
    "    #np_f_flat2 = (np_f_flat/2).astype(int)\n",
    "    #print(np_f_flat)\n",
    "    #print(np_f_flat2)\n",
    "    \n",
    "    #print(np.all(np_f_flat % 2 == 0))\n",
    "    \n",
    "    #W_conf = torch.tensor(W_obs_ratio[np_f_flat])\n",
    "    #W_conf = torch.tensor(W_obs_ratio[np_f_flat2])\n",
    "    #phis[i] = torch.mean(W_conf)\n",
    "    \n",
    "    \n",
    "    output = model(input_conf.to(\"cuda:0\"))\n",
    "    #print(output)\n",
    "    cont_output_phis[k_val_i] = float(output[0][0])\n",
    "    cont_output_ns[k_val_i] = float(output[0][1])"
   ]
  },
  {
   "cell_type": "code",
   "execution_count": 393,
   "metadata": {},
   "outputs": [
    {
     "data": {
      "text/plain": [
       "<matplotlib.legend.Legend at 0x7f870c8effd0>"
      ]
     },
     "execution_count": 393,
     "metadata": {},
     "output_type": "execute_result"
    },
    {
     "data": {
      "image/png": "[encoded data removed]",
      "text/plain": [
       "<Figure size 432x288 with 1 Axes>"
      ]
     },
     "metadata": {
      "needs_background": "light"
     },
     "output_type": "display_data"
    }
   ],
   "source": [
    "\"\"\"linearly rising kt\"\"\"\n",
    "plt.scatter(range(len(output_phis)), output_phis, label=\"ϕ² output\")\n",
    "plt.scatter(range(len(phis)), phis, label=\"ϕ² label\")\n",
    "plt.legend(loc=\"upper left\")"
   ]
  },
  {
   "cell_type": "code",
   "execution_count": 397,
   "metadata": {},
   "outputs": [
    {
     "data": {
      "text/plain": [
       "<matplotlib.legend.Legend at 0x7f870c6e9790>"
      ]
     },
     "execution_count": 397,
     "metadata": {},
     "output_type": "execute_result"
    },
    {
     "data": {
      "image/png": "[encoded data removed]",
      "text/plain": [
       "<Figure size 432x288 with 1 Axes>"
      ]
     },
     "metadata": {
      "needs_background": "light"
     },
     "output_type": "display_data"
    }
   ],
   "source": [
    "\"\"\"linearly rising kt\"\"\"\n",
    "#plt.scatter(range(len(output_phis)), output_phis, label=\"ϕ² output\")\n",
    "plt.plot(cont_k_range, cont_output_phis, label=\"ϕ² output\")\n",
    "plt.scatter(range(len(phis)), phis, label=\"ϕ² label\")\n",
    "plt.legend(loc=\"upper left\")"
   ]
  },
  {
   "cell_type": "code",
   "execution_count": 261,
   "metadata": {},
   "outputs": [
    {
     "data": {
      "text/plain": [
       "<matplotlib.legend.Legend at 0x7f87275dfe50>"
      ]
     },
     "execution_count": 261,
     "metadata": {},
     "output_type": "execute_result"
    },
    {
     "data": {
      "image/png": "[encoded data removed]",
      "text/plain": [
       "<Figure size 432x288 with 1 Axes>"
      ]
     },
     "metadata": {
      "needs_background": "light"
     },
     "output_type": "display_data"
    }
   ],
   "source": [
    "\"\"\"linearly rising kt\"\"\"\n",
    "plt.scatter(range(len(output_ns)), output_ns, label=\"n output\")\n",
    "plt.scatter(range(len(ns)), ns, label=\"n label\")\n",
    "plt.legend(loc=\"upper left\")"
   ]
  },
  {
   "cell_type": "code",
   "execution_count": 262,
   "metadata": {},
   "outputs": [
    {
     "data": {
      "application/vnd.jupyter.widget-view+json": {
       "model_id": "5d871faba88e451898491647fc21bad3",
       "version_major": 2,
       "version_minor": 0
      },
      "text/plain": [
       "HBox(children=(FloatProgress(value=0.0, max=20.0), HTML(value='')))"
      ]
     },
     "metadata": {},
     "output_type": "display_data"
    },
    {
     "name": "stdout",
     "output_type": "stream",
     "text": [
      "\n"
     ]
    }
   ],
   "source": [
    "W_obs_ratio = np.loadtxt(\"W_obs_ratio.txt\")\n",
    "\n",
    "k_max = 20\n",
    "output_phis = torch.zeros(k_max)\n",
    "output_ns = torch.zeros(k_max)\n",
    "\n",
    "phis = torch.zeros(k_max)\n",
    "ns = torch.zeros(k_max)\n",
    "\n",
    "\n",
    "for i in tqdm(range(k_max)):\n",
    "    \n",
    "    #kl_conf = torch.ones([1,2,2,3,3]).to(\"cuda:0\")\n",
    "    #kl_conf = torch.zeros(1,2,2,*test_lat_size).to(\"cuda:0\")\n",
    "    kl_conf = torch.zeros(1,2,2,*test_lat_size)\n",
    "    #kl_conf[:,1,0,:,:] = 0\n",
    "    kl_conf[:,0,:,:,:] = i\n",
    "    input_conf = kl_conf.reshape(1,4,*test_lat_size)\n",
    "    \n",
    "    ns[i] = torch.mean(kl_conf[0,0,0])\n",
    "    \n",
    "    f = f_calc(kl_conf[0,0], kl_conf[0,1], test_lat_size, len(test_lat_size))\n",
    "    np_f_flat = np.array(f.flatten(), dtype=int)\n",
    "    np_f_flat2 = (np_f_flat/2).astype(int)\n",
    "    #print(np_f_flat)\n",
    "    #print(np_f_flat2)\n",
    "    \n",
    "    #print(np.all(np_f_flat % 2 == 0))\n",
    "    \n",
    "    #W_conf = torch.tensor(W_obs_ratio[np_f_flat])\n",
    "    W_conf = torch.tensor(W_obs_ratio[np_f_flat2])\n",
    "    #print(np.all(np_f_flat % 2 == 0))\n",
    "    \n",
    "    phis[i] = torch.mean(W_conf)\n",
    "    \n",
    "    \n",
    "    output = model(input_conf.to(\"cuda:0\"))\n",
    "    #print(output)\n",
    "    output_phis[i] = float(output[0][0])\n",
    "    output_ns[i] = float(output[0][1])"
   ]
  },
  {
   "cell_type": "code",
   "execution_count": 263,
   "metadata": {},
   "outputs": [
    {
     "data": {
      "text/plain": [
       "<matplotlib.legend.Legend at 0x7f872736f690>"
      ]
     },
     "execution_count": 263,
     "metadata": {},
     "output_type": "execute_result"
    },
    {
     "data": {
      "image/png": "[encoded data removed]",
      "text/plain": [
       "<Figure size 432x288 with 1 Axes>"
      ]
     },
     "metadata": {
      "needs_background": "light"
     },
     "output_type": "display_data"
    }
   ],
   "source": [
    "\"\"\"linearly rising k links\"\"\"\n",
    "plt.scatter(range(len(output_phis)), output_phis, label=\"ϕ² output\")\n",
    "plt.scatter(range(len(phis)), phis, label=\"ϕ² label\")\n",
    "plt.legend(loc=\"upper left\")"
   ]
  },
  {
   "cell_type": "code",
   "execution_count": 264,
   "metadata": {},
   "outputs": [
    {
     "data": {
      "text/plain": [
       "<matplotlib.legend.Legend at 0x7f8727332a90>"
      ]
     },
     "execution_count": 264,
     "metadata": {},
     "output_type": "execute_result"
    },
    {
     "data": {
      "image/png": "[encoded data removed]",
      "text/plain": [
       "<Figure size 432x288 with 1 Axes>"
      ]
     },
     "metadata": {
      "needs_background": "light"
     },
     "output_type": "display_data"
    }
   ],
   "source": [
    "\"\"\"linearly rising k links\"\"\"\n",
    "plt.scatter(range(len(output_ns)), output_ns, label=\"n output\")\n",
    "plt.scatter(range(len(ns)), ns, label=\"n label\")\n",
    "plt.legend(loc=\"upper left\")"
   ]
  },
  {
   "cell_type": "code",
   "execution_count": 267,
   "metadata": {},
   "outputs": [
    {
     "data": {
      "application/vnd.jupyter.widget-view+json": {
       "model_id": "710c480bac884e8993d90142a2b267b4",
       "version_major": 2,
       "version_minor": 0
      },
      "text/plain": [
       "HBox(children=(FloatProgress(value=0.0, max=9.0), HTML(value='')))"
      ]
     },
     "metadata": {},
     "output_type": "display_data"
    },
    {
     "name": "stdout",
     "output_type": "stream",
     "text": [
      "\n"
     ]
    }
   ],
   "source": [
    "W_obs_ratio = np.loadtxt(\"W_obs_ratio.txt\")\n",
    "\n",
    "k_max = 9\n",
    "output_phis = torch.zeros(k_max)\n",
    "output_ns = torch.zeros(k_max)\n",
    "\n",
    "phis = torch.zeros(k_max)\n",
    "ns = torch.zeros(k_max)\n",
    "\n",
    "size = tuple(np.concatenate(([1,2,2], test_lat_size)))\n",
    "\n",
    "\n",
    "for i in tqdm(range(k_max)):\n",
    "    \n",
    "    #kl_conf = torch.ones([1,2,2,3,3]).to(\"cuda:0\")\n",
    "    #kl_conf = torch.zeros(1,2,2,*test_lat_size).to(\"cuda:0\")\n",
    "    kl_conf = torch.zeros(1,2,2,*test_lat_size)\n",
    "    kl_conf = torch.full(size, fill_value=i)\n",
    "    #kl_conf[:,1,0,:,:] = 0\n",
    "    #kl_conf[:,0,0,:,:] = i\n",
    "    input_conf = kl_conf.reshape(1,4,*test_lat_size)\n",
    "    \n",
    "    ns[i] = torch.mean(kl_conf[0,0,0])\n",
    "    \n",
    "    f = f_calc(kl_conf[0,0], kl_conf[0,1], test_lat_size, len(test_lat_size))\n",
    "    np_f_flat = np.array(f.flatten(), dtype=int)\n",
    "    np_f_flat2 = (np_f_flat/2).astype(int)\n",
    "    #print(np_f_flat)\n",
    "    #print(np_f_flat2)\n",
    "    \n",
    "    #print(np.all(np_f_flat % 2 == 0))\n",
    "    \n",
    "    #W_conf = torch.tensor(W_obs_ratio[np_f_flat])\n",
    "    W_conf = torch.tensor(W_obs_ratio[np_f_flat2])\n",
    "\n",
    "    phis[i] = torch.mean(W_conf)\n",
    "    \n",
    "    \n",
    "    output = model(input_conf.to(\"cuda:0\"))\n",
    "    #print(output)\n",
    "    output_phis[i] = float(output[0][0])\n",
    "    output_ns[i] = float(output[0][1])"
   ]
  },
  {
   "cell_type": "code",
   "execution_count": 268,
   "metadata": {},
   "outputs": [
    {
     "data": {
      "text/plain": [
       "<matplotlib.legend.Legend at 0x7f87272249d0>"
      ]
     },
     "execution_count": 268,
     "metadata": {},
     "output_type": "execute_result"
    },
    {
     "data": {
      "image/png": "[encoded data removed]",
      "text/plain": [
       "<Figure size 432x288 with 1 Axes>"
      ]
     },
     "metadata": {
      "needs_background": "light"
     },
     "output_type": "display_data"
    }
   ],
   "source": [
    "\"\"\"linearly rising links\"\"\"\n",
    "plt.scatter(range(len(output_phis)), output_phis, label=\"ϕ² output\")\n",
    "plt.scatter(range(len(phis)), phis, label=\"ϕ² label\")\n",
    "plt.legend(loc=\"upper left\")"
   ]
  },
  {
   "cell_type": "code",
   "execution_count": 269,
   "metadata": {},
   "outputs": [
    {
     "data": {
      "text/plain": [
       "<matplotlib.legend.Legend at 0x7f87271a3290>"
      ]
     },
     "execution_count": 269,
     "metadata": {},
     "output_type": "execute_result"
    },
    {
     "data": {
      "image/png": "[encoded data removed]",
      "text/plain": [
       "<Figure size 432x288 with 1 Axes>"
      ]
     },
     "metadata": {
      "needs_background": "light"
     },
     "output_type": "display_data"
    }
   ],
   "source": [
    "\"\"\"linearly rising links\"\"\"\n",
    "plt.scatter(range(len(output_ns)), output_ns, label=\"n output\")\n",
    "plt.scatter(range(len(ns)), ns, label=\"n label\")\n",
    "plt.legend(loc=\"upper left\")"
   ]
  },
  {
   "cell_type": "code",
   "execution_count": 181,
   "metadata": {},
   "outputs": [
    {
     "name": "stdout",
     "output_type": "stream",
     "text": [
      "torch.Size([2, 2, 2])\n",
      "torch.Size([4, 2, 2])\n"
     ]
    }
   ],
   "source": [
    "lat_size = [2,2]\n",
    "conf_size = np.concatenate(([2],lat_size))\n",
    "links = torch.arange(0,2*np.prod(lat_size), dtype=int).reshape(*conf_size)\n",
    "#print(links)\n",
    "print(links.shape)\n",
    "new_links = link_per_lat_point(links, lat_size, len(lat_size))\n",
    "print(new_links.shape)"
   ]
  },
  {
   "cell_type": "code",
   "execution_count": 182,
   "metadata": {},
   "outputs": [
    {
     "name": "stdout",
     "output_type": "stream",
     "text": [
      "tensor([[[0, 1],\n",
      "         [2, 3]],\n",
      "\n",
      "        [[4, 5],\n",
      "         [6, 7]],\n",
      "\n",
      "        [[2, 3],\n",
      "         [0, 1]],\n",
      "\n",
      "        [[5, 4],\n",
      "         [7, 6]]])\n"
     ]
    }
   ],
   "source": [
    "print(new_links)"
   ]
  },
  {
   "cell_type": "code",
   "execution_count": 183,
   "metadata": {},
   "outputs": [
    {
     "name": "stdout",
     "output_type": "stream",
     "text": [
      "tensor([[0, 1],\n",
      "        [2, 3]])\n"
     ]
    }
   ],
   "source": [
    "print(new_links[0,:,:])"
   ]
  },
  {
   "cell_type": "code",
   "execution_count": 164,
   "metadata": {},
   "outputs": [
    {
     "name": "stdout",
     "output_type": "stream",
     "text": [
      "tensor([[0, 1],\n",
      "        [2, 3]])\n"
     ]
    }
   ],
   "source": [
    "print(new_links[0,:,:])"
   ]
  },
  {
   "cell_type": "code",
   "execution_count": 377,
   "metadata": {},
   "outputs": [
    {
     "data": {
      "application/vnd.jupyter.widget-view+json": {
       "model_id": "3be065ce22a44b96b59c1a401647c641",
       "version_major": 2,
       "version_minor": 0
      },
      "text/plain": [
       "HBox(children=(FloatProgress(value=0.0, max=10000.0), HTML(value='')))"
      ]
     },
     "metadata": {},
     "output_type": "display_data"
    },
    {
     "name": "stdout",
     "output_type": "stream",
     "text": [
      "\n",
      "torch.Size([10000, 2])\n"
     ]
    }
   ],
   "source": [
    "lat_size = [2,2]\n",
    "#lat_size = [5,5]\n",
    "#lat_size = [10,10]\n",
    "dims = len(lat_size)\n",
    "link_max = 10\n",
    "conf_size = np.concatenate(([2],lat_size))\n",
    "num_conf = 10000\n",
    "#num_conf = 100\n",
    "random_size = tuple(np.concatenate(([num_conf], conf_size)))\n",
    "\n",
    "k_links = torch.randint(low=-link_max, high=link_max+1, size=random_size)\n",
    "l_links = torch.randint(low=0, high=link_max, size=random_size)\n",
    "\n",
    "\n",
    "f = torch.zeros(num_conf, *lat_size, dtype=int)\n",
    "phi2_labels = torch.zeros(num_conf)\n",
    "n_labels = torch.zeros(num_conf)\n",
    "\n",
    "physical_conf_indices = []\n",
    "\n",
    "for conf_i in tqdm(range(num_conf)):\n",
    "    #print(k_links[conf_i].size())\n",
    "    #print(l_links[conf_i].size())\n",
    "    #print(\"\\n\")\n",
    "    f[conf_i] = f_calc(k_links[conf_i], l_links[conf_i], lat_size, dims)\n",
    "    \n",
    "    np_f_flat = np.array(f[conf_i].flatten(), dtype=int)\n",
    "    np_f_flat2 = (np_f_flat/2).astype(int)\n",
    "    #print(np_f_flat)\n",
    "    #print(np_f_flat2)\n",
    "    \n",
    "    #print(np.all(np_f_flat % 2 == 0))\n",
    "    \n",
    "    if np.all(np_f_flat % 2 == 0):\n",
    "        physical_conf_indices.append(conf_i)\n",
    "    \n",
    "    W_conf = torch.tensor(W_obs_ratio[np_f_flat2])\n",
    "    #W_conf = torch.tensor(W_obs_ratio[np_f_flat])\n",
    "    #W_conf = torch.tensor(W_obs_ratio[f[conf_i].flatten()], dtype=float)\n",
    "    \n",
    "    phi2_labels[conf_i] = torch.mean(W_conf)\n",
    "    n_labels[conf_i] = torch.mean(k_links[conf_i][0].float())\n",
    "    \n",
    "\n",
    "    \n",
    "#labels = np.stack((phi2_labels,n_labels), axis=1)\n",
    "labels = torch.zeros(num_conf,2)\n",
    "labels[:,0] = phi2_labels\n",
    "labels[:,1] = n_labels\n",
    "\n",
    "print(labels.size())"
   ]
  },
  {
   "cell_type": "code",
   "execution_count": 378,
   "metadata": {},
   "outputs": [
    {
     "data": {
      "text/plain": [
       "1244"
      ]
     },
     "execution_count": 378,
     "metadata": {},
     "output_type": "execute_result"
    }
   ],
   "source": [
    "len(physical_conf_indices)"
   ]
  },
  {
   "cell_type": "code",
   "execution_count": 379,
   "metadata": {},
   "outputs": [],
   "source": [
    "confs = torch.cat((k_links, l_links), dim=1)\n",
    "#torch_confs = torch.tensor(confs, device=\"cuda:0\")\n",
    "torch_confs = confs.to(\"cuda:0\")"
   ]
  },
  {
   "cell_type": "code",
   "execution_count": 380,
   "metadata": {},
   "outputs": [],
   "source": [
    "outputs = model(torch_confs.float()).detach().cpu().numpy()\n",
    "#print(outputs)\n",
    "#print(phi2_labels)\n",
    "#print(n_labels)\n",
    "#print(labels)"
   ]
  },
  {
   "cell_type": "code",
   "execution_count": 381,
   "metadata": {},
   "outputs": [
    {
     "data": {
      "text/plain": [
       "<matplotlib.legend.Legend at 0x7f870cb718d0>"
      ]
     },
     "execution_count": 381,
     "metadata": {},
     "output_type": "execute_result"
    },
    {
     "data": {
      "image/png": "[encoded data removed]",
      "text/plain": [
       "<Figure size 432x288 with 1 Axes>"
      ]
     },
     "metadata": {
      "needs_background": "light"
     },
     "output_type": "display_data"
    }
   ],
   "source": [
    "x_min = np.min(outputs[:,0])\n",
    "x_max = np.max(outputs[:,0])\n",
    "\n",
    "plt.scatter(labels[:,0], outputs[:,0], label=\"pred vs label\")\n",
    "plt.plot([x_min, x_max], [x_min, x_max], linestyle=\"--\", color=\"b\", label=\"(ideal)\")\n",
    "plt.ylabel(\"ϕ² prediction\")\n",
    "plt.xlabel(\"ϕ² label\")\n",
    "plt.legend()"
   ]
  },
  {
   "cell_type": "code",
   "execution_count": 382,
   "metadata": {},
   "outputs": [
    {
     "data": {
      "text/plain": [
       "<matplotlib.legend.Legend at 0x7f870ca576d0>"
      ]
     },
     "execution_count": 382,
     "metadata": {},
     "output_type": "execute_result"
    },
    {
     "data": {
      "image/png": "[encoded data removed]",
      "text/plain": [
       "<Figure size 432x288 with 1 Axes>"
      ]
     },
     "metadata": {
      "needs_background": "light"
     },
     "output_type": "display_data"
    }
   ],
   "source": [
    "x_min = np.min(outputs[:,1])\n",
    "x_max = np.max(outputs[:,1])\n",
    "\n",
    "plt.scatter(labels[:,1], outputs[:,1], label=\"pred vs label\")\n",
    "plt.plot([x_min, x_max], [x_min, x_max], linestyle=\"--\", color=\"b\", label=\"(ideal)\")\n",
    "plt.ylabel(\"n prediction\")\n",
    "plt.xlabel(\"n label\")\n",
    "plt.legend()"
   ]
  },
  {
   "cell_type": "code",
   "execution_count": 383,
   "metadata": {},
   "outputs": [],
   "source": [
    "physical_conf_indices = np.array(physical_conf_indices, dtype=int)\n",
    "#print(physical_conf_indices)\n",
    "#print(type(physical_conf_indices))"
   ]
  },
  {
   "cell_type": "code",
   "execution_count": 384,
   "metadata": {},
   "outputs": [],
   "source": [
    "phi_labels = labels[:,0]\n",
    "physical_phi_labels = phi_labels[physical_conf_indices]\n",
    "#physical_phi_labels\n",
    "\n",
    "phi_outputs = outputs[:,0]\n",
    "physical_phi_outputs = phi_outputs[physical_conf_indices]\n",
    "#print(physical_phi_outputs)"
   ]
  },
  {
   "cell_type": "code",
   "execution_count": 385,
   "metadata": {},
   "outputs": [
    {
     "data": {
      "text/plain": [
       "<matplotlib.legend.Legend at 0x7f870ca872d0>"
      ]
     },
     "execution_count": 385,
     "metadata": {},
     "output_type": "execute_result"
    },
    {
     "data": {
      "image/png": "[encoded data removed]",
      "text/plain": [
       "<Figure size 432x288 with 1 Axes>"
      ]
     },
     "metadata": {
      "needs_background": "light"
     },
     "output_type": "display_data"
    }
   ],
   "source": [
    "plt.scatter(physical_phi_labels, physical_phi_outputs, label=\"pred vs label\")\n",
    "plt.plot([x_min, x_max], [x_min, x_max], linestyle=\"--\", color=\"b\", label=\"(ideal)\")\n",
    "plt.ylabel(\"ϕ² prediction\")\n",
    "plt.xlabel(\"ϕ² label\")\n",
    "plt.legend()"
   ]
  },
  {
   "cell_type": "code",
   "execution_count": 386,
   "metadata": {},
   "outputs": [],
   "source": [
    "n_labels = labels[:,1]\n",
    "physical_n_labels = n_labels[physical_conf_indices]\n",
    "#physical_phi_labels\n",
    "\n",
    "n_outputs = outputs[:,1]\n",
    "physical_n_outputs = n_outputs[physical_conf_indices]\n",
    "#print(physical_phi_outputs)"
   ]
  },
  {
   "cell_type": "code",
   "execution_count": 387,
   "metadata": {},
   "outputs": [
    {
     "data": {
      "text/plain": [
       "<matplotlib.legend.Legend at 0x7f870ca36610>"
      ]
     },
     "execution_count": 387,
     "metadata": {},
     "output_type": "execute_result"
    },
    {
     "data": {
      "image/png": "[encoded data removed]",
      "text/plain": [
       "<Figure size 432x288 with 1 Axes>"
      ]
     },
     "metadata": {
      "needs_background": "light"
     },
     "output_type": "display_data"
    }
   ],
   "source": [
    "plt.scatter(physical_n_labels, physical_n_outputs, label=\"pred vs label\")\n",
    "plt.plot([x_min, x_max], [x_min, x_max], linestyle=\"--\", color=\"b\", label=\"(ideal)\")\n",
    "plt.ylabel(\"n prediction\")\n",
    "plt.xlabel(\"n label\")\n",
    "plt.legend()"
   ]
  },
  {
   "cell_type": "code",
   "execution_count": null,
   "metadata": {},
   "outputs": [],
   "source": []
  },
  {
   "cell_type": "code",
   "execution_count": null,
   "metadata": {},
   "outputs": [],
   "source": []
  },
  {
   "cell_type": "code",
   "execution_count": null,
   "metadata": {},
   "outputs": [],
   "source": []
  },
  {
   "cell_type": "code",
   "execution_count": null,
   "metadata": {},
   "outputs": [],
   "source": []
  },
  {
   "cell_type": "code",
   "execution_count": null,
   "metadata": {},
   "outputs": [],
   "source": [
    "\n"
   ]
  }
 ],
 "metadata": {
  "kernelspec": {
   "display_name": "Python 3",
   "language": "python",
   "name": "python3"
  },
  "language_info": {
   "codemirror_mode": {
    "name": "ipython",
    "version": 3
   },
   "file_extension": ".py",
   "mimetype": "text/x-python",
   "name": "python",
   "nbconvert_exporter": "python",
   "pygments_lexer": "ipython3",
   "version": "3.7.4"
  }
 },
 "nbformat": 4,
 "nbformat_minor": 2
}
