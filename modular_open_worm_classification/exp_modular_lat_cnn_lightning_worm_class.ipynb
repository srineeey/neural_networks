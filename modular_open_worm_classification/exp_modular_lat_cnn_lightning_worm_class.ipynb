{
 "cells": [
  {
   "cell_type": "code",
   "execution_count": 26,
   "metadata": {},
   "outputs": [],
   "source": [
    "import numpy as np\n",
    "import pandas as pd\n",
    "import matplotlib.pyplot as plt\n",
    "import seaborn as sns\n",
    "\n",
    "import os\n",
    "import glob\n",
    "import time\n",
    "\n",
    "import pickle\n",
    "\n",
    "import torch\n",
    "import torch.nn as nn\n",
    "import torch.nn.functional as F\n",
    "import torch.optim as optim\n",
    "\n",
    "import torchvision\n",
    "\n",
    "import pytorch_lightning as pl\n",
    "\n",
    "import sklearn as sk\n",
    "import functools\n",
    "import operator\n",
    "\n",
    "import sys\n",
    "\n",
    "import optuna\n",
    "\n",
    "sys.path.insert(1,\"/home/sbulusu/qcd_ml/neural_networks/libs/\")\n",
    "\n",
    "import lat_dataset_load_new_lightning\n",
    "#import struct_torch_net_class_lightning\n",
    "import custom_torch_net_class_lightning\n",
    "\n",
    "import utils\n",
    "\n",
    "from tqdm.notebook import tqdm"
   ]
  },
  {
   "cell_type": "code",
   "execution_count": 2,
   "metadata": {},
   "outputs": [
    {
     "name": "stdout",
     "output_type": "stream",
     "text": [
      "Utilizing CUDA\n"
     ]
    }
   ],
   "source": [
    "if torch.cuda.is_available():\n",
    "    device = torch.device(\"cuda:0\")\n",
    "    print(\"Utilizing CUDA\")\n",
    "else:\n",
    "    device = torch.device(\"cpu\")\n",
    "    print(\"Utilizing CPU\")"
   ]
  },
  {
   "cell_type": "code",
   "execution_count": 3,
   "metadata": {},
   "outputs": [],
   "source": [
    "random_seed = 42\n",
    "np.random.seed(random_seed)\n",
    "torch.manual_seed(random_seed)\n",
    "torch.cuda.manual_seed(random_seed)\n",
    "torch.backends.cudnn.enabled = False\n",
    "torch.backends.cudnn.deterministic = True"
   ]
  },
  {
   "cell_type": "code",
   "execution_count": 4,
   "metadata": {},
   "outputs": [],
   "source": [
    "checkpoint_path = \"pl_checkpoints/CustomNet-003-epoch=178-val_loss=1.51679E-08.ckpt\""
   ]
  },
  {
   "cell_type": "code",
   "execution_count": 5,
   "metadata": {},
   "outputs": [
    {
     "data": {
      "text/plain": [
       "CustomNet(\n",
       "  (cnn): Net(\n",
       "    (layers): ModuleList(\n",
       "      (0): AsymmetricCircularPadding()\n",
       "      (1): Conv2d(4, 64, kernel_size=[2, 2], stride=[1, 1])\n",
       "      (2): ReLU()\n",
       "      (3): AsymmetricCircularPadding()\n",
       "      (4): Conv2d(64, 64, kernel_size=[2, 2], stride=[1, 1])\n",
       "      (5): ReLU()\n",
       "      (6): AsymmetricCircularPadding()\n",
       "      (7): Conv2d(64, 64, kernel_size=[2, 2], stride=[1, 1])\n",
       "      (8): ReLU()\n",
       "      (9): AdaptiveAvgPool2d(output_size=[1, 1])\n",
       "      (10): ReLU()\n",
       "    )\n",
       "  )\n",
       "  (dense1): Net(\n",
       "    (layers): ModuleList(\n",
       "      (0): Reshape()\n",
       "      (1): Linear(in_features=64, out_features=64, bias=True)\n",
       "      (2): Linear(in_features=64, out_features=1, bias=True)\n",
       "      (3): Sigmoid()\n",
       "    )\n",
       "  )\n",
       "  (loss): BCELoss()\n",
       ")"
      ]
     },
     "execution_count": 5,
     "metadata": {},
     "output_type": "execute_result"
    }
   ],
   "source": [
    "#best_model = custom_torch_net_class_lightning.CustomNet.load_from_checkpoint(checkpoint_path,hyper_parameters)\n",
    "model = custom_torch_net_class_lightning.CustomNet.load_from_checkpoint(checkpoint_path)\n",
    "\n",
    "model.to(device)\n",
    "\n",
    "model.configure_loss()\n",
    "\n",
    "model.eval()"
   ]
  },
  {
   "cell_type": "code",
   "execution_count": null,
   "metadata": {},
   "outputs": [],
   "source": []
  },
  {
   "cell_type": "code",
   "execution_count": 6,
   "metadata": {},
   "outputs": [],
   "source": [
    "#conv = best_model.cnn.layers[1]\n",
    "#conv.weight"
   ]
  },
  {
   "cell_type": "code",
   "execution_count": 7,
   "metadata": {},
   "outputs": [],
   "source": [
    "#mlpconv = best_model.cnn.layers[4]\n",
    "#mlpconv.weight"
   ]
  },
  {
   "cell_type": "code",
   "execution_count": 8,
   "metadata": {},
   "outputs": [
    {
     "data": {
      "text/plain": [
       "tensor([[3.5108e-10]], device='cuda:0', grad_fn=<SigmoidBackward>)"
      ]
     },
     "execution_count": 8,
     "metadata": {},
     "output_type": "execute_result"
    }
   ],
   "source": [
    "#[phi2, n]\n",
    "test_lat_size = [2,2]\n",
    "#test_lat_size = [5,5]\n",
    "\n",
    "#kl_conf = torch.ones([1,2,2,3,3]).to(\"cuda:0\")\n",
    "kl_conf = torch.zeros(1,2,2,*test_lat_size).to(\"cuda:0\")\n",
    "#kl_conf[:,1,0,:,:] = 0\n",
    "kl_conf[:,0,0,:,:] = 0\n",
    "input_conf = kl_conf.reshape(1,4,*test_lat_size)\n",
    "model(input_conf)"
   ]
  },
  {
   "cell_type": "code",
   "execution_count": 9,
   "metadata": {},
   "outputs": [],
   "source": [
    "\"\"\"calculate f\"\"\"\n",
    "def link_per_lat_point(links, lat_size, dims):\n",
    "\n",
    "    #empty channels where the linsk on other directions should be saved\n",
    "    #empty_link_channels = np.zeros(links.shape)\n",
    "    #empty_link_channels = torch.zeros(*links.shape, dtype=int)\n",
    "    empty_link_channels = links.clone()\n",
    "    for d in range(dims):\n",
    "        #print(d)\n",
    "        #print(links)\n",
    "        d_links = links[d]\n",
    "        #print(d_links)\n",
    "        #perm_links = np.roll(d_links, shift=1, axis=d)\n",
    "        perm_links = torch.roll(d_links, shifts=1, dims=d)\n",
    "        #print(perm_links)\n",
    "        \n",
    "        #print(d_slices)\n",
    "        #empty_link_channels[d] = links[zip(d_slices)]\n",
    "        empty_link_channels[d] = perm_links\n",
    "        \n",
    "    #not supported\n",
    "    #empty_link_channels = empty_link_channels[::-1]\n",
    "    #torch.flip(input=empty_link_channels, dims=[0])\n",
    "    \n",
    "    #complete_links = np.concatenate((links,empty_link_channels), axis=0)\n",
    "    complete_links = torch.cat((links,empty_link_channels), dim=0)\n",
    "            \n",
    "            \n",
    "    return complete_links\n",
    "\n",
    "def f_calc(k_links, l_links, lat_size, dims):\n",
    "    full_k_links = link_per_lat_point(k_links, lat_size, dims)\n",
    "    full_l_links = link_per_lat_point(l_links, lat_size, dims)\n",
    "    #print(full_k_links.shape)\n",
    "    #print(full_l_links.shape)\n",
    "    \n",
    "    #abs_full_k_links = np.abs(full_k_links)\n",
    "    abs_full_k_links = torch.abs(full_k_links)\n",
    "    \n",
    "    #calc_f = (abs_full_k_links + 2*full_l_links).sum(axis=0).astype(int)\n",
    "    calc_f = (abs_full_k_links + 2*full_l_links).sum(axis=0)\n",
    "\n",
    "    #return calc_f.astype(int)\n",
    "    return calc_f"
   ]
  },
  {
   "cell_type": "code",
   "execution_count": 10,
   "metadata": {},
   "outputs": [
    {
     "data": {
      "application/vnd.jupyter.widget-view+json": {
       "model_id": "c638cfdbcd6f4f2b8769f8fac3ab1af1",
       "version_major": 2,
       "version_minor": 0
      },
      "text/plain": [
       "HBox(children=(FloatProgress(value=0.0, max=40.0), HTML(value='')))"
      ]
     },
     "metadata": {},
     "output_type": "display_data"
    },
    {
     "name": "stdout",
     "output_type": "stream",
     "text": [
      "\n"
     ]
    }
   ],
   "source": [
    "\"\"\"test k flux conservation\"\"\"\n",
    "k_max = 40\n",
    "\n",
    "net_outputs = torch.zeros(k_max)\n",
    "\n",
    "for i in tqdm(range(k_max)):\n",
    "    \n",
    "    kl_conf = torch.zeros(1,2,2,*test_lat_size)\n",
    "    kl_conf[:,0,:,:,:] = i\n",
    "    input_conf = kl_conf.reshape(1,4,*test_lat_size)\n",
    "    output = model(input_conf.to(\"cuda:0\"))\n",
    "    #print(output)\n",
    "    net_outputs[i] = output"
   ]
  },
  {
   "cell_type": "code",
   "execution_count": 12,
   "metadata": {},
   "outputs": [
    {
     "data": {
      "text/plain": [
       "[<matplotlib.lines.Line2D at 0x7f72030d6f90>]"
      ]
     },
     "execution_count": 12,
     "metadata": {},
     "output_type": "execute_result"
    },
    {
     "data": {
      "image/png": "[encoded data removed]",
      "text/plain": [
       "<Figure size 432x288 with 1 Axes>"
      ]
     },
     "metadata": {
      "needs_background": "light"
     },
     "output_type": "display_data"
    }
   ],
   "source": [
    "int_net_outputs = np.rint(net_outputs.detach().numpy())\n",
    "plt.plot(np.arange(k_max), int_net_outputs)"
   ]
  },
  {
   "cell_type": "code",
   "execution_count": 13,
   "metadata": {},
   "outputs": [
    {
     "data": {
      "application/vnd.jupyter.widget-view+json": {
       "model_id": "c07b34e2e80343e79e1c65dc221f5fb4",
       "version_major": 2,
       "version_minor": 0
      },
      "text/plain": [
       "HBox(children=(FloatProgress(value=0.0, max=40.0), HTML(value='')))"
      ]
     },
     "metadata": {},
     "output_type": "display_data"
    },
    {
     "name": "stdout",
     "output_type": "stream",
     "text": [
      "\n"
     ]
    }
   ],
   "source": [
    "\"\"\"test k flux conservation\"\"\"\n",
    "k_max = 40\n",
    "\n",
    "net_outputs = torch.zeros(k_max)\n",
    "\n",
    "for i in tqdm(range(k_max)):\n",
    "    \n",
    "    kl_conf = torch.zeros(1,2,2,*test_lat_size)\n",
    "    kl_conf[:,0,0,:,:] = i\n",
    "    input_conf = kl_conf.reshape(1,4,*test_lat_size)\n",
    "    output = model(input_conf.to(\"cuda:0\"))\n",
    "    #print(output)\n",
    "    net_outputs[i] = output"
   ]
  },
  {
   "cell_type": "code",
   "execution_count": 14,
   "metadata": {},
   "outputs": [
    {
     "data": {
      "text/plain": [
       "[<matplotlib.lines.Line2D at 0x7f720005bc90>]"
      ]
     },
     "execution_count": 14,
     "metadata": {},
     "output_type": "execute_result"
    },
    {
     "data": {
      "image/png": "[encoded data removed]",
      "text/plain": [
       "<Figure size 432x288 with 1 Axes>"
      ]
     },
     "metadata": {
      "needs_background": "light"
     },
     "output_type": "display_data"
    }
   ],
   "source": [
    "int_net_outputs = np.rint(net_outputs.detach().numpy())\n",
    "plt.plot(np.arange(k_max), int_net_outputs)"
   ]
  },
  {
   "cell_type": "code",
   "execution_count": 15,
   "metadata": {},
   "outputs": [
    {
     "data": {
      "application/vnd.jupyter.widget-view+json": {
       "model_id": "e57cc01476ba45b4b4e7dd5e50d90ee2",
       "version_major": 2,
       "version_minor": 0
      },
      "text/plain": [
       "HBox(children=(FloatProgress(value=0.0, max=40.0), HTML(value='')))"
      ]
     },
     "metadata": {},
     "output_type": "display_data"
    },
    {
     "name": "stdout",
     "output_type": "stream",
     "text": [
      "\n"
     ]
    }
   ],
   "source": [
    "\"\"\"test k flux conservation\"\"\"\n",
    "k_max = 40\n",
    "\n",
    "net_outputs = torch.zeros(k_max)\n",
    "\n",
    "for i in tqdm(range(k_max)):\n",
    "    \n",
    "    kl_conf = torch.zeros(1,2,2,*test_lat_size)\n",
    "    kl_conf[:,0,1,:,:] = i\n",
    "    input_conf = kl_conf.reshape(1,4,*test_lat_size)\n",
    "    output = model(input_conf.to(\"cuda:0\"))\n",
    "    #print(output)\n",
    "    net_outputs[i] = output"
   ]
  },
  {
   "cell_type": "code",
   "execution_count": 16,
   "metadata": {},
   "outputs": [
    {
     "data": {
      "text/plain": [
       "[<matplotlib.lines.Line2D at 0x7f71ed7c6410>]"
      ]
     },
     "execution_count": 16,
     "metadata": {},
     "output_type": "execute_result"
    },
    {
     "data": {
      "image/png": "[encoded data removed]",
      "text/plain": [
       "<Figure size 432x288 with 1 Axes>"
      ]
     },
     "metadata": {
      "needs_background": "light"
     },
     "output_type": "display_data"
    }
   ],
   "source": [
    "int_net_outputs = np.rint(net_outputs.detach().numpy())\n",
    "plt.plot(np.arange(k_max), int_net_outputs)"
   ]
  },
  {
   "cell_type": "code",
   "execution_count": 17,
   "metadata": {},
   "outputs": [
    {
     "data": {
      "application/vnd.jupyter.widget-view+json": {
       "model_id": "2ab271c93c5c4bf29dfa0d1dc976c2a3",
       "version_major": 2,
       "version_minor": 0
      },
      "text/plain": [
       "HBox(children=(FloatProgress(value=0.0, max=40.0), HTML(value='')))"
      ]
     },
     "metadata": {},
     "output_type": "display_data"
    },
    {
     "name": "stdout",
     "output_type": "stream",
     "text": [
      "\n"
     ]
    }
   ],
   "source": [
    "\"\"\"test k flux conservation\"\"\"\n",
    "k_max = 40\n",
    "\n",
    "net_outputs = torch.zeros(k_max)\n",
    "\n",
    "for i in tqdm(range(k_max)):\n",
    "    \n",
    "    kl_conf = torch.zeros(1,2,2,*test_lat_size)\n",
    "    kl_conf[:,1,:,:,:] = i\n",
    "    input_conf = kl_conf.reshape(1,4,*test_lat_size)\n",
    "    output = model(input_conf.to(\"cuda:0\"))\n",
    "    #print(output)\n",
    "    net_outputs[i] = output\n",
    "    "
   ]
  },
  {
   "cell_type": "code",
   "execution_count": 18,
   "metadata": {},
   "outputs": [
    {
     "data": {
      "text/plain": [
       "[<matplotlib.lines.Line2D at 0x7f71ed7b3a50>]"
      ]
     },
     "execution_count": 18,
     "metadata": {},
     "output_type": "execute_result"
    },
    {
     "data": {
      "image/png": "[encoded data removed]",
      "text/plain": [
       "<Figure size 432x288 with 1 Axes>"
      ]
     },
     "metadata": {
      "needs_background": "light"
     },
     "output_type": "display_data"
    }
   ],
   "source": [
    "int_net_outputs = np.rint(net_outputs.detach().numpy())\n",
    "plt.plot(np.arange(k_max), int_net_outputs)"
   ]
  },
  {
   "cell_type": "code",
   "execution_count": 19,
   "metadata": {},
   "outputs": [
    {
     "data": {
      "application/vnd.jupyter.widget-view+json": {
       "model_id": "db4910a8993a4c4eb423a645c32fceaa",
       "version_major": 2,
       "version_minor": 0
      },
      "text/plain": [
       "HBox(children=(FloatProgress(value=0.0, max=40.0), HTML(value='')))"
      ]
     },
     "metadata": {},
     "output_type": "display_data"
    },
    {
     "name": "stdout",
     "output_type": "stream",
     "text": [
      "\n"
     ]
    }
   ],
   "source": [
    "\"\"\"test k flux conservation\"\"\"\n",
    "k_max = 40\n",
    "\n",
    "net_outputs = torch.zeros(k_max)\n",
    "\n",
    "for i in tqdm(range(k_max)):\n",
    "    \n",
    "    kl_conf = torch.zeros(1,2,2,*test_lat_size)\n",
    "    kl_conf[:,:,:,:,:] = i\n",
    "    input_conf = kl_conf.reshape(1,4,*test_lat_size)\n",
    "    output = model(input_conf.to(\"cuda:0\"))\n",
    "    #print(output)\n",
    "    net_outputs[i] = output\n",
    "    "
   ]
  },
  {
   "cell_type": "code",
   "execution_count": 20,
   "metadata": {},
   "outputs": [
    {
     "data": {
      "text/plain": [
       "[<matplotlib.lines.Line2D at 0x7f71ed72b750>]"
      ]
     },
     "execution_count": 20,
     "metadata": {},
     "output_type": "execute_result"
    },
    {
     "data": {
      "image/png": "[encoded data removed]",
      "text/plain": [
       "<Figure size 432x288 with 1 Axes>"
      ]
     },
     "metadata": {
      "needs_background": "light"
     },
     "output_type": "display_data"
    }
   ],
   "source": [
    "int_net_outputs = np.rint(net_outputs.detach().numpy())\n",
    "plt.plot(np.arange(k_max), int_net_outputs)"
   ]
  },
  {
   "cell_type": "code",
   "execution_count": 29,
   "metadata": {},
   "outputs": [
    {
     "data": {
      "application/vnd.jupyter.widget-view+json": {
       "model_id": "3a282e7873074d769f180c7dbcd49029",
       "version_major": 2,
       "version_minor": 0
      },
      "text/plain": [
       "HBox(children=(FloatProgress(value=0.0, max=100000.0), HTML(value='')))"
      ]
     },
     "metadata": {},
     "output_type": "display_data"
    },
    {
     "name": "stdout",
     "output_type": "stream",
     "text": [
      "\n",
      "1067\n"
     ]
    }
   ],
   "source": [
    "lat_size = [2,2]\n",
    "#lat_size = [5,5]\n",
    "#lat_size = [10,10]\n",
    "dims = len(lat_size)\n",
    "link_max = 30\n",
    "conf_size = np.concatenate(([2],lat_size))\n",
    "num_conf = 100000\n",
    "#num_conf = 100\n",
    "random_size = tuple(np.concatenate(([num_conf], conf_size)))\n",
    "\n",
    "k_links = torch.randint(low=-link_max, high=link_max+1, size=random_size)\n",
    "l_links = torch.randint(low=0, high=link_max, size=random_size)\n",
    "\n",
    "\n",
    "physical_conf_indices = []\n",
    "\n",
    "open_labels = torch.ones(num_conf)\n",
    "\n",
    "for conf_i in tqdm(range(num_conf)):\n",
    "    if torch.all(k_links[conf_i,0].sum() == 0):\n",
    "        physical_conf_indices.append(conf_i)\n",
    "        open_labels[conf_i] = 0\n",
    "    \n",
    "print(len(physical_conf_indices))"
   ]
  },
  {
   "cell_type": "code",
   "execution_count": 30,
   "metadata": {},
   "outputs": [],
   "source": [
    "confs = torch.cat((k_links, l_links), dim=1)\n",
    "#torch_confs = torch.tensor(confs, device=\"cuda:0\")\n",
    "torch_confs = confs.to(\"cuda:0\")"
   ]
  },
  {
   "cell_type": "code",
   "execution_count": 31,
   "metadata": {},
   "outputs": [],
   "source": [
    "net_outputs = model(torch_confs.float()).detach().cpu().numpy()\n",
    "\n",
    "int_net_outputs = np.rint(net_outputs)"
   ]
  },
  {
   "cell_type": "code",
   "execution_count": 32,
   "metadata": {},
   "outputs": [
    {
     "name": "stdout",
     "output_type": "stream",
     "text": [
      "[[    2  1065]\n",
      " [   54 98879]]\n"
     ]
    },
    {
     "data": {
      "text/plain": [
       "<matplotlib.image.AxesImage at 0x7f71ec58e790>"
      ]
     },
     "execution_count": 32,
     "metadata": {},
     "output_type": "execute_result"
    },
    {
     "data": {
      "image/png": "[encoded data removed]",
      "text/plain": [
       "<Figure size 432x288 with 1 Axes>"
      ]
     },
     "metadata": {
      "needs_background": "light"
     },
     "output_type": "display_data"
    }
   ],
   "source": [
    "conf_mat = sk.metrics.confusion_matrix(open_labels, int_net_outputs)\n",
    "#conf_mat = conf_mat/len(labels)\n",
    "print(conf_mat)\n",
    "plt.imshow(conf_mat, cmap=\"BuGn\")"
   ]
  },
  {
   "cell_type": "code",
   "execution_count": null,
   "metadata": {},
   "outputs": [],
   "source": [
    "\n"
   ]
  },
  {
   "cell_type": "code",
   "execution_count": null,
   "metadata": {},
   "outputs": [],
   "source": []
  },
  {
   "cell_type": "code",
   "execution_count": null,
   "metadata": {},
   "outputs": [],
   "source": []
  }
 ],
 "metadata": {
  "kernelspec": {
   "display_name": "Python 3",
   "language": "python",
   "name": "python3"
  },
  "language_info": {
   "codemirror_mode": {
    "name": "ipython",
    "version": 3
   },
   "file_extension": ".py",
   "mimetype": "text/x-python",
   "name": "python",
   "nbconvert_exporter": "python",
   "pygments_lexer": "ipython3",
   "version": "3.7.4"
  }
 },
 "nbformat": 4,
 "nbformat_minor": 2
}
