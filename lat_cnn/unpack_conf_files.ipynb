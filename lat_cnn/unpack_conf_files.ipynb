{
 "cells": [
  {
   "cell_type": "code",
   "execution_count": 1,
   "metadata": {},
   "outputs": [],
   "source": [
    "import numpy as np\n",
    "import scipy as scp\n",
    "import matplotlib.pyplot as plt\n",
    "\n",
    "import os\n",
    "import glob\n",
    "import torch.nn as nn"
   ]
  },
  {
   "cell_type": "code",
   "execution_count": 2,
   "metadata": {},
   "outputs": [
    {
     "data": {
      "text/plain": [
       "'\\ntry:\\n    os.mkdir(conf_file_dir)\\nexcept FileExistsError:\\n    pass\\n\\ndummy_k_conf = np.arange(1,7,dtype=int)\\ndummy_l_conf = np.arange(8,14,dtype=int)\\n\\nprint(dummy_k_conf.reshape(lat_size))\\nprint(dummy_l_conf.reshape(lat_size))\\n\\ndummy_mu = 3.1315\\n\\nk_test_conf_file_path = conf_file_dir + conf_search_name + \"-\" + str(dummy_mu) + \"-1-\" + file_ext\\nl_test_conf_file_path = conf_file_dir + conf_match_name + \"-\" + str(dummy_mu) + \"-1-\" + file_ext\\n\\ndummy_k_conf.tofile(k_test_conf_file_path, sep = \" \")\\ndummy_l_conf.tofile(l_test_conf_file_path, sep = \" \")\\n'"
      ]
     },
     "execution_count": 2,
     "metadata": {},
     "output_type": "execute_result"
    }
   ],
   "source": [
    "\"\"\"Create dummy configs for testing\"\"\"\n",
    "\"\"\"\n",
    "try:\n",
    "    os.mkdir(conf_file_dir)\n",
    "except FileExistsError:\n",
    "    pass\n",
    "\n",
    "dummy_k_conf = np.arange(1,7,dtype=int)\n",
    "dummy_l_conf = np.arange(8,14,dtype=int)\n",
    "\n",
    "print(dummy_k_conf.reshape(lat_size))\n",
    "print(dummy_l_conf.reshape(lat_size))\n",
    "\n",
    "dummy_mu = 3.1315\n",
    "\n",
    "k_test_conf_file_path = conf_file_dir + conf_search_name + \"-\" + str(dummy_mu) + \"-1-\" + file_ext\n",
    "l_test_conf_file_path = conf_file_dir + conf_match_name + \"-\" + str(dummy_mu) + \"-1-\" + file_ext\n",
    "\n",
    "dummy_k_conf.tofile(k_test_conf_file_path, sep = \" \")\n",
    "dummy_l_conf.tofile(l_test_conf_file_path, sep = \" \")\n",
    "\"\"\""
   ]
  },
  {
   "cell_type": "code",
   "execution_count": 3,
   "metadata": {},
   "outputs": [
    {
     "data": {
      "text/plain": [
       "'\\ndummy_k_conf = np.fromfile(k_test_conf_file_path, sep = \" \")\\ndummy_l_conf = np.fromfile(l_test_conf_file_path, sep = \" \")\\n\\nprint(dummy_k_conf.reshape(lat_size))\\nprint(dummy_l_conf.reshape(lat_size))\\n'"
      ]
     },
     "execution_count": 3,
     "metadata": {},
     "output_type": "execute_result"
    }
   ],
   "source": [
    "\"\"\"Create dummy configs for testing\"\"\"\n",
    "\"\"\"\n",
    "dummy_k_conf = np.fromfile(k_test_conf_file_path, sep = \" \")\n",
    "dummy_l_conf = np.fromfile(l_test_conf_file_path, sep = \" \")\n",
    "\n",
    "print(dummy_k_conf.reshape(lat_size))\n",
    "print(dummy_l_conf.reshape(lat_size))\n",
    "\"\"\""
   ]
  },
  {
   "cell_type": "code",
   "execution_count": 4,
   "metadata": {},
   "outputs": [],
   "source": [
    "#conf_file_dir = \"test_configs/\"\n",
    "#conf_file_dir = \"configs/\"\n",
    "conf_file_dir = \"../../complex_worm/Results and analysis/\"\n",
    "#new_conf_dir = \"../data/kl_config/\"\n",
    "new_conf_dir = \"/media/data/sbulusu/datasets/kl_config/\"\n",
    "\n",
    "try:\n",
    "    os.mkdir(new_conf_dir)\n",
    "except FileExistsError:\n",
    "    pass\n",
    "\n",
    "conf_search_name = \"k_config\"\n",
    "conf_match_name = \"l_config\"\n",
    "file_ext =\".dat\""
   ]
  },
  {
   "cell_type": "code",
   "execution_count": 5,
   "metadata": {},
   "outputs": [
    {
     "name": "stdout",
     "output_type": "stream",
     "text": [
      "[-1, 4000]\n"
     ]
    }
   ],
   "source": [
    "#lat_size = [200, 10]\n",
    "lat_size = [10, 200]\n",
    "dim = len(lat_size)\n",
    "lat_size = np.concatenate(([dim], lat_size))\n",
    "read_links_shape = [-1] + [int(np.array(lat_size).prod())]\n",
    "print(read_links_shape)"
   ]
  },
  {
   "cell_type": "code",
   "execution_count": 6,
   "metadata": {},
   "outputs": [
    {
     "name": "stdout",
     "output_type": "stream",
     "text": [
      "['../../complex_worm/Results and analysis/k_config-1.035000-1.dat', '../../complex_worm/Results and analysis/k_config-1.030000-1.dat', '../../complex_worm/Results and analysis/k_config-0.985000-1.dat', '../../complex_worm/Results and analysis/k_config-1.040000-1.dat', '../../complex_worm/Results and analysis/k_config-1.025000-1.dat', '../../complex_worm/Results and analysis/k_config-0.945000-1.dat', '../../complex_worm/Results and analysis/k_config-0.920000-1.dat', '../../complex_worm/Results and analysis/k_config-0.960000-1.dat', '../../complex_worm/Results and analysis/k_config-1.050000-1.dat', '../../complex_worm/Results and analysis/k_config-1.010000-1.dat', '../../complex_worm/Results and analysis/k_config-0.950000-1.dat', '../../complex_worm/Results and analysis/k_config-1.000000-1.dat', '../../complex_worm/Results and analysis/k_config-0.910000-1.dat', '../../complex_worm/Results and analysis/k_config-0.955000-1.dat', '../../complex_worm/Results and analysis/k_config-1.005000-1.dat', '../../complex_worm/Results and analysis/k_config-0.975000-1.dat', '../../complex_worm/Results and analysis/k_config-0.995000-1.dat', '../../complex_worm/Results and analysis/k_config-0.925000-1.dat', '../../complex_worm/Results and analysis/k_config-0.915000-1.dat', '../../complex_worm/Results and analysis/k_config-1.020000-1.dat', '../../complex_worm/Results and analysis/k_config-0.930000-1.dat', '../../complex_worm/Results and analysis/k_config-0.980000-1.dat', '../../complex_worm/Results and analysis/k_config-0.970000-1.dat', '../../complex_worm/Results and analysis/k_config-1.045000-1.dat', '../../complex_worm/Results and analysis/k_config-0.940000-1.dat', '../../complex_worm/Results and analysis/k_config-0.990000-1.dat', '../../complex_worm/Results and analysis/k_config-0.965000-1.dat', '../../complex_worm/Results and analysis/k_config-0.935000-1.dat', '../../complex_worm/Results and analysis/k_config-1.015000-1.dat']\n",
      "29\n"
     ]
    }
   ],
   "source": [
    "conf_file_paths = glob.glob(conf_file_dir + conf_search_name + \"*-1\" + file_ext)\n",
    "print(conf_file_paths)\n",
    "print(len(conf_file_paths))"
   ]
  },
  {
   "cell_type": "code",
   "execution_count": 7,
   "metadata": {},
   "outputs": [
    {
     "name": "stdout",
     "output_type": "stream",
     "text": [
      "k_config-1.035000-1.dat\n",
      "k_config-1.030000-1.dat\n",
      "k_config-0.985000-1.dat\n",
      "k_config-1.040000-1.dat\n",
      "k_config-1.025000-1.dat\n",
      "k_config-0.945000-1.dat\n",
      "k_config-0.920000-1.dat\n",
      "k_config-0.960000-1.dat\n",
      "k_config-1.050000-1.dat\n",
      "k_config-1.010000-1.dat\n",
      "k_config-0.950000-1.dat\n",
      "k_config-1.000000-1.dat\n",
      "k_config-0.910000-1.dat\n",
      "k_config-0.955000-1.dat\n",
      "k_config-1.005000-1.dat\n",
      "k_config-0.975000-1.dat\n",
      "k_config-0.995000-1.dat\n",
      "k_config-0.925000-1.dat\n",
      "k_config-0.915000-1.dat\n",
      "k_config-1.020000-1.dat\n",
      "k_config-0.930000-1.dat\n",
      "k_config-0.980000-1.dat\n",
      "k_config-0.970000-1.dat\n",
      "k_config-1.045000-1.dat\n",
      "k_config-0.940000-1.dat\n",
      "k_config-0.990000-1.dat\n",
      "k_config-0.965000-1.dat\n",
      "k_config-0.935000-1.dat\n",
      "k_config-1.015000-1.dat\n"
     ]
    }
   ],
   "source": [
    "#index to mark all configs\n",
    "i = 0\n",
    "new_conf_file_paths = []\n",
    "new_labels = []\n",
    "#conf_file_paths = conf_file_paths[0:2]\n",
    "for conf_file_path in conf_file_paths:\n",
    "    \n",
    "    #get the name of the old conf file\n",
    "    conf_file_name = conf_file_path.split(\"/\")[-1]\n",
    "    print(conf_file_name)\n",
    "    #isolate chemical potential out of filename.  delimiter = -\n",
    "    #config-mu-id-.ext\n",
    "    #label = float(conf_file_name.split(\"-\")[-3])\n",
    "    label = float(conf_file_name.split(\"-\")[-2])\n",
    "    \n",
    "    #attach label to filename?\n",
    "    \n",
    "    #for k andl links, find the corresponding files\n",
    "    match_conf_file_path = conf_file_path.replace(conf_search_name,conf_match_name,1)\n",
    "    #print(conf_file_path)\n",
    "    #print(match_conf_file_path)\n",
    "    \n",
    "    #open both k and l file\n",
    "    \n",
    "    search_conf_links = np.fromfile(conf_file_path, sep=\" \", dtype=int)\n",
    "    search_conf_links = search_conf_links.reshape(read_links_shape)\n",
    "    #print(search_conf_links.shape)\n",
    "    \n",
    "    match_conf_links = np.fromfile(match_conf_file_path, sep=\" \", dtype=int)\n",
    "    match_conf_links = match_conf_links.reshape(read_links_shape)\n",
    "    #print(match_conf_links.shape)\n",
    "    \n",
    "    #iterate through each configuration sample\n",
    "    #print(match_conf_links.shape[0])\n",
    "    num_confs = 10\n",
    "    for i_file_conf in range(match_conf_links.shape[0] - num_confs, match_conf_links.shape[0]):\n",
    "        \n",
    "        new_conf_file_name = conf_file_path.split(\"/\")[-1].replace(conf_search_name,\"conf\")\n",
    "        #print(new_conf_file_name)\n",
    "        \n",
    "        #attach label to filename\n",
    "        mu = float(new_conf_file_name.split(\"-\")[1])\n",
    "        #mu_th = 0.94\n",
    "        #print(mu)\n",
    "        \n",
    "        new_conf_file_name = new_conf_file_name.replace(file_ext,f\"-{i}-{mu}-\" + file_ext)\n",
    "        \n",
    "        #new_conf_file_name = new_conf_file_name.replace(file_ext,str(i) + file_ext)\n",
    "        #print(new_conf_file_name)\n",
    "        new_conf_file_path = new_conf_dir + new_conf_file_name\n",
    "        #print(new_conf_file_path)\n",
    "        \n",
    "        #new_conf_file_paths.append(new_conf_file_path)\n",
    "        new_conf_links = np.stack( (search_conf_links[i_file_conf],match_conf_links[i_file_conf]) )\n",
    "        new_conf_links.tofile(new_conf_file_path, sep=\" \")\n",
    "        #print(new_conf_links.shape)\n",
    "        \n",
    "        new_labels.append(label)\n",
    "        i += 1\n",
    "    "
   ]
  },
  {
   "cell_type": "code",
   "execution_count": 8,
   "metadata": {},
   "outputs": [
    {
     "ename": "IndexError",
     "evalue": "list index out of range",
     "output_type": "error",
     "traceback": [
      "\u001b[0;31m---------------------------------------------------------------------\u001b[0m",
      "\u001b[0;31mIndexError\u001b[0m                          Traceback (most recent call last)",
      "\u001b[0;32m<ipython-input-8-cc05627e76c6>\u001b[0m in \u001b[0;36m<module>\u001b[0;34m\u001b[0m\n\u001b[0;32m----> 1\u001b[0;31m \u001b[0mnew_conf\u001b[0m \u001b[0;34m=\u001b[0m \u001b[0mnp\u001b[0m\u001b[0;34m.\u001b[0m\u001b[0mfromfile\u001b[0m\u001b[0;34m(\u001b[0m\u001b[0mnew_conf_file_paths\u001b[0m\u001b[0;34m[\u001b[0m\u001b[0;36m0\u001b[0m\u001b[0;34m]\u001b[0m\u001b[0;34m,\u001b[0m \u001b[0msep\u001b[0m \u001b[0;34m=\u001b[0m \u001b[0;34m\" \"\u001b[0m\u001b[0;34m)\u001b[0m\u001b[0;34m\u001b[0m\u001b[0;34m\u001b[0m\u001b[0m\n\u001b[0m\u001b[1;32m      2\u001b[0m \u001b[0mread_shape\u001b[0m \u001b[0;34m=\u001b[0m \u001b[0mlist\u001b[0m\u001b[0;34m(\u001b[0m\u001b[0mnp\u001b[0m\u001b[0;34m.\u001b[0m\u001b[0mconcatenate\u001b[0m\u001b[0;34m(\u001b[0m\u001b[0;34m(\u001b[0m\u001b[0;34m[\u001b[0m\u001b[0;36m2\u001b[0m\u001b[0;34m]\u001b[0m\u001b[0;34m,\u001b[0m\u001b[0mlat_size\u001b[0m\u001b[0;34m)\u001b[0m\u001b[0;34m)\u001b[0m\u001b[0;34m)\u001b[0m\u001b[0;34m\u001b[0m\u001b[0;34m\u001b[0m\u001b[0m\n\u001b[1;32m      3\u001b[0m \u001b[0mprint\u001b[0m\u001b[0;34m(\u001b[0m\u001b[0mread_shape\u001b[0m\u001b[0;34m)\u001b[0m\u001b[0;34m\u001b[0m\u001b[0;34m\u001b[0m\u001b[0m\n\u001b[1;32m      4\u001b[0m \u001b[0;34m\u001b[0m\u001b[0m\n\u001b[1;32m      5\u001b[0m \u001b[0mnew_lat_conf\u001b[0m \u001b[0;34m=\u001b[0m \u001b[0mnew_conf\u001b[0m\u001b[0;34m.\u001b[0m\u001b[0mreshape\u001b[0m\u001b[0;34m(\u001b[0m\u001b[0mread_shape\u001b[0m\u001b[0;34m)\u001b[0m\u001b[0;34m\u001b[0m\u001b[0;34m\u001b[0m\u001b[0m\n",
      "\u001b[0;31mIndexError\u001b[0m: list index out of range"
     ]
    }
   ],
   "source": [
    "new_conf = np.fromfile(new_conf_file_paths[0], sep = \" \")\n",
    "read_shape = list(np.concatenate(([2],lat_size)))\n",
    "print(read_shape)\n",
    "\n",
    "new_lat_conf = new_conf.reshape(read_shape)\n",
    "print(new_lat_conf)"
   ]
  },
  {
   "cell_type": "code",
   "execution_count": null,
   "metadata": {},
   "outputs": [],
   "source": [
    "plt.imshow(new_lat_conf[1,:,:])"
   ]
  },
  {
   "cell_type": "code",
   "execution_count": null,
   "metadata": {},
   "outputs": [],
   "source": []
  }
 ],
 "metadata": {
  "kernelspec": {
   "display_name": "Python 3",
   "language": "python",
   "name": "python3"
  },
  "language_info": {
   "codemirror_mode": {
    "name": "ipython",
    "version": 3
   },
   "file_extension": ".py",
   "mimetype": "text/x-python",
   "name": "python",
   "nbconvert_exporter": "python",
   "pygments_lexer": "ipython3",
   "version": "3.7.4"
  }
 },
 "nbformat": 4,
 "nbformat_minor": 2
}
