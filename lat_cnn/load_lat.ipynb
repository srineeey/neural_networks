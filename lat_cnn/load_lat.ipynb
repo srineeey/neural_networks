{
 "cells": [
  {
   "cell_type": "code",
   "execution_count": 6,
   "metadata": {},
   "outputs": [],
   "source": [
    "import numpy as np\n",
    "import itertools"
   ]
  },
  {
   "cell_type": "code",
   "execution_count": 17,
   "metadata": {},
   "outputs": [
    {
     "name": "stdout",
     "output_type": "stream",
     "text": [
      "[ 0  1  2  3  4  5  6  7  8  9 10 11 12 13 14 15 16 17 18 19 20 21 22 23]\n"
     ]
    }
   ],
   "source": [
    "dim = 2\n",
    "lat_size = np.zeros((dim))\n",
    "#y direction\n",
    "lat_size[0] = 4\n",
    "#x direction\n",
    "lat_size[1] = 3\n",
    "n_sites = int(lat_size.prod())\n",
    "sites = range(n_sites)\n",
    "links = np.array((range(n_sites*dim)))\n",
    "print(links)"
   ]
  },
  {
   "cell_type": "code",
   "execution_count": 18,
   "metadata": {},
   "outputs": [
    {
     "name": "stdout",
     "output_type": "stream",
     "text": [
      "[0, 1, 2, 3, 4, 5, 6, 7, 8, 9, 10, 11, 0, 1, 2, 3, 4, 5, 6, 7, 8, 9, 10, 11]\n"
     ]
    }
   ],
   "source": [
    "links_site = [np.mod(link, n_sites) for link in links]\n",
    "print(links_site)\n",
    "links = np.array(links_site)"
   ]
  },
  {
   "cell_type": "code",
   "execution_count": 19,
   "metadata": {},
   "outputs": [],
   "source": [
    "lat_shape = [int(lat_x_size) for lat_x_size in lat_size]\n",
    "lat_links_shape = [dim] + lat_shape\n",
    "lat_links_shape = tuple(lat_links_shape)"
   ]
  },
  {
   "cell_type": "code",
   "execution_count": 20,
   "metadata": {},
   "outputs": [
    {
     "name": "stdout",
     "output_type": "stream",
     "text": [
      "(2, 4, 3)\n"
     ]
    }
   ],
   "source": [
    "links_ru = np.array(links.reshape(lat_links_shape))\n",
    "print(links_ru.shape)\n",
    "#links[dir,y,x]\n",
    "#links[dir,lat:size[dim-1], ..., lat_size[0]]"
   ]
  },
  {
   "cell_type": "code",
   "execution_count": 21,
   "metadata": {},
   "outputs": [
    {
     "name": "stdout",
     "output_type": "stream",
     "text": [
      "0\n",
      "[[3, 0, 1, 2], slice(None, None, None)]\n",
      "[[ 0  1  2]\n",
      " [ 3  4  5]\n",
      " [ 6  7  8]\n",
      " [ 9 10 11]]\n",
      "[[ 9 10 11]\n",
      " [ 0  1  2]\n",
      " [ 3  4  5]\n",
      " [ 6  7  8]]\n",
      "1\n",
      "[slice(None, None, None), [2, 0, 1]]\n",
      "[[ 0  1  2]\n",
      " [ 3  4  5]\n",
      " [ 6  7  8]\n",
      " [ 9 10 11]]\n",
      "[[ 2  0  1]\n",
      " [ 5  3  4]\n",
      " [ 8  6  7]\n",
      " [11  9 10]]\n"
     ]
    }
   ],
   "source": [
    "links_ld = np.zeros(lat_links_shape)\n",
    "for d in range(dim):\n",
    "    print(d)\n",
    "\n",
    "    #print(int(lat_size[int(d)]))\n",
    "    perm = list(range(int(lat_size[int(d)])))\n",
    "    perm = ([perm[-1]] + perm)[:-1]\n",
    "    #print(perm)\n",
    "    perm_indices = []\n",
    "    for b in range(dim):\n",
    "        if b == d:\n",
    "            perm_indices.append(perm)\n",
    "        else:\n",
    "            perm_indices.append(slice(None))\n",
    "            \n",
    "    #perm_indices = perm_indices[::-1]\n",
    "    print(perm_indices)\n",
    "    \n",
    "    links = links_ru[-(int(d)+1)]\n",
    "    print(links)\n",
    "    print(links[tuple(perm_indices)])\n",
    "    \n",
    "    links_ld[d] = links[tuple(perm_indices)]\n",
    "    #print(links_ld[d])\n",
    "links_ld = links_ld[::-1]\n",
    "    \n",
    "\n"
   ]
  },
  {
   "cell_type": "code",
   "execution_count": 22,
   "metadata": {},
   "outputs": [
    {
     "data": {
      "text/plain": [
       "'\\nlat_links[link_dir,z,y,x]\\nlink_dir:\\nx+, y+, z+\\nx-, y-, z-\\n'"
      ]
     },
     "execution_count": 22,
     "metadata": {},
     "output_type": "execute_result"
    }
   ],
   "source": [
    "\"\"\"\n",
    "lat_links[link_dir,z,y,x]\n",
    "link_dir:\n",
    "x+, y+, z+\n",
    "x-, y-, z-\n",
    "\"\"\""
   ]
  },
  {
   "cell_type": "code",
   "execution_count": 23,
   "metadata": {},
   "outputs": [],
   "source": [
    "lat_links = np.concatenate((links_ru, links_ld))"
   ]
  },
  {
   "cell_type": "code",
   "execution_count": 24,
   "metadata": {},
   "outputs": [
    {
     "name": "stdout",
     "output_type": "stream",
     "text": [
      "[[ 0.  1.  2.]\n",
      " [ 3.  4.  5.]\n",
      " [ 6.  7.  8.]\n",
      " [ 9. 10. 11.]]\n"
     ]
    }
   ],
   "source": [
    "print(lat_links[0,:,:])"
   ]
  },
  {
   "cell_type": "code",
   "execution_count": 14,
   "metadata": {},
   "outputs": [
    {
     "name": "stdout",
     "output_type": "stream",
     "text": [
      "[[16. 17. 18. 19.]\n",
      " [20. 21. 22. 23.]\n",
      " [24. 25. 26. 27.]\n",
      " [28. 29. 30. 31.]]\n",
      "[[16. 17. 18. 19.]\n",
      " [20. 21. 22. 23.]\n",
      " [24. 25. 26. 27.]\n",
      " [28. 29. 30. 31.]]\n"
     ]
    }
   ],
   "source": [
    "print(lat_links[0,1,:,:])\n",
    "print(lat_links[1,1,:,:])"
   ]
  },
  {
   "cell_type": "code",
   "execution_count": 13,
   "metadata": {},
   "outputs": [
    {
     "name": "stdout",
     "output_type": "stream",
     "text": [
      "[[19. 16. 17. 18.]\n",
      " [23. 20. 21. 22.]\n",
      " [27. 24. 25. 26.]\n",
      " [31. 28. 29. 30.]]\n",
      "[[28. 29. 30. 31.]\n",
      " [16. 17. 18. 19.]\n",
      " [20. 21. 22. 23.]\n",
      " [24. 25. 26. 27.]]\n"
     ]
    }
   ],
   "source": [
    "print(lat_links[3,1,:,:])\n",
    "print(lat_links[4,1,:,:])"
   ]
  },
  {
   "cell_type": "code",
   "execution_count": 29,
   "metadata": {},
   "outputs": [
    {
     "name": "stdout",
     "output_type": "stream",
     "text": [
      "11.0\n"
     ]
    }
   ],
   "source": [
    "print(lat_links[0,3,2])"
   ]
  },
  {
   "cell_type": "code",
   "execution_count": 42,
   "metadata": {},
   "outputs": [
    {
     "name": "stdout",
     "output_type": "stream",
     "text": [
      "[[ 0  1  2  3  4]\n",
      " [ 5  6  7  8  9]\n",
      " [10 11 12 13 14]\n",
      " [15 16 17 18 19]]\n",
      "[0 1 2 3 4]\n"
     ]
    }
   ],
   "source": [
    "nums = list(range(20))\n",
    "nums = np.array(nums)\n",
    "nums = nums.reshape((-1,5))\n",
    "print(nums)\n",
    "print(nums[0])"
   ]
  },
  {
   "cell_type": "code",
   "execution_count": null,
   "metadata": {},
   "outputs": [],
   "source": []
  },
  {
   "cell_type": "code",
   "execution_count": null,
   "metadata": {},
   "outputs": [],
   "source": []
  },
  {
   "cell_type": "code",
   "execution_count": null,
   "metadata": {},
   "outputs": [],
   "source": []
  }
 ],
 "metadata": {
  "kernelspec": {
   "display_name": "Python 3",
   "language": "python",
   "name": "python3"
  },
  "language_info": {
   "codemirror_mode": {
    "name": "ipython",
    "version": 3
   },
   "file_extension": ".py",
   "mimetype": "text/x-python",
   "name": "python",
   "nbconvert_exporter": "python",
   "pygments_lexer": "ipython3",
   "version": "3.7.4"
  }
 },
 "nbformat": 4,
 "nbformat_minor": 2
}
