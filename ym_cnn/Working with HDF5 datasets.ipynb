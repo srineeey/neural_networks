{
 "cells": [
  {
   "cell_type": "markdown",
   "metadata": {},
   "source": [
    "# Working with HDF5 datasets\n",
    "\n",
    "Before you can start loading HDF5 data, you need to install the `h5py` package.\n",
    "\n",
    "`conda install h5py`"
   ]
  },
  {
   "cell_type": "code",
   "execution_count": 6,
   "metadata": {},
   "outputs": [],
   "source": [
    "import numpy as np\n",
    "import h5py"
   ]
  },
  {
   "cell_type": "markdown",
   "metadata": {},
   "source": [
    "# Basic usage"
   ]
  },
  {
   "cell_type": "code",
   "execution_count": 7,
   "metadata": {},
   "outputs": [],
   "source": [
    "# load hdf5 file\n",
    "#f = h5py.File(\"/media/data/dmueller/ym_datasets/test_4_8p3.hdf5\", \"r\")\n",
    "f = h5py.File(\"/media/data/sbulusu/datasets/ym_datasets/test_4_8p3.hdf5\", \"r\")"
   ]
  },
  {
   "cell_type": "code",
   "execution_count": null,
   "metadata": {},
   "outputs": [],
   "source": [
    "# each hdf5 file consists of multiple datasets\n",
    "# check out the names of the datasets\n",
    "f.keys()"
   ]
  },
  {
   "cell_type": "code",
   "execution_count": 9,
   "metadata": {},
   "outputs": [
    {
     "name": "stdout",
     "output_type": "stream",
     "text": [
      "P\n",
      "beta\n",
      "dims\n",
      "trW\n",
      "u\n",
      "w\n",
      "y\n"
     ]
    }
   ],
   "source": [
    "for key in f.keys():\n",
    "    print(key)"
   ]
  },
  {
   "cell_type": "markdown",
   "metadata": {},
   "source": [
    "The hdf5 file consists of a few datasets\n",
    "\n",
    "* `u` and `w`: array of link matrices and Wilson loop matrices\n",
    "* `trW`: array of Wilson loop traces\n",
    "* `y`: array of labels\n",
    "* `beta`: array of coupling constants\n",
    "* `P`: array of Polyakov loop traces"
   ]
  },
  {
   "cell_type": "code",
   "execution_count": 10,
   "metadata": {},
   "outputs": [
    {
     "data": {
      "text/plain": [
       "<HDF5 dataset \"dims\": shape (4,), type \"<i8\">"
      ]
     },
     "execution_count": 10,
     "metadata": {},
     "output_type": "execute_result"
    }
   ],
   "source": [
    "# dimensions of the lattice\n",
    "f['dims']"
   ]
  },
  {
   "cell_type": "code",
   "execution_count": 11,
   "metadata": {},
   "outputs": [
    {
     "data": {
      "text/plain": [
       "array([4, 8, 8, 8])"
      ]
     },
     "execution_count": 11,
     "metadata": {},
     "output_type": "execute_result"
    }
   ],
   "source": [
    "# data is anly loaded 'lazily' from the file\n",
    "# we have to explicitly access the array elements to see the values\n",
    "f['dims'][:]"
   ]
  },
  {
   "cell_type": "code",
   "execution_count": 12,
   "metadata": {},
   "outputs": [
    {
     "name": "stdout",
     "output_type": "stream",
     "text": [
      "(2000, 2048, 4, 2, 2) complex64\n",
      "(2000, 2048, 6, 2, 2) complex64\n",
      "(2000, 2048, 6) complex64\n",
      "(2000,) float32\n",
      "(2000,) int32\n",
      "(2000,) float32\n"
     ]
    }
   ],
   "source": [
    "# lets print the shapes of all the array and the data types\n",
    "print(f['u'].shape, f['u'].dtype)\n",
    "print(f['w'].shape, f['w'].dtype)\n",
    "print(f['trW'].shape, f['trW'].dtype)\n",
    "print(f['beta'].shape, f['beta'].dtype)\n",
    "print(f['y'].shape, f['y'].dtype)\n",
    "print(f['P'].shape, f['P'].dtype)"
   ]
  },
  {
   "cell_type": "code",
   "execution_count": 16,
   "metadata": {},
   "outputs": [
    {
     "data": {
      "text/plain": [
       "array([[1.8593231+0.j, 1.3474445+0.j, 1.6442561+0.j, 1.626732 +0.j,\n",
       "        1.4145662+0.j, 1.9127969+0.j],\n",
       "       [1.9853619+0.j, 1.7971154+0.j, 1.7459404+0.j, 1.8987795+0.j,\n",
       "        1.875567 +0.j, 1.9932044+0.j],\n",
       "       [1.9521285+0.j, 1.6290618+0.j, 1.7158161+0.j, 1.9311266+0.j,\n",
       "        1.5421947+0.j, 1.91811  +0.j],\n",
       "       ...,\n",
       "       [1.7009405+0.j, 1.3165945+0.j, 1.8595853+0.j, 1.6361184+0.j,\n",
       "        1.7038369+0.j, 1.8042083+0.j],\n",
       "       [1.9282148+0.j, 1.5456533+0.j, 1.5760418+0.j, 1.3350972+0.j,\n",
       "        1.1928371+0.j, 1.8592515+0.j],\n",
       "       [1.4567833+0.j, 1.8670393+0.j, 1.8928581+0.j, 1.7633663+0.j,\n",
       "        1.9731896+0.j, 1.8960235+0.j]], dtype=complex64)"
      ]
     },
     "execution_count": 16,
     "metadata": {},
     "output_type": "execute_result"
    }
   ],
   "source": [
    "# access data like standard numpy arrays\n",
    "f['trW'][1999]"
   ]
  },
  {
   "cell_type": "markdown",
   "metadata": {},
   "source": [
    "# Some plots\n",
    "\n",
    "We can visually investigate the data very easily using `matplotlib`."
   ]
  },
  {
   "cell_type": "code",
   "execution_count": 22,
   "metadata": {},
   "outputs": [],
   "source": [
    "import matplotlib.pyplot as plt"
   ]
  },
  {
   "cell_type": "code",
   "execution_count": 37,
   "metadata": {},
   "outputs": [
    {
     "data": {
      "image/png": "[encoded data removed]",
      "text/plain": [
       "<Figure size 432x288 with 1 Axes>"
      ]
     },
     "metadata": {
      "needs_background": "light"
     },
     "output_type": "display_data"
    }
   ],
   "source": [
    "# plot the traces of Wilson loops\n",
    "W = 6\n",
    "for i in range(W):\n",
    "    plt.scatter(f['beta'], np.real(np.mean(f['trW'], axis=1)[:, i]), marker='x')\n",
    "plt.xlabel(\"beta\")\n",
    "plt.ylabel(\"tr W\")\n",
    "plt.grid()\n",
    "plt.show()"
   ]
  },
  {
   "cell_type": "code",
   "execution_count": 36,
   "metadata": {},
   "outputs": [
    {
     "data": {
      "image/png": "[encoded data removed]",
      "text/plain": [
       "<Figure size 432x288 with 1 Axes>"
      ]
     },
     "metadata": {
      "needs_background": "light"
     },
     "output_type": "display_data"
    }
   ],
   "source": [
    "# histrogram of the first and last 'beta' value\n",
    "plt.hist(np.real(f['trW'][0:100, :, 0]).flatten())\n",
    "plt.hist(np.real(f['trW'][-100:, :, 0]).flatten())\n",
    "plt.xlabel(\"Re tr W\")\n",
    "plt.ylabel(\"#\")\n",
    "plt.grid()\n",
    "plt.show()"
   ]
  },
  {
   "cell_type": "code",
   "execution_count": 38,
   "metadata": {},
   "outputs": [
    {
     "data": {
      "image/png": "[encoded data removed]",
      "text/plain": [
       "<Figure size 432x288 with 1 Axes>"
      ]
     },
     "metadata": {
      "needs_background": "light"
     },
     "output_type": "display_data"
    }
   ],
   "source": [
    "# plot the traces of Polyakov loops\n",
    "plt.scatter(f['beta'], np.real(f['P']), marker='x')\n",
    "plt.grid()\n",
    "plt.xlabel(\"beta\")\n",
    "plt.ylabel(\"Re tr P\")\n",
    "plt.show()"
   ]
  },
  {
   "cell_type": "code",
   "execution_count": 39,
   "metadata": {},
   "outputs": [
    {
     "data": {
      "image/png": "[encoded data removed]",
      "text/plain": [
       "<Figure size 432x288 with 1 Axes>"
      ]
     },
     "metadata": {
      "needs_background": "light"
     },
     "output_type": "display_data"
    }
   ],
   "source": [
    "# histogram of the first and last 'beta' value\n",
    "plt.hist(np.real(f['P'][0:100]), bins=20)\n",
    "plt.hist(np.real(f['P'][-100:]), bins=60)\n",
    "plt.grid()\n",
    "plt.xlabel(\"Re tr P\")\n",
    "plt.ylabel(\"#\")\n",
    "plt.show()"
   ]
  },
  {
   "cell_type": "code",
   "execution_count": 40,
   "metadata": {},
   "outputs": [
    {
     "data": {
      "image/png": "[encoded data removed]",
      "text/plain": [
       "<Figure size 432x288 with 1 Axes>"
      ]
     },
     "metadata": {
      "needs_background": "light"
     },
     "output_type": "display_data"
    }
   ],
   "source": [
    "# recreate the Polyakov loop plot\n",
    "num_examples = len(f['beta'])\n",
    "num_per_beta = 50\n",
    "num_beta = num_examples // num_per_beta\n",
    "\n",
    "for i in range(num_beta):\n",
    "    beta = f['beta'][i * num_per_beta]\n",
    "    p = np.mean(np.abs(f['P'][i * num_per_beta:(i+1) * num_per_beta]))\n",
    "    plt.scatter(beta, p, c='blue', marker='x')\n",
    "plt.xlabel(\"beta\")\n",
    "plt.ylabel(\"<|tr P|>\")\n",
    "plt.grid()"
   ]
  },
  {
   "cell_type": "markdown",
   "metadata": {},
   "source": [
    "Seems like the bias is gone from the Polyakov line, but the traces of Wilson loops are still always positive"
   ]
  },
  {
   "cell_type": "code",
   "execution_count": 13,
   "metadata": {},
   "outputs": [],
   "source": [
    "# hdf5 files need to be closed manually\n",
    "f.close()"
   ]
  },
  {
   "cell_type": "code",
   "execution_count": null,
   "metadata": {},
   "outputs": [],
   "source": []
  }
 ],
 "metadata": {
  "kernelspec": {
   "display_name": "Python 3",
   "language": "python",
   "name": "python3"
  },
  "language_info": {
   "codemirror_mode": {
    "name": "ipython",
    "version": 3
   },
   "file_extension": ".py",
   "mimetype": "text/x-python",
   "name": "python",
   "nbconvert_exporter": "python",
   "pygments_lexer": "ipython3",
   "version": "3.7.4"
  }
 },
 "nbformat": 4,
 "nbformat_minor": 2
}
