{
 "cells": [
  {
   "cell_type": "code",
   "execution_count": 87,
   "metadata": {},
   "outputs": [],
   "source": [
    "import numpy as np\n",
    "import scipy as scp\n",
    "import matplotlib.pyplot as plt\n",
    "import seaborn as sns\n",
    "import pandas as pd\n",
    "\n",
    "import os\n",
    "import glob\n",
    "import sys\n",
    "\n",
    "sys.path.insert(1,\"/home/sbulusu/qcd_ml/neural_networks/libs/\")\n",
    "\n",
    "import torch\n",
    "import torch.nn as nn\n",
    "\n",
    "import lat_dataset_load_new_lightning\n",
    "\n",
    "from tqdm.notebook import tqdm"
   ]
  },
  {
   "cell_type": "code",
   "execution_count": 2,
   "metadata": {},
   "outputs": [
    {
     "name": "stdout",
     "output_type": "stream",
     "text": [
      "Utilizing CUDA\n"
     ]
    }
   ],
   "source": [
    "if torch.cuda.is_available():\n",
    "    device = torch.device(\"cuda:0\")\n",
    "    print(\"Utilizing CUDA\")\n",
    "else:\n",
    "    device = torch.device(\"cpu\")\n",
    "    print(\"Utilizing CPU\")\n",
    "    "
   ]
  },
  {
   "cell_type": "code",
   "execution_count": 3,
   "metadata": {},
   "outputs": [
    {
     "name": "stdout",
     "output_type": "stream",
     "text": [
      "[ -1   2   2   5 100]\n"
     ]
    },
    {
     "data": {
      "application/vnd.jupyter.widget-view+json": {
       "model_id": "d4b43b0df6ef4ccd9e375994972f9da9",
       "version_major": 2,
       "version_minor": 0
      },
      "text/plain": [
       "HBox(children=(FloatProgress(value=0.0, max=29.0), HTML(value='')))"
      ]
     },
     "metadata": {},
     "output_type": "display_data"
    },
    {
     "name": "stdout",
     "output_type": "stream",
     "text": [
      "Read conf file /media/data/sbulusu/datasets/complexworm/Results for CNN/configs-100-5-4.010-1.000-1.050.dat with size :torch.Size([5000, 2, 2, 5, 100])\n",
      "skipping 0.3 of configurations (warm up)\n"
     ]
    },
    {
     "data": {
      "application/vnd.jupyter.widget-view+json": {
       "model_id": "eaeea0901199418eaf2ebfbbb46abff6",
       "version_major": 2,
       "version_minor": 0
      },
      "text/plain": [
       "HBox(children=(FloatProgress(value=0.0, max=3500.0), HTML(value='')))"
      ]
     },
     "metadata": {},
     "output_type": "display_data"
    },
    {
     "name": "stdout",
     "output_type": "stream",
     "text": [
      "first example loaded:\n",
      "{'conf': tensor([[[[ 1,  0,  0,  ...,  0,  2,  1],\n",
      "          [ 0,  1,  0,  ...,  2,  0,  0],\n",
      "          [ 2,  1,  3,  ...,  1,  1,  2],\n",
      "          [ 0,  0, -1,  ...,  1,  0,  1],\n",
      "          [ 1,  2,  2,  ...,  0,  1,  0]],\n",
      "\n",
      "         [[ 0,  0,  0,  ...,  1, -2,  1],\n",
      "          [ 0, -1,  1,  ...,  0,  0,  1],\n",
      "          [ 0,  0, -1,  ...,  0,  0,  0],\n",
      "          [ 1,  0,  0,  ...,  0,  1, -1],\n",
      "          [ 0, -1,  0,  ...,  0,  0,  0]]],\n",
      "\n",
      "\n",
      "        [[[ 0,  1,  0,  ...,  0,  0,  0],\n",
      "          [ 0,  0,  1,  ...,  0,  1,  1],\n",
      "          [ 0,  0,  0,  ...,  0,  0,  0],\n",
      "          [ 0,  0,  0,  ...,  0,  0,  0],\n",
      "          [ 0,  0,  0,  ...,  0,  0,  0]],\n",
      "\n",
      "         [[ 0,  0,  0,  ...,  0,  0,  0],\n",
      "          [ 1,  0,  1,  ...,  0,  0,  0],\n",
      "          [ 0,  0,  0,  ...,  0,  0,  0],\n",
      "          [ 0,  0,  0,  ...,  0,  0,  0],\n",
      "          [ 0,  0,  0,  ...,  0,  0,  0]]]]), 'mu': tensor(1.0500), 'phase': tensor(1.), 'n': tensor(0.8000, dtype=torch.float64), 'phi2': tensor(0.4983, dtype=torch.float64), 'id': 0}\n",
      "\n",
      "Read conf file /media/data/sbulusu/datasets/complexworm/Results for CNN/configs-100-5-4.010-1.000-0.975.dat with size :torch.Size([5000, 2, 2, 5, 100])\n",
      "skipping 0.3 of configurations (warm up)\n"
     ]
    },
    {
     "data": {
      "application/vnd.jupyter.widget-view+json": {
       "model_id": "90ce8911915f46c9a3bacb897dc8fa52",
       "version_major": 2,
       "version_minor": 0
      },
      "text/plain": [
       "HBox(children=(FloatProgress(value=0.0, max=3500.0), HTML(value='')))"
      ]
     },
     "metadata": {},
     "output_type": "display_data"
    },
    {
     "name": "stdout",
     "output_type": "stream",
     "text": [
      "\n",
      "Read conf file /media/data/sbulusu/datasets/complexworm/Results for CNN/configs-100-5-4.010-1.000-0.955.dat with size :torch.Size([5000, 2, 2, 5, 100])\n",
      "skipping 0.3 of configurations (warm up)\n"
     ]
    },
    {
     "data": {
      "application/vnd.jupyter.widget-view+json": {
       "model_id": "4e854efe6abe4aa8b6c4993ab69a8d3b",
       "version_major": 2,
       "version_minor": 0
      },
      "text/plain": [
       "HBox(children=(FloatProgress(value=0.0, max=3500.0), HTML(value='')))"
      ]
     },
     "metadata": {},
     "output_type": "display_data"
    },
    {
     "name": "stdout",
     "output_type": "stream",
     "text": [
      "\n",
      "Read conf file /media/data/sbulusu/datasets/complexworm/Results for CNN/configs-100-5-4.010-1.000-0.990.dat with size :torch.Size([5000, 2, 2, 5, 100])\n",
      "skipping 0.3 of configurations (warm up)\n"
     ]
    },
    {
     "data": {
      "application/vnd.jupyter.widget-view+json": {
       "model_id": "dd7b0d25d7c049d3a8d77c01d92e3d71",
       "version_major": 2,
       "version_minor": 0
      },
      "text/plain": [
       "HBox(children=(FloatProgress(value=0.0, max=3500.0), HTML(value='')))"
      ]
     },
     "metadata": {},
     "output_type": "display_data"
    },
    {
     "name": "stdout",
     "output_type": "stream",
     "text": [
      "\n",
      "Read conf file /media/data/sbulusu/datasets/complexworm/Results for CNN/configs-100-5-4.010-1.000-0.970.dat with size :torch.Size([5000, 2, 2, 5, 100])\n",
      "skipping 0.3 of configurations (warm up)\n"
     ]
    },
    {
     "data": {
      "application/vnd.jupyter.widget-view+json": {
       "model_id": "bf4e5c67e26046b699d8d969f5dd28c4",
       "version_major": 2,
       "version_minor": 0
      },
      "text/plain": [
       "HBox(children=(FloatProgress(value=0.0, max=3500.0), HTML(value='')))"
      ]
     },
     "metadata": {},
     "output_type": "display_data"
    },
    {
     "name": "stdout",
     "output_type": "stream",
     "text": [
      "\n",
      "Read conf file /media/data/sbulusu/datasets/complexworm/Results for CNN/configs-100-5-4.010-1.000-1.045.dat with size :torch.Size([5000, 2, 2, 5, 100])\n",
      "skipping 0.3 of configurations (warm up)\n"
     ]
    },
    {
     "data": {
      "application/vnd.jupyter.widget-view+json": {
       "model_id": "ae87feecd6a0451493c07a17472db92d",
       "version_major": 2,
       "version_minor": 0
      },
      "text/plain": [
       "HBox(children=(FloatProgress(value=0.0, max=3500.0), HTML(value='')))"
      ]
     },
     "metadata": {},
     "output_type": "display_data"
    },
    {
     "name": "stdout",
     "output_type": "stream",
     "text": [
      "\n",
      "Read conf file /media/data/sbulusu/datasets/complexworm/Results for CNN/configs-100-5-4.010-1.000-1.005.dat with size :torch.Size([5000, 2, 2, 5, 100])\n",
      "skipping 0.3 of configurations (warm up)\n"
     ]
    },
    {
     "data": {
      "application/vnd.jupyter.widget-view+json": {
       "model_id": "339061f683524dcfaae45e6fbb5e18ac",
       "version_major": 2,
       "version_minor": 0
      },
      "text/plain": [
       "HBox(children=(FloatProgress(value=0.0, max=3500.0), HTML(value='')))"
      ]
     },
     "metadata": {},
     "output_type": "display_data"
    },
    {
     "name": "stdout",
     "output_type": "stream",
     "text": [
      "\n",
      "Read conf file /media/data/sbulusu/datasets/complexworm/Results for CNN/configs-100-5-4.010-1.000-0.980.dat with size :torch.Size([5000, 2, 2, 5, 100])\n",
      "skipping 0.3 of configurations (warm up)\n"
     ]
    },
    {
     "data": {
      "application/vnd.jupyter.widget-view+json": {
       "model_id": "dccc9171d73545479ac9c9a759a721c3",
       "version_major": 2,
       "version_minor": 0
      },
      "text/plain": [
       "HBox(children=(FloatProgress(value=0.0, max=3500.0), HTML(value='')))"
      ]
     },
     "metadata": {},
     "output_type": "display_data"
    },
    {
     "name": "stdout",
     "output_type": "stream",
     "text": [
      "\n",
      "Read conf file /media/data/sbulusu/datasets/complexworm/Results for CNN/configs-100-5-4.010-1.000-1.040.dat with size :torch.Size([5000, 2, 2, 5, 100])\n",
      "skipping 0.3 of configurations (warm up)\n"
     ]
    },
    {
     "data": {
      "application/vnd.jupyter.widget-view+json": {
       "model_id": "7e301f0f91bf4c6a8c726afd3429197e",
       "version_major": 2,
       "version_minor": 0
      },
      "text/plain": [
       "HBox(children=(FloatProgress(value=0.0, max=3500.0), HTML(value='')))"
      ]
     },
     "metadata": {},
     "output_type": "display_data"
    },
    {
     "name": "stdout",
     "output_type": "stream",
     "text": [
      "\n",
      "Read conf file /media/data/sbulusu/datasets/complexworm/Results for CNN/configs-100-5-4.010-1.000-1.030.dat with size :torch.Size([5000, 2, 2, 5, 100])\n",
      "skipping 0.3 of configurations (warm up)\n"
     ]
    },
    {
     "data": {
      "application/vnd.jupyter.widget-view+json": {
       "model_id": "7745879fc06f4181b42097db3cff3aea",
       "version_major": 2,
       "version_minor": 0
      },
      "text/plain": [
       "HBox(children=(FloatProgress(value=0.0, max=3500.0), HTML(value='')))"
      ]
     },
     "metadata": {},
     "output_type": "display_data"
    },
    {
     "name": "stdout",
     "output_type": "stream",
     "text": [
      "\n",
      "Read conf file /media/data/sbulusu/datasets/complexworm/Results for CNN/configs-100-5-4.010-1.000-1.015.dat with size :torch.Size([5000, 2, 2, 5, 100])\n",
      "skipping 0.3 of configurations (warm up)\n"
     ]
    },
    {
     "data": {
      "application/vnd.jupyter.widget-view+json": {
       "model_id": "0f279e8d2c944b15ae8c412377a1a25f",
       "version_major": 2,
       "version_minor": 0
      },
      "text/plain": [
       "HBox(children=(FloatProgress(value=0.0, max=3500.0), HTML(value='')))"
      ]
     },
     "metadata": {},
     "output_type": "display_data"
    },
    {
     "name": "stdout",
     "output_type": "stream",
     "text": [
      "\n",
      "Read conf file /media/data/sbulusu/datasets/complexworm/Results for CNN/configs-100-5-4.010-1.000-0.940.dat with size :torch.Size([5000, 2, 2, 5, 100])\n",
      "skipping 0.3 of configurations (warm up)\n"
     ]
    },
    {
     "data": {
      "application/vnd.jupyter.widget-view+json": {
       "model_id": "1cb02a87cb1c458f87d06b267a553119",
       "version_major": 2,
       "version_minor": 0
      },
      "text/plain": [
       "HBox(children=(FloatProgress(value=0.0, max=3500.0), HTML(value='')))"
      ]
     },
     "metadata": {},
     "output_type": "display_data"
    },
    {
     "name": "stdout",
     "output_type": "stream",
     "text": [
      "\n",
      "Read conf file /media/data/sbulusu/datasets/complexworm/Results for CNN/configs-100-5-4.010-1.000-1.010.dat with size :torch.Size([5000, 2, 2, 5, 100])\n",
      "skipping 0.3 of configurations (warm up)\n"
     ]
    },
    {
     "data": {
      "application/vnd.jupyter.widget-view+json": {
       "model_id": "809c3499124148f88b4d0fcf2b9a370c",
       "version_major": 2,
       "version_minor": 0
      },
      "text/plain": [
       "HBox(children=(FloatProgress(value=0.0, max=3500.0), HTML(value='')))"
      ]
     },
     "metadata": {},
     "output_type": "display_data"
    },
    {
     "name": "stdout",
     "output_type": "stream",
     "text": [
      "\n",
      "Read conf file /media/data/sbulusu/datasets/complexworm/Results for CNN/configs-100-5-4.010-1.000-1.000.dat with size :torch.Size([5000, 2, 2, 5, 100])\n",
      "skipping 0.3 of configurations (warm up)\n"
     ]
    },
    {
     "data": {
      "application/vnd.jupyter.widget-view+json": {
       "model_id": "ed8060c5e0c845e59a85b74ec7a7fbb3",
       "version_major": 2,
       "version_minor": 0
      },
      "text/plain": [
       "HBox(children=(FloatProgress(value=0.0, max=3500.0), HTML(value='')))"
      ]
     },
     "metadata": {},
     "output_type": "display_data"
    },
    {
     "name": "stdout",
     "output_type": "stream",
     "text": [
      "\n",
      "Read conf file /media/data/sbulusu/datasets/complexworm/Results for CNN/configs-100-5-4.010-1.000-0.915.dat with size :torch.Size([5000, 2, 2, 5, 100])\n",
      "skipping 0.3 of configurations (warm up)\n"
     ]
    },
    {
     "data": {
      "application/vnd.jupyter.widget-view+json": {
       "model_id": "ce12ab88a9a3498e8c301c7bbe557e35",
       "version_major": 2,
       "version_minor": 0
      },
      "text/plain": [
       "HBox(children=(FloatProgress(value=0.0, max=3500.0), HTML(value='')))"
      ]
     },
     "metadata": {},
     "output_type": "display_data"
    },
    {
     "name": "stdout",
     "output_type": "stream",
     "text": [
      "\n",
      "Read conf file /media/data/sbulusu/datasets/complexworm/Results for CNN/configs-100-5-4.010-1.000-1.025.dat with size :torch.Size([5000, 2, 2, 5, 100])\n",
      "skipping 0.3 of configurations (warm up)\n"
     ]
    },
    {
     "data": {
      "application/vnd.jupyter.widget-view+json": {
       "model_id": "ed00f615a67f4339b5654bc277cc8d80",
       "version_major": 2,
       "version_minor": 0
      },
      "text/plain": [
       "HBox(children=(FloatProgress(value=0.0, max=3500.0), HTML(value='')))"
      ]
     },
     "metadata": {},
     "output_type": "display_data"
    },
    {
     "name": "stdout",
     "output_type": "stream",
     "text": [
      "\n",
      "Read conf file /media/data/sbulusu/datasets/complexworm/Results for CNN/configs-100-5-4.010-1.000-0.950.dat with size :torch.Size([5000, 2, 2, 5, 100])\n",
      "skipping 0.3 of configurations (warm up)\n"
     ]
    },
    {
     "data": {
      "application/vnd.jupyter.widget-view+json": {
       "model_id": "26a14ada73de45fea783a77a6a64a30f",
       "version_major": 2,
       "version_minor": 0
      },
      "text/plain": [
       "HBox(children=(FloatProgress(value=0.0, max=3500.0), HTML(value='')))"
      ]
     },
     "metadata": {},
     "output_type": "display_data"
    },
    {
     "name": "stdout",
     "output_type": "stream",
     "text": [
      "\n",
      "Read conf file /media/data/sbulusu/datasets/complexworm/Results for CNN/configs-100-5-4.010-1.000-0.930.dat with size :torch.Size([5000, 2, 2, 5, 100])\n",
      "skipping 0.3 of configurations (warm up)\n"
     ]
    },
    {
     "data": {
      "application/vnd.jupyter.widget-view+json": {
       "model_id": "1fab437f3bf040ada93c6f1f7675378d",
       "version_major": 2,
       "version_minor": 0
      },
      "text/plain": [
       "HBox(children=(FloatProgress(value=0.0, max=3500.0), HTML(value='')))"
      ]
     },
     "metadata": {},
     "output_type": "display_data"
    },
    {
     "name": "stdout",
     "output_type": "stream",
     "text": [
      "\n",
      "Read conf file /media/data/sbulusu/datasets/complexworm/Results for CNN/configs-100-5-4.010-1.000-0.960.dat with size :torch.Size([5000, 2, 2, 5, 100])\n",
      "skipping 0.3 of configurations (warm up)\n"
     ]
    },
    {
     "data": {
      "application/vnd.jupyter.widget-view+json": {
       "model_id": "b6a09aa745a74f219831edd3ec5adcec",
       "version_major": 2,
       "version_minor": 0
      },
      "text/plain": [
       "HBox(children=(FloatProgress(value=0.0, max=3500.0), HTML(value='')))"
      ]
     },
     "metadata": {},
     "output_type": "display_data"
    },
    {
     "name": "stdout",
     "output_type": "stream",
     "text": [
      "\n",
      "Read conf file /media/data/sbulusu/datasets/complexworm/Results for CNN/configs-100-5-4.010-1.000-0.925.dat with size :torch.Size([5000, 2, 2, 5, 100])\n",
      "skipping 0.3 of configurations (warm up)\n"
     ]
    },
    {
     "data": {
      "application/vnd.jupyter.widget-view+json": {
       "model_id": "6a19823de504472f85fed960bc8ffdbd",
       "version_major": 2,
       "version_minor": 0
      },
      "text/plain": [
       "HBox(children=(FloatProgress(value=0.0, max=3500.0), HTML(value='')))"
      ]
     },
     "metadata": {},
     "output_type": "display_data"
    },
    {
     "name": "stdout",
     "output_type": "stream",
     "text": [
      "\n",
      "Read conf file /media/data/sbulusu/datasets/complexworm/Results for CNN/configs-100-5-4.010-1.000-0.995.dat with size :torch.Size([5000, 2, 2, 5, 100])\n",
      "skipping 0.3 of configurations (warm up)\n"
     ]
    },
    {
     "data": {
      "application/vnd.jupyter.widget-view+json": {
       "model_id": "1b7ebec919dc4f588e25a0e803c04065",
       "version_major": 2,
       "version_minor": 0
      },
      "text/plain": [
       "HBox(children=(FloatProgress(value=0.0, max=3500.0), HTML(value='')))"
      ]
     },
     "metadata": {},
     "output_type": "display_data"
    },
    {
     "name": "stdout",
     "output_type": "stream",
     "text": [
      "\n",
      "Read conf file /media/data/sbulusu/datasets/complexworm/Results for CNN/configs-100-5-4.010-1.000-1.020.dat with size :torch.Size([5000, 2, 2, 5, 100])\n",
      "skipping 0.3 of configurations (warm up)\n"
     ]
    },
    {
     "data": {
      "application/vnd.jupyter.widget-view+json": {
       "model_id": "9f9acbeb20b94de2aedc6b643521391b",
       "version_major": 2,
       "version_minor": 0
      },
      "text/plain": [
       "HBox(children=(FloatProgress(value=0.0, max=3500.0), HTML(value='')))"
      ]
     },
     "metadata": {},
     "output_type": "display_data"
    },
    {
     "name": "stdout",
     "output_type": "stream",
     "text": [
      "\n",
      "Read conf file /media/data/sbulusu/datasets/complexworm/Results for CNN/configs-100-5-4.010-1.000-0.985.dat with size :torch.Size([5000, 2, 2, 5, 100])\n",
      "skipping 0.3 of configurations (warm up)\n"
     ]
    },
    {
     "data": {
      "application/vnd.jupyter.widget-view+json": {
       "model_id": "84758cf37f324e0fbed61fefc99b4f19",
       "version_major": 2,
       "version_minor": 0
      },
      "text/plain": [
       "HBox(children=(FloatProgress(value=0.0, max=3500.0), HTML(value='')))"
      ]
     },
     "metadata": {},
     "output_type": "display_data"
    },
    {
     "name": "stdout",
     "output_type": "stream",
     "text": [
      "\n",
      "Read conf file /media/data/sbulusu/datasets/complexworm/Results for CNN/configs-100-5-4.010-1.000-0.910.dat with size :torch.Size([5000, 2, 2, 5, 100])\n",
      "skipping 0.3 of configurations (warm up)\n"
     ]
    },
    {
     "data": {
      "application/vnd.jupyter.widget-view+json": {
       "model_id": "30e103303b0b4c7e970ad6508cf7bd78",
       "version_major": 2,
       "version_minor": 0
      },
      "text/plain": [
       "HBox(children=(FloatProgress(value=0.0, max=3500.0), HTML(value='')))"
      ]
     },
     "metadata": {},
     "output_type": "display_data"
    },
    {
     "name": "stdout",
     "output_type": "stream",
     "text": [
      "\n",
      "Read conf file /media/data/sbulusu/datasets/complexworm/Results for CNN/configs-100-5-4.010-1.000-1.035.dat with size :torch.Size([5000, 2, 2, 5, 100])\n",
      "skipping 0.3 of configurations (warm up)\n"
     ]
    },
    {
     "data": {
      "application/vnd.jupyter.widget-view+json": {
       "model_id": "07ec3b95e22b4d258be6f2823835ba43",
       "version_major": 2,
       "version_minor": 0
      },
      "text/plain": [
       "HBox(children=(FloatProgress(value=0.0, max=3500.0), HTML(value='')))"
      ]
     },
     "metadata": {},
     "output_type": "display_data"
    },
    {
     "name": "stdout",
     "output_type": "stream",
     "text": [
      "\n",
      "Read conf file /media/data/sbulusu/datasets/complexworm/Results for CNN/configs-100-5-4.010-1.000-0.945.dat with size :torch.Size([5000, 2, 2, 5, 100])\n",
      "skipping 0.3 of configurations (warm up)\n"
     ]
    },
    {
     "data": {
      "application/vnd.jupyter.widget-view+json": {
       "model_id": "0d0b09eb3c4e492aaf7120207e4dc7e6",
       "version_major": 2,
       "version_minor": 0
      },
      "text/plain": [
       "HBox(children=(FloatProgress(value=0.0, max=3500.0), HTML(value='')))"
      ]
     },
     "metadata": {},
     "output_type": "display_data"
    },
    {
     "name": "stdout",
     "output_type": "stream",
     "text": [
      "\n",
      "Read conf file /media/data/sbulusu/datasets/complexworm/Results for CNN/configs-100-5-4.010-1.000-0.965.dat with size :torch.Size([5000, 2, 2, 5, 100])\n",
      "skipping 0.3 of configurations (warm up)\n"
     ]
    },
    {
     "data": {
      "application/vnd.jupyter.widget-view+json": {
       "model_id": "ae2347ff1f1c430d94a7f60fc5ca3127",
       "version_major": 2,
       "version_minor": 0
      },
      "text/plain": [
       "HBox(children=(FloatProgress(value=0.0, max=3500.0), HTML(value='')))"
      ]
     },
     "metadata": {},
     "output_type": "display_data"
    },
    {
     "name": "stdout",
     "output_type": "stream",
     "text": [
      "\n",
      "Read conf file /media/data/sbulusu/datasets/complexworm/Results for CNN/configs-100-5-4.010-1.000-0.935.dat with size :torch.Size([5000, 2, 2, 5, 100])\n",
      "skipping 0.3 of configurations (warm up)\n"
     ]
    },
    {
     "data": {
      "application/vnd.jupyter.widget-view+json": {
       "model_id": "9182c7613836424f95d759210e5d5fde",
       "version_major": 2,
       "version_minor": 0
      },
      "text/plain": [
       "HBox(children=(FloatProgress(value=0.0, max=3500.0), HTML(value='')))"
      ]
     },
     "metadata": {},
     "output_type": "display_data"
    },
    {
     "name": "stdout",
     "output_type": "stream",
     "text": [
      "\n",
      "Read conf file /media/data/sbulusu/datasets/complexworm/Results for CNN/configs-100-5-4.010-1.000-0.920.dat with size :torch.Size([5000, 2, 2, 5, 100])\n",
      "skipping 0.3 of configurations (warm up)\n"
     ]
    },
    {
     "data": {
      "application/vnd.jupyter.widget-view+json": {
       "model_id": "f4d304133c424c88ba63e30dcffd52c4",
       "version_major": 2,
       "version_minor": 0
      },
      "text/plain": [
       "HBox(children=(FloatProgress(value=0.0, max=3500.0), HTML(value='')))"
      ]
     },
     "metadata": {},
     "output_type": "display_data"
    },
    {
     "name": "stdout",
     "output_type": "stream",
     "text": [
      "\n",
      "\n",
      "last example loaded:\n",
      "{'conf': tensor([[[[0, 0, 0,  ..., 0, 0, 0],\n",
      "          [0, 0, 0,  ..., 0, 0, 0],\n",
      "          [0, 0, 0,  ..., 0, 0, 0],\n",
      "          [0, 0, 0,  ..., 0, 0, 0],\n",
      "          [0, 0, 0,  ..., 0, 0, 0]],\n",
      "\n",
      "         [[0, 0, 0,  ..., 0, 0, 0],\n",
      "          [0, 0, 0,  ..., 0, 0, 0],\n",
      "          [0, 0, 0,  ..., 0, 0, 0],\n",
      "          [0, 0, 0,  ..., 0, 0, 0],\n",
      "          [0, 0, 0,  ..., 0, 0, 0]]],\n",
      "\n",
      "\n",
      "        [[[0, 0, 0,  ..., 1, 0, 0],\n",
      "          [0, 0, 0,  ..., 0, 0, 0],\n",
      "          [0, 0, 0,  ..., 0, 0, 0],\n",
      "          [0, 0, 0,  ..., 0, 0, 0],\n",
      "          [0, 0, 0,  ..., 0, 0, 0]],\n",
      "\n",
      "         [[0, 0, 0,  ..., 0, 0, 0],\n",
      "          [0, 0, 0,  ..., 0, 0, 0],\n",
      "          [0, 0, 0,  ..., 0, 0, 0],\n",
      "          [0, 0, 0,  ..., 0, 1, 0],\n",
      "          [0, 0, 0,  ..., 0, 0, 0]]]]), 'mu': tensor(0.9200), 'phase': tensor(0.), 'n': tensor(0., dtype=torch.float64), 'phi2': tensor(0.2521, dtype=torch.float64), 'id': 101499}\n"
     ]
    }
   ],
   "source": [
    "conf_file_dir = \"/media/data/sbulusu/datasets/complexworm/Results for CNN/\"\n",
    "file_format_list = [\"configs-100-5*.dat\"]\n",
    "lat_size = [5,100]\n",
    "dim = len(lat_size)\n",
    "conf_size = np.concatenate(([2],[dim],lat_size))\n",
    "dataset_output_size = np.concatenate(([np.prod(conf_size[0:2])],conf_size[2:]))\n",
    "\n",
    "label_names = [\"n\", \"phi2\"]\n",
    "labels_in_file_name = [\"mu\", \"phase\"]\n",
    "\n",
    "dataset = lat_dataset_load_new_lightning.kl_dataset(conf_file_dir, file_format_list, conf_size, dataset_output_size, label_names, labels_in_file_name, transform=None, device=device)"
   ]
  },
  {
   "cell_type": "code",
   "execution_count": 4,
   "metadata": {},
   "outputs": [
    {
     "name": "stdout",
     "output_type": "stream",
     "text": [
      "torch.Size([2, 2, 5, 100])\n"
     ]
    }
   ],
   "source": [
    "example = dataset.data[0]\n",
    "\n",
    "example_conf = example[\"conf\"]\n",
    "example_phi2 = example[\"phi2\"]\n",
    "\n",
    "print(example_conf.shape)"
   ]
  },
  {
   "cell_type": "code",
   "execution_count": 5,
   "metadata": {},
   "outputs": [
    {
     "name": "stdout",
     "output_type": "stream",
     "text": [
      "tensor(0.4983, dtype=torch.float64)\n"
     ]
    }
   ],
   "source": [
    "print(example_phi2)"
   ]
  },
  {
   "cell_type": "code",
   "execution_count": 6,
   "metadata": {},
   "outputs": [
    {
     "data": {
      "text/plain": [
       "<matplotlib.image.AxesImage at 0x7fbe21cfb550>"
      ]
     },
     "execution_count": 6,
     "metadata": {},
     "output_type": "execute_result"
    },
    {
     "data": {
      "image/png": "[encoded data removed]",
      "text/plain": [
       "<Figure size 432x288 with 1 Axes>"
      ]
     },
     "metadata": {
      "needs_background": "light"
     },
     "output_type": "display_data"
    }
   ],
   "source": [
    "example_k_links = example_conf[0]\n",
    "plt.imshow(example_k_links[0])"
   ]
  },
  {
   "cell_type": "code",
   "execution_count": 7,
   "metadata": {},
   "outputs": [
    {
     "data": {
      "text/plain": [
       "<matplotlib.image.AxesImage at 0x7fbe21c8f750>"
      ]
     },
     "execution_count": 7,
     "metadata": {},
     "output_type": "execute_result"
    },
    {
     "data": {
      "image/png": "[encoded data removed]",
      "text/plain": [
       "<Figure size 432x288 with 1 Axes>"
      ]
     },
     "metadata": {
      "needs_background": "light"
     },
     "output_type": "display_data"
    }
   ],
   "source": [
    "plt.imshow(example_k_links[1])"
   ]
  },
  {
   "cell_type": "code",
   "execution_count": 8,
   "metadata": {},
   "outputs": [
    {
     "data": {
      "text/plain": [
       "<matplotlib.image.AxesImage at 0x7fbe21c718d0>"
      ]
     },
     "execution_count": 8,
     "metadata": {},
     "output_type": "execute_result"
    },
    {
     "data": {
      "image/png": "[encoded data removed]",
      "text/plain": [
       "<Figure size 432x288 with 1 Axes>"
      ]
     },
     "metadata": {
      "needs_background": "light"
     },
     "output_type": "display_data"
    }
   ],
   "source": [
    "example_l_links = example_conf[1]\n",
    "plt.imshow(example_l_links[1])"
   ]
  },
  {
   "cell_type": "code",
   "execution_count": 9,
   "metadata": {},
   "outputs": [
    {
     "data": {
      "text/plain": [
       "<matplotlib.image.AxesImage at 0x7fbe21bce550>"
      ]
     },
     "execution_count": 9,
     "metadata": {},
     "output_type": "execute_result"
    },
    {
     "data": {
      "image/png": "[encoded data removed]",
      "text/plain": [
       "<Figure size 432x288 with 1 Axes>"
      ]
     },
     "metadata": {
      "needs_background": "light"
     },
     "output_type": "display_data"
    }
   ],
   "source": [
    "plt.imshow(example_l_links[1])"
   ]
  },
  {
   "cell_type": "code",
   "execution_count": 10,
   "metadata": {},
   "outputs": [],
   "source": [
    "\"\"\"plot phase transition\"\"\"\n",
    "\n",
    "ns = torch.zeros(len(dataset.data))\n",
    "phi2s = torch.zeros(len(dataset.data))\n",
    "mus = torch.zeros(len(dataset.data))\n",
    "\n",
    "\"plot observables against mu\"\n",
    "for i in range(len(dataset.data)):\n",
    "    \n",
    "    conf = dataset.data[i][\"conf\"]\n",
    "    k_links = conf[0,:2]\n",
    "    kllinks = conf[0,2:]\n",
    "    \n",
    "    phi2 = dataset.data[i][\"phi2\"]\n",
    "    n = dataset.data[i][\"n\"]\n",
    "    \n",
    "    phi2s[i] = float(phi2)\n",
    "    ns[i] = float(n)\n",
    "    \n",
    "    mu = dataset.data[i][\"mu\"]\n",
    "    mus[i] = mu"
   ]
  },
  {
   "cell_type": "code",
   "execution_count": 11,
   "metadata": {},
   "outputs": [
    {
     "data": {
      "text/plain": [
       "<matplotlib.collections.PathCollection at 0x7fbe21b38110>"
      ]
     },
     "execution_count": 11,
     "metadata": {},
     "output_type": "execute_result"
    },
    {
     "data": {
      "image/png": "[encoded data removed]",
      "text/plain": [
       "<Figure size 432x288 with 1 Axes>"
      ]
     },
     "metadata": {
      "needs_background": "light"
     },
     "output_type": "display_data"
    }
   ],
   "source": [
    "plt.scatter(mus, ns)"
   ]
  },
  {
   "cell_type": "code",
   "execution_count": 12,
   "metadata": {},
   "outputs": [
    {
     "data": {
      "text/plain": [
       "<matplotlib.collections.PathCollection at 0x7fbe21af78d0>"
      ]
     },
     "execution_count": 12,
     "metadata": {},
     "output_type": "execute_result"
    },
    {
     "data": {
      "image/png": "[encoded data removed]",
      "text/plain": [
       "<Figure size 432x288 with 1 Axes>"
      ]
     },
     "metadata": {
      "needs_background": "light"
     },
     "output_type": "display_data"
    }
   ],
   "source": [
    "plt.scatter(mus, phi2s)"
   ]
  },
  {
   "cell_type": "code",
   "execution_count": null,
   "metadata": {},
   "outputs": [],
   "source": [
    "unique_mus = np.unique(mus)\n",
    "num_mus = len(unique_mus)"
   ]
  },
  {
   "cell_type": "code",
   "execution_count": null,
   "metadata": {},
   "outputs": [],
   "source": [
    "##to be able to plot the observables against mu, they have to be sorted with respect to it\n",
    "phi2s_mu = []\n",
    "ns_mu = []\n",
    "\n",
    "for mu_val in unique_mus:\n",
    "    ##find which examples have a particular mu value (mu_val)\n",
    "    mu_loc = np.where(mus == mu_val)[0]\n",
    "    ##find the labels and prediction of observables which correspond to these examples\n",
    "    phi2_mu = phi2s[mu_loc]\n",
    "    n_mu = ns[mu_loc]\n",
    "    \n",
    "    phi2s_mu = phis_mu\n",
    "    ns_mu = n_mu\n",
    "\n",
    "        \n",
    "phi2s_mu = torch.tensor(phi2s_mu)\n",
    "ns_mu = torch.tensor(ns_mu)"
   ]
  },
  {
   "cell_type": "code",
   "execution_count": null,
   "metadata": {},
   "outputs": [],
   "source": [
    "for mu_i in range(len(unique_mus))\n",
    "mean_phi2s_mu[i] = torch.mean(phi2s_mu, )"
   ]
  },
  {
   "cell_type": "code",
   "execution_count": 30,
   "metadata": {},
   "outputs": [
    {
     "name": "stdout",
     "output_type": "stream",
     "text": [
      "torch.Size([101500, 2, 5, 100])\n"
     ]
    }
   ],
   "source": [
    "\"\"\"plot k and l link distribution\"\"\"\n",
    "\n",
    "dataset_links_shape = np.concatenate(([len(dataset)],[len(lat_size)],lat_size))\n",
    "dataset_k_links = torch.zeros(*dataset_links_shape, dtype=int)\n",
    "dataset_l_links = torch.zeros(*dataset_links_shape, dtype=int)\n",
    "print(dataset_k_links.size())"
   ]
  },
  {
   "cell_type": "code",
   "execution_count": 31,
   "metadata": {},
   "outputs": [
    {
     "data": {
      "application/vnd.jupyter.widget-view+json": {
       "model_id": "fc2f2d84f42048748437b2dcbdde04c9",
       "version_major": 2,
       "version_minor": 0
      },
      "text/plain": [
       "HBox(children=(FloatProgress(value=0.0, max=101500.0), HTML(value='')))"
      ]
     },
     "metadata": {},
     "output_type": "display_data"
    },
    {
     "name": "stdout",
     "output_type": "stream",
     "text": [
      "\n"
     ]
    }
   ],
   "source": [
    "for i in tqdm(range(len(dataset))):\n",
    "    dataset_k_links[i] = dataset.data[i][\"conf\"][0]\n",
    "    dataset_l_links[i] = dataset.data[i][\"conf\"][1]\n",
    "    "
   ]
  },
  {
   "cell_type": "code",
   "execution_count": 32,
   "metadata": {},
   "outputs": [],
   "source": [
    "dataset_k_links_flat = torch.flatten(dataset_k_links, start_dim=1)\n",
    "dataset_l_links_flat = torch.flatten(dataset_l_links, start_dim=1)"
   ]
  },
  {
   "cell_type": "code",
   "execution_count": 41,
   "metadata": {},
   "outputs": [
    {
     "data": {
      "text/plain": [
       "(array([  5.,  82., 528., 296.,  89.]),\n",
       " array([-2., -1.,  0.,  1.,  2.,  3.]),\n",
       " <a list of 5 Patch objects>)"
      ]
     },
     "execution_count": 41,
     "metadata": {},
     "output_type": "execute_result"
    },
    {
     "data": {
      "image/png": "[encoded data removed]",
      "text/plain": [
       "<Figure size 432x288 with 1 Axes>"
      ]
     },
     "metadata": {
      "needs_background": "light"
     },
     "output_type": "display_data"
    }
   ],
   "source": [
    "conf_i = 0\n",
    "\n",
    "dataset_k_links_flat = torch.flatten(dataset_k_links, start_dim=1)\n",
    "max_k_link = torch.max(dataset_k_links_flat[conf_i])\n",
    "min_k_link = torch.min(dataset_k_links_flat[conf_i])\n",
    "\n",
    "plt.hist(dataset_k_links_flat[conf_i], bins=(max_k_link-min_k_link))"
   ]
  },
  {
   "cell_type": "code",
   "execution_count": 53,
   "metadata": {},
   "outputs": [
    {
     "data": {
      "text/plain": [
       "(array([873., 127.]), array([0., 1., 2.]), <a list of 2 Patch objects>)"
      ]
     },
     "execution_count": 53,
     "metadata": {},
     "output_type": "execute_result"
    },
    {
     "data": {
      "image/png": "[encoded data removed]",
      "text/plain": [
       "<Figure size 432x288 with 1 Axes>"
      ]
     },
     "metadata": {
      "needs_background": "light"
     },
     "output_type": "display_data"
    }
   ],
   "source": [
    "conf_i = 0\n",
    "\n",
    "dataset_l_links_flat = torch.flatten(dataset_l_links, start_dim=1)\n",
    "max_l_link = torch.max(dataset_l_links_flat[conf_i])\n",
    "min_l_link = torch.min(dataset_l_links_flat[conf_i])\n",
    "\n",
    "plt.hist(dataset_l_links_flat[conf_i], bins=(max_l_link-min_l_link))"
   ]
  },
  {
   "cell_type": "code",
   "execution_count": 77,
   "metadata": {},
   "outputs": [],
   "source": [
    "conf_i_start = 20\n",
    "conf_i_stop = 40\n",
    "conf_range = np.arange(conf_i_start,conf_i_stop,dtype=int)"
   ]
  },
  {
   "cell_type": "code",
   "execution_count": 80,
   "metadata": {},
   "outputs": [
    {
     "data": {
      "image/png": "[encoded data removed]",
      "text/plain": [
       "<Figure size 2880x216 with 20 Axes>"
      ]
     },
     "metadata": {
      "needs_background": "light"
     },
     "output_type": "display_data"
    }
   ],
   "source": [
    "plt.rcParams['figure.figsize'] = [40, 3]\n",
    "fig, ax = plt.subplots(nrows=1, ncols=len(conf_range))\n",
    "\n",
    "max_k_link = torch.max(dataset_k_links_flat)\n",
    "min_k_link = torch.min(dataset_k_links_flat)\n",
    "\n",
    "bins = np.arange(min_k_link, max_k_link, dtype=int)\n",
    "\n",
    "for i in range(len(conf_range)):\n",
    "    conf_i = conf_range[i]\n",
    "    ax[i].hist(dataset_k_links_flat[conf_i], bins=bins)"
   ]
  },
  {
   "cell_type": "code",
   "execution_count": 82,
   "metadata": {},
   "outputs": [
    {
     "data": {
      "image/png": "[encoded data removed]",
      "text/plain": [
       "<Figure size 2880x216 with 20 Axes>"
      ]
     },
     "metadata": {
      "needs_background": "light"
     },
     "output_type": "display_data"
    }
   ],
   "source": [
    "plt.rcParams['figure.figsize'] = [40, 3]\n",
    "fig, ax = plt.subplots(nrows=1, ncols=len(conf_range))\n",
    "\n",
    "max_l_link = torch.max(dataset_l_links_flat)\n",
    "min_l_link = torch.min(dataset_l_links_flat)\n",
    "\n",
    "bins = np.arange(min_l_link, max_l_link, dtype=int)\n",
    "    \n",
    "for i in range(len(conf_range)):\n",
    "    conf_i = conf_range[i]\n",
    "    ax[i].hist(dataset_l_links_flat[conf_i], bins=bins)"
   ]
  },
  {
   "cell_type": "code",
   "execution_count": null,
   "metadata": {},
   "outputs": [],
   "source": [
    "dataset_k_links_allflat = torch.flatten(dataset_k_links_flat, start_dim=0)\n",
    "dataset_l_links_allflat = torch.flatten(dataset_l_links_flat, start_dim=0)"
   ]
  },
  {
   "cell_type": "code",
   "execution_count": 85,
   "metadata": {},
   "outputs": [
    {
     "data": {
      "text/plain": [
       "(array([0., 0., 0., 0., 0., 1., 0., 0.]),\n",
       " array([-4, -3, -2, -1,  0,  1,  2,  3,  4]),\n",
       " <a list of 8 Patch objects>)"
      ]
     },
     "execution_count": 85,
     "metadata": {},
     "output_type": "execute_result"
    },
    {
     "data": {
      "image/png": "[encoded data removed]",
      "text/plain": [
       "<Figure size 720x720 with 1 Axes>"
      ]
     },
     "metadata": {
      "needs_background": "light"
     },
     "output_type": "display_data"
    }
   ],
   "source": [
    "plt.rcParams['figure.figsize'] = [10, 10]\n",
    "\n",
    "max_k_link = torch.max(dataset_k_links_allflat)\n",
    "min_k_link = torch.min(dataset_k_links_allflat)\n",
    "\n",
    "bins = np.arange(min_k_link, max_k_link, dtype=int)\n",
    "\n",
    "plt.hist(dataset_k_links_allflat[conf_i], bins=bins)"
   ]
  },
  {
   "cell_type": "code",
   "execution_count": 93,
   "metadata": {},
   "outputs": [
    {
     "data": {
      "text/plain": [
       "(array([1., 0., 0., 0., 0.]),\n",
       " array([0, 1, 2, 3, 4, 5]),\n",
       " <a list of 5 Patch objects>)"
      ]
     },
     "execution_count": 93,
     "metadata": {},
     "output_type": "execute_result"
    },
    {
     "data": {
      "image/png": "[encoded data removed]",
      "text/plain": [
       "<Figure size 720x720 with 1 Axes>"
      ]
     },
     "metadata": {
      "needs_background": "light"
     },
     "output_type": "display_data"
    }
   ],
   "source": [
    "plt.rcParams['figure.figsize'] = [10, 10]\n",
    "\n",
    "max_l_link = torch.max(dataset_l_links_allflat)\n",
    "min_l_link = torch.min(dataset_l_links_allflat)\n",
    "\n",
    "bins = np.arange(min_l_link, max_l_link, dtype=int)\n",
    "\n",
    "plt.hist(dataset_l_links_allflat[conf_i], bins=bins)"
   ]
  },
  {
   "cell_type": "code",
   "execution_count": 91,
   "metadata": {},
   "outputs": [
    {
     "data": {
      "text/plain": [
       "<matplotlib.axes._subplots.AxesSubplot at 0x7fbdf97775d0>"
      ]
     },
     "execution_count": 91,
     "metadata": {},
     "output_type": "execute_result"
    },
    {
     "data": {
      "image/png": "[encoded data removed]",
      "text/plain": [
       "<Figure size 720x720 with 1 Axes>"
      ]
     },
     "metadata": {
      "needs_background": "light"
     },
     "output_type": "display_data"
    }
   ],
   "source": [
    "sns.kdeplot(dataset_k_links_allflat.numpy())"
   ]
  },
  {
   "cell_type": "code",
   "execution_count": 90,
   "metadata": {},
   "outputs": [
    {
     "data": {
      "text/plain": [
       "<matplotlib.axes._subplots.AxesSubplot at 0x7fbdfb84d550>"
      ]
     },
     "execution_count": 90,
     "metadata": {},
     "output_type": "execute_result"
    },
    {
     "data": {
      "image/png": "[encoded data removed]",
      "text/plain": [
       "<Figure size 720x720 with 1 Axes>"
      ]
     },
     "metadata": {
      "needs_background": "light"
     },
     "output_type": "display_data"
    }
   ],
   "source": [
    "sns.kdeplot(dataset_l_links_allflat.numpy())"
   ]
  },
  {
   "cell_type": "code",
   "execution_count": 117,
   "metadata": {},
   "outputs": [],
   "source": [
    "\"\"\"calcualte f\"\"\"\n",
    "def link_per_lat_point(links, lat_size, dims):\n",
    "\n",
    "    #empty channels where the linsk on other directions should be saved\n",
    "    #empty_link_channels = np.zeros(links.shape)\n",
    "    empty_link_channels = torch.zeros(*links.shape, dtype=int)\n",
    "    for d in range(dims):\n",
    "        #print(d)\n",
    "        #print(links)\n",
    "        d_links = links[d]\n",
    "        #print(d_links)\n",
    "        #perm_links = np.roll(d_links, shift=1, axis=d)\n",
    "        perm_links = torch.roll(d_links, shifts=1, dims=d)\n",
    "        #print(perm_links)\n",
    "        \n",
    "        #print(d_slices)\n",
    "        #empty_link_channels[d] = links[zip(d_slices)]\n",
    "        empty_link_channels[d] = perm_links\n",
    "        \n",
    "        \n",
    "        #complete_links = np.concatenate((links,empty_link_channels), axis=0)\n",
    "        complete_links = torch.cat((links,empty_link_channels), dim=0)\n",
    "            \n",
    "            \n",
    "    return complete_links\n",
    "\n",
    "def f_calc(k_links, l_links, lat_size, dims):\n",
    "    full_k_links = link_per_lat_point(k_links, lat_size, dims)\n",
    "    full_l_links = link_per_lat_point(l_links, lat_size, dims)\n",
    "    #print(full_k_links.shape)\n",
    "    #print(full_l_links.shape)\n",
    "    \n",
    "    abs_full_k_links = np.abs(full_k_links)\n",
    "    abs_full_k_links = torch.abs(full_k_links)\n",
    "    \n",
    "    #calc_f = (abs_full_k_links + 2*full_l_links).sum(axis=0).astype(int)\n",
    "    calc_f = (abs_full_k_links + 2*full_l_links).sum(axis=0)\n",
    "\n",
    "    #return calc_f.astype(int)\n",
    "    return calc_f"
   ]
  },
  {
   "cell_type": "code",
   "execution_count": 118,
   "metadata": {},
   "outputs": [
    {
     "data": {
      "application/vnd.jupyter.widget-view+json": {
       "model_id": "b6852dc80af547148ed6afb0288d8ac8",
       "version_major": 2,
       "version_minor": 0
      },
      "text/plain": [
       "HBox(children=(FloatProgress(value=0.0, max=101500.0), HTML(value='')))"
      ]
     },
     "metadata": {},
     "output_type": "display_data"
    },
    {
     "name": "stdout",
     "output_type": "stream",
     "text": [
      "\n"
     ]
    }
   ],
   "source": [
    "\"\"\"plot f and mean f distribution\"\"\"\n",
    "\n",
    "dataset_f = torch.zeros(len(dataset),*lat_size, dtype=int)\n",
    "\n",
    "for conf_i in tqdm(range(len(dataset))):\n",
    "    dataset_f[conf_i] = f_calc(dataset_k_links[conf_i], dataset_l_links[conf_i], lat_size, len(lat_size))\n"
   ]
  },
  {
   "cell_type": "code",
   "execution_count": 115,
   "metadata": {},
   "outputs": [
    {
     "data": {
      "text/plain": [
       "False"
      ]
     },
     "execution_count": 115,
     "metadata": {},
     "output_type": "execute_result"
    }
   ],
   "source": [
    "conf_i = 0\n",
    "np.all(dataset_f[conf_i].numpy() % 2 == 0)"
   ]
  },
  {
   "cell_type": "code",
   "execution_count": 107,
   "metadata": {},
   "outputs": [
    {
     "data": {
      "text/plain": [
       "<matplotlib.axes._subplots.AxesSubplot at 0x7fbdfafa2890>"
      ]
     },
     "execution_count": 107,
     "metadata": {},
     "output_type": "execute_result"
    },
    {
     "data": {
      "image/png": "[encoded data removed]",
      "text/plain": [
       "<Figure size 1440x360 with 2 Axes>"
      ]
     },
     "metadata": {
      "needs_background": "light"
     },
     "output_type": "display_data"
    }
   ],
   "source": [
    "plt.rcParams['figure.figsize'] = [20, 5]\n",
    "conf_i = 0\n",
    "sns.heatmap(dataset_f[conf_i], cmap=\"BuGn\")"
   ]
  },
  {
   "cell_type": "code",
   "execution_count": 112,
   "metadata": {},
   "outputs": [
    {
     "data": {
      "text/plain": [
       "(array([392.,   7.,  84.,   2.,  14.]),\n",
       " array([0, 1, 2, 3, 4, 5]),\n",
       " <a list of 5 Patch objects>)"
      ]
     },
     "execution_count": 112,
     "metadata": {},
     "output_type": "execute_result"
    },
    {
     "data": {
      "image/png": "[encoded data removed]",
      "text/plain": [
       "<Figure size 1440x360 with 1 Axes>"
      ]
     },
     "metadata": {
      "needs_background": "light"
     },
     "output_type": "display_data"
    }
   ],
   "source": [
    "plt.rcParams['figure.figsize'] = [20, 5]\n",
    "\n",
    "dataset_f_flat = torch.flatten(dataset_f, start_dim=1)\n",
    "\n",
    "f_min = torch.min(dataset_f_flat)\n",
    "f_max = torch.max(dataset_f_flat)\n",
    "\n",
    "bins = np.arange(f_min, f_max, dtype=int)\n",
    "\n",
    "plt.hist(dataset_f_flat, bins=bins)"
   ]
  },
  {
   "cell_type": "code",
   "execution_count": null,
   "metadata": {},
   "outputs": [],
   "source": []
  }
 ],
 "metadata": {
  "kernelspec": {
   "display_name": "Python 3",
   "language": "python",
   "name": "python3"
  },
  "language_info": {
   "codemirror_mode": {
    "name": "ipython",
    "version": 3
   },
   "file_extension": ".py",
   "mimetype": "text/x-python",
   "name": "python",
   "nbconvert_exporter": "python",
   "pygments_lexer": "ipython3",
   "version": "3.7.4"
  }
 },
 "nbformat": 4,
 "nbformat_minor": 2
}
