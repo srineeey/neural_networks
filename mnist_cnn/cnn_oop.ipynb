{
 "cells": [
  {
   "cell_type": "code",
   "execution_count": 1,
   "metadata": {},
   "outputs": [],
   "source": [
    "import numpy as np\n",
    "import pandas as pd\n",
    "import matplotlib.pyplot as plt\n",
    "import seaborn as sns\n",
    "\n",
    "import os\n",
    "import glob\n",
    "import time\n",
    "\n",
    "import torch\n",
    "import torch.nn as nn\n",
    "import torch.nn.functional as F\n",
    "import torch.optim as optim\n",
    "\n",
    "import torchvision\n",
    "\n",
    "from torch.utils.tensorboard import SummaryWriter\n",
    "\n",
    "import sklearn\n",
    "\n",
    "import dataset_class_gsimage\n",
    "import torch_net_class\n",
    "import utils\n",
    "\n",
    "import functools\n",
    "import operator"
   ]
  },
  {
   "cell_type": "code",
   "execution_count": 2,
   "metadata": {},
   "outputs": [
    {
     "name": "stdout",
     "output_type": "stream",
     "text": [
      "Utilizing CUDA\n"
     ]
    }
   ],
   "source": [
    "if torch.cuda.is_available():\n",
    "    device = torch.device(\"cuda:0\")\n",
    "    print(\"Utilizing CUDA\")\n",
    "else:\n",
    "    device = torch.device(\"cpu\")\n",
    "    print(\"Utilizing CPU\")"
   ]
  },
  {
   "cell_type": "code",
   "execution_count": 3,
   "metadata": {},
   "outputs": [],
   "source": [
    "\"\"\"\n",
    "Load Data\n",
    "\"\"\"\n",
    "mnist_image_folder = \"../mnist_cnn/mnist/\"\n",
    "mnist_image_names = os.listdir(mnist_image_folder)\n",
    "mnist_image_paths = glob.glob(mnist_image_folder + \"*\")\n",
    "image_size = [1,28,28]\n",
    "label_path_csv = \"mnist_labels.csv\"\n",
    "dataset = dataset_class_gsimage.image_dataset(mnist_image_folder, mnist_image_paths, image_size, label_path_csv)\n",
    "dataset.label_df.head()\n",
    "target_attributes = [\"number\"]\n",
    "output_attributes = [str(i) for i in range(0,10)]\n",
    "pred_attributes = [str(i) for i in range(np.prod(image_size))]\n",
    "#dataset.set_label_names(target_attributes)\n",
    "dataset.label_names = target_attributes"
   ]
  },
  {
   "cell_type": "code",
   "execution_count": 4,
   "metadata": {},
   "outputs": [
    {
     "name": "stdout",
     "output_type": "stream",
     "text": [
      "[3.]\n"
     ]
    },
    {
     "data": {
      "image/png": "[encoded data removed]",
      "text/plain": [
       "<Figure size 432x288 with 1 Axes>"
      ]
     },
     "metadata": {
      "needs_background": "light"
     },
     "output_type": "display_data"
    }
   ],
   "source": [
    "plt.imshow(dataset.get_image(50)[0].reshape([28,28]))\n",
    "print(dataset.get_image(50)[1])"
   ]
  },
  {
   "cell_type": "code",
   "execution_count": 5,
   "metadata": {},
   "outputs": [
    {
     "name": "stdout",
     "output_type": "stream",
     "text": [
      "0\n",
      "[1, 28, 28]\n",
      "[3, 3]\n",
      "1\n",
      "[32, 26, 26]\n",
      "[2, 2]\n",
      "2\n",
      "[32, 13, 13]\n",
      "[4, 4]\n",
      "3\n",
      "[64, 10, 10]\n",
      "[2, 2]\n",
      "0\n",
      "[1, 28, 28]\n",
      "[3, 3]\n",
      "1\n",
      "[32, 26, 26]\n",
      "[2, 2]\n",
      "2\n",
      "[32, 13, 13]\n",
      "[4, 4]\n",
      "3\n",
      "[64, 10, 10]\n",
      "[2, 2]\n",
      "4\n",
      "[64, 5, 5]\n",
      "5\n",
      "1600\n",
      "6\n",
      "1600\n",
      "7\n",
      "1600\n",
      "8\n",
      "1600\n",
      "9\n",
      "1600\n",
      "10\n",
      "10\n",
      "[[1, 28, 28], [32, 26, 26], [32, 13, 13], [64, 10, 10], [64, 5, 5], 1600, 1600, 1600, 1600, 1600, 10, 10]\n"
     ]
    }
   ],
   "source": [
    "\"\"\"\n",
    "HYPERPARAMETERS\n",
    "\"\"\"\n",
    "\n",
    "random_seed = 42\n",
    "np.random.seed(random_seed)\n",
    "torch.manual_seed(random_seed)\n",
    "\n",
    "val_epochs = [10,20,30]\n",
    "save_state_epochs = [10000]\n",
    "\n",
    "\n",
    "\"\"\"Manually set network structure\"\"\"\n",
    "\"\"\"\n",
    "    This list can be loaded into the constructor of the Net neural network class, to automatically generate the network structure\n",
    "    type = pointer to the layer function'\n",
    "    layer_pars = parameters which must be given to the layer function in order to initialize it\n",
    "    act_func = activation function to be applied directly after feeding to the corresponding layer\n",
    "    dropout = certain neurons cna be dropped out if specified\n",
    "\"\"\"\n",
    "\n",
    "fixed_net_struct = []\n",
    "image_size = dataset.get_image_size()\n",
    "input_size = image_size\n",
    "target_size = len(target_attributes)\n",
    "#output_size = target_size\n",
    "output_size = len(output_attributes)\n",
    "\n",
    "#[ [[in_channels, out_channels],[kernel_size], ...]\n",
    "kernel_pars = [ [[input_size[0],32],[3,3],1,0], [[32,32],[2,2],2,0], [[32,64],[4,4],1,0], [[64,64],[2,2],2,0] ]\n",
    "act_func = torch.relu\n",
    "\n",
    "for i, kernel_par in enumerate(kernel_pars):\n",
    "    if i%2 == 0:\n",
    "        layer_type = nn.Conv2d\n",
    "        fixed_net_struct.append( {\"type\": layer_type, \"layer_pars\": {\"in_channels\": kernel_par[0][0], \"out_channels\": kernel_par[0][1], \"kernel_size\": kernel_par[1], \"stride\": kernel_par[2], \"padding\": kernel_par[3], \"bias\": True}, \"act_func\": act_func} )\n",
    "    else:\n",
    "        layer_type = nn.MaxPool2d\n",
    "        fixed_net_struct.append( {\"type\": layer_type, \"layer_pars\": {\"kernel_size\": kernel_par[1], \"stride\": kernel_par[2], \"padding\": kernel_par[3]}} )\n",
    "    \n",
    "conv_sizes = utils.calc_layer_sizes(input_size, fixed_net_struct)\n",
    "fc_input_size = np.product(conv_sizes[-1])\n",
    "fixed_net_struct.append( {\"type\": nn.Flatten, \"layer_pars\": {\"start_dim\": 1}} )    \n",
    "#fixed_net_struct.append( {\"type\": utils.Reshape, \"layer_pars\": {\"new_shape\": [-1,fc_input_size]}} )    \n",
    "fixed_net_struct.append( {\"type\": nn.Linear, \"layer_pars\": {\"in_features\": fc_input_size, \"out_features\": fc_input_size}, \"bias\": True, \"act_func\": act_func} )\n",
    "fixed_net_struct.append( {\"type\": nn.BatchNorm1d, \"layer_pars\": {\"num_features\": fc_input_size}} )\n",
    "fixed_net_struct.append( {\"type\": nn.Dropout, \"layer_pars\": {\"p\": 0.25 }} )\n",
    "fixed_net_struct.append( {\"type\": nn.Linear, \"layer_pars\": {\"in_features\": fc_input_size, \"out_features\": fc_input_size}, \"bias\": True, \"act_func\": act_func} )\n",
    "fixed_net_struct.append( {\"type\": nn.Linear, \"layer_pars\": {\"in_features\": fc_input_size, \"out_features\": output_size}, \"bias\": True, \"act_func\": act_func} )\n",
    "fixed_net_struct.append( {\"type\": nn.Softmax, \"layer_pars\": {\"dim\": 1}} )\n",
    "#dim 0 or 1???\n",
    "#fixed_net_struct.append( {\"type\": nn.ConvTranspose2d, \"layer_pars\": {\"in_channels\": 1, \"out_channels\": 1, \"kernel_size\": [1,1], \"stride\": 1, \"padding\": 1, \"bias\": True}, \"act_func\": act_func} )\n",
    "\n",
    "layer_sizes = utils.calc_layer_sizes(input_size, fixed_net_struct)\n",
    "print(layer_sizes)\n",
    "\n",
    "\"\"\"create list of parameters manually\"\"\"\n",
    "\n",
    "hyper_parameters = {}\n",
    "hyper_parameters[\"loss_func\"] = nn.CrossEntropyLoss\n",
    "hyper_parameters[\"optimizer\"] = optim.Adam\n",
    "hyper_parameters[\"batch_size\"] = 10 \n",
    "hyper_parameters[\"lr\"] = 0.0001\n",
    "hyper_parameters[\"net_struct\"] = fixed_net_struct\n",
    "\n",
    "hyper_parameters[\"val_method\"] = \"holdout\"\n",
    "hyper_parameters[\"val_method_pars\"] = {\"train\" : 0.9, \"val\" : 0.1, \"test\" : 0.}\n",
    "#hyper_parameters[\"val_method\"] = \"k_fold\"\n",
    "#hyper_parameters[\"val_method_pars\"] = 5"
   ]
  },
  {
   "cell_type": "code",
   "execution_count": 6,
   "metadata": {},
   "outputs": [],
   "source": [
    "epochs = max(val_epochs)+1\n",
    "\n",
    "lr=hyper_parameters[\"lr\"]\n",
    "batch_size = hyper_parameters[\"batch_size\"]\n",
    "loss_func = hyper_parameters[\"loss_func\"]()\n",
    "net_struct = hyper_parameters[\"net_struct\"]\n",
    "val_method = hyper_parameters[\"val_method\"]\n",
    "val_method_pars = hyper_parameters[\"val_method_pars\"]\n",
    "optimizer_type = hyper_parameters[\"optimizer\"]\n",
    "\n",
    "val_pred_paths = []\n",
    "val_label_paths = []\n",
    "\n",
    "train_loss = np.zeros(epochs)\n",
    "val_loss = np.zeros(len(val_epochs))\n",
    "\n",
    "net_state_paths = []\n",
    "\n",
    "#create training log\n",
    "log_file_name = \"log.txt\"\n",
    "log_file = open(log_file_name, \"w\")"
   ]
  },
  {
   "cell_type": "code",
   "execution_count": 7,
   "metadata": {},
   "outputs": [
    {
     "name": "stdout",
     "output_type": "stream",
     "text": [
      "Adding {'type': <class 'torch.nn.modules.conv.Conv2d'>, 'layer_pars': {'in_channels': 1, 'out_channels': 32, 'kernel_size': [3, 3], 'stride': 1, 'padding': 0, 'bias': True}, 'act_func': <built-in method relu of type object at 0x7fdd9ef7abe0>}\n",
      "\n",
      "Adding {'type': <class 'torch.nn.modules.pooling.MaxPool2d'>, 'layer_pars': {'kernel_size': [2, 2], 'stride': 2, 'padding': 0}}\n",
      "\n",
      "Adding {'type': <class 'torch.nn.modules.conv.Conv2d'>, 'layer_pars': {'in_channels': 32, 'out_channels': 64, 'kernel_size': [4, 4], 'stride': 1, 'padding': 0, 'bias': True}, 'act_func': <built-in method relu of type object at 0x7fdd9ef7abe0>}\n",
      "\n",
      "Adding {'type': <class 'torch.nn.modules.pooling.MaxPool2d'>, 'layer_pars': {'kernel_size': [2, 2], 'stride': 2, 'padding': 0}}\n",
      "\n",
      "Adding {'type': <class 'torch.nn.modules.flatten.Flatten'>, 'layer_pars': {'start_dim': 1}}\n",
      "\n",
      "Adding {'type': <class 'torch.nn.modules.linear.Linear'>, 'layer_pars': {'in_features': 1600, 'out_features': 1600}, 'bias': True, 'act_func': <built-in method relu of type object at 0x7fdd9ef7abe0>}\n",
      "\n",
      "Adding {'type': <class 'torch.nn.modules.batchnorm.BatchNorm1d'>, 'layer_pars': {'num_features': 1600}}\n",
      "\n",
      "Adding {'type': <class 'torch.nn.modules.dropout.Dropout'>, 'layer_pars': {'p': 0.25}}\n",
      "\n",
      "Adding {'type': <class 'torch.nn.modules.linear.Linear'>, 'layer_pars': {'in_features': 1600, 'out_features': 1600}, 'bias': True, 'act_func': <built-in method relu of type object at 0x7fdd9ef7abe0>}\n",
      "\n",
      "Adding {'type': <class 'torch.nn.modules.linear.Linear'>, 'layer_pars': {'in_features': 1600, 'out_features': 10}, 'bias': True, 'act_func': <built-in method relu of type object at 0x7fdd9ef7abe0>}\n",
      "\n",
      "Adding {'type': <class 'torch.nn.modules.activation.Softmax'>, 'layer_pars': {'dim': 1}}\n",
      "\n",
      "0\n",
      "[1, 28, 28]\n",
      "[3, 3]\n",
      "1\n",
      "[32, 26, 26]\n",
      "[2, 2]\n",
      "2\n",
      "[32, 13, 13]\n",
      "[4, 4]\n",
      "3\n",
      "[64, 10, 10]\n",
      "[2, 2]\n",
      "4\n",
      "[64, 5, 5]\n",
      "5\n",
      "1600\n",
      "6\n",
      "1600\n",
      "7\n",
      "1600\n",
      "8\n",
      "1600\n",
      "9\n",
      "1600\n",
      "10\n",
      "10\n",
      "size of val set :112\n",
      "\n",
      "size of train set :889\n",
      "\n",
      "mean epoch 0 train loss: 1.6064326772539634\n",
      "\n",
      "mean epoch 1 train loss: 1.523813588815009\n",
      "\n",
      "mean epoch 2 train loss: 1.5176132170502328\n",
      "\n",
      "mean epoch 3 train loss: 1.5094426575339954\n",
      "\n",
      "mean epoch 4 train loss: 1.5017861515384154\n",
      "\n",
      "mean epoch 5 train loss: 1.4951802551142948\n",
      "\n",
      "mean epoch 6 train loss: 1.4931709368129682\n",
      "\n",
      "mean epoch 7 train loss: 1.4916153428793222\n",
      "\n",
      "mean epoch 8 train loss: 1.4888765651007738\n",
      "\n",
      "mean epoch 9 train loss: 1.4948301975048568\n",
      "\n",
      "mean epoch 10 train loss: 1.4908019820536216\n",
      "\n",
      "mean epoch 10 val loss: 1.5127455230270113\n",
      "\n",
      "mean epoch 11 train loss: 1.488304884549067\n",
      "\n",
      "mean epoch 12 train loss: 1.4853849471352902\n",
      "\n",
      "mean epoch 13 train loss: 1.4843555537332163\n",
      "\n",
      "mean epoch 14 train loss: 1.4842413265605878\n",
      "\n",
      "mean epoch 15 train loss: 1.4833407918299277\n",
      "\n",
      "mean epoch 16 train loss: 1.482873416188329\n",
      "\n",
      "mean epoch 17 train loss: 1.4826505445656277\n",
      "\n",
      "mean epoch 18 train loss: 1.4846015799836716\n",
      "\n",
      "mean epoch 19 train loss: 1.4830459341557678\n",
      "\n",
      "mean epoch 20 train loss: 1.4812716314039027\n",
      "\n",
      "mean epoch 20 val loss: 1.5094772417630469\n",
      "\n",
      "mean epoch 21 train loss: 1.4797078582916001\n",
      "\n",
      "mean epoch 22 train loss: 1.4811909747204175\n",
      "\n",
      "mean epoch 23 train loss: 1.4789939286067864\n",
      "\n",
      "mean epoch 24 train loss: 1.478639747482317\n",
      "\n",
      "mean epoch 25 train loss: 1.477499102178387\n",
      "\n",
      "mean epoch 26 train loss: 1.4772421176575703\n",
      "\n",
      "mean epoch 27 train loss: 1.4787178593357717\n",
      "\n",
      "mean epoch 28 train loss: 1.4780683280110225\n",
      "\n",
      "mean epoch 29 train loss: 1.4799035241821084\n",
      "\n",
      "mean epoch 30 train loss: 1.4762815054677871\n",
      "\n",
      "mean epoch 30 val loss: 1.5105768644383974\n",
      "\n"
     ]
    }
   ],
   "source": [
    "tb = SummaryWriter()\n",
    "\n",
    "net = torch_net_class.Net(net_struct, dataset.get_image_size())    \n",
    "net.init_weights(torch.nn.init.xavier_normal_)\n",
    "net.set_batch_size(batch_size)\n",
    "#net.set_layer_sizes(layer_sizes)\n",
    "net.to(device)\n",
    "#net.show_layers()\n",
    "net_parameters = net.parameters()\n",
    "\n",
    "optimizer = optimizer_type(net_parameters, lr=lr)\n",
    "\n",
    "\"\"\"SPECIFY OUTSIDE FOR K-FOLD VALIDATION\"\"\"\n",
    "data_loader = utils.load_split_data(dataset=dataset, batch_size=batch_size, method=val_method, method_pars=val_method_pars, random_seed=random_seed, log_file=log_file)\n",
    "\n",
    "if val_method == \"holdout\":\n",
    "    data_loader = data_loader[0]\n",
    "    test_loader = data_loader[2]\n",
    "val_loader = data_loader[1]\n",
    "train_loader = data_loader[0]\n",
    "\n",
    "val_dir = \"val/\"\n",
    "try:\n",
    "    os.makedirs(val_dir)\n",
    "except FileExistsError:\n",
    "    pass\n",
    "train_state_dir = \"net_states/\"\n",
    "try:\n",
    "    os.makedirs(train_state_dir)\n",
    "except FileExistsError:\n",
    "    pass\n",
    "\n",
    "epoch = 0\n",
    "val_i = 0\n",
    "for epoch in range(epochs):\n",
    "    \n",
    "    batch_nr = 0\n",
    "    epoch_loss = np.zeros(len(train_loader))\n",
    "    \n",
    "    \"\"\"Actual training step\"\"\"\n",
    "    for train_mini_batch in train_loader:\n",
    "        batch_loss, train_output = utils.step(net, train_mini_batch, output_size, loss_func, optimizer, device, mode=\"train\", log_file=log_file)\n",
    "        epoch_loss[batch_nr] = batch_loss.item()\n",
    "        batch_nr += 1\n",
    "    mean_epoch_loss = epoch_loss.mean()\n",
    "    train_loss[epoch] = mean_epoch_loss\n",
    "    print(f\"mean epoch {epoch} train loss: {mean_epoch_loss}\\n\")\n",
    "    \n",
    "    \n",
    "    \"\"\"save the neural networks state\"\"\"\n",
    "    if epoch in save_state_epochs:\n",
    "        train_state_epoch_file_path = train_state_dir + f\"state_epoch_{epoch}\"\n",
    "        train_state = {\"epoch\" : epoch, \"state_dict\": net.state_dict(), \"optimizer\": optimizer.state_dict()}\n",
    "        torch.save(train_state, train_state_epoch_file_path)\n",
    "        net_state_paths.append(train_state_epoch_file_path)\n",
    "        print(f\"saved model from epoch {epoch}\")\n",
    "        \n",
    "    \"\"\"\n",
    "    Validation\n",
    "    \"\"\"\n",
    "    if epoch in val_epochs:\n",
    "        val_label = []\n",
    "        val_pred = []\n",
    "        \n",
    "        val_batch_nr = 0\n",
    "        val_epoch_loss = np.zeros(len(val_loader))\n",
    "        \n",
    "        for val_mini_batch in val_loader:\n",
    "            label_batch = val_mini_batch[1]\n",
    "            val_label.append(label_batch.detach().cpu().numpy())\n",
    "            val_batch_loss, val_output = utils.step(net, val_mini_batch, output_size, loss_func, optimizer, device, mode=\"val\", log_file=log_file)\n",
    "            val_epoch_loss[val_batch_nr] = val_batch_loss.item()\n",
    "            #val_pred.append(val_output.detach().cpu().numpy())\n",
    "            class_batch_pred = []\n",
    "            #print(val_output)\n",
    "            for val in val_output:\n",
    "                class_index = val.argmax().detach().cpu()\n",
    "                class_batch_pred.append(class_index)\n",
    "            #print(class_batch_pred)\n",
    "            val_pred.append(class_batch_pred)\n",
    "            val_batch_nr += 1\n",
    "            \n",
    "        mean_val_epoch_loss = val_epoch_loss.mean()\n",
    "        val_loss[val_i] = mean_val_epoch_loss\n",
    "        print(f\"mean epoch {epoch} val loss: {mean_val_epoch_loss}\\n\")\n",
    "        \n",
    "        val_i += 1\n",
    "        \n",
    "        val_pred_path = val_dir + \"/\" + f\"val_epoch_{epoch}_pred\"\n",
    "        val_label_path = val_dir + \"/\" + f\"val_epoch_{epoch}_labels\"\n",
    "        #print(np.array(functools.reduce(operator.iconcat, val_pred, [])))\n",
    "        np.array(functools.reduce(operator.iconcat, val_pred, [])).tofile(val_pred_path, sep=\" \")\n",
    "        np.array(functools.reduce(operator.iconcat, val_label, [])).tofile(val_label_path, sep=\" \")\n",
    "        #np.array(val_pred).tofile(val_pred_path)\n",
    "        #np.array(val_label).tofile(val_pred_label)\n",
    "        \n",
    "        val_pred_paths.append(val_pred_path)\n",
    "        val_label_paths.append(val_label_path)\n",
    "        \n",
    "log_file.close()"
   ]
  },
  {
   "cell_type": "code",
   "execution_count": 8,
   "metadata": {},
   "outputs": [
    {
     "data": {
      "image/png": "[encoded data removed]",
      "text/plain": [
       "<Figure size 432x288 with 1 Axes>"
      ]
     },
     "metadata": {
      "needs_background": "light"
     },
     "output_type": "display_data"
    }
   ],
   "source": [
    "\"\"\"Plot training loss curve and save as image\"\"\"\n",
    "train_loss_img_file_name = \"train_loss.png\"\n",
    "x_epochs = range(epochs)\n",
    "plt.plot(x_epochs, train_loss)\n",
    "#plt.title()\n",
    "plt.xlabel(\"epoch\")\n",
    "plt.ylabel(\"training loss\")\n",
    "plt.savefig(train_loss_img_file_name)\n",
    "plt.show()\n",
    "plt.close()\n",
    "train_loss_txt_file_name = \"train_loss.txt\"\n",
    "np.savetxt(train_loss_txt_file_name, train_loss)"
   ]
  },
  {
   "cell_type": "code",
   "execution_count": 9,
   "metadata": {},
   "outputs": [],
   "source": [
    "val_labels = np.fromfile(val_label_paths[-1], sep=\" \")\n",
    "val_pred = np.fromfile(val_pred_paths[-1], sep=\" \")"
   ]
  },
  {
   "cell_type": "code",
   "execution_count": 10,
   "metadata": {},
   "outputs": [
    {
     "data": {
      "text/plain": [
       "array([4., 4., 1., ..., 8., 9., 4.])"
      ]
     },
     "execution_count": 10,
     "metadata": {},
     "output_type": "execute_result"
    }
   ],
   "source": [
    "val_labels"
   ]
  },
  {
   "cell_type": "code",
   "execution_count": 11,
   "metadata": {},
   "outputs": [
    {
     "data": {
      "text/plain": [
       "array([4., 4., 7., ..., 8., 9., 4.])"
      ]
     },
     "execution_count": 11,
     "metadata": {},
     "output_type": "execute_result"
    }
   ],
   "source": [
    "val_pred"
   ]
  },
  {
   "cell_type": "code",
   "execution_count": 12,
   "metadata": {},
   "outputs": [
    {
     "data": {
      "text/plain": [
       "array([[114,   0,   0,   0,   0,   0,   0,   0,   0,   0],\n",
       "       [  0, 110,   3,   0,   0,   1,   0,   1,   0,   2],\n",
       "       [  0,   1,  93,   2,   0,   0,   3,   2,   3,   1],\n",
       "       [  0,   0,   3, 107,   0,   0,   0,   2,   0,   0],\n",
       "       [  0,   3,   0,   0, 108,   0,   1,   2,   0,   2],\n",
       "       [  1,   2,   1,   9,   0,  96,   0,   0,   0,   0],\n",
       "       [  1,   0,   0,   0,   0,   0, 130,   0,   0,   0],\n",
       "       [  0,   0,   0,   0,   0,   0,   0, 107,   3,   0],\n",
       "       [  0,   0,   0,   0,   0,   0,   0,   0,  90,   1],\n",
       "       [  1,   0,   0,   2,   1,   0,   0,   0,   2, 101]])"
      ]
     },
     "execution_count": 12,
     "metadata": {},
     "output_type": "execute_result"
    }
   ],
   "source": [
    "conf_mat = sklearn.metrics.confusion_matrix(val_labels,val_pred)\n",
    "conf_mat"
   ]
  },
  {
   "cell_type": "code",
   "execution_count": 13,
   "metadata": {},
   "outputs": [
    {
     "data": {
      "text/plain": [
       "array([[1.        , 0.        , 0.        , 0.        , 0.        ,\n",
       "        0.        , 0.        , 0.        , 0.        , 0.        ],\n",
       "       [0.        , 0.94017094, 0.02857143, 0.        , 0.        ,\n",
       "        0.00917431, 0.        , 0.00909091, 0.        , 0.01869159],\n",
       "       [0.        , 0.00854701, 0.88571429, 0.01785714, 0.        ,\n",
       "        0.        , 0.02290076, 0.01818182, 0.03296703, 0.00934579],\n",
       "       [0.        , 0.        , 0.02857143, 0.95535714, 0.        ,\n",
       "        0.        , 0.        , 0.01818182, 0.        , 0.        ],\n",
       "       [0.        , 0.02564103, 0.        , 0.        , 0.93103448,\n",
       "        0.        , 0.00763359, 0.01818182, 0.        , 0.01869159],\n",
       "       [0.00877193, 0.01709402, 0.00952381, 0.08035714, 0.        ,\n",
       "        0.88073394, 0.        , 0.        , 0.        , 0.        ],\n",
       "       [0.00877193, 0.        , 0.        , 0.        , 0.        ,\n",
       "        0.        , 0.99236641, 0.        , 0.        , 0.        ],\n",
       "       [0.        , 0.        , 0.        , 0.        , 0.        ,\n",
       "        0.        , 0.        , 0.97272727, 0.03296703, 0.        ],\n",
       "       [0.        , 0.        , 0.        , 0.        , 0.        ,\n",
       "        0.        , 0.        , 0.        , 0.98901099, 0.00934579],\n",
       "       [0.00877193, 0.        , 0.        , 0.01785714, 0.00862069,\n",
       "        0.        , 0.        , 0.        , 0.02197802, 0.94392523]])"
      ]
     },
     "execution_count": 13,
     "metadata": {},
     "output_type": "execute_result"
    }
   ],
   "source": [
    "norm_conf_mat = conf_mat/conf_mat.sum(axis=1)\n",
    "norm_conf_mat"
   ]
  },
  {
   "cell_type": "code",
   "execution_count": 14,
   "metadata": {},
   "outputs": [
    {
     "data": {
      "text/plain": [
       "<matplotlib.axes._subplots.AxesSubplot at 0x7fdceaa67c10>"
      ]
     },
     "execution_count": 14,
     "metadata": {},
     "output_type": "execute_result"
    },
    {
     "data": {
      "image/png": "[encoded data removed]",
      "text/plain": [
       "<Figure size 432x288 with 2 Axes>"
      ]
     },
     "metadata": {
      "needs_background": "light"
     },
     "output_type": "display_data"
    }
   ],
   "source": [
    "sns.heatmap(norm_conf_mat,cmap=\"YlGn\")"
   ]
  },
  {
   "cell_type": "code",
   "execution_count": 15,
   "metadata": {},
   "outputs": [
    {
     "name": "stdout",
     "output_type": "stream",
     "text": [
      "Accuracy:\n",
      " 0.9496402877697842\n",
      "Recall:\n",
      " [1.         0.94017094 0.88571429 0.95535714 0.93103448 0.88073394\n",
      " 0.99236641 0.97272727 0.98901099 0.94392523]\n",
      "averaged recall: 0.9491040704051981 +- 0.03972104561157897\n",
      "Precision:\n",
      " [0.97435897 0.94827586 0.93       0.89166667 0.99082569 0.98969072\n",
      " 0.97014925 0.93859649 0.91836735 0.94392523]\n",
      "averaged precision: 0.9495856238360535 +- 0.030352995142287925\n"
     ]
    }
   ],
   "source": [
    "acc = sklearn.metrics.accuracy_score(val_labels, val_pred)\n",
    "rec = sklearn.metrics.recall_score(val_labels, val_pred, average=None)\n",
    "prec = sklearn.metrics.precision_score(val_labels, val_pred, average=None)\n",
    "\n",
    "print(\"Accuracy:\\n {}\".format(acc))\n",
    "\n",
    "print(\"Recall:\\n {}\".format(rec))\n",
    "print(\"averaged recall: {} +- {}\".format(rec.mean(), rec.std()) )\n",
    "\n",
    "print(\"Precision:\\n {}\".format(prec))\n",
    "print(\"averaged precision: {} +- {}\".format(prec.mean(), prec.std()) )"
   ]
  },
  {
   "cell_type": "code",
   "execution_count": null,
   "metadata": {},
   "outputs": [],
   "source": []
  },
  {
   "cell_type": "code",
   "execution_count": null,
   "metadata": {},
   "outputs": [],
   "source": []
  }
 ],
 "metadata": {
  "kernelspec": {
   "display_name": "Python 3",
   "language": "python",
   "name": "python3"
  },
  "language_info": {
   "codemirror_mode": {
    "name": "ipython",
    "version": 3
   },
   "file_extension": ".py",
   "mimetype": "text/x-python",
   "name": "python",
   "nbconvert_exporter": "python",
   "pygments_lexer": "ipython3",
   "version": "3.7.4"
  }
 },
 "nbformat": 4,
 "nbformat_minor": 2
}
