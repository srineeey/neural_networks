{
 "cells": [
  {
   "cell_type": "code",
   "execution_count": 1,
   "metadata": {},
   "outputs": [],
   "source": [
    "import torch\n",
    "import torch.nn as nn\n",
    "import torch.nn.functional as F\n",
    "import torch.optim as optim\n",
    "import torch.utils.data\n",
    "import torchvision\n",
    "\n",
    "import numpy as np\n",
    "import pandas as pd\n",
    "import matplotlib.pyplot as plt\n",
    "import seaborn as sns\n",
    "\n",
    "import os\n",
    "\n",
    "from sklearn.preprocessing import StandardScaler\n",
    "from sklearn_pandas import DataFrameMapper\n",
    "from sklearn.preprocessing import MinMaxScaler\n",
    "from sklearn.model_selection import KFold\n",
    "from sklearn.metrics import confusion_matrix\n",
    "\n",
    "import itertools\n",
    "\n",
    "import dataset_class_image\n",
    "import torch_net_class"
   ]
  },
  {
   "cell_type": "code",
   "execution_count": 2,
   "metadata": {},
   "outputs": [
    {
     "data": {
      "text/html": [
       "<div>\n",
       "<style scoped>\n",
       "    .dataframe tbody tr th:only-of-type {\n",
       "        vertical-align: middle;\n",
       "    }\n",
       "\n",
       "    .dataframe tbody tr th {\n",
       "        vertical-align: top;\n",
       "    }\n",
       "\n",
       "    .dataframe thead th {\n",
       "        text-align: right;\n",
       "    }\n",
       "</style>\n",
       "<table border=\"1\" class=\"dataframe\">\n",
       "  <thead>\n",
       "    <tr style=\"text-align: right;\">\n",
       "      <th></th>\n",
       "      <th>label</th>\n",
       "      <th>1x1</th>\n",
       "      <th>1x2</th>\n",
       "      <th>1x3</th>\n",
       "      <th>1x4</th>\n",
       "      <th>1x5</th>\n",
       "      <th>1x6</th>\n",
       "      <th>1x7</th>\n",
       "      <th>1x8</th>\n",
       "      <th>1x9</th>\n",
       "      <th>...</th>\n",
       "      <th>28x19</th>\n",
       "      <th>28x20</th>\n",
       "      <th>28x21</th>\n",
       "      <th>28x22</th>\n",
       "      <th>28x23</th>\n",
       "      <th>28x24</th>\n",
       "      <th>28x25</th>\n",
       "      <th>28x26</th>\n",
       "      <th>28x27</th>\n",
       "      <th>28x28</th>\n",
       "    </tr>\n",
       "  </thead>\n",
       "  <tbody>\n",
       "    <tr>\n",
       "      <th>0</th>\n",
       "      <td>5</td>\n",
       "      <td>0</td>\n",
       "      <td>0</td>\n",
       "      <td>0</td>\n",
       "      <td>0</td>\n",
       "      <td>0</td>\n",
       "      <td>0</td>\n",
       "      <td>0</td>\n",
       "      <td>0</td>\n",
       "      <td>0</td>\n",
       "      <td>...</td>\n",
       "      <td>0</td>\n",
       "      <td>0</td>\n",
       "      <td>0</td>\n",
       "      <td>0</td>\n",
       "      <td>0</td>\n",
       "      <td>0</td>\n",
       "      <td>0</td>\n",
       "      <td>0</td>\n",
       "      <td>0</td>\n",
       "      <td>0</td>\n",
       "    </tr>\n",
       "    <tr>\n",
       "      <th>1</th>\n",
       "      <td>0</td>\n",
       "      <td>0</td>\n",
       "      <td>0</td>\n",
       "      <td>0</td>\n",
       "      <td>0</td>\n",
       "      <td>0</td>\n",
       "      <td>0</td>\n",
       "      <td>0</td>\n",
       "      <td>0</td>\n",
       "      <td>0</td>\n",
       "      <td>...</td>\n",
       "      <td>0</td>\n",
       "      <td>0</td>\n",
       "      <td>0</td>\n",
       "      <td>0</td>\n",
       "      <td>0</td>\n",
       "      <td>0</td>\n",
       "      <td>0</td>\n",
       "      <td>0</td>\n",
       "      <td>0</td>\n",
       "      <td>0</td>\n",
       "    </tr>\n",
       "    <tr>\n",
       "      <th>2</th>\n",
       "      <td>4</td>\n",
       "      <td>0</td>\n",
       "      <td>0</td>\n",
       "      <td>0</td>\n",
       "      <td>0</td>\n",
       "      <td>0</td>\n",
       "      <td>0</td>\n",
       "      <td>0</td>\n",
       "      <td>0</td>\n",
       "      <td>0</td>\n",
       "      <td>...</td>\n",
       "      <td>0</td>\n",
       "      <td>0</td>\n",
       "      <td>0</td>\n",
       "      <td>0</td>\n",
       "      <td>0</td>\n",
       "      <td>0</td>\n",
       "      <td>0</td>\n",
       "      <td>0</td>\n",
       "      <td>0</td>\n",
       "      <td>0</td>\n",
       "    </tr>\n",
       "    <tr>\n",
       "      <th>3</th>\n",
       "      <td>1</td>\n",
       "      <td>0</td>\n",
       "      <td>0</td>\n",
       "      <td>0</td>\n",
       "      <td>0</td>\n",
       "      <td>0</td>\n",
       "      <td>0</td>\n",
       "      <td>0</td>\n",
       "      <td>0</td>\n",
       "      <td>0</td>\n",
       "      <td>...</td>\n",
       "      <td>0</td>\n",
       "      <td>0</td>\n",
       "      <td>0</td>\n",
       "      <td>0</td>\n",
       "      <td>0</td>\n",
       "      <td>0</td>\n",
       "      <td>0</td>\n",
       "      <td>0</td>\n",
       "      <td>0</td>\n",
       "      <td>0</td>\n",
       "    </tr>\n",
       "    <tr>\n",
       "      <th>4</th>\n",
       "      <td>9</td>\n",
       "      <td>0</td>\n",
       "      <td>0</td>\n",
       "      <td>0</td>\n",
       "      <td>0</td>\n",
       "      <td>0</td>\n",
       "      <td>0</td>\n",
       "      <td>0</td>\n",
       "      <td>0</td>\n",
       "      <td>0</td>\n",
       "      <td>...</td>\n",
       "      <td>0</td>\n",
       "      <td>0</td>\n",
       "      <td>0</td>\n",
       "      <td>0</td>\n",
       "      <td>0</td>\n",
       "      <td>0</td>\n",
       "      <td>0</td>\n",
       "      <td>0</td>\n",
       "      <td>0</td>\n",
       "      <td>0</td>\n",
       "    </tr>\n",
       "  </tbody>\n",
       "</table>\n",
       "<p>5 rows × 785 columns</p>\n",
       "</div>"
      ],
      "text/plain": [
       "   label  1x1  1x2  1x3  1x4  1x5  1x6  1x7  1x8  1x9  ...  28x19  28x20  \\\n",
       "0      5    0    0    0    0    0    0    0    0    0  ...      0      0   \n",
       "1      0    0    0    0    0    0    0    0    0    0  ...      0      0   \n",
       "2      4    0    0    0    0    0    0    0    0    0  ...      0      0   \n",
       "3      1    0    0    0    0    0    0    0    0    0  ...      0      0   \n",
       "4      9    0    0    0    0    0    0    0    0    0  ...      0      0   \n",
       "\n",
       "   28x21  28x22  28x23  28x24  28x25  28x26  28x27  28x28  \n",
       "0      0      0      0      0      0      0      0      0  \n",
       "1      0      0      0      0      0      0      0      0  \n",
       "2      0      0      0      0      0      0      0      0  \n",
       "3      0      0      0      0      0      0      0      0  \n",
       "4      0      0      0      0      0      0      0      0  \n",
       "\n",
       "[5 rows x 785 columns]"
      ]
     },
     "execution_count": 2,
     "metadata": {},
     "output_type": "execute_result"
    }
   ],
   "source": [
    "dataset_file_name = \"mnist_train.csv\"\n",
    "df = pd.read_csv(dataset_file_name)\n",
    "df.head()"
   ]
  },
  {
   "cell_type": "code",
   "execution_count": 3,
   "metadata": {},
   "outputs": [
    {
     "data": {
      "text/plain": [
       "60000"
      ]
     },
     "execution_count": 3,
     "metadata": {},
     "output_type": "execute_result"
    }
   ],
   "source": [
    "len(df)"
   ]
  },
  {
   "cell_type": "code",
   "execution_count": 5,
   "metadata": {},
   "outputs": [],
   "source": [
    "num_images = 10000\n",
    "image_folder_name = \"mnist\"\n",
    "image_file_path_list = []\n",
    "try:\n",
    "    os.mkdir(image_folder_name)\n",
    "except FileExistsError:\n",
    "    pass\n",
    "\n",
    "image_labels = np.zeros(shape=(num_images))\n",
    "\n",
    "for ex_i in range(0, num_images):\n",
    "    label = df.iloc[ex_i,0]\n",
    "    image_array = np.array(df.iloc[ex_i,1:])\n",
    "    image_labels[ex_i] = float(np.array(df.iloc[ex_i,0]))\n",
    "    image_len = int(np.sqrt(image_array.shape[0]))\n",
    "    image_shape = (image_len,image_len)\n",
    "    image = image_array.reshape(image_shape)\n",
    "    image_file_path = image_folder_name + \"/{}\".format(ex_i)\n",
    "    image_file_path_list.append(image_file_path)\n",
    "    np.savetxt(image_file_path, image_array)\n",
    "    \n",
    "image_label_df = pd.DataFrame(image_labels, columns=[\"number\"])\n",
    "image_label_df.to_csv(\"mnist_labels.csv\")\n"
   ]
  },
  {
   "cell_type": "code",
   "execution_count": 6,
   "metadata": {},
   "outputs": [
    {
     "data": {
      "text/html": [
       "<div>\n",
       "<style scoped>\n",
       "    .dataframe tbody tr th:only-of-type {\n",
       "        vertical-align: middle;\n",
       "    }\n",
       "\n",
       "    .dataframe tbody tr th {\n",
       "        vertical-align: top;\n",
       "    }\n",
       "\n",
       "    .dataframe thead th {\n",
       "        text-align: right;\n",
       "    }\n",
       "</style>\n",
       "<table border=\"1\" class=\"dataframe\">\n",
       "  <thead>\n",
       "    <tr style=\"text-align: right;\">\n",
       "      <th></th>\n",
       "      <th>Unnamed: 0</th>\n",
       "      <th>number</th>\n",
       "    </tr>\n",
       "  </thead>\n",
       "  <tbody>\n",
       "    <tr>\n",
       "      <th>0</th>\n",
       "      <td>0</td>\n",
       "      <td>5.0</td>\n",
       "    </tr>\n",
       "    <tr>\n",
       "      <th>1</th>\n",
       "      <td>1</td>\n",
       "      <td>0.0</td>\n",
       "    </tr>\n",
       "    <tr>\n",
       "      <th>2</th>\n",
       "      <td>2</td>\n",
       "      <td>4.0</td>\n",
       "    </tr>\n",
       "    <tr>\n",
       "      <th>3</th>\n",
       "      <td>3</td>\n",
       "      <td>1.0</td>\n",
       "    </tr>\n",
       "    <tr>\n",
       "      <th>4</th>\n",
       "      <td>4</td>\n",
       "      <td>9.0</td>\n",
       "    </tr>\n",
       "  </tbody>\n",
       "</table>\n",
       "</div>"
      ],
      "text/plain": [
       "   Unnamed: 0  number\n",
       "0           0     5.0\n",
       "1           1     0.0\n",
       "2           2     4.0\n",
       "3           3     1.0\n",
       "4           4     9.0"
      ]
     },
     "execution_count": 6,
     "metadata": {},
     "output_type": "execute_result"
    }
   ],
   "source": [
    "load_label_df = pd.read_csv(\"mnist_labels.csv\")\n",
    "load_label_df.head()\n"
   ]
  },
  {
   "cell_type": "code",
   "execution_count": 7,
   "metadata": {},
   "outputs": [
    {
     "data": {
      "text/plain": [
       "array([[5.]])"
      ]
     },
     "execution_count": 7,
     "metadata": {},
     "output_type": "execute_result"
    }
   ],
   "source": [
    "np.array(load_label_df.loc[[0],[\"number\"]])"
   ]
  },
  {
   "cell_type": "code",
   "execution_count": 8,
   "metadata": {},
   "outputs": [
    {
     "data": {
      "text/plain": [
       "array(0.)"
      ]
     },
     "execution_count": 8,
     "metadata": {},
     "output_type": "execute_result"
    }
   ],
   "source": [
    "np.array(load_label_df[\"number\"][1])"
   ]
  },
  {
   "cell_type": "code",
   "execution_count": 24,
   "metadata": {},
   "outputs": [
    {
     "data": {
      "text/plain": [
       "<matplotlib.image.AxesImage at 0x7f4aed3cfc90>"
      ]
     },
     "execution_count": 24,
     "metadata": {},
     "output_type": "execute_result"
    },
    {
     "data": {
      "image/png": "[encoded data removed]",
      "text/plain": [
       "<Figure size 432x288 with 1 Axes>"
      ]
     },
     "metadata": {
      "needs_background": "light"
     },
     "output_type": "display_data"
    }
   ],
   "source": [
    "i = 13\n",
    "image_file_path = image_file_path_list[i]\n",
    "image_array = np.loadtxt(image_file_path)\n",
    "image = image_array.reshape(image_shape)\n",
    "plt.imshow(image)"
   ]
  },
  {
   "cell_type": "code",
   "execution_count": 9,
   "metadata": {},
   "outputs": [
    {
     "data": {
      "image/png": "[encoded data removed]",
      "text/plain": [
       "<Figure size 432x288 with 1 Axes>"
      ]
     },
     "metadata": {
      "needs_background": "light"
     },
     "output_type": "display_data"
    }
   ],
   "source": [
    "inv_image = 255-image\n",
    "plt.imshow(inv_image)\n",
    "\n",
    "new_shape = tuple([1] + list(inv_image.shape))"
   ]
  },
  {
   "cell_type": "code",
   "execution_count": 10,
   "metadata": {},
   "outputs": [],
   "source": [
    "dual_image = np.concatenate((image.reshape(new_shape), inv_image.reshape(new_shape)))"
   ]
  },
  {
   "cell_type": "code",
   "execution_count": 11,
   "metadata": {},
   "outputs": [
    {
     "data": {
      "text/plain": [
       "<matplotlib.image.AxesImage at 0x7f8683866ed0>"
      ]
     },
     "execution_count": 11,
     "metadata": {},
     "output_type": "execute_result"
    },
    {
     "data": {
      "image/png": "[encoded data removed]",
      "text/plain": [
       "<Figure size 432x288 with 1 Axes>"
      ]
     },
     "metadata": {
      "needs_background": "light"
     },
     "output_type": "display_data"
    }
   ],
   "source": [
    "np.savetxt(\"dual_test_image\", dual_image.reshape(-1))\n",
    "loaded_dual_image = np.loadtxt(\"dual_test_image\").reshape(tuple([2] + list(inv_image.shape)))\n",
    "plt.imshow(loaded_dual_image[1])"
   ]
  },
  {
   "cell_type": "code",
   "execution_count": 12,
   "metadata": {},
   "outputs": [
    {
     "name": "stdout",
     "output_type": "stream",
     "text": [
      "[(4, 4), (4, 4), (4, 4), (4, 4), (4, 4)]\n",
      "[[28, 28], [25, 25], [22, 22], [19, 19], [16, 16], [13, 13]]\n"
     ]
    }
   ],
   "source": [
    "#(1,28,28)\n",
    "\"\"\"Code to visualize the convnet structure\"\"\"\n",
    "\"\"\"How the layer sizes vary for given kernel sizes\"\"\"\n",
    "input_shape = [1,28,28]\n",
    "image_shape = input_shape[1:]\n",
    "#print(image_shape)\n",
    "\n",
    "#dimension of the image\n",
    "image_d = len(image_shape)\n",
    "\n",
    "#dimension of the kernels\n",
    "#less or equal to image dimension\n",
    "kernel_d = 3\n",
    "\n",
    "#kernel sizes and number of channels for each layer\n",
    "kernel_sizes = [7,7,7,7]\n",
    "channels = [5,5]\n",
    "\n",
    "\n",
    "#generate kernel shape array\n",
    "kernel_shapes = []\n",
    "for kernel_size in kernel_sizes:\n",
    "    kernel_shape = [kernel_size]*kernel_d + [1]*(image_d - kernel_d)\n",
    "    kernel_shapes.append(kernel_shape)\n",
    "\n",
    "kernel_shapes = [(4,4),(4,4),(4,4),(4,4),(4,4)]\n",
    "\n",
    "print(kernel_shapes)\n",
    "\n",
    "#the size of the intermediate convoluted layer in the network\n",
    "conv_sizes = []\n",
    "\n",
    "#the first layer is the input = image shape\n",
    "conv_sizes.append(image_shape)\n",
    "\n",
    "for layer_i, kernel_shape in enumerate(kernel_shapes):\n",
    "    #print(layer_i)\n",
    "    #print(kernel_shape)\n",
    "    \n",
    "    #size of the intermediate convoluted layer\n",
    "    new_image_size = []\n",
    "    #product for all d: image_l - kernel_l + 1\n",
    "    for d in range(0,image_d):\n",
    "        #print(d)\n",
    "        new_image_size.append(conv_sizes[-1][d] - kernel_shape[d] + 1)\n",
    "    #print(new_image_size)\n",
    "        \n",
    "    conv_sizes.append(new_image_size)\n",
    "    \n",
    "print(conv_sizes)"
   ]
  },
  {
   "cell_type": "code",
   "execution_count": 13,
   "metadata": {},
   "outputs": [
    {
     "name": "stdout",
     "output_type": "stream",
     "text": [
      "[[1, 28, 28], [3, 25, 23], [6, 23, 18], [12, 22, 15]]\n"
     ]
    }
   ],
   "source": [
    "input_shape = [1,28,28]\n",
    "net_struct = []\n",
    "net_struct.append( {\"type\": nn.Conv2d, \"layer_pars\": {\"in_channels\": 1, \"out_channels\": 3, \"kernel_size\": (4,6), \"bias\": True}} )\n",
    "net_struct.append( {\"type\": nn.Conv2d, \"layer_pars\": {\"in_channels\": 3, \"out_channels\": 6, \"kernel_size\": (3,6), \"bias\": True}} )\n",
    "net_struct.append( {\"type\": nn.Conv2d, \"layer_pars\": {\"in_channels\": 6, \"out_channels\": 12, \"kernel_size\": (2,4), \"bias\": True}} )\n",
    "#net_struct.append( {\"type\": nn.Linear, \"layer_pars\": {\"in_features\": 22*22, \"out_features\": 10}, \"bias\": True, \"act_func\": \"relu\"} )\n",
    "\n",
    "layer_sizes = []\n",
    "\n",
    "def calc_layer_sizes(input_shape, net_struct):\n",
    "    layer_sizes = [input_shape]\n",
    "    \n",
    "    for i in range(len(net_struct)):\n",
    "        new_layer_size = []\n",
    "        if net_struct[i][\"type\"] == nn.Linear:\n",
    "            new_layer_size = net_struct[i][\"layer_pars\"][\"out_features\"]\n",
    "            \n",
    "        elif net_struct[i][\"type\"] == nn.Conv2d:\n",
    "            \n",
    "            kernel_shape = net_struct[i][\"layer_pars\"][\"kernel_size\"]\n",
    "            new_layer_size = [layer_sizes[-1][d+1] - kernel_shape[d] + 1 for d in range(len(kernel_shape))]\n",
    "            new_layer_size = [net_struct[i][\"layer_pars\"][\"out_channels\"]] + new_layer_size\n",
    "        \n",
    "        layer_sizes.append(new_layer_size)\n",
    "    \n",
    "    return layer_sizes\n",
    "\n",
    "layer_sizes = calc_layer_sizes(input_shape, net_struct)\n",
    "print(layer_sizes)"
   ]
  },
  {
   "cell_type": "code",
   "execution_count": null,
   "metadata": {},
   "outputs": [],
   "source": []
  },
  {
   "cell_type": "code",
   "execution_count": null,
   "metadata": {},
   "outputs": [],
   "source": []
  },
  {
   "cell_type": "code",
   "execution_count": null,
   "metadata": {},
   "outputs": [],
   "source": []
  }
 ],
 "metadata": {
  "kernelspec": {
   "display_name": "Python 3",
   "language": "python",
   "name": "python3"
  },
  "language_info": {
   "codemirror_mode": {
    "name": "ipython",
    "version": 3
   },
   "file_extension": ".py",
   "mimetype": "text/x-python",
   "name": "python",
   "nbconvert_exporter": "python",
   "pygments_lexer": "ipython3",
   "version": "3.7.4"
  }
 },
 "nbformat": 4,
 "nbformat_minor": 2
}
