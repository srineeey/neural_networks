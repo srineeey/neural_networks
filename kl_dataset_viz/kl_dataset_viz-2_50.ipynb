{
 "cells": [
  {
   "cell_type": "code",
   "execution_count": 1,
   "metadata": {},
   "outputs": [],
   "source": [
    "import numpy as np\n",
    "import scipy as scp\n",
    "import matplotlib.pyplot as plt\n",
    "import seaborn as sns\n",
    "import pandas as pd\n",
    "\n",
    "import os\n",
    "import glob\n",
    "import sys\n",
    "\n",
    "sys.path.insert(1,\"/home/sbulusu/qcd_ml/neural_networks/libs/\")\n",
    "\n",
    "import torch\n",
    "import torch.nn as nn\n",
    "\n",
    "#import lat_dataset_load_new_lightning\n",
    "import open_worm_lat_dataset_load_new_lightning_dat\n",
    "\n",
    "from tqdm.notebook import tqdm"
   ]
  },
  {
   "cell_type": "code",
   "execution_count": 2,
   "metadata": {},
   "outputs": [],
   "source": [
    "\"\"\"calculate f\"\"\"\n",
    "def link_per_lat_point(links, lat_size, dims):\n",
    "\n",
    "    #empty channels where the linsk on other directions should be saved\n",
    "    #empty_link_channels = np.zeros(links.shape)\n",
    "    empty_link_channels = torch.zeros(*links.shape, dtype=int)\n",
    "    for d in range(dims):\n",
    "        #print(d)\n",
    "        #print(links)\n",
    "        d_links = links[d]\n",
    "        #print(d_links)\n",
    "        #perm_links = np.roll(d_links, shift=1, axis=d)\n",
    "        perm_links = torch.roll(d_links, shifts=1, dims=d)\n",
    "        #print(perm_links)\n",
    "        \n",
    "        #print(d_slices)\n",
    "        #empty_link_channels[d] = links[zip(d_slices)]\n",
    "        empty_link_channels[d] = perm_links\n",
    "        \n",
    "    #not supported\n",
    "    #empty_link_channels = empty_link_channels[::-1]\n",
    "    #torch.flip(input=empty_link_channels, dims=[0])\n",
    "    \n",
    "    #complete_links = np.concatenate((links,empty_link_channels), axis=0)\n",
    "    complete_links = torch.cat((links,empty_link_channels), dim=0)\n",
    "            \n",
    "            \n",
    "    return complete_links\n",
    "\n",
    "def f_calc(k_links, l_links, lat_size, dims):\n",
    "    full_k_links = link_per_lat_point(k_links, lat_size, dims)\n",
    "    full_l_links = link_per_lat_point(l_links, lat_size, dims)\n",
    "    #print(full_k_links.shape)\n",
    "    #print(full_l_links.shape)\n",
    "    \n",
    "    #abs_full_k_links = np.abs(full_k_links)\n",
    "    abs_full_k_links = torch.abs(full_k_links)\n",
    "    \n",
    "    #calc_f = (abs_full_k_links + 2*full_l_links).sum(axis=0).astype(int)\n",
    "    calc_f = (abs_full_k_links + 2*full_l_links).sum(axis=0)\n",
    "\n",
    "    #return calc_f.astype(int)\n",
    "    return calc_f"
   ]
  },
  {
   "cell_type": "code",
   "execution_count": 3,
   "metadata": {},
   "outputs": [
    {
     "name": "stdout",
     "output_type": "stream",
     "text": [
      "Utilizing CUDA\n"
     ]
    }
   ],
   "source": [
    "if torch.cuda.is_available():\n",
    "    device = torch.device(\"cuda:0\")\n",
    "    print(\"Utilizing CUDA\")\n",
    "else:\n",
    "    device = torch.device(\"cpu\")\n",
    "    print(\"Utilizing CPU\")\n",
    "    "
   ]
  },
  {
   "cell_type": "code",
   "execution_count": 4,
   "metadata": {},
   "outputs": [
    {
     "name": "stdout",
     "output_type": "stream",
     "text": [
      "found file paths: ['/media/data/sbulusu/datasets/complexworm/Results for CNN/configs-50-2-4.010-1.000-0.995.dat', '/media/data/sbulusu/datasets/complexworm/Results for CNN/configs-50-2-4.010-1.000-1.050.dat', '/media/data/sbulusu/datasets/complexworm/Results for CNN/configs-50-2-4.010-1.000-1.005.dat', '/media/data/sbulusu/datasets/complexworm/Results for CNN/configs-50-2-4.010-1.000-0.990.dat', '/media/data/sbulusu/datasets/complexworm/Results for CNN/configs-50-2-4.010-1.000-1.030.dat', '/media/data/sbulusu/datasets/complexworm/Results for CNN/configs-50-2-4.010-1.000-0.930.dat', '/media/data/sbulusu/datasets/complexworm/Results for CNN/configs-50-2-4.010-1.000-0.970.dat', '/media/data/sbulusu/datasets/complexworm/Results for CNN/configs-50-2-4.010-1.000-1.015.dat', '/media/data/sbulusu/datasets/complexworm/Results for CNN/configs-50-2-4.010-1.000-0.950.dat', '/media/data/sbulusu/datasets/complexworm/Results for CNN/configs-50-2-4.010-1.000-0.925.dat', '/media/data/sbulusu/datasets/complexworm/Results for CNN/configs-50-2-4.010-1.000-0.975.dat', '/media/data/sbulusu/datasets/complexworm/Results for CNN/configs-50-2-4.010-1.000-1.040.dat', '/media/data/sbulusu/datasets/complexworm/Results for CNN/configs-50-2-4.010-1.000-0.965.dat', '/media/data/sbulusu/datasets/complexworm/Results for CNN/configs-50-2-4.010-1.000-1.035.dat', '/media/data/sbulusu/datasets/complexworm/Results for CNN/configs-50-2-4.010-1.000-0.980.dat', '/media/data/sbulusu/datasets/complexworm/Results for CNN/configs-50-2-4.010-1.000-1.045.dat', '/media/data/sbulusu/datasets/complexworm/Results for CNN/configs-50-2-4.010-1.000-0.940.dat', '/media/data/sbulusu/datasets/complexworm/Results for CNN/configs-50-2-4.010-1.000-0.915.dat', '/media/data/sbulusu/datasets/complexworm/Results for CNN/configs-50-2-4.010-1.000-1.025.dat', '/media/data/sbulusu/datasets/complexworm/Results for CNN/configs-50-2-4.010-1.000-0.985.dat', '/media/data/sbulusu/datasets/complexworm/Results for CNN/configs-50-2-4.010-1.000-0.945.dat', '/media/data/sbulusu/datasets/complexworm/Results for CNN/configs-50-2-4.010-1.000-0.960.dat', '/media/data/sbulusu/datasets/complexworm/Results for CNN/configs-50-2-4.010-1.000-1.020.dat', '/media/data/sbulusu/datasets/complexworm/Results for CNN/configs-50-2-4.010-1.000-0.920.dat', '/media/data/sbulusu/datasets/complexworm/Results for CNN/configs-50-2-4.010-1.000-1.010.dat', '/media/data/sbulusu/datasets/complexworm/Results for CNN/configs-50-2-4.010-1.000-0.935.dat', '/media/data/sbulusu/datasets/complexworm/Results for CNN/configs-50-2-4.010-1.000-0.955.dat', '/media/data/sbulusu/datasets/complexworm/Results for CNN/configs-50-2-4.010-1.000-1.000.dat', '/media/data/sbulusu/datasets/complexworm/Results for CNN/configs-50-2-4.010-1.000-0.910.dat']\n"
     ]
    },
    {
     "data": {
      "application/vnd.jupyter.widget-view+json": {
       "model_id": "56aeaa50145b4a4ea653a846fc4bd9f1",
       "version_major": 2,
       "version_minor": 0
      },
      "text/plain": [
       "HBox(children=(FloatProgress(value=0.0, max=29.0), HTML(value='')))"
      ]
     },
     "metadata": {},
     "output_type": "display_data"
    },
    {
     "name": "stdout",
     "output_type": "stream",
     "text": [
      "Processing conf file /media/data/sbulusu/datasets/complexworm/Results for CNN/configs-50-2-4.010-1.000-0.995.dat\n",
      "['configs', '50', '2', '4.010', '1.000', '0.995']\n",
      "loaded file name labels ['nt', 'nx', 'eta', 'lambda', 'mu']\n",
      "for label n\n",
      "loading labels file /media/data/sbulusu/datasets/complexworm/Results for CNN/n-50-2-4.010-1.000-0.995.dat\n",
      "for label phi2\n",
      "loading labels file /media/data/sbulusu/datasets/complexworm/Results for CNN/phi2-50-2-4.010-1.000-0.995.dat\n",
      "First read conf file /media/data/sbulusu/datasets/complexworm/Results for CNN/configs-50-2-4.010-1.000-0.995.dat with size :(2000000,)\n",
      "Read conf file /media/data/sbulusu/datasets/complexworm/Results for CNN/configs-50-2-4.010-1.000-0.995.dat with size :torch.Size([5000, 2, 2, 2, 50])\n",
      "Loading 5000 confs\n"
     ]
    },
    {
     "data": {
      "application/vnd.jupyter.widget-view+json": {
       "model_id": "c0800a4d415a411186b856e2f62502d2",
       "version_major": 2,
       "version_minor": 0
      },
      "text/plain": [
       "HBox(children=(FloatProgress(value=0.0, max=5000.0), HTML(value='')))"
      ]
     },
     "metadata": {},
     "output_type": "display_data"
    },
    {
     "name": "stdout",
     "output_type": "stream",
     "text": [
      "first example loaded:\n",
      "{'conf': tensor([[[[ 0,  0,  0,  0,  0,  0,  0,  0,  0,  0,  0,  0,  0,  0,  0,  0,  0,\n",
      "            0,  0,  0,  0,  0,  0,  0,  0,  0,  0,  0,  0,  0,  0,  0,  0,  0,\n",
      "            0,  0,  0,  0,  0,  0,  0,  0,  0,  0,  0,  0,  0,  0,  0,  0],\n",
      "          [ 0,  0,  0,  0,  0,  0,  0,  0,  0,  0,  0,  0,  0,  0,  0,  0,  0,\n",
      "            0,  0,  0,  0,  0,  0,  0,  0,  0,  0,  0,  0,  0,  0,  0,  0,  0,\n",
      "            0,  0,  0,  0,  0,  0,  0,  0,  0,  0,  0,  0,  0,  0,  0,  0]],\n",
      "\n",
      "         [[ 0,  0,  0,  0,  0,  0, -1,  0,  0,  0,  0,  0,  0,  0,  0,  0,  0,\n",
      "            0,  0,  0,  0,  0,  0,  0,  0,  0,  0,  0,  0,  0,  0,  0,  0,  0,\n",
      "            0,  0,  0,  0,  0,  0,  0,  0,  0,  1,  1,  0,  0,  0,  0,  0],\n",
      "          [ 0,  0,  0,  0,  0,  0, -1,  0,  0,  0,  0,  0,  0,  0,  0,  0,  0,\n",
      "            0,  0,  0,  0,  0,  0,  0,  0,  0,  0,  0,  0,  0,  0,  0,  0,  0,\n",
      "            0,  0,  0,  0,  0,  0,  0,  0,  0,  1,  1,  0,  0,  0,  0,  0]]],\n",
      "\n",
      "\n",
      "        [[[ 0,  0,  0,  0,  0,  0,  0,  0,  0,  0,  0,  0,  0,  1,  0,  0,  1,\n",
      "            0,  0,  0,  0,  0,  0,  0,  0,  0,  0,  0,  0,  0,  0,  0,  0,  0,\n",
      "            0,  0,  0,  0,  0,  0,  0,  0,  0,  0,  0,  0,  0,  0,  0,  0],\n",
      "          [ 0,  0,  0,  0,  0,  1,  0,  0,  0,  0,  0,  1,  1,  0,  0,  0,  0,\n",
      "            0,  0,  0,  0,  1,  0,  0,  0,  0,  0,  0,  0,  0,  0,  0,  0,  0,\n",
      "            0,  0,  0,  0,  0,  0,  0,  0,  0,  0,  0,  0,  0,  0,  0,  0]],\n",
      "\n",
      "         [[ 0,  1,  0,  0,  0,  1,  0,  1,  0,  0,  0,  1,  0,  0,  0,  0,  0,\n",
      "            0,  0,  0,  1,  0,  0,  0,  0,  0,  0,  0,  0,  1,  0,  0,  0,  0,\n",
      "            0,  0,  0,  2,  0,  0,  0,  0,  0,  0,  0,  0,  0,  0,  0,  0],\n",
      "          [ 0,  0,  0,  0,  0,  0,  0,  0,  0,  0,  0,  0,  0,  0,  0,  0,  0,\n",
      "            0,  0,  0,  0,  0,  0,  0,  0,  0,  0,  0,  0,  0,  0,  0,  0,  0,\n",
      "            0,  0,  0,  0,  0,  0,  0,  0,  0,  0,  0,  0,  0,  0,  0,  0]]]]), 'mu': 0.995, 'open': False, 'nt': 50.0, 'nx': 2.0, 'eta': 4.01, 'lambda': 1.0, 'phase': tensor(1.), 'n': 0.0, 'phi2': 0.26947347224, 'id': 0}\n",
      "\n",
      "Processing conf file /media/data/sbulusu/datasets/complexworm/Results for CNN/configs-50-2-4.010-1.000-1.050.dat\n",
      "['configs', '50', '2', '4.010', '1.000', '1.050']\n",
      "loaded file name labels ['nt', 'nx', 'eta', 'lambda', 'mu']\n",
      "for label n\n",
      "loading labels file /media/data/sbulusu/datasets/complexworm/Results for CNN/n-50-2-4.010-1.000-1.050.dat\n",
      "for label phi2\n",
      "loading labels file /media/data/sbulusu/datasets/complexworm/Results for CNN/phi2-50-2-4.010-1.000-1.050.dat\n",
      "First read conf file /media/data/sbulusu/datasets/complexworm/Results for CNN/configs-50-2-4.010-1.000-1.050.dat with size :(2000000,)\n",
      "Read conf file /media/data/sbulusu/datasets/complexworm/Results for CNN/configs-50-2-4.010-1.000-1.050.dat with size :torch.Size([5000, 2, 2, 2, 50])\n",
      "Loading 5000 confs\n"
     ]
    },
    {
     "data": {
      "application/vnd.jupyter.widget-view+json": {
       "model_id": "aa4a698b493d480c81bf60da783e4ce8",
       "version_major": 2,
       "version_minor": 0
      },
      "text/plain": [
       "HBox(children=(FloatProgress(value=0.0, max=5000.0), HTML(value='')))"
      ]
     },
     "metadata": {},
     "output_type": "display_data"
    },
    {
     "name": "stdout",
     "output_type": "stream",
     "text": [
      "\n",
      "Processing conf file /media/data/sbulusu/datasets/complexworm/Results for CNN/configs-50-2-4.010-1.000-1.005.dat\n",
      "['configs', '50', '2', '4.010', '1.000', '1.005']\n",
      "loaded file name labels ['nt', 'nx', 'eta', 'lambda', 'mu']\n",
      "for label n\n",
      "loading labels file /media/data/sbulusu/datasets/complexworm/Results for CNN/n-50-2-4.010-1.000-1.005.dat\n",
      "for label phi2\n",
      "loading labels file /media/data/sbulusu/datasets/complexworm/Results for CNN/phi2-50-2-4.010-1.000-1.005.dat\n",
      "First read conf file /media/data/sbulusu/datasets/complexworm/Results for CNN/configs-50-2-4.010-1.000-1.005.dat with size :(2000000,)\n",
      "Read conf file /media/data/sbulusu/datasets/complexworm/Results for CNN/configs-50-2-4.010-1.000-1.005.dat with size :torch.Size([5000, 2, 2, 2, 50])\n",
      "Loading 5000 confs\n"
     ]
    },
    {
     "data": {
      "application/vnd.jupyter.widget-view+json": {
       "model_id": "a46ad8e9eebb4254b357fed9f0b82278",
       "version_major": 2,
       "version_minor": 0
      },
      "text/plain": [
       "HBox(children=(FloatProgress(value=0.0, max=5000.0), HTML(value='')))"
      ]
     },
     "metadata": {},
     "output_type": "display_data"
    },
    {
     "name": "stdout",
     "output_type": "stream",
     "text": [
      "\n",
      "Processing conf file /media/data/sbulusu/datasets/complexworm/Results for CNN/configs-50-2-4.010-1.000-0.990.dat\n",
      "['configs', '50', '2', '4.010', '1.000', '0.990']\n",
      "loaded file name labels ['nt', 'nx', 'eta', 'lambda', 'mu']\n",
      "for label n\n",
      "loading labels file /media/data/sbulusu/datasets/complexworm/Results for CNN/n-50-2-4.010-1.000-0.990.dat\n",
      "for label phi2\n",
      "loading labels file /media/data/sbulusu/datasets/complexworm/Results for CNN/phi2-50-2-4.010-1.000-0.990.dat\n",
      "First read conf file /media/data/sbulusu/datasets/complexworm/Results for CNN/configs-50-2-4.010-1.000-0.990.dat with size :(2000000,)\n",
      "Read conf file /media/data/sbulusu/datasets/complexworm/Results for CNN/configs-50-2-4.010-1.000-0.990.dat with size :torch.Size([5000, 2, 2, 2, 50])\n",
      "Loading 5000 confs\n"
     ]
    },
    {
     "data": {
      "application/vnd.jupyter.widget-view+json": {
       "model_id": "1da98c4618154e819806c90284eb7b7c",
       "version_major": 2,
       "version_minor": 0
      },
      "text/plain": [
       "HBox(children=(FloatProgress(value=0.0, max=5000.0), HTML(value='')))"
      ]
     },
     "metadata": {},
     "output_type": "display_data"
    },
    {
     "name": "stdout",
     "output_type": "stream",
     "text": [
      "\n",
      "Processing conf file /media/data/sbulusu/datasets/complexworm/Results for CNN/configs-50-2-4.010-1.000-1.030.dat\n",
      "['configs', '50', '2', '4.010', '1.000', '1.030']\n",
      "loaded file name labels ['nt', 'nx', 'eta', 'lambda', 'mu']\n",
      "for label n\n",
      "loading labels file /media/data/sbulusu/datasets/complexworm/Results for CNN/n-50-2-4.010-1.000-1.030.dat\n",
      "for label phi2\n",
      "loading labels file /media/data/sbulusu/datasets/complexworm/Results for CNN/phi2-50-2-4.010-1.000-1.030.dat\n",
      "First read conf file /media/data/sbulusu/datasets/complexworm/Results for CNN/configs-50-2-4.010-1.000-1.030.dat with size :(2000000,)\n",
      "Read conf file /media/data/sbulusu/datasets/complexworm/Results for CNN/configs-50-2-4.010-1.000-1.030.dat with size :torch.Size([5000, 2, 2, 2, 50])\n",
      "Loading 5000 confs\n"
     ]
    },
    {
     "data": {
      "application/vnd.jupyter.widget-view+json": {
       "model_id": "1b41614a1c714526a2edc1aa3f4fd1ed",
       "version_major": 2,
       "version_minor": 0
      },
      "text/plain": [
       "HBox(children=(FloatProgress(value=0.0, max=5000.0), HTML(value='')))"
      ]
     },
     "metadata": {},
     "output_type": "display_data"
    },
    {
     "name": "stdout",
     "output_type": "stream",
     "text": [
      "\n",
      "Processing conf file /media/data/sbulusu/datasets/complexworm/Results for CNN/configs-50-2-4.010-1.000-0.930.dat\n",
      "['configs', '50', '2', '4.010', '1.000', '0.930']\n",
      "loaded file name labels ['nt', 'nx', 'eta', 'lambda', 'mu']\n",
      "for label n\n",
      "loading labels file /media/data/sbulusu/datasets/complexworm/Results for CNN/n-50-2-4.010-1.000-0.930.dat\n",
      "for label phi2\n",
      "loading labels file /media/data/sbulusu/datasets/complexworm/Results for CNN/phi2-50-2-4.010-1.000-0.930.dat\n",
      "First read conf file /media/data/sbulusu/datasets/complexworm/Results for CNN/configs-50-2-4.010-1.000-0.930.dat with size :(2000000,)\n",
      "Read conf file /media/data/sbulusu/datasets/complexworm/Results for CNN/configs-50-2-4.010-1.000-0.930.dat with size :torch.Size([5000, 2, 2, 2, 50])\n",
      "Loading 5000 confs\n"
     ]
    },
    {
     "data": {
      "application/vnd.jupyter.widget-view+json": {
       "model_id": "e742b33099e54abe9bd6130ed88935fd",
       "version_major": 2,
       "version_minor": 0
      },
      "text/plain": [
       "HBox(children=(FloatProgress(value=0.0, max=5000.0), HTML(value='')))"
      ]
     },
     "metadata": {},
     "output_type": "display_data"
    },
    {
     "name": "stdout",
     "output_type": "stream",
     "text": [
      "\n",
      "Processing conf file /media/data/sbulusu/datasets/complexworm/Results for CNN/configs-50-2-4.010-1.000-0.970.dat\n",
      "['configs', '50', '2', '4.010', '1.000', '0.970']\n",
      "loaded file name labels ['nt', 'nx', 'eta', 'lambda', 'mu']\n",
      "for label n\n",
      "loading labels file /media/data/sbulusu/datasets/complexworm/Results for CNN/n-50-2-4.010-1.000-0.970.dat\n",
      "for label phi2\n",
      "loading labels file /media/data/sbulusu/datasets/complexworm/Results for CNN/phi2-50-2-4.010-1.000-0.970.dat\n",
      "First read conf file /media/data/sbulusu/datasets/complexworm/Results for CNN/configs-50-2-4.010-1.000-0.970.dat with size :(2000000,)\n",
      "Read conf file /media/data/sbulusu/datasets/complexworm/Results for CNN/configs-50-2-4.010-1.000-0.970.dat with size :torch.Size([5000, 2, 2, 2, 50])\n",
      "Loading 5000 confs\n"
     ]
    },
    {
     "data": {
      "application/vnd.jupyter.widget-view+json": {
       "model_id": "48ebde7fe3a14f488ecc81bfbbe7e50d",
       "version_major": 2,
       "version_minor": 0
      },
      "text/plain": [
       "HBox(children=(FloatProgress(value=0.0, max=5000.0), HTML(value='')))"
      ]
     },
     "metadata": {},
     "output_type": "display_data"
    },
    {
     "name": "stdout",
     "output_type": "stream",
     "text": [
      "\n",
      "Processing conf file /media/data/sbulusu/datasets/complexworm/Results for CNN/configs-50-2-4.010-1.000-1.015.dat\n",
      "['configs', '50', '2', '4.010', '1.000', '1.015']\n",
      "loaded file name labels ['nt', 'nx', 'eta', 'lambda', 'mu']\n",
      "for label n\n",
      "loading labels file /media/data/sbulusu/datasets/complexworm/Results for CNN/n-50-2-4.010-1.000-1.015.dat\n",
      "for label phi2\n",
      "loading labels file /media/data/sbulusu/datasets/complexworm/Results for CNN/phi2-50-2-4.010-1.000-1.015.dat\n",
      "First read conf file /media/data/sbulusu/datasets/complexworm/Results for CNN/configs-50-2-4.010-1.000-1.015.dat with size :(2000000,)\n",
      "Read conf file /media/data/sbulusu/datasets/complexworm/Results for CNN/configs-50-2-4.010-1.000-1.015.dat with size :torch.Size([5000, 2, 2, 2, 50])\n",
      "Loading 5000 confs\n"
     ]
    },
    {
     "data": {
      "application/vnd.jupyter.widget-view+json": {
       "model_id": "bd250ed9b6cc420691aa027179807174",
       "version_major": 2,
       "version_minor": 0
      },
      "text/plain": [
       "HBox(children=(FloatProgress(value=0.0, max=5000.0), HTML(value='')))"
      ]
     },
     "metadata": {},
     "output_type": "display_data"
    },
    {
     "name": "stdout",
     "output_type": "stream",
     "text": [
      "\n",
      "Processing conf file /media/data/sbulusu/datasets/complexworm/Results for CNN/configs-50-2-4.010-1.000-0.950.dat\n",
      "['configs', '50', '2', '4.010', '1.000', '0.950']\n",
      "loaded file name labels ['nt', 'nx', 'eta', 'lambda', 'mu']\n",
      "for label n\n",
      "loading labels file /media/data/sbulusu/datasets/complexworm/Results for CNN/n-50-2-4.010-1.000-0.950.dat\n",
      "for label phi2\n",
      "loading labels file /media/data/sbulusu/datasets/complexworm/Results for CNN/phi2-50-2-4.010-1.000-0.950.dat\n",
      "First read conf file /media/data/sbulusu/datasets/complexworm/Results for CNN/configs-50-2-4.010-1.000-0.950.dat with size :(2000000,)\n",
      "Read conf file /media/data/sbulusu/datasets/complexworm/Results for CNN/configs-50-2-4.010-1.000-0.950.dat with size :torch.Size([5000, 2, 2, 2, 50])\n",
      "Loading 5000 confs\n"
     ]
    },
    {
     "data": {
      "application/vnd.jupyter.widget-view+json": {
       "model_id": "cbb4f33206cd4868b5278d8b43c2f78a",
       "version_major": 2,
       "version_minor": 0
      },
      "text/plain": [
       "HBox(children=(FloatProgress(value=0.0, max=5000.0), HTML(value='')))"
      ]
     },
     "metadata": {},
     "output_type": "display_data"
    },
    {
     "name": "stdout",
     "output_type": "stream",
     "text": [
      "\n",
      "Processing conf file /media/data/sbulusu/datasets/complexworm/Results for CNN/configs-50-2-4.010-1.000-0.925.dat\n",
      "['configs', '50', '2', '4.010', '1.000', '0.925']\n",
      "loaded file name labels ['nt', 'nx', 'eta', 'lambda', 'mu']\n",
      "for label n\n",
      "loading labels file /media/data/sbulusu/datasets/complexworm/Results for CNN/n-50-2-4.010-1.000-0.925.dat\n",
      "for label phi2\n",
      "loading labels file /media/data/sbulusu/datasets/complexworm/Results for CNN/phi2-50-2-4.010-1.000-0.925.dat\n",
      "First read conf file /media/data/sbulusu/datasets/complexworm/Results for CNN/configs-50-2-4.010-1.000-0.925.dat with size :(2000000,)\n",
      "Read conf file /media/data/sbulusu/datasets/complexworm/Results for CNN/configs-50-2-4.010-1.000-0.925.dat with size :torch.Size([5000, 2, 2, 2, 50])\n",
      "Loading 5000 confs\n"
     ]
    },
    {
     "data": {
      "application/vnd.jupyter.widget-view+json": {
       "model_id": "052944f3f9644b6b8d68e5dee75bc62f",
       "version_major": 2,
       "version_minor": 0
      },
      "text/plain": [
       "HBox(children=(FloatProgress(value=0.0, max=5000.0), HTML(value='')))"
      ]
     },
     "metadata": {},
     "output_type": "display_data"
    },
    {
     "name": "stdout",
     "output_type": "stream",
     "text": [
      "\n",
      "Processing conf file /media/data/sbulusu/datasets/complexworm/Results for CNN/configs-50-2-4.010-1.000-0.975.dat\n",
      "['configs', '50', '2', '4.010', '1.000', '0.975']\n",
      "loaded file name labels ['nt', 'nx', 'eta', 'lambda', 'mu']\n",
      "for label n\n",
      "loading labels file /media/data/sbulusu/datasets/complexworm/Results for CNN/n-50-2-4.010-1.000-0.975.dat\n",
      "for label phi2\n",
      "loading labels file /media/data/sbulusu/datasets/complexworm/Results for CNN/phi2-50-2-4.010-1.000-0.975.dat\n",
      "First read conf file /media/data/sbulusu/datasets/complexworm/Results for CNN/configs-50-2-4.010-1.000-0.975.dat with size :(2000000,)\n",
      "Read conf file /media/data/sbulusu/datasets/complexworm/Results for CNN/configs-50-2-4.010-1.000-0.975.dat with size :torch.Size([5000, 2, 2, 2, 50])\n",
      "Loading 5000 confs\n"
     ]
    },
    {
     "data": {
      "application/vnd.jupyter.widget-view+json": {
       "model_id": "d9013c56059c4e698847ba11be7716a0",
       "version_major": 2,
       "version_minor": 0
      },
      "text/plain": [
       "HBox(children=(FloatProgress(value=0.0, max=5000.0), HTML(value='')))"
      ]
     },
     "metadata": {},
     "output_type": "display_data"
    },
    {
     "name": "stdout",
     "output_type": "stream",
     "text": [
      "\n",
      "Processing conf file /media/data/sbulusu/datasets/complexworm/Results for CNN/configs-50-2-4.010-1.000-1.040.dat\n",
      "['configs', '50', '2', '4.010', '1.000', '1.040']\n",
      "loaded file name labels ['nt', 'nx', 'eta', 'lambda', 'mu']\n",
      "for label n\n",
      "loading labels file /media/data/sbulusu/datasets/complexworm/Results for CNN/n-50-2-4.010-1.000-1.040.dat\n",
      "for label phi2\n",
      "loading labels file /media/data/sbulusu/datasets/complexworm/Results for CNN/phi2-50-2-4.010-1.000-1.040.dat\n",
      "First read conf file /media/data/sbulusu/datasets/complexworm/Results for CNN/configs-50-2-4.010-1.000-1.040.dat with size :(2000000,)\n",
      "Read conf file /media/data/sbulusu/datasets/complexworm/Results for CNN/configs-50-2-4.010-1.000-1.040.dat with size :torch.Size([5000, 2, 2, 2, 50])\n",
      "Loading 5000 confs\n"
     ]
    },
    {
     "data": {
      "application/vnd.jupyter.widget-view+json": {
       "model_id": "e6174b78541e49a9ad94e449a295e627",
       "version_major": 2,
       "version_minor": 0
      },
      "text/plain": [
       "HBox(children=(FloatProgress(value=0.0, max=5000.0), HTML(value='')))"
      ]
     },
     "metadata": {},
     "output_type": "display_data"
    },
    {
     "name": "stdout",
     "output_type": "stream",
     "text": [
      "\n",
      "Processing conf file /media/data/sbulusu/datasets/complexworm/Results for CNN/configs-50-2-4.010-1.000-0.965.dat\n",
      "['configs', '50', '2', '4.010', '1.000', '0.965']\n",
      "loaded file name labels ['nt', 'nx', 'eta', 'lambda', 'mu']\n",
      "for label n\n",
      "loading labels file /media/data/sbulusu/datasets/complexworm/Results for CNN/n-50-2-4.010-1.000-0.965.dat\n",
      "for label phi2\n",
      "loading labels file /media/data/sbulusu/datasets/complexworm/Results for CNN/phi2-50-2-4.010-1.000-0.965.dat\n",
      "First read conf file /media/data/sbulusu/datasets/complexworm/Results for CNN/configs-50-2-4.010-1.000-0.965.dat with size :(2000000,)\n",
      "Read conf file /media/data/sbulusu/datasets/complexworm/Results for CNN/configs-50-2-4.010-1.000-0.965.dat with size :torch.Size([5000, 2, 2, 2, 50])\n",
      "Loading 5000 confs\n"
     ]
    },
    {
     "data": {
      "application/vnd.jupyter.widget-view+json": {
       "model_id": "1fb8efb4d95a477ca644bc8d529f5ca0",
       "version_major": 2,
       "version_minor": 0
      },
      "text/plain": [
       "HBox(children=(FloatProgress(value=0.0, max=5000.0), HTML(value='')))"
      ]
     },
     "metadata": {},
     "output_type": "display_data"
    },
    {
     "name": "stdout",
     "output_type": "stream",
     "text": [
      "\n",
      "Processing conf file /media/data/sbulusu/datasets/complexworm/Results for CNN/configs-50-2-4.010-1.000-1.035.dat\n",
      "['configs', '50', '2', '4.010', '1.000', '1.035']\n",
      "loaded file name labels ['nt', 'nx', 'eta', 'lambda', 'mu']\n",
      "for label n\n",
      "loading labels file /media/data/sbulusu/datasets/complexworm/Results for CNN/n-50-2-4.010-1.000-1.035.dat\n",
      "for label phi2\n",
      "loading labels file /media/data/sbulusu/datasets/complexworm/Results for CNN/phi2-50-2-4.010-1.000-1.035.dat\n",
      "First read conf file /media/data/sbulusu/datasets/complexworm/Results for CNN/configs-50-2-4.010-1.000-1.035.dat with size :(2000000,)\n",
      "Read conf file /media/data/sbulusu/datasets/complexworm/Results for CNN/configs-50-2-4.010-1.000-1.035.dat with size :torch.Size([5000, 2, 2, 2, 50])\n",
      "Loading 5000 confs\n"
     ]
    },
    {
     "data": {
      "application/vnd.jupyter.widget-view+json": {
       "model_id": "fc9d2032650d437a857d0bbd6a182b2c",
       "version_major": 2,
       "version_minor": 0
      },
      "text/plain": [
       "HBox(children=(FloatProgress(value=0.0, max=5000.0), HTML(value='')))"
      ]
     },
     "metadata": {},
     "output_type": "display_data"
    },
    {
     "name": "stdout",
     "output_type": "stream",
     "text": [
      "\n",
      "Processing conf file /media/data/sbulusu/datasets/complexworm/Results for CNN/configs-50-2-4.010-1.000-0.980.dat\n",
      "['configs', '50', '2', '4.010', '1.000', '0.980']\n",
      "loaded file name labels ['nt', 'nx', 'eta', 'lambda', 'mu']\n",
      "for label n\n",
      "loading labels file /media/data/sbulusu/datasets/complexworm/Results for CNN/n-50-2-4.010-1.000-0.980.dat\n",
      "for label phi2\n",
      "loading labels file /media/data/sbulusu/datasets/complexworm/Results for CNN/phi2-50-2-4.010-1.000-0.980.dat\n",
      "First read conf file /media/data/sbulusu/datasets/complexworm/Results for CNN/configs-50-2-4.010-1.000-0.980.dat with size :(2000000,)\n",
      "Read conf file /media/data/sbulusu/datasets/complexworm/Results for CNN/configs-50-2-4.010-1.000-0.980.dat with size :torch.Size([5000, 2, 2, 2, 50])\n",
      "Loading 5000 confs\n"
     ]
    },
    {
     "data": {
      "application/vnd.jupyter.widget-view+json": {
       "model_id": "75e3f478747d4e408936495fe4cdca92",
       "version_major": 2,
       "version_minor": 0
      },
      "text/plain": [
       "HBox(children=(FloatProgress(value=0.0, max=5000.0), HTML(value='')))"
      ]
     },
     "metadata": {},
     "output_type": "display_data"
    },
    {
     "name": "stdout",
     "output_type": "stream",
     "text": [
      "\n",
      "Processing conf file /media/data/sbulusu/datasets/complexworm/Results for CNN/configs-50-2-4.010-1.000-1.045.dat\n",
      "['configs', '50', '2', '4.010', '1.000', '1.045']\n",
      "loaded file name labels ['nt', 'nx', 'eta', 'lambda', 'mu']\n",
      "for label n\n",
      "loading labels file /media/data/sbulusu/datasets/complexworm/Results for CNN/n-50-2-4.010-1.000-1.045.dat\n",
      "for label phi2\n",
      "loading labels file /media/data/sbulusu/datasets/complexworm/Results for CNN/phi2-50-2-4.010-1.000-1.045.dat\n",
      "First read conf file /media/data/sbulusu/datasets/complexworm/Results for CNN/configs-50-2-4.010-1.000-1.045.dat with size :(2000000,)\n",
      "Read conf file /media/data/sbulusu/datasets/complexworm/Results for CNN/configs-50-2-4.010-1.000-1.045.dat with size :torch.Size([5000, 2, 2, 2, 50])\n",
      "Loading 5000 confs\n"
     ]
    },
    {
     "data": {
      "application/vnd.jupyter.widget-view+json": {
       "model_id": "81e14e6e67a24d9d8b5c1c522c08ec83",
       "version_major": 2,
       "version_minor": 0
      },
      "text/plain": [
       "HBox(children=(FloatProgress(value=0.0, max=5000.0), HTML(value='')))"
      ]
     },
     "metadata": {},
     "output_type": "display_data"
    },
    {
     "name": "stdout",
     "output_type": "stream",
     "text": [
      "\n",
      "Processing conf file /media/data/sbulusu/datasets/complexworm/Results for CNN/configs-50-2-4.010-1.000-0.940.dat\n",
      "['configs', '50', '2', '4.010', '1.000', '0.940']\n",
      "loaded file name labels ['nt', 'nx', 'eta', 'lambda', 'mu']\n",
      "for label n\n",
      "loading labels file /media/data/sbulusu/datasets/complexworm/Results for CNN/n-50-2-4.010-1.000-0.940.dat\n",
      "for label phi2\n",
      "loading labels file /media/data/sbulusu/datasets/complexworm/Results for CNN/phi2-50-2-4.010-1.000-0.940.dat\n",
      "First read conf file /media/data/sbulusu/datasets/complexworm/Results for CNN/configs-50-2-4.010-1.000-0.940.dat with size :(2000000,)\n",
      "Read conf file /media/data/sbulusu/datasets/complexworm/Results for CNN/configs-50-2-4.010-1.000-0.940.dat with size :torch.Size([5000, 2, 2, 2, 50])\n",
      "Loading 5000 confs\n"
     ]
    },
    {
     "data": {
      "application/vnd.jupyter.widget-view+json": {
       "model_id": "34fd7d754241416bb8a632a128c9952c",
       "version_major": 2,
       "version_minor": 0
      },
      "text/plain": [
       "HBox(children=(FloatProgress(value=0.0, max=5000.0), HTML(value='')))"
      ]
     },
     "metadata": {},
     "output_type": "display_data"
    },
    {
     "name": "stdout",
     "output_type": "stream",
     "text": [
      "\n",
      "Processing conf file /media/data/sbulusu/datasets/complexworm/Results for CNN/configs-50-2-4.010-1.000-0.915.dat\n",
      "['configs', '50', '2', '4.010', '1.000', '0.915']\n",
      "loaded file name labels ['nt', 'nx', 'eta', 'lambda', 'mu']\n",
      "for label n\n",
      "loading labels file /media/data/sbulusu/datasets/complexworm/Results for CNN/n-50-2-4.010-1.000-0.915.dat\n",
      "for label phi2\n",
      "loading labels file /media/data/sbulusu/datasets/complexworm/Results for CNN/phi2-50-2-4.010-1.000-0.915.dat\n",
      "First read conf file /media/data/sbulusu/datasets/complexworm/Results for CNN/configs-50-2-4.010-1.000-0.915.dat with size :(2000000,)\n",
      "Read conf file /media/data/sbulusu/datasets/complexworm/Results for CNN/configs-50-2-4.010-1.000-0.915.dat with size :torch.Size([5000, 2, 2, 2, 50])\n",
      "Loading 5000 confs\n"
     ]
    },
    {
     "data": {
      "application/vnd.jupyter.widget-view+json": {
       "model_id": "319aebd84c9a43baaa4381516747a3cf",
       "version_major": 2,
       "version_minor": 0
      },
      "text/plain": [
       "HBox(children=(FloatProgress(value=0.0, max=5000.0), HTML(value='')))"
      ]
     },
     "metadata": {},
     "output_type": "display_data"
    },
    {
     "name": "stdout",
     "output_type": "stream",
     "text": [
      "\n",
      "Processing conf file /media/data/sbulusu/datasets/complexworm/Results for CNN/configs-50-2-4.010-1.000-1.025.dat\n",
      "['configs', '50', '2', '4.010', '1.000', '1.025']\n",
      "loaded file name labels ['nt', 'nx', 'eta', 'lambda', 'mu']\n",
      "for label n\n",
      "loading labels file /media/data/sbulusu/datasets/complexworm/Results for CNN/n-50-2-4.010-1.000-1.025.dat\n",
      "for label phi2\n",
      "loading labels file /media/data/sbulusu/datasets/complexworm/Results for CNN/phi2-50-2-4.010-1.000-1.025.dat\n",
      "First read conf file /media/data/sbulusu/datasets/complexworm/Results for CNN/configs-50-2-4.010-1.000-1.025.dat with size :(2000000,)\n",
      "Read conf file /media/data/sbulusu/datasets/complexworm/Results for CNN/configs-50-2-4.010-1.000-1.025.dat with size :torch.Size([5000, 2, 2, 2, 50])\n",
      "Loading 5000 confs\n"
     ]
    },
    {
     "data": {
      "application/vnd.jupyter.widget-view+json": {
       "model_id": "43961779a7ed406394ad13d081bdb697",
       "version_major": 2,
       "version_minor": 0
      },
      "text/plain": [
       "HBox(children=(FloatProgress(value=0.0, max=5000.0), HTML(value='')))"
      ]
     },
     "metadata": {},
     "output_type": "display_data"
    },
    {
     "name": "stdout",
     "output_type": "stream",
     "text": [
      "\n",
      "Processing conf file /media/data/sbulusu/datasets/complexworm/Results for CNN/configs-50-2-4.010-1.000-0.985.dat\n",
      "['configs', '50', '2', '4.010', '1.000', '0.985']\n",
      "loaded file name labels ['nt', 'nx', 'eta', 'lambda', 'mu']\n",
      "for label n\n",
      "loading labels file /media/data/sbulusu/datasets/complexworm/Results for CNN/n-50-2-4.010-1.000-0.985.dat\n",
      "for label phi2\n",
      "loading labels file /media/data/sbulusu/datasets/complexworm/Results for CNN/phi2-50-2-4.010-1.000-0.985.dat\n",
      "First read conf file /media/data/sbulusu/datasets/complexworm/Results for CNN/configs-50-2-4.010-1.000-0.985.dat with size :(2000000,)\n",
      "Read conf file /media/data/sbulusu/datasets/complexworm/Results for CNN/configs-50-2-4.010-1.000-0.985.dat with size :torch.Size([5000, 2, 2, 2, 50])\n",
      "Loading 5000 confs\n"
     ]
    },
    {
     "data": {
      "application/vnd.jupyter.widget-view+json": {
       "model_id": "994e1d03acd4453cbf144976ec3380d3",
       "version_major": 2,
       "version_minor": 0
      },
      "text/plain": [
       "HBox(children=(FloatProgress(value=0.0, max=5000.0), HTML(value='')))"
      ]
     },
     "metadata": {},
     "output_type": "display_data"
    },
    {
     "name": "stdout",
     "output_type": "stream",
     "text": [
      "\n",
      "Processing conf file /media/data/sbulusu/datasets/complexworm/Results for CNN/configs-50-2-4.010-1.000-0.945.dat\n",
      "['configs', '50', '2', '4.010', '1.000', '0.945']\n",
      "loaded file name labels ['nt', 'nx', 'eta', 'lambda', 'mu']\n",
      "for label n\n",
      "loading labels file /media/data/sbulusu/datasets/complexworm/Results for CNN/n-50-2-4.010-1.000-0.945.dat\n",
      "for label phi2\n",
      "loading labels file /media/data/sbulusu/datasets/complexworm/Results for CNN/phi2-50-2-4.010-1.000-0.945.dat\n",
      "First read conf file /media/data/sbulusu/datasets/complexworm/Results for CNN/configs-50-2-4.010-1.000-0.945.dat with size :(2000000,)\n",
      "Read conf file /media/data/sbulusu/datasets/complexworm/Results for CNN/configs-50-2-4.010-1.000-0.945.dat with size :torch.Size([5000, 2, 2, 2, 50])\n",
      "Loading 5000 confs\n"
     ]
    },
    {
     "data": {
      "application/vnd.jupyter.widget-view+json": {
       "model_id": "71c376b82de94fd38822e40264976f7f",
       "version_major": 2,
       "version_minor": 0
      },
      "text/plain": [
       "HBox(children=(FloatProgress(value=0.0, max=5000.0), HTML(value='')))"
      ]
     },
     "metadata": {},
     "output_type": "display_data"
    },
    {
     "name": "stdout",
     "output_type": "stream",
     "text": [
      "\n",
      "Processing conf file /media/data/sbulusu/datasets/complexworm/Results for CNN/configs-50-2-4.010-1.000-0.960.dat\n",
      "['configs', '50', '2', '4.010', '1.000', '0.960']\n",
      "loaded file name labels ['nt', 'nx', 'eta', 'lambda', 'mu']\n",
      "for label n\n",
      "loading labels file /media/data/sbulusu/datasets/complexworm/Results for CNN/n-50-2-4.010-1.000-0.960.dat\n",
      "for label phi2\n",
      "loading labels file /media/data/sbulusu/datasets/complexworm/Results for CNN/phi2-50-2-4.010-1.000-0.960.dat\n",
      "First read conf file /media/data/sbulusu/datasets/complexworm/Results for CNN/configs-50-2-4.010-1.000-0.960.dat with size :(2000000,)\n",
      "Read conf file /media/data/sbulusu/datasets/complexworm/Results for CNN/configs-50-2-4.010-1.000-0.960.dat with size :torch.Size([5000, 2, 2, 2, 50])\n",
      "Loading 5000 confs\n"
     ]
    },
    {
     "data": {
      "application/vnd.jupyter.widget-view+json": {
       "model_id": "3970371ace31426a97f73c8eace0b030",
       "version_major": 2,
       "version_minor": 0
      },
      "text/plain": [
       "HBox(children=(FloatProgress(value=0.0, max=5000.0), HTML(value='')))"
      ]
     },
     "metadata": {},
     "output_type": "display_data"
    },
    {
     "name": "stdout",
     "output_type": "stream",
     "text": [
      "\n",
      "Processing conf file /media/data/sbulusu/datasets/complexworm/Results for CNN/configs-50-2-4.010-1.000-1.020.dat\n",
      "['configs', '50', '2', '4.010', '1.000', '1.020']\n",
      "loaded file name labels ['nt', 'nx', 'eta', 'lambda', 'mu']\n",
      "for label n\n",
      "loading labels file /media/data/sbulusu/datasets/complexworm/Results for CNN/n-50-2-4.010-1.000-1.020.dat\n",
      "for label phi2\n",
      "loading labels file /media/data/sbulusu/datasets/complexworm/Results for CNN/phi2-50-2-4.010-1.000-1.020.dat\n",
      "First read conf file /media/data/sbulusu/datasets/complexworm/Results for CNN/configs-50-2-4.010-1.000-1.020.dat with size :(2000000,)\n",
      "Read conf file /media/data/sbulusu/datasets/complexworm/Results for CNN/configs-50-2-4.010-1.000-1.020.dat with size :torch.Size([5000, 2, 2, 2, 50])\n",
      "Loading 5000 confs\n"
     ]
    },
    {
     "data": {
      "application/vnd.jupyter.widget-view+json": {
       "model_id": "c42d9e4fc7bf42d6945fca67c2efa63e",
       "version_major": 2,
       "version_minor": 0
      },
      "text/plain": [
       "HBox(children=(FloatProgress(value=0.0, max=5000.0), HTML(value='')))"
      ]
     },
     "metadata": {},
     "output_type": "display_data"
    },
    {
     "name": "stdout",
     "output_type": "stream",
     "text": [
      "\n",
      "Processing conf file /media/data/sbulusu/datasets/complexworm/Results for CNN/configs-50-2-4.010-1.000-0.920.dat\n",
      "['configs', '50', '2', '4.010', '1.000', '0.920']\n",
      "loaded file name labels ['nt', 'nx', 'eta', 'lambda', 'mu']\n",
      "for label n\n",
      "loading labels file /media/data/sbulusu/datasets/complexworm/Results for CNN/n-50-2-4.010-1.000-0.920.dat\n",
      "for label phi2\n",
      "loading labels file /media/data/sbulusu/datasets/complexworm/Results for CNN/phi2-50-2-4.010-1.000-0.920.dat\n",
      "First read conf file /media/data/sbulusu/datasets/complexworm/Results for CNN/configs-50-2-4.010-1.000-0.920.dat with size :(2000000,)\n",
      "Read conf file /media/data/sbulusu/datasets/complexworm/Results for CNN/configs-50-2-4.010-1.000-0.920.dat with size :torch.Size([5000, 2, 2, 2, 50])\n",
      "Loading 5000 confs\n"
     ]
    },
    {
     "data": {
      "application/vnd.jupyter.widget-view+json": {
       "model_id": "4dffd680140844e098c26bfb862a1bf5",
       "version_major": 2,
       "version_minor": 0
      },
      "text/plain": [
       "HBox(children=(FloatProgress(value=0.0, max=5000.0), HTML(value='')))"
      ]
     },
     "metadata": {},
     "output_type": "display_data"
    },
    {
     "name": "stdout",
     "output_type": "stream",
     "text": [
      "\n",
      "Processing conf file /media/data/sbulusu/datasets/complexworm/Results for CNN/configs-50-2-4.010-1.000-1.010.dat\n",
      "['configs', '50', '2', '4.010', '1.000', '1.010']\n",
      "loaded file name labels ['nt', 'nx', 'eta', 'lambda', 'mu']\n",
      "for label n\n",
      "loading labels file /media/data/sbulusu/datasets/complexworm/Results for CNN/n-50-2-4.010-1.000-1.010.dat\n",
      "for label phi2\n",
      "loading labels file /media/data/sbulusu/datasets/complexworm/Results for CNN/phi2-50-2-4.010-1.000-1.010.dat\n",
      "First read conf file /media/data/sbulusu/datasets/complexworm/Results for CNN/configs-50-2-4.010-1.000-1.010.dat with size :(2000000,)\n",
      "Read conf file /media/data/sbulusu/datasets/complexworm/Results for CNN/configs-50-2-4.010-1.000-1.010.dat with size :torch.Size([5000, 2, 2, 2, 50])\n",
      "Loading 5000 confs\n"
     ]
    },
    {
     "data": {
      "application/vnd.jupyter.widget-view+json": {
       "model_id": "16dff98ece2049bda3be259d47a689c9",
       "version_major": 2,
       "version_minor": 0
      },
      "text/plain": [
       "HBox(children=(FloatProgress(value=0.0, max=5000.0), HTML(value='')))"
      ]
     },
     "metadata": {},
     "output_type": "display_data"
    },
    {
     "name": "stdout",
     "output_type": "stream",
     "text": [
      "\n",
      "Processing conf file /media/data/sbulusu/datasets/complexworm/Results for CNN/configs-50-2-4.010-1.000-0.935.dat\n",
      "['configs', '50', '2', '4.010', '1.000', '0.935']\n",
      "loaded file name labels ['nt', 'nx', 'eta', 'lambda', 'mu']\n",
      "for label n\n",
      "loading labels file /media/data/sbulusu/datasets/complexworm/Results for CNN/n-50-2-4.010-1.000-0.935.dat\n",
      "for label phi2\n",
      "loading labels file /media/data/sbulusu/datasets/complexworm/Results for CNN/phi2-50-2-4.010-1.000-0.935.dat\n",
      "First read conf file /media/data/sbulusu/datasets/complexworm/Results for CNN/configs-50-2-4.010-1.000-0.935.dat with size :(2000000,)\n",
      "Read conf file /media/data/sbulusu/datasets/complexworm/Results for CNN/configs-50-2-4.010-1.000-0.935.dat with size :torch.Size([5000, 2, 2, 2, 50])\n",
      "Loading 5000 confs\n"
     ]
    },
    {
     "data": {
      "application/vnd.jupyter.widget-view+json": {
       "model_id": "7911176be60b479c9e6d29911f4f1e43",
       "version_major": 2,
       "version_minor": 0
      },
      "text/plain": [
       "HBox(children=(FloatProgress(value=0.0, max=5000.0), HTML(value='')))"
      ]
     },
     "metadata": {},
     "output_type": "display_data"
    },
    {
     "name": "stdout",
     "output_type": "stream",
     "text": [
      "\n",
      "Processing conf file /media/data/sbulusu/datasets/complexworm/Results for CNN/configs-50-2-4.010-1.000-0.955.dat\n",
      "['configs', '50', '2', '4.010', '1.000', '0.955']\n",
      "loaded file name labels ['nt', 'nx', 'eta', 'lambda', 'mu']\n",
      "for label n\n",
      "loading labels file /media/data/sbulusu/datasets/complexworm/Results for CNN/n-50-2-4.010-1.000-0.955.dat\n",
      "for label phi2\n",
      "loading labels file /media/data/sbulusu/datasets/complexworm/Results for CNN/phi2-50-2-4.010-1.000-0.955.dat\n",
      "First read conf file /media/data/sbulusu/datasets/complexworm/Results for CNN/configs-50-2-4.010-1.000-0.955.dat with size :(2000000,)\n",
      "Read conf file /media/data/sbulusu/datasets/complexworm/Results for CNN/configs-50-2-4.010-1.000-0.955.dat with size :torch.Size([5000, 2, 2, 2, 50])\n",
      "Loading 5000 confs\n"
     ]
    },
    {
     "data": {
      "application/vnd.jupyter.widget-view+json": {
       "model_id": "24518e4922f540f49c46f32f1298290a",
       "version_major": 2,
       "version_minor": 0
      },
      "text/plain": [
       "HBox(children=(FloatProgress(value=0.0, max=5000.0), HTML(value='')))"
      ]
     },
     "metadata": {},
     "output_type": "display_data"
    },
    {
     "name": "stdout",
     "output_type": "stream",
     "text": [
      "\n",
      "Processing conf file /media/data/sbulusu/datasets/complexworm/Results for CNN/configs-50-2-4.010-1.000-1.000.dat\n",
      "['configs', '50', '2', '4.010', '1.000', '1.000']\n",
      "loaded file name labels ['nt', 'nx', 'eta', 'lambda', 'mu']\n",
      "for label n\n",
      "loading labels file /media/data/sbulusu/datasets/complexworm/Results for CNN/n-50-2-4.010-1.000-1.000.dat\n",
      "for label phi2\n",
      "loading labels file /media/data/sbulusu/datasets/complexworm/Results for CNN/phi2-50-2-4.010-1.000-1.000.dat\n",
      "First read conf file /media/data/sbulusu/datasets/complexworm/Results for CNN/configs-50-2-4.010-1.000-1.000.dat with size :(2000000,)\n",
      "Read conf file /media/data/sbulusu/datasets/complexworm/Results for CNN/configs-50-2-4.010-1.000-1.000.dat with size :torch.Size([5000, 2, 2, 2, 50])\n",
      "Loading 5000 confs\n"
     ]
    },
    {
     "data": {
      "application/vnd.jupyter.widget-view+json": {
       "model_id": "0b17548a9f6149f3acf97bca5332b3bf",
       "version_major": 2,
       "version_minor": 0
      },
      "text/plain": [
       "HBox(children=(FloatProgress(value=0.0, max=5000.0), HTML(value='')))"
      ]
     },
     "metadata": {},
     "output_type": "display_data"
    },
    {
     "name": "stdout",
     "output_type": "stream",
     "text": [
      "\n",
      "Processing conf file /media/data/sbulusu/datasets/complexworm/Results for CNN/configs-50-2-4.010-1.000-0.910.dat\n",
      "['configs', '50', '2', '4.010', '1.000', '0.910']\n",
      "loaded file name labels ['nt', 'nx', 'eta', 'lambda', 'mu']\n",
      "for label n\n",
      "loading labels file /media/data/sbulusu/datasets/complexworm/Results for CNN/n-50-2-4.010-1.000-0.910.dat\n",
      "for label phi2\n",
      "loading labels file /media/data/sbulusu/datasets/complexworm/Results for CNN/phi2-50-2-4.010-1.000-0.910.dat\n",
      "First read conf file /media/data/sbulusu/datasets/complexworm/Results for CNN/configs-50-2-4.010-1.000-0.910.dat with size :(2000000,)\n",
      "Read conf file /media/data/sbulusu/datasets/complexworm/Results for CNN/configs-50-2-4.010-1.000-0.910.dat with size :torch.Size([5000, 2, 2, 2, 50])\n",
      "Loading 5000 confs\n"
     ]
    },
    {
     "data": {
      "application/vnd.jupyter.widget-view+json": {
       "model_id": "c2e0120ca129426a9aee46b9ddb0957b",
       "version_major": 2,
       "version_minor": 0
      },
      "text/plain": [
       "HBox(children=(FloatProgress(value=0.0, max=5000.0), HTML(value='')))"
      ]
     },
     "metadata": {},
     "output_type": "display_data"
    },
    {
     "name": "stdout",
     "output_type": "stream",
     "text": [
      "\n",
      "\n",
      "last example loaded:\n",
      "{'conf': tensor([[[[ 0,  0,  0,  0,  0,  1,  0,  0,  0,  0,  0,  0,  0,  0,  0,  0,  0,\n",
      "            0,  0,  0,  0,  0,  0,  0,  0,  0,  0,  0,  0,  0,  0,  0,  0,  0,\n",
      "            0,  0,  0,  0,  0,  0,  0,  0,  0,  0,  0,  0,  0,  0,  0,  0],\n",
      "          [ 0,  0,  0,  0,  0, -1,  0,  0,  0,  0,  0,  0,  0,  0,  0,  0,  0,\n",
      "            0,  0,  0,  0,  0,  0,  0,  0,  0,  0,  0,  0,  0,  0,  0,  0,  0,\n",
      "            0,  0,  0,  0,  0,  0,  0,  0,  0,  0,  0,  0,  0,  0,  0,  0]],\n",
      "\n",
      "         [[ 0,  0,  0,  0,  0,  0,  2,  0,  0,  0,  0,  0,  0,  0,  0,  0,  0,\n",
      "            0,  0,  0,  0,  0,  0,  1,  0,  0, -1,  0,  0,  0,  0,  0,  0,  0,\n",
      "            0,  0,  0,  0,  0,  0,  0,  0,  0,  0,  0,  0,  0,  0,  0,  1],\n",
      "          [ 0,  0,  0,  0,  0,  1,  1,  0,  0,  0,  0,  0,  0,  0,  0,  0,  0,\n",
      "            0,  0,  0,  0,  0,  0,  1,  0,  0, -1,  0,  0,  0,  0,  0,  0,  0,\n",
      "            0,  0,  0,  0,  0,  0,  0,  0,  0,  0,  0,  0,  0,  0,  0,  1]]],\n",
      "\n",
      "\n",
      "        [[[ 0,  0,  0,  0,  0,  0,  0,  0,  0,  0,  0,  0,  0,  0,  0,  0,  0,\n",
      "            0,  0,  0,  1,  0,  0,  1,  0,  0,  0,  0,  0,  0,  0,  0,  0,  0,\n",
      "            0,  0,  0,  0,  0,  0,  0,  0,  0,  0,  0,  0,  0,  0,  0,  1],\n",
      "          [ 0,  0,  0,  1,  0,  1,  1,  0,  0,  0,  0,  0,  0,  0,  0,  0,  0,\n",
      "            0,  0,  0,  0,  0,  0,  0,  0,  0,  0,  0,  0,  0,  0,  0,  0,  0,\n",
      "            0,  0,  0,  0,  0,  0,  1,  0,  0,  0,  0,  0,  0,  0,  0,  0]],\n",
      "\n",
      "         [[ 0,  0,  0,  0,  0,  0,  0,  0,  0,  0,  0,  0,  0,  0,  0,  0,  0,\n",
      "            0,  0,  0,  0,  0,  0,  0,  0,  0,  0,  0,  0,  0,  0,  0,  0,  0,\n",
      "            0,  0,  0,  0,  0,  0,  0,  0,  0,  0,  0,  0,  0,  0,  0,  0],\n",
      "          [ 0,  0,  0,  0,  0,  2,  1,  0,  0,  0,  0,  0,  0,  0,  1,  1,  0,\n",
      "            1,  0,  0,  0,  0,  0,  0,  0,  0,  0,  0,  0,  0,  0,  0,  0,  0,\n",
      "            0,  0,  1,  2,  0,  0,  0,  0,  0,  0,  0,  0,  0,  1,  0,  0]]]]), 'mu': 0.91, 'open': False, 'nt': 50.0, 'nx': 2.0, 'eta': 4.01, 'lambda': 1.0, 'phase': tensor(0.), 'n': 0.0, 'phi2': 0.28819607495, 'id': 144999}\n"
     ]
    }
   ],
   "source": [
    "#conf_file_dir = \"/media/data/sbulusu/datasets/complexworm/Results for CNN/configs-100-5-4.010-1.000-1.050.dat\"\n",
    "conf_file_dir = \"/media/data/sbulusu/datasets/complexworm/Results for CNN/\"\n",
    "\n",
    "#file_format_list = [\"configs-100-5*.dat\"]\n",
    "#file_format_list = [\"configs-100-5*50.dat\"]\n",
    "file_format_list = [\"configs-50-2*.dat\"]\n",
    "#file_format_list = [\"configs-100-5-4.010-1.000-1.050.dat\"]\n",
    "\n",
    "label_names = [\"n\", \"phi2\"]\n",
    "labels_in_file_name = [\"nt\", \"nx\", \"eta\", \"lambda\", \"mu\"]\n",
    "\n",
    "dataset = open_worm_lat_dataset_load_new_lightning_dat.kl_dataset(conf_file_dir, file_format_list,\n",
    "                                                                  label_names, labels_in_file_name,\n",
    "                                                                  transform=None, device=device)"
   ]
  },
  {
   "cell_type": "code",
   "execution_count": 5,
   "metadata": {},
   "outputs": [
    {
     "data": {
      "text/plain": [
       "'\\nconf_file_dir = \"/media/data/sbulusu/datasets/complexworm/Results for CNN/\"\\n#conf_file_dir = \"/media/data/sbulusu/datasets/complexworm/Results for CNN/configs-100-5-4.010-1.000-1.050.dat\"\\n#file_format_list = [\"configs-100-5*.dat\"]\\nfile_format_list = [\"configs-100-5*50.dat\"]\\nlat_size = [5,100]\\ndim = len(lat_size)\\nconf_size = np.concatenate(([2],[dim],lat_size))\\ndataset_output_size = np.concatenate(([np.prod(conf_size[0:2])],conf_size[2:]))\\n\\nlabel_names = [\"n\", \"phi2\"]\\nlabels_in_file_name = [\"mu\", \"phase\"]\\n\\ndataset = lat_dataset_load_new_lightning.kl_dataset(conf_file_dir, file_format_list, conf_size, dataset_output_size, label_names, labels_in_file_name, transform=None, device=device)\\n'"
      ]
     },
     "execution_count": 5,
     "metadata": {},
     "output_type": "execute_result"
    }
   ],
   "source": [
    "\"\"\"\n",
    "conf_file_dir = \"/media/data/sbulusu/datasets/complexworm/Results for CNN/\"\n",
    "#conf_file_dir = \"/media/data/sbulusu/datasets/complexworm/Results for CNN/configs-100-5-4.010-1.000-1.050.dat\"\n",
    "#file_format_list = [\"configs-100-5*.dat\"]\n",
    "file_format_list = [\"configs-100-5*50.dat\"]\n",
    "lat_size = [5,100]\n",
    "dim = len(lat_size)\n",
    "conf_size = np.concatenate(([2],[dim],lat_size))\n",
    "dataset_output_size = np.concatenate(([np.prod(conf_size[0:2])],conf_size[2:]))\n",
    "\n",
    "label_names = [\"n\", \"phi2\"]\n",
    "labels_in_file_name = [\"mu\", \"phase\"]\n",
    "\n",
    "dataset = lat_dataset_load_new_lightning.kl_dataset(conf_file_dir, file_format_list, conf_size, dataset_output_size, label_names, labels_in_file_name, transform=None, device=device)\n",
    "\"\"\""
   ]
  },
  {
   "cell_type": "code",
   "execution_count": 6,
   "metadata": {},
   "outputs": [
    {
     "name": "stdout",
     "output_type": "stream",
     "text": [
      "[2, 2, 2, 50]\n"
     ]
    }
   ],
   "source": [
    "conf_size = list(dataset.data[0][\"conf\"].size())\n",
    "lat_size = conf_size[-2:]\n",
    "print(conf_size)"
   ]
  },
  {
   "cell_type": "code",
   "execution_count": 7,
   "metadata": {},
   "outputs": [
    {
     "name": "stdout",
     "output_type": "stream",
     "text": [
      "torch.Size([2, 2, 2, 50])\n"
     ]
    }
   ],
   "source": [
    "example = dataset.data[0]\n",
    "\n",
    "example_conf = example[\"conf\"]\n",
    "example_phi2 = example[\"phi2\"]\n",
    "\n",
    "print(example_conf.shape)"
   ]
  },
  {
   "cell_type": "code",
   "execution_count": 8,
   "metadata": {},
   "outputs": [
    {
     "name": "stdout",
     "output_type": "stream",
     "text": [
      "0.26947347224\n"
     ]
    }
   ],
   "source": [
    "print(example_phi2)"
   ]
  },
  {
   "cell_type": "code",
   "execution_count": 9,
   "metadata": {},
   "outputs": [
    {
     "data": {
      "text/plain": [
       "<matplotlib.image.AxesImage at 0x7fb4ae3b9790>"
      ]
     },
     "execution_count": 9,
     "metadata": {},
     "output_type": "execute_result"
    },
    {
     "data": {
      "image/png": "[encoded data removed]",
      "text/plain": [
       "<Figure size 432x288 with 1 Axes>"
      ]
     },
     "metadata": {
      "needs_background": "light"
     },
     "output_type": "display_data"
    }
   ],
   "source": [
    "example_k_links = example_conf[0]\n",
    "plt.imshow(example_k_links[0])"
   ]
  },
  {
   "cell_type": "code",
   "execution_count": 10,
   "metadata": {},
   "outputs": [
    {
     "data": {
      "text/plain": [
       "<matplotlib.image.AxesImage at 0x7fb4adc69790>"
      ]
     },
     "execution_count": 10,
     "metadata": {},
     "output_type": "execute_result"
    },
    {
     "data": {
      "image/png": "[encoded data removed]",
      "text/plain": [
       "<Figure size 432x288 with 1 Axes>"
      ]
     },
     "metadata": {
      "needs_background": "light"
     },
     "output_type": "display_data"
    }
   ],
   "source": [
    "plt.imshow(example_k_links[1])"
   ]
  },
  {
   "cell_type": "code",
   "execution_count": 11,
   "metadata": {},
   "outputs": [
    {
     "data": {
      "text/plain": [
       "<matplotlib.image.AxesImage at 0x7fb4adc4d2d0>"
      ]
     },
     "execution_count": 11,
     "metadata": {},
     "output_type": "execute_result"
    },
    {
     "data": {
      "image/png": "[encoded data removed]",
      "text/plain": [
       "<Figure size 432x288 with 1 Axes>"
      ]
     },
     "metadata": {
      "needs_background": "light"
     },
     "output_type": "display_data"
    }
   ],
   "source": [
    "example_l_links = example_conf[1]\n",
    "plt.imshow(example_l_links[1])"
   ]
  },
  {
   "cell_type": "code",
   "execution_count": 12,
   "metadata": {},
   "outputs": [
    {
     "data": {
      "text/plain": [
       "<matplotlib.image.AxesImage at 0x7fb4adba6b10>"
      ]
     },
     "execution_count": 12,
     "metadata": {},
     "output_type": "execute_result"
    },
    {
     "data": {
      "image/png": "[encoded data removed]",
      "text/plain": [
       "<Figure size 432x288 with 1 Axes>"
      ]
     },
     "metadata": {
      "needs_background": "light"
     },
     "output_type": "display_data"
    }
   ],
   "source": [
    "plt.imshow(example_l_links[1])"
   ]
  },
  {
   "cell_type": "code",
   "execution_count": 13,
   "metadata": {},
   "outputs": [
    {
     "data": {
      "text/plain": [
       "torch.Size([2, 2, 2, 50])"
      ]
     },
     "execution_count": 13,
     "metadata": {},
     "output_type": "execute_result"
    }
   ],
   "source": [
    "dataset.data[0][\"conf\"].size()"
   ]
  },
  {
   "cell_type": "code",
   "execution_count": 14,
   "metadata": {},
   "outputs": [],
   "source": [
    "\"\"\"plot phase transition\"\"\"\n",
    "\n",
    "ns = torch.zeros(len(dataset.data))\n",
    "phi2s = torch.zeros(len(dataset.data))\n",
    "mus = torch.zeros(len(dataset.data))\n",
    "\n",
    "\"plot observables against mu\"\n",
    "for i in range(len(dataset.data)):\n",
    "    \n",
    "    #conf = dataset.data[i][\"conf\"]\n",
    "    #k_links = conf[0]\n",
    "    #l_links = conf[1]\n",
    "    \n",
    "    phi2 = dataset.data[i][\"phi2\"]\n",
    "    n = dataset.data[i][\"n\"]\n",
    "    \n",
    "    phi2s[i] = phi2\n",
    "    ns[i] = n\n",
    "    \n",
    "    mu = dataset.data[i][\"mu\"]\n",
    "    mus[i] = mu"
   ]
  },
  {
   "cell_type": "code",
   "execution_count": 15,
   "metadata": {},
   "outputs": [
    {
     "data": {
      "text/plain": [
       "<matplotlib.collections.PathCollection at 0x7fb5487f09d0>"
      ]
     },
     "execution_count": 15,
     "metadata": {},
     "output_type": "execute_result"
    },
    {
     "data": {
      "image/png": "[encoded data removed]",
      "text/plain": [
       "<Figure size 432x288 with 1 Axes>"
      ]
     },
     "metadata": {
      "needs_background": "light"
     },
     "output_type": "display_data"
    }
   ],
   "source": [
    "plt.scatter(mus, ns)"
   ]
  },
  {
   "cell_type": "code",
   "execution_count": 16,
   "metadata": {},
   "outputs": [
    {
     "data": {
      "text/plain": [
       "<matplotlib.collections.PathCollection at 0x7fb4adb03750>"
      ]
     },
     "execution_count": 16,
     "metadata": {},
     "output_type": "execute_result"
    },
    {
     "data": {
      "image/png": "[encoded data removed]",
      "text/plain": [
       "<Figure size 432x288 with 1 Axes>"
      ]
     },
     "metadata": {
      "needs_background": "light"
     },
     "output_type": "display_data"
    }
   ],
   "source": [
    "plt.scatter(mus, phi2s)"
   ]
  },
  {
   "cell_type": "code",
   "execution_count": 17,
   "metadata": {},
   "outputs": [],
   "source": [
    "unique_mus = np.unique(mus)\n",
    "num_mus = len(unique_mus)"
   ]
  },
  {
   "cell_type": "code",
   "execution_count": 18,
   "metadata": {},
   "outputs": [],
   "source": [
    "##to be able to plot the observables against mu, they have to be sorted with respect to it\n",
    "phi2s_mu = []\n",
    "ns_mu = []\n",
    "\n",
    "for mu_val in unique_mus:\n",
    "    ##find which examples have a particular mu value (mu_val)\n",
    "    mu_loc = np.where(mus == mu_val)[0]\n",
    "    ##find the labels and prediction of observables which correspond to these examples\n",
    "    phi2_mu = phi2s[mu_loc]\n",
    "    n_mu = ns[mu_loc]\n",
    "    \n",
    "    phi2s_mu.append(phi2_mu)\n",
    "    ns_mu.append(n_mu)"
   ]
  },
  {
   "cell_type": "code",
   "execution_count": 19,
   "metadata": {},
   "outputs": [
    {
     "name": "stdout",
     "output_type": "stream",
     "text": [
      "[tensor([0.2520, 0.2576, 0.2902,  ..., 0.2695, 0.2716, 0.2882]), tensor([0.2677, 0.3165, 0.3063,  ..., 0.2936, 0.2900, 0.2547]), tensor([0.2584, 0.2661, 0.2765,  ..., 0.2664, 0.2937, 0.2798]), tensor([0.2699, 0.2802, 0.2411,  ..., 0.3105, 0.2856, 0.2784]), tensor([0.2413, 0.2449, 0.2520,  ..., 0.2690, 0.2557, 0.2624]), tensor([0.2758, 0.2733, 0.2820,  ..., 0.3369, 0.3163, 0.3018]), tensor([0.2342, 0.2407, 0.2746,  ..., 0.2872, 0.2903, 0.2946]), tensor([0.2338, 0.2375, 0.2338,  ..., 0.3155, 0.2944, 0.2720]), tensor([0.2686, 0.2967, 0.3091,  ..., 0.3383, 0.4138, 0.2611]), tensor([0.2873, 0.2935, 0.2863,  ..., 0.2728, 0.2683, 0.2906]), tensor([0.2555, 0.3191, 0.3250,  ..., 0.4261, 0.4376, 0.3022]), tensor([0.2577, 0.2830, 0.3072,  ..., 0.2882, 0.2621, 0.2899]), tensor([0.2480, 0.2840, 0.2994,  ..., 0.2727, 0.2761, 0.4273]), tensor([0.2413, 0.2651, 0.4231,  ..., 0.3164, 0.2971, 0.3168]), tensor([0.2591, 0.2656, 0.4695,  ..., 0.3009, 0.3129, 0.3238]), tensor([0.2586, 0.2878, 0.3324,  ..., 0.4068, 0.2852, 0.2784]), tensor([0.2589, 0.2752, 0.3179,  ..., 0.4298, 0.2928, 0.2956]), tensor([0.2695, 0.2652, 0.2498,  ..., 0.4439, 0.4357, 0.4410]), tensor([0.3093, 0.4323, 0.4309,  ..., 0.4378, 0.4484, 0.4365]), tensor([0.2726, 0.4213, 0.4431,  ..., 0.4438, 0.4857, 0.4254]), tensor([0.3118, 0.4389, 0.4488,  ..., 0.4826, 0.4677, 0.4202]), tensor([0.2498, 0.2695, 0.2954,  ..., 0.4580, 0.4607, 0.4583]), tensor([0.2968, 0.4221, 0.4443,  ..., 0.4439, 0.4548, 0.5048]), tensor([0.2648, 0.2967, 0.2691,  ..., 0.4743, 0.4621, 0.4456]), tensor([0.2768, 0.2725, 0.4143,  ..., 0.4469, 0.4339, 0.4534]), tensor([0.2766, 0.3006, 0.4318,  ..., 0.4519, 0.4408, 0.4578]), tensor([0.2766, 0.4486, 0.4585,  ..., 0.4921, 0.4824, 0.4659]), tensor([0.2647, 0.4487, 0.4371,  ..., 0.4175, 0.4697, 0.5164]), tensor([0.2376, 0.2969, 0.2932,  ..., 0.4822, 0.4572, 0.4169])]\n"
     ]
    }
   ],
   "source": [
    "print(phi2s_mu)"
   ]
  },
  {
   "cell_type": "code",
   "execution_count": 20,
   "metadata": {},
   "outputs": [],
   "source": [
    "#phi2s_mu = np.array(phi2s_mu)\n",
    "#ns_mu = np.array(ns_mu)"
   ]
  },
  {
   "cell_type": "code",
   "execution_count": 21,
   "metadata": {},
   "outputs": [],
   "source": [
    "phi2s_mu = torch.stack(phi2s_mu)\n",
    "ns_mu = torch.stack(ns_mu)"
   ]
  },
  {
   "cell_type": "code",
   "execution_count": 22,
   "metadata": {},
   "outputs": [],
   "source": [
    "mean_phi2s_mu = torch.zeros(len(unique_mus))\n",
    "mean_ns_mu = torch.zeros(len(unique_mus))\n",
    "std_phi2s_mu = torch.zeros(len(unique_mus))\n",
    "std_ns_mu = torch.zeros(len(unique_mus))\n",
    "\n",
    "for mu_i in range(len(unique_mus)):\n",
    "    mean_phi2s_mu[mu_i] = torch.mean(phi2s_mu[mu_i])\n",
    "    mean_ns_mu[mu_i] = torch.mean(ns_mu[mu_i])\n",
    "    std_phi2s_mu[mu_i] = torch.std(phi2s_mu[mu_i])\n",
    "    std_ns_mu[mu_i] = torch.std(ns_mu[mu_i])\n",
    "    "
   ]
  },
  {
   "cell_type": "code",
   "execution_count": 65,
   "metadata": {},
   "outputs": [
    {
     "data": {
      "image/png": "[encoded data removed]",
      "text/plain": [
       "<Figure size 720x720 with 1 Axes>"
      ]
     },
     "metadata": {
      "needs_background": "light"
     },
     "output_type": "display_data"
    }
   ],
   "source": [
    "#plt.plot(unique_mus, mean_phi2s_mu)\n",
    "plt.errorbar(unique_mus, mean_phi2s_mu, yerr=std_phi2s_mu)\n",
    "plt.xlabel(\"μ\")\n",
    "plt.ylabel(\"ϕ²\")\n",
    "plt.savefig(f\"phi2_mu{lat_size}.png\")"
   ]
  },
  {
   "cell_type": "code",
   "execution_count": 66,
   "metadata": {},
   "outputs": [
    {
     "data": {
      "image/png": "[encoded data removed]",
      "text/plain": [
       "<Figure size 720x720 with 1 Axes>"
      ]
     },
     "metadata": {
      "needs_background": "light"
     },
     "output_type": "display_data"
    }
   ],
   "source": [
    "#plt.plot(unique_mus, mean_ns_mu)\n",
    "plt.errorbar(unique_mus, mean_ns_mu, yerr=std_ns_mu)\n",
    "plt.xlabel(\"μ\")\n",
    "plt.ylabel(\"n\")\n",
    "plt.savefig(f\"n_mu{lat_size}.png\")"
   ]
  },
  {
   "cell_type": "code",
   "execution_count": 25,
   "metadata": {},
   "outputs": [
    {
     "name": "stdout",
     "output_type": "stream",
     "text": [
      "torch.Size([145000, 2, 2, 2, 50])\n"
     ]
    }
   ],
   "source": [
    "\"\"\"plot k and l link distribution\"\"\"\n",
    "\n",
    "\n",
    "#dataset_links_shape = np.concatenate(([len(dataset)],[len(lat_size)],lat_size))\n",
    "dataset_links_shape = np.concatenate(([len(dataset)],conf_size))\n",
    "dataset_k_links = torch.zeros(*dataset_links_shape, dtype=int)\n",
    "dataset_l_links = torch.zeros(*dataset_links_shape, dtype=int)\n",
    "print(dataset_k_links.size())"
   ]
  },
  {
   "cell_type": "code",
   "execution_count": 26,
   "metadata": {},
   "outputs": [
    {
     "data": {
      "application/vnd.jupyter.widget-view+json": {
       "model_id": "d984f83cd72042949c61dd4f1cd9bdda",
       "version_major": 2,
       "version_minor": 0
      },
      "text/plain": [
       "HBox(children=(FloatProgress(value=0.0, max=145000.0), HTML(value='')))"
      ]
     },
     "metadata": {},
     "output_type": "display_data"
    },
    {
     "name": "stdout",
     "output_type": "stream",
     "text": [
      "\n"
     ]
    }
   ],
   "source": [
    "for i in tqdm(range(len(dataset))):\n",
    "    dataset_k_links[i] = dataset.data[i][\"conf\"][0]\n",
    "    dataset_l_links[i] = dataset.data[i][\"conf\"][1]\n",
    "    "
   ]
  },
  {
   "cell_type": "code",
   "execution_count": 27,
   "metadata": {},
   "outputs": [],
   "source": [
    "dataset_k_links_flat = torch.flatten(dataset_k_links, start_dim=1)\n",
    "dataset_l_links_flat = torch.flatten(dataset_l_links, start_dim=1)"
   ]
  },
  {
   "cell_type": "code",
   "execution_count": 28,
   "metadata": {},
   "outputs": [
    {
     "data": {
      "text/plain": [
       "<matplotlib.legend.Legend at 0x7fb4ad9788d0>"
      ]
     },
     "execution_count": 28,
     "metadata": {},
     "output_type": "execute_result"
    },
    {
     "data": {
      "image/png": "[encoded data removed]",
      "text/plain": [
       "<Figure size 432x288 with 1 Axes>"
      ]
     },
     "metadata": {
      "needs_background": "light"
     },
     "output_type": "display_data"
    }
   ],
   "source": [
    "conf_i = 0\n",
    "\n",
    "max_k_link = torch.max(dataset_k_links_flat[conf_i])\n",
    "min_k_link = torch.min(dataset_k_links_flat[conf_i])\n",
    "\n",
    "bins = np.arange(min_k_link, max_k_link, dtype=int)\n",
    "\n",
    "plt.hist([np.array(dataset_k_links_flat[conf_i].flatten()),np.array(dataset_l_links_flat[conf_i].flatten())], bins=bins, density=True, label=[\"k\", \"l\"])\n",
    "plt.legend(loc='upper right')"
   ]
  },
  {
   "cell_type": "code",
   "execution_count": 29,
   "metadata": {},
   "outputs": [],
   "source": [
    "conf_i_start = 0\n",
    "conf_i_stop = 10\n",
    "conf_range = np.arange(conf_i_start, conf_i_stop, dtype=int)"
   ]
  },
  {
   "cell_type": "code",
   "execution_count": 30,
   "metadata": {},
   "outputs": [
    {
     "data": {
      "image/png": "[encoded data removed]",
      "text/plain": [
       "<Figure size 2880x216 with 10 Axes>"
      ]
     },
     "metadata": {
      "needs_background": "light"
     },
     "output_type": "display_data"
    }
   ],
   "source": [
    "plt.rcParams['figure.figsize'] = [40, 3]\n",
    "fig, ax = plt.subplots(nrows=1, ncols=len(conf_range))\n",
    "\n",
    "max_k_link = torch.max(dataset_k_links_flat)\n",
    "min_k_link = torch.min(dataset_k_links_flat)\n",
    "\n",
    "bins = np.arange(min_k_link, max_k_link, dtype=int)\n",
    "\n",
    "for i in range(len(conf_range)):\n",
    "    conf_i = conf_range[i]\n",
    "    ax[i].hist([np.array(dataset_k_links_flat[conf_i].flatten()),np.array(dataset_l_links_flat[conf_i].flatten())], bins=bins, density=True, label=[\"k\", \"l\"])\n",
    "    ax[i].legend(loc='upper right')"
   ]
  },
  {
   "cell_type": "code",
   "execution_count": 31,
   "metadata": {},
   "outputs": [],
   "source": [
    "dataset_k_links_allflat = torch.flatten(dataset_k_links_flat, start_dim=0)\n",
    "dataset_l_links_allflat = torch.flatten(dataset_l_links_flat, start_dim=0)"
   ]
  },
  {
   "cell_type": "code",
   "execution_count": 32,
   "metadata": {},
   "outputs": [
    {
     "data": {
      "text/plain": [
       "<matplotlib.legend.Legend at 0x7fb4ad4193d0>"
      ]
     },
     "execution_count": 32,
     "metadata": {},
     "output_type": "execute_result"
    },
    {
     "data": {
      "image/png": "[encoded data removed]",
      "text/plain": [
       "<Figure size 360x360 with 1 Axes>"
      ]
     },
     "metadata": {
      "needs_background": "light"
     },
     "output_type": "display_data"
    }
   ],
   "source": [
    "plt.rcParams['figure.figsize'] = [5, 5]\n",
    "\n",
    "max_k_link = torch.max(dataset_k_links_allflat)\n",
    "min_k_link = torch.min(dataset_k_links_allflat)\n",
    "\n",
    "bins = np.arange(min_k_link, max_k_link, dtype=int)\n",
    "\n",
    "plt.hist([np.array(dataset_k_links_allflat),np.array(dataset_l_links_allflat)], bins=bins, density=True, label=[\"k\", \"l\"])\n",
    "plt.legend(loc='upper right')"
   ]
  },
  {
   "cell_type": "code",
   "execution_count": 33,
   "metadata": {},
   "outputs": [
    {
     "name": "stdout",
     "output_type": "stream",
     "text": [
      "5000\n"
     ]
    }
   ],
   "source": [
    "\"\"\"plot k l link distribution per μ\"\"\"\n",
    "#print(dataset.data[0][\"mu\"])\n",
    "mu_val = dataset.data[0][\"mu\"]\n",
    "\n",
    "mu_confs = [conf_dict[\"conf\"] for conf_dict in dataset.data if conf_dict[\"mu\"] == mu_val]\n",
    "print(len(mu_confs))"
   ]
  },
  {
   "cell_type": "code",
   "execution_count": 34,
   "metadata": {},
   "outputs": [],
   "source": [
    "mu_confs = torch.stack(mu_confs)"
   ]
  },
  {
   "cell_type": "code",
   "execution_count": 35,
   "metadata": {},
   "outputs": [
    {
     "name": "stdout",
     "output_type": "stream",
     "text": [
      "torch.Size([5000, 2, 2, 2, 50])\n"
     ]
    }
   ],
   "source": [
    "print(mu_confs.size())"
   ]
  },
  {
   "cell_type": "code",
   "execution_count": 36,
   "metadata": {},
   "outputs": [],
   "source": [
    "all_mu_l_links = mu_confs[:,1]\n",
    "all_mu_k_links = mu_confs[:,0]"
   ]
  },
  {
   "cell_type": "code",
   "execution_count": 37,
   "metadata": {},
   "outputs": [
    {
     "data": {
      "text/plain": [
       "torch.Tensor"
      ]
     },
     "execution_count": 37,
     "metadata": {},
     "output_type": "execute_result"
    }
   ],
   "source": [
    "type(all_mu_k_links[0])"
   ]
  },
  {
   "cell_type": "code",
   "execution_count": 38,
   "metadata": {},
   "outputs": [
    {
     "data": {
      "text/plain": [
       "Text(0, 0.5, 'k and l link distribution μ = 0.995')"
      ]
     },
     "execution_count": 38,
     "metadata": {},
     "output_type": "execute_result"
    },
    {
     "data": {
      "image/png": "[encoded data removed]",
      "text/plain": [
       "<Figure size 360x360 with 1 Axes>"
      ]
     },
     "metadata": {
      "needs_background": "light"
     },
     "output_type": "display_data"
    }
   ],
   "source": [
    "max_k_link = torch.max(all_mu_k_links.flatten())\n",
    "min_k_link = torch.min(all_mu_k_links.flatten())\n",
    "bins = np.arange(min_k_link, max_k_link, dtype=int)\n",
    "\n",
    "plt.hist([np.array(all_mu_k_links.flatten()),np.array(all_mu_l_links.flatten())], bins=bins, density=True, label=[\"k\", \"l\"])\n",
    "plt.legend(loc='upper right')\n",
    "plt.ylabel(f\"k and l link distribution μ = {mu_val}\")"
   ]
  },
  {
   "cell_type": "code",
   "execution_count": 39,
   "metadata": {},
   "outputs": [
    {
     "data": {
      "application/vnd.jupyter.widget-view+json": {
       "model_id": "4db0b99ec87c4aaf8923d5e896ea1c05",
       "version_major": 2,
       "version_minor": 0
      },
      "text/plain": [
       "HBox(children=(FloatProgress(value=0.0, max=145000.0), HTML(value='')))"
      ]
     },
     "metadata": {},
     "output_type": "display_data"
    },
    {
     "name": "stdout",
     "output_type": "stream",
     "text": [
      "\n"
     ]
    }
   ],
   "source": [
    "\"\"\"count all mus\"\"\"\n",
    "\n",
    "mus = torch.zeros(len(dataset.data))\n",
    "\n",
    "for i in tqdm(range(len(dataset.data))):\n",
    "    mus[i] = dataset.data[i][\"mu\"]\n",
    "    \n",
    "unique_mus = torch.unique(mus)"
   ]
  },
  {
   "cell_type": "code",
   "execution_count": 40,
   "metadata": {},
   "outputs": [
    {
     "name": "stdout",
     "output_type": "stream",
     "text": [
      "tensor([0.9100, 0.9150, 0.9200, 0.9250, 0.9300, 0.9350, 0.9400, 0.9450, 0.9500,\n",
      "        0.9550, 0.9600, 0.9650, 0.9700, 0.9750, 0.9800, 0.9850, 0.9900, 0.9950,\n",
      "        1.0000, 1.0050, 1.0100, 1.0150, 1.0200, 1.0250, 1.0300, 1.0350, 1.0400,\n",
      "        1.0450, 1.0500])\n"
     ]
    }
   ],
   "source": [
    "print(unique_mus)"
   ]
  },
  {
   "cell_type": "code",
   "execution_count": 41,
   "metadata": {},
   "outputs": [
    {
     "name": "stdout",
     "output_type": "stream",
     "text": [
      "tensor(0.9100)\n",
      "torch.Size([5000, 2, 2, 2, 50])\n",
      "torch.Size([5000, 2, 2, 50])\n",
      "tensor(0.9150)\n",
      "torch.Size([5000, 2, 2, 2, 50])\n",
      "torch.Size([5000, 2, 2, 50])\n",
      "tensor(0.9200)\n",
      "torch.Size([5000, 2, 2, 2, 50])\n",
      "torch.Size([5000, 2, 2, 50])\n",
      "tensor(0.9250)\n",
      "torch.Size([5000, 2, 2, 2, 50])\n",
      "torch.Size([5000, 2, 2, 50])\n",
      "tensor(0.9300)\n",
      "torch.Size([5000, 2, 2, 2, 50])\n",
      "torch.Size([5000, 2, 2, 50])\n",
      "tensor(0.9350)\n",
      "torch.Size([5000, 2, 2, 2, 50])\n",
      "torch.Size([5000, 2, 2, 50])\n",
      "tensor(0.9400)\n",
      "torch.Size([5000, 2, 2, 2, 50])\n",
      "torch.Size([5000, 2, 2, 50])\n",
      "tensor(0.9450)\n",
      "torch.Size([5000, 2, 2, 2, 50])\n",
      "torch.Size([5000, 2, 2, 50])\n",
      "tensor(0.9500)\n",
      "torch.Size([5000, 2, 2, 2, 50])\n",
      "torch.Size([5000, 2, 2, 50])\n",
      "tensor(0.9550)\n",
      "torch.Size([5000, 2, 2, 2, 50])\n",
      "torch.Size([5000, 2, 2, 50])\n",
      "tensor(0.9600)\n",
      "torch.Size([5000, 2, 2, 2, 50])\n",
      "torch.Size([5000, 2, 2, 50])\n",
      "tensor(0.9650)\n",
      "torch.Size([5000, 2, 2, 2, 50])\n",
      "torch.Size([5000, 2, 2, 50])\n",
      "tensor(0.9700)\n",
      "torch.Size([5000, 2, 2, 2, 50])\n",
      "torch.Size([5000, 2, 2, 50])\n",
      "tensor(0.9750)\n",
      "torch.Size([5000, 2, 2, 2, 50])\n",
      "torch.Size([5000, 2, 2, 50])\n",
      "tensor(0.9800)\n",
      "torch.Size([5000, 2, 2, 2, 50])\n",
      "torch.Size([5000, 2, 2, 50])\n",
      "tensor(0.9850)\n",
      "torch.Size([5000, 2, 2, 2, 50])\n",
      "torch.Size([5000, 2, 2, 50])\n",
      "tensor(0.9900)\n",
      "torch.Size([5000, 2, 2, 2, 50])\n",
      "torch.Size([5000, 2, 2, 50])\n",
      "tensor(0.9950)\n",
      "torch.Size([5000, 2, 2, 2, 50])\n",
      "torch.Size([5000, 2, 2, 50])\n",
      "tensor(1.)\n",
      "torch.Size([5000, 2, 2, 2, 50])\n",
      "torch.Size([5000, 2, 2, 50])\n",
      "tensor(1.0050)\n",
      "torch.Size([5000, 2, 2, 2, 50])\n",
      "torch.Size([5000, 2, 2, 50])\n",
      "tensor(1.0100)\n",
      "torch.Size([5000, 2, 2, 2, 50])\n",
      "torch.Size([5000, 2, 2, 50])\n",
      "tensor(1.0150)\n",
      "torch.Size([5000, 2, 2, 2, 50])\n",
      "torch.Size([5000, 2, 2, 50])\n",
      "tensor(1.0200)\n",
      "torch.Size([5000, 2, 2, 2, 50])\n",
      "torch.Size([5000, 2, 2, 50])\n",
      "tensor(1.0250)\n",
      "torch.Size([5000, 2, 2, 2, 50])\n",
      "torch.Size([5000, 2, 2, 50])\n",
      "tensor(1.0300)\n",
      "torch.Size([5000, 2, 2, 2, 50])\n",
      "torch.Size([5000, 2, 2, 50])\n",
      "tensor(1.0350)\n",
      "torch.Size([5000, 2, 2, 2, 50])\n",
      "torch.Size([5000, 2, 2, 50])\n",
      "tensor(1.0400)\n",
      "torch.Size([5000, 2, 2, 2, 50])\n",
      "torch.Size([5000, 2, 2, 50])\n",
      "tensor(1.0450)\n",
      "torch.Size([5000, 2, 2, 2, 50])\n",
      "torch.Size([5000, 2, 2, 50])\n",
      "tensor(1.0500)\n",
      "torch.Size([5000, 2, 2, 2, 50])\n",
      "torch.Size([5000, 2, 2, 50])\n",
      "29\n",
      "5000\n"
     ]
    }
   ],
   "source": [
    "all_mu_k_links = []\n",
    "all_mu_l_links = []\n",
    "all_mu_f = []\n",
    "\n",
    "for mu_i in range(len(unique_mus)):\n",
    "    mu_val = unique_mus[mu_i]\n",
    "    print(mu_val)\n",
    "    \n",
    "    mu_confs = [conf_dict[\"conf\"] for conf_dict in dataset.data if conf_dict[\"mu\"] == mu_val]\n",
    "    #print(len(mu_confs))\n",
    "    \"\"\"calculate f function\"\"\"\n",
    "    #f = f_calc(torch.flip(dataset.data[0][\"conf\"][0], dims=[0]), torch.flip(dataset.data[0][\"conf\"][1], dims=[0]), lat_size=lat_size, dims=len(lat_size))\n",
    "    #torch.all(f %2 == 0)\n",
    "    mu_f = torch.zeros(len(mu_confs), *lat_size)\n",
    "    for mu_conf_i in range(len(mu_confs)):\n",
    "        mu_f[mu_conf_i] = f_calc(k_links=torch.flip(mu_confs[mu_conf_i][0], dims=[0]),\n",
    "                                 l_links=torch.flip(mu_confs[mu_conf_i][1], dims=[0]),\n",
    "                                 lat_size=lat_size, dims=len(lat_size))\n",
    "    \n",
    "    mu_confs = torch.stack(mu_confs)\n",
    "    print(mu_confs.size())\n",
    "    \n",
    "    mu_k_links = mu_confs[:,0]\n",
    "    mu_l_links = mu_confs[:,1]\n",
    "    \n",
    "    print(mu_k_links.size())\n",
    "    #print(len(mu_l_links))\n",
    "\n",
    "    all_mu_k_links.append(np.array(mu_k_links))\n",
    "    all_mu_l_links.append(np.array(mu_l_links))\n",
    "    all_mu_f.append(np.array(mu_f))\n",
    "\n",
    "print(len(all_mu_k_links))\n",
    "print(len(all_mu_k_links[0]))\n",
    "#all_mu_k_links = torch.tensor(all_mu_k_links)\n",
    "#all_mu_k_links.size()"
   ]
  },
  {
   "cell_type": "code",
   "execution_count": 42,
   "metadata": {},
   "outputs": [
    {
     "data": {
      "text/plain": [
       "True"
      ]
     },
     "execution_count": 42,
     "metadata": {},
     "output_type": "execute_result"
    }
   ],
   "source": [
    "np.all(all_mu_f[0] %2 == 0)"
   ]
  },
  {
   "cell_type": "code",
   "execution_count": 43,
   "metadata": {},
   "outputs": [
    {
     "data": {
      "text/plain": [
       "Text(0, 0.5, 'k link distribution')"
      ]
     },
     "execution_count": 43,
     "metadata": {},
     "output_type": "execute_result"
    },
    {
     "data": {
      "image/png": "[encoded data removed]",
      "text/plain": [
       "<Figure size 720x720 with 1 Axes>"
      ]
     },
     "metadata": {
      "needs_background": "light"
     },
     "output_type": "display_data"
    }
   ],
   "source": [
    "\"\"\"plot k l link distribution per μ\"\"\"\n",
    "\n",
    "plt.rcParams['figure.figsize'] = [10, 10]\n",
    "\n",
    "#max_k_link = torch.max(all_mu_k_links)\n",
    "#min_k_link = torch.min(all_mu_k_links)\n",
    "all_mu_k_links_flat = [mu_k_links.flatten() for mu_k_links in all_mu_k_links]\n",
    "bins = np.arange(min_k_link, max_k_link, dtype=int)\n",
    "mu_str_list = [\"μ = \" + str(mu.numpy()) for mu in unique_mus]\n",
    "\n",
    "#plt.hist(all_mu_k_links_flat, bins=bins, density=True, label=mu_str_list)\n",
    "plt.hist(all_mu_k_links_flat, density=True, label=mu_str_list)\n",
    "plt.legend(loc='upper right')\n",
    "plt.ylabel(f\"k link distribution\")"
   ]
  },
  {
   "cell_type": "code",
   "execution_count": 64,
   "metadata": {},
   "outputs": [
    {
     "data": {
      "image/png": "[encoded data removed]",
      "text/plain": [
       "<Figure size 720x720 with 1 Axes>"
      ]
     },
     "metadata": {
      "needs_background": "light"
     },
     "output_type": "display_data"
    }
   ],
   "source": [
    "plt.rcParams['figure.figsize'] = [10, 10]\n",
    "\n",
    "import matplotlib.cm as cm\n",
    "from matplotlib.colors import Normalize\n",
    "#max_k_link = torch.max(all_mu_k_links)\n",
    "#min_k_link = torch.min(all_mu_k_links)\n",
    "all_mu_k_links_flat = [mu_k_links.flatten() for mu_k_links in all_mu_k_links]\n",
    "bins = np.arange(min_k_link, max_k_link, dtype=int)\n",
    "mu_str_list = [\"μ = \" + str(mu.numpy()) for mu in unique_mus]\n",
    "\n",
    "#plt.hist(all_mu_k_links_flat, bins=bins, density=True, label=mu_str_list)\n",
    "#plt.hist(all_mu_k_links_flat, density=True, label=mu_str_list)\n",
    "my_cmap = cm.get_cmap(\"jet\")\n",
    "min_mu = torch.min(unique_mus).detach().numpy()\n",
    "max_mu = torch.max(unique_mus).detach().numpy()\n",
    "my_norm = Normalize(vmin=min_mu, vmax=max_mu)\n",
    "#plt.bar(bins, all_mu_k_links_flat, density=True, label=mu_str_list, color=my_cmap(my_norm(unique_mus)))\n",
    "#for i in tqdm(range(len(unique_mus))):\n",
    "#    plt.hist(all_mu_k_links_flat[i], density=True, label=mu_str_list[i], color=my_cmap(my_norm(unique_mus[i])))\n",
    "plt.hist(all_mu_k_links_flat, bins=bins, density=True, label=mu_str_list, align=\"left\", color=my_cmap(my_norm(unique_mus)))\n",
    "plt.xticks(bins)\n",
    "plt.legend(loc='upper left')\n",
    "plt.ylabel(f\"k link distribution\")\n",
    "plt.savefig(f\"k_hist_mu{lat_size}.png\")"
   ]
  },
  {
   "cell_type": "code",
   "execution_count": 45,
   "metadata": {},
   "outputs": [
    {
     "data": {
      "text/plain": [
       "Text(0, 0.5, 'l link distribution')"
      ]
     },
     "execution_count": 45,
     "metadata": {},
     "output_type": "execute_result"
    },
    {
     "data": {
      "image/png": "[encoded data removed]",
      "text/plain": [
       "<Figure size 720x720 with 1 Axes>"
      ]
     },
     "metadata": {
      "needs_background": "light"
     },
     "output_type": "display_data"
    }
   ],
   "source": [
    "plt.rcParams['figure.figsize'] = [10, 10]\n",
    "#max_k_link = torch.max(all_mu_k_links)\n",
    "#min_k_link = torch.min(all_mu_k_links)\n",
    "all_mu_l_links_flat = [mu_l_links.flatten() for mu_l_links in all_mu_l_links]\n",
    "\n",
    "min_l_link = 0\n",
    "max_l_link = torch.max(mu_l_links)\n",
    "\n",
    "bins = np.arange(min_l_link, max_l_link, dtype=int)\n",
    "    \n",
    "#plt.hist(all_mu_l_links_flat, bins=bins, density=True, label=mu_str_list)\n",
    "plt.hist(all_mu_l_links_flat, density=True, label=mu_str_list)\n",
    "plt.legend(loc='upper right')\n",
    "plt.ylabel(f\"l link distribution\")"
   ]
  },
  {
   "cell_type": "code",
   "execution_count": 63,
   "metadata": {},
   "outputs": [
    {
     "data": {
      "image/png": "[encoded data removed]",
      "text/plain": [
       "<Figure size 720x720 with 1 Axes>"
      ]
     },
     "metadata": {
      "needs_background": "light"
     },
     "output_type": "display_data"
    }
   ],
   "source": [
    "#plt.hist(all_mu_k_links_flat, bins=bins, density=True, label=mu_str_list)\n",
    "#plt.hist(all_mu_k_links_flat, density=True, label=mu_str_list)\n",
    "\n",
    "bins = np.arange(min_l_link, max_l_link, dtype=int)\n",
    "\n",
    "my_cmap = cm.get_cmap(\"jet\")\n",
    "min_mu = torch.min(unique_mus).detach().numpy()\n",
    "max_mu = torch.max(unique_mus).detach().numpy()\n",
    "my_norm = Normalize(vmin=min_mu, vmax=max_mu)\n",
    "#plt.bar(bins, all_mu_k_links_flat, density=True, label=mu_str_list, color=my_cmap(my_norm(unique_mus)))\n",
    "#for i in tqdm(range(len(unique_mus))):\n",
    "#    plt.hist(all_mu_k_links_flat[i], density=True, label=mu_str_list[i], color=my_cmap(my_norm(unique_mus[i])))\n",
    "plt.hist(all_mu_l_links_flat, bins=bins, density=True, label=mu_str_list, align=\"left\", color=my_cmap(my_norm(unique_mus)))\n",
    "#plt.bar(all_mu_l_links_flat, density=True, label=mu_str_list, color=my_cmap(my_norm(unique_mus)))\n",
    "plt.xticks(bins)\n",
    "plt.legend(loc='upper right')\n",
    "plt.ylabel(f\"l link distribution\")\n",
    "plt.savefig(f\"l_hist_mu{lat_size}.png\")"
   ]
  },
  {
   "cell_type": "code",
   "execution_count": 47,
   "metadata": {},
   "outputs": [
    {
     "data": {
      "text/plain": [
       "Text(0, 0.5, 'f distribution')"
      ]
     },
     "execution_count": 47,
     "metadata": {},
     "output_type": "execute_result"
    },
    {
     "data": {
      "image/png": "[encoded data removed]",
      "text/plain": [
       "<Figure size 720x720 with 1 Axes>"
      ]
     },
     "metadata": {
      "needs_background": "light"
     },
     "output_type": "display_data"
    }
   ],
   "source": [
    "max_f = np.max(np.array(mu_f))\n",
    "min_f = np.min(np.array(mu_f))\n",
    "all_mu_f_flat = [mu_f.flatten().astype(int) for mu_f in all_mu_f]\n",
    "\n",
    "bins = np.arange(min_f, max_f, dtype=int)\n",
    "\n",
    "plt.hist(all_mu_f_flat, bins=bins, density=True, label=mu_str_list)\n",
    "#plt.hist(all_mu_f_flat, density=True, label=mu_str_list)\n",
    "plt.legend(loc='upper right')\n",
    "plt.ylabel(f\"f distribution\")"
   ]
  },
  {
   "cell_type": "code",
   "execution_count": 62,
   "metadata": {},
   "outputs": [
    {
     "data": {
      "image/png": "[encoded data removed]",
      "text/plain": [
       "<Figure size 720x720 with 1 Axes>"
      ]
     },
     "metadata": {
      "needs_background": "light"
     },
     "output_type": "display_data"
    }
   ],
   "source": [
    "#plt.hist(all_mu_k_links_flat, bins=bins, density=True, label=mu_str_list)\n",
    "#plt.hist(all_mu_k_links_flat, density=True, label=mu_str_list)\n",
    "my_cmap = cm.get_cmap(\"jet\")\n",
    "min_mu = torch.min(unique_mus).detach().numpy()\n",
    "max_mu = torch.max(unique_mus).detach().numpy()\n",
    "my_norm = Normalize(vmin=min_mu, vmax=max_mu)\n",
    "#plt.bar(bins, all_mu_k_links_flat, density=True, label=mu_str_list, color=my_cmap(my_norm(unique_mus)))\n",
    "#for i in tqdm(range(len(unique_mus))):\n",
    "#    plt.hist(all_mu_k_links_flat[i], density=True, label=mu_str_list[i], color=my_cmap(my_norm(unique_mus[i])))\n",
    "plt.hist(all_mu_f_flat, bins=bins, density=True, label=mu_str_list, align=\"left\", color=my_cmap(my_norm(unique_mus)))\n",
    "#plt.xticks(np.arange(0,np.max(all_mu_f_flat), 2))\n",
    "plt.xticks(np.arange(0,8,2))\n",
    "plt.legend(loc='upper right')\n",
    "plt.ylabel(f\"f distribution\")\n",
    "plt.savefig(f\"f_hist_mu_{lat_size}.png\")"
   ]
  },
  {
   "cell_type": "code",
   "execution_count": null,
   "metadata": {},
   "outputs": [],
   "source": [
    "W = np.loadtxt(\"W.txt\")\n",
    "W_obs_ratio = np.loadtxt(\"W_obs_ratio.txt\")"
   ]
  },
  {
   "cell_type": "code",
   "execution_count": 69,
   "metadata": {},
   "outputs": [
    {
     "data": {
      "text/plain": [
       "[<matplotlib.lines.Line2D at 0x7fb46d59c850>]"
      ]
     },
     "execution_count": 69,
     "metadata": {},
     "output_type": "execute_result"
    },
    {
     "data": {
      "image/png": "[encoded data removed]",
      "text/plain": [
       "<Figure size 720x720 with 1 Axes>"
      ]
     },
     "metadata": {
      "needs_background": "light"
     },
     "output_type": "display_data"
    }
   ],
   "source": [
    "plt.plot(np.arange(0,len(W), dtype=int), W)"
   ]
  },
  {
   "cell_type": "code",
   "execution_count": 77,
   "metadata": {},
   "outputs": [
    {
     "data": {
      "text/plain": [
       "[<matplotlib.lines.Line2D at 0x7fb46d029e10>]"
      ]
     },
     "execution_count": 77,
     "metadata": {},
     "output_type": "execute_result"
    },
    {
     "data": {
      "image/png": "[encoded data removed]",
      "text/plain": [
       "<Figure size 720x720 with 1 Axes>"
      ]
     },
     "metadata": {
      "needs_background": "light"
     },
     "output_type": "display_data"
    }
   ],
   "source": [
    "W_stop_i = 20\n",
    "plt.plot(np.arange(0,W_stop_i, dtype=int), W[:W_stop_i])"
   ]
  },
  {
   "cell_type": "code",
   "execution_count": 138,
   "metadata": {},
   "outputs": [
    {
     "name": "stdout",
     "output_type": "stream",
     "text": [
      "[0.20869977375671014, 0.840560801141155]\n"
     ]
    },
    {
     "data": {
      "image/png": "[encoded data removed]",
      "text/plain": [
       "<Figure size 720x720 with 1 Axes>"
      ]
     },
     "metadata": {
      "needs_background": "light"
     },
     "output_type": "display_data"
    }
   ],
   "source": [
    "W_stop_i = 50\n",
    "i_reg = 4\n",
    "lin_W = [W_obs_ratio[0], W_obs_ratio[i_reg]]\n",
    "print(lin_W)\n",
    "plt.plot(np.arange(0,W_stop_i, dtype=int), W_obs_ratio[:W_stop_i], label=\"W[f+2]/W[f]\")\n",
    "plt.vlines(x=[0,i_reg], ymin=np.min(W_obs_ratio), ymax=np.max(W_obs_ratio[:W_stop_i]), linestyles=\"--\", label=\"dataset regime\")\n",
    "#plt.plot([0, i_reg], lin_W, linestyle=\"--\", label=\"linear regression f=[0,8]\")\n",
    "plt.ylabel(\"W[f+2]/W[f]\")\n",
    "plt.xlabel(\"f/2\")\n",
    "plt.legend(loc=\"lower right\")\n",
    "plt.savefig(\"W_obs_ratio.png\")"
   ]
  },
  {
   "cell_type": "code",
   "execution_count": 139,
   "metadata": {},
   "outputs": [],
   "source": [
    "import scipy as scp"
   ]
  },
  {
   "cell_type": "code",
   "execution_count": 140,
   "metadata": {},
   "outputs": [
    {
     "data": {
      "text/plain": [
       "array([0.20869977, 0.39078602, 0.55394518, 0.70284915])"
      ]
     },
     "execution_count": 140,
     "metadata": {},
     "output_type": "execute_result"
    }
   ],
   "source": [
    "W_obs_ratio[:i_reg]"
   ]
  },
  {
   "cell_type": "code",
   "execution_count": 141,
   "metadata": {},
   "outputs": [
    {
     "name": "stdout",
     "output_type": "stream",
     "text": [
      "LinregressResult(slope=0.16456073054601977, intercept=0.21722893678512536, rvalue=0.9989810469724528, pvalue=0.0010189530275471754, stderr=0.005256968568593865)\n"
     ]
    }
   ],
   "source": [
    "lin_reg = scp.stats.linregress(range(len(W_obs_ratio[:i_reg])), W_obs_ratio[:i_reg])\n",
    "print(lin_reg)"
   ]
  },
  {
   "cell_type": "code",
   "execution_count": 142,
   "metadata": {},
   "outputs": [
    {
     "data": {
      "text/plain": [
       "0.005256968568593865"
      ]
     },
     "execution_count": 142,
     "metadata": {},
     "output_type": "execute_result"
    }
   ],
   "source": [
    "lin_reg.stderr"
   ]
  },
  {
   "cell_type": "code",
   "execution_count": 143,
   "metadata": {},
   "outputs": [
    {
     "data": {
      "image/png": "[encoded data removed]",
      "text/plain": [
       "<Figure size 720x720 with 1 Axes>"
      ]
     },
     "metadata": {
      "needs_background": "light"
     },
     "output_type": "display_data"
    }
   ],
   "source": [
    "W_stop_i = 5\n",
    "i_reg = 4\n",
    "lin = np.zeros(W_stop_i)\n",
    "k = lin_reg.slope\n",
    "d = lin_reg.intercept\n",
    "for i in range(0,W_stop_i):\n",
    "    lin[i] = k*i + d\n",
    "    \n",
    "plt.plot(np.arange(0,W_stop_i, dtype=int), W_obs_ratio[:W_stop_i], label=\"W[f+2]/W[f]\")\n",
    "plt.plot(np.arange(0,W_stop_i, dtype=int), lin, linestyle=\"--\", label=\"linear regression, σ=0.005\")\n",
    "plt.ylabel(\"W[f+2]/W[f]\")\n",
    "plt.xlabel(\"f/2\")\n",
    "plt.legend()\n",
    "plt.savefig(\"W_obs_ratio_lin.png\")"
   ]
  },
  {
   "cell_type": "code",
   "execution_count": 107,
   "metadata": {},
   "outputs": [
    {
     "name": "stdout",
     "output_type": "stream",
     "text": [
      "[0.0, 0.04388302090391771, 0.06883896377265619, 0.07953970855208736, 0.07904813261036603, 0.06948894412538964, 0.05240179818208013, 0.028941738531508943, 0.0]\n"
     ]
    }
   ],
   "source": [
    "dev = [abs(lin[i] - W_obs_ratio[i]) for i in np.arange(0,W_stop_i, dtype=int)]\n",
    "print(dev)"
   ]
  },
  {
   "cell_type": "code",
   "execution_count": 49,
   "metadata": {},
   "outputs": [
    {
     "name": "stdout",
     "output_type": "stream",
     "text": [
      "tensor([[[ 0,  1,  2],\n",
      "         [ 3,  4,  5],\n",
      "         [ 6,  7,  8]],\n",
      "\n",
      "        [[ 9, 10, 11],\n",
      "         [12, 13, 14],\n",
      "         [15, 16, 17]]])\n"
     ]
    }
   ],
   "source": [
    "\"\"\"test whether relevant links are really attached to each lattice site\"\"\"\n",
    "test_lat_size = [3,3]\n",
    "test_k_links = torch.ones(2,*test_lat_size, dtype=int)\n",
    "#test_k_links[0] = torch.arange(start=0, end=np.prod(test_lat_size)).reshape(*test_lat_size)\n",
    "test_k_links = torch.arange(start=0, end=np.prod(test_k_links.shape), dtype=int).reshape(test_k_links.shape)\n",
    "\n",
    "print(test_k_links)"
   ]
  },
  {
   "cell_type": "code",
   "execution_count": 50,
   "metadata": {},
   "outputs": [
    {
     "name": "stdout",
     "output_type": "stream",
     "text": [
      "tensor([[[ 9, 10, 11],\n",
      "         [12, 13, 14],\n",
      "         [15, 16, 17]],\n",
      "\n",
      "        [[ 0,  1,  2],\n",
      "         [ 3,  4,  5],\n",
      "         [ 6,  7,  8]]])\n"
     ]
    }
   ],
   "source": [
    "print(torch.flip(test_k_links,dims=[0]))"
   ]
  },
  {
   "cell_type": "code",
   "execution_count": 51,
   "metadata": {},
   "outputs": [
    {
     "name": "stdout",
     "output_type": "stream",
     "text": [
      "tensor([[0, 1, 2],\n",
      "        [3, 4, 5],\n",
      "        [6, 7, 8]])\n"
     ]
    }
   ],
   "source": [
    "print(test_k_links[0])"
   ]
  },
  {
   "cell_type": "code",
   "execution_count": 52,
   "metadata": {},
   "outputs": [
    {
     "name": "stdout",
     "output_type": "stream",
     "text": [
      "tensor([[ 9, 10, 11],\n",
      "        [12, 13, 14],\n",
      "        [15, 16, 17]])\n"
     ]
    }
   ],
   "source": [
    "print(test_k_links[1])"
   ]
  },
  {
   "cell_type": "code",
   "execution_count": 53,
   "metadata": {},
   "outputs": [
    {
     "name": "stdout",
     "output_type": "stream",
     "text": [
      "tensor([[[ 0,  1,  2],\n",
      "         [ 3,  4,  5],\n",
      "         [ 6,  7,  8]],\n",
      "\n",
      "        [[ 9, 10, 11],\n",
      "         [12, 13, 14],\n",
      "         [15, 16, 17]],\n",
      "\n",
      "        [[ 6,  7,  8],\n",
      "         [ 0,  1,  2],\n",
      "         [ 3,  4,  5]],\n",
      "\n",
      "        [[11,  9, 10],\n",
      "         [14, 12, 13],\n",
      "         [17, 15, 16]]])\n"
     ]
    }
   ],
   "source": [
    "full_test_k_links = link_per_lat_point(test_k_links, test_lat_size, len(test_lat_size))\n",
    "print(full_test_k_links)"
   ]
  },
  {
   "cell_type": "code",
   "execution_count": 54,
   "metadata": {},
   "outputs": [
    {
     "name": "stdout",
     "output_type": "stream",
     "text": [
      "tensor([[6, 7, 8],\n",
      "        [0, 1, 2],\n",
      "        [3, 4, 5]])\n"
     ]
    }
   ],
   "source": [
    "print(full_test_k_links[2])"
   ]
  },
  {
   "cell_type": "code",
   "execution_count": 55,
   "metadata": {},
   "outputs": [
    {
     "name": "stdout",
     "output_type": "stream",
     "text": [
      "tensor([[11,  9, 10],\n",
      "        [14, 12, 13],\n",
      "        [17, 15, 16]])\n"
     ]
    }
   ],
   "source": [
    "print(full_test_k_links[3])"
   ]
  },
  {
   "cell_type": "code",
   "execution_count": 56,
   "metadata": {},
   "outputs": [],
   "source": [
    "\"\"\"test calc_f\"\"\"\n",
    "conf_i = 0\n",
    "test_k_links = dataset_k_links[conf_i]\n",
    "test_l_links = dataset_l_links[conf_i]\n",
    "\n",
    "test_k_links = torch.flip(test_k_links, dims=[0])\n",
    "test_l_links = torch.flip(test_l_links, dims=[0])\n",
    "\n",
    "test_f = torch.zeros(*lat_size, dtype=int)\n",
    "\n",
    "test_f = f_calc(test_k_links, test_l_links, lat_size, len(lat_size))"
   ]
  },
  {
   "cell_type": "code",
   "execution_count": 57,
   "metadata": {},
   "outputs": [],
   "source": [
    "#print(test_f)"
   ]
  },
  {
   "cell_type": "code",
   "execution_count": 58,
   "metadata": {},
   "outputs": [
    {
     "data": {
      "text/plain": [
       "'plot f and mean f distribution'"
      ]
     },
     "execution_count": 58,
     "metadata": {},
     "output_type": "execute_result"
    }
   ],
   "source": [
    "\"\"\"plot f and mean f distribution\"\"\""
   ]
  },
  {
   "cell_type": "code",
   "execution_count": 59,
   "metadata": {},
   "outputs": [
    {
     "data": {
      "application/vnd.jupyter.widget-view+json": {
       "model_id": "4c4bcf079a8a433db2ebfebd3023c9f4",
       "version_major": 2,
       "version_minor": 0
      },
      "text/plain": [
       "HBox(children=(FloatProgress(value=0.0, max=145000.0), HTML(value='')))"
      ]
     },
     "metadata": {},
     "output_type": "display_data"
    },
    {
     "name": "stdout",
     "output_type": "stream",
     "text": [
      "\n"
     ]
    },
    {
     "ename": "RuntimeError",
     "evalue": "expand(torch.LongTensor{[2, 2, 50]}, size=[2, 50]): the number of sizes provided (2) must be greater or equal to the number of dimensions in the tensor (3)",
     "output_type": "error",
     "traceback": [
      "\u001b[0;31m---------------------------------------------------------------------------\u001b[0m",
      "\u001b[0;31mRuntimeError\u001b[0m                              Traceback (most recent call last)",
      "\u001b[0;32m<ipython-input-59-52cf7ea100b8>\u001b[0m in \u001b[0;36m<module>\u001b[0;34m\u001b[0m\n\u001b[1;32m      9\u001b[0m     \u001b[0mtest_l_links\u001b[0m \u001b[0;34m=\u001b[0m \u001b[0mtorch\u001b[0m\u001b[0;34m.\u001b[0m\u001b[0mflip\u001b[0m\u001b[0;34m(\u001b[0m\u001b[0mtest_l_links\u001b[0m\u001b[0;34m,\u001b[0m \u001b[0mdims\u001b[0m\u001b[0;34m=\u001b[0m\u001b[0;34m[\u001b[0m\u001b[0;36m0\u001b[0m\u001b[0;34m]\u001b[0m\u001b[0;34m)\u001b[0m\u001b[0;34m\u001b[0m\u001b[0;34m\u001b[0m\u001b[0m\n\u001b[1;32m     10\u001b[0m \u001b[0;34m\u001b[0m\u001b[0m\n\u001b[0;32m---> 11\u001b[0;31m     \u001b[0mdataset_f\u001b[0m\u001b[0;34m[\u001b[0m\u001b[0mconf_i\u001b[0m\u001b[0;34m]\u001b[0m \u001b[0;34m=\u001b[0m \u001b[0mf_calc\u001b[0m\u001b[0;34m(\u001b[0m\u001b[0mtest_k_links\u001b[0m\u001b[0;34m,\u001b[0m \u001b[0mtest_l_links\u001b[0m\u001b[0;34m,\u001b[0m \u001b[0mlat_size\u001b[0m\u001b[0;34m,\u001b[0m \u001b[0mlen\u001b[0m\u001b[0;34m(\u001b[0m\u001b[0mlat_size\u001b[0m\u001b[0;34m)\u001b[0m\u001b[0;34m)\u001b[0m\u001b[0;34m\u001b[0m\u001b[0;34m\u001b[0m\u001b[0m\n\u001b[0m",
      "\u001b[0;31mRuntimeError\u001b[0m: expand(torch.LongTensor{[2, 2, 50]}, size=[2, 50]): the number of sizes provided (2) must be greater or equal to the number of dimensions in the tensor (3)"
     ]
    }
   ],
   "source": [
    "dataset_f = torch.zeros(len(dataset),*lat_size, dtype=int)\n",
    "\n",
    "for conf_i in tqdm(range(len(dataset))):\n",
    "    \n",
    "    test_k_links = dataset_k_links[conf_i]\n",
    "    test_l_links = dataset_l_links[conf_i]\n",
    "\n",
    "    test_k_links = torch.flip(test_k_links, dims=[0])\n",
    "    test_l_links = torch.flip(test_l_links, dims=[0])\n",
    "    \n",
    "    dataset_f[conf_i] = f_calc(test_k_links, test_l_links, lat_size, len(lat_size))"
   ]
  },
  {
   "cell_type": "code",
   "execution_count": null,
   "metadata": {},
   "outputs": [],
   "source": [
    "#conf_i = 0\n",
    "#dataset_f[conf_i]"
   ]
  },
  {
   "cell_type": "code",
   "execution_count": null,
   "metadata": {},
   "outputs": [],
   "source": [
    "np.all(dataset_f[conf_i].numpy() % 2 == 0)"
   ]
  },
  {
   "cell_type": "code",
   "execution_count": null,
   "metadata": {},
   "outputs": [],
   "source": [
    "np.all(dataset_f.numpy() % 2 == 0)"
   ]
  },
  {
   "cell_type": "code",
   "execution_count": null,
   "metadata": {},
   "outputs": [],
   "source": [
    "plt.rcParams['figure.figsize'] = [20, 5]\n",
    "conf_i = 0\n",
    "sns.heatmap(dataset_f[conf_i], cmap=\"BuGn\")"
   ]
  },
  {
   "cell_type": "code",
   "execution_count": null,
   "metadata": {},
   "outputs": [],
   "source": [
    "conf_i = 0\n",
    "dataset_f_flat = dataset_f.flatten(start_dim=1)\n",
    "dataset_f_allflat = dataset_f.flatten(start_dim=0)\n",
    "\n",
    "f_max = torch.max(dataset_f_allflat)\n",
    "\n",
    "bins = np.arange(0,f_max+2, 2)\n",
    "\n",
    "plt.hist(dataset_f_flat[conf_i], bins=bins)"
   ]
  },
  {
   "cell_type": "code",
   "execution_count": null,
   "metadata": {},
   "outputs": [],
   "source": [
    "plt.rcParams['figure.figsize'] = [20, 3]\n",
    "\n",
    "conf_start = 0\n",
    "conf_stop = 10\n",
    "\n",
    "conf_range = np.arange(conf_start, conf_stop)\n",
    "\n",
    "f_max = torch.max(dataset_f_allflat)\n",
    "\n",
    "bins = np.arange(0,f_max+2, 2)\n",
    "\n",
    "fig, ax = plt.subplots(1, len(conf_range))\n",
    "\n",
    "for i in range(len(conf_range)):\n",
    "    \n",
    "    conf_i = conf_range[i]\n",
    "    \n",
    "    ax[i].hist(dataset_f_flat[conf_i], bins=bins)"
   ]
  },
  {
   "cell_type": "code",
   "execution_count": null,
   "metadata": {},
   "outputs": [],
   "source": [
    "f_max = torch.max(dataset_f_allflat)\n",
    "\n",
    "bins = np.arange(0,f_max+2, 2)\n",
    "\n",
    "plt.hist(dataset_f_allflat, bins=bins)"
   ]
  },
  {
   "cell_type": "code",
   "execution_count": null,
   "metadata": {},
   "outputs": [],
   "source": []
  },
  {
   "cell_type": "code",
   "execution_count": null,
   "metadata": {},
   "outputs": [],
   "source": []
  },
  {
   "cell_type": "code",
   "execution_count": null,
   "metadata": {},
   "outputs": [],
   "source": []
  },
  {
   "cell_type": "code",
   "execution_count": null,
   "metadata": {},
   "outputs": [],
   "source": []
  },
  {
   "cell_type": "code",
   "execution_count": null,
   "metadata": {},
   "outputs": [],
   "source": []
  },
  {
   "cell_type": "code",
   "execution_count": null,
   "metadata": {},
   "outputs": [],
   "source": []
  },
  {
   "cell_type": "code",
   "execution_count": null,
   "metadata": {},
   "outputs": [],
   "source": []
  }
 ],
 "metadata": {
  "kernelspec": {
   "display_name": "Python 3",
   "language": "python",
   "name": "python3"
  },
  "language_info": {
   "codemirror_mode": {
    "name": "ipython",
    "version": 3
   },
   "file_extension": ".py",
   "mimetype": "text/x-python",
   "name": "python",
   "nbconvert_exporter": "python",
   "pygments_lexer": "ipython3",
   "version": "3.7.4"
  }
 },
 "nbformat": 4,
 "nbformat_minor": 2
}
