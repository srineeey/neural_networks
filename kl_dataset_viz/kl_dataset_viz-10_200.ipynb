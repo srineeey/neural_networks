{
 "cells": [
  {
   "cell_type": "code",
   "execution_count": 1,
   "metadata": {},
   "outputs": [],
   "source": [
    "import numpy as np\n",
    "import scipy as scp\n",
    "import matplotlib.pyplot as plt\n",
    "import seaborn as sns\n",
    "import pandas as pd\n",
    "\n",
    "import os\n",
    "import glob\n",
    "import sys\n",
    "\n",
    "sys.path.insert(1,\"/home/sbulusu/qcd_ml/neural_networks/libs/\")\n",
    "\n",
    "import torch\n",
    "import torch.nn as nn\n",
    "\n",
    "#import lat_dataset_load_new_lightning\n",
    "import open_worm_lat_dataset_load_new_lightning_dat\n",
    "\n",
    "from tqdm.notebook import tqdm"
   ]
  },
  {
   "cell_type": "code",
   "execution_count": 2,
   "metadata": {},
   "outputs": [],
   "source": [
    "\"\"\"calculate f\"\"\"\n",
    "def link_per_lat_point(links, lat_size, dims):\n",
    "\n",
    "    #empty channels where the linsk on other directions should be saved\n",
    "    #empty_link_channels = np.zeros(links.shape)\n",
    "    empty_link_channels = torch.zeros(*links.shape, dtype=int)\n",
    "    for d in range(dims):\n",
    "        #print(d)\n",
    "        #print(links)\n",
    "        d_links = links[d]\n",
    "        #print(d_links)\n",
    "        #perm_links = np.roll(d_links, shift=1, axis=d)\n",
    "        perm_links = torch.roll(d_links, shifts=1, dims=d)\n",
    "        #print(perm_links)\n",
    "        \n",
    "        #print(d_slices)\n",
    "        #empty_link_channels[d] = links[zip(d_slices)]\n",
    "        empty_link_channels[d] = perm_links\n",
    "        \n",
    "    #not supported\n",
    "    #empty_link_channels = empty_link_channels[::-1]\n",
    "    #torch.flip(input=empty_link_channels, dims=[0])\n",
    "    \n",
    "    #complete_links = np.concatenate((links,empty_link_channels), axis=0)\n",
    "    complete_links = torch.cat((links,empty_link_channels), dim=0)\n",
    "            \n",
    "            \n",
    "    return complete_links\n",
    "\n",
    "def f_calc(k_links, l_links, lat_size, dims):\n",
    "    full_k_links = link_per_lat_point(k_links, lat_size, dims)\n",
    "    full_l_links = link_per_lat_point(l_links, lat_size, dims)\n",
    "    #print(full_k_links.shape)\n",
    "    #print(full_l_links.shape)\n",
    "    \n",
    "    #abs_full_k_links = np.abs(full_k_links)\n",
    "    abs_full_k_links = torch.abs(full_k_links)\n",
    "    \n",
    "    #calc_f = (abs_full_k_links + 2*full_l_links).sum(axis=0).astype(int)\n",
    "    calc_f = (abs_full_k_links + 2*full_l_links).sum(axis=0)\n",
    "\n",
    "    #return calc_f.astype(int)\n",
    "    return calc_f"
   ]
  },
  {
   "cell_type": "code",
   "execution_count": 3,
   "metadata": {},
   "outputs": [
    {
     "name": "stdout",
     "output_type": "stream",
     "text": [
      "Utilizing CUDA\n"
     ]
    }
   ],
   "source": [
    "if torch.cuda.is_available():\n",
    "    device = torch.device(\"cuda:0\")\n",
    "    print(\"Utilizing CUDA\")\n",
    "else:\n",
    "    device = torch.device(\"cpu\")\n",
    "    print(\"Utilizing CPU\")\n",
    "    "
   ]
  },
  {
   "cell_type": "code",
   "execution_count": 4,
   "metadata": {},
   "outputs": [
    {
     "name": "stdout",
     "output_type": "stream",
     "text": [
      "found file 29 paths: ['/media/data/sbulusu/datasets/complexworm/Results for CNN/configs-200-10-4.010-1.000-0.945.dat', '/media/data/sbulusu/datasets/complexworm/Results for CNN/configs-200-10-4.010-1.000-0.925.dat', '/media/data/sbulusu/datasets/complexworm/Results for CNN/configs-200-10-4.010-1.000-0.970.dat', '/media/data/sbulusu/datasets/complexworm/Results for CNN/configs-200-10-4.010-1.000-0.975.dat', '/media/data/sbulusu/datasets/complexworm/Results for CNN/configs-200-10-4.010-1.000-0.950.dat', '/media/data/sbulusu/datasets/complexworm/Results for CNN/configs-200-10-4.010-1.000-0.915.dat', '/media/data/sbulusu/datasets/complexworm/Results for CNN/configs-200-10-4.010-1.000-0.995.dat', '/media/data/sbulusu/datasets/complexworm/Results for CNN/configs-200-10-4.010-1.000-1.010.dat', '/media/data/sbulusu/datasets/complexworm/Results for CNN/configs-200-10-4.010-1.000-0.935.dat', '/media/data/sbulusu/datasets/complexworm/Results for CNN/configs-200-10-4.010-1.000-0.930.dat', '/media/data/sbulusu/datasets/complexworm/Results for CNN/configs-200-10-4.010-1.000-1.015.dat', '/media/data/sbulusu/datasets/complexworm/Results for CNN/configs-200-10-4.010-1.000-1.045.dat', '/media/data/sbulusu/datasets/complexworm/Results for CNN/configs-200-10-4.010-1.000-1.035.dat', '/media/data/sbulusu/datasets/complexworm/Results for CNN/configs-200-10-4.010-1.000-0.965.dat', '/media/data/sbulusu/datasets/complexworm/Results for CNN/configs-200-10-4.010-1.000-1.005.dat', '/media/data/sbulusu/datasets/complexworm/Results for CNN/configs-200-10-4.010-1.000-0.985.dat', '/media/data/sbulusu/datasets/complexworm/Results for CNN/configs-200-10-4.010-1.000-0.955.dat', '/media/data/sbulusu/datasets/complexworm/Results for CNN/configs-200-10-4.010-1.000-1.030.dat', '/media/data/sbulusu/datasets/complexworm/Results for CNN/configs-200-10-4.010-1.000-0.940.dat', '/media/data/sbulusu/datasets/complexworm/Results for CNN/configs-200-10-4.010-1.000-0.960.dat', '/media/data/sbulusu/datasets/complexworm/Results for CNN/configs-200-10-4.010-1.000-1.025.dat', '/media/data/sbulusu/datasets/complexworm/Results for CNN/configs-200-10-4.010-1.000-1.040.dat', '/media/data/sbulusu/datasets/complexworm/Results for CNN/configs-200-10-4.010-1.000-0.980.dat', '/media/data/sbulusu/datasets/complexworm/Results for CNN/configs-200-10-4.010-1.000-0.910.dat', '/media/data/sbulusu/datasets/complexworm/Results for CNN/configs-200-10-4.010-1.000-0.990.dat', '/media/data/sbulusu/datasets/complexworm/Results for CNN/configs-200-10-4.010-1.000-0.920.dat', '/media/data/sbulusu/datasets/complexworm/Results for CNN/configs-200-10-4.010-1.000-1.050.dat', '/media/data/sbulusu/datasets/complexworm/Results for CNN/configs-200-10-4.010-1.000-1.020.dat', '/media/data/sbulusu/datasets/complexworm/Results for CNN/configs-200-10-4.010-1.000-1.000.dat']\n"
     ]
    },
    {
     "data": {
      "application/vnd.jupyter.widget-view+json": {
       "model_id": "4ceb2776bbf447669b1c17590f6dcc9b",
       "version_major": 2,
       "version_minor": 0
      },
      "text/plain": [
       "HBox(children=(FloatProgress(value=0.0, max=29.0), HTML(value='')))"
      ]
     },
     "metadata": {},
     "output_type": "display_data"
    },
    {
     "name": "stdout",
     "output_type": "stream",
     "text": [
      "Processing conf file /media/data/sbulusu/datasets/complexworm/Results for CNN/configs-200-10-4.010-1.000-0.945.dat\n",
      "['configs', '200', '10', '4.010', '1.000', '0.945']\n",
      "loaded file name labels ['nt', 'nx', 'eta', 'lambda', 'mu']\n",
      "for label n\n",
      "loading labels file /media/data/sbulusu/datasets/complexworm/Results for CNN/n-200-10-4.010-1.000-0.945.dat\n",
      "for label phi2\n",
      "loading labels file /media/data/sbulusu/datasets/complexworm/Results for CNN/phi2-200-10-4.010-1.000-0.945.dat\n",
      "First read conf file /media/data/sbulusu/datasets/complexworm/Results for CNN/configs-200-10-4.010-1.000-0.945.dat with size :torch.Size([5000, 2, 2, 10, 200])\n",
      "Read conf file /media/data/sbulusu/datasets/complexworm/Results for CNN/configs-200-10-4.010-1.000-0.945.dat with size :torch.Size([5000, 2, 2, 10, 200])\n",
      "Loading 5000 confs\n"
     ]
    },
    {
     "data": {
      "application/vnd.jupyter.widget-view+json": {
       "model_id": "12ecb9cfe11540ebba0f7a715beeaed0",
       "version_major": 2,
       "version_minor": 0
      },
      "text/plain": [
       "HBox(children=(FloatProgress(value=0.0, max=5000.0), HTML(value='')))"
      ]
     },
     "metadata": {},
     "output_type": "display_data"
    },
    {
     "name": "stdout",
     "output_type": "stream",
     "text": [
      "first example loaded:\n",
      "{'conf': tensor([[[[0, 0, 0,  ..., 0, 0, 0],\n",
      "          [0, 0, 0,  ..., 0, 0, 0],\n",
      "          [0, 0, 0,  ..., 0, 0, 0],\n",
      "          ...,\n",
      "          [0, 0, 0,  ..., 0, 0, 0],\n",
      "          [0, 0, 0,  ..., 0, 0, 0],\n",
      "          [0, 0, 0,  ..., 0, 0, 0]],\n",
      "\n",
      "         [[0, 0, 0,  ..., 0, 0, 0],\n",
      "          [0, 0, 0,  ..., 0, 0, 0],\n",
      "          [0, 0, 0,  ..., 0, 0, 0],\n",
      "          ...,\n",
      "          [0, 0, 0,  ..., 0, 0, 0],\n",
      "          [0, 0, 0,  ..., 0, 0, 0],\n",
      "          [0, 0, 0,  ..., 0, 0, 0]]],\n",
      "\n",
      "\n",
      "        [[[0, 0, 0,  ..., 0, 0, 0],\n",
      "          [0, 0, 1,  ..., 0, 0, 0],\n",
      "          [0, 0, 0,  ..., 0, 0, 0],\n",
      "          ...,\n",
      "          [1, 0, 0,  ..., 0, 0, 0],\n",
      "          [0, 0, 0,  ..., 0, 0, 1],\n",
      "          [0, 0, 0,  ..., 0, 0, 1]],\n",
      "\n",
      "         [[0, 0, 1,  ..., 0, 0, 0],\n",
      "          [0, 0, 0,  ..., 0, 0, 0],\n",
      "          [0, 0, 0,  ..., 0, 0, 0],\n",
      "          ...,\n",
      "          [0, 0, 0,  ..., 0, 0, 0],\n",
      "          [1, 0, 0,  ..., 0, 0, 0],\n",
      "          [0, 0, 0,  ..., 0, 0, 1]]]]), 'mu': 0.945, 'open': False, 'nt': 200.0, 'nx': 10.0, 'eta': 4.01, 'lambda': 1.0, 'phase': tensor(1.), 'n': 0.0, 'phi2': 0.25584503517, 'id': 0}\n",
      "\n",
      "Processing conf file /media/data/sbulusu/datasets/complexworm/Results for CNN/configs-200-10-4.010-1.000-0.925.dat\n",
      "['configs', '200', '10', '4.010', '1.000', '0.925']\n",
      "loaded file name labels ['nt', 'nx', 'eta', 'lambda', 'mu']\n",
      "for label n\n",
      "loading labels file /media/data/sbulusu/datasets/complexworm/Results for CNN/n-200-10-4.010-1.000-0.925.dat\n",
      "for label phi2\n",
      "loading labels file /media/data/sbulusu/datasets/complexworm/Results for CNN/phi2-200-10-4.010-1.000-0.925.dat\n",
      "First read conf file /media/data/sbulusu/datasets/complexworm/Results for CNN/configs-200-10-4.010-1.000-0.925.dat with size :torch.Size([5000, 2, 2, 10, 200])\n",
      "Read conf file /media/data/sbulusu/datasets/complexworm/Results for CNN/configs-200-10-4.010-1.000-0.925.dat with size :torch.Size([5000, 2, 2, 10, 200])\n",
      "Loading 5000 confs\n"
     ]
    },
    {
     "data": {
      "application/vnd.jupyter.widget-view+json": {
       "model_id": "7f32dad2d76e427883e0257d04d812c8",
       "version_major": 2,
       "version_minor": 0
      },
      "text/plain": [
       "HBox(children=(FloatProgress(value=0.0, max=5000.0), HTML(value='')))"
      ]
     },
     "metadata": {},
     "output_type": "display_data"
    },
    {
     "name": "stdout",
     "output_type": "stream",
     "text": [
      "\n",
      "Processing conf file /media/data/sbulusu/datasets/complexworm/Results for CNN/configs-200-10-4.010-1.000-0.970.dat\n",
      "['configs', '200', '10', '4.010', '1.000', '0.970']\n",
      "loaded file name labels ['nt', 'nx', 'eta', 'lambda', 'mu']\n",
      "for label n\n",
      "loading labels file /media/data/sbulusu/datasets/complexworm/Results for CNN/n-200-10-4.010-1.000-0.970.dat\n",
      "for label phi2\n",
      "loading labels file /media/data/sbulusu/datasets/complexworm/Results for CNN/phi2-200-10-4.010-1.000-0.970.dat\n",
      "First read conf file /media/data/sbulusu/datasets/complexworm/Results for CNN/configs-200-10-4.010-1.000-0.970.dat with size :torch.Size([5000, 2, 2, 10, 200])\n",
      "Read conf file /media/data/sbulusu/datasets/complexworm/Results for CNN/configs-200-10-4.010-1.000-0.970.dat with size :torch.Size([5000, 2, 2, 10, 200])\n",
      "Loading 5000 confs\n"
     ]
    },
    {
     "data": {
      "application/vnd.jupyter.widget-view+json": {
       "model_id": "ff657fa32d4f4086ac3fd9cc07dc6652",
       "version_major": 2,
       "version_minor": 0
      },
      "text/plain": [
       "HBox(children=(FloatProgress(value=0.0, max=5000.0), HTML(value='')))"
      ]
     },
     "metadata": {},
     "output_type": "display_data"
    },
    {
     "name": "stdout",
     "output_type": "stream",
     "text": [
      "\n",
      "Processing conf file /media/data/sbulusu/datasets/complexworm/Results for CNN/configs-200-10-4.010-1.000-0.975.dat\n",
      "['configs', '200', '10', '4.010', '1.000', '0.975']\n",
      "loaded file name labels ['nt', 'nx', 'eta', 'lambda', 'mu']\n",
      "for label n\n",
      "loading labels file /media/data/sbulusu/datasets/complexworm/Results for CNN/n-200-10-4.010-1.000-0.975.dat\n",
      "for label phi2\n",
      "loading labels file /media/data/sbulusu/datasets/complexworm/Results for CNN/phi2-200-10-4.010-1.000-0.975.dat\n",
      "First read conf file /media/data/sbulusu/datasets/complexworm/Results for CNN/configs-200-10-4.010-1.000-0.975.dat with size :torch.Size([5000, 2, 2, 10, 200])\n",
      "Read conf file /media/data/sbulusu/datasets/complexworm/Results for CNN/configs-200-10-4.010-1.000-0.975.dat with size :torch.Size([5000, 2, 2, 10, 200])\n",
      "Loading 5000 confs\n"
     ]
    },
    {
     "data": {
      "application/vnd.jupyter.widget-view+json": {
       "model_id": "f0967ce5bfa34434948e6daf464e3e33",
       "version_major": 2,
       "version_minor": 0
      },
      "text/plain": [
       "HBox(children=(FloatProgress(value=0.0, max=5000.0), HTML(value='')))"
      ]
     },
     "metadata": {},
     "output_type": "display_data"
    },
    {
     "name": "stdout",
     "output_type": "stream",
     "text": [
      "\n",
      "Processing conf file /media/data/sbulusu/datasets/complexworm/Results for CNN/configs-200-10-4.010-1.000-0.950.dat\n",
      "['configs', '200', '10', '4.010', '1.000', '0.950']\n",
      "loaded file name labels ['nt', 'nx', 'eta', 'lambda', 'mu']\n",
      "for label n\n",
      "loading labels file /media/data/sbulusu/datasets/complexworm/Results for CNN/n-200-10-4.010-1.000-0.950.dat\n",
      "for label phi2\n",
      "loading labels file /media/data/sbulusu/datasets/complexworm/Results for CNN/phi2-200-10-4.010-1.000-0.950.dat\n",
      "First read conf file /media/data/sbulusu/datasets/complexworm/Results for CNN/configs-200-10-4.010-1.000-0.950.dat with size :torch.Size([5000, 2, 2, 10, 200])\n",
      "Read conf file /media/data/sbulusu/datasets/complexworm/Results for CNN/configs-200-10-4.010-1.000-0.950.dat with size :torch.Size([5000, 2, 2, 10, 200])\n",
      "Loading 5000 confs\n"
     ]
    },
    {
     "data": {
      "application/vnd.jupyter.widget-view+json": {
       "model_id": "65ca7343326a40d7bea0f9cdd43d9377",
       "version_major": 2,
       "version_minor": 0
      },
      "text/plain": [
       "HBox(children=(FloatProgress(value=0.0, max=5000.0), HTML(value='')))"
      ]
     },
     "metadata": {},
     "output_type": "display_data"
    },
    {
     "name": "stdout",
     "output_type": "stream",
     "text": [
      "\n",
      "Processing conf file /media/data/sbulusu/datasets/complexworm/Results for CNN/configs-200-10-4.010-1.000-0.915.dat\n",
      "['configs', '200', '10', '4.010', '1.000', '0.915']\n",
      "loaded file name labels ['nt', 'nx', 'eta', 'lambda', 'mu']\n",
      "for label n\n",
      "loading labels file /media/data/sbulusu/datasets/complexworm/Results for CNN/n-200-10-4.010-1.000-0.915.dat\n",
      "for label phi2\n",
      "loading labels file /media/data/sbulusu/datasets/complexworm/Results for CNN/phi2-200-10-4.010-1.000-0.915.dat\n",
      "First read conf file /media/data/sbulusu/datasets/complexworm/Results for CNN/configs-200-10-4.010-1.000-0.915.dat with size :torch.Size([5000, 2, 2, 10, 200])\n",
      "Read conf file /media/data/sbulusu/datasets/complexworm/Results for CNN/configs-200-10-4.010-1.000-0.915.dat with size :torch.Size([5000, 2, 2, 10, 200])\n",
      "Loading 5000 confs\n"
     ]
    },
    {
     "data": {
      "application/vnd.jupyter.widget-view+json": {
       "model_id": "c2664ae13cdb4033bf6f28a0718bff13",
       "version_major": 2,
       "version_minor": 0
      },
      "text/plain": [
       "HBox(children=(FloatProgress(value=0.0, max=5000.0), HTML(value='')))"
      ]
     },
     "metadata": {},
     "output_type": "display_data"
    },
    {
     "name": "stdout",
     "output_type": "stream",
     "text": [
      "\n",
      "Processing conf file /media/data/sbulusu/datasets/complexworm/Results for CNN/configs-200-10-4.010-1.000-0.995.dat\n",
      "['configs', '200', '10', '4.010', '1.000', '0.995']\n",
      "loaded file name labels ['nt', 'nx', 'eta', 'lambda', 'mu']\n",
      "for label n\n",
      "loading labels file /media/data/sbulusu/datasets/complexworm/Results for CNN/n-200-10-4.010-1.000-0.995.dat\n",
      "for label phi2\n",
      "loading labels file /media/data/sbulusu/datasets/complexworm/Results for CNN/phi2-200-10-4.010-1.000-0.995.dat\n",
      "First read conf file /media/data/sbulusu/datasets/complexworm/Results for CNN/configs-200-10-4.010-1.000-0.995.dat with size :torch.Size([5000, 2, 2, 10, 200])\n",
      "Read conf file /media/data/sbulusu/datasets/complexworm/Results for CNN/configs-200-10-4.010-1.000-0.995.dat with size :torch.Size([5000, 2, 2, 10, 200])\n",
      "Loading 5000 confs\n"
     ]
    },
    {
     "data": {
      "application/vnd.jupyter.widget-view+json": {
       "model_id": "44de24e3be0b42b4830fae32b0514ffb",
       "version_major": 2,
       "version_minor": 0
      },
      "text/plain": [
       "HBox(children=(FloatProgress(value=0.0, max=5000.0), HTML(value='')))"
      ]
     },
     "metadata": {},
     "output_type": "display_data"
    },
    {
     "name": "stdout",
     "output_type": "stream",
     "text": [
      "\n",
      "Processing conf file /media/data/sbulusu/datasets/complexworm/Results for CNN/configs-200-10-4.010-1.000-1.010.dat\n",
      "['configs', '200', '10', '4.010', '1.000', '1.010']\n",
      "loaded file name labels ['nt', 'nx', 'eta', 'lambda', 'mu']\n",
      "for label n\n",
      "loading labels file /media/data/sbulusu/datasets/complexworm/Results for CNN/n-200-10-4.010-1.000-1.010.dat\n",
      "for label phi2\n",
      "loading labels file /media/data/sbulusu/datasets/complexworm/Results for CNN/phi2-200-10-4.010-1.000-1.010.dat\n",
      "First read conf file /media/data/sbulusu/datasets/complexworm/Results for CNN/configs-200-10-4.010-1.000-1.010.dat with size :torch.Size([5000, 2, 2, 10, 200])\n",
      "Read conf file /media/data/sbulusu/datasets/complexworm/Results for CNN/configs-200-10-4.010-1.000-1.010.dat with size :torch.Size([5000, 2, 2, 10, 200])\n",
      "Loading 5000 confs\n"
     ]
    },
    {
     "data": {
      "application/vnd.jupyter.widget-view+json": {
       "model_id": "1d7ead660f884dce828da598b76bcee5",
       "version_major": 2,
       "version_minor": 0
      },
      "text/plain": [
       "HBox(children=(FloatProgress(value=0.0, max=5000.0), HTML(value='')))"
      ]
     },
     "metadata": {},
     "output_type": "display_data"
    },
    {
     "name": "stdout",
     "output_type": "stream",
     "text": [
      "\n",
      "Processing conf file /media/data/sbulusu/datasets/complexworm/Results for CNN/configs-200-10-4.010-1.000-0.935.dat\n",
      "['configs', '200', '10', '4.010', '1.000', '0.935']\n",
      "loaded file name labels ['nt', 'nx', 'eta', 'lambda', 'mu']\n",
      "for label n\n",
      "loading labels file /media/data/sbulusu/datasets/complexworm/Results for CNN/n-200-10-4.010-1.000-0.935.dat\n",
      "for label phi2\n",
      "loading labels file /media/data/sbulusu/datasets/complexworm/Results for CNN/phi2-200-10-4.010-1.000-0.935.dat\n",
      "First read conf file /media/data/sbulusu/datasets/complexworm/Results for CNN/configs-200-10-4.010-1.000-0.935.dat with size :torch.Size([5000, 2, 2, 10, 200])\n",
      "Read conf file /media/data/sbulusu/datasets/complexworm/Results for CNN/configs-200-10-4.010-1.000-0.935.dat with size :torch.Size([5000, 2, 2, 10, 200])\n",
      "Loading 5000 confs\n"
     ]
    },
    {
     "data": {
      "application/vnd.jupyter.widget-view+json": {
       "model_id": "0da7b80ab4394c02bf3ad38f68e22521",
       "version_major": 2,
       "version_minor": 0
      },
      "text/plain": [
       "HBox(children=(FloatProgress(value=0.0, max=5000.0), HTML(value='')))"
      ]
     },
     "metadata": {},
     "output_type": "display_data"
    },
    {
     "name": "stdout",
     "output_type": "stream",
     "text": [
      "\n",
      "Processing conf file /media/data/sbulusu/datasets/complexworm/Results for CNN/configs-200-10-4.010-1.000-0.930.dat\n",
      "['configs', '200', '10', '4.010', '1.000', '0.930']\n",
      "loaded file name labels ['nt', 'nx', 'eta', 'lambda', 'mu']\n",
      "for label n\n",
      "loading labels file /media/data/sbulusu/datasets/complexworm/Results for CNN/n-200-10-4.010-1.000-0.930.dat\n",
      "for label phi2\n",
      "loading labels file /media/data/sbulusu/datasets/complexworm/Results for CNN/phi2-200-10-4.010-1.000-0.930.dat\n",
      "First read conf file /media/data/sbulusu/datasets/complexworm/Results for CNN/configs-200-10-4.010-1.000-0.930.dat with size :torch.Size([5000, 2, 2, 10, 200])\n",
      "Read conf file /media/data/sbulusu/datasets/complexworm/Results for CNN/configs-200-10-4.010-1.000-0.930.dat with size :torch.Size([5000, 2, 2, 10, 200])\n",
      "Loading 5000 confs\n"
     ]
    },
    {
     "data": {
      "application/vnd.jupyter.widget-view+json": {
       "model_id": "5b82099dad244147bcf1b42055b5a05f",
       "version_major": 2,
       "version_minor": 0
      },
      "text/plain": [
       "HBox(children=(FloatProgress(value=0.0, max=5000.0), HTML(value='')))"
      ]
     },
     "metadata": {},
     "output_type": "display_data"
    },
    {
     "name": "stdout",
     "output_type": "stream",
     "text": [
      "\n",
      "Processing conf file /media/data/sbulusu/datasets/complexworm/Results for CNN/configs-200-10-4.010-1.000-1.015.dat\n",
      "['configs', '200', '10', '4.010', '1.000', '1.015']\n",
      "loaded file name labels ['nt', 'nx', 'eta', 'lambda', 'mu']\n",
      "for label n\n",
      "loading labels file /media/data/sbulusu/datasets/complexworm/Results for CNN/n-200-10-4.010-1.000-1.015.dat\n",
      "for label phi2\n",
      "loading labels file /media/data/sbulusu/datasets/complexworm/Results for CNN/phi2-200-10-4.010-1.000-1.015.dat\n",
      "First read conf file /media/data/sbulusu/datasets/complexworm/Results for CNN/configs-200-10-4.010-1.000-1.015.dat with size :torch.Size([5000, 2, 2, 10, 200])\n",
      "Read conf file /media/data/sbulusu/datasets/complexworm/Results for CNN/configs-200-10-4.010-1.000-1.015.dat with size :torch.Size([5000, 2, 2, 10, 200])\n",
      "Loading 5000 confs\n"
     ]
    },
    {
     "data": {
      "application/vnd.jupyter.widget-view+json": {
       "model_id": "6a2dcea79f9e43a8a7fd27443c212c51",
       "version_major": 2,
       "version_minor": 0
      },
      "text/plain": [
       "HBox(children=(FloatProgress(value=0.0, max=5000.0), HTML(value='')))"
      ]
     },
     "metadata": {},
     "output_type": "display_data"
    },
    {
     "name": "stdout",
     "output_type": "stream",
     "text": [
      "\n",
      "Processing conf file /media/data/sbulusu/datasets/complexworm/Results for CNN/configs-200-10-4.010-1.000-1.045.dat\n",
      "['configs', '200', '10', '4.010', '1.000', '1.045']\n",
      "loaded file name labels ['nt', 'nx', 'eta', 'lambda', 'mu']\n",
      "for label n\n",
      "loading labels file /media/data/sbulusu/datasets/complexworm/Results for CNN/n-200-10-4.010-1.000-1.045.dat\n",
      "for label phi2\n",
      "loading labels file /media/data/sbulusu/datasets/complexworm/Results for CNN/phi2-200-10-4.010-1.000-1.045.dat\n",
      "First read conf file /media/data/sbulusu/datasets/complexworm/Results for CNN/configs-200-10-4.010-1.000-1.045.dat with size :torch.Size([5000, 2, 2, 10, 200])\n",
      "Read conf file /media/data/sbulusu/datasets/complexworm/Results for CNN/configs-200-10-4.010-1.000-1.045.dat with size :torch.Size([5000, 2, 2, 10, 200])\n",
      "Loading 5000 confs\n"
     ]
    },
    {
     "data": {
      "application/vnd.jupyter.widget-view+json": {
       "model_id": "1ccc87e3f6ba41e5b3fb2e2e1acf242e",
       "version_major": 2,
       "version_minor": 0
      },
      "text/plain": [
       "HBox(children=(FloatProgress(value=0.0, max=5000.0), HTML(value='')))"
      ]
     },
     "metadata": {},
     "output_type": "display_data"
    },
    {
     "name": "stdout",
     "output_type": "stream",
     "text": [
      "\n",
      "Processing conf file /media/data/sbulusu/datasets/complexworm/Results for CNN/configs-200-10-4.010-1.000-1.035.dat\n",
      "['configs', '200', '10', '4.010', '1.000', '1.035']\n",
      "loaded file name labels ['nt', 'nx', 'eta', 'lambda', 'mu']\n",
      "for label n\n",
      "loading labels file /media/data/sbulusu/datasets/complexworm/Results for CNN/n-200-10-4.010-1.000-1.035.dat\n",
      "for label phi2\n",
      "loading labels file /media/data/sbulusu/datasets/complexworm/Results for CNN/phi2-200-10-4.010-1.000-1.035.dat\n",
      "First read conf file /media/data/sbulusu/datasets/complexworm/Results for CNN/configs-200-10-4.010-1.000-1.035.dat with size :torch.Size([5000, 2, 2, 10, 200])\n",
      "Read conf file /media/data/sbulusu/datasets/complexworm/Results for CNN/configs-200-10-4.010-1.000-1.035.dat with size :torch.Size([5000, 2, 2, 10, 200])\n",
      "Loading 5000 confs\n"
     ]
    },
    {
     "data": {
      "application/vnd.jupyter.widget-view+json": {
       "model_id": "e2cae0e6546b4849852346ad18fd31c0",
       "version_major": 2,
       "version_minor": 0
      },
      "text/plain": [
       "HBox(children=(FloatProgress(value=0.0, max=5000.0), HTML(value='')))"
      ]
     },
     "metadata": {},
     "output_type": "display_data"
    },
    {
     "name": "stdout",
     "output_type": "stream",
     "text": [
      "\n",
      "Processing conf file /media/data/sbulusu/datasets/complexworm/Results for CNN/configs-200-10-4.010-1.000-0.965.dat\n",
      "['configs', '200', '10', '4.010', '1.000', '0.965']\n",
      "loaded file name labels ['nt', 'nx', 'eta', 'lambda', 'mu']\n",
      "for label n\n",
      "loading labels file /media/data/sbulusu/datasets/complexworm/Results for CNN/n-200-10-4.010-1.000-0.965.dat\n",
      "for label phi2\n",
      "loading labels file /media/data/sbulusu/datasets/complexworm/Results for CNN/phi2-200-10-4.010-1.000-0.965.dat\n",
      "First read conf file /media/data/sbulusu/datasets/complexworm/Results for CNN/configs-200-10-4.010-1.000-0.965.dat with size :torch.Size([5000, 2, 2, 10, 200])\n",
      "Read conf file /media/data/sbulusu/datasets/complexworm/Results for CNN/configs-200-10-4.010-1.000-0.965.dat with size :torch.Size([5000, 2, 2, 10, 200])\n",
      "Loading 5000 confs\n"
     ]
    },
    {
     "data": {
      "application/vnd.jupyter.widget-view+json": {
       "model_id": "669ea4bd544b4aefa25c33ad156d2335",
       "version_major": 2,
       "version_minor": 0
      },
      "text/plain": [
       "HBox(children=(FloatProgress(value=0.0, max=5000.0), HTML(value='')))"
      ]
     },
     "metadata": {},
     "output_type": "display_data"
    },
    {
     "name": "stdout",
     "output_type": "stream",
     "text": [
      "\n",
      "Processing conf file /media/data/sbulusu/datasets/complexworm/Results for CNN/configs-200-10-4.010-1.000-1.005.dat\n",
      "['configs', '200', '10', '4.010', '1.000', '1.005']\n",
      "loaded file name labels ['nt', 'nx', 'eta', 'lambda', 'mu']\n",
      "for label n\n",
      "loading labels file /media/data/sbulusu/datasets/complexworm/Results for CNN/n-200-10-4.010-1.000-1.005.dat\n",
      "for label phi2\n",
      "loading labels file /media/data/sbulusu/datasets/complexworm/Results for CNN/phi2-200-10-4.010-1.000-1.005.dat\n",
      "First read conf file /media/data/sbulusu/datasets/complexworm/Results for CNN/configs-200-10-4.010-1.000-1.005.dat with size :torch.Size([5000, 2, 2, 10, 200])\n",
      "Read conf file /media/data/sbulusu/datasets/complexworm/Results for CNN/configs-200-10-4.010-1.000-1.005.dat with size :torch.Size([5000, 2, 2, 10, 200])\n",
      "Loading 5000 confs\n"
     ]
    },
    {
     "data": {
      "application/vnd.jupyter.widget-view+json": {
       "model_id": "cd6c24d267924dd2b1991933ada5e431",
       "version_major": 2,
       "version_minor": 0
      },
      "text/plain": [
       "HBox(children=(FloatProgress(value=0.0, max=5000.0), HTML(value='')))"
      ]
     },
     "metadata": {},
     "output_type": "display_data"
    },
    {
     "name": "stdout",
     "output_type": "stream",
     "text": [
      "\n",
      "Processing conf file /media/data/sbulusu/datasets/complexworm/Results for CNN/configs-200-10-4.010-1.000-0.985.dat\n",
      "['configs', '200', '10', '4.010', '1.000', '0.985']\n",
      "loaded file name labels ['nt', 'nx', 'eta', 'lambda', 'mu']\n",
      "for label n\n",
      "loading labels file /media/data/sbulusu/datasets/complexworm/Results for CNN/n-200-10-4.010-1.000-0.985.dat\n",
      "for label phi2\n",
      "loading labels file /media/data/sbulusu/datasets/complexworm/Results for CNN/phi2-200-10-4.010-1.000-0.985.dat\n",
      "First read conf file /media/data/sbulusu/datasets/complexworm/Results for CNN/configs-200-10-4.010-1.000-0.985.dat with size :torch.Size([5000, 2, 2, 10, 200])\n",
      "Read conf file /media/data/sbulusu/datasets/complexworm/Results for CNN/configs-200-10-4.010-1.000-0.985.dat with size :torch.Size([5000, 2, 2, 10, 200])\n",
      "Loading 5000 confs\n"
     ]
    },
    {
     "data": {
      "application/vnd.jupyter.widget-view+json": {
       "model_id": "6a4a80838bf343d9a2b367ad6269b458",
       "version_major": 2,
       "version_minor": 0
      },
      "text/plain": [
       "HBox(children=(FloatProgress(value=0.0, max=5000.0), HTML(value='')))"
      ]
     },
     "metadata": {},
     "output_type": "display_data"
    },
    {
     "name": "stdout",
     "output_type": "stream",
     "text": [
      "\n",
      "Processing conf file /media/data/sbulusu/datasets/complexworm/Results for CNN/configs-200-10-4.010-1.000-0.955.dat\n",
      "['configs', '200', '10', '4.010', '1.000', '0.955']\n",
      "loaded file name labels ['nt', 'nx', 'eta', 'lambda', 'mu']\n",
      "for label n\n",
      "loading labels file /media/data/sbulusu/datasets/complexworm/Results for CNN/n-200-10-4.010-1.000-0.955.dat\n",
      "for label phi2\n",
      "loading labels file /media/data/sbulusu/datasets/complexworm/Results for CNN/phi2-200-10-4.010-1.000-0.955.dat\n",
      "First read conf file /media/data/sbulusu/datasets/complexworm/Results for CNN/configs-200-10-4.010-1.000-0.955.dat with size :torch.Size([5000, 2, 2, 10, 200])\n",
      "Read conf file /media/data/sbulusu/datasets/complexworm/Results for CNN/configs-200-10-4.010-1.000-0.955.dat with size :torch.Size([5000, 2, 2, 10, 200])\n",
      "Loading 5000 confs\n"
     ]
    },
    {
     "data": {
      "application/vnd.jupyter.widget-view+json": {
       "model_id": "0f85baabb7be44d8bed790a12bc78539",
       "version_major": 2,
       "version_minor": 0
      },
      "text/plain": [
       "HBox(children=(FloatProgress(value=0.0, max=5000.0), HTML(value='')))"
      ]
     },
     "metadata": {},
     "output_type": "display_data"
    },
    {
     "name": "stdout",
     "output_type": "stream",
     "text": [
      "\n",
      "Processing conf file /media/data/sbulusu/datasets/complexworm/Results for CNN/configs-200-10-4.010-1.000-1.030.dat\n",
      "['configs', '200', '10', '4.010', '1.000', '1.030']\n",
      "loaded file name labels ['nt', 'nx', 'eta', 'lambda', 'mu']\n",
      "for label n\n",
      "loading labels file /media/data/sbulusu/datasets/complexworm/Results for CNN/n-200-10-4.010-1.000-1.030.dat\n",
      "for label phi2\n",
      "loading labels file /media/data/sbulusu/datasets/complexworm/Results for CNN/phi2-200-10-4.010-1.000-1.030.dat\n",
      "First read conf file /media/data/sbulusu/datasets/complexworm/Results for CNN/configs-200-10-4.010-1.000-1.030.dat with size :torch.Size([5000, 2, 2, 10, 200])\n",
      "Read conf file /media/data/sbulusu/datasets/complexworm/Results for CNN/configs-200-10-4.010-1.000-1.030.dat with size :torch.Size([5000, 2, 2, 10, 200])\n",
      "Loading 5000 confs\n"
     ]
    },
    {
     "data": {
      "application/vnd.jupyter.widget-view+json": {
       "model_id": "ae3536f466b04fb6988de5a560768337",
       "version_major": 2,
       "version_minor": 0
      },
      "text/plain": [
       "HBox(children=(FloatProgress(value=0.0, max=5000.0), HTML(value='')))"
      ]
     },
     "metadata": {},
     "output_type": "display_data"
    },
    {
     "name": "stdout",
     "output_type": "stream",
     "text": [
      "\n",
      "Processing conf file /media/data/sbulusu/datasets/complexworm/Results for CNN/configs-200-10-4.010-1.000-0.940.dat\n",
      "['configs', '200', '10', '4.010', '1.000', '0.940']\n",
      "loaded file name labels ['nt', 'nx', 'eta', 'lambda', 'mu']\n",
      "for label n\n",
      "loading labels file /media/data/sbulusu/datasets/complexworm/Results for CNN/n-200-10-4.010-1.000-0.940.dat\n",
      "for label phi2\n",
      "loading labels file /media/data/sbulusu/datasets/complexworm/Results for CNN/phi2-200-10-4.010-1.000-0.940.dat\n",
      "First read conf file /media/data/sbulusu/datasets/complexworm/Results for CNN/configs-200-10-4.010-1.000-0.940.dat with size :torch.Size([5000, 2, 2, 10, 200])\n",
      "Read conf file /media/data/sbulusu/datasets/complexworm/Results for CNN/configs-200-10-4.010-1.000-0.940.dat with size :torch.Size([5000, 2, 2, 10, 200])\n",
      "Loading 5000 confs\n"
     ]
    },
    {
     "data": {
      "application/vnd.jupyter.widget-view+json": {
       "model_id": "b48ccbcccb1b44a2b154d7101e672f4b",
       "version_major": 2,
       "version_minor": 0
      },
      "text/plain": [
       "HBox(children=(FloatProgress(value=0.0, max=5000.0), HTML(value='')))"
      ]
     },
     "metadata": {},
     "output_type": "display_data"
    },
    {
     "name": "stdout",
     "output_type": "stream",
     "text": [
      "\n",
      "Processing conf file /media/data/sbulusu/datasets/complexworm/Results for CNN/configs-200-10-4.010-1.000-0.960.dat\n",
      "['configs', '200', '10', '4.010', '1.000', '0.960']\n",
      "loaded file name labels ['nt', 'nx', 'eta', 'lambda', 'mu']\n",
      "for label n\n",
      "loading labels file /media/data/sbulusu/datasets/complexworm/Results for CNN/n-200-10-4.010-1.000-0.960.dat\n",
      "for label phi2\n",
      "loading labels file /media/data/sbulusu/datasets/complexworm/Results for CNN/phi2-200-10-4.010-1.000-0.960.dat\n",
      "First read conf file /media/data/sbulusu/datasets/complexworm/Results for CNN/configs-200-10-4.010-1.000-0.960.dat with size :torch.Size([5000, 2, 2, 10, 200])\n",
      "Read conf file /media/data/sbulusu/datasets/complexworm/Results for CNN/configs-200-10-4.010-1.000-0.960.dat with size :torch.Size([5000, 2, 2, 10, 200])\n",
      "Loading 5000 confs\n"
     ]
    },
    {
     "data": {
      "application/vnd.jupyter.widget-view+json": {
       "model_id": "898e81d5bf4e45108ec2c00b2e203f5e",
       "version_major": 2,
       "version_minor": 0
      },
      "text/plain": [
       "HBox(children=(FloatProgress(value=0.0, max=5000.0), HTML(value='')))"
      ]
     },
     "metadata": {},
     "output_type": "display_data"
    },
    {
     "name": "stdout",
     "output_type": "stream",
     "text": [
      "\n",
      "Processing conf file /media/data/sbulusu/datasets/complexworm/Results for CNN/configs-200-10-4.010-1.000-1.025.dat\n",
      "['configs', '200', '10', '4.010', '1.000', '1.025']\n",
      "loaded file name labels ['nt', 'nx', 'eta', 'lambda', 'mu']\n",
      "for label n\n",
      "loading labels file /media/data/sbulusu/datasets/complexworm/Results for CNN/n-200-10-4.010-1.000-1.025.dat\n",
      "for label phi2\n",
      "loading labels file /media/data/sbulusu/datasets/complexworm/Results for CNN/phi2-200-10-4.010-1.000-1.025.dat\n",
      "First read conf file /media/data/sbulusu/datasets/complexworm/Results for CNN/configs-200-10-4.010-1.000-1.025.dat with size :torch.Size([5000, 2, 2, 10, 200])\n",
      "Read conf file /media/data/sbulusu/datasets/complexworm/Results for CNN/configs-200-10-4.010-1.000-1.025.dat with size :torch.Size([5000, 2, 2, 10, 200])\n",
      "Loading 5000 confs\n"
     ]
    },
    {
     "data": {
      "application/vnd.jupyter.widget-view+json": {
       "model_id": "95202c0da5c045a6979f5f650e4b4b1f",
       "version_major": 2,
       "version_minor": 0
      },
      "text/plain": [
       "HBox(children=(FloatProgress(value=0.0, max=5000.0), HTML(value='')))"
      ]
     },
     "metadata": {},
     "output_type": "display_data"
    },
    {
     "name": "stdout",
     "output_type": "stream",
     "text": [
      "\n",
      "Processing conf file /media/data/sbulusu/datasets/complexworm/Results for CNN/configs-200-10-4.010-1.000-1.040.dat\n",
      "['configs', '200', '10', '4.010', '1.000', '1.040']\n",
      "loaded file name labels ['nt', 'nx', 'eta', 'lambda', 'mu']\n",
      "for label n\n",
      "loading labels file /media/data/sbulusu/datasets/complexworm/Results for CNN/n-200-10-4.010-1.000-1.040.dat\n",
      "for label phi2\n",
      "loading labels file /media/data/sbulusu/datasets/complexworm/Results for CNN/phi2-200-10-4.010-1.000-1.040.dat\n",
      "First read conf file /media/data/sbulusu/datasets/complexworm/Results for CNN/configs-200-10-4.010-1.000-1.040.dat with size :torch.Size([5000, 2, 2, 10, 200])\n",
      "Read conf file /media/data/sbulusu/datasets/complexworm/Results for CNN/configs-200-10-4.010-1.000-1.040.dat with size :torch.Size([5000, 2, 2, 10, 200])\n",
      "Loading 5000 confs\n"
     ]
    },
    {
     "data": {
      "application/vnd.jupyter.widget-view+json": {
       "model_id": "2de1892ac4844d639e1d42a38ae6b374",
       "version_major": 2,
       "version_minor": 0
      },
      "text/plain": [
       "HBox(children=(FloatProgress(value=0.0, max=5000.0), HTML(value='')))"
      ]
     },
     "metadata": {},
     "output_type": "display_data"
    },
    {
     "name": "stdout",
     "output_type": "stream",
     "text": [
      "\n",
      "Processing conf file /media/data/sbulusu/datasets/complexworm/Results for CNN/configs-200-10-4.010-1.000-0.980.dat\n",
      "['configs', '200', '10', '4.010', '1.000', '0.980']\n",
      "loaded file name labels ['nt', 'nx', 'eta', 'lambda', 'mu']\n",
      "for label n\n",
      "loading labels file /media/data/sbulusu/datasets/complexworm/Results for CNN/n-200-10-4.010-1.000-0.980.dat\n",
      "for label phi2\n",
      "loading labels file /media/data/sbulusu/datasets/complexworm/Results for CNN/phi2-200-10-4.010-1.000-0.980.dat\n",
      "First read conf file /media/data/sbulusu/datasets/complexworm/Results for CNN/configs-200-10-4.010-1.000-0.980.dat with size :torch.Size([5000, 2, 2, 10, 200])\n",
      "Read conf file /media/data/sbulusu/datasets/complexworm/Results for CNN/configs-200-10-4.010-1.000-0.980.dat with size :torch.Size([5000, 2, 2, 10, 200])\n",
      "Loading 5000 confs\n"
     ]
    },
    {
     "data": {
      "application/vnd.jupyter.widget-view+json": {
       "model_id": "bc6f245e355b43dab053b1ad57a0f39d",
       "version_major": 2,
       "version_minor": 0
      },
      "text/plain": [
       "HBox(children=(FloatProgress(value=0.0, max=5000.0), HTML(value='')))"
      ]
     },
     "metadata": {},
     "output_type": "display_data"
    },
    {
     "name": "stdout",
     "output_type": "stream",
     "text": [
      "\n",
      "Processing conf file /media/data/sbulusu/datasets/complexworm/Results for CNN/configs-200-10-4.010-1.000-0.910.dat\n",
      "['configs', '200', '10', '4.010', '1.000', '0.910']\n",
      "loaded file name labels ['nt', 'nx', 'eta', 'lambda', 'mu']\n",
      "for label n\n",
      "loading labels file /media/data/sbulusu/datasets/complexworm/Results for CNN/n-200-10-4.010-1.000-0.910.dat\n",
      "for label phi2\n",
      "loading labels file /media/data/sbulusu/datasets/complexworm/Results for CNN/phi2-200-10-4.010-1.000-0.910.dat\n",
      "First read conf file /media/data/sbulusu/datasets/complexworm/Results for CNN/configs-200-10-4.010-1.000-0.910.dat with size :torch.Size([5000, 2, 2, 10, 200])\n",
      "Read conf file /media/data/sbulusu/datasets/complexworm/Results for CNN/configs-200-10-4.010-1.000-0.910.dat with size :torch.Size([5000, 2, 2, 10, 200])\n",
      "Loading 5000 confs\n"
     ]
    },
    {
     "data": {
      "application/vnd.jupyter.widget-view+json": {
       "model_id": "002ef8de44c84e33ac123f1cac025598",
       "version_major": 2,
       "version_minor": 0
      },
      "text/plain": [
       "HBox(children=(FloatProgress(value=0.0, max=5000.0), HTML(value='')))"
      ]
     },
     "metadata": {},
     "output_type": "display_data"
    },
    {
     "name": "stdout",
     "output_type": "stream",
     "text": [
      "\n",
      "Processing conf file /media/data/sbulusu/datasets/complexworm/Results for CNN/configs-200-10-4.010-1.000-0.990.dat\n",
      "['configs', '200', '10', '4.010', '1.000', '0.990']\n",
      "loaded file name labels ['nt', 'nx', 'eta', 'lambda', 'mu']\n",
      "for label n\n",
      "loading labels file /media/data/sbulusu/datasets/complexworm/Results for CNN/n-200-10-4.010-1.000-0.990.dat\n",
      "for label phi2\n",
      "loading labels file /media/data/sbulusu/datasets/complexworm/Results for CNN/phi2-200-10-4.010-1.000-0.990.dat\n",
      "First read conf file /media/data/sbulusu/datasets/complexworm/Results for CNN/configs-200-10-4.010-1.000-0.990.dat with size :torch.Size([5000, 2, 2, 10, 200])\n",
      "Read conf file /media/data/sbulusu/datasets/complexworm/Results for CNN/configs-200-10-4.010-1.000-0.990.dat with size :torch.Size([5000, 2, 2, 10, 200])\n",
      "Loading 5000 confs\n"
     ]
    },
    {
     "data": {
      "application/vnd.jupyter.widget-view+json": {
       "model_id": "8383b4817a5546c1ae487cbd3b18a29a",
       "version_major": 2,
       "version_minor": 0
      },
      "text/plain": [
       "HBox(children=(FloatProgress(value=0.0, max=5000.0), HTML(value='')))"
      ]
     },
     "metadata": {},
     "output_type": "display_data"
    },
    {
     "name": "stdout",
     "output_type": "stream",
     "text": [
      "\n",
      "Processing conf file /media/data/sbulusu/datasets/complexworm/Results for CNN/configs-200-10-4.010-1.000-0.920.dat\n",
      "['configs', '200', '10', '4.010', '1.000', '0.920']\n",
      "loaded file name labels ['nt', 'nx', 'eta', 'lambda', 'mu']\n",
      "for label n\n",
      "loading labels file /media/data/sbulusu/datasets/complexworm/Results for CNN/n-200-10-4.010-1.000-0.920.dat\n",
      "for label phi2\n",
      "loading labels file /media/data/sbulusu/datasets/complexworm/Results for CNN/phi2-200-10-4.010-1.000-0.920.dat\n",
      "First read conf file /media/data/sbulusu/datasets/complexworm/Results for CNN/configs-200-10-4.010-1.000-0.920.dat with size :torch.Size([5000, 2, 2, 10, 200])\n",
      "Read conf file /media/data/sbulusu/datasets/complexworm/Results for CNN/configs-200-10-4.010-1.000-0.920.dat with size :torch.Size([5000, 2, 2, 10, 200])\n",
      "Loading 5000 confs\n"
     ]
    },
    {
     "data": {
      "application/vnd.jupyter.widget-view+json": {
       "model_id": "d9d4676671e04a7a8b644bf65c7059a5",
       "version_major": 2,
       "version_minor": 0
      },
      "text/plain": [
       "HBox(children=(FloatProgress(value=0.0, max=5000.0), HTML(value='')))"
      ]
     },
     "metadata": {},
     "output_type": "display_data"
    },
    {
     "name": "stdout",
     "output_type": "stream",
     "text": [
      "\n",
      "Processing conf file /media/data/sbulusu/datasets/complexworm/Results for CNN/configs-200-10-4.010-1.000-1.050.dat\n",
      "['configs', '200', '10', '4.010', '1.000', '1.050']\n",
      "loaded file name labels ['nt', 'nx', 'eta', 'lambda', 'mu']\n",
      "for label n\n",
      "loading labels file /media/data/sbulusu/datasets/complexworm/Results for CNN/n-200-10-4.010-1.000-1.050.dat\n",
      "for label phi2\n",
      "loading labels file /media/data/sbulusu/datasets/complexworm/Results for CNN/phi2-200-10-4.010-1.000-1.050.dat\n",
      "First read conf file /media/data/sbulusu/datasets/complexworm/Results for CNN/configs-200-10-4.010-1.000-1.050.dat with size :torch.Size([5000, 2, 2, 10, 200])\n",
      "Read conf file /media/data/sbulusu/datasets/complexworm/Results for CNN/configs-200-10-4.010-1.000-1.050.dat with size :torch.Size([5000, 2, 2, 10, 200])\n",
      "Loading 5000 confs\n"
     ]
    },
    {
     "data": {
      "application/vnd.jupyter.widget-view+json": {
       "model_id": "b7f3d9c3f40642579ca632e7219dbc25",
       "version_major": 2,
       "version_minor": 0
      },
      "text/plain": [
       "HBox(children=(FloatProgress(value=0.0, max=5000.0), HTML(value='')))"
      ]
     },
     "metadata": {},
     "output_type": "display_data"
    },
    {
     "name": "stdout",
     "output_type": "stream",
     "text": [
      "\n",
      "Processing conf file /media/data/sbulusu/datasets/complexworm/Results for CNN/configs-200-10-4.010-1.000-1.020.dat\n",
      "['configs', '200', '10', '4.010', '1.000', '1.020']\n",
      "loaded file name labels ['nt', 'nx', 'eta', 'lambda', 'mu']\n",
      "for label n\n",
      "loading labels file /media/data/sbulusu/datasets/complexworm/Results for CNN/n-200-10-4.010-1.000-1.020.dat\n",
      "for label phi2\n",
      "loading labels file /media/data/sbulusu/datasets/complexworm/Results for CNN/phi2-200-10-4.010-1.000-1.020.dat\n",
      "First read conf file /media/data/sbulusu/datasets/complexworm/Results for CNN/configs-200-10-4.010-1.000-1.020.dat with size :torch.Size([5000, 2, 2, 10, 200])\n",
      "Read conf file /media/data/sbulusu/datasets/complexworm/Results for CNN/configs-200-10-4.010-1.000-1.020.dat with size :torch.Size([5000, 2, 2, 10, 200])\n",
      "Loading 5000 confs\n"
     ]
    },
    {
     "data": {
      "application/vnd.jupyter.widget-view+json": {
       "model_id": "e67db504c1ff429cb76e2c510e0c6a22",
       "version_major": 2,
       "version_minor": 0
      },
      "text/plain": [
       "HBox(children=(FloatProgress(value=0.0, max=5000.0), HTML(value='')))"
      ]
     },
     "metadata": {},
     "output_type": "display_data"
    },
    {
     "name": "stdout",
     "output_type": "stream",
     "text": [
      "\n",
      "Processing conf file /media/data/sbulusu/datasets/complexworm/Results for CNN/configs-200-10-4.010-1.000-1.000.dat\n",
      "['configs', '200', '10', '4.010', '1.000', '1.000']\n",
      "loaded file name labels ['nt', 'nx', 'eta', 'lambda', 'mu']\n",
      "for label n\n",
      "loading labels file /media/data/sbulusu/datasets/complexworm/Results for CNN/n-200-10-4.010-1.000-1.000.dat\n",
      "for label phi2\n",
      "loading labels file /media/data/sbulusu/datasets/complexworm/Results for CNN/phi2-200-10-4.010-1.000-1.000.dat\n",
      "First read conf file /media/data/sbulusu/datasets/complexworm/Results for CNN/configs-200-10-4.010-1.000-1.000.dat with size :torch.Size([5000, 2, 2, 10, 200])\n",
      "Read conf file /media/data/sbulusu/datasets/complexworm/Results for CNN/configs-200-10-4.010-1.000-1.000.dat with size :torch.Size([5000, 2, 2, 10, 200])\n",
      "Loading 5000 confs\n"
     ]
    },
    {
     "data": {
      "application/vnd.jupyter.widget-view+json": {
       "model_id": "bd314f4adec140bb847a480689e8c3bc",
       "version_major": 2,
       "version_minor": 0
      },
      "text/plain": [
       "HBox(children=(FloatProgress(value=0.0, max=5000.0), HTML(value='')))"
      ]
     },
     "metadata": {},
     "output_type": "display_data"
    },
    {
     "name": "stdout",
     "output_type": "stream",
     "text": [
      "\n",
      "\n",
      "last example loaded:\n",
      "{'conf': tensor([[[[ 0,  0,  0,  ...,  0,  0,  0],\n",
      "          [ 0,  0,  0,  ...,  0,  0,  0],\n",
      "          [ 0,  0,  0,  ...,  1,  1,  1],\n",
      "          ...,\n",
      "          [ 0,  1,  1,  ...,  0,  0,  0],\n",
      "          [ 1,  0,  0,  ...,  1,  1,  1],\n",
      "          [ 1,  1,  1,  ...,  0,  0,  0]],\n",
      "\n",
      "         [[-1,  0,  0,  ...,  0,  0,  0],\n",
      "          [-1,  0,  0,  ...,  0,  0,  0],\n",
      "          [ 0,  0,  0,  ...,  0,  0,  0],\n",
      "          ...,\n",
      "          [ 0, -1,  0,  ...,  0,  0,  0],\n",
      "          [ 0,  0,  0,  ..., -1,  0,  0],\n",
      "          [-1,  0,  0,  ...,  0,  0,  0]]],\n",
      "\n",
      "\n",
      "        [[[ 0,  0,  0,  ...,  0,  0,  1],\n",
      "          [ 0,  0,  0,  ...,  0,  0,  0],\n",
      "          [ 0,  0,  0,  ...,  0,  0,  0],\n",
      "          ...,\n",
      "          [ 0,  0,  0,  ...,  0,  0,  0],\n",
      "          [ 0,  0,  0,  ...,  0,  0,  0],\n",
      "          [ 0,  0,  0,  ...,  0,  0,  0]],\n",
      "\n",
      "         [[ 0,  0,  0,  ...,  0,  0,  0],\n",
      "          [ 0,  0,  0,  ...,  0,  0,  0],\n",
      "          [ 0,  0,  0,  ...,  0,  0,  0],\n",
      "          ...,\n",
      "          [ 0,  0,  0,  ...,  0,  1,  0],\n",
      "          [ 0,  0,  0,  ...,  0,  0,  0],\n",
      "          [ 0,  0,  0,  ...,  0,  0,  0]]]]), 'mu': 1.0, 'open': False, 'nt': 200.0, 'nx': 10.0, 'eta': 4.01, 'lambda': 1.0, 'phase': tensor(1.), 'n': 0.3, 'phi2': 0.36282588426, 'id': 144999}\n"
     ]
    }
   ],
   "source": [
    "#conf_file_dir = \"/media/data/sbulusu/datasets/complexworm/Results for CNN/configs-100-5-4.010-1.000-1.050.dat\"\n",
    "conf_file_dir = \"/media/data/sbulusu/datasets/complexworm/Results for CNN/\"\n",
    "\n",
    "#file_format_list = [\"configs-100-5*.dat\"]\n",
    "#file_format_list = [\"configs-100-5*50.dat\"]\n",
    "#file_format_list = [\"configs-50-2*.dat\"]\n",
    "#file_format_list = [\"configs-200-10*.dat\"]\n",
    "file_format_list = [\"configs-200-10*0.dat\"]\n",
    "#file_format_list = [\"configs-100-5-4.010-1.000-1.050.dat\"]\n",
    "\n",
    "label_names = [\"n\", \"phi2\"]\n",
    "labels_in_file_name = [\"nt\", \"nx\", \"eta\", \"lambda\", \"mu\"]\n",
    "\n",
    "dataset = open_worm_lat_dataset_load_new_lightning_dat.kl_dataset(conf_file_dir, file_format_list,\n",
    "                                                                  label_names, labels_in_file_name,\n",
    "                                                                  transform=None, device=device)"
   ]
  },
  {
   "cell_type": "code",
   "execution_count": 5,
   "metadata": {},
   "outputs": [
    {
     "data": {
      "text/plain": [
       "'\\nconf_file_dir = \"/media/data/sbulusu/datasets/complexworm/Results for CNN/\"\\n#conf_file_dir = \"/media/data/sbulusu/datasets/complexworm/Results for CNN/configs-100-5-4.010-1.000-1.050.dat\"\\n#file_format_list = [\"configs-100-5*.dat\"]\\nfile_format_list = [\"configs-100-5*50.dat\"]\\nlat_size = [5,100]\\ndim = len(lat_size)\\nconf_size = np.concatenate(([2],[dim],lat_size))\\ndataset_output_size = np.concatenate(([np.prod(conf_size[0:2])],conf_size[2:]))\\n\\nlabel_names = [\"n\", \"phi2\"]\\nlabels_in_file_name = [\"mu\", \"phase\"]\\n\\ndataset = lat_dataset_load_new_lightning.kl_dataset(conf_file_dir, file_format_list, conf_size, dataset_output_size, label_names, labels_in_file_name, transform=None, device=device)\\n'"
      ]
     },
     "execution_count": 5,
     "metadata": {},
     "output_type": "execute_result"
    }
   ],
   "source": [
    "\"\"\"\n",
    "conf_file_dir = \"/media/data/sbulusu/datasets/complexworm/Results for CNN/\"\n",
    "#conf_file_dir = \"/media/data/sbulusu/datasets/complexworm/Results for CNN/configs-100-5-4.010-1.000-1.050.dat\"\n",
    "#file_format_list = [\"configs-100-5*.dat\"]\n",
    "file_format_list = [\"configs-100-5*50.dat\"]\n",
    "lat_size = [5,100]\n",
    "dim = len(lat_size)\n",
    "conf_size = np.concatenate(([2],[dim],lat_size))\n",
    "dataset_output_size = np.concatenate(([np.prod(conf_size[0:2])],conf_size[2:]))\n",
    "\n",
    "label_names = [\"n\", \"phi2\"]\n",
    "labels_in_file_name = [\"mu\", \"phase\"]\n",
    "\n",
    "dataset = lat_dataset_load_new_lightning.kl_dataset(conf_file_dir, file_format_list, conf_size, dataset_output_size, label_names, labels_in_file_name, transform=None, device=device)\n",
    "\"\"\""
   ]
  },
  {
   "cell_type": "code",
   "execution_count": 6,
   "metadata": {},
   "outputs": [
    {
     "name": "stdout",
     "output_type": "stream",
     "text": [
      "[2, 2, 10, 200]\n"
     ]
    }
   ],
   "source": [
    "conf_size = list(dataset.data[0][\"conf\"].size())\n",
    "lat_size = conf_size[-2:]\n",
    "print(conf_size)"
   ]
  },
  {
   "cell_type": "code",
   "execution_count": 7,
   "metadata": {},
   "outputs": [
    {
     "name": "stdout",
     "output_type": "stream",
     "text": [
      "torch.Size([2, 2, 10, 200])\n"
     ]
    }
   ],
   "source": [
    "example = dataset.data[0]\n",
    "\n",
    "example_conf = example[\"conf\"]\n",
    "example_phi2 = example[\"phi2\"]\n",
    "\n",
    "print(example_conf.shape)"
   ]
  },
  {
   "cell_type": "code",
   "execution_count": 8,
   "metadata": {},
   "outputs": [
    {
     "name": "stdout",
     "output_type": "stream",
     "text": [
      "0.25584503517\n"
     ]
    }
   ],
   "source": [
    "print(example_phi2)"
   ]
  },
  {
   "cell_type": "code",
   "execution_count": 9,
   "metadata": {},
   "outputs": [
    {
     "data": {
      "text/plain": [
       "<matplotlib.image.AxesImage at 0x7f54043b8790>"
      ]
     },
     "execution_count": 9,
     "metadata": {},
     "output_type": "execute_result"
    },
    {
     "data": {
      "image/png": "[encoded data removed]",
      "text/plain": [
       "<Figure size 432x288 with 1 Axes>"
      ]
     },
     "metadata": {
      "needs_background": "light"
     },
     "output_type": "display_data"
    }
   ],
   "source": [
    "example_k_links = example_conf[0]\n",
    "plt.imshow(example_k_links[0])"
   ]
  },
  {
   "cell_type": "code",
   "execution_count": 10,
   "metadata": {},
   "outputs": [
    {
     "data": {
      "text/plain": [
       "<matplotlib.image.AxesImage at 0x7f5403c71a50>"
      ]
     },
     "execution_count": 10,
     "metadata": {},
     "output_type": "execute_result"
    },
    {
     "data": {
      "image/png": "[encoded data removed]",
      "text/plain": [
       "<Figure size 432x288 with 1 Axes>"
      ]
     },
     "metadata": {
      "needs_background": "light"
     },
     "output_type": "display_data"
    }
   ],
   "source": [
    "plt.imshow(example_k_links[1])"
   ]
  },
  {
   "cell_type": "code",
   "execution_count": 11,
   "metadata": {},
   "outputs": [
    {
     "data": {
      "text/plain": [
       "<matplotlib.image.AxesImage at 0x7f5403bdba10>"
      ]
     },
     "execution_count": 11,
     "metadata": {},
     "output_type": "execute_result"
    },
    {
     "data": {
      "image/png": "[encoded data removed]",
      "text/plain": [
       "<Figure size 432x288 with 1 Axes>"
      ]
     },
     "metadata": {
      "needs_background": "light"
     },
     "output_type": "display_data"
    }
   ],
   "source": [
    "example_l_links = example_conf[1]\n",
    "plt.imshow(example_l_links[1])"
   ]
  },
  {
   "cell_type": "code",
   "execution_count": 12,
   "metadata": {},
   "outputs": [
    {
     "data": {
      "text/plain": [
       "<matplotlib.image.AxesImage at 0x7f5403bc9410>"
      ]
     },
     "execution_count": 12,
     "metadata": {},
     "output_type": "execute_result"
    },
    {
     "data": {
      "image/png": "[encoded data removed]",
      "text/plain": [
       "<Figure size 432x288 with 1 Axes>"
      ]
     },
     "metadata": {
      "needs_background": "light"
     },
     "output_type": "display_data"
    }
   ],
   "source": [
    "plt.imshow(example_l_links[1])"
   ]
  },
  {
   "cell_type": "code",
   "execution_count": 13,
   "metadata": {},
   "outputs": [
    {
     "data": {
      "text/plain": [
       "torch.Size([2, 2, 10, 200])"
      ]
     },
     "execution_count": 13,
     "metadata": {},
     "output_type": "execute_result"
    }
   ],
   "source": [
    "dataset.data[0][\"conf\"].size()"
   ]
  },
  {
   "cell_type": "code",
   "execution_count": 14,
   "metadata": {},
   "outputs": [],
   "source": [
    "\"\"\"plot phase transition\"\"\"\n",
    "\n",
    "ns = torch.zeros(len(dataset.data))\n",
    "phi2s = torch.zeros(len(dataset.data))\n",
    "mus = torch.zeros(len(dataset.data))\n",
    "\n",
    "\"plot observables against mu\"\n",
    "for i in range(len(dataset.data)):\n",
    "    \n",
    "    #conf = dataset.data[i][\"conf\"]\n",
    "    #k_links = conf[0]\n",
    "    #l_links = conf[1]\n",
    "    \n",
    "    phi2 = dataset.data[i][\"phi2\"]\n",
    "    n = dataset.data[i][\"n\"]\n",
    "    \n",
    "    phi2s[i] = phi2\n",
    "    ns[i] = n\n",
    "    \n",
    "    mu = dataset.data[i][\"mu\"]\n",
    "    mus[i] = mu"
   ]
  },
  {
   "cell_type": "code",
   "execution_count": 15,
   "metadata": {},
   "outputs": [
    {
     "data": {
      "text/plain": [
       "<matplotlib.collections.PathCollection at 0x7f5403b2ea10>"
      ]
     },
     "execution_count": 15,
     "metadata": {},
     "output_type": "execute_result"
    },
    {
     "data": {
      "image/png": "[encoded data removed]",
      "text/plain": [
       "<Figure size 432x288 with 1 Axes>"
      ]
     },
     "metadata": {
      "needs_background": "light"
     },
     "output_type": "display_data"
    }
   ],
   "source": [
    "plt.scatter(mus, ns)"
   ]
  },
  {
   "cell_type": "code",
   "execution_count": 16,
   "metadata": {},
   "outputs": [
    {
     "data": {
      "text/plain": [
       "<matplotlib.collections.PathCollection at 0x7f5403b2e8d0>"
      ]
     },
     "execution_count": 16,
     "metadata": {},
     "output_type": "execute_result"
    },
    {
     "data": {
      "image/png": "[encoded data removed]",
      "text/plain": [
       "<Figure size 432x288 with 1 Axes>"
      ]
     },
     "metadata": {
      "needs_background": "light"
     },
     "output_type": "display_data"
    }
   ],
   "source": [
    "plt.scatter(mus, phi2s)"
   ]
  },
  {
   "cell_type": "code",
   "execution_count": 17,
   "metadata": {},
   "outputs": [],
   "source": [
    "unique_mus = np.unique(mus)\n",
    "num_mus = len(unique_mus)"
   ]
  },
  {
   "cell_type": "code",
   "execution_count": 18,
   "metadata": {},
   "outputs": [],
   "source": [
    "##to be able to plot the observables against mu, they have to be sorted with respect to it\n",
    "phi2s_mu = []\n",
    "ns_mu = []\n",
    "\n",
    "for mu_val in unique_mus:\n",
    "    ##find which examples have a particular mu value (mu_val)\n",
    "    mu_loc = np.where(mus == mu_val)[0]\n",
    "    ##find the labels and prediction of observables which correspond to these examples\n",
    "    phi2_mu = phi2s[mu_loc]\n",
    "    n_mu = ns[mu_loc]\n",
    "    \n",
    "    phi2s_mu.append(phi2_mu)\n",
    "    ns_mu.append(n_mu)"
   ]
  },
  {
   "cell_type": "code",
   "execution_count": 19,
   "metadata": {},
   "outputs": [
    {
     "name": "stdout",
     "output_type": "stream",
     "text": [
      "[tensor([0.2511, 0.2618, 0.2576,  ..., 0.2588, 0.2583, 0.2575]), tensor([0.2568, 0.2521, 0.2624,  ..., 0.2621, 0.2564, 0.2557]), tensor([0.2604, 0.2566, 0.2559,  ..., 0.2593, 0.2563, 0.2505]), tensor([0.2592, 0.2549, 0.2559,  ..., 0.2577, 0.2616, 0.2536]), tensor([0.2990, 0.2997, 0.2660,  ..., 0.2590, 0.2560, 0.2559]), tensor([0.2581, 0.2580, 0.2598,  ..., 0.2878, 0.3015, 0.2970]), tensor([0.2528, 0.2561, 0.2562,  ..., 0.2534, 0.2518, 0.2553]), tensor([0.2558, 0.2889, 0.2941,  ..., 0.2677, 0.2597, 0.2565]), tensor([0.2912, 0.3295, 0.3305,  ..., 0.3243, 0.3188, 0.2987]), tensor([0.2905, 0.2912, 0.2542,  ..., 0.2961, 0.2948, 0.2939]), tensor([0.2948, 0.3233, 0.2974,  ..., 0.2994, 0.2559, 0.2576]), tensor([0.2511, 0.2605, 0.2884,  ..., 0.3295, 0.3276, 0.2959]), tensor([0.2909, 0.2867, 0.2920,  ..., 0.3231, 0.3297, 0.3228]), tensor([0.2593, 0.3283, 0.3305,  ..., 0.3592, 0.3613, 0.3328]), tensor([0.3277, 0.3292, 0.3253,  ..., 0.3233, 0.3627, 0.3631]), tensor([0.3326, 0.3666, 0.3645,  ..., 0.3690, 0.3653, 0.3569]), tensor([0.2548, 0.3227, 0.3263,  ..., 0.3548, 0.3616, 0.3622]), tensor([0.3272, 0.3638, 0.3653,  ..., 0.3582, 0.3644, 0.3572]), tensor([0.3575, 0.3620, 0.3657,  ..., 0.3652, 0.3624, 0.3628]), tensor([0.3611, 0.3603, 0.3565,  ..., 0.3563, 0.3633, 0.3959]), tensor([0.3253, 0.3892, 0.4020,  ..., 0.4015, 0.3672, 0.3939]), tensor([0.3545, 0.3901, 0.3995,  ..., 0.3990, 0.3985, 0.3868]), tensor([0.3900, 0.3919, 0.3899,  ..., 0.3903, 0.3902, 0.3936]), tensor([0.3789, 0.4149, 0.3991,  ..., 0.3917, 0.4564, 0.4215]), tensor([0.3798, 0.4315, 0.3944,  ..., 0.4230, 0.4185, 0.3990]), tensor([0.3499, 0.3928, 0.4217,  ..., 0.3837, 0.4179, 0.4278]), tensor([0.3837, 0.4244, 0.4308,  ..., 0.4513, 0.4592, 0.3987]), tensor([0.4183, 0.4623, 0.4821,  ..., 0.3942, 0.4370, 0.4206]), tensor([0.4336, 0.4156, 0.4570,  ..., 0.4509, 0.4364, 0.4094])]\n"
     ]
    }
   ],
   "source": [
    "print(phi2s_mu)"
   ]
  },
  {
   "cell_type": "code",
   "execution_count": 20,
   "metadata": {},
   "outputs": [],
   "source": [
    "#phi2s_mu = np.array(phi2s_mu)\n",
    "#ns_mu = np.array(ns_mu)"
   ]
  },
  {
   "cell_type": "code",
   "execution_count": 21,
   "metadata": {},
   "outputs": [],
   "source": [
    "phi2s_mu = torch.stack(phi2s_mu)\n",
    "ns_mu = torch.stack(ns_mu)"
   ]
  },
  {
   "cell_type": "code",
   "execution_count": 22,
   "metadata": {},
   "outputs": [],
   "source": [
    "mean_phi2s_mu = torch.zeros(len(unique_mus))\n",
    "mean_ns_mu = torch.zeros(len(unique_mus))\n",
    "std_phi2s_mu = torch.zeros(len(unique_mus))\n",
    "std_ns_mu = torch.zeros(len(unique_mus))\n",
    "\n",
    "for mu_i in range(len(unique_mus)):\n",
    "    mean_phi2s_mu[mu_i] = torch.mean(phi2s_mu[mu_i])\n",
    "    mean_ns_mu[mu_i] = torch.mean(ns_mu[mu_i])\n",
    "    std_phi2s_mu[mu_i] = torch.std(phi2s_mu[mu_i])\n",
    "    std_ns_mu[mu_i] = torch.std(ns_mu[mu_i])\n",
    "    "
   ]
  },
  {
   "cell_type": "code",
   "execution_count": 23,
   "metadata": {},
   "outputs": [
    {
     "data": {
      "image/png": "[encoded data removed]",
      "text/plain": [
       "<Figure size 432x288 with 1 Axes>"
      ]
     },
     "metadata": {
      "needs_background": "light"
     },
     "output_type": "display_data"
    }
   ],
   "source": [
    "#plt.plot(unique_mus, mean_phi2s_mu)\n",
    "plt.errorbar(unique_mus, mean_phi2s_mu, yerr=std_phi2s_mu)\n",
    "plt.xlabel(\"μ\")\n",
    "plt.ylabel(\"ϕ²\")\n",
    "plt.savefig(f\"phi2_mu{lat_size}.png\")"
   ]
  },
  {
   "cell_type": "code",
   "execution_count": 24,
   "metadata": {},
   "outputs": [
    {
     "data": {
      "image/png": "[encoded data removed]",
      "text/plain": [
       "<Figure size 432x288 with 1 Axes>"
      ]
     },
     "metadata": {
      "needs_background": "light"
     },
     "output_type": "display_data"
    }
   ],
   "source": [
    "#plt.plot(unique_mus, mean_ns_mu)\n",
    "plt.errorbar(unique_mus, mean_ns_mu, yerr=std_ns_mu)\n",
    "plt.xlabel(\"μ\")\n",
    "plt.ylabel(\"n\")\n",
    "plt.savefig(f\"n_mu{lat_size}.png\")"
   ]
  },
  {
   "cell_type": "code",
   "execution_count": 25,
   "metadata": {},
   "outputs": [
    {
     "data": {
      "text/plain": [
       "'plot k and l link distribution'"
      ]
     },
     "execution_count": 25,
     "metadata": {},
     "output_type": "execute_result"
    }
   ],
   "source": [
    "\"\"\"plot k and l link distribution\"\"\"\n",
    "\n",
    "\n",
    "##dataset_links_shape = np.concatenate(([len(dataset)],[len(lat_size)],lat_size))\n",
    "#dataset_links_shape = np.concatenate(([len(dataset)],conf_size))\n",
    "#dataset_k_links = torch.zeros(*dataset_links_shape, dtype=int)\n",
    "#dataset_l_links = torch.zeros(*dataset_links_shape, dtype=int)\n",
    "#print(dataset_k_links.size())"
   ]
  },
  {
   "cell_type": "code",
   "execution_count": 26,
   "metadata": {},
   "outputs": [
    {
     "data": {
      "text/plain": [
       "29"
      ]
     },
     "execution_count": 26,
     "metadata": {},
     "output_type": "execute_result"
    }
   ],
   "source": [
    "len(dataset.file_confs)"
   ]
  },
  {
   "cell_type": "code",
   "execution_count": 27,
   "metadata": {},
   "outputs": [
    {
     "data": {
      "text/plain": [
       "torch.Size([5000, 2, 2, 10, 200])"
      ]
     },
     "execution_count": 27,
     "metadata": {},
     "output_type": "execute_result"
    }
   ],
   "source": [
    "dataset.file_confs[0].size()"
   ]
  },
  {
   "cell_type": "code",
   "execution_count": 28,
   "metadata": {},
   "outputs": [
    {
     "name": "stdout",
     "output_type": "stream",
     "text": [
      "torch.Size([145000, 2, 2, 10, 200])\n"
     ]
    }
   ],
   "source": [
    "dataset_confs = torch.cat(tuple(dataset.file_confs), dim=0)\n",
    "print(dataset_confs.size())"
   ]
  },
  {
   "cell_type": "code",
   "execution_count": 29,
   "metadata": {},
   "outputs": [
    {
     "name": "stdout",
     "output_type": "stream",
     "text": [
      "torch.Size([145000, 2, 10, 200])\n",
      "torch.Size([145000, 2, 10, 200])\n"
     ]
    }
   ],
   "source": [
    "dataset_k_links = dataset_confs[:,0]\n",
    "dataset_l_links = dataset_confs[:,1]\n",
    "print(dataset_k_links.size())\n",
    "print(dataset_l_links.size())"
   ]
  },
  {
   "cell_type": "code",
   "execution_count": 30,
   "metadata": {},
   "outputs": [],
   "source": [
    "#for i in tqdm(range(len(dataset))):\n",
    "#    dataset_k_links[i] = dataset.data[i][\"conf\"][0]\n",
    "#    dataset_l_links[i] = dataset.data[i][\"conf\"][1]"
   ]
  },
  {
   "cell_type": "code",
   "execution_count": 31,
   "metadata": {},
   "outputs": [],
   "source": [
    "    #dataset.data[:][\"conf\"][0]"
   ]
  },
  {
   "cell_type": "code",
   "execution_count": 39,
   "metadata": {},
   "outputs": [],
   "source": [
    "#dataset_k_links_flat = torch.flatten(dataset_k_links, start_dim=1)\n",
    "#dataset_l_links_flat = torch.flatten(dataset_l_links, start_dim=1)\n",
    "\n",
    "dataset_k_links_flat = dataset_k_links.reshape(dataset_l_links.size()[0], -1)\n",
    "dataset_l_links_flat = dataset_l_links.reshape(dataset_l_links.size()[0], -1)"
   ]
  },
  {
   "cell_type": "code",
   "execution_count": 40,
   "metadata": {},
   "outputs": [
    {
     "data": {
      "text/plain": [
       "<matplotlib.legend.Legend at 0x7f5402bd9f90>"
      ]
     },
     "execution_count": 40,
     "metadata": {},
     "output_type": "execute_result"
    },
    {
     "data": {
      "image/png": "[encoded data removed]",
      "text/plain": [
       "<Figure size 2880x216 with 1 Axes>"
      ]
     },
     "metadata": {
      "needs_background": "light"
     },
     "output_type": "display_data"
    }
   ],
   "source": [
    "conf_i = 0\n",
    "\n",
    "max_k_link = torch.max(dataset_k_links_flat[conf_i])\n",
    "min_k_link = torch.min(dataset_k_links_flat[conf_i])\n",
    "\n",
    "bins = np.arange(min_k_link, max_k_link, dtype=int)\n",
    "\n",
    "plt.hist([np.array(dataset_k_links_flat[conf_i].flatten()),np.array(dataset_l_links_flat[conf_i].flatten())], bins=bins, density=True, label=[\"k\", \"l\"])\n",
    "plt.legend(loc='upper right')"
   ]
  },
  {
   "cell_type": "code",
   "execution_count": 41,
   "metadata": {},
   "outputs": [],
   "source": [
    "conf_i_start = 0\n",
    "conf_i_stop = 10\n",
    "conf_range = np.arange(conf_i_start, conf_i_stop, dtype=int)"
   ]
  },
  {
   "cell_type": "code",
   "execution_count": 42,
   "metadata": {},
   "outputs": [
    {
     "data": {
      "image/png": "[encoded data removed]",
      "text/plain": [
       "<Figure size 2880x216 with 10 Axes>"
      ]
     },
     "metadata": {
      "needs_background": "light"
     },
     "output_type": "display_data"
    }
   ],
   "source": [
    "plt.rcParams['figure.figsize'] = [40, 3]\n",
    "fig, ax = plt.subplots(nrows=1, ncols=len(conf_range))\n",
    "\n",
    "max_k_link = torch.max(dataset_k_links_flat)\n",
    "min_k_link = torch.min(dataset_k_links_flat)\n",
    "\n",
    "bins = np.arange(min_k_link, max_k_link, dtype=int)\n",
    "\n",
    "for i in range(len(conf_range)):\n",
    "    conf_i = conf_range[i]\n",
    "    ax[i].hist([np.array(dataset_k_links_flat[conf_i].flatten()),np.array(dataset_l_links_flat[conf_i].flatten())], bins=bins, density=True, label=[\"k\", \"l\"])\n",
    "    ax[i].legend(loc='upper right')"
   ]
  },
  {
   "cell_type": "code",
   "execution_count": 43,
   "metadata": {},
   "outputs": [
    {
     "ename": "RuntimeError",
     "evalue": "[enforce fail at CPUAllocator.cpp:64] . DefaultCPUAllocator: can't allocate memory: you tried to allocate 4640000000 bytes. Error code 12 (Cannot allocate memory)\n",
     "output_type": "error",
     "traceback": [
      "\u001b[0;31m---------------------------------------------------------------------------\u001b[0m",
      "\u001b[0;31mRuntimeError\u001b[0m                              Traceback (most recent call last)",
      "\u001b[0;32m<ipython-input-43-0d8cddf5257a>\u001b[0m in \u001b[0;36m<module>\u001b[0;34m\u001b[0m\n\u001b[1;32m      2\u001b[0m \u001b[0;31m#dataset_l_links_allflat = torch.flatten(dataset_l_links_flat, start_dim=0)\u001b[0m\u001b[0;34m\u001b[0m\u001b[0;34m\u001b[0m\u001b[0;34m\u001b[0m\u001b[0m\n\u001b[1;32m      3\u001b[0m \u001b[0;34m\u001b[0m\u001b[0m\n\u001b[0;32m----> 4\u001b[0;31m \u001b[0mdataset_k_links_allflat\u001b[0m \u001b[0;34m=\u001b[0m \u001b[0mdataset_k_links_flat\u001b[0m\u001b[0;34m.\u001b[0m\u001b[0mreshape\u001b[0m\u001b[0;34m(\u001b[0m\u001b[0;34m-\u001b[0m\u001b[0;36m1\u001b[0m\u001b[0;34m)\u001b[0m\u001b[0;34m\u001b[0m\u001b[0;34m\u001b[0m\u001b[0m\n\u001b[0m\u001b[1;32m      5\u001b[0m \u001b[0mdataset_l_links_allflat\u001b[0m \u001b[0;34m=\u001b[0m \u001b[0mdataset_l_links_flat\u001b[0m\u001b[0;34m.\u001b[0m\u001b[0mreshape\u001b[0m\u001b[0;34m(\u001b[0m\u001b[0;34m-\u001b[0m\u001b[0;36m1\u001b[0m\u001b[0;34m)\u001b[0m\u001b[0;34m\u001b[0m\u001b[0;34m\u001b[0m\u001b[0m\n",
      "\u001b[0;31mRuntimeError\u001b[0m: [enforce fail at CPUAllocator.cpp:64] . DefaultCPUAllocator: can't allocate memory: you tried to allocate 4640000000 bytes. Error code 12 (Cannot allocate memory)\n"
     ]
    }
   ],
   "source": [
    "#dataset_k_links_allflat = torch.flatten(dataset_k_links_flat, start_dim=0)\n",
    "#dataset_l_links_allflat = torch.flatten(dataset_l_links_flat, start_dim=0)\n",
    "\n",
    "dataset_k_links_allflat = dataset_k_links_flat.reshape(-1)\n",
    "dataset_l_links_allflat = dataset_l_links_flat.reshape(-1)\n"
   ]
  },
  {
   "cell_type": "code",
   "execution_count": null,
   "metadata": {},
   "outputs": [],
   "source": [
    "plt.rcParams['figure.figsize'] = [5, 5]\n",
    "\n",
    "max_k_link = torch.max(dataset_k_links_allflat)\n",
    "min_k_link = torch.min(dataset_k_links_allflat)\n",
    "\n",
    "bins = np.arange(min_k_link, max_k_link, dtype=int)\n",
    "\n",
    "plt.hist([np.array(dataset_k_links_allflat),np.array(dataset_l_links_allflat)], bins=bins, density=True, label=[\"k\", \"l\"])\n",
    "plt.legend(loc='upper right')"
   ]
  },
  {
   "cell_type": "code",
   "execution_count": null,
   "metadata": {},
   "outputs": [],
   "source": [
    "\"\"\"plot k l link distribution per μ\"\"\"\n",
    "#print(dataset.data[0][\"mu\"])\n",
    "mu_val = dataset.data[0][\"mu\"]\n",
    "\n",
    "mu_confs = [conf_dict[\"conf\"] for conf_dict in dataset.data if conf_dict[\"mu\"] == mu_val]\n",
    "print(len(mu_confs))"
   ]
  },
  {
   "cell_type": "code",
   "execution_count": null,
   "metadata": {},
   "outputs": [],
   "source": [
    "mu_confs = torch.stack(mu_confs)"
   ]
  },
  {
   "cell_type": "code",
   "execution_count": null,
   "metadata": {},
   "outputs": [],
   "source": [
    "print(mu_confs.size())"
   ]
  },
  {
   "cell_type": "code",
   "execution_count": null,
   "metadata": {},
   "outputs": [],
   "source": [
    "all_mu_l_links = mu_confs[:,1]\n",
    "all_mu_k_links = mu_confs[:,0]"
   ]
  },
  {
   "cell_type": "code",
   "execution_count": null,
   "metadata": {},
   "outputs": [],
   "source": [
    "type(all_mu_k_links[0])"
   ]
  },
  {
   "cell_type": "code",
   "execution_count": null,
   "metadata": {},
   "outputs": [],
   "source": [
    "max_k_link = torch.max(all_mu_k_links.flatten())\n",
    "min_k_link = torch.min(all_mu_k_links.flatten())\n",
    "bins = np.arange(min_k_link, max_k_link, dtype=int)\n",
    "\n",
    "plt.hist([np.array(all_mu_k_links.flatten()),np.array(all_mu_l_links.flatten())], bins=bins, density=True, label=[\"k\", \"l\"])\n",
    "plt.legend(loc='upper right')\n",
    "plt.ylabel(f\"k and l link distribution μ = {mu_val}\")"
   ]
  },
  {
   "cell_type": "code",
   "execution_count": null,
   "metadata": {},
   "outputs": [],
   "source": [
    "\"\"\"count all mus\"\"\"\n",
    "\n",
    "mus = torch.zeros(len(dataset.data))\n",
    "\n",
    "for i in tqdm(range(len(dataset.data))):\n",
    "    mus[i] = dataset.data[i][\"mu\"]\n",
    "    \n",
    "unique_mus = torch.unique(mus)"
   ]
  },
  {
   "cell_type": "code",
   "execution_count": null,
   "metadata": {},
   "outputs": [],
   "source": [
    "print(unique_mus)"
   ]
  },
  {
   "cell_type": "code",
   "execution_count": null,
   "metadata": {},
   "outputs": [],
   "source": [
    "all_mu_k_links = []\n",
    "all_mu_l_links = []\n",
    "all_mu_f = []\n",
    "\n",
    "for mu_i in range(len(unique_mus)):\n",
    "    mu_val = unique_mus[mu_i]\n",
    "    print(mu_val)\n",
    "    \n",
    "    mu_confs = [conf_dict[\"conf\"] for conf_dict in dataset.data if conf_dict[\"mu\"] == mu_val]\n",
    "    #print(len(mu_confs))\n",
    "    \"\"\"calculate f function\"\"\"\n",
    "    #f = f_calc(torch.flip(dataset.data[0][\"conf\"][0], dims=[0]), torch.flip(dataset.data[0][\"conf\"][1], dims=[0]), lat_size=lat_size, dims=len(lat_size))\n",
    "    #torch.all(f %2 == 0)\n",
    "    mu_f = torch.zeros(len(mu_confs), *lat_size)\n",
    "    for mu_conf_i in range(len(mu_confs)):\n",
    "        mu_f[mu_conf_i] = f_calc(k_links=torch.flip(mu_confs[mu_conf_i][0], dims=[0]),\n",
    "                                 l_links=torch.flip(mu_confs[mu_conf_i][1], dims=[0]),\n",
    "                                 lat_size=lat_size, dims=len(lat_size))\n",
    "    \n",
    "    mu_confs = torch.stack(mu_confs)\n",
    "    print(mu_confs.size())\n",
    "    \n",
    "    mu_k_links = mu_confs[:,0]\n",
    "    mu_l_links = mu_confs[:,1]\n",
    "    \n",
    "    print(mu_k_links.size())\n",
    "    #print(len(mu_l_links))\n",
    "\n",
    "    all_mu_k_links.append(np.array(mu_k_links))\n",
    "    all_mu_l_links.append(np.array(mu_l_links))\n",
    "    all_mu_f.append(np.array(mu_f))\n",
    "\n",
    "print(len(all_mu_k_links))\n",
    "print(len(all_mu_k_links[0]))\n",
    "#all_mu_k_links = torch.tensor(all_mu_k_links)\n",
    "#all_mu_k_links.size()"
   ]
  },
  {
   "cell_type": "code",
   "execution_count": null,
   "metadata": {},
   "outputs": [],
   "source": [
    "np.all(all_mu_f[0] %2 == 0)"
   ]
  },
  {
   "cell_type": "code",
   "execution_count": null,
   "metadata": {},
   "outputs": [],
   "source": [
    "\"\"\"plot k l link distribution per μ\"\"\"\n",
    "\n",
    "plt.rcParams['figure.figsize'] = [10, 10]\n",
    "\n",
    "#max_k_link = torch.max(all_mu_k_links)\n",
    "#min_k_link = torch.min(all_mu_k_links)\n",
    "all_mu_k_links_flat = [mu_k_links.flatten() for mu_k_links in all_mu_k_links]\n",
    "bins = np.arange(min_k_link, max_k_link, dtype=int)\n",
    "mu_str_list = [\"μ = \" + str(mu.numpy()) for mu in unique_mus]\n",
    "\n",
    "#plt.hist(all_mu_k_links_flat, bins=bins, density=True, label=mu_str_list)\n",
    "plt.hist(all_mu_k_links_flat, density=True, label=mu_str_list)\n",
    "plt.legend(loc='upper right')\n",
    "plt.ylabel(f\"k link distribution\")"
   ]
  },
  {
   "cell_type": "code",
   "execution_count": null,
   "metadata": {},
   "outputs": [],
   "source": [
    "plt.rcParams['figure.figsize'] = [10, 10]\n",
    "\n",
    "import matplotlib.cm as cm\n",
    "from matplotlib.colors import Normalize\n",
    "#max_k_link = torch.max(all_mu_k_links)\n",
    "#min_k_link = torch.min(all_mu_k_links)\n",
    "all_mu_k_links_flat = [mu_k_links.flatten() for mu_k_links in all_mu_k_links]\n",
    "bins = np.arange(min_k_link, max_k_link, dtype=int)\n",
    "mu_str_list = [\"μ = \" + str(mu.numpy()) for mu in unique_mus]\n",
    "\n",
    "#plt.hist(all_mu_k_links_flat, bins=bins, density=True, label=mu_str_list)\n",
    "#plt.hist(all_mu_k_links_flat, density=True, label=mu_str_list)\n",
    "my_cmap = cm.get_cmap(\"jet\")\n",
    "min_mu = torch.min(unique_mus).detach().numpy()\n",
    "max_mu = torch.max(unique_mus).detach().numpy()\n",
    "my_norm = Normalize(vmin=min_mu, vmax=max_mu)\n",
    "#plt.bar(bins, all_mu_k_links_flat, density=True, label=mu_str_list, color=my_cmap(my_norm(unique_mus)))\n",
    "#for i in tqdm(range(len(unique_mus))):\n",
    "#    plt.hist(all_mu_k_links_flat[i], density=True, label=mu_str_list[i], color=my_cmap(my_norm(unique_mus[i])))\n",
    "plt.hist(all_mu_k_links_flat, bins=bins, density=True, label=mu_str_list, align=\"left\", color=my_cmap(my_norm(unique_mus)))\n",
    "plt.xticks(bins)\n",
    "plt.legend(loc='upper left')\n",
    "plt.ylabel(f\"k link distribution\")\n",
    "plt.savefig(f\"k_hist_mu{lat_size}.png\")"
   ]
  },
  {
   "cell_type": "code",
   "execution_count": null,
   "metadata": {},
   "outputs": [],
   "source": [
    "plt.rcParams['figure.figsize'] = [10, 10]\n",
    "#max_k_link = torch.max(all_mu_k_links)\n",
    "#min_k_link = torch.min(all_mu_k_links)\n",
    "all_mu_l_links_flat = [mu_l_links.flatten() for mu_l_links in all_mu_l_links]\n",
    "\n",
    "min_l_link = 0\n",
    "max_l_link = torch.max(mu_l_links)\n",
    "\n",
    "bins = np.arange(min_l_link, max_l_link, dtype=int)\n",
    "    \n",
    "#plt.hist(all_mu_l_links_flat, bins=bins, density=True, label=mu_str_list)\n",
    "plt.hist(all_mu_l_links_flat, density=True, label=mu_str_list)\n",
    "plt.legend(loc='upper right')\n",
    "plt.ylabel(f\"l link distribution\")"
   ]
  },
  {
   "cell_type": "code",
   "execution_count": null,
   "metadata": {},
   "outputs": [],
   "source": [
    "#plt.hist(all_mu_k_links_flat, bins=bins, density=True, label=mu_str_list)\n",
    "#plt.hist(all_mu_k_links_flat, density=True, label=mu_str_list)\n",
    "\n",
    "bins = np.arange(min_l_link, max_l_link, dtype=int)\n",
    "\n",
    "my_cmap = cm.get_cmap(\"jet\")\n",
    "min_mu = torch.min(unique_mus).detach().numpy()\n",
    "max_mu = torch.max(unique_mus).detach().numpy()\n",
    "my_norm = Normalize(vmin=min_mu, vmax=max_mu)\n",
    "#plt.bar(bins, all_mu_k_links_flat, density=True, label=mu_str_list, color=my_cmap(my_norm(unique_mus)))\n",
    "#for i in tqdm(range(len(unique_mus))):\n",
    "#    plt.hist(all_mu_k_links_flat[i], density=True, label=mu_str_list[i], color=my_cmap(my_norm(unique_mus[i])))\n",
    "plt.hist(all_mu_l_links_flat, bins=bins, density=True, label=mu_str_list, align=\"left\", color=my_cmap(my_norm(unique_mus)))\n",
    "#plt.bar(all_mu_l_links_flat, density=True, label=mu_str_list, color=my_cmap(my_norm(unique_mus)))\n",
    "plt.xticks(bins)\n",
    "plt.legend(loc='upper right')\n",
    "plt.ylabel(f\"l link distribution\")\n",
    "plt.savefig(f\"l_hist_mu{lat_size}.png\")"
   ]
  },
  {
   "cell_type": "code",
   "execution_count": null,
   "metadata": {},
   "outputs": [],
   "source": [
    "max_f = np.max(np.array(mu_f))\n",
    "min_f = np.min(np.array(mu_f))\n",
    "all_mu_f_flat = [mu_f.flatten().astype(int) for mu_f in all_mu_f]\n",
    "\n",
    "bins = np.arange(min_f, max_f, dtype=int)\n",
    "\n",
    "plt.hist(all_mu_f_flat, bins=bins, density=True, label=mu_str_list)\n",
    "#plt.hist(all_mu_f_flat, density=True, label=mu_str_list)\n",
    "plt.legend(loc='upper right')\n",
    "plt.ylabel(f\"f distribution\")"
   ]
  },
  {
   "cell_type": "code",
   "execution_count": null,
   "metadata": {},
   "outputs": [],
   "source": [
    "#plt.hist(all_mu_k_links_flat, bins=bins, density=True, label=mu_str_list)\n",
    "#plt.hist(all_mu_k_links_flat, density=True, label=mu_str_list)\n",
    "my_cmap = cm.get_cmap(\"jet\")\n",
    "min_mu = torch.min(unique_mus).detach().numpy()\n",
    "max_mu = torch.max(unique_mus).detach().numpy()\n",
    "my_norm = Normalize(vmin=min_mu, vmax=max_mu)\n",
    "#plt.bar(bins, all_mu_k_links_flat, density=True, label=mu_str_list, color=my_cmap(my_norm(unique_mus)))\n",
    "#for i in tqdm(range(len(unique_mus))):\n",
    "#    plt.hist(all_mu_k_links_flat[i], density=True, label=mu_str_list[i], color=my_cmap(my_norm(unique_mus[i])))\n",
    "plt.hist(all_mu_f_flat, bins=bins, density=True, label=mu_str_list, align=\"left\", color=my_cmap(my_norm(unique_mus)))\n",
    "#plt.xticks(np.arange(0,np.max(all_mu_f_flat), 2))\n",
    "plt.xticks(np.arange(0,8,2))\n",
    "plt.legend(loc='upper right')\n",
    "plt.ylabel(f\"f distribution\")\n",
    "plt.savefig(f\"f_hist_mu_{lat_size}.png\")"
   ]
  },
  {
   "cell_type": "code",
   "execution_count": null,
   "metadata": {},
   "outputs": [],
   "source": [
    "W = np.loadtxt(\"W.txt\")\n",
    "W_obs_ratio = np.loadtxt(\"W_obs_ratio.txt\")"
   ]
  },
  {
   "cell_type": "code",
   "execution_count": null,
   "metadata": {},
   "outputs": [],
   "source": [
    "plt.plot(np.arange(0,len(W), dtype=int), W)"
   ]
  },
  {
   "cell_type": "code",
   "execution_count": null,
   "metadata": {},
   "outputs": [],
   "source": [
    "W_stop_i = 20\n",
    "plt.plot(np.arange(0,W_stop_i, dtype=int), W[:W_stop_i])"
   ]
  },
  {
   "cell_type": "code",
   "execution_count": null,
   "metadata": {},
   "outputs": [],
   "source": [
    "W_stop_i = 50\n",
    "i_reg = 4\n",
    "lin_W = [W_obs_ratio[0], W_obs_ratio[i_reg]]\n",
    "print(lin_W)\n",
    "plt.plot(np.arange(0,W_stop_i, dtype=int), W_obs_ratio[:W_stop_i], label=\"W[f+2]/W[f]\")\n",
    "plt.vlines(x=[0,i_reg], ymin=np.min(W_obs_ratio), ymax=np.max(W_obs_ratio[:W_stop_i]), linestyles=\"--\", label=\"dataset regime\")\n",
    "#plt.plot([0, i_reg], lin_W, linestyle=\"--\", label=\"linear regression f=[0,8]\")\n",
    "plt.ylabel(\"W[f+2]/W[f]\")\n",
    "plt.xlabel(\"f/2\")\n",
    "plt.legend(loc=\"lower right\")\n",
    "plt.savefig(\"W_obs_ratio.png\")"
   ]
  },
  {
   "cell_type": "code",
   "execution_count": null,
   "metadata": {},
   "outputs": [],
   "source": [
    "import scipy as scp"
   ]
  },
  {
   "cell_type": "code",
   "execution_count": null,
   "metadata": {},
   "outputs": [],
   "source": [
    "W_obs_ratio[:i_reg]"
   ]
  },
  {
   "cell_type": "code",
   "execution_count": null,
   "metadata": {},
   "outputs": [],
   "source": [
    "lin_reg = scp.stats.linregress(range(len(W_obs_ratio[:i_reg])), W_obs_ratio[:i_reg])\n",
    "print(lin_reg)"
   ]
  },
  {
   "cell_type": "code",
   "execution_count": null,
   "metadata": {},
   "outputs": [],
   "source": [
    "lin_reg.stderr"
   ]
  },
  {
   "cell_type": "code",
   "execution_count": null,
   "metadata": {},
   "outputs": [],
   "source": [
    "W_stop_i = 5\n",
    "i_reg = 4\n",
    "lin = np.zeros(W_stop_i)\n",
    "k = lin_reg.slope\n",
    "d = lin_reg.intercept\n",
    "for i in range(0,W_stop_i):\n",
    "    lin[i] = k*i + d\n",
    "    \n",
    "plt.plot(np.arange(0,W_stop_i, dtype=int), W_obs_ratio[:W_stop_i], label=\"W[f+2]/W[f]\")\n",
    "plt.plot(np.arange(0,W_stop_i, dtype=int), lin, linestyle=\"--\", label=\"linear regression, σ=0.005\")\n",
    "plt.ylabel(\"W[f+2]/W[f]\")\n",
    "plt.xlabel(\"f/2\")\n",
    "plt.legend()\n",
    "plt.savefig(\"W_obs_ratio_lin.png\")"
   ]
  },
  {
   "cell_type": "code",
   "execution_count": null,
   "metadata": {},
   "outputs": [],
   "source": [
    "dev = [abs(lin[i] - W_obs_ratio[i]) for i in np.arange(0,W_stop_i, dtype=int)]\n",
    "print(dev)"
   ]
  },
  {
   "cell_type": "code",
   "execution_count": null,
   "metadata": {},
   "outputs": [],
   "source": [
    "\"\"\"test whether relevant links are really attached to each lattice site\"\"\"\n",
    "test_lat_size = [3,3]\n",
    "test_k_links = torch.ones(2,*test_lat_size, dtype=int)\n",
    "#test_k_links[0] = torch.arange(start=0, end=np.prod(test_lat_size)).reshape(*test_lat_size)\n",
    "test_k_links = torch.arange(start=0, end=np.prod(test_k_links.shape), dtype=int).reshape(test_k_links.shape)\n",
    "\n",
    "print(test_k_links)"
   ]
  },
  {
   "cell_type": "code",
   "execution_count": null,
   "metadata": {},
   "outputs": [],
   "source": [
    "print(torch.flip(test_k_links,dims=[0]))"
   ]
  },
  {
   "cell_type": "code",
   "execution_count": null,
   "metadata": {},
   "outputs": [],
   "source": [
    "print(test_k_links[0])"
   ]
  },
  {
   "cell_type": "code",
   "execution_count": null,
   "metadata": {},
   "outputs": [],
   "source": [
    "print(test_k_links[1])"
   ]
  },
  {
   "cell_type": "code",
   "execution_count": null,
   "metadata": {},
   "outputs": [],
   "source": [
    "full_test_k_links = link_per_lat_point(test_k_links, test_lat_size, len(test_lat_size))\n",
    "print(full_test_k_links)"
   ]
  },
  {
   "cell_type": "code",
   "execution_count": null,
   "metadata": {},
   "outputs": [],
   "source": [
    "print(full_test_k_links[2])"
   ]
  },
  {
   "cell_type": "code",
   "execution_count": null,
   "metadata": {},
   "outputs": [],
   "source": [
    "print(full_test_k_links[3])"
   ]
  },
  {
   "cell_type": "code",
   "execution_count": null,
   "metadata": {},
   "outputs": [],
   "source": [
    "\"\"\"test calc_f\"\"\"\n",
    "conf_i = 0\n",
    "test_k_links = dataset_k_links[conf_i]\n",
    "test_l_links = dataset_l_links[conf_i]\n",
    "\n",
    "test_k_links = torch.flip(test_k_links, dims=[0])\n",
    "test_l_links = torch.flip(test_l_links, dims=[0])\n",
    "\n",
    "test_f = torch.zeros(*lat_size, dtype=int)\n",
    "\n",
    "test_f = f_calc(test_k_links, test_l_links, lat_size, len(lat_size))"
   ]
  },
  {
   "cell_type": "code",
   "execution_count": null,
   "metadata": {},
   "outputs": [],
   "source": [
    "#print(test_f)"
   ]
  },
  {
   "cell_type": "code",
   "execution_count": null,
   "metadata": {},
   "outputs": [],
   "source": [
    "\"\"\"plot f and mean f distribution\"\"\""
   ]
  },
  {
   "cell_type": "code",
   "execution_count": null,
   "metadata": {},
   "outputs": [],
   "source": [
    "dataset_f = torch.zeros(len(dataset),*lat_size, dtype=int)\n",
    "\n",
    "for conf_i in tqdm(range(len(dataset))):\n",
    "    \n",
    "    test_k_links = dataset_k_links[conf_i]\n",
    "    test_l_links = dataset_l_links[conf_i]\n",
    "\n",
    "    test_k_links = torch.flip(test_k_links, dims=[0])\n",
    "    test_l_links = torch.flip(test_l_links, dims=[0])\n",
    "    \n",
    "    dataset_f[conf_i] = f_calc(test_k_links, test_l_links, lat_size, len(lat_size))"
   ]
  },
  {
   "cell_type": "code",
   "execution_count": null,
   "metadata": {},
   "outputs": [],
   "source": [
    "#conf_i = 0\n",
    "#dataset_f[conf_i]"
   ]
  },
  {
   "cell_type": "code",
   "execution_count": null,
   "metadata": {},
   "outputs": [],
   "source": [
    "np.all(dataset_f[conf_i].numpy() % 2 == 0)"
   ]
  },
  {
   "cell_type": "code",
   "execution_count": null,
   "metadata": {},
   "outputs": [],
   "source": [
    "np.all(dataset_f.numpy() % 2 == 0)"
   ]
  },
  {
   "cell_type": "code",
   "execution_count": null,
   "metadata": {},
   "outputs": [],
   "source": [
    "plt.rcParams['figure.figsize'] = [20, 5]\n",
    "conf_i = 0\n",
    "sns.heatmap(dataset_f[conf_i], cmap=\"BuGn\")"
   ]
  },
  {
   "cell_type": "code",
   "execution_count": null,
   "metadata": {},
   "outputs": [],
   "source": [
    "conf_i = 0\n",
    "dataset_f_flat = dataset_f.flatten(start_dim=1)\n",
    "dataset_f_allflat = dataset_f.flatten(start_dim=0)\n",
    "\n",
    "f_max = torch.max(dataset_f_allflat)\n",
    "\n",
    "bins = np.arange(0,f_max+2, 2)\n",
    "\n",
    "plt.hist(dataset_f_flat[conf_i], bins=bins)"
   ]
  },
  {
   "cell_type": "code",
   "execution_count": null,
   "metadata": {},
   "outputs": [],
   "source": [
    "plt.rcParams['figure.figsize'] = [20, 3]\n",
    "\n",
    "conf_start = 0\n",
    "conf_stop = 10\n",
    "\n",
    "conf_range = np.arange(conf_start, conf_stop)\n",
    "\n",
    "f_max = torch.max(dataset_f_allflat)\n",
    "\n",
    "bins = np.arange(0,f_max+2, 2)\n",
    "\n",
    "fig, ax = plt.subplots(1, len(conf_range))\n",
    "\n",
    "for i in range(len(conf_range)):\n",
    "    \n",
    "    conf_i = conf_range[i]\n",
    "    \n",
    "    ax[i].hist(dataset_f_flat[conf_i], bins=bins)"
   ]
  },
  {
   "cell_type": "code",
   "execution_count": null,
   "metadata": {},
   "outputs": [],
   "source": [
    "f_max = torch.max(dataset_f_allflat)\n",
    "\n",
    "bins = np.arange(0,f_max+2, 2)\n",
    "\n",
    "plt.hist(dataset_f_allflat, bins=bins)"
   ]
  },
  {
   "cell_type": "code",
   "execution_count": null,
   "metadata": {},
   "outputs": [],
   "source": []
  },
  {
   "cell_type": "code",
   "execution_count": null,
   "metadata": {},
   "outputs": [],
   "source": []
  },
  {
   "cell_type": "code",
   "execution_count": null,
   "metadata": {},
   "outputs": [],
   "source": []
  },
  {
   "cell_type": "code",
   "execution_count": null,
   "metadata": {},
   "outputs": [],
   "source": []
  },
  {
   "cell_type": "code",
   "execution_count": null,
   "metadata": {},
   "outputs": [],
   "source": []
  },
  {
   "cell_type": "code",
   "execution_count": null,
   "metadata": {},
   "outputs": [],
   "source": []
  },
  {
   "cell_type": "code",
   "execution_count": null,
   "metadata": {},
   "outputs": [],
   "source": []
  }
 ],
 "metadata": {
  "kernelspec": {
   "display_name": "Python 3",
   "language": "python",
   "name": "python3"
  },
  "language_info": {
   "codemirror_mode": {
    "name": "ipython",
    "version": 3
   },
   "file_extension": ".py",
   "mimetype": "text/x-python",
   "name": "python",
   "nbconvert_exporter": "python",
   "pygments_lexer": "ipython3",
   "version": "3.7.4"
  }
 },
 "nbformat": 4,
 "nbformat_minor": 2
}
