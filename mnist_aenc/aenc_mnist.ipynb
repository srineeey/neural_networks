{
 "cells": [
  {
   "cell_type": "code",
   "execution_count": 7,
   "metadata": {},
   "outputs": [],
   "source": [
    "import numpy as np\n",
    "import pandas as pd\n",
    "import matplotlib.pyplot as plt\n",
    "import seaborn as sns\n",
    "\n",
    "import os\n",
    "import glob\n",
    "import time\n",
    "\n",
    "import torch\n",
    "import torch.nn as nn\n",
    "import torch.nn.functional as F\n",
    "import torch.optim as optim\n",
    "\n",
    "import torchvision\n",
    "\n",
    "from torch.utils.tensorboard import SummaryWriter\n",
    "\n",
    "import sklearn\n",
    "import functools\n",
    "import operator\n",
    "\n",
    "import sys\n",
    "\n",
    "sys.path.insert(1,\"/home/sbulusu/qcd_ml/neural_networks/libs/\")\n",
    "\n",
    "import dataset_class_gsimage\n",
    "import aenc_torch_net_class\n",
    "import aenc_utils\n",
    "import utils"
   ]
  },
  {
   "cell_type": "code",
   "execution_count": 8,
   "metadata": {},
   "outputs": [
    {
     "name": "stdout",
     "output_type": "stream",
     "text": [
      "Utilizing CUDA\n"
     ]
    }
   ],
   "source": [
    "if torch.cuda.is_available():\n",
    "    device = torch.device(\"cuda:0\")\n",
    "    print(\"Utilizing CUDA\")\n",
    "else:\n",
    "    device = torch.device(\"cpu\")\n",
    "    print(\"Utilizing CPU\")"
   ]
  },
  {
   "cell_type": "code",
   "execution_count": 9,
   "metadata": {},
   "outputs": [
    {
     "data": {
      "text/plain": [
       "['number']"
      ]
     },
     "execution_count": 9,
     "metadata": {},
     "output_type": "execute_result"
    }
   ],
   "source": [
    "#mnist_image_folder = \"mnist/\"\n",
    "mnist_image_folder = \"../data/mnist/\"\n",
    "mnist_image_names = os.listdir(mnist_image_folder)\n",
    "mnist_image_paths = glob.glob(\"mnist/*\")\n",
    "#mnist_image_paths = []\n",
    "#for mnist_image_name in mnist_image_names:\n",
    "#    mnist_image_paths.append(mnist_image_folder + \"/\" + mnist_image_name)\n",
    "#print(mnist_image_paths)\n",
    "image_size = [1,28,28]\n",
    "label_path_csv = \"../data/mnist_labels.csv\"\n",
    "dataset = dataset_class_gsimage.image_dataset(mnist_image_folder, mnist_image_paths, image_size, label_path_csv)\n",
    "target_attributes = [\"number\"]\n",
    "dataset.set_label_names(target_attributes)\n",
    "#output_attributes = [str(i) for i in range(0,10)]\n",
    "#pred_attributes = [str(i) for i in range(np.prod(image_size))]"
   ]
  },
  {
   "cell_type": "code",
   "execution_count": 10,
   "metadata": {},
   "outputs": [
    {
     "name": "stdout",
     "output_type": "stream",
     "text": [
      "[5.]\n"
     ]
    },
    {
     "data": {
      "image/png": "[encoded data removed]",
      "text/plain": [
       "<Figure size 432x288 with 1 Axes>"
      ]
     },
     "metadata": {
      "needs_background": "light"
     },
     "output_type": "display_data"
    }
   ],
   "source": [
    "i = 0\n",
    "plt.imshow(dataset.get_image(i)[0].reshape([28,28]))\n",
    "print(dataset.get_image(i)[1])"
   ]
  },
  {
   "cell_type": "code",
   "execution_count": 11,
   "metadata": {},
   "outputs": [
    {
     "name": "stdout",
     "output_type": "stream",
     "text": [
      "784\n"
     ]
    }
   ],
   "source": [
    "\"\"\"\n",
    "HYPERPARAMETERS\n",
    "\"\"\"\n",
    "\n",
    "random_seed = 42\n",
    "np.random.seed(random_seed)\n",
    "torch.manual_seed(random_seed)\n",
    "\n",
    "val_epochs = [10,20,30,40,50,60,70]\n",
    "#val_epochs = [1,2]\n",
    "save_state_epochs = [10000]\n",
    "\n",
    "\n",
    "\"\"\"Manually set network structure\"\"\"\n",
    "\"\"\"\n",
    "    This list can be loaded into the constructor of the Net neural network class, to automatically generate the network structure\n",
    "    type = pointer to the layer function'\n",
    "    layer_pars = parameters which must be given to the layer function in order to initialize it\n",
    "    act_func = activation function to be applied directly after feeding to the corresponding layer\n",
    "    dropout = certain neurons cna be dropped out if specified\n",
    "\"\"\"\n",
    "\n",
    "#fixed_net_struct = []\n",
    "input_size = dataset.get_input_size()\n",
    "#target_size = len(target_attributes)\n",
    "#output_size = target_size\n",
    "#output_size = len(output_attributes)\n",
    "output_size = input_size\n",
    "\n",
    "\"\"\"\n",
    "#[ [[in_channels, out_channels],[kernel_size], stride, padding], ... ]\n",
    "#kernel_pars = [ [[input_size[0],4],[12,3],1,0], [[4,8],[12,3],1,0], [[8,16],[12,3],1,0], [[16,16],[12,3],1,0], [[16,16],[8,2],1,0] ]\n",
    "kernel_pars = [ [[input_size[0],4],[9,3],1,0], [[4,4],[4,1],[4,1],0], [[4,8],[13,3],1,0], [[8,8],[4,1],[4,1],0], [[8,16],[4,3],1,0]]\n",
    "act_func = torch.relu\n",
    "#, \"act_func\": act_func\n",
    "for i, kernel_par in enumerate(kernel_pars):\n",
    "    if i%2 == 0:\n",
    "        layer_type = nn.Conv2d\n",
    "        fixed_net_struct.append( {\"type\": layer_type, \"layer_pars\": {\"in_channels\": kernel_par[0][0], \"out_channels\": kernel_par[0][1], \"kernel_size\": kernel_par[1], \"stride\": kernel_par[2], \"padding\": kernel_par[3], \"bias\": True}} )\n",
    "    else:\n",
    "        #layer_type = nn.MaxPool2d\n",
    "        layer_type = nn.AvgPool2d\n",
    "        fixed_net_struct.append( {\"type\": layer_type, \"layer_pars\": {\"kernel_size\": kernel_par[1], \"stride\": kernel_par[2], \"padding\": kernel_par[3]}} )\n",
    "\"\"\"\n",
    "\"\"\"\n",
    "for i, kernel_par in enumerate(kernel_pars):\n",
    "        layer_type = nn.Conv2d\n",
    "        fixed_net_struct.append( {\"type\": layer_type, \"layer_pars\": {\"in_channels\": kernel_par[0][0], \"out_channels\": kernel_par[0][1], \"kernel_size\": kernel_par[1], \"stride\": kernel_par[2], \"padding\": kernel_par[3], \"bias\": True}, \"act_func\": act_func} )\n",
    "    \n",
    "\"\"\"\n",
    "\"\"\"\n",
    "conv_sizes = utils.calc_layer_sizes(input_size, fixed_net_struct)\n",
    "fc_input_size = np.product(conv_sizes[-1])\n",
    "\"\"\"\n",
    "\n",
    "encoder_struct = []\n",
    "decoder_struct = []\n",
    "latent_size = 10\n",
    "\n",
    "act_func = torch.relu\n",
    "\n",
    "fc_input_size = np.product(input_size)\n",
    "print(fc_input_size)\n",
    "encoder_struct.append( {\"type\": nn.Flatten, \"layer_pars\": {\"start_dim\": 1}} )\n",
    "encoder_struct.append( {\"type\": nn.Linear, \"layer_pars\": {\"in_features\": fc_input_size, \"out_features\": fc_input_size//4}, \"bias\": True, \"act_func\": act_func} )\n",
    "encoder_struct.append( {\"type\": nn.Linear, \"layer_pars\": {\"in_features\": fc_input_size//4, \"out_features\": fc_input_size//16}, \"bias\": True, \"act_func\": act_func} )\n",
    "encoder_struct.append( {\"type\": nn.Linear, \"layer_pars\": {\"in_features\": fc_input_size//16, \"out_features\": latent_size}, \"bias\": True, \"act_func\": act_func} )\n",
    "\n",
    "decoder_struct.append( {\"type\": nn.Linear, \"layer_pars\": {\"in_features\": latent_size, \"out_features\": fc_input_size//16}, \"bias\": True, \"act_func\": act_func} )\n",
    "decoder_struct.append( {\"type\": nn.Linear, \"layer_pars\": {\"in_features\": fc_input_size//16, \"out_features\": fc_input_size//4}, \"bias\": True, \"act_func\": act_func} )\n",
    "decoder_struct.append( {\"type\": nn.Linear, \"layer_pars\": {\"in_features\": fc_input_size//4, \"out_features\": fc_input_size}, \"bias\": True, \"act_func\": act_func} )\n",
    "decoder_struct.append( {\"type\": utils.Reshape, \"layer_pars\": {\"new_shape\": np.concatenate(([-1],input_size))}} )\n",
    "#fixed_net_struct.append( {\"type\": nn.Softmax, \"layer_pars\": {\"dim\": 1}} )\n",
    "#dim 0 or 1???\n",
    "#fixed_net_struct.append( {\"type\": nn.ConvTranspose2d, \"layer_pars\": {\"in_channels\": 1, \"out_channels\": 1, \"kernel_size\": [1,1], \"stride\": 1, \"padding\": 1, \"bias\": True}, \"act_func\": act_func} )\n",
    "\n",
    "#layer_sizes = utils.calc_layer_sizes(input_size, fixed_net_struct)\n",
    "#print(layer_sizes)\n",
    "\n",
    "\"\"\"create list of parameters manually\"\"\"\n",
    "\n",
    "hyper_parameters = {}\n",
    "#hyper_parameters[\"loss_func\"] = nn.CrossEntropyLoss\n",
    "hyper_parameters[\"loss_func\"] = nn.MSELoss\n",
    "hyper_parameters[\"optimizer\"] = optim.Adam\n",
    "hyper_parameters[\"batch_size\"] = 1 \n",
    "hyper_parameters[\"lr\"] = 0.0001\n",
    "#hyper_parameters[\"net_struct\"] = fixed_net_struct\n",
    "\n",
    "hyper_parameters[\"val_method\"] = \"holdout\"\n",
    "hyper_parameters[\"val_method_pars\"] = {\"train\" : 0.9, \"val\" : 0.1, \"test\" : 0.}\n",
    "#hyper_parameters[\"val_method\"] = \"k_fold\"\n",
    "#hyper_parameters[\"val_method_pars\"] = 5"
   ]
  },
  {
   "cell_type": "code",
   "execution_count": 12,
   "metadata": {},
   "outputs": [],
   "source": [
    "epochs = max(val_epochs)+1\n",
    "\n",
    "lr=hyper_parameters[\"lr\"]\n",
    "batch_size = hyper_parameters[\"batch_size\"]\n",
    "loss_func = hyper_parameters[\"loss_func\"]()\n",
    "#net_struct = hyper_parameters[\"net_struct\"]\n",
    "val_method = hyper_parameters[\"val_method\"]\n",
    "val_method_pars = hyper_parameters[\"val_method_pars\"]\n",
    "optimizer_type = hyper_parameters[\"optimizer\"]\n",
    "\n",
    "val_pred_paths = []\n",
    "val_label_paths = []\n",
    "\n",
    "train_loss = np.zeros(epochs)\n",
    "val_loss = np.zeros(len(val_epochs))\n",
    "\n",
    "net_state_paths = []\n",
    "\n",
    "#create training log\n",
    "log_file_name = \"log.txt\"\n",
    "log_file = open(log_file_name, \"w\")"
   ]
  },
  {
   "cell_type": "code",
   "execution_count": 13,
   "metadata": {},
   "outputs": [
    {
     "name": "stdout",
     "output_type": "stream",
     "text": [
      "Initializing Encoder:\n",
      "\n",
      "Adding {'type': <class 'torch.nn.modules.flatten.Flatten'>, 'layer_pars': {'start_dim': 1}}\n",
      "\n",
      "Adding {'type': <class 'torch.nn.modules.linear.Linear'>, 'layer_pars': {'in_features': 784, 'out_features': 196}, 'bias': True, 'act_func': <built-in method relu of type object at 0x7f7e5cb93be0>}\n",
      "\n",
      "Adding {'type': <class 'torch.nn.modules.linear.Linear'>, 'layer_pars': {'in_features': 196, 'out_features': 49}, 'bias': True, 'act_func': <built-in method relu of type object at 0x7f7e5cb93be0>}\n",
      "\n",
      "Adding {'type': <class 'torch.nn.modules.linear.Linear'>, 'layer_pars': {'in_features': 49, 'out_features': 10}, 'bias': True, 'act_func': <built-in method relu of type object at 0x7f7e5cb93be0>}\n",
      "\n",
      "Initializing weights of Encoder with method <function xavier_normal_ at 0x7f7e0e09b830>\n",
      "\n",
      "Initializing Decoder:\n",
      "\n",
      "Adding {'type': <class 'torch.nn.modules.linear.Linear'>, 'layer_pars': {'in_features': 10, 'out_features': 49}, 'bias': True, 'act_func': <built-in method relu of type object at 0x7f7e5cb93be0>}\n",
      "\n",
      "Adding {'type': <class 'torch.nn.modules.linear.Linear'>, 'layer_pars': {'in_features': 49, 'out_features': 196}, 'bias': True, 'act_func': <built-in method relu of type object at 0x7f7e5cb93be0>}\n",
      "\n",
      "Adding {'type': <class 'torch.nn.modules.linear.Linear'>, 'layer_pars': {'in_features': 196, 'out_features': 784}, 'bias': True, 'act_func': <built-in method relu of type object at 0x7f7e5cb93be0>}\n",
      "\n",
      "Adding {'type': <class 'utils.Reshape'>, 'layer_pars': {'new_shape': array([-1,  1, 28, 28])}}\n",
      "\n",
      "Initializing weights of Decoder with method <function xavier_normal_ at 0x7f7e0e09b830>\n",
      "\n"
     ]
    }
   ],
   "source": [
    "#tb = SummaryWriter()\n",
    "\n",
    "#net = torch_net_class.Net(net_struct, dataset.get_input_size())    \n",
    "net = aenc_torch_net_class.AutoEncoder(encoder_struct=encoder_struct, decoder_struct=decoder_struct, input_size=input_size, latent_size=latent_size)\n",
    "#net.init_weights(torch.nn.init.xavier_normal_)\n",
    "net.set_batch_size(batch_size)\n",
    "#net.set_layer_sizes(layer_sizes)\n",
    "net.to(device)\n",
    "#net.show_layers()\n",
    "net_parameters = net.parameters()\n",
    "\n",
    "optimizer = optimizer_type(net_parameters, lr=lr)"
   ]
  },
  {
   "cell_type": "code",
   "execution_count": null,
   "metadata": {},
   "outputs": [
    {
     "name": "stdout",
     "output_type": "stream",
     "text": [
      "size of val set :1112\n",
      "\n",
      "size of train set :8888\n",
      "\n",
      "mean epoch 0 train loss: 3913.1615048399067\n",
      "\n",
      "mean epoch 1 train loss: 3064.008466784102\n",
      "\n",
      "mean epoch 2 train loss: 2793.3536930341747\n",
      "\n",
      "mean epoch 3 train loss: 2631.5645873879225\n",
      "\n",
      "mean epoch 4 train loss: 2535.7230297572755\n",
      "\n",
      "mean epoch 5 train loss: 2460.963669472187\n",
      "\n",
      "mean epoch 6 train loss: 2406.336803968483\n",
      "\n",
      "mean epoch 7 train loss: 2365.0586627441735\n",
      "\n",
      "mean epoch 8 train loss: 2302.9969598150383\n",
      "\n",
      "mean epoch 9 train loss: 2266.710144441263\n",
      "\n",
      "mean epoch 10 train loss: 2235.0770138775733\n",
      "\n",
      "mean epoch 10 val loss: 2238.6495536557204\n",
      "\n",
      "mean epoch 11 train loss: 2213.3945254112127\n",
      "\n",
      "mean epoch 12 train loss: 2178.580081510501\n",
      "\n",
      "mean epoch 13 train loss: 2123.2054137136356\n",
      "\n",
      "mean epoch 14 train loss: 2104.7678710635346\n",
      "\n",
      "mean epoch 15 train loss: 2088.5699578979657\n",
      "\n",
      "mean epoch 16 train loss: 2074.459463668878\n",
      "\n",
      "mean epoch 17 train loss: 2058.7973866964867\n",
      "\n",
      "mean epoch 18 train loss: 2025.2399283682946\n",
      "\n",
      "mean epoch 19 train loss: 1998.6495706917035\n",
      "\n",
      "mean epoch 20 train loss: 1987.367945486527\n",
      "\n",
      "mean epoch 20 val loss: 2027.9118064221718\n",
      "\n",
      "mean epoch 21 train loss: 1978.738853284628\n",
      "\n"
     ]
    }
   ],
   "source": [
    "\"\"\"SPECIFY OUTSIDE FOR K-FOLD VALIDATION\"\"\"\n",
    "data_loader = utils.load_split_data(dataset=dataset, batch_size=batch_size, method=val_method, method_pars=val_method_pars, random_seed=random_seed, log_file=log_file)\n",
    "\n",
    "if val_method == \"holdout\":\n",
    "    data_loader = data_loader[0]\n",
    "    test_loader = data_loader[2]\n",
    "val_loader = data_loader[1]\n",
    "train_loader = data_loader[0]\n",
    "\n",
    "val_dir = \"val/\"\n",
    "try:\n",
    "    os.makedirs(val_dir)\n",
    "except FileExistsError:\n",
    "    pass\n",
    "train_state_dir = \"net_states/\"\n",
    "try:\n",
    "    os.makedirs(train_state_dir)\n",
    "except FileExistsError:\n",
    "    pass\n",
    "\n",
    "epoch = 0\n",
    "val_i = 0\n",
    "for epoch in range(epochs):\n",
    "    \n",
    "    batch_nr = 0\n",
    "    epoch_loss = np.zeros(len(train_loader))\n",
    "    \n",
    "    \"\"\"Actual training step\"\"\"\n",
    "    for train_mini_batch in train_loader:\n",
    "        batch_loss, train_output = utils.step(net, train_mini_batch, output_size, loss_func, optimizer, device, mode=\"train\", log_file=log_file)\n",
    "        epoch_loss[batch_nr] = batch_loss.item()\n",
    "        batch_nr += 1\n",
    "    mean_epoch_loss = epoch_loss.mean()\n",
    "    train_loss[epoch] = mean_epoch_loss\n",
    "    print(f\"mean epoch {epoch} train loss: {mean_epoch_loss}\\n\")\n",
    "    \n",
    "    \n",
    "    \"\"\"save the neural networks state\"\"\"\n",
    "    if epoch in save_state_epochs:\n",
    "        train_state_epoch_file_path = train_state_dir + f\"state_epoch_{epoch}\"\n",
    "        train_state = {\"epoch\" : epoch, \"state_dict\": net.state_dict(), \"optimizer\": optimizer.state_dict()}\n",
    "        torch.save(train_state, train_state_epoch_file_path)\n",
    "        net_state_paths.append(train_state_epoch_file_path)\n",
    "        print(f\"saved model from epoch {epoch}\")\n",
    "        \n",
    "    \"\"\"\n",
    "    Validation\n",
    "    \"\"\"\n",
    "    #val_epochs = [100000]\n",
    "    if epoch in val_epochs:\n",
    "        val_label = []\n",
    "        val_pred = []\n",
    "        \n",
    "        val_batch_nr = 0\n",
    "        val_epoch_loss = np.zeros(len(val_loader))\n",
    "        \n",
    "        for val_mini_batch in val_loader:\n",
    "            label_batch = val_mini_batch[1]\n",
    "            val_label.append(label_batch.detach().cpu().numpy())\n",
    "            val_batch_loss, val_output = utils.step(net, val_mini_batch, output_size, loss_func, optimizer, device, mode=\"val\", log_file=log_file)\n",
    "            val_epoch_loss[val_batch_nr] = val_batch_loss.item()\n",
    "            val_pred.append(val_output.detach().cpu().numpy())\n",
    "            \"\"\"\n",
    "            class_batch_pred = []\n",
    "            #print(val_output)\n",
    "            for val in val_output:\n",
    "                class_index = val.argmax().detach().cpu()\n",
    "                class_batch_pred.append(class_index)\n",
    "            #print(class_batch_pred)\n",
    "            val_pred.append(class_batch_pred)\n",
    "            \"\"\"\n",
    "            val_batch_nr += 1\n",
    "            \n",
    "        mean_val_epoch_loss = val_epoch_loss.mean()\n",
    "        val_loss[val_i] = mean_val_epoch_loss\n",
    "        print(f\"mean epoch {epoch} val loss: {mean_val_epoch_loss}\\n\")\n",
    "        \n",
    "        val_i += 1\n",
    "        \n",
    "        val_pred_path = val_dir + \"/\" + f\"val_epoch_{epoch}_pred\"\n",
    "        val_label_path = val_dir + \"/\" + f\"val_epoch_{epoch}_labels\"\n",
    "        #print(np.array(functools.reduce(operator.iconcat, val_pred, [])))\n",
    "        np.array(functools.reduce(operator.iconcat, val_pred, [])).tofile(val_pred_path, sep=\" \")\n",
    "        np.array(functools.reduce(operator.iconcat, val_label, [])).tofile(val_label_path, sep=\" \")\n",
    "        #np.array(val_pred).tofile(val_pred_path)\n",
    "        #np.array(val_label).tofile(val_pred_label)\n",
    "        \n",
    "        val_pred_paths.append(val_pred_path)\n",
    "        val_label_paths.append(val_label_path)\n",
    "        \n",
    "log_file.close()"
   ]
  },
  {
   "cell_type": "code",
   "execution_count": null,
   "metadata": {},
   "outputs": [],
   "source": [
    "\"\"\"train_state_file_path = train_state_dir + f\"state_epoch_{epoch}\"\n",
    "#train_state = {\"epoch\" : epoch, \"state_dict\": net.state_dict(), \"optimizer\": optimizer.state_dict()}\n",
    "torch.save(net.state_dict(), train_state_file_path)\n",
    "net_state_paths.append(train_state_epoch_file_path)\n",
    "print(f\"saved model from epoch {epoch}\")\"\"\""
   ]
  },
  {
   "cell_type": "code",
   "execution_count": 14,
   "metadata": {},
   "outputs": [
    {
     "data": {
      "text/plain": [
       "<All keys matched successfully>"
      ]
     },
     "execution_count": 14,
     "metadata": {},
     "output_type": "execute_result"
    }
   ],
   "source": [
    "\n",
    "net_state_path = \"net_states/state_epoch_30\"\n",
    "net.load_state_dict(torch.load(net_state_path))\n",
    "#net.eval()\n"
   ]
  },
  {
   "cell_type": "code",
   "execution_count": 15,
   "metadata": {},
   "outputs": [
    {
     "data": {
      "image/png": "[encoded data removed]",
      "text/plain": [
       "<Figure size 432x288 with 1 Axes>"
      ]
     },
     "metadata": {
      "needs_background": "light"
     },
     "output_type": "display_data"
    },
    {
     "data": {
      "image/png": "[encoded data removed]",
      "text/plain": [
       "<Figure size 432x288 with 20 Axes>"
      ]
     },
     "metadata": {
      "needs_background": "light"
     },
     "output_type": "display_data"
    }
   ],
   "source": [
    "test_image, test_label = dataset[0]\n",
    "indices = np.arange(0,10)\n",
    "test_sampler = torch.utils.data.sampler.SubsetRandomSampler(indices)\n",
    "\n",
    "train_loader = torch.utils.data.DataLoader(dataset, batch_size=1, sampler=test_sampler)\n",
    "test_images = []\n",
    "outputs = []\n",
    "for test_batch in train_loader:\n",
    "    test_image = test_batch[0].to(device)\n",
    "    test_images.append(test_image)\n",
    "    plt.imshow(test_image.cpu()[0,0])\n",
    "    net.eval()\n",
    "    output = net.forward(test_image.float())\n",
    "    outputs.append(output)\n",
    "\n",
    "num_images = len(outputs)\n",
    "fig, ax = plt.subplots(2,num_images)\n",
    "for image_i in range(num_images):\n",
    "    ax[0, image_i].imshow(test_images[image_i].cpu()[0,0])\n",
    "    ax[1, image_i].imshow(outputs[image_i].detach().cpu()[0,0])"
   ]
  },
  {
   "cell_type": "code",
   "execution_count": 17,
   "metadata": {},
   "outputs": [
    {
     "data": {
      "text/plain": [
       "'latent_samples_indices = np.random.randint(low=0, high=9, size=num_samples)\\nlatent_samples = np.zeros((num_samples, latent_size))\\nlatent_samples[np.arange(num_samples),latent_samples_indices] +=1\\nlatent_samples = torch.tensor(latent_samples)\\nprint(latent_samples[0])'"
      ]
     },
     "execution_count": 17,
     "metadata": {},
     "output_type": "execute_result"
    }
   ],
   "source": [
    "num_samples = 10\n",
    "latent_samples = torch.randint(low=1, high=1000, size=(num_samples, latent_size) )\n",
    "\n",
    "\"\"\"latent_samples_indices = np.random.randint(low=0, high=9, size=num_samples)\n",
    "latent_samples = np.zeros((num_samples, latent_size))\n",
    "latent_samples[np.arange(num_samples),latent_samples_indices] +=1\n",
    "latent_samples = torch.tensor(latent_samples)\n",
    "print(latent_samples[0])\"\"\""
   ]
  },
  {
   "cell_type": "code",
   "execution_count": 18,
   "metadata": {},
   "outputs": [
    {
     "name": "stdout",
     "output_type": "stream",
     "text": [
      "torch.Size([10, 1, 28, 28])\n",
      "10\n"
     ]
    },
    {
     "data": {
      "image/png": "[encoded data removed]",
      "text/plain": [
       "<Figure size 432x288 with 10 Axes>"
      ]
     },
     "metadata": {
      "needs_background": "light"
     },
     "output_type": "display_data"
    }
   ],
   "source": [
    "output = net.decoder(latent_samples.to(device).float())\n",
    "print(output.size())\n",
    "print(len(output))\n",
    "fig, ax = plt.subplots(1,num_samples)\n",
    "for i in range(num_samples):\n",
    "    ax[i].imshow(output.detach().cpu()[i][0])\n",
    "    "
   ]
  },
  {
   "cell_type": "code",
   "execution_count": null,
   "metadata": {},
   "outputs": [],
   "source": []
  }
 ],
 "metadata": {
  "kernelspec": {
   "display_name": "Python 3",
   "language": "python",
   "name": "python3"
  },
  "language_info": {
   "codemirror_mode": {
    "name": "ipython",
    "version": 3
   },
   "file_extension": ".py",
   "mimetype": "text/x-python",
   "name": "python",
   "nbconvert_exporter": "python",
   "pygments_lexer": "ipython3",
   "version": "3.7.4"
  }
 },
 "nbformat": 4,
 "nbformat_minor": 2
}
